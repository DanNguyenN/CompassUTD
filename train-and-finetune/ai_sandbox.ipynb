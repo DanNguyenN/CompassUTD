{
 "cells": [
  {
   "attachments": {},
   "cell_type": "markdown",
   "metadata": {},
   "source": [
    "# PREPARE\n",
    "You don't need mongodb to run this notebook. You can just use ConversaionBufferMemmory instead. This is for testing purpose only.\n",
    "\n",
    "To be able to run the test in this notebook, you need a `.env` file and `google_key.json` file in this folder. The `.env` file should contain the following variables:\n",
    "\n",
    "```env\n",
    "MONGODB_LOGIN = `REPLACE`\n",
    "MONGODB_LOCATION = `REPLACE`\n",
    "\n",
    "GOOGLE_APPLICATION_CREDENTIALS = google_key.json\n",
    "GOOGLE_SEARCH_API = `REPLACE`\n",
    "COURSE_SEARCH_ID = `REPLACE`\n",
    "RANDOM_SEARCH_ID = `REPLACE`\n",
    "DEGREE_SEARCH_ID = `REPLACE`\n",
    "```\n",
    "\n"
   ]
  },
  {
   "cell_type": "markdown",
   "metadata": {},
   "source": [
    "# Run the Test"
   ]
  },
  {
   "cell_type": "markdown",
   "metadata": {},
   "source": [
    "Import module and setup the inference model"
   ]
  },
  {
   "cell_type": "code",
   "execution_count": null,
   "metadata": {},
   "outputs": [],
   "source": [
    "import os\n",
    "import sys\n",
    "from dotenv import load_dotenv\n",
    "\n",
    "load_dotenv()\n",
    "\n",
    "from rich import print\n",
    "\n",
    "import random\n",
    "import string\n",
    "\n",
    "#append the parent path to sys.path\n",
    "sys.path.append(os.path.dirname(os.getcwd()))\n",
    "\n",
    "from CompassUTD import CompassInference\n",
    "from langchain.memory import ReadOnlySharedMemory, MongoDBChatMessageHistory, ConversationBufferMemory,ConversationBufferWindowMemory\n",
    "\n",
    "\n",
    "\n",
    "agent = CompassInference()\n",
    "\n"
   ]
  },
  {
   "attachments": {},
   "cell_type": "markdown",
   "metadata": {},
   "source": [
    "### MongoDB Setup\n",
    "If you want to use memmory. Just rerun the cell below to reset the memmory"
   ]
  },
  {
   "cell_type": "code",
   "execution_count": null,
   "metadata": {},
   "outputs": [],
   "source": [
    "# Use MongoDB\n",
    "connection_string = f\"mongodb+srv://{str(os.getenv('MONGODB_LOGIN'))}@{str(os.getenv('MONGODB_LOCATION'))}\"\n",
    "\n",
    "random_letter_string = \"Test_\" + \"\".join([random.choice(string.ascii_letters) for _ in range(11)])\n",
    "\n",
    "print(random_letter_string)\n",
    "message_history = MongoDBChatMessageHistory(\n",
    "        connection_string=connection_string, session_id= random_letter_string\n",
    "    )"
   ]
  },
  {
   "cell_type": "markdown",
   "metadata": {},
   "source": [
    "### Inference\n",
    "Replace the `user_message` variable and rerun the cell below to see the result. The memory will be saved so you can run the cell below multiple times to see the result."
   ]
  },
  {
   "cell_type": "code",
   "execution_count": 5,
   "metadata": {},
   "outputs": [
    {
     "data": {
      "text/html": [
       "<pre style=\"white-space:pre;overflow-x:auto;line-height:normal;font-family:Menlo,'DejaVu Sans Mono',consolas,'Courier New',monospace\">Input: Should I take Dr. Yang Zhang or Dr. Sunil Parupati for Acct <span style=\"color: #008080; text-decoration-color: #008080; font-weight: bold\">2301</span>\n",
       "</pre>\n"
      ],
      "text/plain": [
       "Input: Should I take Dr. Yang Zhang or Dr. Sunil Parupati for Acct \u001b[1;36m2301\u001b[0m\n"
      ]
     },
     "metadata": {},
     "output_type": "display_data"
    },
    {
     "name": "stdout",
     "output_type": "stream",
     "text": [
      "\n",
      "\n",
      "\u001b[1m> Entering new  chain...\u001b[0m\n",
      "\u001b[32;1m\u001b[1;3mThought: I need to find the rating of Dr. Yang Zhang and Dr. Sunil Parupati\n",
      "Action: get professor rating and classes taught in RateMyProfessor.com(Not affiliated with UT Dallas)\n",
      "Action Input: Yang Zhang\u001b[0m\n",
      "Observation: \u001b[36;1m\u001b[1;3m{'full_name': 'Yang Zhang', 'courses_taught': [], 'rate_my_professor_rating': {'overall_rating_out_of_5': 5, 'difficulty_rating_out_of_5': 1}}\u001b[0m\n",
      "Thought:\u001b[32;1m\u001b[1;3mAction: get professor rating and classes taught in RateMyProfessor.com(Not affiliated with UT Dallas)\n",
      "Action Input: Sunil Parupati\u001b[0m\n",
      "Observation: \u001b[36;1m\u001b[1;3m{'full_name': 'Sunil Parupati', 'courses_taught': [], 'rate_my_professor_rating': {'overall_rating_out_of_5': 5, 'difficulty_rating_out_of_5': 2}}\u001b[0m\n",
      "Thought:\u001b[32;1m\u001b[1;3mFinal Answer: I recommend Dr. Yang Zhang because he has a higher overall rating and a lower difficulty rating.\u001b[0m\n",
      "\n",
      "\u001b[1m> Finished chain.\u001b[0m\n"
     ]
    },
    {
     "data": {
      "text/html": [
       "<pre style=\"white-space:pre;overflow-x:auto;line-height:normal;font-family:Menlo,'DejaVu Sans Mono',consolas,'Courier New',monospace\">Question: Should I take Dr. Yang Zhang or Dr. Sunil Parupati for Acct <span style=\"color: #008080; text-decoration-color: #008080; font-weight: bold\">2301</span>\n",
       "</pre>\n"
      ],
      "text/plain": [
       "Question: Should I take Dr. Yang Zhang or Dr. Sunil Parupati for Acct \u001b[1;36m2301\u001b[0m\n"
      ]
     },
     "metadata": {},
     "output_type": "display_data"
    },
    {
     "data": {
      "text/html": [
       "<pre style=\"white-space:pre;overflow-x:auto;line-height:normal;font-family:Menlo,'DejaVu Sans Mono',consolas,'Courier New',monospace\">Answer: I recommend Dr. Yang Zhang because he has a higher overall rating and a lower difficulty rating.\n",
       "</pre>\n"
      ],
      "text/plain": [
       "Answer: I recommend Dr. Yang Zhang because he has a higher overall rating and a lower difficulty rating.\n"
      ]
     },
     "metadata": {},
     "output_type": "display_data"
    }
   ],
   "source": [
    "user_message = \"\"\"Should I take Dr. Yang Zhang or Dr. Sunil Parupati for Acct 2301\"\"\"\n",
    "\n",
    "print(\"Input: \" + user_message)\n",
    "\n",
    "memmory_store = ConversationBufferWindowMemory(memory_key=\"chat_history\",chat_memory=message_history)\n",
    "read_only_memory = ReadOnlySharedMemory(memory=memmory_store)\n",
    "\n",
    "bot_message = agent.run(user_message = user_message, \n",
    "                        read_only_memory= ReadOnlySharedMemory(memory=read_only_memory)\n",
    "                        )\n",
    "message_history.add_user_message(user_message)\n",
    "message_history.add_ai_message(bot_message)\n",
    "print(\"Question: \" + user_message)\n",
    "print(\"Answer: \" + bot_message)\n"
   ]
  },
  {
   "cell_type": "markdown",
   "metadata": {},
   "source": [
    "### Delete the test data\n",
    "Remove the `assert False` in the cell below and run it to delete all test data from the database."
   ]
  },
  {
   "cell_type": "code",
   "execution_count": null,
   "metadata": {},
   "outputs": [],
   "source": [
    "assert False\n",
    "# Remove all tested chat history with the sessionID of \"Test_\"\n",
    "import os\n",
    "from dotenv import load_dotenv\n",
    "from pymongo.mongo_client import MongoClient\n",
    "from pymongo.server_api import ServerApi\n",
    "load_dotenv()\n",
    "\n",
    "uri = f\"mongodb+srv://{str(os.getenv('MONGODB_LOGIN'))}@{str(os.getenv('MONGODB_LOCATION'))}/?retryWrites=true&w=majority\"\n",
    "# Create a new client and connect to the server\n",
    "client = MongoClient(uri, server_api=ServerApi(version=\"1\"))\n",
    "#get the database chat_history.message_store\n",
    "db = client[\"chat_history\"]\n",
    "collection = db[\"message_store\"]\n",
    "#Find the session ID with the string \"Test_\"\n",
    "# Define the string pattern to match in the key\n",
    "string_pattern = \"Test_\"\n",
    "\n",
    "# Create a regex query to match the key\n",
    "query = { \"SessionId\": { \"$regex\": string_pattern } }\n",
    "#Find all session ID with the string \"Test_\"\n",
    "query_result = collection.delete_many(query)\n"
   ]
  },
  {
   "cell_type": "markdown",
   "metadata": {},
   "source": [
    "# Read all the messages"
   ]
  },
  {
   "cell_type": "code",
   "execution_count": 12,
   "metadata": {},
   "outputs": [
    {
     "data": {
      "text/html": [
       "<pre style=\"white-space:pre;overflow-x:auto;line-height:normal;font-family:Menlo,'DejaVu Sans Mono',consolas,'Courier New',monospace\"><span style=\"color: #008080; text-decoration-color: #008080; font-weight: bold\">758</span>\n",
       "</pre>\n"
      ],
      "text/plain": [
       "\u001b[1;36m758\u001b[0m\n"
      ]
     },
     "metadata": {},
     "output_type": "display_data"
    }
   ],
   "source": [
    "#assert False\n",
    "# Remove all tested chat history with the sessionID of \"Test_\"\n",
    "import os\n",
    "from dotenv import load_dotenv\n",
    "from pymongo.mongo_client import MongoClient\n",
    "from pymongo.server_api import ServerApi\n",
    "from langchain.memory import MongoDBChatMessageHistory\n",
    "from rich import print\n",
    "load_dotenv()\n",
    "\n",
    "uri = f\"mongodb+srv://{str(os.getenv('MONGODB_LOGIN'))}@{str(os.getenv('MONGODB_LOCATION'))}/?retryWrites=true&w=majority\"\n",
    "# Create a new client and connect to the server\n",
    "client = MongoClient(uri, server_api=ServerApi(version=\"1\"))\n",
    "#get the database chat_history.message_store\n",
    "db = client[\"chat_history\"]\n",
    "collection = db[\"message_store\"]\n",
    "\n",
    "\n",
    "#get all the distinct session ID\n",
    "sessionid_collection = collection.distinct(\"SessionId\")\n",
    "print(len(sessionid_collection))\n",
    "print(collection.count_documents({}))\n",
    "# connection_string = f\"mongodb+srv://{str(os.getenv('MONGODB_LOGIN'))}@{str(os.getenv('MONGODB_LOCATION'))}\"\n",
    "# for sessionid in sessionid_collection:\n",
    "#     message_history = MongoDBChatMessageHistory(\n",
    "#         connection_string=connection_string, session_id= sessionid\n",
    "#     )\n",
    "    "
   ]
  }
 ],
 "metadata": {
  "kernelspec": {
   "display_name": "base",
   "language": "python",
   "name": "python3"
  },
  "language_info": {
   "codemirror_mode": {
    "name": "ipython",
    "version": 3
   },
   "file_extension": ".py",
   "mimetype": "text/x-python",
   "name": "python",
   "nbconvert_exporter": "python",
   "pygments_lexer": "ipython3",
   "version": "3.10.9"
  },
  "orig_nbformat": 4
 },
 "nbformat": 4,
 "nbformat_minor": 2
}
