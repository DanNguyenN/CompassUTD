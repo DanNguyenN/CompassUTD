{
 "cells": [
  {
   "attachments": {},
   "cell_type": "markdown",
   "metadata": {},
   "source": [
    "# PREPARE\n",
    "You don't need mongodb to run this notebook. You can just use ConversaionBufferMemmory instead. This is for testing purpose only.\n",
    "\n",
    "To be able to run the test in this notebook, you need some file in `CompassUTD\\_secret\\` folder. The folder should be in the same directory as this notebook. The files are:\n",
    "\n",
    "`google_key.json`: - Google API key for Google Cloud Platform. You can get one by making a service account\n",
    "`search_secrets.json`: - Google Custom Search API key and search engine ID. You can get one by making a custom search engine with these settings:\n",
    "```\n",
    "{\n",
    "    \"GOOGLE_SEARCH_API\": \"REPlACE_WITH_YOUR_KEY\",\n",
    "    \"COURSE_SEARCH_ID\": \"REPlACE_WITH_YOUR_KEY\",\n",
    "    \"DEGREE_SEARCH_ID\": \"REPlACE_WITH_YOUR_KEY\",\n",
    "    \"RANDOM_SEARCH_ID\": \"REPlACE_WITH_YOUR_KEY\"\n",
    "  }\n",
    "```\n",
    "\n"
   ]
  },
  {
   "cell_type": "code",
   "execution_count": null,
   "metadata": {},
   "outputs": [],
   "source": [
    "import os\n",
    "import sys\n",
    "from dotenv import load_dotenv\n",
    "\n",
    "load_dotenv()\n",
    "\n",
    "from rich import print\n",
    "\n",
    "import random\n",
    "import string\n",
    "\n",
    "#append the parent path to sys.path\n",
    "sys.path.append(os.path.dirname(os.getcwd()))\n",
    "\n",
    "from CompassUTD import CompassInference\n",
    "from langchain.memory import ReadOnlySharedMemory, MongoDBChatMessageHistory, ConversationBufferMemory,ConversationBufferWindowMemory\n",
    "\n",
    "\n",
    "\n",
    "agent = CompassInference()\n",
    "\n"
   ]
  },
  {
   "attachments": {},
   "cell_type": "markdown",
   "metadata": {},
   "source": [
    "## MongoDB Test"
   ]
  },
  {
   "cell_type": "code",
   "execution_count": null,
   "metadata": {},
   "outputs": [],
   "source": [
    "# Use MongoDB\n",
    "connection_string = f\"mongodb+srv://{str(os.getenv('MONGODB_LOGIN'))}@{str(os.getenv('MONGODB_LOCATION'))}\"\n",
    "\n",
    "random_letter_string = \"Test_\" + \"\".join([random.choice(string.ascii_letters) for _ in range(11)])\n",
    "\n",
    "print(random_letter_string)\n",
    "message_history = MongoDBChatMessageHistory(\n",
    "        connection_string=connection_string, session_id= random_letter_string\n",
    "    )"
   ]
  },
  {
   "cell_type": "code",
   "execution_count": null,
   "metadata": {},
   "outputs": [],
   "source": [
    "\n",
    "memmory_store = ConversationBufferWindowMemory(memory_key=\"chat_history\",chat_memory=message_history)\n",
    "\n",
    "read_only_memory = ReadOnlySharedMemory(memory=memmory_store)\n",
    "\n",
    "# You can rerun this cell to test different messages with the same memory.\n",
    "# You can reset memory by rerun the previous cell.\n",
    "user_message = \"\"\"What is the contact information for ECS undergraduate advising?\"\"\"\n",
    "\n",
    "bot_message = agent.run(user_message = user_message, \n",
    "                        read_only_memory= ReadOnlySharedMemory(memory=read_only_memory)\n",
    "                        )\n",
    "\n",
    "print(bot_message)\n",
    "\n",
    "#Save chat history\n",
    "\n",
    "message_history.add_user_message(user_message)\n",
    "message_history.add_ai_message(bot_message)\n"
   ]
  },
  {
   "cell_type": "code",
   "execution_count": null,
   "metadata": {},
   "outputs": [],
   "source": [
    "assert False\n",
    "# Remove all tested chat history with the sessionID of \"Test_\"\n",
    "import os\n",
    "from dotenv import load_dotenv\n",
    "from pymongo.mongo_client import MongoClient\n",
    "from pymongo.server_api import ServerApi\n",
    "load_dotenv()\n",
    "\n",
    "uri = f\"mongodb+srv://{str(os.getenv('MONGODB_LOGIN'))}@{str(os.getenv('MONGODB_LOCATION'))}/?retryWrites=true&w=majority\"\n",
    "# Create a new client and connect to the server\n",
    "client = MongoClient(uri, server_api=ServerApi(version=\"1\"))\n",
    "#get the database chat_history.message_store\n",
    "db = client[\"chat_history\"]\n",
    "collection = db[\"message_store\"]\n",
    "#Find the session ID with the string \"Test_\"\n",
    "# Define the string pattern to match in the key\n",
    "string_pattern = \"Test_\"\n",
    "\n",
    "# Create a regex query to match the key\n",
    "query = { \"SessionId\": { \"$regex\": string_pattern } }\n",
    "#Find all session ID with the string \"Test_\"\n",
    "query_result = collection.delete_many(query)\n"
   ]
  }
 ],
 "metadata": {
  "kernelspec": {
   "display_name": "base",
   "language": "python",
   "name": "python3"
  },
  "language_info": {
   "codemirror_mode": {
    "name": "ipython",
    "version": 3
   },
   "file_extension": ".py",
   "mimetype": "text/x-python",
   "name": "python",
   "nbconvert_exporter": "python",
   "pygments_lexer": "ipython3",
   "version": "3.10.9"
  },
  "orig_nbformat": 4
 },
 "nbformat": 4,
 "nbformat_minor": 2
}
