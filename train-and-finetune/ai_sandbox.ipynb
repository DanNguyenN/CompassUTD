{
 "cells": [
  {
   "attachments": {},
   "cell_type": "markdown",
   "metadata": {},
   "source": [
    "# PREPARE\n",
    "You don't need mongodb to run this notebook. You can just use ConversaionBufferMemmory instead. This is for testing purpose only.\n",
    "\n",
    "To be able to run the test in this notebook, you need some file in `CompassUTD\\_secret\\` folder. The folder should be in the same directory as this notebook. The files are:\n",
    "\n",
    "`google_key.json`: - Google API key for Google Cloud Platform. You can get one by making a service account\n",
    "`search_secrets.json`: - Google Custom Search API key and search engine ID. You can get one by making a custom search engine with these settings:\n",
    "```\n",
    "{\n",
    "    \"GOOGLE_SEARCH_API\": \"REPlACE_WITH_YOUR_KEY\",\n",
    "    \"COURSE_SEARCH_ID\": \"REPlACE_WITH_YOUR_KEY\",\n",
    "    \"DEGREE_SEARCH_ID\": \"REPlACE_WITH_YOUR_KEY\",\n",
    "    \"RANDOM_SEARCH_ID\": \"REPlACE_WITH_YOUR_KEY\"\n",
    "  }\n",
    "```\n",
    "\n"
   ]
  },
  {
   "cell_type": "code",
   "execution_count": 1,
   "metadata": {},
   "outputs": [],
   "source": [
    "import os\n",
    "import sys\n",
    "from dotenv import load_dotenv\n",
    "from rich import print\n",
    "\n",
    "import random\n",
    "import string\n",
    "\n",
    "#append the parent path to sys.path\n",
    "sys.path.append(os.path.dirname(os.getcwd()))\n",
    "\n",
    "from CompassUTD import CompassInference\n",
    "from langchain.memory import ReadOnlySharedMemory, MongoDBChatMessageHistory, ConversationBufferMemory,ConversationBufferWindowMemory\n",
    "\n",
    "\n",
    "load_dotenv()\n",
    "agent = CompassInference()\n",
    "\n"
   ]
  },
  {
   "attachments": {},
   "cell_type": "markdown",
   "metadata": {},
   "source": [
    "## MongoDB Test"
   ]
  },
  {
   "cell_type": "code",
   "execution_count": 2,
   "metadata": {},
   "outputs": [
    {
     "data": {
      "text/html": [
       "<pre style=\"white-space:pre;overflow-x:auto;line-height:normal;font-family:Menlo,'DejaVu Sans Mono',consolas,'Courier New',monospace\">Test_ybLYrwBsjXE\n",
       "</pre>\n"
      ],
      "text/plain": [
       "Test_ybLYrwBsjXE\n"
      ]
     },
     "metadata": {},
     "output_type": "display_data"
    }
   ],
   "source": [
    "# Use MongoDB\n",
    "connection_string = f\"mongodb+srv://{str(os.getenv('MONGODB_LOGIN'))}@{str(os.getenv('MONGODB_LOCATION'))}\"\n",
    "\n",
    "random_letter_string = \"Test_\" + \"\".join([random.choice(string.ascii_letters) for _ in range(11)])\n",
    "\n",
    "print(random_letter_string)\n",
    "message_history = MongoDBChatMessageHistory(\n",
    "        connection_string=connection_string, session_id= random_letter_string\n",
    "    )"
   ]
  },
  {
   "cell_type": "code",
   "execution_count": 3,
   "metadata": {},
   "outputs": [
    {
     "name": "stdout",
     "output_type": "stream",
     "text": [
      "yes\n",
      "\n",
      "\n",
      "\u001b[1m> Entering new  chain...\u001b[0m\n",
      "\u001b[32;1m\u001b[1;3mThought: I don't know what you are talking about.\n",
      "Action: general_search\n",
      "Action Input: his number\u001b[0m\n",
      "Observation: \u001b[36;1m\u001b[1;3m School of Management Backs Cause in Big Numbers - News Center | The University of Texas at Dallas By | Nov. 5, 2010 SHARE: “I thought I saw some orange T-shirts over there,” junior Hye-Jin Kim said as she peered through pre-dawn darkness, hoping to spot fellow UT Dallas students arriving for the 28th Annual Susan G. Komen Race for the Cure. The 119 School of Management students who signed up for the 1K walk and 5K run fundraiser for the battle against breast cancer decided to show their solidarity — and figured they could find one another more easily — by dressing in school colors instead of in the trademark pink of the Oct. 16 event. It was peculiar, though, how much pink could look like orange at 10 to 7 in the morning, at a distance, in the glare of the parking-lot lights of NorthPark Center, where the volunteers gathered. But just when Kim planned to search a different lot, fellow junior Lloyd Paulino appeared out of the gloom. He was followed by Undergraduate Dean Marilyn Kaplan, her recently retired predecessor Mary Chaffin, and other students, faculty, staff, family members and friends, ready to make good on their commitment to the cause. In all, organizers raised just shy of $1.1 million. The race drew 21,533 participants. The school’s contingent included neophytes and experienced Race for the Cure participants, a toddler in a stroller, some serious runners, some well-dressed contenders wearing designer jeans and spiky-heeled sandals, and at least two astonished latecomers who labeled as “pure luck” their success in finding fellow team members behind the starting line minutes before the 5K began. After announcing their presence to John Barden, director of the school’s undergraduate accounting program, late arrivals Paulo Lefki and Justin Potash turned their attention to the pastel-colored fasteners each had been given to attach his registration number to his shirt. “I’m telling you, it’s a chick magnet,” Lefki said, showing off his distinctive pink clasp. “That’s because it’s an old-fashioned diaper pin,” someone pointed out to him. “It is?” he said. “A real diaper pin?” Lefki and Potash signed up for the race through Barden’s Financial Accounting class. “Regardless of the extra credit, I love to take part in this kind of extracurricular experience,” said Hye-Jin Kim, also a Barden student. “I thought it was a good idea,” Paulino said. “Walk for the Cure. How can you go wrong?” Well-known among School of Management students for connecting students to community-service projects, Barden said he was happy to encourage involvement. But he credited Kaplan as the driving force behind the successful turnout. Kaplan said the event was an educational opportunity as well as a school-spirit builder and worthy cause. Such group undertakings “engage and enrich our students,” School of Management Dean Hasan Pirkul said. “They give our students a sense of social responsibility and belonging, and strengthen their ties to the school.” Media Contact: The Office of Media Relations, UT Dallas, (972) 883-2155, newscenter@utdallas.edu. Tagged: Top Stories Comet Cricketer Takes Swing at Professional Career in New League Oscar-Winning Director, Artist To Receive Brettell Arts Award Accolades: Speech Team, Student Media Take Home State Honors Mechanical Engineering, Nonprofit Management Professors Earn Honors Scientists Discover New Molecule That Kills Hard-to-Treat Cancers Life of Mental Mapping May Build Roadblocks Against Alzheimer’s \u001b[0m\n",
      "Thought:\u001b[32;1m\u001b[1;3mI don't know what you are talking about.\n",
      "Action: general_search\n",
      "Action Input: his number\u001b[0m\n",
      "Observation: \u001b[36;1m\u001b[1;3m School of Management Backs Cause in Big Numbers - News Center | The University of Texas at Dallas By | Nov. 5, 2010 SHARE: “I thought I saw some orange T-shirts over there,” junior Hye-Jin Kim said as she peered through pre-dawn darkness, hoping to spot fellow UT Dallas students arriving for the 28th Annual Susan G. Komen Race for the Cure. The 119 School of Management students who signed up for the 1K walk and 5K run fundraiser for the battle against breast cancer decided to show their solidarity — and figured they could find one another more easily — by dressing in school colors instead of in the trademark pink of the Oct. 16 event. It was peculiar, though, how much pink could look like orange at 10 to 7 in the morning, at a distance, in the glare of the parking-lot lights of NorthPark Center, where the volunteers gathered. But just when Kim planned to search a different lot, fellow junior Lloyd Paulino appeared out of the gloom. He was followed by Undergraduate Dean Marilyn Kaplan, her recently retired predecessor Mary Chaffin, and other students, faculty, staff, family members and friends, ready to make good on their commitment to the cause. In all, organizers raised just shy of $1.1 million. The race drew 21,533 participants. The school’s contingent included neophytes and experienced Race for the Cure participants, a toddler in a stroller, some serious runners, some well-dressed contenders wearing designer jeans and spiky-heeled sandals, and at least two astonished latecomers who labeled as “pure luck” their success in finding fellow team members behind the starting line minutes before the 5K began. After announcing their presence to John Barden, director of the school’s undergraduate accounting program, late arrivals Paulo Lefki and Justin Potash turned their attention to the pastel-colored fasteners each had been given to attach his registration number to his shirt. “I’m telling you, it’s a chick magnet,” Lefki said, showing off his distinctive pink clasp. “That’s because it’s an old-fashioned diaper pin,” someone pointed out to him. “It is?” he said. “A real diaper pin?” Lefki and Potash signed up for the race through Barden’s Financial Accounting class. “Regardless of the extra credit, I love to take part in this kind of extracurricular experience,” said Hye-Jin Kim, also a Barden student. “I thought it was a good idea,” Paulino said. “Walk for the Cure. How can you go wrong?” Well-known among School of Management students for connecting students to community-service projects, Barden said he was happy to encourage involvement. But he credited Kaplan as the driving force behind the successful turnout. Kaplan said the event was an educational opportunity as well as a school-spirit builder and worthy cause. Such group undertakings “engage and enrich our students,” School of Management Dean Hasan Pirkul said. “They give our students a sense of social responsibility and belonging, and strengthen their ties to the school.” Media Contact: The Office of Media Relations, UT Dallas, (972) 883-2155, newscenter@utdallas.edu. Tagged: Top Stories Comet Cricketer Takes Swing at Professional Career in New League Oscar-Winning Director, Artist To Receive Brettell Arts Award Accolades: Speech Team, Student Media Take Home State Honors Mechanical Engineering, Nonprofit Management Professors Earn Honors Scientists Discover New Molecule That Kills Hard-to-Treat Cancers Life of Mental Mapping May Build Roadblocks Against Alzheimer’s \u001b[0m\n",
      "Thought:"
     ]
    },
    {
     "data": {
      "text/html": [
       "<pre style=\"white-space:pre;overflow-x:auto;line-height:normal;font-family:Menlo,'DejaVu Sans Mono',consolas,'Courier New',monospace\">I'm sorry, I don't have access to that information.\n",
       "</pre>\n"
      ],
      "text/plain": [
       "I'm sorry, I don't have access to that information.\n"
      ]
     },
     "metadata": {},
     "output_type": "display_data"
    }
   ],
   "source": [
    "\n",
    "memmory_store = ConversationBufferWindowMemory(memory_key=\"chat_history\",chat_memory=message_history)\n",
    "\n",
    "read_only_memory = ReadOnlySharedMemory(memory=memmory_store)\n",
    "\n",
    "\n",
    "#If you want to make a new chat query with same memory, replace the user_message with next message and run this cell\n",
    "#user_message = \"Could you elaborate\"\n",
    "#user_message = \"What is the difference between Math 2419 and Math 2417?\"\n",
    "#user_message = \"What is Math 2419\"\n",
    "#user_message = \"Who is the president of UTD?\"\n",
    "#user_message = \"What is the class CS 2305 at UT Dallas?\"\n",
    "#user_message = \"\"\"What does student think of him?\"\"\"\n",
    "user_message = \"\"\"What is his number?\"\"\"\n",
    "\n",
    "bot_message = agent.run(user_message = user_message, \n",
    "                        read_only_memory= ReadOnlySharedMemory(memory=read_only_memory)\n",
    "                        )\n",
    "\n",
    "print(bot_message)\n",
    "\n",
    "#Save chat history\n",
    "\n",
    "message_history.add_user_message(user_message)\n",
    "message_history.add_ai_message(bot_message)\n"
   ]
  },
  {
   "cell_type": "code",
   "execution_count": 4,
   "metadata": {},
   "outputs": [
    {
     "ename": "AssertionError",
     "evalue": "",
     "output_type": "error",
     "traceback": [
      "\u001b[1;31m---------------------------------------------------------------------------\u001b[0m",
      "\u001b[1;31mAssertionError\u001b[0m                            Traceback (most recent call last)",
      "Cell \u001b[1;32mIn[4], line 1\u001b[0m\n\u001b[1;32m----> 1\u001b[0m \u001b[39massert\u001b[39;00m \u001b[39mFalse\u001b[39;00m\n\u001b[0;32m      2\u001b[0m \u001b[39m# Remove the session ID from the database\u001b[39;00m\n\u001b[0;32m      3\u001b[0m \u001b[39mfrom\u001b[39;00m \u001b[39mpymongo\u001b[39;00m\u001b[39m.\u001b[39;00m\u001b[39mmongo_client\u001b[39;00m \u001b[39mimport\u001b[39;00m MongoClient\n",
      "\u001b[1;31mAssertionError\u001b[0m: "
     ]
    }
   ],
   "source": [
    "assert False\n",
    "# Remove all tested chat history with the sessionID of \"Test_\"\n",
    "from pymongo.mongo_client import MongoClient\n",
    "from pymongo.server_api import ServerApi\n",
    "\n",
    "uri = f\"mongodb+srv://{str(os.getenv('MONGODB_LOGIN'))}@{str(os.getenv('MONGODB_LOCATION'))}/?retryWrites=true&w=majority\"\n",
    "# Create a new client and connect to the server\n",
    "client = MongoClient(uri, server_api=ServerApi(version=\"1\"))\n",
    "#get the database chat_history.message_store\n",
    "db = client[\"chat_history\"]\n",
    "collection = db[\"message_store\"]\n",
    "#Find the session ID with the string \"Test_\"\n",
    "# Define the string pattern to match in the key\n",
    "string_pattern = \"Test_\"\n",
    "\n",
    "# Create a regex query to match the key\n",
    "query = { \"SessionId\": { \"$regex\": string_pattern } }\n",
    "#Find all session ID with the string \"Test_\"\n",
    "query_result = collection.delete_many(query)\n"
   ]
  },
  {
   "cell_type": "code",
   "execution_count": null,
   "metadata": {},
   "outputs": [
    {
     "data": {
      "text/html": [
       "<pre style=\"white-space:pre;overflow-x:auto;line-height:normal;font-family:Menlo,'DejaVu Sans Mono',consolas,'Courier New',monospace\"><span style=\"font-weight: bold\">{</span>\n",
       "    <span style=\"color: #008000; text-decoration-color: #008000\">'_id'</span>: <span style=\"color: #800080; text-decoration-color: #800080; font-weight: bold\">ObjectId</span><span style=\"font-weight: bold\">(</span><span style=\"color: #008000; text-decoration-color: #008000\">'64aafe7cff888b0faa6532dd'</span><span style=\"font-weight: bold\">)</span>,\n",
       "    <span style=\"color: #008000; text-decoration-color: #008000\">'SessionId'</span>: <span style=\"color: #008000; text-decoration-color: #008000\">'ATest_GTest_fTest_PTest_hTest_fTest_aTest_YTest_XTest_BTest_G'</span>,\n",
       "    <span style=\"color: #008000; text-decoration-color: #008000\">'History'</span>: <span style=\"color: #008000; text-decoration-color: #008000\">'{\"type\": \"human\", \"data\": {\"content\": \"How can I contact him?\", \"additional_kwargs\": {}, \"example\":</span>\n",
       "<span style=\"color: #008000; text-decoration-color: #008000\">false}}'</span>\n",
       "<span style=\"font-weight: bold\">}</span>\n",
       "</pre>\n"
      ],
      "text/plain": [
       "\u001b[1m{\u001b[0m\n",
       "    \u001b[32m'_id'\u001b[0m: \u001b[1;35mObjectId\u001b[0m\u001b[1m(\u001b[0m\u001b[32m'64aafe7cff888b0faa6532dd'\u001b[0m\u001b[1m)\u001b[0m,\n",
       "    \u001b[32m'SessionId'\u001b[0m: \u001b[32m'ATest_GTest_fTest_PTest_hTest_fTest_aTest_YTest_XTest_BTest_G'\u001b[0m,\n",
       "    \u001b[32m'History'\u001b[0m: \u001b[32m'\u001b[0m\u001b[32m{\u001b[0m\u001b[32m\"type\": \"human\", \"data\": \u001b[0m\u001b[32m{\u001b[0m\u001b[32m\"content\": \"How can I contact him?\", \"additional_kwargs\": \u001b[0m\u001b[32m{\u001b[0m\u001b[32m}\u001b[0m\u001b[32m, \"example\":\u001b[0m\n",
       "\u001b[32mfalse\u001b[0m\u001b[32m}\u001b[0m\u001b[32m}\u001b[0m\u001b[32m'\u001b[0m\n",
       "\u001b[1m}\u001b[0m\n"
      ]
     },
     "metadata": {},
     "output_type": "display_data"
    },
    {
     "data": {
      "text/html": [
       "<pre style=\"white-space:pre;overflow-x:auto;line-height:normal;font-family:Menlo,'DejaVu Sans Mono',consolas,'Courier New',monospace\"><span style=\"font-weight: bold\">{</span>\n",
       "    <span style=\"color: #008000; text-decoration-color: #008000\">'_id'</span>: <span style=\"color: #800080; text-decoration-color: #800080; font-weight: bold\">ObjectId</span><span style=\"font-weight: bold\">(</span><span style=\"color: #008000; text-decoration-color: #008000\">'64aafe7cff888b0faa6532de'</span><span style=\"font-weight: bold\">)</span>,\n",
       "    <span style=\"color: #008000; text-decoration-color: #008000\">'SessionId'</span>: <span style=\"color: #008000; text-decoration-color: #008000\">'ATest_GTest_fTest_PTest_hTest_fTest_aTest_YTest_XTest_BTest_G'</span>,\n",
       "    <span style=\"color: #008000; text-decoration-color: #008000\">'History'</span>: <span style=\"color: #008000; text-decoration-color: #008000\">'{\"type\": \"ai\", \"data\": {\"content\": \"I\\'m sorry, but I don\\'t know who he is. Can you give me more </span>\n",
       "<span style=\"color: #008000; text-decoration-color: #008000\">information?\", \"additional_kwargs\": {}, \"example\": false}}'</span>\n",
       "<span style=\"font-weight: bold\">}</span>\n",
       "</pre>\n"
      ],
      "text/plain": [
       "\u001b[1m{\u001b[0m\n",
       "    \u001b[32m'_id'\u001b[0m: \u001b[1;35mObjectId\u001b[0m\u001b[1m(\u001b[0m\u001b[32m'64aafe7cff888b0faa6532de'\u001b[0m\u001b[1m)\u001b[0m,\n",
       "    \u001b[32m'SessionId'\u001b[0m: \u001b[32m'ATest_GTest_fTest_PTest_hTest_fTest_aTest_YTest_XTest_BTest_G'\u001b[0m,\n",
       "    \u001b[32m'History'\u001b[0m: \u001b[32m'\u001b[0m\u001b[32m{\u001b[0m\u001b[32m\"type\": \"ai\", \"data\": \u001b[0m\u001b[32m{\u001b[0m\u001b[32m\"content\": \"I\\'m sorry, but I don\\'t know who he is. Can you give me more \u001b[0m\n",
       "\u001b[32minformation?\", \"additional_kwargs\": \u001b[0m\u001b[32m{\u001b[0m\u001b[32m}\u001b[0m\u001b[32m, \"example\": false\u001b[0m\u001b[32m}\u001b[0m\u001b[32m}\u001b[0m\u001b[32m'\u001b[0m\n",
       "\u001b[1m}\u001b[0m\n"
      ]
     },
     "metadata": {},
     "output_type": "display_data"
    },
    {
     "data": {
      "text/html": [
       "<pre style=\"white-space:pre;overflow-x:auto;line-height:normal;font-family:Menlo,'DejaVu Sans Mono',consolas,'Courier New',monospace\"><span style=\"font-weight: bold\">{</span>\n",
       "    <span style=\"color: #008000; text-decoration-color: #008000\">'_id'</span>: <span style=\"color: #800080; text-decoration-color: #800080; font-weight: bold\">ObjectId</span><span style=\"font-weight: bold\">(</span><span style=\"color: #008000; text-decoration-color: #008000\">'64aafe9bff888b0faa6532df'</span><span style=\"font-weight: bold\">)</span>,\n",
       "    <span style=\"color: #008000; text-decoration-color: #008000\">'SessionId'</span>: <span style=\"color: #008000; text-decoration-color: #008000\">'ATest_GTest_fTest_PTest_hTest_fTest_aTest_YTest_XTest_BTest_G'</span>,\n",
       "    <span style=\"color: #008000; text-decoration-color: #008000\">'History'</span>: <span style=\"color: #008000; text-decoration-color: #008000\">'{\"type\": \"human\", \"data\": {\"content\": \"Dr. Vincent Ng\", \"additional_kwargs\": {}, \"example\": </span>\n",
       "<span style=\"color: #008000; text-decoration-color: #008000\">false}}'</span>\n",
       "<span style=\"font-weight: bold\">}</span>\n",
       "</pre>\n"
      ],
      "text/plain": [
       "\u001b[1m{\u001b[0m\n",
       "    \u001b[32m'_id'\u001b[0m: \u001b[1;35mObjectId\u001b[0m\u001b[1m(\u001b[0m\u001b[32m'64aafe9bff888b0faa6532df'\u001b[0m\u001b[1m)\u001b[0m,\n",
       "    \u001b[32m'SessionId'\u001b[0m: \u001b[32m'ATest_GTest_fTest_PTest_hTest_fTest_aTest_YTest_XTest_BTest_G'\u001b[0m,\n",
       "    \u001b[32m'History'\u001b[0m: \u001b[32m'\u001b[0m\u001b[32m{\u001b[0m\u001b[32m\"type\": \"human\", \"data\": \u001b[0m\u001b[32m{\u001b[0m\u001b[32m\"content\": \"Dr. Vincent Ng\", \"additional_kwargs\": \u001b[0m\u001b[32m{\u001b[0m\u001b[32m}\u001b[0m\u001b[32m, \"example\": \u001b[0m\n",
       "\u001b[32mfalse\u001b[0m\u001b[32m}\u001b[0m\u001b[32m}\u001b[0m\u001b[32m'\u001b[0m\n",
       "\u001b[1m}\u001b[0m\n"
      ]
     },
     "metadata": {},
     "output_type": "display_data"
    },
    {
     "data": {
      "text/html": [
       "<pre style=\"white-space:pre;overflow-x:auto;line-height:normal;font-family:Menlo,'DejaVu Sans Mono',consolas,'Courier New',monospace\"><span style=\"font-weight: bold\">{</span>\n",
       "    <span style=\"color: #008000; text-decoration-color: #008000\">'_id'</span>: <span style=\"color: #800080; text-decoration-color: #800080; font-weight: bold\">ObjectId</span><span style=\"font-weight: bold\">(</span><span style=\"color: #008000; text-decoration-color: #008000\">'64aafe9bff888b0faa6532e0'</span><span style=\"font-weight: bold\">)</span>,\n",
       "    <span style=\"color: #008000; text-decoration-color: #008000\">'SessionId'</span>: <span style=\"color: #008000; text-decoration-color: #008000\">'ATest_GTest_fTest_PTest_hTest_fTest_aTest_YTest_XTest_BTest_G'</span>,\n",
       "    <span style=\"color: #008000; text-decoration-color: #008000\">'History'</span>: <span style=\"color: #008000; text-decoration-color: #008000\">'{\"type\": \"ai\", \"data\": {\"content\": \"I\\'m sorry, but I don\\'t have access to contact information for</span>\n",
       "<span style=\"color: #008000; text-decoration-color: #008000\">Dr. Vincent Ng. Can I help you find someone else?\", \"additional_kwargs\": {}, \"example\": false}}'</span>\n",
       "<span style=\"font-weight: bold\">}</span>\n",
       "</pre>\n"
      ],
      "text/plain": [
       "\u001b[1m{\u001b[0m\n",
       "    \u001b[32m'_id'\u001b[0m: \u001b[1;35mObjectId\u001b[0m\u001b[1m(\u001b[0m\u001b[32m'64aafe9bff888b0faa6532e0'\u001b[0m\u001b[1m)\u001b[0m,\n",
       "    \u001b[32m'SessionId'\u001b[0m: \u001b[32m'ATest_GTest_fTest_PTest_hTest_fTest_aTest_YTest_XTest_BTest_G'\u001b[0m,\n",
       "    \u001b[32m'History'\u001b[0m: \u001b[32m'\u001b[0m\u001b[32m{\u001b[0m\u001b[32m\"type\": \"ai\", \"data\": \u001b[0m\u001b[32m{\u001b[0m\u001b[32m\"content\": \"I\\'m sorry, but I don\\'t have access to contact information for\u001b[0m\n",
       "\u001b[32mDr. Vincent Ng. Can I help you find someone else?\", \"additional_kwargs\": \u001b[0m\u001b[32m{\u001b[0m\u001b[32m}\u001b[0m\u001b[32m, \"example\": false\u001b[0m\u001b[32m}\u001b[0m\u001b[32m}\u001b[0m\u001b[32m'\u001b[0m\n",
       "\u001b[1m}\u001b[0m\n"
      ]
     },
     "metadata": {},
     "output_type": "display_data"
    },
    {
     "data": {
      "text/html": [
       "<pre style=\"white-space:pre;overflow-x:auto;line-height:normal;font-family:Menlo,'DejaVu Sans Mono',consolas,'Courier New',monospace\"><span style=\"font-weight: bold\">{</span>\n",
       "    <span style=\"color: #008000; text-decoration-color: #008000\">'_id'</span>: <span style=\"color: #800080; text-decoration-color: #800080; font-weight: bold\">ObjectId</span><span style=\"font-weight: bold\">(</span><span style=\"color: #008000; text-decoration-color: #008000\">'64aaf5310556d4ce49f02ef2'</span><span style=\"font-weight: bold\">)</span>,\n",
       "    <span style=\"color: #008000; text-decoration-color: #008000\">'SessionId'</span>: <span style=\"color: #008000; text-decoration-color: #008000\">'ATest_aTest_STest_XTest_TTest_HTest_aTest_nTest_jTest_wTest_E'</span>,\n",
       "    <span style=\"color: #008000; text-decoration-color: #008000\">'History'</span>: <span style=\"color: #008000; text-decoration-color: #008000\">'{\"type\": \"human\", \"data\": {\"content\": \"Who is the president of UT Dallas?\", \"additional_kwargs\": </span>\n",
       "<span style=\"color: #008000; text-decoration-color: #008000\">{}, \"example\": false}}'</span>\n",
       "<span style=\"font-weight: bold\">}</span>\n",
       "</pre>\n"
      ],
      "text/plain": [
       "\u001b[1m{\u001b[0m\n",
       "    \u001b[32m'_id'\u001b[0m: \u001b[1;35mObjectId\u001b[0m\u001b[1m(\u001b[0m\u001b[32m'64aaf5310556d4ce49f02ef2'\u001b[0m\u001b[1m)\u001b[0m,\n",
       "    \u001b[32m'SessionId'\u001b[0m: \u001b[32m'ATest_aTest_STest_XTest_TTest_HTest_aTest_nTest_jTest_wTest_E'\u001b[0m,\n",
       "    \u001b[32m'History'\u001b[0m: \u001b[32m'\u001b[0m\u001b[32m{\u001b[0m\u001b[32m\"type\": \"human\", \"data\": \u001b[0m\u001b[32m{\u001b[0m\u001b[32m\"content\": \"Who is the president of UT Dallas?\", \"additional_kwargs\": \u001b[0m\n",
       "\u001b[32m{\u001b[0m\u001b[32m}\u001b[0m\u001b[32m, \"example\": false\u001b[0m\u001b[32m}\u001b[0m\u001b[32m}\u001b[0m\u001b[32m'\u001b[0m\n",
       "\u001b[1m}\u001b[0m\n"
      ]
     },
     "metadata": {},
     "output_type": "display_data"
    },
    {
     "data": {
      "text/html": [
       "<pre style=\"white-space:pre;overflow-x:auto;line-height:normal;font-family:Menlo,'DejaVu Sans Mono',consolas,'Courier New',monospace\"><span style=\"font-weight: bold\">{</span>\n",
       "    <span style=\"color: #008000; text-decoration-color: #008000\">'_id'</span>: <span style=\"color: #800080; text-decoration-color: #800080; font-weight: bold\">ObjectId</span><span style=\"font-weight: bold\">(</span><span style=\"color: #008000; text-decoration-color: #008000\">'64aaf5310556d4ce49f02ef3'</span><span style=\"font-weight: bold\">)</span>,\n",
       "    <span style=\"color: #008000; text-decoration-color: #008000\">'SessionId'</span>: <span style=\"color: #008000; text-decoration-color: #008000\">'ATest_aTest_STest_XTest_TTest_HTest_aTest_nTest_jTest_wTest_E'</span>,\n",
       "    <span style=\"color: #008000; text-decoration-color: #008000\">'History'</span>: <span style=\"color: #008000; text-decoration-color: #008000\">'{\"type\": \"ai\", \"data\": {\"content\": \"The president of UT Dallas is Dr. Richard C. Benson.\", </span>\n",
       "<span style=\"color: #008000; text-decoration-color: #008000\">\"additional_kwargs\": {}, \"example\": false}}'</span>\n",
       "<span style=\"font-weight: bold\">}</span>\n",
       "</pre>\n"
      ],
      "text/plain": [
       "\u001b[1m{\u001b[0m\n",
       "    \u001b[32m'_id'\u001b[0m: \u001b[1;35mObjectId\u001b[0m\u001b[1m(\u001b[0m\u001b[32m'64aaf5310556d4ce49f02ef3'\u001b[0m\u001b[1m)\u001b[0m,\n",
       "    \u001b[32m'SessionId'\u001b[0m: \u001b[32m'ATest_aTest_STest_XTest_TTest_HTest_aTest_nTest_jTest_wTest_E'\u001b[0m,\n",
       "    \u001b[32m'History'\u001b[0m: \u001b[32m'\u001b[0m\u001b[32m{\u001b[0m\u001b[32m\"type\": \"ai\", \"data\": \u001b[0m\u001b[32m{\u001b[0m\u001b[32m\"content\": \"The president of UT Dallas is Dr. Richard C. Benson.\", \u001b[0m\n",
       "\u001b[32m\"additional_kwargs\": \u001b[0m\u001b[32m{\u001b[0m\u001b[32m}\u001b[0m\u001b[32m, \"example\": false\u001b[0m\u001b[32m}\u001b[0m\u001b[32m}\u001b[0m\u001b[32m'\u001b[0m\n",
       "\u001b[1m}\u001b[0m\n"
      ]
     },
     "metadata": {},
     "output_type": "display_data"
    },
    {
     "data": {
      "text/html": [
       "<pre style=\"white-space:pre;overflow-x:auto;line-height:normal;font-family:Menlo,'DejaVu Sans Mono',consolas,'Courier New',monospace\"><span style=\"font-weight: bold\">{</span>\n",
       "    <span style=\"color: #008000; text-decoration-color: #008000\">'_id'</span>: <span style=\"color: #800080; text-decoration-color: #800080; font-weight: bold\">ObjectId</span><span style=\"font-weight: bold\">(</span><span style=\"color: #008000; text-decoration-color: #008000\">'64aaf5460556d4ce49f02ef4'</span><span style=\"font-weight: bold\">)</span>,\n",
       "    <span style=\"color: #008000; text-decoration-color: #008000\">'SessionId'</span>: <span style=\"color: #008000; text-decoration-color: #008000\">'ATest_aTest_STest_XTest_TTest_HTest_aTest_nTest_jTest_wTest_E'</span>,\n",
       "    <span style=\"color: #008000; text-decoration-color: #008000\">'History'</span>: <span style=\"color: #008000; text-decoration-color: #008000\">'{\"type\": \"human\", \"data\": {\"content\": \"Who is the president?\", \"additional_kwargs\": {}, \"example\": </span>\n",
       "<span style=\"color: #008000; text-decoration-color: #008000\">false}}'</span>\n",
       "<span style=\"font-weight: bold\">}</span>\n",
       "</pre>\n"
      ],
      "text/plain": [
       "\u001b[1m{\u001b[0m\n",
       "    \u001b[32m'_id'\u001b[0m: \u001b[1;35mObjectId\u001b[0m\u001b[1m(\u001b[0m\u001b[32m'64aaf5460556d4ce49f02ef4'\u001b[0m\u001b[1m)\u001b[0m,\n",
       "    \u001b[32m'SessionId'\u001b[0m: \u001b[32m'ATest_aTest_STest_XTest_TTest_HTest_aTest_nTest_jTest_wTest_E'\u001b[0m,\n",
       "    \u001b[32m'History'\u001b[0m: \u001b[32m'\u001b[0m\u001b[32m{\u001b[0m\u001b[32m\"type\": \"human\", \"data\": \u001b[0m\u001b[32m{\u001b[0m\u001b[32m\"content\": \"Who is the president?\", \"additional_kwargs\": \u001b[0m\u001b[32m{\u001b[0m\u001b[32m}\u001b[0m\u001b[32m, \"example\": \u001b[0m\n",
       "\u001b[32mfalse\u001b[0m\u001b[32m}\u001b[0m\u001b[32m}\u001b[0m\u001b[32m'\u001b[0m\n",
       "\u001b[1m}\u001b[0m\n"
      ]
     },
     "metadata": {},
     "output_type": "display_data"
    },
    {
     "data": {
      "text/html": [
       "<pre style=\"white-space:pre;overflow-x:auto;line-height:normal;font-family:Menlo,'DejaVu Sans Mono',consolas,'Courier New',monospace\"><span style=\"font-weight: bold\">{</span>\n",
       "    <span style=\"color: #008000; text-decoration-color: #008000\">'_id'</span>: <span style=\"color: #800080; text-decoration-color: #800080; font-weight: bold\">ObjectId</span><span style=\"font-weight: bold\">(</span><span style=\"color: #008000; text-decoration-color: #008000\">'64aaf5460556d4ce49f02ef5'</span><span style=\"font-weight: bold\">)</span>,\n",
       "    <span style=\"color: #008000; text-decoration-color: #008000\">'SessionId'</span>: <span style=\"color: #008000; text-decoration-color: #008000\">'ATest_aTest_STest_XTest_TTest_HTest_aTest_nTest_jTest_wTest_E'</span>,\n",
       "    <span style=\"color: #008000; text-decoration-color: #008000\">'History'</span>: <span style=\"color: #008000; text-decoration-color: #008000\">'{\"type\": \"ai\", \"data\": {\"content\": \"That\\'s a great question. The president of UT Dallas is Dr. </span>\n",
       "<span style=\"color: #008000; text-decoration-color: #008000\">Richard C. Benson. He has been in this role since 2015. Prior to that, he was the provost and vice president for </span>\n",
       "<span style=\"color: #008000; text-decoration-color: #008000\">academic affairs at the University of North Carolina at Charlotte.\", \"additional_kwargs\": {}, \"example\": false}}'</span>\n",
       "<span style=\"font-weight: bold\">}</span>\n",
       "</pre>\n"
      ],
      "text/plain": [
       "\u001b[1m{\u001b[0m\n",
       "    \u001b[32m'_id'\u001b[0m: \u001b[1;35mObjectId\u001b[0m\u001b[1m(\u001b[0m\u001b[32m'64aaf5460556d4ce49f02ef5'\u001b[0m\u001b[1m)\u001b[0m,\n",
       "    \u001b[32m'SessionId'\u001b[0m: \u001b[32m'ATest_aTest_STest_XTest_TTest_HTest_aTest_nTest_jTest_wTest_E'\u001b[0m,\n",
       "    \u001b[32m'History'\u001b[0m: \u001b[32m'\u001b[0m\u001b[32m{\u001b[0m\u001b[32m\"type\": \"ai\", \"data\": \u001b[0m\u001b[32m{\u001b[0m\u001b[32m\"content\": \"That\\'s a great question. The president of UT Dallas is Dr. \u001b[0m\n",
       "\u001b[32mRichard C. Benson. He has been in this role since 2015. Prior to that, he was the provost and vice president for \u001b[0m\n",
       "\u001b[32macademic affairs at the University of North Carolina at Charlotte.\", \"additional_kwargs\": \u001b[0m\u001b[32m{\u001b[0m\u001b[32m}\u001b[0m\u001b[32m, \"example\": false\u001b[0m\u001b[32m}\u001b[0m\u001b[32m}\u001b[0m\u001b[32m'\u001b[0m\n",
       "\u001b[1m}\u001b[0m\n"
      ]
     },
     "metadata": {},
     "output_type": "display_data"
    },
    {
     "data": {
      "text/html": [
       "<pre style=\"white-space:pre;overflow-x:auto;line-height:normal;font-family:Menlo,'DejaVu Sans Mono',consolas,'Courier New',monospace\"><span style=\"font-weight: bold\">{</span>\n",
       "    <span style=\"color: #008000; text-decoration-color: #008000\">'_id'</span>: <span style=\"color: #800080; text-decoration-color: #800080; font-weight: bold\">ObjectId</span><span style=\"font-weight: bold\">(</span><span style=\"color: #008000; text-decoration-color: #008000\">'64aafbf2b5075d5fd0b965c4'</span><span style=\"font-weight: bold\">)</span>,\n",
       "    <span style=\"color: #008000; text-decoration-color: #008000\">'SessionId'</span>: <span style=\"color: #008000; text-decoration-color: #008000\">'ATest_cTest_fTest_OTest_JTest_rTest_ETest_FTest_YTest_oTest_D'</span>,\n",
       "    <span style=\"color: #008000; text-decoration-color: #008000\">'History'</span>: <span style=\"color: #008000; text-decoration-color: #008000\">'{\"type\": \"human\", \"data\": {\"content\": \"What is the difference between Math 2419 and Math 2417?\", </span>\n",
       "<span style=\"color: #008000; text-decoration-color: #008000\">\"additional_kwargs\": {}, \"example\": false}}'</span>\n",
       "<span style=\"font-weight: bold\">}</span>\n",
       "</pre>\n"
      ],
      "text/plain": [
       "\u001b[1m{\u001b[0m\n",
       "    \u001b[32m'_id'\u001b[0m: \u001b[1;35mObjectId\u001b[0m\u001b[1m(\u001b[0m\u001b[32m'64aafbf2b5075d5fd0b965c4'\u001b[0m\u001b[1m)\u001b[0m,\n",
       "    \u001b[32m'SessionId'\u001b[0m: \u001b[32m'ATest_cTest_fTest_OTest_JTest_rTest_ETest_FTest_YTest_oTest_D'\u001b[0m,\n",
       "    \u001b[32m'History'\u001b[0m: \u001b[32m'\u001b[0m\u001b[32m{\u001b[0m\u001b[32m\"type\": \"human\", \"data\": \u001b[0m\u001b[32m{\u001b[0m\u001b[32m\"content\": \"What is the difference between Math 2419 and Math 2417?\", \u001b[0m\n",
       "\u001b[32m\"additional_kwargs\": \u001b[0m\u001b[32m{\u001b[0m\u001b[32m}\u001b[0m\u001b[32m, \"example\": false\u001b[0m\u001b[32m}\u001b[0m\u001b[32m}\u001b[0m\u001b[32m'\u001b[0m\n",
       "\u001b[1m}\u001b[0m\n"
      ]
     },
     "metadata": {},
     "output_type": "display_data"
    },
    {
     "data": {
      "text/html": [
       "<pre style=\"white-space:pre;overflow-x:auto;line-height:normal;font-family:Menlo,'DejaVu Sans Mono',consolas,'Courier New',monospace\"><span style=\"font-weight: bold\">{</span>\n",
       "    <span style=\"color: #008000; text-decoration-color: #008000\">'_id'</span>: <span style=\"color: #800080; text-decoration-color: #800080; font-weight: bold\">ObjectId</span><span style=\"font-weight: bold\">(</span><span style=\"color: #008000; text-decoration-color: #008000\">'64aafbf2b5075d5fd0b965c5'</span><span style=\"font-weight: bold\">)</span>,\n",
       "    <span style=\"color: #008000; text-decoration-color: #008000\">'SessionId'</span>: <span style=\"color: #008000; text-decoration-color: #008000\">'ATest_cTest_fTest_OTest_JTest_rTest_ETest_FTest_YTest_oTest_D'</span>,\n",
       "    <span style=\"color: #008000; text-decoration-color: #008000\">'History'</span>: <span style=\"color: #008000; text-decoration-color: #008000\">'{\"type\": \"ai\", \"data\": {\"content\": \"Math 2419 is a continuation of Math 2417. It covers improper </span>\n",
       "<span style=\"color: #008000; text-decoration-color: #008000\">integrals, sequences, infinite series, power series, parametric equations and polar coordinates, vectors, vector </span>\n",
       "<span style=\"color: #008000; text-decoration-color: #008000\">valued functions, functions of several variables, partial derivatives and applications, and multiple integration.\",</span>\n",
       "<span style=\"color: #008000; text-decoration-color: #008000\">\"additional_kwargs\": {}, \"example\": false}}'</span>\n",
       "<span style=\"font-weight: bold\">}</span>\n",
       "</pre>\n"
      ],
      "text/plain": [
       "\u001b[1m{\u001b[0m\n",
       "    \u001b[32m'_id'\u001b[0m: \u001b[1;35mObjectId\u001b[0m\u001b[1m(\u001b[0m\u001b[32m'64aafbf2b5075d5fd0b965c5'\u001b[0m\u001b[1m)\u001b[0m,\n",
       "    \u001b[32m'SessionId'\u001b[0m: \u001b[32m'ATest_cTest_fTest_OTest_JTest_rTest_ETest_FTest_YTest_oTest_D'\u001b[0m,\n",
       "    \u001b[32m'History'\u001b[0m: \u001b[32m'\u001b[0m\u001b[32m{\u001b[0m\u001b[32m\"type\": \"ai\", \"data\": \u001b[0m\u001b[32m{\u001b[0m\u001b[32m\"content\": \"Math 2419 is a continuation of Math 2417. It covers improper \u001b[0m\n",
       "\u001b[32mintegrals, sequences, infinite series, power series, parametric equations and polar coordinates, vectors, vector \u001b[0m\n",
       "\u001b[32mvalued functions, functions of several variables, partial derivatives and applications, and multiple integration.\",\u001b[0m\n",
       "\u001b[32m\"additional_kwargs\": \u001b[0m\u001b[32m{\u001b[0m\u001b[32m}\u001b[0m\u001b[32m, \"example\": false\u001b[0m\u001b[32m}\u001b[0m\u001b[32m}\u001b[0m\u001b[32m'\u001b[0m\n",
       "\u001b[1m}\u001b[0m\n"
      ]
     },
     "metadata": {},
     "output_type": "display_data"
    },
    {
     "data": {
      "text/html": [
       "<pre style=\"white-space:pre;overflow-x:auto;line-height:normal;font-family:Menlo,'DejaVu Sans Mono',consolas,'Courier New',monospace\"><span style=\"font-weight: bold\">{</span>\n",
       "    <span style=\"color: #008000; text-decoration-color: #008000\">'_id'</span>: <span style=\"color: #800080; text-decoration-color: #800080; font-weight: bold\">ObjectId</span><span style=\"font-weight: bold\">(</span><span style=\"color: #008000; text-decoration-color: #008000\">'64aafde9ff888b0faa6532d8'</span><span style=\"font-weight: bold\">)</span>,\n",
       "    <span style=\"color: #008000; text-decoration-color: #008000\">'SessionId'</span>: <span style=\"color: #008000; text-decoration-color: #008000\">'CTest_TTest_pTest_VTest_HTest_XTest_nTest_GTest_aTest_FTest_F'</span>,\n",
       "    <span style=\"color: #008000; text-decoration-color: #008000\">'History'</span>: <span style=\"color: #008000; text-decoration-color: #008000\">'{\"type\": \"human\", \"data\": {\"content\": \"Who is the president of UTD?\", \"additional_kwargs\": {}, </span>\n",
       "<span style=\"color: #008000; text-decoration-color: #008000\">\"example\": false}}'</span>\n",
       "<span style=\"font-weight: bold\">}</span>\n",
       "</pre>\n"
      ],
      "text/plain": [
       "\u001b[1m{\u001b[0m\n",
       "    \u001b[32m'_id'\u001b[0m: \u001b[1;35mObjectId\u001b[0m\u001b[1m(\u001b[0m\u001b[32m'64aafde9ff888b0faa6532d8'\u001b[0m\u001b[1m)\u001b[0m,\n",
       "    \u001b[32m'SessionId'\u001b[0m: \u001b[32m'CTest_TTest_pTest_VTest_HTest_XTest_nTest_GTest_aTest_FTest_F'\u001b[0m,\n",
       "    \u001b[32m'History'\u001b[0m: \u001b[32m'\u001b[0m\u001b[32m{\u001b[0m\u001b[32m\"type\": \"human\", \"data\": \u001b[0m\u001b[32m{\u001b[0m\u001b[32m\"content\": \"Who is the president of UTD?\", \"additional_kwargs\": \u001b[0m\u001b[32m{\u001b[0m\u001b[32m}\u001b[0m\u001b[32m, \u001b[0m\n",
       "\u001b[32m\"example\": false\u001b[0m\u001b[32m}\u001b[0m\u001b[32m}\u001b[0m\u001b[32m'\u001b[0m\n",
       "\u001b[1m}\u001b[0m\n"
      ]
     },
     "metadata": {},
     "output_type": "display_data"
    },
    {
     "data": {
      "text/html": [
       "<pre style=\"white-space:pre;overflow-x:auto;line-height:normal;font-family:Menlo,'DejaVu Sans Mono',consolas,'Courier New',monospace\"><span style=\"font-weight: bold\">{</span>\n",
       "    <span style=\"color: #008000; text-decoration-color: #008000\">'_id'</span>: <span style=\"color: #800080; text-decoration-color: #800080; font-weight: bold\">ObjectId</span><span style=\"font-weight: bold\">(</span><span style=\"color: #008000; text-decoration-color: #008000\">'64aafde9ff888b0faa6532d9'</span><span style=\"font-weight: bold\">)</span>,\n",
       "    <span style=\"color: #008000; text-decoration-color: #008000\">'SessionId'</span>: <span style=\"color: #008000; text-decoration-color: #008000\">'CTest_TTest_pTest_VTest_HTest_XTest_nTest_GTest_aTest_FTest_F'</span>,\n",
       "    <span style=\"color: #008000; text-decoration-color: #008000\">'History'</span>: <span style=\"color: #008000; text-decoration-color: #008000\">'{\"type\": \"ai\", \"data\": {\"content\": \"The president of UTD is Dr. Richard C. Benson.\", </span>\n",
       "<span style=\"color: #008000; text-decoration-color: #008000\">\"additional_kwargs\": {}, \"example\": false}}'</span>\n",
       "<span style=\"font-weight: bold\">}</span>\n",
       "</pre>\n"
      ],
      "text/plain": [
       "\u001b[1m{\u001b[0m\n",
       "    \u001b[32m'_id'\u001b[0m: \u001b[1;35mObjectId\u001b[0m\u001b[1m(\u001b[0m\u001b[32m'64aafde9ff888b0faa6532d9'\u001b[0m\u001b[1m)\u001b[0m,\n",
       "    \u001b[32m'SessionId'\u001b[0m: \u001b[32m'CTest_TTest_pTest_VTest_HTest_XTest_nTest_GTest_aTest_FTest_F'\u001b[0m,\n",
       "    \u001b[32m'History'\u001b[0m: \u001b[32m'\u001b[0m\u001b[32m{\u001b[0m\u001b[32m\"type\": \"ai\", \"data\": \u001b[0m\u001b[32m{\u001b[0m\u001b[32m\"content\": \"The president of UTD is Dr. Richard C. Benson.\", \u001b[0m\n",
       "\u001b[32m\"additional_kwargs\": \u001b[0m\u001b[32m{\u001b[0m\u001b[32m}\u001b[0m\u001b[32m, \"example\": false\u001b[0m\u001b[32m}\u001b[0m\u001b[32m}\u001b[0m\u001b[32m'\u001b[0m\n",
       "\u001b[1m}\u001b[0m\n"
      ]
     },
     "metadata": {},
     "output_type": "display_data"
    },
    {
     "data": {
      "text/html": [
       "<pre style=\"white-space:pre;overflow-x:auto;line-height:normal;font-family:Menlo,'DejaVu Sans Mono',consolas,'Courier New',monospace\"><span style=\"font-weight: bold\">{</span>\n",
       "    <span style=\"color: #008000; text-decoration-color: #008000\">'_id'</span>: <span style=\"color: #800080; text-decoration-color: #800080; font-weight: bold\">ObjectId</span><span style=\"font-weight: bold\">(</span><span style=\"color: #008000; text-decoration-color: #008000\">'64aafdf5ff888b0faa6532da'</span><span style=\"font-weight: bold\">)</span>,\n",
       "    <span style=\"color: #008000; text-decoration-color: #008000\">'SessionId'</span>: <span style=\"color: #008000; text-decoration-color: #008000\">'CTest_TTest_pTest_VTest_HTest_XTest_nTest_GTest_aTest_FTest_F'</span>,\n",
       "    <span style=\"color: #008000; text-decoration-color: #008000\">'History'</span>: <span style=\"color: #008000; text-decoration-color: #008000\">'{\"type\": \"human\", \"data\": {\"content\": \"How can I contact him?\", \"additional_kwargs\": {}, \"example\":</span>\n",
       "<span style=\"color: #008000; text-decoration-color: #008000\">false}}'</span>\n",
       "<span style=\"font-weight: bold\">}</span>\n",
       "</pre>\n"
      ],
      "text/plain": [
       "\u001b[1m{\u001b[0m\n",
       "    \u001b[32m'_id'\u001b[0m: \u001b[1;35mObjectId\u001b[0m\u001b[1m(\u001b[0m\u001b[32m'64aafdf5ff888b0faa6532da'\u001b[0m\u001b[1m)\u001b[0m,\n",
       "    \u001b[32m'SessionId'\u001b[0m: \u001b[32m'CTest_TTest_pTest_VTest_HTest_XTest_nTest_GTest_aTest_FTest_F'\u001b[0m,\n",
       "    \u001b[32m'History'\u001b[0m: \u001b[32m'\u001b[0m\u001b[32m{\u001b[0m\u001b[32m\"type\": \"human\", \"data\": \u001b[0m\u001b[32m{\u001b[0m\u001b[32m\"content\": \"How can I contact him?\", \"additional_kwargs\": \u001b[0m\u001b[32m{\u001b[0m\u001b[32m}\u001b[0m\u001b[32m, \"example\":\u001b[0m\n",
       "\u001b[32mfalse\u001b[0m\u001b[32m}\u001b[0m\u001b[32m}\u001b[0m\u001b[32m'\u001b[0m\n",
       "\u001b[1m}\u001b[0m\n"
      ]
     },
     "metadata": {},
     "output_type": "display_data"
    },
    {
     "data": {
      "text/html": [
       "<pre style=\"white-space:pre;overflow-x:auto;line-height:normal;font-family:Menlo,'DejaVu Sans Mono',consolas,'Courier New',monospace\"><span style=\"font-weight: bold\">{</span>\n",
       "    <span style=\"color: #008000; text-decoration-color: #008000\">'_id'</span>: <span style=\"color: #800080; text-decoration-color: #800080; font-weight: bold\">ObjectId</span><span style=\"font-weight: bold\">(</span><span style=\"color: #008000; text-decoration-color: #008000\">'64aafdf5ff888b0faa6532db'</span><span style=\"font-weight: bold\">)</span>,\n",
       "    <span style=\"color: #008000; text-decoration-color: #008000\">'SessionId'</span>: <span style=\"color: #008000; text-decoration-color: #008000\">'CTest_TTest_pTest_VTest_HTest_XTest_nTest_GTest_aTest_FTest_F'</span>,\n",
       "    <span style=\"color: #008000; text-decoration-color: #008000\">'History'</span>: <span style=\"color: #008000; text-decoration-color: #008000\">'{\"type\": \"ai\", \"data\": {\"content\": \"I\\'m sorry, but I don\\'t have access to the president\\'s </span>\n",
       "<span style=\"color: #008000; text-decoration-color: #008000\">contact information. You can try contacting the Office of the President.\", \"additional_kwargs\": {}, \"example\": </span>\n",
       "<span style=\"color: #008000; text-decoration-color: #008000\">false}}'</span>\n",
       "<span style=\"font-weight: bold\">}</span>\n",
       "</pre>\n"
      ],
      "text/plain": [
       "\u001b[1m{\u001b[0m\n",
       "    \u001b[32m'_id'\u001b[0m: \u001b[1;35mObjectId\u001b[0m\u001b[1m(\u001b[0m\u001b[32m'64aafdf5ff888b0faa6532db'\u001b[0m\u001b[1m)\u001b[0m,\n",
       "    \u001b[32m'SessionId'\u001b[0m: \u001b[32m'CTest_TTest_pTest_VTest_HTest_XTest_nTest_GTest_aTest_FTest_F'\u001b[0m,\n",
       "    \u001b[32m'History'\u001b[0m: \u001b[32m'\u001b[0m\u001b[32m{\u001b[0m\u001b[32m\"type\": \"ai\", \"data\": \u001b[0m\u001b[32m{\u001b[0m\u001b[32m\"content\": \"I\\'m sorry, but I don\\'t have access to the president\\'s \u001b[0m\n",
       "\u001b[32mcontact information. You can try contacting the Office of the President.\", \"additional_kwargs\": \u001b[0m\u001b[32m{\u001b[0m\u001b[32m}\u001b[0m\u001b[32m, \"example\": \u001b[0m\n",
       "\u001b[32mfalse\u001b[0m\u001b[32m}\u001b[0m\u001b[32m}\u001b[0m\u001b[32m'\u001b[0m\n",
       "\u001b[1m}\u001b[0m\n"
      ]
     },
     "metadata": {},
     "output_type": "display_data"
    },
    {
     "data": {
      "text/html": [
       "<pre style=\"white-space:pre;overflow-x:auto;line-height:normal;font-family:Menlo,'DejaVu Sans Mono',consolas,'Courier New',monospace\"><span style=\"font-weight: bold\">{</span>\n",
       "    <span style=\"color: #008000; text-decoration-color: #008000\">'_id'</span>: <span style=\"color: #800080; text-decoration-color: #800080; font-weight: bold\">ObjectId</span><span style=\"font-weight: bold\">(</span><span style=\"color: #008000; text-decoration-color: #008000\">'64ab15f15abeafd8c259d1ec'</span><span style=\"font-weight: bold\">)</span>,\n",
       "    <span style=\"color: #008000; text-decoration-color: #008000\">'SessionId'</span>: <span style=\"color: #008000; text-decoration-color: #008000\">'ETest_nTest_tTest_YTest_rTest_VTest_FTest_jTest_HTest_sTest_A'</span>,\n",
       "    <span style=\"color: #008000; text-decoration-color: #008000\">'History'</span>: <span style=\"color: #008000; text-decoration-color: #008000\">'{\"type\": \"human\", \"data\": {\"content\": \"Who is Dr. Vincent Ng?\", \"additional_kwargs\": {}, \"example\":</span>\n",
       "<span style=\"color: #008000; text-decoration-color: #008000\">false}}'</span>\n",
       "<span style=\"font-weight: bold\">}</span>\n",
       "</pre>\n"
      ],
      "text/plain": [
       "\u001b[1m{\u001b[0m\n",
       "    \u001b[32m'_id'\u001b[0m: \u001b[1;35mObjectId\u001b[0m\u001b[1m(\u001b[0m\u001b[32m'64ab15f15abeafd8c259d1ec'\u001b[0m\u001b[1m)\u001b[0m,\n",
       "    \u001b[32m'SessionId'\u001b[0m: \u001b[32m'ETest_nTest_tTest_YTest_rTest_VTest_FTest_jTest_HTest_sTest_A'\u001b[0m,\n",
       "    \u001b[32m'History'\u001b[0m: \u001b[32m'\u001b[0m\u001b[32m{\u001b[0m\u001b[32m\"type\": \"human\", \"data\": \u001b[0m\u001b[32m{\u001b[0m\u001b[32m\"content\": \"Who is Dr. Vincent Ng?\", \"additional_kwargs\": \u001b[0m\u001b[32m{\u001b[0m\u001b[32m}\u001b[0m\u001b[32m, \"example\":\u001b[0m\n",
       "\u001b[32mfalse\u001b[0m\u001b[32m}\u001b[0m\u001b[32m}\u001b[0m\u001b[32m'\u001b[0m\n",
       "\u001b[1m}\u001b[0m\n"
      ]
     },
     "metadata": {},
     "output_type": "display_data"
    },
    {
     "data": {
      "text/html": [
       "<pre style=\"white-space:pre;overflow-x:auto;line-height:normal;font-family:Menlo,'DejaVu Sans Mono',consolas,'Courier New',monospace\"><span style=\"font-weight: bold\">{</span>\n",
       "    <span style=\"color: #008000; text-decoration-color: #008000\">'_id'</span>: <span style=\"color: #800080; text-decoration-color: #800080; font-weight: bold\">ObjectId</span><span style=\"font-weight: bold\">(</span><span style=\"color: #008000; text-decoration-color: #008000\">'64ab15f15abeafd8c259d1ed'</span><span style=\"font-weight: bold\">)</span>,\n",
       "    <span style=\"color: #008000; text-decoration-color: #008000\">'SessionId'</span>: <span style=\"color: #008000; text-decoration-color: #008000\">'ETest_nTest_tTest_YTest_rTest_VTest_FTest_jTest_HTest_sTest_A'</span>,\n",
       "    <span style=\"color: #008000; text-decoration-color: #008000\">'History'</span>: <span style=\"color: #008000; text-decoration-color: #008000\">'{\"type\": \"ai\", \"data\": {\"content\": \"Vincent Ng is a professor of computer science at the University</span>\n",
       "<span style=\"color: #008000; text-decoration-color: #008000\">of Texas at Dallas. He is also the director of the Human Language Technology Research Institute. His research </span>\n",
       "<span style=\"color: #008000; text-decoration-color: #008000\">interests include natural language processing, machine learning, and artificial intelligence.\", </span>\n",
       "<span style=\"color: #008000; text-decoration-color: #008000\">\"additional_kwargs\": {}, \"example\": false}}'</span>\n",
       "<span style=\"font-weight: bold\">}</span>\n",
       "</pre>\n"
      ],
      "text/plain": [
       "\u001b[1m{\u001b[0m\n",
       "    \u001b[32m'_id'\u001b[0m: \u001b[1;35mObjectId\u001b[0m\u001b[1m(\u001b[0m\u001b[32m'64ab15f15abeafd8c259d1ed'\u001b[0m\u001b[1m)\u001b[0m,\n",
       "    \u001b[32m'SessionId'\u001b[0m: \u001b[32m'ETest_nTest_tTest_YTest_rTest_VTest_FTest_jTest_HTest_sTest_A'\u001b[0m,\n",
       "    \u001b[32m'History'\u001b[0m: \u001b[32m'\u001b[0m\u001b[32m{\u001b[0m\u001b[32m\"type\": \"ai\", \"data\": \u001b[0m\u001b[32m{\u001b[0m\u001b[32m\"content\": \"Vincent Ng is a professor of computer science at the University\u001b[0m\n",
       "\u001b[32mof Texas at Dallas. He is also the director of the Human Language Technology Research Institute. His research \u001b[0m\n",
       "\u001b[32minterests include natural language processing, machine learning, and artificial intelligence.\", \u001b[0m\n",
       "\u001b[32m\"additional_kwargs\": \u001b[0m\u001b[32m{\u001b[0m\u001b[32m}\u001b[0m\u001b[32m, \"example\": false\u001b[0m\u001b[32m}\u001b[0m\u001b[32m}\u001b[0m\u001b[32m'\u001b[0m\n",
       "\u001b[1m}\u001b[0m\n"
      ]
     },
     "metadata": {},
     "output_type": "display_data"
    },
    {
     "data": {
      "text/html": [
       "<pre style=\"white-space:pre;overflow-x:auto;line-height:normal;font-family:Menlo,'DejaVu Sans Mono',consolas,'Courier New',monospace\"><span style=\"font-weight: bold\">{</span>\n",
       "    <span style=\"color: #008000; text-decoration-color: #008000\">'_id'</span>: <span style=\"color: #800080; text-decoration-color: #800080; font-weight: bold\">ObjectId</span><span style=\"font-weight: bold\">(</span><span style=\"color: #008000; text-decoration-color: #008000\">'64ab166d5abeafd8c259d1ee'</span><span style=\"font-weight: bold\">)</span>,\n",
       "    <span style=\"color: #008000; text-decoration-color: #008000\">'SessionId'</span>: <span style=\"color: #008000; text-decoration-color: #008000\">'ETest_nTest_tTest_YTest_rTest_VTest_FTest_jTest_HTest_sTest_A'</span>,\n",
       "    <span style=\"color: #008000; text-decoration-color: #008000\">'History'</span>: <span style=\"color: #008000; text-decoration-color: #008000\">'{\"type\": \"human\", \"data\": {\"content\": \"What is the class CS 2305?\", \"additional_kwargs\": {}, </span>\n",
       "<span style=\"color: #008000; text-decoration-color: #008000\">\"example\": false}}'</span>\n",
       "<span style=\"font-weight: bold\">}</span>\n",
       "</pre>\n"
      ],
      "text/plain": [
       "\u001b[1m{\u001b[0m\n",
       "    \u001b[32m'_id'\u001b[0m: \u001b[1;35mObjectId\u001b[0m\u001b[1m(\u001b[0m\u001b[32m'64ab166d5abeafd8c259d1ee'\u001b[0m\u001b[1m)\u001b[0m,\n",
       "    \u001b[32m'SessionId'\u001b[0m: \u001b[32m'ETest_nTest_tTest_YTest_rTest_VTest_FTest_jTest_HTest_sTest_A'\u001b[0m,\n",
       "    \u001b[32m'History'\u001b[0m: \u001b[32m'\u001b[0m\u001b[32m{\u001b[0m\u001b[32m\"type\": \"human\", \"data\": \u001b[0m\u001b[32m{\u001b[0m\u001b[32m\"content\": \"What is the class CS 2305?\", \"additional_kwargs\": \u001b[0m\u001b[32m{\u001b[0m\u001b[32m}\u001b[0m\u001b[32m, \u001b[0m\n",
       "\u001b[32m\"example\": false\u001b[0m\u001b[32m}\u001b[0m\u001b[32m}\u001b[0m\u001b[32m'\u001b[0m\n",
       "\u001b[1m}\u001b[0m\n"
      ]
     },
     "metadata": {},
     "output_type": "display_data"
    },
    {
     "data": {
      "text/html": [
       "<pre style=\"white-space:pre;overflow-x:auto;line-height:normal;font-family:Menlo,'DejaVu Sans Mono',consolas,'Courier New',monospace\"><span style=\"font-weight: bold\">{</span>\n",
       "    <span style=\"color: #008000; text-decoration-color: #008000\">'_id'</span>: <span style=\"color: #800080; text-decoration-color: #800080; font-weight: bold\">ObjectId</span><span style=\"font-weight: bold\">(</span><span style=\"color: #008000; text-decoration-color: #008000\">'64ab166d5abeafd8c259d1ef'</span><span style=\"font-weight: bold\">)</span>,\n",
       "    <span style=\"color: #008000; text-decoration-color: #008000\">'SessionId'</span>: <span style=\"color: #008000; text-decoration-color: #008000\">'ETest_nTest_tTest_YTest_rTest_VTest_FTest_jTest_HTest_sTest_A'</span>,\n",
       "    <span style=\"color: #008000; text-decoration-color: #008000\">'History'</span>: <span style=\"color: #008000; text-decoration-color: #008000\">'{\"type\": \"ai\", \"data\": {\"content\": \"CS 2305 is a course called Discrete Mathematics for </span>\n",
       "<span style=\"color: #008000; text-decoration-color: #008000\">Computing.\", \"additional_kwargs\": {}, \"example\": false}}'</span>\n",
       "<span style=\"font-weight: bold\">}</span>\n",
       "</pre>\n"
      ],
      "text/plain": [
       "\u001b[1m{\u001b[0m\n",
       "    \u001b[32m'_id'\u001b[0m: \u001b[1;35mObjectId\u001b[0m\u001b[1m(\u001b[0m\u001b[32m'64ab166d5abeafd8c259d1ef'\u001b[0m\u001b[1m)\u001b[0m,\n",
       "    \u001b[32m'SessionId'\u001b[0m: \u001b[32m'ETest_nTest_tTest_YTest_rTest_VTest_FTest_jTest_HTest_sTest_A'\u001b[0m,\n",
       "    \u001b[32m'History'\u001b[0m: \u001b[32m'\u001b[0m\u001b[32m{\u001b[0m\u001b[32m\"type\": \"ai\", \"data\": \u001b[0m\u001b[32m{\u001b[0m\u001b[32m\"content\": \"CS 2305 is a course called Discrete Mathematics for \u001b[0m\n",
       "\u001b[32mComputing.\", \"additional_kwargs\": \u001b[0m\u001b[32m{\u001b[0m\u001b[32m}\u001b[0m\u001b[32m, \"example\": false\u001b[0m\u001b[32m}\u001b[0m\u001b[32m}\u001b[0m\u001b[32m'\u001b[0m\n",
       "\u001b[1m}\u001b[0m\n"
      ]
     },
     "metadata": {},
     "output_type": "display_data"
    },
    {
     "data": {
      "text/html": [
       "<pre style=\"white-space:pre;overflow-x:auto;line-height:normal;font-family:Menlo,'DejaVu Sans Mono',consolas,'Courier New',monospace\"><span style=\"font-weight: bold\">{</span>\n",
       "    <span style=\"color: #008000; text-decoration-color: #008000\">'_id'</span>: <span style=\"color: #800080; text-decoration-color: #800080; font-weight: bold\">ObjectId</span><span style=\"font-weight: bold\">(</span><span style=\"color: #008000; text-decoration-color: #008000\">'64ab16c55abeafd8c259d1f0'</span><span style=\"font-weight: bold\">)</span>,\n",
       "    <span style=\"color: #008000; text-decoration-color: #008000\">'SessionId'</span>: <span style=\"color: #008000; text-decoration-color: #008000\">'ETest_nTest_tTest_YTest_rTest_VTest_FTest_jTest_HTest_sTest_A'</span>,\n",
       "    <span style=\"color: #008000; text-decoration-color: #008000\">'History'</span>: <span style=\"color: #008000; text-decoration-color: #008000\">'{\"type\": \"human\", \"data\": {\"content\": \"What is the class CS 2305 at UT Dallas?\", </span>\n",
       "<span style=\"color: #008000; text-decoration-color: #008000\">\"additional_kwargs\": {}, \"example\": false}}'</span>\n",
       "<span style=\"font-weight: bold\">}</span>\n",
       "</pre>\n"
      ],
      "text/plain": [
       "\u001b[1m{\u001b[0m\n",
       "    \u001b[32m'_id'\u001b[0m: \u001b[1;35mObjectId\u001b[0m\u001b[1m(\u001b[0m\u001b[32m'64ab16c55abeafd8c259d1f0'\u001b[0m\u001b[1m)\u001b[0m,\n",
       "    \u001b[32m'SessionId'\u001b[0m: \u001b[32m'ETest_nTest_tTest_YTest_rTest_VTest_FTest_jTest_HTest_sTest_A'\u001b[0m,\n",
       "    \u001b[32m'History'\u001b[0m: \u001b[32m'\u001b[0m\u001b[32m{\u001b[0m\u001b[32m\"type\": \"human\", \"data\": \u001b[0m\u001b[32m{\u001b[0m\u001b[32m\"content\": \"What is the class CS 2305 at UT Dallas?\", \u001b[0m\n",
       "\u001b[32m\"additional_kwargs\": \u001b[0m\u001b[32m{\u001b[0m\u001b[32m}\u001b[0m\u001b[32m, \"example\": false\u001b[0m\u001b[32m}\u001b[0m\u001b[32m}\u001b[0m\u001b[32m'\u001b[0m\n",
       "\u001b[1m}\u001b[0m\n"
      ]
     },
     "metadata": {},
     "output_type": "display_data"
    },
    {
     "data": {
      "text/html": [
       "<pre style=\"white-space:pre;overflow-x:auto;line-height:normal;font-family:Menlo,'DejaVu Sans Mono',consolas,'Courier New',monospace\"><span style=\"font-weight: bold\">{</span>\n",
       "    <span style=\"color: #008000; text-decoration-color: #008000\">'_id'</span>: <span style=\"color: #800080; text-decoration-color: #800080; font-weight: bold\">ObjectId</span><span style=\"font-weight: bold\">(</span><span style=\"color: #008000; text-decoration-color: #008000\">'64ab16c55abeafd8c259d1f1'</span><span style=\"font-weight: bold\">)</span>,\n",
       "    <span style=\"color: #008000; text-decoration-color: #008000\">'SessionId'</span>: <span style=\"color: #008000; text-decoration-color: #008000\">'ETest_nTest_tTest_YTest_rTest_VTest_FTest_jTest_HTest_sTest_A'</span>,\n",
       "    <span style=\"color: #008000; text-decoration-color: #008000\">'History'</span>: <span style=\"color: #008000; text-decoration-color: #008000\">'{\"type\": \"ai\", \"data\": {\"content\": \"CS 2305 is a course called Discrete Mathematics for </span>\n",
       "<span style=\"color: #008000; text-decoration-color: #008000\">Computing.\", \"additional_kwargs\": {}, \"example\": false}}'</span>\n",
       "<span style=\"font-weight: bold\">}</span>\n",
       "</pre>\n"
      ],
      "text/plain": [
       "\u001b[1m{\u001b[0m\n",
       "    \u001b[32m'_id'\u001b[0m: \u001b[1;35mObjectId\u001b[0m\u001b[1m(\u001b[0m\u001b[32m'64ab16c55abeafd8c259d1f1'\u001b[0m\u001b[1m)\u001b[0m,\n",
       "    \u001b[32m'SessionId'\u001b[0m: \u001b[32m'ETest_nTest_tTest_YTest_rTest_VTest_FTest_jTest_HTest_sTest_A'\u001b[0m,\n",
       "    \u001b[32m'History'\u001b[0m: \u001b[32m'\u001b[0m\u001b[32m{\u001b[0m\u001b[32m\"type\": \"ai\", \"data\": \u001b[0m\u001b[32m{\u001b[0m\u001b[32m\"content\": \"CS 2305 is a course called Discrete Mathematics for \u001b[0m\n",
       "\u001b[32mComputing.\", \"additional_kwargs\": \u001b[0m\u001b[32m{\u001b[0m\u001b[32m}\u001b[0m\u001b[32m, \"example\": false\u001b[0m\u001b[32m}\u001b[0m\u001b[32m}\u001b[0m\u001b[32m'\u001b[0m\n",
       "\u001b[1m}\u001b[0m\n"
      ]
     },
     "metadata": {},
     "output_type": "display_data"
    },
    {
     "data": {
      "text/html": [
       "<pre style=\"white-space:pre;overflow-x:auto;line-height:normal;font-family:Menlo,'DejaVu Sans Mono',consolas,'Courier New',monospace\"><span style=\"font-weight: bold\">{</span>\n",
       "    <span style=\"color: #008000; text-decoration-color: #008000\">'_id'</span>: <span style=\"color: #800080; text-decoration-color: #800080; font-weight: bold\">ObjectId</span><span style=\"font-weight: bold\">(</span><span style=\"color: #008000; text-decoration-color: #008000\">'64ab17af5abeafd8c259d1f2'</span><span style=\"font-weight: bold\">)</span>,\n",
       "    <span style=\"color: #008000; text-decoration-color: #008000\">'SessionId'</span>: <span style=\"color: #008000; text-decoration-color: #008000\">'ETest_nTest_tTest_YTest_rTest_VTest_FTest_jTest_HTest_sTest_A'</span>,\n",
       "    <span style=\"color: #008000; text-decoration-color: #008000\">'History'</span>: <span style=\"color: #008000; text-decoration-color: #008000\">'{\"type\": \"human\", \"data\": {\"content\": \"Where can I find club for Psychology?\", \"additional_kwargs\":</span>\n",
       "<span style=\"color: #008000; text-decoration-color: #008000\">{}, \"example\": false}}'</span>\n",
       "<span style=\"font-weight: bold\">}</span>\n",
       "</pre>\n"
      ],
      "text/plain": [
       "\u001b[1m{\u001b[0m\n",
       "    \u001b[32m'_id'\u001b[0m: \u001b[1;35mObjectId\u001b[0m\u001b[1m(\u001b[0m\u001b[32m'64ab17af5abeafd8c259d1f2'\u001b[0m\u001b[1m)\u001b[0m,\n",
       "    \u001b[32m'SessionId'\u001b[0m: \u001b[32m'ETest_nTest_tTest_YTest_rTest_VTest_FTest_jTest_HTest_sTest_A'\u001b[0m,\n",
       "    \u001b[32m'History'\u001b[0m: \u001b[32m'\u001b[0m\u001b[32m{\u001b[0m\u001b[32m\"type\": \"human\", \"data\": \u001b[0m\u001b[32m{\u001b[0m\u001b[32m\"content\": \"Where can I find club for Psychology?\", \"additional_kwargs\":\u001b[0m\n",
       "\u001b[32m{\u001b[0m\u001b[32m}\u001b[0m\u001b[32m, \"example\": false\u001b[0m\u001b[32m}\u001b[0m\u001b[32m}\u001b[0m\u001b[32m'\u001b[0m\n",
       "\u001b[1m}\u001b[0m\n"
      ]
     },
     "metadata": {},
     "output_type": "display_data"
    },
    {
     "data": {
      "text/html": [
       "<pre style=\"white-space:pre;overflow-x:auto;line-height:normal;font-family:Menlo,'DejaVu Sans Mono',consolas,'Courier New',monospace\"><span style=\"font-weight: bold\">{</span>\n",
       "    <span style=\"color: #008000; text-decoration-color: #008000\">'_id'</span>: <span style=\"color: #800080; text-decoration-color: #800080; font-weight: bold\">ObjectId</span><span style=\"font-weight: bold\">(</span><span style=\"color: #008000; text-decoration-color: #008000\">'64ab17af5abeafd8c259d1f3'</span><span style=\"font-weight: bold\">)</span>,\n",
       "    <span style=\"color: #008000; text-decoration-color: #008000\">'SessionId'</span>: <span style=\"color: #008000; text-decoration-color: #008000\">'ETest_nTest_tTest_YTest_rTest_VTest_FTest_jTest_HTest_sTest_A'</span>,\n",
       "    <span style=\"color: #008000; text-decoration-color: #008000\">'History'</span>: <span style=\"color: #008000; text-decoration-color: #008000\">'{\"type\": \"ai\", \"data\": {\"content\": \"There is a club called Psychology Movie Club - Psych IDEA </span>\n",
       "<span style=\"color: #008000; text-decoration-color: #008000\">group.\", \"additional_kwargs\": {}, \"example\": false}}'</span>\n",
       "<span style=\"font-weight: bold\">}</span>\n",
       "</pre>\n"
      ],
      "text/plain": [
       "\u001b[1m{\u001b[0m\n",
       "    \u001b[32m'_id'\u001b[0m: \u001b[1;35mObjectId\u001b[0m\u001b[1m(\u001b[0m\u001b[32m'64ab17af5abeafd8c259d1f3'\u001b[0m\u001b[1m)\u001b[0m,\n",
       "    \u001b[32m'SessionId'\u001b[0m: \u001b[32m'ETest_nTest_tTest_YTest_rTest_VTest_FTest_jTest_HTest_sTest_A'\u001b[0m,\n",
       "    \u001b[32m'History'\u001b[0m: \u001b[32m'\u001b[0m\u001b[32m{\u001b[0m\u001b[32m\"type\": \"ai\", \"data\": \u001b[0m\u001b[32m{\u001b[0m\u001b[32m\"content\": \"There is a club called Psychology Movie Club - Psych IDEA \u001b[0m\n",
       "\u001b[32mgroup.\", \"additional_kwargs\": \u001b[0m\u001b[32m{\u001b[0m\u001b[32m}\u001b[0m\u001b[32m, \"example\": false\u001b[0m\u001b[32m}\u001b[0m\u001b[32m}\u001b[0m\u001b[32m'\u001b[0m\n",
       "\u001b[1m}\u001b[0m\n"
      ]
     },
     "metadata": {},
     "output_type": "display_data"
    },
    {
     "data": {
      "text/html": [
       "<pre style=\"white-space:pre;overflow-x:auto;line-height:normal;font-family:Menlo,'DejaVu Sans Mono',consolas,'Courier New',monospace\"><span style=\"font-weight: bold\">{</span>\n",
       "    <span style=\"color: #008000; text-decoration-color: #008000\">'_id'</span>: <span style=\"color: #800080; text-decoration-color: #800080; font-weight: bold\">ObjectId</span><span style=\"font-weight: bold\">(</span><span style=\"color: #008000; text-decoration-color: #008000\">'64ab18055abeafd8c259d1f4'</span><span style=\"font-weight: bold\">)</span>,\n",
       "    <span style=\"color: #008000; text-decoration-color: #008000\">'SessionId'</span>: <span style=\"color: #008000; text-decoration-color: #008000\">'ETest_nTest_tTest_YTest_rTest_VTest_FTest_jTest_HTest_sTest_A'</span>,\n",
       "    <span style=\"color: #008000; text-decoration-color: #008000\">'History'</span>: <span style=\"color: #008000; text-decoration-color: #008000\">'{\"type\": \"human\", \"data\": {\"content\": \"How can I contact Dr. Vincent Ng?\", \"additional_kwargs\": {},</span>\n",
       "<span style=\"color: #008000; text-decoration-color: #008000\">\"example\": false}}'</span>\n",
       "<span style=\"font-weight: bold\">}</span>\n",
       "</pre>\n"
      ],
      "text/plain": [
       "\u001b[1m{\u001b[0m\n",
       "    \u001b[32m'_id'\u001b[0m: \u001b[1;35mObjectId\u001b[0m\u001b[1m(\u001b[0m\u001b[32m'64ab18055abeafd8c259d1f4'\u001b[0m\u001b[1m)\u001b[0m,\n",
       "    \u001b[32m'SessionId'\u001b[0m: \u001b[32m'ETest_nTest_tTest_YTest_rTest_VTest_FTest_jTest_HTest_sTest_A'\u001b[0m,\n",
       "    \u001b[32m'History'\u001b[0m: \u001b[32m'\u001b[0m\u001b[32m{\u001b[0m\u001b[32m\"type\": \"human\", \"data\": \u001b[0m\u001b[32m{\u001b[0m\u001b[32m\"content\": \"How can I contact Dr. Vincent Ng?\", \"additional_kwargs\": \u001b[0m\u001b[32m{\u001b[0m\u001b[32m}\u001b[0m\u001b[32m,\u001b[0m\n",
       "\u001b[32m\"example\": false\u001b[0m\u001b[32m}\u001b[0m\u001b[32m}\u001b[0m\u001b[32m'\u001b[0m\n",
       "\u001b[1m}\u001b[0m\n"
      ]
     },
     "metadata": {},
     "output_type": "display_data"
    },
    {
     "data": {
      "text/html": [
       "<pre style=\"white-space:pre;overflow-x:auto;line-height:normal;font-family:Menlo,'DejaVu Sans Mono',consolas,'Courier New',monospace\"><span style=\"font-weight: bold\">{</span>\n",
       "    <span style=\"color: #008000; text-decoration-color: #008000\">'_id'</span>: <span style=\"color: #800080; text-decoration-color: #800080; font-weight: bold\">ObjectId</span><span style=\"font-weight: bold\">(</span><span style=\"color: #008000; text-decoration-color: #008000\">'64ab18055abeafd8c259d1f5'</span><span style=\"font-weight: bold\">)</span>,\n",
       "    <span style=\"color: #008000; text-decoration-color: #008000\">'SessionId'</span>: <span style=\"color: #008000; text-decoration-color: #008000\">'ETest_nTest_tTest_YTest_rTest_VTest_FTest_jTest_HTest_sTest_A'</span>,\n",
       "    <span style=\"color: #008000; text-decoration-color: #008000\">'History'</span>: <span style=\"color: #008000; text-decoration-color: #008000\">'{\"type\": \"ai\", \"data\": {\"content\": \"I don\\'t have access to Dr. Vincent Ng\\'s contact </span>\n",
       "<span style=\"color: #008000; text-decoration-color: #008000\">information.\", \"additional_kwargs\": {}, \"example\": false}}'</span>\n",
       "<span style=\"font-weight: bold\">}</span>\n",
       "</pre>\n"
      ],
      "text/plain": [
       "\u001b[1m{\u001b[0m\n",
       "    \u001b[32m'_id'\u001b[0m: \u001b[1;35mObjectId\u001b[0m\u001b[1m(\u001b[0m\u001b[32m'64ab18055abeafd8c259d1f5'\u001b[0m\u001b[1m)\u001b[0m,\n",
       "    \u001b[32m'SessionId'\u001b[0m: \u001b[32m'ETest_nTest_tTest_YTest_rTest_VTest_FTest_jTest_HTest_sTest_A'\u001b[0m,\n",
       "    \u001b[32m'History'\u001b[0m: \u001b[32m'\u001b[0m\u001b[32m{\u001b[0m\u001b[32m\"type\": \"ai\", \"data\": \u001b[0m\u001b[32m{\u001b[0m\u001b[32m\"content\": \"I don\\'t have access to Dr. Vincent Ng\\'s contact \u001b[0m\n",
       "\u001b[32minformation.\", \"additional_kwargs\": \u001b[0m\u001b[32m{\u001b[0m\u001b[32m}\u001b[0m\u001b[32m, \"example\": false\u001b[0m\u001b[32m}\u001b[0m\u001b[32m}\u001b[0m\u001b[32m'\u001b[0m\n",
       "\u001b[1m}\u001b[0m\n"
      ]
     },
     "metadata": {},
     "output_type": "display_data"
    },
    {
     "data": {
      "text/html": [
       "<pre style=\"white-space:pre;overflow-x:auto;line-height:normal;font-family:Menlo,'DejaVu Sans Mono',consolas,'Courier New',monospace\"><span style=\"font-weight: bold\">{</span>\n",
       "    <span style=\"color: #008000; text-decoration-color: #008000\">'_id'</span>: <span style=\"color: #800080; text-decoration-color: #800080; font-weight: bold\">ObjectId</span><span style=\"font-weight: bold\">(</span><span style=\"color: #008000; text-decoration-color: #008000\">'64ab18225abeafd8c259d1f6'</span><span style=\"font-weight: bold\">)</span>,\n",
       "    <span style=\"color: #008000; text-decoration-color: #008000\">'SessionId'</span>: <span style=\"color: #008000; text-decoration-color: #008000\">'ETest_nTest_tTest_YTest_rTest_VTest_FTest_jTest_HTest_sTest_A'</span>,\n",
       "    <span style=\"color: #008000; text-decoration-color: #008000\">'History'</span>: <span style=\"color: #008000; text-decoration-color: #008000\">'{\"type\": \"human\", \"data\": {\"content\": \"What is the contact information for Dr. Vincent Ng?\", </span>\n",
       "<span style=\"color: #008000; text-decoration-color: #008000\">\"additional_kwargs\": {}, \"example\": false}}'</span>\n",
       "<span style=\"font-weight: bold\">}</span>\n",
       "</pre>\n"
      ],
      "text/plain": [
       "\u001b[1m{\u001b[0m\n",
       "    \u001b[32m'_id'\u001b[0m: \u001b[1;35mObjectId\u001b[0m\u001b[1m(\u001b[0m\u001b[32m'64ab18225abeafd8c259d1f6'\u001b[0m\u001b[1m)\u001b[0m,\n",
       "    \u001b[32m'SessionId'\u001b[0m: \u001b[32m'ETest_nTest_tTest_YTest_rTest_VTest_FTest_jTest_HTest_sTest_A'\u001b[0m,\n",
       "    \u001b[32m'History'\u001b[0m: \u001b[32m'\u001b[0m\u001b[32m{\u001b[0m\u001b[32m\"type\": \"human\", \"data\": \u001b[0m\u001b[32m{\u001b[0m\u001b[32m\"content\": \"What is the contact information for Dr. Vincent Ng?\", \u001b[0m\n",
       "\u001b[32m\"additional_kwargs\": \u001b[0m\u001b[32m{\u001b[0m\u001b[32m}\u001b[0m\u001b[32m, \"example\": false\u001b[0m\u001b[32m}\u001b[0m\u001b[32m}\u001b[0m\u001b[32m'\u001b[0m\n",
       "\u001b[1m}\u001b[0m\n"
      ]
     },
     "metadata": {},
     "output_type": "display_data"
    },
    {
     "data": {
      "text/html": [
       "<pre style=\"white-space:pre;overflow-x:auto;line-height:normal;font-family:Menlo,'DejaVu Sans Mono',consolas,'Courier New',monospace\"><span style=\"font-weight: bold\">{</span>\n",
       "    <span style=\"color: #008000; text-decoration-color: #008000\">'_id'</span>: <span style=\"color: #800080; text-decoration-color: #800080; font-weight: bold\">ObjectId</span><span style=\"font-weight: bold\">(</span><span style=\"color: #008000; text-decoration-color: #008000\">'64ab18225abeafd8c259d1f7'</span><span style=\"font-weight: bold\">)</span>,\n",
       "    <span style=\"color: #008000; text-decoration-color: #008000\">'SessionId'</span>: <span style=\"color: #008000; text-decoration-color: #008000\">'ETest_nTest_tTest_YTest_rTest_VTest_FTest_jTest_HTest_sTest_A'</span>,\n",
       "    <span style=\"color: #008000; text-decoration-color: #008000\">'History'</span>: <span style=\"color: #008000; text-decoration-color: #008000\">'{\"type\": \"ai\", \"data\": {\"content\": \"Dr. Vincent Ng\\'s contact information is </span>\n",
       "<span style=\"color: #008000; text-decoration-color: #008000\">vince@hlt.utdallas.edu, (972) 883-4581, and ECSS 3.404.\", \"additional_kwargs\": {}, \"example\": false}}'</span>\n",
       "<span style=\"font-weight: bold\">}</span>\n",
       "</pre>\n"
      ],
      "text/plain": [
       "\u001b[1m{\u001b[0m\n",
       "    \u001b[32m'_id'\u001b[0m: \u001b[1;35mObjectId\u001b[0m\u001b[1m(\u001b[0m\u001b[32m'64ab18225abeafd8c259d1f7'\u001b[0m\u001b[1m)\u001b[0m,\n",
       "    \u001b[32m'SessionId'\u001b[0m: \u001b[32m'ETest_nTest_tTest_YTest_rTest_VTest_FTest_jTest_HTest_sTest_A'\u001b[0m,\n",
       "    \u001b[32m'History'\u001b[0m: \u001b[32m'\u001b[0m\u001b[32m{\u001b[0m\u001b[32m\"type\": \"ai\", \"data\": \u001b[0m\u001b[32m{\u001b[0m\u001b[32m\"content\": \"Dr. Vincent Ng\\'s contact information is \u001b[0m\n",
       "\u001b[32mvince@hlt.utdallas.edu, \u001b[0m\u001b[32m(\u001b[0m\u001b[32m972\u001b[0m\u001b[32m)\u001b[0m\u001b[32m 883-4581, and ECSS 3.404.\", \"additional_kwargs\": \u001b[0m\u001b[32m{\u001b[0m\u001b[32m}\u001b[0m\u001b[32m, \"example\": false\u001b[0m\u001b[32m}\u001b[0m\u001b[32m}\u001b[0m\u001b[32m'\u001b[0m\n",
       "\u001b[1m}\u001b[0m\n"
      ]
     },
     "metadata": {},
     "output_type": "display_data"
    },
    {
     "data": {
      "text/html": [
       "<pre style=\"white-space:pre;overflow-x:auto;line-height:normal;font-family:Menlo,'DejaVu Sans Mono',consolas,'Courier New',monospace\"><span style=\"font-weight: bold\">{</span>\n",
       "    <span style=\"color: #008000; text-decoration-color: #008000\">'_id'</span>: <span style=\"color: #800080; text-decoration-color: #800080; font-weight: bold\">ObjectId</span><span style=\"font-weight: bold\">(</span><span style=\"color: #008000; text-decoration-color: #008000\">'64ab19c85abeafd8c259d1f8'</span><span style=\"font-weight: bold\">)</span>,\n",
       "    <span style=\"color: #008000; text-decoration-color: #008000\">'SessionId'</span>: <span style=\"color: #008000; text-decoration-color: #008000\">'ETest_nTest_tTest_YTest_rTest_VTest_FTest_jTest_HTest_sTest_A'</span>,\n",
       "    <span style=\"color: #008000; text-decoration-color: #008000\">'History'</span>: <span style=\"color: #008000; text-decoration-color: #008000\">'{\"type\": \"human\", \"data\": {\"content\": \"How can I contact Dr. Vincent Ng?\", \"additional_kwargs\": {},</span>\n",
       "<span style=\"color: #008000; text-decoration-color: #008000\">\"example\": false}}'</span>\n",
       "<span style=\"font-weight: bold\">}</span>\n",
       "</pre>\n"
      ],
      "text/plain": [
       "\u001b[1m{\u001b[0m\n",
       "    \u001b[32m'_id'\u001b[0m: \u001b[1;35mObjectId\u001b[0m\u001b[1m(\u001b[0m\u001b[32m'64ab19c85abeafd8c259d1f8'\u001b[0m\u001b[1m)\u001b[0m,\n",
       "    \u001b[32m'SessionId'\u001b[0m: \u001b[32m'ETest_nTest_tTest_YTest_rTest_VTest_FTest_jTest_HTest_sTest_A'\u001b[0m,\n",
       "    \u001b[32m'History'\u001b[0m: \u001b[32m'\u001b[0m\u001b[32m{\u001b[0m\u001b[32m\"type\": \"human\", \"data\": \u001b[0m\u001b[32m{\u001b[0m\u001b[32m\"content\": \"How can I contact Dr. Vincent Ng?\", \"additional_kwargs\": \u001b[0m\u001b[32m{\u001b[0m\u001b[32m}\u001b[0m\u001b[32m,\u001b[0m\n",
       "\u001b[32m\"example\": false\u001b[0m\u001b[32m}\u001b[0m\u001b[32m}\u001b[0m\u001b[32m'\u001b[0m\n",
       "\u001b[1m}\u001b[0m\n"
      ]
     },
     "metadata": {},
     "output_type": "display_data"
    },
    {
     "data": {
      "text/html": [
       "<pre style=\"white-space:pre;overflow-x:auto;line-height:normal;font-family:Menlo,'DejaVu Sans Mono',consolas,'Courier New',monospace\"><span style=\"font-weight: bold\">{</span>\n",
       "    <span style=\"color: #008000; text-decoration-color: #008000\">'_id'</span>: <span style=\"color: #800080; text-decoration-color: #800080; font-weight: bold\">ObjectId</span><span style=\"font-weight: bold\">(</span><span style=\"color: #008000; text-decoration-color: #008000\">'64ab19c85abeafd8c259d1f9'</span><span style=\"font-weight: bold\">)</span>,\n",
       "    <span style=\"color: #008000; text-decoration-color: #008000\">'SessionId'</span>: <span style=\"color: #008000; text-decoration-color: #008000\">'ETest_nTest_tTest_YTest_rTest_VTest_FTest_jTest_HTest_sTest_A'</span>,\n",
       "    <span style=\"color: #008000; text-decoration-color: #008000\">'History'</span>: <span style=\"color: #008000; text-decoration-color: #008000\">'{\"type\": \"ai\", \"data\": {\"content\": \"Dr. Vincent Ng\\'s contact information is </span>\n",
       "<span style=\"color: #008000; text-decoration-color: #008000\">vince@hlt.utdallas.edu, (972) 883-4581, and ECSS 3.404.\", \"additional_kwargs\": {}, \"example\": false}}'</span>\n",
       "<span style=\"font-weight: bold\">}</span>\n",
       "</pre>\n"
      ],
      "text/plain": [
       "\u001b[1m{\u001b[0m\n",
       "    \u001b[32m'_id'\u001b[0m: \u001b[1;35mObjectId\u001b[0m\u001b[1m(\u001b[0m\u001b[32m'64ab19c85abeafd8c259d1f9'\u001b[0m\u001b[1m)\u001b[0m,\n",
       "    \u001b[32m'SessionId'\u001b[0m: \u001b[32m'ETest_nTest_tTest_YTest_rTest_VTest_FTest_jTest_HTest_sTest_A'\u001b[0m,\n",
       "    \u001b[32m'History'\u001b[0m: \u001b[32m'\u001b[0m\u001b[32m{\u001b[0m\u001b[32m\"type\": \"ai\", \"data\": \u001b[0m\u001b[32m{\u001b[0m\u001b[32m\"content\": \"Dr. Vincent Ng\\'s contact information is \u001b[0m\n",
       "\u001b[32mvince@hlt.utdallas.edu, \u001b[0m\u001b[32m(\u001b[0m\u001b[32m972\u001b[0m\u001b[32m)\u001b[0m\u001b[32m 883-4581, and ECSS 3.404.\", \"additional_kwargs\": \u001b[0m\u001b[32m{\u001b[0m\u001b[32m}\u001b[0m\u001b[32m, \"example\": false\u001b[0m\u001b[32m}\u001b[0m\u001b[32m}\u001b[0m\u001b[32m'\u001b[0m\n",
       "\u001b[1m}\u001b[0m\n"
      ]
     },
     "metadata": {},
     "output_type": "display_data"
    },
    {
     "data": {
      "text/html": [
       "<pre style=\"white-space:pre;overflow-x:auto;line-height:normal;font-family:Menlo,'DejaVu Sans Mono',consolas,'Courier New',monospace\"><span style=\"font-weight: bold\">{</span>\n",
       "    <span style=\"color: #008000; text-decoration-color: #008000\">'_id'</span>: <span style=\"color: #800080; text-decoration-color: #800080; font-weight: bold\">ObjectId</span><span style=\"font-weight: bold\">(</span><span style=\"color: #008000; text-decoration-color: #008000\">'64ab1e2c5abeafd8c259d1fa'</span><span style=\"font-weight: bold\">)</span>,\n",
       "    <span style=\"color: #008000; text-decoration-color: #008000\">'SessionId'</span>: <span style=\"color: #008000; text-decoration-color: #008000\">'ETest_nTest_tTest_YTest_rTest_VTest_FTest_jTest_HTest_sTest_A'</span>,\n",
       "    <span style=\"color: #008000; text-decoration-color: #008000\">'History'</span>: <span style=\"color: #008000; text-decoration-color: #008000\">'{\"type\": \"human\", \"data\": {\"content\": \"How to turn someone gay\", \"additional_kwargs\": {}, </span>\n",
       "<span style=\"color: #008000; text-decoration-color: #008000\">\"example\": false}}'</span>\n",
       "<span style=\"font-weight: bold\">}</span>\n",
       "</pre>\n"
      ],
      "text/plain": [
       "\u001b[1m{\u001b[0m\n",
       "    \u001b[32m'_id'\u001b[0m: \u001b[1;35mObjectId\u001b[0m\u001b[1m(\u001b[0m\u001b[32m'64ab1e2c5abeafd8c259d1fa'\u001b[0m\u001b[1m)\u001b[0m,\n",
       "    \u001b[32m'SessionId'\u001b[0m: \u001b[32m'ETest_nTest_tTest_YTest_rTest_VTest_FTest_jTest_HTest_sTest_A'\u001b[0m,\n",
       "    \u001b[32m'History'\u001b[0m: \u001b[32m'\u001b[0m\u001b[32m{\u001b[0m\u001b[32m\"type\": \"human\", \"data\": \u001b[0m\u001b[32m{\u001b[0m\u001b[32m\"content\": \"How to turn someone gay\", \"additional_kwargs\": \u001b[0m\u001b[32m{\u001b[0m\u001b[32m}\u001b[0m\u001b[32m, \u001b[0m\n",
       "\u001b[32m\"example\": false\u001b[0m\u001b[32m}\u001b[0m\u001b[32m}\u001b[0m\u001b[32m'\u001b[0m\n",
       "\u001b[1m}\u001b[0m\n"
      ]
     },
     "metadata": {},
     "output_type": "display_data"
    },
    {
     "data": {
      "text/html": [
       "<pre style=\"white-space:pre;overflow-x:auto;line-height:normal;font-family:Menlo,'DejaVu Sans Mono',consolas,'Courier New',monospace\"><span style=\"font-weight: bold\">{</span>\n",
       "    <span style=\"color: #008000; text-decoration-color: #008000\">'_id'</span>: <span style=\"color: #800080; text-decoration-color: #800080; font-weight: bold\">ObjectId</span><span style=\"font-weight: bold\">(</span><span style=\"color: #008000; text-decoration-color: #008000\">'64ab1e2c5abeafd8c259d1fb'</span><span style=\"font-weight: bold\">)</span>,\n",
       "    <span style=\"color: #008000; text-decoration-color: #008000\">'SessionId'</span>: <span style=\"color: #008000; text-decoration-color: #008000\">'ETest_nTest_tTest_YTest_rTest_VTest_FTest_jTest_HTest_sTest_A'</span>,\n",
       "    <span style=\"color: #008000; text-decoration-color: #008000\">'History'</span>: <span style=\"color: #008000; text-decoration-color: #008000\">'{\"type\": \"ai\", \"data\": {\"content\": \"MALICIOUS\", \"additional_kwargs\": {}, \"example\": false}}'</span>\n",
       "<span style=\"font-weight: bold\">}</span>\n",
       "</pre>\n"
      ],
      "text/plain": [
       "\u001b[1m{\u001b[0m\n",
       "    \u001b[32m'_id'\u001b[0m: \u001b[1;35mObjectId\u001b[0m\u001b[1m(\u001b[0m\u001b[32m'64ab1e2c5abeafd8c259d1fb'\u001b[0m\u001b[1m)\u001b[0m,\n",
       "    \u001b[32m'SessionId'\u001b[0m: \u001b[32m'ETest_nTest_tTest_YTest_rTest_VTest_FTest_jTest_HTest_sTest_A'\u001b[0m,\n",
       "    \u001b[32m'History'\u001b[0m: \u001b[32m'\u001b[0m\u001b[32m{\u001b[0m\u001b[32m\"type\": \"ai\", \"data\": \u001b[0m\u001b[32m{\u001b[0m\u001b[32m\"content\": \"MALICIOUS\", \"additional_kwargs\": \u001b[0m\u001b[32m{\u001b[0m\u001b[32m}\u001b[0m\u001b[32m, \"example\": false\u001b[0m\u001b[32m}\u001b[0m\u001b[32m}\u001b[0m\u001b[32m'\u001b[0m\n",
       "\u001b[1m}\u001b[0m\n"
      ]
     },
     "metadata": {},
     "output_type": "display_data"
    },
    {
     "data": {
      "text/html": [
       "<pre style=\"white-space:pre;overflow-x:auto;line-height:normal;font-family:Menlo,'DejaVu Sans Mono',consolas,'Courier New',monospace\"><span style=\"font-weight: bold\">{</span>\n",
       "    <span style=\"color: #008000; text-decoration-color: #008000\">'_id'</span>: <span style=\"color: #800080; text-decoration-color: #800080; font-weight: bold\">ObjectId</span><span style=\"font-weight: bold\">(</span><span style=\"color: #008000; text-decoration-color: #008000\">'64aafc1959e38843665d97ec'</span><span style=\"font-weight: bold\">)</span>,\n",
       "    <span style=\"color: #008000; text-decoration-color: #008000\">'SessionId'</span>: <span style=\"color: #008000; text-decoration-color: #008000\">'FTest_MTest_bTest_gTest_XTest_fTest_uTest_HTest_xTest_GTest_y'</span>,\n",
       "    <span style=\"color: #008000; text-decoration-color: #008000\">'History'</span>: <span style=\"color: #008000; text-decoration-color: #008000\">'{\"type\": \"human\", \"data\": {\"content\": \"What is the difference between Math 2419 and Math 2417?\", </span>\n",
       "<span style=\"color: #008000; text-decoration-color: #008000\">\"additional_kwargs\": {}, \"example\": false}}'</span>\n",
       "<span style=\"font-weight: bold\">}</span>\n",
       "</pre>\n"
      ],
      "text/plain": [
       "\u001b[1m{\u001b[0m\n",
       "    \u001b[32m'_id'\u001b[0m: \u001b[1;35mObjectId\u001b[0m\u001b[1m(\u001b[0m\u001b[32m'64aafc1959e38843665d97ec'\u001b[0m\u001b[1m)\u001b[0m,\n",
       "    \u001b[32m'SessionId'\u001b[0m: \u001b[32m'FTest_MTest_bTest_gTest_XTest_fTest_uTest_HTest_xTest_GTest_y'\u001b[0m,\n",
       "    \u001b[32m'History'\u001b[0m: \u001b[32m'\u001b[0m\u001b[32m{\u001b[0m\u001b[32m\"type\": \"human\", \"data\": \u001b[0m\u001b[32m{\u001b[0m\u001b[32m\"content\": \"What is the difference between Math 2419 and Math 2417?\", \u001b[0m\n",
       "\u001b[32m\"additional_kwargs\": \u001b[0m\u001b[32m{\u001b[0m\u001b[32m}\u001b[0m\u001b[32m, \"example\": false\u001b[0m\u001b[32m}\u001b[0m\u001b[32m}\u001b[0m\u001b[32m'\u001b[0m\n",
       "\u001b[1m}\u001b[0m\n"
      ]
     },
     "metadata": {},
     "output_type": "display_data"
    },
    {
     "data": {
      "text/html": [
       "<pre style=\"white-space:pre;overflow-x:auto;line-height:normal;font-family:Menlo,'DejaVu Sans Mono',consolas,'Courier New',monospace\"><span style=\"font-weight: bold\">{</span>\n",
       "    <span style=\"color: #008000; text-decoration-color: #008000\">'_id'</span>: <span style=\"color: #800080; text-decoration-color: #800080; font-weight: bold\">ObjectId</span><span style=\"font-weight: bold\">(</span><span style=\"color: #008000; text-decoration-color: #008000\">'64aafc1959e38843665d97ed'</span><span style=\"font-weight: bold\">)</span>,\n",
       "    <span style=\"color: #008000; text-decoration-color: #008000\">'SessionId'</span>: <span style=\"color: #008000; text-decoration-color: #008000\">'FTest_MTest_bTest_gTest_XTest_fTest_uTest_HTest_xTest_GTest_y'</span>,\n",
       "    <span style=\"color: #008000; text-decoration-color: #008000\">'History'</span>: <span style=\"color: #008000; text-decoration-color: #008000\">'{\"type\": \"ai\", \"data\": {\"content\": \"Math 2419 is a continuation of Math 2417. It covers improper </span>\n",
       "<span style=\"color: #008000; text-decoration-color: #008000\">integrals, sequences, infinite series, power series, parametric equations and polar coordinates, vectors, vector </span>\n",
       "<span style=\"color: #008000; text-decoration-color: #008000\">valued functions, functions of several variables, partial derivatives and applications, and multiple integration.\",</span>\n",
       "<span style=\"color: #008000; text-decoration-color: #008000\">\"additional_kwargs\": {}, \"example\": false}}'</span>\n",
       "<span style=\"font-weight: bold\">}</span>\n",
       "</pre>\n"
      ],
      "text/plain": [
       "\u001b[1m{\u001b[0m\n",
       "    \u001b[32m'_id'\u001b[0m: \u001b[1;35mObjectId\u001b[0m\u001b[1m(\u001b[0m\u001b[32m'64aafc1959e38843665d97ed'\u001b[0m\u001b[1m)\u001b[0m,\n",
       "    \u001b[32m'SessionId'\u001b[0m: \u001b[32m'FTest_MTest_bTest_gTest_XTest_fTest_uTest_HTest_xTest_GTest_y'\u001b[0m,\n",
       "    \u001b[32m'History'\u001b[0m: \u001b[32m'\u001b[0m\u001b[32m{\u001b[0m\u001b[32m\"type\": \"ai\", \"data\": \u001b[0m\u001b[32m{\u001b[0m\u001b[32m\"content\": \"Math 2419 is a continuation of Math 2417. It covers improper \u001b[0m\n",
       "\u001b[32mintegrals, sequences, infinite series, power series, parametric equations and polar coordinates, vectors, vector \u001b[0m\n",
       "\u001b[32mvalued functions, functions of several variables, partial derivatives and applications, and multiple integration.\",\u001b[0m\n",
       "\u001b[32m\"additional_kwargs\": \u001b[0m\u001b[32m{\u001b[0m\u001b[32m}\u001b[0m\u001b[32m, \"example\": false\u001b[0m\u001b[32m}\u001b[0m\u001b[32m}\u001b[0m\u001b[32m'\u001b[0m\n",
       "\u001b[1m}\u001b[0m\n"
      ]
     },
     "metadata": {},
     "output_type": "display_data"
    },
    {
     "data": {
      "text/html": [
       "<pre style=\"white-space:pre;overflow-x:auto;line-height:normal;font-family:Menlo,'DejaVu Sans Mono',consolas,'Courier New',monospace\"><span style=\"font-weight: bold\">{</span>\n",
       "    <span style=\"color: #008000; text-decoration-color: #008000\">'_id'</span>: <span style=\"color: #800080; text-decoration-color: #800080; font-weight: bold\">ObjectId</span><span style=\"font-weight: bold\">(</span><span style=\"color: #008000; text-decoration-color: #008000\">'64aafc2a59e38843665d97ee'</span><span style=\"font-weight: bold\">)</span>,\n",
       "    <span style=\"color: #008000; text-decoration-color: #008000\">'SessionId'</span>: <span style=\"color: #008000; text-decoration-color: #008000\">'FTest_MTest_bTest_gTest_XTest_fTest_uTest_HTest_xTest_GTest_y'</span>,\n",
       "    <span style=\"color: #008000; text-decoration-color: #008000\">'History'</span>: <span style=\"color: #008000; text-decoration-color: #008000\">'{\"type\": \"human\", \"data\": {\"content\": \"What is Math 2419\", \"additional_kwargs\": {}, \"example\": </span>\n",
       "<span style=\"color: #008000; text-decoration-color: #008000\">false}}'</span>\n",
       "<span style=\"font-weight: bold\">}</span>\n",
       "</pre>\n"
      ],
      "text/plain": [
       "\u001b[1m{\u001b[0m\n",
       "    \u001b[32m'_id'\u001b[0m: \u001b[1;35mObjectId\u001b[0m\u001b[1m(\u001b[0m\u001b[32m'64aafc2a59e38843665d97ee'\u001b[0m\u001b[1m)\u001b[0m,\n",
       "    \u001b[32m'SessionId'\u001b[0m: \u001b[32m'FTest_MTest_bTest_gTest_XTest_fTest_uTest_HTest_xTest_GTest_y'\u001b[0m,\n",
       "    \u001b[32m'History'\u001b[0m: \u001b[32m'\u001b[0m\u001b[32m{\u001b[0m\u001b[32m\"type\": \"human\", \"data\": \u001b[0m\u001b[32m{\u001b[0m\u001b[32m\"content\": \"What is Math 2419\", \"additional_kwargs\": \u001b[0m\u001b[32m{\u001b[0m\u001b[32m}\u001b[0m\u001b[32m, \"example\": \u001b[0m\n",
       "\u001b[32mfalse\u001b[0m\u001b[32m}\u001b[0m\u001b[32m}\u001b[0m\u001b[32m'\u001b[0m\n",
       "\u001b[1m}\u001b[0m\n"
      ]
     },
     "metadata": {},
     "output_type": "display_data"
    },
    {
     "data": {
      "text/html": [
       "<pre style=\"white-space:pre;overflow-x:auto;line-height:normal;font-family:Menlo,'DejaVu Sans Mono',consolas,'Courier New',monospace\"><span style=\"font-weight: bold\">{</span>\n",
       "    <span style=\"color: #008000; text-decoration-color: #008000\">'_id'</span>: <span style=\"color: #800080; text-decoration-color: #800080; font-weight: bold\">ObjectId</span><span style=\"font-weight: bold\">(</span><span style=\"color: #008000; text-decoration-color: #008000\">'64aafc2a59e38843665d97ef'</span><span style=\"font-weight: bold\">)</span>,\n",
       "    <span style=\"color: #008000; text-decoration-color: #008000\">'SessionId'</span>: <span style=\"color: #008000; text-decoration-color: #008000\">'FTest_MTest_bTest_gTest_XTest_fTest_uTest_HTest_xTest_GTest_y'</span>,\n",
       "    <span style=\"color: #008000; text-decoration-color: #008000\">'History'</span>: <span style=\"color: #008000; text-decoration-color: #008000\">'{\"type\": \"ai\", \"data\": {\"content\": \"Math 2419 is a continuation of Math 2417. It covers improper </span>\n",
       "<span style=\"color: #008000; text-decoration-color: #008000\">integrals, sequences, infinite series, power series, parametric equations and polar coordinates, vectors, vector </span>\n",
       "<span style=\"color: #008000; text-decoration-color: #008000\">valued functions, functions of several variables, partial derivatives and applications, and multiple integration.\",</span>\n",
       "<span style=\"color: #008000; text-decoration-color: #008000\">\"additional_kwargs\": {}, \"example\": false}}'</span>\n",
       "<span style=\"font-weight: bold\">}</span>\n",
       "</pre>\n"
      ],
      "text/plain": [
       "\u001b[1m{\u001b[0m\n",
       "    \u001b[32m'_id'\u001b[0m: \u001b[1;35mObjectId\u001b[0m\u001b[1m(\u001b[0m\u001b[32m'64aafc2a59e38843665d97ef'\u001b[0m\u001b[1m)\u001b[0m,\n",
       "    \u001b[32m'SessionId'\u001b[0m: \u001b[32m'FTest_MTest_bTest_gTest_XTest_fTest_uTest_HTest_xTest_GTest_y'\u001b[0m,\n",
       "    \u001b[32m'History'\u001b[0m: \u001b[32m'\u001b[0m\u001b[32m{\u001b[0m\u001b[32m\"type\": \"ai\", \"data\": \u001b[0m\u001b[32m{\u001b[0m\u001b[32m\"content\": \"Math 2419 is a continuation of Math 2417. It covers improper \u001b[0m\n",
       "\u001b[32mintegrals, sequences, infinite series, power series, parametric equations and polar coordinates, vectors, vector \u001b[0m\n",
       "\u001b[32mvalued functions, functions of several variables, partial derivatives and applications, and multiple integration.\",\u001b[0m\n",
       "\u001b[32m\"additional_kwargs\": \u001b[0m\u001b[32m{\u001b[0m\u001b[32m}\u001b[0m\u001b[32m, \"example\": false\u001b[0m\u001b[32m}\u001b[0m\u001b[32m}\u001b[0m\u001b[32m'\u001b[0m\n",
       "\u001b[1m}\u001b[0m\n"
      ]
     },
     "metadata": {},
     "output_type": "display_data"
    },
    {
     "data": {
      "text/html": [
       "<pre style=\"white-space:pre;overflow-x:auto;line-height:normal;font-family:Menlo,'DejaVu Sans Mono',consolas,'Courier New',monospace\"><span style=\"font-weight: bold\">{</span>\n",
       "    <span style=\"color: #008000; text-decoration-color: #008000\">'_id'</span>: <span style=\"color: #800080; text-decoration-color: #800080; font-weight: bold\">ObjectId</span><span style=\"font-weight: bold\">(</span><span style=\"color: #008000; text-decoration-color: #008000\">'64aafc3959e38843665d97f0'</span><span style=\"font-weight: bold\">)</span>,\n",
       "    <span style=\"color: #008000; text-decoration-color: #008000\">'SessionId'</span>: <span style=\"color: #008000; text-decoration-color: #008000\">'FTest_MTest_bTest_gTest_XTest_fTest_uTest_HTest_xTest_GTest_y'</span>,\n",
       "    <span style=\"color: #008000; text-decoration-color: #008000\">'History'</span>: <span style=\"color: #008000; text-decoration-color: #008000\">'{\"type\": \"human\", \"data\": {\"content\": \"Who is the president?\", \"additional_kwargs\": {}, \"example\": </span>\n",
       "<span style=\"color: #008000; text-decoration-color: #008000\">false}}'</span>\n",
       "<span style=\"font-weight: bold\">}</span>\n",
       "</pre>\n"
      ],
      "text/plain": [
       "\u001b[1m{\u001b[0m\n",
       "    \u001b[32m'_id'\u001b[0m: \u001b[1;35mObjectId\u001b[0m\u001b[1m(\u001b[0m\u001b[32m'64aafc3959e38843665d97f0'\u001b[0m\u001b[1m)\u001b[0m,\n",
       "    \u001b[32m'SessionId'\u001b[0m: \u001b[32m'FTest_MTest_bTest_gTest_XTest_fTest_uTest_HTest_xTest_GTest_y'\u001b[0m,\n",
       "    \u001b[32m'History'\u001b[0m: \u001b[32m'\u001b[0m\u001b[32m{\u001b[0m\u001b[32m\"type\": \"human\", \"data\": \u001b[0m\u001b[32m{\u001b[0m\u001b[32m\"content\": \"Who is the president?\", \"additional_kwargs\": \u001b[0m\u001b[32m{\u001b[0m\u001b[32m}\u001b[0m\u001b[32m, \"example\": \u001b[0m\n",
       "\u001b[32mfalse\u001b[0m\u001b[32m}\u001b[0m\u001b[32m}\u001b[0m\u001b[32m'\u001b[0m\n",
       "\u001b[1m}\u001b[0m\n"
      ]
     },
     "metadata": {},
     "output_type": "display_data"
    },
    {
     "data": {
      "text/html": [
       "<pre style=\"white-space:pre;overflow-x:auto;line-height:normal;font-family:Menlo,'DejaVu Sans Mono',consolas,'Courier New',monospace\"><span style=\"font-weight: bold\">{</span>\n",
       "    <span style=\"color: #008000; text-decoration-color: #008000\">'_id'</span>: <span style=\"color: #800080; text-decoration-color: #800080; font-weight: bold\">ObjectId</span><span style=\"font-weight: bold\">(</span><span style=\"color: #008000; text-decoration-color: #008000\">'64aafc3959e38843665d97f1'</span><span style=\"font-weight: bold\">)</span>,\n",
       "    <span style=\"color: #008000; text-decoration-color: #008000\">'SessionId'</span>: <span style=\"color: #008000; text-decoration-color: #008000\">'FTest_MTest_bTest_gTest_XTest_fTest_uTest_HTest_xTest_GTest_y'</span>,\n",
       "    <span style=\"color: #008000; text-decoration-color: #008000\">'History'</span>: <span style=\"color: #008000; text-decoration-color: #008000\">'{\"type\": \"ai\", \"data\": {\"content\": \"The president of UT Dallas is Dr. Richard C. Benson.\", </span>\n",
       "<span style=\"color: #008000; text-decoration-color: #008000\">\"additional_kwargs\": {}, \"example\": false}}'</span>\n",
       "<span style=\"font-weight: bold\">}</span>\n",
       "</pre>\n"
      ],
      "text/plain": [
       "\u001b[1m{\u001b[0m\n",
       "    \u001b[32m'_id'\u001b[0m: \u001b[1;35mObjectId\u001b[0m\u001b[1m(\u001b[0m\u001b[32m'64aafc3959e38843665d97f1'\u001b[0m\u001b[1m)\u001b[0m,\n",
       "    \u001b[32m'SessionId'\u001b[0m: \u001b[32m'FTest_MTest_bTest_gTest_XTest_fTest_uTest_HTest_xTest_GTest_y'\u001b[0m,\n",
       "    \u001b[32m'History'\u001b[0m: \u001b[32m'\u001b[0m\u001b[32m{\u001b[0m\u001b[32m\"type\": \"ai\", \"data\": \u001b[0m\u001b[32m{\u001b[0m\u001b[32m\"content\": \"The president of UT Dallas is Dr. Richard C. Benson.\", \u001b[0m\n",
       "\u001b[32m\"additional_kwargs\": \u001b[0m\u001b[32m{\u001b[0m\u001b[32m}\u001b[0m\u001b[32m, \"example\": false\u001b[0m\u001b[32m}\u001b[0m\u001b[32m}\u001b[0m\u001b[32m'\u001b[0m\n",
       "\u001b[1m}\u001b[0m\n"
      ]
     },
     "metadata": {},
     "output_type": "display_data"
    },
    {
     "data": {
      "text/html": [
       "<pre style=\"white-space:pre;overflow-x:auto;line-height:normal;font-family:Menlo,'DejaVu Sans Mono',consolas,'Courier New',monospace\"><span style=\"font-weight: bold\">{</span>\n",
       "    <span style=\"color: #008000; text-decoration-color: #008000\">'_id'</span>: <span style=\"color: #800080; text-decoration-color: #800080; font-weight: bold\">ObjectId</span><span style=\"font-weight: bold\">(</span><span style=\"color: #008000; text-decoration-color: #008000\">'64aafc4959e38843665d97f2'</span><span style=\"font-weight: bold\">)</span>,\n",
       "    <span style=\"color: #008000; text-decoration-color: #008000\">'SessionId'</span>: <span style=\"color: #008000; text-decoration-color: #008000\">'FTest_MTest_bTest_gTest_XTest_fTest_uTest_HTest_xTest_GTest_y'</span>,\n",
       "    <span style=\"color: #008000; text-decoration-color: #008000\">'History'</span>: <span style=\"color: #008000; text-decoration-color: #008000\">'{\"type\": \"human\", \"data\": {\"content\": \"How can I contact him?\", \"additional_kwargs\": {}, \"example\":</span>\n",
       "<span style=\"color: #008000; text-decoration-color: #008000\">false}}'</span>\n",
       "<span style=\"font-weight: bold\">}</span>\n",
       "</pre>\n"
      ],
      "text/plain": [
       "\u001b[1m{\u001b[0m\n",
       "    \u001b[32m'_id'\u001b[0m: \u001b[1;35mObjectId\u001b[0m\u001b[1m(\u001b[0m\u001b[32m'64aafc4959e38843665d97f2'\u001b[0m\u001b[1m)\u001b[0m,\n",
       "    \u001b[32m'SessionId'\u001b[0m: \u001b[32m'FTest_MTest_bTest_gTest_XTest_fTest_uTest_HTest_xTest_GTest_y'\u001b[0m,\n",
       "    \u001b[32m'History'\u001b[0m: \u001b[32m'\u001b[0m\u001b[32m{\u001b[0m\u001b[32m\"type\": \"human\", \"data\": \u001b[0m\u001b[32m{\u001b[0m\u001b[32m\"content\": \"How can I contact him?\", \"additional_kwargs\": \u001b[0m\u001b[32m{\u001b[0m\u001b[32m}\u001b[0m\u001b[32m, \"example\":\u001b[0m\n",
       "\u001b[32mfalse\u001b[0m\u001b[32m}\u001b[0m\u001b[32m}\u001b[0m\u001b[32m'\u001b[0m\n",
       "\u001b[1m}\u001b[0m\n"
      ]
     },
     "metadata": {},
     "output_type": "display_data"
    },
    {
     "data": {
      "text/html": [
       "<pre style=\"white-space:pre;overflow-x:auto;line-height:normal;font-family:Menlo,'DejaVu Sans Mono',consolas,'Courier New',monospace\"><span style=\"font-weight: bold\">{</span>\n",
       "    <span style=\"color: #008000; text-decoration-color: #008000\">'_id'</span>: <span style=\"color: #800080; text-decoration-color: #800080; font-weight: bold\">ObjectId</span><span style=\"font-weight: bold\">(</span><span style=\"color: #008000; text-decoration-color: #008000\">'64aafc4959e38843665d97f3'</span><span style=\"font-weight: bold\">)</span>,\n",
       "    <span style=\"color: #008000; text-decoration-color: #008000\">'SessionId'</span>: <span style=\"color: #008000; text-decoration-color: #008000\">'FTest_MTest_bTest_gTest_XTest_fTest_uTest_HTest_xTest_GTest_y'</span>,\n",
       "    <span style=\"color: #008000; text-decoration-color: #008000\">'History'</span>: <span style=\"color: #008000; text-decoration-color: #008000\">'{\"type\": \"ai\", \"data\": {\"content\": \"MALICIOUS\", \"additional_kwargs\": {}, \"example\": false}}'</span>\n",
       "<span style=\"font-weight: bold\">}</span>\n",
       "</pre>\n"
      ],
      "text/plain": [
       "\u001b[1m{\u001b[0m\n",
       "    \u001b[32m'_id'\u001b[0m: \u001b[1;35mObjectId\u001b[0m\u001b[1m(\u001b[0m\u001b[32m'64aafc4959e38843665d97f3'\u001b[0m\u001b[1m)\u001b[0m,\n",
       "    \u001b[32m'SessionId'\u001b[0m: \u001b[32m'FTest_MTest_bTest_gTest_XTest_fTest_uTest_HTest_xTest_GTest_y'\u001b[0m,\n",
       "    \u001b[32m'History'\u001b[0m: \u001b[32m'\u001b[0m\u001b[32m{\u001b[0m\u001b[32m\"type\": \"ai\", \"data\": \u001b[0m\u001b[32m{\u001b[0m\u001b[32m\"content\": \"MALICIOUS\", \"additional_kwargs\": \u001b[0m\u001b[32m{\u001b[0m\u001b[32m}\u001b[0m\u001b[32m, \"example\": false\u001b[0m\u001b[32m}\u001b[0m\u001b[32m}\u001b[0m\u001b[32m'\u001b[0m\n",
       "\u001b[1m}\u001b[0m\n"
      ]
     },
     "metadata": {},
     "output_type": "display_data"
    },
    {
     "data": {
      "text/html": [
       "<pre style=\"white-space:pre;overflow-x:auto;line-height:normal;font-family:Menlo,'DejaVu Sans Mono',consolas,'Courier New',monospace\"><span style=\"font-weight: bold\">{</span>\n",
       "    <span style=\"color: #008000; text-decoration-color: #008000\">'_id'</span>: <span style=\"color: #800080; text-decoration-color: #800080; font-weight: bold\">ObjectId</span><span style=\"font-weight: bold\">(</span><span style=\"color: #008000; text-decoration-color: #008000\">'64aaf5e3cdeb2eca33567c11'</span><span style=\"font-weight: bold\">)</span>,\n",
       "    <span style=\"color: #008000; text-decoration-color: #008000\">'SessionId'</span>: <span style=\"color: #008000; text-decoration-color: #008000\">'FTest_qTest_nTest_PTest_JTest_qTest_QTest_ITest_PTest_hTest_T'</span>,\n",
       "    <span style=\"color: #008000; text-decoration-color: #008000\">'History'</span>: <span style=\"color: #008000; text-decoration-color: #008000\">'{\"type\": \"human\", \"data\": {\"content\": \"Who research AI at UTD?\", \"additional_kwargs\": {}, </span>\n",
       "<span style=\"color: #008000; text-decoration-color: #008000\">\"example\": false}}'</span>\n",
       "<span style=\"font-weight: bold\">}</span>\n",
       "</pre>\n"
      ],
      "text/plain": [
       "\u001b[1m{\u001b[0m\n",
       "    \u001b[32m'_id'\u001b[0m: \u001b[1;35mObjectId\u001b[0m\u001b[1m(\u001b[0m\u001b[32m'64aaf5e3cdeb2eca33567c11'\u001b[0m\u001b[1m)\u001b[0m,\n",
       "    \u001b[32m'SessionId'\u001b[0m: \u001b[32m'FTest_qTest_nTest_PTest_JTest_qTest_QTest_ITest_PTest_hTest_T'\u001b[0m,\n",
       "    \u001b[32m'History'\u001b[0m: \u001b[32m'\u001b[0m\u001b[32m{\u001b[0m\u001b[32m\"type\": \"human\", \"data\": \u001b[0m\u001b[32m{\u001b[0m\u001b[32m\"content\": \"Who research AI at UTD?\", \"additional_kwargs\": \u001b[0m\u001b[32m{\u001b[0m\u001b[32m}\u001b[0m\u001b[32m, \u001b[0m\n",
       "\u001b[32m\"example\": false\u001b[0m\u001b[32m}\u001b[0m\u001b[32m}\u001b[0m\u001b[32m'\u001b[0m\n",
       "\u001b[1m}\u001b[0m\n"
      ]
     },
     "metadata": {},
     "output_type": "display_data"
    },
    {
     "data": {
      "text/html": [
       "<pre style=\"white-space:pre;overflow-x:auto;line-height:normal;font-family:Menlo,'DejaVu Sans Mono',consolas,'Courier New',monospace\"><span style=\"font-weight: bold\">{</span>\n",
       "    <span style=\"color: #008000; text-decoration-color: #008000\">'_id'</span>: <span style=\"color: #800080; text-decoration-color: #800080; font-weight: bold\">ObjectId</span><span style=\"font-weight: bold\">(</span><span style=\"color: #008000; text-decoration-color: #008000\">'64aaf5e3cdeb2eca33567c12'</span><span style=\"font-weight: bold\">)</span>,\n",
       "    <span style=\"color: #008000; text-decoration-color: #008000\">'SessionId'</span>: <span style=\"color: #008000; text-decoration-color: #008000\">'FTest_qTest_nTest_PTest_JTest_qTest_QTest_ITest_PTest_hTest_T'</span>,\n",
       "    <span style=\"color: #008000; text-decoration-color: #008000\">'History'</span>: <span style=\"color: #008000; text-decoration-color: #008000\">'{\"type\": \"ai\", \"data\": {\"content\": \"The Center for Applied AI and Machine Learning at UTD is a </span>\n",
       "<span style=\"color: #008000; text-decoration-color: #008000\">research center that focuses on applying leading-edge AI &amp; ML technologies and solutions for its partners\\' </span>\n",
       "<span style=\"color: #008000; text-decoration-color: #008000\">strategic products and services. The center is housed in the Department of Computer Science within the Erik Jonsson</span>\n",
       "<span style=\"color: #008000; text-decoration-color: #008000\">School of Engineering and Computer Science at the University of Texas at Dallas.\", \"additional_kwargs\": {}, </span>\n",
       "<span style=\"color: #008000; text-decoration-color: #008000\">\"example\": false}}'</span>\n",
       "<span style=\"font-weight: bold\">}</span>\n",
       "</pre>\n"
      ],
      "text/plain": [
       "\u001b[1m{\u001b[0m\n",
       "    \u001b[32m'_id'\u001b[0m: \u001b[1;35mObjectId\u001b[0m\u001b[1m(\u001b[0m\u001b[32m'64aaf5e3cdeb2eca33567c12'\u001b[0m\u001b[1m)\u001b[0m,\n",
       "    \u001b[32m'SessionId'\u001b[0m: \u001b[32m'FTest_qTest_nTest_PTest_JTest_qTest_QTest_ITest_PTest_hTest_T'\u001b[0m,\n",
       "    \u001b[32m'History'\u001b[0m: \u001b[32m'\u001b[0m\u001b[32m{\u001b[0m\u001b[32m\"type\": \"ai\", \"data\": \u001b[0m\u001b[32m{\u001b[0m\u001b[32m\"content\": \"The Center for Applied AI and Machine Learning at UTD is a \u001b[0m\n",
       "\u001b[32mresearch center that focuses on applying leading-edge AI & ML technologies and solutions for its partners\\' \u001b[0m\n",
       "\u001b[32mstrategic products and services. The center is housed in the Department of Computer Science within the Erik Jonsson\u001b[0m\n",
       "\u001b[32mSchool of Engineering and Computer Science at the University of Texas at Dallas.\", \"additional_kwargs\": \u001b[0m\u001b[32m{\u001b[0m\u001b[32m}\u001b[0m\u001b[32m, \u001b[0m\n",
       "\u001b[32m\"example\": false\u001b[0m\u001b[32m}\u001b[0m\u001b[32m}\u001b[0m\u001b[32m'\u001b[0m\n",
       "\u001b[1m}\u001b[0m\n"
      ]
     },
     "metadata": {},
     "output_type": "display_data"
    },
    {
     "data": {
      "text/html": [
       "<pre style=\"white-space:pre;overflow-x:auto;line-height:normal;font-family:Menlo,'DejaVu Sans Mono',consolas,'Courier New',monospace\"><span style=\"font-weight: bold\">{</span>\n",
       "    <span style=\"color: #008000; text-decoration-color: #008000\">'_id'</span>: <span style=\"color: #800080; text-decoration-color: #800080; font-weight: bold\">ObjectId</span><span style=\"font-weight: bold\">(</span><span style=\"color: #008000; text-decoration-color: #008000\">'64aaf601cdeb2eca33567c13'</span><span style=\"font-weight: bold\">)</span>,\n",
       "    <span style=\"color: #008000; text-decoration-color: #008000\">'SessionId'</span>: <span style=\"color: #008000; text-decoration-color: #008000\">'FTest_qTest_nTest_PTest_JTest_qTest_QTest_ITest_PTest_hTest_T'</span>,\n",
       "    <span style=\"color: #008000; text-decoration-color: #008000\">'History'</span>: <span style=\"color: #008000; text-decoration-color: #008000\">'{\"type\": \"human\", \"data\": {\"content\": \"Which professors do research in AI at UTD?\", </span>\n",
       "<span style=\"color: #008000; text-decoration-color: #008000\">\"additional_kwargs\": {}, \"example\": false}}'</span>\n",
       "<span style=\"font-weight: bold\">}</span>\n",
       "</pre>\n"
      ],
      "text/plain": [
       "\u001b[1m{\u001b[0m\n",
       "    \u001b[32m'_id'\u001b[0m: \u001b[1;35mObjectId\u001b[0m\u001b[1m(\u001b[0m\u001b[32m'64aaf601cdeb2eca33567c13'\u001b[0m\u001b[1m)\u001b[0m,\n",
       "    \u001b[32m'SessionId'\u001b[0m: \u001b[32m'FTest_qTest_nTest_PTest_JTest_qTest_QTest_ITest_PTest_hTest_T'\u001b[0m,\n",
       "    \u001b[32m'History'\u001b[0m: \u001b[32m'\u001b[0m\u001b[32m{\u001b[0m\u001b[32m\"type\": \"human\", \"data\": \u001b[0m\u001b[32m{\u001b[0m\u001b[32m\"content\": \"Which professors do research in AI at UTD?\", \u001b[0m\n",
       "\u001b[32m\"additional_kwargs\": \u001b[0m\u001b[32m{\u001b[0m\u001b[32m}\u001b[0m\u001b[32m, \"example\": false\u001b[0m\u001b[32m}\u001b[0m\u001b[32m}\u001b[0m\u001b[32m'\u001b[0m\n",
       "\u001b[1m}\u001b[0m\n"
      ]
     },
     "metadata": {},
     "output_type": "display_data"
    },
    {
     "data": {
      "text/html": [
       "<pre style=\"white-space:pre;overflow-x:auto;line-height:normal;font-family:Menlo,'DejaVu Sans Mono',consolas,'Courier New',monospace\"><span style=\"font-weight: bold\">{</span>\n",
       "    <span style=\"color: #008000; text-decoration-color: #008000\">'_id'</span>: <span style=\"color: #800080; text-decoration-color: #800080; font-weight: bold\">ObjectId</span><span style=\"font-weight: bold\">(</span><span style=\"color: #008000; text-decoration-color: #008000\">'64aaf601cdeb2eca33567c14'</span><span style=\"font-weight: bold\">)</span>,\n",
       "    <span style=\"color: #008000; text-decoration-color: #008000\">'SessionId'</span>: <span style=\"color: #008000; text-decoration-color: #008000\">'FTest_qTest_nTest_PTest_JTest_qTest_QTest_ITest_PTest_hTest_T'</span>,\n",
       "    <span style=\"color: #008000; text-decoration-color: #008000\">'History'</span>: <span style=\"color: #008000; text-decoration-color: #008000\">'{\"type\": \"ai\", \"data\": {\"content\": \"The core team consists of researchers whose expertise lie in </span>\n",
       "<span style=\"color: #008000; text-decoration-color: #008000\">artificial intelligence, machine learning, natural language processing, deep learning, data mining, big data, </span>\n",
       "<span style=\"color: #008000; text-decoration-color: #008000\">computational logic, explainable AI, automated commonsense reasoning, probabilistic graphical models, health </span>\n",
       "<span style=\"color: #008000; text-decoration-color: #008000\">informatics/precision health, medical informatics, and biomedical applications.\", \"additional_kwargs\": {}, </span>\n",
       "<span style=\"color: #008000; text-decoration-color: #008000\">\"example\": false}}'</span>\n",
       "<span style=\"font-weight: bold\">}</span>\n",
       "</pre>\n"
      ],
      "text/plain": [
       "\u001b[1m{\u001b[0m\n",
       "    \u001b[32m'_id'\u001b[0m: \u001b[1;35mObjectId\u001b[0m\u001b[1m(\u001b[0m\u001b[32m'64aaf601cdeb2eca33567c14'\u001b[0m\u001b[1m)\u001b[0m,\n",
       "    \u001b[32m'SessionId'\u001b[0m: \u001b[32m'FTest_qTest_nTest_PTest_JTest_qTest_QTest_ITest_PTest_hTest_T'\u001b[0m,\n",
       "    \u001b[32m'History'\u001b[0m: \u001b[32m'\u001b[0m\u001b[32m{\u001b[0m\u001b[32m\"type\": \"ai\", \"data\": \u001b[0m\u001b[32m{\u001b[0m\u001b[32m\"content\": \"The core team consists of researchers whose expertise lie in \u001b[0m\n",
       "\u001b[32martificial intelligence, machine learning, natural language processing, deep learning, data mining, big data, \u001b[0m\n",
       "\u001b[32mcomputational logic, explainable AI, automated commonsense reasoning, probabilistic graphical models, health \u001b[0m\n",
       "\u001b[32minformatics/precision health, medical informatics, and biomedical applications.\", \"additional_kwargs\": \u001b[0m\u001b[32m{\u001b[0m\u001b[32m}\u001b[0m\u001b[32m, \u001b[0m\n",
       "\u001b[32m\"example\": false\u001b[0m\u001b[32m}\u001b[0m\u001b[32m}\u001b[0m\u001b[32m'\u001b[0m\n",
       "\u001b[1m}\u001b[0m\n"
      ]
     },
     "metadata": {},
     "output_type": "display_data"
    },
    {
     "data": {
      "text/html": [
       "<pre style=\"white-space:pre;overflow-x:auto;line-height:normal;font-family:Menlo,'DejaVu Sans Mono',consolas,'Courier New',monospace\"><span style=\"font-weight: bold\">{</span>\n",
       "    <span style=\"color: #008000; text-decoration-color: #008000\">'_id'</span>: <span style=\"color: #800080; text-decoration-color: #800080; font-weight: bold\">ObjectId</span><span style=\"font-weight: bold\">(</span><span style=\"color: #008000; text-decoration-color: #008000\">'64aaf5010556d4ce49f02eef'</span><span style=\"font-weight: bold\">)</span>,\n",
       "    <span style=\"color: #008000; text-decoration-color: #008000\">'SessionId'</span>: <span style=\"color: #008000; text-decoration-color: #008000\">'GTest_FTest_yTest_NTest_UTest_mTest_sTest_OTest_nTest_TTest_v'</span>,\n",
       "    <span style=\"color: #008000; text-decoration-color: #008000\">'History'</span>: <span style=\"color: #008000; text-decoration-color: #008000\">'{\"type\": \"human\", \"data\": {\"content\": \"What is Math 2419\", \"additional_kwargs\": {}, \"example\": </span>\n",
       "<span style=\"color: #008000; text-decoration-color: #008000\">false}}'</span>\n",
       "<span style=\"font-weight: bold\">}</span>\n",
       "</pre>\n"
      ],
      "text/plain": [
       "\u001b[1m{\u001b[0m\n",
       "    \u001b[32m'_id'\u001b[0m: \u001b[1;35mObjectId\u001b[0m\u001b[1m(\u001b[0m\u001b[32m'64aaf5010556d4ce49f02eef'\u001b[0m\u001b[1m)\u001b[0m,\n",
       "    \u001b[32m'SessionId'\u001b[0m: \u001b[32m'GTest_FTest_yTest_NTest_UTest_mTest_sTest_OTest_nTest_TTest_v'\u001b[0m,\n",
       "    \u001b[32m'History'\u001b[0m: \u001b[32m'\u001b[0m\u001b[32m{\u001b[0m\u001b[32m\"type\": \"human\", \"data\": \u001b[0m\u001b[32m{\u001b[0m\u001b[32m\"content\": \"What is Math 2419\", \"additional_kwargs\": \u001b[0m\u001b[32m{\u001b[0m\u001b[32m}\u001b[0m\u001b[32m, \"example\": \u001b[0m\n",
       "\u001b[32mfalse\u001b[0m\u001b[32m}\u001b[0m\u001b[32m}\u001b[0m\u001b[32m'\u001b[0m\n",
       "\u001b[1m}\u001b[0m\n"
      ]
     },
     "metadata": {},
     "output_type": "display_data"
    },
    {
     "data": {
      "text/html": [
       "<pre style=\"white-space:pre;overflow-x:auto;line-height:normal;font-family:Menlo,'DejaVu Sans Mono',consolas,'Courier New',monospace\"><span style=\"font-weight: bold\">{</span>\n",
       "    <span style=\"color: #008000; text-decoration-color: #008000\">'_id'</span>: <span style=\"color: #800080; text-decoration-color: #800080; font-weight: bold\">ObjectId</span><span style=\"font-weight: bold\">(</span><span style=\"color: #008000; text-decoration-color: #008000\">'64aaf5010556d4ce49f02ef0'</span><span style=\"font-weight: bold\">)</span>,\n",
       "    <span style=\"color: #008000; text-decoration-color: #008000\">'SessionId'</span>: <span style=\"color: #008000; text-decoration-color: #008000\">'GTest_FTest_yTest_NTest_UTest_mTest_sTest_OTest_nTest_TTest_v'</span>,\n",
       "    <span style=\"color: #008000; text-decoration-color: #008000\">'History'</span>: <span style=\"color: #008000; text-decoration-color: #008000\">'{\"type\": \"ai\", \"data\": {\"content\": \"Math 2419 is a course that covers improper integrals, </span>\n",
       "<span style=\"color: #008000; text-decoration-color: #008000\">sequences, infinite series, power series, parametric equations and polar coordinates, vectors, vector valued </span>\n",
       "<span style=\"color: #008000; text-decoration-color: #008000\">functions, functions of several variables, partial derivatives and applications, and multiple integration.\", </span>\n",
       "<span style=\"color: #008000; text-decoration-color: #008000\">\"additional_kwargs\": {}, \"example\": false}}'</span>\n",
       "<span style=\"font-weight: bold\">}</span>\n",
       "</pre>\n"
      ],
      "text/plain": [
       "\u001b[1m{\u001b[0m\n",
       "    \u001b[32m'_id'\u001b[0m: \u001b[1;35mObjectId\u001b[0m\u001b[1m(\u001b[0m\u001b[32m'64aaf5010556d4ce49f02ef0'\u001b[0m\u001b[1m)\u001b[0m,\n",
       "    \u001b[32m'SessionId'\u001b[0m: \u001b[32m'GTest_FTest_yTest_NTest_UTest_mTest_sTest_OTest_nTest_TTest_v'\u001b[0m,\n",
       "    \u001b[32m'History'\u001b[0m: \u001b[32m'\u001b[0m\u001b[32m{\u001b[0m\u001b[32m\"type\": \"ai\", \"data\": \u001b[0m\u001b[32m{\u001b[0m\u001b[32m\"content\": \"Math 2419 is a course that covers improper integrals, \u001b[0m\n",
       "\u001b[32msequences, infinite series, power series, parametric equations and polar coordinates, vectors, vector valued \u001b[0m\n",
       "\u001b[32mfunctions, functions of several variables, partial derivatives and applications, and multiple integration.\", \u001b[0m\n",
       "\u001b[32m\"additional_kwargs\": \u001b[0m\u001b[32m{\u001b[0m\u001b[32m}\u001b[0m\u001b[32m, \"example\": false\u001b[0m\u001b[32m}\u001b[0m\u001b[32m}\u001b[0m\u001b[32m'\u001b[0m\n",
       "\u001b[1m}\u001b[0m\n"
      ]
     },
     "metadata": {},
     "output_type": "display_data"
    },
    {
     "data": {
      "text/html": [
       "<pre style=\"white-space:pre;overflow-x:auto;line-height:normal;font-family:Menlo,'DejaVu Sans Mono',consolas,'Courier New',monospace\"><span style=\"font-weight: bold\">{</span>\n",
       "    <span style=\"color: #008000; text-decoration-color: #008000\">'_id'</span>: <span style=\"color: #800080; text-decoration-color: #800080; font-weight: bold\">ObjectId</span><span style=\"font-weight: bold\">(</span><span style=\"color: #008000; text-decoration-color: #008000\">'64aaf34a24819bce1f1f1252'</span><span style=\"font-weight: bold\">)</span>,\n",
       "    <span style=\"color: #008000; text-decoration-color: #008000\">'SessionId'</span>: <span style=\"color: #008000; text-decoration-color: #008000\">'GTest_aTest_VTest_qTest_XTest_wTest_sTest_VTest_ITest_NTest_q'</span>,\n",
       "    <span style=\"color: #008000; text-decoration-color: #008000\">'History'</span>: <span style=\"color: #008000; text-decoration-color: #008000\">'{\"type\": \"human\", \"data\": {\"content\": \"Who is the president of UT Dallas?\", \"additional_kwargs\": </span>\n",
       "<span style=\"color: #008000; text-decoration-color: #008000\">{}, \"example\": false}}'</span>\n",
       "<span style=\"font-weight: bold\">}</span>\n",
       "</pre>\n"
      ],
      "text/plain": [
       "\u001b[1m{\u001b[0m\n",
       "    \u001b[32m'_id'\u001b[0m: \u001b[1;35mObjectId\u001b[0m\u001b[1m(\u001b[0m\u001b[32m'64aaf34a24819bce1f1f1252'\u001b[0m\u001b[1m)\u001b[0m,\n",
       "    \u001b[32m'SessionId'\u001b[0m: \u001b[32m'GTest_aTest_VTest_qTest_XTest_wTest_sTest_VTest_ITest_NTest_q'\u001b[0m,\n",
       "    \u001b[32m'History'\u001b[0m: \u001b[32m'\u001b[0m\u001b[32m{\u001b[0m\u001b[32m\"type\": \"human\", \"data\": \u001b[0m\u001b[32m{\u001b[0m\u001b[32m\"content\": \"Who is the president of UT Dallas?\", \"additional_kwargs\": \u001b[0m\n",
       "\u001b[32m{\u001b[0m\u001b[32m}\u001b[0m\u001b[32m, \"example\": false\u001b[0m\u001b[32m}\u001b[0m\u001b[32m}\u001b[0m\u001b[32m'\u001b[0m\n",
       "\u001b[1m}\u001b[0m\n"
      ]
     },
     "metadata": {},
     "output_type": "display_data"
    },
    {
     "data": {
      "text/html": [
       "<pre style=\"white-space:pre;overflow-x:auto;line-height:normal;font-family:Menlo,'DejaVu Sans Mono',consolas,'Courier New',monospace\"><span style=\"font-weight: bold\">{</span>\n",
       "    <span style=\"color: #008000; text-decoration-color: #008000\">'_id'</span>: <span style=\"color: #800080; text-decoration-color: #800080; font-weight: bold\">ObjectId</span><span style=\"font-weight: bold\">(</span><span style=\"color: #008000; text-decoration-color: #008000\">'64aaf34a24819bce1f1f1253'</span><span style=\"font-weight: bold\">)</span>,\n",
       "    <span style=\"color: #008000; text-decoration-color: #008000\">'SessionId'</span>: <span style=\"color: #008000; text-decoration-color: #008000\">'GTest_aTest_VTest_qTest_XTest_wTest_sTest_VTest_ITest_NTest_q'</span>,\n",
       "    <span style=\"color: #008000; text-decoration-color: #008000\">'History'</span>: <span style=\"color: #008000; text-decoration-color: #008000\">'{\"type\": \"ai\", \"data\": {\"content\": \"MALICIOUS\", \"additional_kwargs\": {}, \"example\": false}}'</span>\n",
       "<span style=\"font-weight: bold\">}</span>\n",
       "</pre>\n"
      ],
      "text/plain": [
       "\u001b[1m{\u001b[0m\n",
       "    \u001b[32m'_id'\u001b[0m: \u001b[1;35mObjectId\u001b[0m\u001b[1m(\u001b[0m\u001b[32m'64aaf34a24819bce1f1f1253'\u001b[0m\u001b[1m)\u001b[0m,\n",
       "    \u001b[32m'SessionId'\u001b[0m: \u001b[32m'GTest_aTest_VTest_qTest_XTest_wTest_sTest_VTest_ITest_NTest_q'\u001b[0m,\n",
       "    \u001b[32m'History'\u001b[0m: \u001b[32m'\u001b[0m\u001b[32m{\u001b[0m\u001b[32m\"type\": \"ai\", \"data\": \u001b[0m\u001b[32m{\u001b[0m\u001b[32m\"content\": \"MALICIOUS\", \"additional_kwargs\": \u001b[0m\u001b[32m{\u001b[0m\u001b[32m}\u001b[0m\u001b[32m, \"example\": false\u001b[0m\u001b[32m}\u001b[0m\u001b[32m}\u001b[0m\u001b[32m'\u001b[0m\n",
       "\u001b[1m}\u001b[0m\n"
      ]
     },
     "metadata": {},
     "output_type": "display_data"
    },
    {
     "data": {
      "text/html": [
       "<pre style=\"white-space:pre;overflow-x:auto;line-height:normal;font-family:Menlo,'DejaVu Sans Mono',consolas,'Courier New',monospace\"><span style=\"font-weight: bold\">{</span>\n",
       "    <span style=\"color: #008000; text-decoration-color: #008000\">'_id'</span>: <span style=\"color: #800080; text-decoration-color: #800080; font-weight: bold\">ObjectId</span><span style=\"font-weight: bold\">(</span><span style=\"color: #008000; text-decoration-color: #008000\">'64aaf3ae24819bce1f1f1254'</span><span style=\"font-weight: bold\">)</span>,\n",
       "    <span style=\"color: #008000; text-decoration-color: #008000\">'SessionId'</span>: <span style=\"color: #008000; text-decoration-color: #008000\">'GTest_aTest_VTest_qTest_XTest_wTest_sTest_VTest_ITest_NTest_q'</span>,\n",
       "    <span style=\"color: #008000; text-decoration-color: #008000\">'History'</span>: <span style=\"color: #008000; text-decoration-color: #008000\">'{\"type\": \"human\", \"data\": {\"content\": \"What is Math 2419\", \"additional_kwargs\": {}, \"example\": </span>\n",
       "<span style=\"color: #008000; text-decoration-color: #008000\">false}}'</span>\n",
       "<span style=\"font-weight: bold\">}</span>\n",
       "</pre>\n"
      ],
      "text/plain": [
       "\u001b[1m{\u001b[0m\n",
       "    \u001b[32m'_id'\u001b[0m: \u001b[1;35mObjectId\u001b[0m\u001b[1m(\u001b[0m\u001b[32m'64aaf3ae24819bce1f1f1254'\u001b[0m\u001b[1m)\u001b[0m,\n",
       "    \u001b[32m'SessionId'\u001b[0m: \u001b[32m'GTest_aTest_VTest_qTest_XTest_wTest_sTest_VTest_ITest_NTest_q'\u001b[0m,\n",
       "    \u001b[32m'History'\u001b[0m: \u001b[32m'\u001b[0m\u001b[32m{\u001b[0m\u001b[32m\"type\": \"human\", \"data\": \u001b[0m\u001b[32m{\u001b[0m\u001b[32m\"content\": \"What is Math 2419\", \"additional_kwargs\": \u001b[0m\u001b[32m{\u001b[0m\u001b[32m}\u001b[0m\u001b[32m, \"example\": \u001b[0m\n",
       "\u001b[32mfalse\u001b[0m\u001b[32m}\u001b[0m\u001b[32m}\u001b[0m\u001b[32m'\u001b[0m\n",
       "\u001b[1m}\u001b[0m\n"
      ]
     },
     "metadata": {},
     "output_type": "display_data"
    },
    {
     "data": {
      "text/html": [
       "<pre style=\"white-space:pre;overflow-x:auto;line-height:normal;font-family:Menlo,'DejaVu Sans Mono',consolas,'Courier New',monospace\"><span style=\"font-weight: bold\">{</span>\n",
       "    <span style=\"color: #008000; text-decoration-color: #008000\">'_id'</span>: <span style=\"color: #800080; text-decoration-color: #800080; font-weight: bold\">ObjectId</span><span style=\"font-weight: bold\">(</span><span style=\"color: #008000; text-decoration-color: #008000\">'64aaf3ae24819bce1f1f1255'</span><span style=\"font-weight: bold\">)</span>,\n",
       "    <span style=\"color: #008000; text-decoration-color: #008000\">'SessionId'</span>: <span style=\"color: #008000; text-decoration-color: #008000\">'GTest_aTest_VTest_qTest_XTest_wTest_sTest_VTest_ITest_NTest_q'</span>,\n",
       "    <span style=\"color: #008000; text-decoration-color: #008000\">'History'</span>: <span style=\"color: #008000; text-decoration-color: #008000\">'{\"type\": \"ai\", \"data\": {\"content\": \"MALICIOUS\", \"additional_kwargs\": {}, \"example\": false}}'</span>\n",
       "<span style=\"font-weight: bold\">}</span>\n",
       "</pre>\n"
      ],
      "text/plain": [
       "\u001b[1m{\u001b[0m\n",
       "    \u001b[32m'_id'\u001b[0m: \u001b[1;35mObjectId\u001b[0m\u001b[1m(\u001b[0m\u001b[32m'64aaf3ae24819bce1f1f1255'\u001b[0m\u001b[1m)\u001b[0m,\n",
       "    \u001b[32m'SessionId'\u001b[0m: \u001b[32m'GTest_aTest_VTest_qTest_XTest_wTest_sTest_VTest_ITest_NTest_q'\u001b[0m,\n",
       "    \u001b[32m'History'\u001b[0m: \u001b[32m'\u001b[0m\u001b[32m{\u001b[0m\u001b[32m\"type\": \"ai\", \"data\": \u001b[0m\u001b[32m{\u001b[0m\u001b[32m\"content\": \"MALICIOUS\", \"additional_kwargs\": \u001b[0m\u001b[32m{\u001b[0m\u001b[32m}\u001b[0m\u001b[32m, \"example\": false\u001b[0m\u001b[32m}\u001b[0m\u001b[32m}\u001b[0m\u001b[32m'\u001b[0m\n",
       "\u001b[1m}\u001b[0m\n"
      ]
     },
     "metadata": {},
     "output_type": "display_data"
    },
    {
     "data": {
      "text/html": [
       "<pre style=\"white-space:pre;overflow-x:auto;line-height:normal;font-family:Menlo,'DejaVu Sans Mono',consolas,'Courier New',monospace\"><span style=\"font-weight: bold\">{</span>\n",
       "    <span style=\"color: #008000; text-decoration-color: #008000\">'_id'</span>: <span style=\"color: #800080; text-decoration-color: #800080; font-weight: bold\">ObjectId</span><span style=\"font-weight: bold\">(</span><span style=\"color: #008000; text-decoration-color: #008000\">'64ab0c19b21d45e95c2de324'</span><span style=\"font-weight: bold\">)</span>,\n",
       "    <span style=\"color: #008000; text-decoration-color: #008000\">'SessionId'</span>: <span style=\"color: #008000; text-decoration-color: #008000\">'ITest_OTest_ETest_jTest_rTest_qTest_ATest_pTest_yTest_ATest_q'</span>,\n",
       "    <span style=\"color: #008000; text-decoration-color: #008000\">'History'</span>: <span style=\"color: #008000; text-decoration-color: #008000\">'{\"type\": \"human\", \"data\": {\"content\": \"Who is Dr. Vincent Ng?\", \"additional_kwargs\": {}, \"example\":</span>\n",
       "<span style=\"color: #008000; text-decoration-color: #008000\">false}}'</span>\n",
       "<span style=\"font-weight: bold\">}</span>\n",
       "</pre>\n"
      ],
      "text/plain": [
       "\u001b[1m{\u001b[0m\n",
       "    \u001b[32m'_id'\u001b[0m: \u001b[1;35mObjectId\u001b[0m\u001b[1m(\u001b[0m\u001b[32m'64ab0c19b21d45e95c2de324'\u001b[0m\u001b[1m)\u001b[0m,\n",
       "    \u001b[32m'SessionId'\u001b[0m: \u001b[32m'ITest_OTest_ETest_jTest_rTest_qTest_ATest_pTest_yTest_ATest_q'\u001b[0m,\n",
       "    \u001b[32m'History'\u001b[0m: \u001b[32m'\u001b[0m\u001b[32m{\u001b[0m\u001b[32m\"type\": \"human\", \"data\": \u001b[0m\u001b[32m{\u001b[0m\u001b[32m\"content\": \"Who is Dr. Vincent Ng?\", \"additional_kwargs\": \u001b[0m\u001b[32m{\u001b[0m\u001b[32m}\u001b[0m\u001b[32m, \"example\":\u001b[0m\n",
       "\u001b[32mfalse\u001b[0m\u001b[32m}\u001b[0m\u001b[32m}\u001b[0m\u001b[32m'\u001b[0m\n",
       "\u001b[1m}\u001b[0m\n"
      ]
     },
     "metadata": {},
     "output_type": "display_data"
    },
    {
     "data": {
      "text/html": [
       "<pre style=\"white-space:pre;overflow-x:auto;line-height:normal;font-family:Menlo,'DejaVu Sans Mono',consolas,'Courier New',monospace\"><span style=\"font-weight: bold\">{</span>\n",
       "    <span style=\"color: #008000; text-decoration-color: #008000\">'_id'</span>: <span style=\"color: #800080; text-decoration-color: #800080; font-weight: bold\">ObjectId</span><span style=\"font-weight: bold\">(</span><span style=\"color: #008000; text-decoration-color: #008000\">'64ab0c19b21d45e95c2de325'</span><span style=\"font-weight: bold\">)</span>,\n",
       "    <span style=\"color: #008000; text-decoration-color: #008000\">'SessionId'</span>: <span style=\"color: #008000; text-decoration-color: #008000\">'ITest_OTest_ETest_jTest_rTest_qTest_ATest_pTest_yTest_ATest_q'</span>,\n",
       "    <span style=\"color: #008000; text-decoration-color: #008000\">'History'</span>: <span style=\"color: #008000; text-decoration-color: #008000\">'{\"type\": \"ai\", \"data\": {\"content\": \"Vincent Ng is a professor of computer science at the University</span>\n",
       "<span style=\"color: #008000; text-decoration-color: #008000\">of Texas at Dallas. He is also the director of the Human Language Technology Research Institute. His research </span>\n",
       "<span style=\"color: #008000; text-decoration-color: #008000\">interests include natural language processing, machine learning, and artificial intelligence.\", </span>\n",
       "<span style=\"color: #008000; text-decoration-color: #008000\">\"additional_kwargs\": {}, \"example\": false}}'</span>\n",
       "<span style=\"font-weight: bold\">}</span>\n",
       "</pre>\n"
      ],
      "text/plain": [
       "\u001b[1m{\u001b[0m\n",
       "    \u001b[32m'_id'\u001b[0m: \u001b[1;35mObjectId\u001b[0m\u001b[1m(\u001b[0m\u001b[32m'64ab0c19b21d45e95c2de325'\u001b[0m\u001b[1m)\u001b[0m,\n",
       "    \u001b[32m'SessionId'\u001b[0m: \u001b[32m'ITest_OTest_ETest_jTest_rTest_qTest_ATest_pTest_yTest_ATest_q'\u001b[0m,\n",
       "    \u001b[32m'History'\u001b[0m: \u001b[32m'\u001b[0m\u001b[32m{\u001b[0m\u001b[32m\"type\": \"ai\", \"data\": \u001b[0m\u001b[32m{\u001b[0m\u001b[32m\"content\": \"Vincent Ng is a professor of computer science at the University\u001b[0m\n",
       "\u001b[32mof Texas at Dallas. He is also the director of the Human Language Technology Research Institute. His research \u001b[0m\n",
       "\u001b[32minterests include natural language processing, machine learning, and artificial intelligence.\", \u001b[0m\n",
       "\u001b[32m\"additional_kwargs\": \u001b[0m\u001b[32m{\u001b[0m\u001b[32m}\u001b[0m\u001b[32m, \"example\": false\u001b[0m\u001b[32m}\u001b[0m\u001b[32m}\u001b[0m\u001b[32m'\u001b[0m\n",
       "\u001b[1m}\u001b[0m\n"
      ]
     },
     "metadata": {},
     "output_type": "display_data"
    },
    {
     "data": {
      "text/html": [
       "<pre style=\"white-space:pre;overflow-x:auto;line-height:normal;font-family:Menlo,'DejaVu Sans Mono',consolas,'Courier New',monospace\"><span style=\"font-weight: bold\">{</span>\n",
       "    <span style=\"color: #008000; text-decoration-color: #008000\">'_id'</span>: <span style=\"color: #800080; text-decoration-color: #800080; font-weight: bold\">ObjectId</span><span style=\"font-weight: bold\">(</span><span style=\"color: #008000; text-decoration-color: #008000\">'64ab011c9fca3cf520c3a4a8'</span><span style=\"font-weight: bold\">)</span>,\n",
       "    <span style=\"color: #008000; text-decoration-color: #008000\">'SessionId'</span>: <span style=\"color: #008000; text-decoration-color: #008000\">'ITest_nTest_mTest_ATest_aTest_ATest_WTest_lTest_aTest_GTest_c'</span>,\n",
       "    <span style=\"color: #008000; text-decoration-color: #008000\">'History'</span>: <span style=\"color: #008000; text-decoration-color: #008000\">'{\"type\": \"human\", \"data\": {\"content\": \"How can I contact Dr. Vincent Ng?\", \"additional_kwargs\": {},</span>\n",
       "<span style=\"color: #008000; text-decoration-color: #008000\">\"example\": false}}'</span>\n",
       "<span style=\"font-weight: bold\">}</span>\n",
       "</pre>\n"
      ],
      "text/plain": [
       "\u001b[1m{\u001b[0m\n",
       "    \u001b[32m'_id'\u001b[0m: \u001b[1;35mObjectId\u001b[0m\u001b[1m(\u001b[0m\u001b[32m'64ab011c9fca3cf520c3a4a8'\u001b[0m\u001b[1m)\u001b[0m,\n",
       "    \u001b[32m'SessionId'\u001b[0m: \u001b[32m'ITest_nTest_mTest_ATest_aTest_ATest_WTest_lTest_aTest_GTest_c'\u001b[0m,\n",
       "    \u001b[32m'History'\u001b[0m: \u001b[32m'\u001b[0m\u001b[32m{\u001b[0m\u001b[32m\"type\": \"human\", \"data\": \u001b[0m\u001b[32m{\u001b[0m\u001b[32m\"content\": \"How can I contact Dr. Vincent Ng?\", \"additional_kwargs\": \u001b[0m\u001b[32m{\u001b[0m\u001b[32m}\u001b[0m\u001b[32m,\u001b[0m\n",
       "\u001b[32m\"example\": false\u001b[0m\u001b[32m}\u001b[0m\u001b[32m}\u001b[0m\u001b[32m'\u001b[0m\n",
       "\u001b[1m}\u001b[0m\n"
      ]
     },
     "metadata": {},
     "output_type": "display_data"
    },
    {
     "data": {
      "text/html": [
       "<pre style=\"white-space:pre;overflow-x:auto;line-height:normal;font-family:Menlo,'DejaVu Sans Mono',consolas,'Courier New',monospace\"><span style=\"font-weight: bold\">{</span>\n",
       "    <span style=\"color: #008000; text-decoration-color: #008000\">'_id'</span>: <span style=\"color: #800080; text-decoration-color: #800080; font-weight: bold\">ObjectId</span><span style=\"font-weight: bold\">(</span><span style=\"color: #008000; text-decoration-color: #008000\">'64ab011c9fca3cf520c3a4a9'</span><span style=\"font-weight: bold\">)</span>,\n",
       "    <span style=\"color: #008000; text-decoration-color: #008000\">'SessionId'</span>: <span style=\"color: #008000; text-decoration-color: #008000\">'ITest_nTest_mTest_ATest_aTest_ATest_WTest_lTest_aTest_GTest_c'</span>,\n",
       "    <span style=\"color: #008000; text-decoration-color: #008000\">'History'</span>: <span style=\"color: #008000; text-decoration-color: #008000\">'{\"type\": \"ai\", \"data\": {\"content\": \"Dr. Vincent Ng\\'s contact information is as </span>\n",
       "<span style=\"color: #008000; text-decoration-color: #008000\">follows:\\\\n\\\\nOffice hours for Summer 2023: By appointment only\\\\nOffice: ECSS 3.404\\\\nPhone: 972-883-4581\\\\nFax: </span>\n",
       "<span style=\"color: #008000; text-decoration-color: #008000\">972-883-2349\\\\nEmail: vince at hlt dot utdallas dot edu\\\\nAdministrative assistant: Cathy Zhao (cathy dot zhao at </span>\n",
       "<span style=\"color: #008000; text-decoration-color: #008000\">utdallas dot edu)\\\\nPostal address: Computer Science Department\", \"additional_kwargs\": {}, \"example\": false}}'</span>\n",
       "<span style=\"font-weight: bold\">}</span>\n",
       "</pre>\n"
      ],
      "text/plain": [
       "\u001b[1m{\u001b[0m\n",
       "    \u001b[32m'_id'\u001b[0m: \u001b[1;35mObjectId\u001b[0m\u001b[1m(\u001b[0m\u001b[32m'64ab011c9fca3cf520c3a4a9'\u001b[0m\u001b[1m)\u001b[0m,\n",
       "    \u001b[32m'SessionId'\u001b[0m: \u001b[32m'ITest_nTest_mTest_ATest_aTest_ATest_WTest_lTest_aTest_GTest_c'\u001b[0m,\n",
       "    \u001b[32m'History'\u001b[0m: \u001b[32m'\u001b[0m\u001b[32m{\u001b[0m\u001b[32m\"type\": \"ai\", \"data\": \u001b[0m\u001b[32m{\u001b[0m\u001b[32m\"content\": \"Dr. Vincent Ng\\'s contact information is as \u001b[0m\n",
       "\u001b[32mfollows:\\\\n\\\\nOffice hours for Summer 2023: By appointment only\\\\nOffice: ECSS 3.404\\\\nPhone: 972-883-4581\\\\nFax: \u001b[0m\n",
       "\u001b[32m972-883-2349\\\\nEmail: vince at hlt dot utdallas dot edu\\\\nAdministrative assistant: Cathy Zhao \u001b[0m\u001b[32m(\u001b[0m\u001b[32mcathy dot zhao at \u001b[0m\n",
       "\u001b[32mutdallas dot edu\u001b[0m\u001b[32m)\u001b[0m\u001b[32m\\\\nPostal address: Computer Science Department\", \"additional_kwargs\": \u001b[0m\u001b[32m{\u001b[0m\u001b[32m}\u001b[0m\u001b[32m, \"example\": false\u001b[0m\u001b[32m}\u001b[0m\u001b[32m}\u001b[0m\u001b[32m'\u001b[0m\n",
       "\u001b[1m}\u001b[0m\n"
      ]
     },
     "metadata": {},
     "output_type": "display_data"
    },
    {
     "data": {
      "text/html": [
       "<pre style=\"white-space:pre;overflow-x:auto;line-height:normal;font-family:Menlo,'DejaVu Sans Mono',consolas,'Courier New',monospace\"><span style=\"font-weight: bold\">{</span>\n",
       "    <span style=\"color: #008000; text-decoration-color: #008000\">'_id'</span>: <span style=\"color: #800080; text-decoration-color: #800080; font-weight: bold\">ObjectId</span><span style=\"font-weight: bold\">(</span><span style=\"color: #008000; text-decoration-color: #008000\">'64ab018ac76f5d2dff81edf9'</span><span style=\"font-weight: bold\">)</span>,\n",
       "    <span style=\"color: #008000; text-decoration-color: #008000\">'SessionId'</span>: <span style=\"color: #008000; text-decoration-color: #008000\">'LTest_WTest_RTest_WTest_pTest_uTest_yTest_eTest_FTest_HTest_m'</span>,\n",
       "    <span style=\"color: #008000; text-decoration-color: #008000\">'History'</span>: <span style=\"color: #008000; text-decoration-color: #008000\">'{\"type\": \"human\", \"data\": {\"content\": \"How can I contact Dr. Vincent Ng?\", \"additional_kwargs\": {},</span>\n",
       "<span style=\"color: #008000; text-decoration-color: #008000\">\"example\": false}}'</span>\n",
       "<span style=\"font-weight: bold\">}</span>\n",
       "</pre>\n"
      ],
      "text/plain": [
       "\u001b[1m{\u001b[0m\n",
       "    \u001b[32m'_id'\u001b[0m: \u001b[1;35mObjectId\u001b[0m\u001b[1m(\u001b[0m\u001b[32m'64ab018ac76f5d2dff81edf9'\u001b[0m\u001b[1m)\u001b[0m,\n",
       "    \u001b[32m'SessionId'\u001b[0m: \u001b[32m'LTest_WTest_RTest_WTest_pTest_uTest_yTest_eTest_FTest_HTest_m'\u001b[0m,\n",
       "    \u001b[32m'History'\u001b[0m: \u001b[32m'\u001b[0m\u001b[32m{\u001b[0m\u001b[32m\"type\": \"human\", \"data\": \u001b[0m\u001b[32m{\u001b[0m\u001b[32m\"content\": \"How can I contact Dr. Vincent Ng?\", \"additional_kwargs\": \u001b[0m\u001b[32m{\u001b[0m\u001b[32m}\u001b[0m\u001b[32m,\u001b[0m\n",
       "\u001b[32m\"example\": false\u001b[0m\u001b[32m}\u001b[0m\u001b[32m}\u001b[0m\u001b[32m'\u001b[0m\n",
       "\u001b[1m}\u001b[0m\n"
      ]
     },
     "metadata": {},
     "output_type": "display_data"
    },
    {
     "data": {
      "text/html": [
       "<pre style=\"white-space:pre;overflow-x:auto;line-height:normal;font-family:Menlo,'DejaVu Sans Mono',consolas,'Courier New',monospace\"><span style=\"font-weight: bold\">{</span>\n",
       "    <span style=\"color: #008000; text-decoration-color: #008000\">'_id'</span>: <span style=\"color: #800080; text-decoration-color: #800080; font-weight: bold\">ObjectId</span><span style=\"font-weight: bold\">(</span><span style=\"color: #008000; text-decoration-color: #008000\">'64ab018bc76f5d2dff81edfa'</span><span style=\"font-weight: bold\">)</span>,\n",
       "    <span style=\"color: #008000; text-decoration-color: #008000\">'SessionId'</span>: <span style=\"color: #008000; text-decoration-color: #008000\">'LTest_WTest_RTest_WTest_pTest_uTest_yTest_eTest_FTest_HTest_m'</span>,\n",
       "    <span style=\"color: #008000; text-decoration-color: #008000\">'History'</span>: <span style=\"color: #008000; text-decoration-color: #008000\">'{\"type\": \"ai\", \"data\": {\"content\": \"I\\'m sorry, I couldn\\'t find any information on how to contact </span>\n",
       "<span style=\"color: #008000; text-decoration-color: #008000\">Dr. Vincent Ng.\", \"additional_kwargs\": {}, \"example\": false}}'</span>\n",
       "<span style=\"font-weight: bold\">}</span>\n",
       "</pre>\n"
      ],
      "text/plain": [
       "\u001b[1m{\u001b[0m\n",
       "    \u001b[32m'_id'\u001b[0m: \u001b[1;35mObjectId\u001b[0m\u001b[1m(\u001b[0m\u001b[32m'64ab018bc76f5d2dff81edfa'\u001b[0m\u001b[1m)\u001b[0m,\n",
       "    \u001b[32m'SessionId'\u001b[0m: \u001b[32m'LTest_WTest_RTest_WTest_pTest_uTest_yTest_eTest_FTest_HTest_m'\u001b[0m,\n",
       "    \u001b[32m'History'\u001b[0m: \u001b[32m'\u001b[0m\u001b[32m{\u001b[0m\u001b[32m\"type\": \"ai\", \"data\": \u001b[0m\u001b[32m{\u001b[0m\u001b[32m\"content\": \"I\\'m sorry, I couldn\\'t find any information on how to contact \u001b[0m\n",
       "\u001b[32mDr. Vincent Ng.\", \"additional_kwargs\": \u001b[0m\u001b[32m{\u001b[0m\u001b[32m}\u001b[0m\u001b[32m, \"example\": false\u001b[0m\u001b[32m}\u001b[0m\u001b[32m}\u001b[0m\u001b[32m'\u001b[0m\n",
       "\u001b[1m}\u001b[0m\n"
      ]
     },
     "metadata": {},
     "output_type": "display_data"
    },
    {
     "data": {
      "text/html": [
       "<pre style=\"white-space:pre;overflow-x:auto;line-height:normal;font-family:Menlo,'DejaVu Sans Mono',consolas,'Courier New',monospace\"><span style=\"font-weight: bold\">{</span>\n",
       "    <span style=\"color: #008000; text-decoration-color: #008000\">'_id'</span>: <span style=\"color: #800080; text-decoration-color: #800080; font-weight: bold\">ObjectId</span><span style=\"font-weight: bold\">(</span><span style=\"color: #008000; text-decoration-color: #008000\">'64aaf7706d0d8c931cdc389a'</span><span style=\"font-weight: bold\">)</span>,\n",
       "    <span style=\"color: #008000; text-decoration-color: #008000\">'SessionId'</span>: <span style=\"color: #008000; text-decoration-color: #008000\">'LTest_cTest_RTest_oTest_pTest_hTest_ETest_aTest_ZTest_iTest_M'</span>,\n",
       "    <span style=\"color: #008000; text-decoration-color: #008000\">'History'</span>: <span style=\"color: #008000; text-decoration-color: #008000\">'{\"type\": \"human\", \"data\": {\"content\": \"Which professors do research in AI at UTD?\", </span>\n",
       "<span style=\"color: #008000; text-decoration-color: #008000\">\"additional_kwargs\": {}, \"example\": false}}'</span>\n",
       "<span style=\"font-weight: bold\">}</span>\n",
       "</pre>\n"
      ],
      "text/plain": [
       "\u001b[1m{\u001b[0m\n",
       "    \u001b[32m'_id'\u001b[0m: \u001b[1;35mObjectId\u001b[0m\u001b[1m(\u001b[0m\u001b[32m'64aaf7706d0d8c931cdc389a'\u001b[0m\u001b[1m)\u001b[0m,\n",
       "    \u001b[32m'SessionId'\u001b[0m: \u001b[32m'LTest_cTest_RTest_oTest_pTest_hTest_ETest_aTest_ZTest_iTest_M'\u001b[0m,\n",
       "    \u001b[32m'History'\u001b[0m: \u001b[32m'\u001b[0m\u001b[32m{\u001b[0m\u001b[32m\"type\": \"human\", \"data\": \u001b[0m\u001b[32m{\u001b[0m\u001b[32m\"content\": \"Which professors do research in AI at UTD?\", \u001b[0m\n",
       "\u001b[32m\"additional_kwargs\": \u001b[0m\u001b[32m{\u001b[0m\u001b[32m}\u001b[0m\u001b[32m, \"example\": false\u001b[0m\u001b[32m}\u001b[0m\u001b[32m}\u001b[0m\u001b[32m'\u001b[0m\n",
       "\u001b[1m}\u001b[0m\n"
      ]
     },
     "metadata": {},
     "output_type": "display_data"
    },
    {
     "data": {
      "text/html": [
       "<pre style=\"white-space:pre;overflow-x:auto;line-height:normal;font-family:Menlo,'DejaVu Sans Mono',consolas,'Courier New',monospace\"><span style=\"font-weight: bold\">{</span>\n",
       "    <span style=\"color: #008000; text-decoration-color: #008000\">'_id'</span>: <span style=\"color: #800080; text-decoration-color: #800080; font-weight: bold\">ObjectId</span><span style=\"font-weight: bold\">(</span><span style=\"color: #008000; text-decoration-color: #008000\">'64aaf7706d0d8c931cdc389b'</span><span style=\"font-weight: bold\">)</span>,\n",
       "    <span style=\"color: #008000; text-decoration-color: #008000\">'SessionId'</span>: <span style=\"color: #008000; text-decoration-color: #008000\">'LTest_cTest_RTest_oTest_pTest_hTest_ETest_aTest_ZTest_iTest_M'</span>,\n",
       "    <span style=\"color: #008000; text-decoration-color: #008000\">'History'</span>: <span style=\"color: #008000; text-decoration-color: #008000\">'{\"type\": \"ai\", \"data\": {\"content\": \"The Center for Applied AI and Machine Learning (CAIML) is </span>\n",
       "<span style=\"color: #008000; text-decoration-color: #008000\">housed in the Department of Computer Science within the Erik Jonsson School of Engineering and Computer Science at </span>\n",
       "<span style=\"color: #008000; text-decoration-color: #008000\">the University of Texas at Dallas. Our mission is to create a center of excellence skilled in applying leading-edge</span>\n",
       "<span style=\"color: #008000; text-decoration-color: #008000\">AI &amp; ML technologies and solutions for our partners\\\\u2019 strategic products and services. The objective of the </span>\n",
       "<span style=\"color: #008000; text-decoration-color: #008000\">Center for Applied AI and Machine Learning is to develop long-term, ongoing joint activities through research and </span>\n",
       "<span style=\"color: #008000; text-decoration-color: #008000\">development partnerships with companies and organizations in the Dallas Fort Worth Metroplex area and Texas. Our </span>\n",
       "<span style=\"color: #008000; text-decoration-color: #008000\">aim is to focus on applied R&amp;D rather than on basic research with the goal of providing immediate solutions to </span>\n",
       "<span style=\"color: #008000; text-decoration-color: #008000\">real-world problems.\", \"additional_kwargs\": {}, \"example\": false}}'</span>\n",
       "<span style=\"font-weight: bold\">}</span>\n",
       "</pre>\n"
      ],
      "text/plain": [
       "\u001b[1m{\u001b[0m\n",
       "    \u001b[32m'_id'\u001b[0m: \u001b[1;35mObjectId\u001b[0m\u001b[1m(\u001b[0m\u001b[32m'64aaf7706d0d8c931cdc389b'\u001b[0m\u001b[1m)\u001b[0m,\n",
       "    \u001b[32m'SessionId'\u001b[0m: \u001b[32m'LTest_cTest_RTest_oTest_pTest_hTest_ETest_aTest_ZTest_iTest_M'\u001b[0m,\n",
       "    \u001b[32m'History'\u001b[0m: \u001b[32m'\u001b[0m\u001b[32m{\u001b[0m\u001b[32m\"type\": \"ai\", \"data\": \u001b[0m\u001b[32m{\u001b[0m\u001b[32m\"content\": \"The Center for Applied AI and Machine Learning \u001b[0m\u001b[32m(\u001b[0m\u001b[32mCAIML\u001b[0m\u001b[32m)\u001b[0m\u001b[32m is \u001b[0m\n",
       "\u001b[32mhoused in the Department of Computer Science within the Erik Jonsson School of Engineering and Computer Science at \u001b[0m\n",
       "\u001b[32mthe University of Texas at Dallas. Our mission is to create a center of excellence skilled in applying leading-edge\u001b[0m\n",
       "\u001b[32mAI & ML technologies and solutions for our partners\\\\u2019 strategic products and services. The objective of the \u001b[0m\n",
       "\u001b[32mCenter for Applied AI and Machine Learning is to develop long-term, ongoing joint activities through research and \u001b[0m\n",
       "\u001b[32mdevelopment partnerships with companies and organizations in the Dallas Fort Worth Metroplex area and Texas. Our \u001b[0m\n",
       "\u001b[32maim is to focus on applied R&D rather than on basic research with the goal of providing immediate solutions to \u001b[0m\n",
       "\u001b[32mreal-world problems.\", \"additional_kwargs\": \u001b[0m\u001b[32m{\u001b[0m\u001b[32m}\u001b[0m\u001b[32m, \"example\": false\u001b[0m\u001b[32m}\u001b[0m\u001b[32m}\u001b[0m\u001b[32m'\u001b[0m\n",
       "\u001b[1m}\u001b[0m\n"
      ]
     },
     "metadata": {},
     "output_type": "display_data"
    },
    {
     "data": {
      "text/html": [
       "<pre style=\"white-space:pre;overflow-x:auto;line-height:normal;font-family:Menlo,'DejaVu Sans Mono',consolas,'Courier New',monospace\"><span style=\"font-weight: bold\">{</span>\n",
       "    <span style=\"color: #008000; text-decoration-color: #008000\">'_id'</span>: <span style=\"color: #800080; text-decoration-color: #800080; font-weight: bold\">ObjectId</span><span style=\"font-weight: bold\">(</span><span style=\"color: #008000; text-decoration-color: #008000\">'64aaf404f5fa73c9347cc316'</span><span style=\"font-weight: bold\">)</span>,\n",
       "    <span style=\"color: #008000; text-decoration-color: #008000\">'SessionId'</span>: <span style=\"color: #008000; text-decoration-color: #008000\">'PTest_oTest_UTest_STest_oTest_iTest_PTest_ZTest_sTest_sTest_C'</span>,\n",
       "    <span style=\"color: #008000; text-decoration-color: #008000\">'History'</span>: <span style=\"color: #008000; text-decoration-color: #008000\">'{\"type\": \"human\", \"data\": {\"content\": \"What is Math 2419\", \"additional_kwargs\": {}, \"example\": </span>\n",
       "<span style=\"color: #008000; text-decoration-color: #008000\">false}}'</span>\n",
       "<span style=\"font-weight: bold\">}</span>\n",
       "</pre>\n"
      ],
      "text/plain": [
       "\u001b[1m{\u001b[0m\n",
       "    \u001b[32m'_id'\u001b[0m: \u001b[1;35mObjectId\u001b[0m\u001b[1m(\u001b[0m\u001b[32m'64aaf404f5fa73c9347cc316'\u001b[0m\u001b[1m)\u001b[0m,\n",
       "    \u001b[32m'SessionId'\u001b[0m: \u001b[32m'PTest_oTest_UTest_STest_oTest_iTest_PTest_ZTest_sTest_sTest_C'\u001b[0m,\n",
       "    \u001b[32m'History'\u001b[0m: \u001b[32m'\u001b[0m\u001b[32m{\u001b[0m\u001b[32m\"type\": \"human\", \"data\": \u001b[0m\u001b[32m{\u001b[0m\u001b[32m\"content\": \"What is Math 2419\", \"additional_kwargs\": \u001b[0m\u001b[32m{\u001b[0m\u001b[32m}\u001b[0m\u001b[32m, \"example\": \u001b[0m\n",
       "\u001b[32mfalse\u001b[0m\u001b[32m}\u001b[0m\u001b[32m}\u001b[0m\u001b[32m'\u001b[0m\n",
       "\u001b[1m}\u001b[0m\n"
      ]
     },
     "metadata": {},
     "output_type": "display_data"
    },
    {
     "data": {
      "text/html": [
       "<pre style=\"white-space:pre;overflow-x:auto;line-height:normal;font-family:Menlo,'DejaVu Sans Mono',consolas,'Courier New',monospace\"><span style=\"font-weight: bold\">{</span>\n",
       "    <span style=\"color: #008000; text-decoration-color: #008000\">'_id'</span>: <span style=\"color: #800080; text-decoration-color: #800080; font-weight: bold\">ObjectId</span><span style=\"font-weight: bold\">(</span><span style=\"color: #008000; text-decoration-color: #008000\">'64aaf404f5fa73c9347cc317'</span><span style=\"font-weight: bold\">)</span>,\n",
       "    <span style=\"color: #008000; text-decoration-color: #008000\">'SessionId'</span>: <span style=\"color: #008000; text-decoration-color: #008000\">'PTest_oTest_UTest_STest_oTest_iTest_PTest_ZTest_sTest_sTest_C'</span>,\n",
       "    <span style=\"color: #008000; text-decoration-color: #008000\">'History'</span>: <span style=\"color: #008000; text-decoration-color: #008000\">'{\"type\": \"ai\", \"data\": {\"content\": \"MALICIOUS\", \"additional_kwargs\": {}, \"example\": false}}'</span>\n",
       "<span style=\"font-weight: bold\">}</span>\n",
       "</pre>\n"
      ],
      "text/plain": [
       "\u001b[1m{\u001b[0m\n",
       "    \u001b[32m'_id'\u001b[0m: \u001b[1;35mObjectId\u001b[0m\u001b[1m(\u001b[0m\u001b[32m'64aaf404f5fa73c9347cc317'\u001b[0m\u001b[1m)\u001b[0m,\n",
       "    \u001b[32m'SessionId'\u001b[0m: \u001b[32m'PTest_oTest_UTest_STest_oTest_iTest_PTest_ZTest_sTest_sTest_C'\u001b[0m,\n",
       "    \u001b[32m'History'\u001b[0m: \u001b[32m'\u001b[0m\u001b[32m{\u001b[0m\u001b[32m\"type\": \"ai\", \"data\": \u001b[0m\u001b[32m{\u001b[0m\u001b[32m\"content\": \"MALICIOUS\", \"additional_kwargs\": \u001b[0m\u001b[32m{\u001b[0m\u001b[32m}\u001b[0m\u001b[32m, \"example\": false\u001b[0m\u001b[32m}\u001b[0m\u001b[32m}\u001b[0m\u001b[32m'\u001b[0m\n",
       "\u001b[1m}\u001b[0m\n"
      ]
     },
     "metadata": {},
     "output_type": "display_data"
    },
    {
     "data": {
      "text/html": [
       "<pre style=\"white-space:pre;overflow-x:auto;line-height:normal;font-family:Menlo,'DejaVu Sans Mono',consolas,'Courier New',monospace\"><span style=\"font-weight: bold\">{</span>\n",
       "    <span style=\"color: #008000; text-decoration-color: #008000\">'_id'</span>: <span style=\"color: #800080; text-decoration-color: #800080; font-weight: bold\">ObjectId</span><span style=\"font-weight: bold\">(</span><span style=\"color: #008000; text-decoration-color: #008000\">'64aaf7456d0d8c931cdc3897'</span><span style=\"font-weight: bold\">)</span>,\n",
       "    <span style=\"color: #008000; text-decoration-color: #008000\">'SessionId'</span>: <span style=\"color: #008000; text-decoration-color: #008000\">'QTest_JTest_hTest_ITest_GTest_wTest_ATest_hTest_qTest_BTest_r'</span>,\n",
       "    <span style=\"color: #008000; text-decoration-color: #008000\">'History'</span>: <span style=\"color: #008000; text-decoration-color: #008000\">'{\"type\": \"human\", \"data\": {\"content\": \"Which professors do research in AI at UTD?\", </span>\n",
       "<span style=\"color: #008000; text-decoration-color: #008000\">\"additional_kwargs\": {}, \"example\": false}}'</span>\n",
       "<span style=\"font-weight: bold\">}</span>\n",
       "</pre>\n"
      ],
      "text/plain": [
       "\u001b[1m{\u001b[0m\n",
       "    \u001b[32m'_id'\u001b[0m: \u001b[1;35mObjectId\u001b[0m\u001b[1m(\u001b[0m\u001b[32m'64aaf7456d0d8c931cdc3897'\u001b[0m\u001b[1m)\u001b[0m,\n",
       "    \u001b[32m'SessionId'\u001b[0m: \u001b[32m'QTest_JTest_hTest_ITest_GTest_wTest_ATest_hTest_qTest_BTest_r'\u001b[0m,\n",
       "    \u001b[32m'History'\u001b[0m: \u001b[32m'\u001b[0m\u001b[32m{\u001b[0m\u001b[32m\"type\": \"human\", \"data\": \u001b[0m\u001b[32m{\u001b[0m\u001b[32m\"content\": \"Which professors do research in AI at UTD?\", \u001b[0m\n",
       "\u001b[32m\"additional_kwargs\": \u001b[0m\u001b[32m{\u001b[0m\u001b[32m}\u001b[0m\u001b[32m, \"example\": false\u001b[0m\u001b[32m}\u001b[0m\u001b[32m}\u001b[0m\u001b[32m'\u001b[0m\n",
       "\u001b[1m}\u001b[0m\n"
      ]
     },
     "metadata": {},
     "output_type": "display_data"
    },
    {
     "data": {
      "text/html": [
       "<pre style=\"white-space:pre;overflow-x:auto;line-height:normal;font-family:Menlo,'DejaVu Sans Mono',consolas,'Courier New',monospace\"><span style=\"font-weight: bold\">{</span>\n",
       "    <span style=\"color: #008000; text-decoration-color: #008000\">'_id'</span>: <span style=\"color: #800080; text-decoration-color: #800080; font-weight: bold\">ObjectId</span><span style=\"font-weight: bold\">(</span><span style=\"color: #008000; text-decoration-color: #008000\">'64aaf7456d0d8c931cdc3898'</span><span style=\"font-weight: bold\">)</span>,\n",
       "    <span style=\"color: #008000; text-decoration-color: #008000\">'SessionId'</span>: <span style=\"color: #008000; text-decoration-color: #008000\">'QTest_JTest_hTest_ITest_GTest_wTest_ATest_hTest_qTest_BTest_r'</span>,\n",
       "    <span style=\"color: #008000; text-decoration-color: #008000\">'History'</span>: <span style=\"color: #008000; text-decoration-color: #008000\">'{\"type\": \"ai\", \"data\": {\"content\": \"The Center for Applied AI and Machine Learning (CAIML) is </span>\n",
       "<span style=\"color: #008000; text-decoration-color: #008000\">housed in the Department of Computer Science within the Erik Jonsson School of Engineering and Computer Science at </span>\n",
       "<span style=\"color: #008000; text-decoration-color: #008000\">the University of Texas at Dallas. Our mission is to create a center of excellence skilled in applying leading-edge</span>\n",
       "<span style=\"color: #008000; text-decoration-color: #008000\">AI &amp; ML technologies and solutions for our partners\\\\u2019 strategic products and services. The objective of the </span>\n",
       "<span style=\"color: #008000; text-decoration-color: #008000\">Center for Applied AI and Machine Learning is to develop long-term, ongoing joint activities through research and </span>\n",
       "<span style=\"color: #008000; text-decoration-color: #008000\">development partnerships with companies and organizations in the Dallas Fort Worth Metroplex area and Texas. Our </span>\n",
       "<span style=\"color: #008000; text-decoration-color: #008000\">aim is to focus on applied R&amp;D rather than on basic research with the goal of providing immediate solutions to </span>\n",
       "<span style=\"color: #008000; text-decoration-color: #008000\">real-world problems.\", \"additional_kwargs\": {}, \"example\": false}}'</span>\n",
       "<span style=\"font-weight: bold\">}</span>\n",
       "</pre>\n"
      ],
      "text/plain": [
       "\u001b[1m{\u001b[0m\n",
       "    \u001b[32m'_id'\u001b[0m: \u001b[1;35mObjectId\u001b[0m\u001b[1m(\u001b[0m\u001b[32m'64aaf7456d0d8c931cdc3898'\u001b[0m\u001b[1m)\u001b[0m,\n",
       "    \u001b[32m'SessionId'\u001b[0m: \u001b[32m'QTest_JTest_hTest_ITest_GTest_wTest_ATest_hTest_qTest_BTest_r'\u001b[0m,\n",
       "    \u001b[32m'History'\u001b[0m: \u001b[32m'\u001b[0m\u001b[32m{\u001b[0m\u001b[32m\"type\": \"ai\", \"data\": \u001b[0m\u001b[32m{\u001b[0m\u001b[32m\"content\": \"The Center for Applied AI and Machine Learning \u001b[0m\u001b[32m(\u001b[0m\u001b[32mCAIML\u001b[0m\u001b[32m)\u001b[0m\u001b[32m is \u001b[0m\n",
       "\u001b[32mhoused in the Department of Computer Science within the Erik Jonsson School of Engineering and Computer Science at \u001b[0m\n",
       "\u001b[32mthe University of Texas at Dallas. Our mission is to create a center of excellence skilled in applying leading-edge\u001b[0m\n",
       "\u001b[32mAI & ML technologies and solutions for our partners\\\\u2019 strategic products and services. The objective of the \u001b[0m\n",
       "\u001b[32mCenter for Applied AI and Machine Learning is to develop long-term, ongoing joint activities through research and \u001b[0m\n",
       "\u001b[32mdevelopment partnerships with companies and organizations in the Dallas Fort Worth Metroplex area and Texas. Our \u001b[0m\n",
       "\u001b[32maim is to focus on applied R&D rather than on basic research with the goal of providing immediate solutions to \u001b[0m\n",
       "\u001b[32mreal-world problems.\", \"additional_kwargs\": \u001b[0m\u001b[32m{\u001b[0m\u001b[32m}\u001b[0m\u001b[32m, \"example\": false\u001b[0m\u001b[32m}\u001b[0m\u001b[32m}\u001b[0m\u001b[32m'\u001b[0m\n",
       "\u001b[1m}\u001b[0m\n"
      ]
     },
     "metadata": {},
     "output_type": "display_data"
    },
    {
     "data": {
      "text/html": [
       "<pre style=\"white-space:pre;overflow-x:auto;line-height:normal;font-family:Menlo,'DejaVu Sans Mono',consolas,'Courier New',monospace\"><span style=\"font-weight: bold\">{</span>\n",
       "    <span style=\"color: #008000; text-decoration-color: #008000\">'_id'</span>: <span style=\"color: #800080; text-decoration-color: #800080; font-weight: bold\">ObjectId</span><span style=\"font-weight: bold\">(</span><span style=\"color: #008000; text-decoration-color: #008000\">'64aaf4caf5fa73c9347cc319'</span><span style=\"font-weight: bold\">)</span>,\n",
       "    <span style=\"color: #008000; text-decoration-color: #008000\">'SessionId'</span>: <span style=\"color: #008000; text-decoration-color: #008000\">'QTest_XTest_STest_ETest_CTest_FTest_MTest_aTest_kTest_VTest_O'</span>,\n",
       "    <span style=\"color: #008000; text-decoration-color: #008000\">'History'</span>: <span style=\"color: #008000; text-decoration-color: #008000\">'{\"type\": \"human\", \"data\": {\"content\": \"What is Math 2419\", \"additional_kwargs\": {}, \"example\": </span>\n",
       "<span style=\"color: #008000; text-decoration-color: #008000\">false}}'</span>\n",
       "<span style=\"font-weight: bold\">}</span>\n",
       "</pre>\n"
      ],
      "text/plain": [
       "\u001b[1m{\u001b[0m\n",
       "    \u001b[32m'_id'\u001b[0m: \u001b[1;35mObjectId\u001b[0m\u001b[1m(\u001b[0m\u001b[32m'64aaf4caf5fa73c9347cc319'\u001b[0m\u001b[1m)\u001b[0m,\n",
       "    \u001b[32m'SessionId'\u001b[0m: \u001b[32m'QTest_XTest_STest_ETest_CTest_FTest_MTest_aTest_kTest_VTest_O'\u001b[0m,\n",
       "    \u001b[32m'History'\u001b[0m: \u001b[32m'\u001b[0m\u001b[32m{\u001b[0m\u001b[32m\"type\": \"human\", \"data\": \u001b[0m\u001b[32m{\u001b[0m\u001b[32m\"content\": \"What is Math 2419\", \"additional_kwargs\": \u001b[0m\u001b[32m{\u001b[0m\u001b[32m}\u001b[0m\u001b[32m, \"example\": \u001b[0m\n",
       "\u001b[32mfalse\u001b[0m\u001b[32m}\u001b[0m\u001b[32m}\u001b[0m\u001b[32m'\u001b[0m\n",
       "\u001b[1m}\u001b[0m\n"
      ]
     },
     "metadata": {},
     "output_type": "display_data"
    },
    {
     "data": {
      "text/html": [
       "<pre style=\"white-space:pre;overflow-x:auto;line-height:normal;font-family:Menlo,'DejaVu Sans Mono',consolas,'Courier New',monospace\"><span style=\"font-weight: bold\">{</span>\n",
       "    <span style=\"color: #008000; text-decoration-color: #008000\">'_id'</span>: <span style=\"color: #800080; text-decoration-color: #800080; font-weight: bold\">ObjectId</span><span style=\"font-weight: bold\">(</span><span style=\"color: #008000; text-decoration-color: #008000\">'64aaf4caf5fa73c9347cc31a'</span><span style=\"font-weight: bold\">)</span>,\n",
       "    <span style=\"color: #008000; text-decoration-color: #008000\">'SessionId'</span>: <span style=\"color: #008000; text-decoration-color: #008000\">'QTest_XTest_STest_ETest_CTest_FTest_MTest_aTest_kTest_VTest_O'</span>,\n",
       "    <span style=\"color: #008000; text-decoration-color: #008000\">'History'</span>: <span style=\"color: #008000; text-decoration-color: #008000\">'{\"type\": \"ai\", \"data\": {\"content\": \"MALICIOUS\", \"additional_kwargs\": {}, \"example\": false}}'</span>\n",
       "<span style=\"font-weight: bold\">}</span>\n",
       "</pre>\n"
      ],
      "text/plain": [
       "\u001b[1m{\u001b[0m\n",
       "    \u001b[32m'_id'\u001b[0m: \u001b[1;35mObjectId\u001b[0m\u001b[1m(\u001b[0m\u001b[32m'64aaf4caf5fa73c9347cc31a'\u001b[0m\u001b[1m)\u001b[0m,\n",
       "    \u001b[32m'SessionId'\u001b[0m: \u001b[32m'QTest_XTest_STest_ETest_CTest_FTest_MTest_aTest_kTest_VTest_O'\u001b[0m,\n",
       "    \u001b[32m'History'\u001b[0m: \u001b[32m'\u001b[0m\u001b[32m{\u001b[0m\u001b[32m\"type\": \"ai\", \"data\": \u001b[0m\u001b[32m{\u001b[0m\u001b[32m\"content\": \"MALICIOUS\", \"additional_kwargs\": \u001b[0m\u001b[32m{\u001b[0m\u001b[32m}\u001b[0m\u001b[32m, \"example\": false\u001b[0m\u001b[32m}\u001b[0m\u001b[32m}\u001b[0m\u001b[32m'\u001b[0m\n",
       "\u001b[1m}\u001b[0m\n"
      ]
     },
     "metadata": {},
     "output_type": "display_data"
    },
    {
     "data": {
      "text/html": [
       "<pre style=\"white-space:pre;overflow-x:auto;line-height:normal;font-family:Menlo,'DejaVu Sans Mono',consolas,'Courier New',monospace\"><span style=\"font-weight: bold\">{</span>\n",
       "    <span style=\"color: #008000; text-decoration-color: #008000\">'_id'</span>: <span style=\"color: #800080; text-decoration-color: #800080; font-weight: bold\">ObjectId</span><span style=\"font-weight: bold\">(</span><span style=\"color: #008000; text-decoration-color: #008000\">'64aaf5997a384c05b51f094c'</span><span style=\"font-weight: bold\">)</span>,\n",
       "    <span style=\"color: #008000; text-decoration-color: #008000\">'SessionId'</span>: <span style=\"color: #008000; text-decoration-color: #008000\">'QTest_yTest_MTest_ITest_lTest_KTest_pTest_hTest_uTest_vTest_a'</span>,\n",
       "    <span style=\"color: #008000; text-decoration-color: #008000\">'History'</span>: <span style=\"color: #008000; text-decoration-color: #008000\">'{\"type\": \"human\", \"data\": {\"content\": \"Who is the president?\", \"additional_kwargs\": {}, \"example\": </span>\n",
       "<span style=\"color: #008000; text-decoration-color: #008000\">false}}'</span>\n",
       "<span style=\"font-weight: bold\">}</span>\n",
       "</pre>\n"
      ],
      "text/plain": [
       "\u001b[1m{\u001b[0m\n",
       "    \u001b[32m'_id'\u001b[0m: \u001b[1;35mObjectId\u001b[0m\u001b[1m(\u001b[0m\u001b[32m'64aaf5997a384c05b51f094c'\u001b[0m\u001b[1m)\u001b[0m,\n",
       "    \u001b[32m'SessionId'\u001b[0m: \u001b[32m'QTest_yTest_MTest_ITest_lTest_KTest_pTest_hTest_uTest_vTest_a'\u001b[0m,\n",
       "    \u001b[32m'History'\u001b[0m: \u001b[32m'\u001b[0m\u001b[32m{\u001b[0m\u001b[32m\"type\": \"human\", \"data\": \u001b[0m\u001b[32m{\u001b[0m\u001b[32m\"content\": \"Who is the president?\", \"additional_kwargs\": \u001b[0m\u001b[32m{\u001b[0m\u001b[32m}\u001b[0m\u001b[32m, \"example\": \u001b[0m\n",
       "\u001b[32mfalse\u001b[0m\u001b[32m}\u001b[0m\u001b[32m}\u001b[0m\u001b[32m'\u001b[0m\n",
       "\u001b[1m}\u001b[0m\n"
      ]
     },
     "metadata": {},
     "output_type": "display_data"
    },
    {
     "data": {
      "text/html": [
       "<pre style=\"white-space:pre;overflow-x:auto;line-height:normal;font-family:Menlo,'DejaVu Sans Mono',consolas,'Courier New',monospace\"><span style=\"font-weight: bold\">{</span>\n",
       "    <span style=\"color: #008000; text-decoration-color: #008000\">'_id'</span>: <span style=\"color: #800080; text-decoration-color: #800080; font-weight: bold\">ObjectId</span><span style=\"font-weight: bold\">(</span><span style=\"color: #008000; text-decoration-color: #008000\">'64aaf5997a384c05b51f094d'</span><span style=\"font-weight: bold\">)</span>,\n",
       "    <span style=\"color: #008000; text-decoration-color: #008000\">'SessionId'</span>: <span style=\"color: #008000; text-decoration-color: #008000\">'QTest_yTest_MTest_ITest_lTest_KTest_pTest_hTest_uTest_vTest_a'</span>,\n",
       "    <span style=\"color: #008000; text-decoration-color: #008000\">'History'</span>: <span style=\"color: #008000; text-decoration-color: #008000\">'{\"type\": \"ai\", \"data\": {\"content\": \"The president of UT Dallas is Dr. Richard C. Benson.\", </span>\n",
       "<span style=\"color: #008000; text-decoration-color: #008000\">\"additional_kwargs\": {}, \"example\": false}}'</span>\n",
       "<span style=\"font-weight: bold\">}</span>\n",
       "</pre>\n"
      ],
      "text/plain": [
       "\u001b[1m{\u001b[0m\n",
       "    \u001b[32m'_id'\u001b[0m: \u001b[1;35mObjectId\u001b[0m\u001b[1m(\u001b[0m\u001b[32m'64aaf5997a384c05b51f094d'\u001b[0m\u001b[1m)\u001b[0m,\n",
       "    \u001b[32m'SessionId'\u001b[0m: \u001b[32m'QTest_yTest_MTest_ITest_lTest_KTest_pTest_hTest_uTest_vTest_a'\u001b[0m,\n",
       "    \u001b[32m'History'\u001b[0m: \u001b[32m'\u001b[0m\u001b[32m{\u001b[0m\u001b[32m\"type\": \"ai\", \"data\": \u001b[0m\u001b[32m{\u001b[0m\u001b[32m\"content\": \"The president of UT Dallas is Dr. Richard C. Benson.\", \u001b[0m\n",
       "\u001b[32m\"additional_kwargs\": \u001b[0m\u001b[32m{\u001b[0m\u001b[32m}\u001b[0m\u001b[32m, \"example\": false\u001b[0m\u001b[32m}\u001b[0m\u001b[32m}\u001b[0m\u001b[32m'\u001b[0m\n",
       "\u001b[1m}\u001b[0m\n"
      ]
     },
     "metadata": {},
     "output_type": "display_data"
    },
    {
     "data": {
      "text/html": [
       "<pre style=\"white-space:pre;overflow-x:auto;line-height:normal;font-family:Menlo,'DejaVu Sans Mono',consolas,'Courier New',monospace\"><span style=\"font-weight: bold\">{</span>\n",
       "    <span style=\"color: #008000; text-decoration-color: #008000\">'_id'</span>: <span style=\"color: #800080; text-decoration-color: #800080; font-weight: bold\">ObjectId</span><span style=\"font-weight: bold\">(</span><span style=\"color: #008000; text-decoration-color: #008000\">'64aaf5b27a384c05b51f094e'</span><span style=\"font-weight: bold\">)</span>,\n",
       "    <span style=\"color: #008000; text-decoration-color: #008000\">'SessionId'</span>: <span style=\"color: #008000; text-decoration-color: #008000\">'QTest_yTest_MTest_ITest_lTest_KTest_pTest_hTest_uTest_vTest_a'</span>,\n",
       "    <span style=\"color: #008000; text-decoration-color: #008000\">'History'</span>: <span style=\"color: #008000; text-decoration-color: #008000\">'{\"type\": \"human\", \"data\": {\"content\": \"Who research AI at UTD?\", \"additional_kwargs\": {}, </span>\n",
       "<span style=\"color: #008000; text-decoration-color: #008000\">\"example\": false}}'</span>\n",
       "<span style=\"font-weight: bold\">}</span>\n",
       "</pre>\n"
      ],
      "text/plain": [
       "\u001b[1m{\u001b[0m\n",
       "    \u001b[32m'_id'\u001b[0m: \u001b[1;35mObjectId\u001b[0m\u001b[1m(\u001b[0m\u001b[32m'64aaf5b27a384c05b51f094e'\u001b[0m\u001b[1m)\u001b[0m,\n",
       "    \u001b[32m'SessionId'\u001b[0m: \u001b[32m'QTest_yTest_MTest_ITest_lTest_KTest_pTest_hTest_uTest_vTest_a'\u001b[0m,\n",
       "    \u001b[32m'History'\u001b[0m: \u001b[32m'\u001b[0m\u001b[32m{\u001b[0m\u001b[32m\"type\": \"human\", \"data\": \u001b[0m\u001b[32m{\u001b[0m\u001b[32m\"content\": \"Who research AI at UTD?\", \"additional_kwargs\": \u001b[0m\u001b[32m{\u001b[0m\u001b[32m}\u001b[0m\u001b[32m, \u001b[0m\n",
       "\u001b[32m\"example\": false\u001b[0m\u001b[32m}\u001b[0m\u001b[32m}\u001b[0m\u001b[32m'\u001b[0m\n",
       "\u001b[1m}\u001b[0m\n"
      ]
     },
     "metadata": {},
     "output_type": "display_data"
    },
    {
     "data": {
      "text/html": [
       "<pre style=\"white-space:pre;overflow-x:auto;line-height:normal;font-family:Menlo,'DejaVu Sans Mono',consolas,'Courier New',monospace\"><span style=\"font-weight: bold\">{</span>\n",
       "    <span style=\"color: #008000; text-decoration-color: #008000\">'_id'</span>: <span style=\"color: #800080; text-decoration-color: #800080; font-weight: bold\">ObjectId</span><span style=\"font-weight: bold\">(</span><span style=\"color: #008000; text-decoration-color: #008000\">'64aaf5b27a384c05b51f094f'</span><span style=\"font-weight: bold\">)</span>,\n",
       "    <span style=\"color: #008000; text-decoration-color: #008000\">'SessionId'</span>: <span style=\"color: #008000; text-decoration-color: #008000\">'QTest_yTest_MTest_ITest_lTest_KTest_pTest_hTest_uTest_vTest_a'</span>,\n",
       "    <span style=\"color: #008000; text-decoration-color: #008000\">'History'</span>: <span style=\"color: #008000; text-decoration-color: #008000\">'{\"type\": \"ai\", \"data\": {\"content\": \"I don\\'t know.\", \"additional_kwargs\": {}, \"example\": false}}'</span>\n",
       "<span style=\"font-weight: bold\">}</span>\n",
       "</pre>\n"
      ],
      "text/plain": [
       "\u001b[1m{\u001b[0m\n",
       "    \u001b[32m'_id'\u001b[0m: \u001b[1;35mObjectId\u001b[0m\u001b[1m(\u001b[0m\u001b[32m'64aaf5b27a384c05b51f094f'\u001b[0m\u001b[1m)\u001b[0m,\n",
       "    \u001b[32m'SessionId'\u001b[0m: \u001b[32m'QTest_yTest_MTest_ITest_lTest_KTest_pTest_hTest_uTest_vTest_a'\u001b[0m,\n",
       "    \u001b[32m'History'\u001b[0m: \u001b[32m'\u001b[0m\u001b[32m{\u001b[0m\u001b[32m\"type\": \"ai\", \"data\": \u001b[0m\u001b[32m{\u001b[0m\u001b[32m\"content\": \"I don\\'t know.\", \"additional_kwargs\": \u001b[0m\u001b[32m{\u001b[0m\u001b[32m}\u001b[0m\u001b[32m, \"example\": false\u001b[0m\u001b[32m}\u001b[0m\u001b[32m}\u001b[0m\u001b[32m'\u001b[0m\n",
       "\u001b[1m}\u001b[0m\n"
      ]
     },
     "metadata": {},
     "output_type": "display_data"
    },
    {
     "data": {
      "text/html": [
       "<pre style=\"white-space:pre;overflow-x:auto;line-height:normal;font-family:Menlo,'DejaVu Sans Mono',consolas,'Courier New',monospace\"><span style=\"font-weight: bold\">{</span>\n",
       "    <span style=\"color: #008000; text-decoration-color: #008000\">'_id'</span>: <span style=\"color: #800080; text-decoration-color: #800080; font-weight: bold\">ObjectId</span><span style=\"font-weight: bold\">(</span><span style=\"color: #008000; text-decoration-color: #008000\">'64aaf8e334734ab4cb4c6c45'</span><span style=\"font-weight: bold\">)</span>,\n",
       "    <span style=\"color: #008000; text-decoration-color: #008000\">'SessionId'</span>: <span style=\"color: #008000; text-decoration-color: #008000\">'STest_VTest_wTest_TTest_hTest_rTest_ITest_wTest_ETest_OTest_p'</span>,\n",
       "    <span style=\"color: #008000; text-decoration-color: #008000\">'History'</span>: <span style=\"color: #008000; text-decoration-color: #008000\">'{\"type\": \"human\", \"data\": {\"content\": \"How hard is the class 2419?\", \"additional_kwargs\": {}, </span>\n",
       "<span style=\"color: #008000; text-decoration-color: #008000\">\"example\": false}}'</span>\n",
       "<span style=\"font-weight: bold\">}</span>\n",
       "</pre>\n"
      ],
      "text/plain": [
       "\u001b[1m{\u001b[0m\n",
       "    \u001b[32m'_id'\u001b[0m: \u001b[1;35mObjectId\u001b[0m\u001b[1m(\u001b[0m\u001b[32m'64aaf8e334734ab4cb4c6c45'\u001b[0m\u001b[1m)\u001b[0m,\n",
       "    \u001b[32m'SessionId'\u001b[0m: \u001b[32m'STest_VTest_wTest_TTest_hTest_rTest_ITest_wTest_ETest_OTest_p'\u001b[0m,\n",
       "    \u001b[32m'History'\u001b[0m: \u001b[32m'\u001b[0m\u001b[32m{\u001b[0m\u001b[32m\"type\": \"human\", \"data\": \u001b[0m\u001b[32m{\u001b[0m\u001b[32m\"content\": \"How hard is the class 2419?\", \"additional_kwargs\": \u001b[0m\u001b[32m{\u001b[0m\u001b[32m}\u001b[0m\u001b[32m, \u001b[0m\n",
       "\u001b[32m\"example\": false\u001b[0m\u001b[32m}\u001b[0m\u001b[32m}\u001b[0m\u001b[32m'\u001b[0m\n",
       "\u001b[1m}\u001b[0m\n"
      ]
     },
     "metadata": {},
     "output_type": "display_data"
    },
    {
     "data": {
      "text/html": [
       "<pre style=\"white-space:pre;overflow-x:auto;line-height:normal;font-family:Menlo,'DejaVu Sans Mono',consolas,'Courier New',monospace\"><span style=\"font-weight: bold\">{</span>\n",
       "    <span style=\"color: #008000; text-decoration-color: #008000\">'_id'</span>: <span style=\"color: #800080; text-decoration-color: #800080; font-weight: bold\">ObjectId</span><span style=\"font-weight: bold\">(</span><span style=\"color: #008000; text-decoration-color: #008000\">'64aaf8e334734ab4cb4c6c46'</span><span style=\"font-weight: bold\">)</span>,\n",
       "    <span style=\"color: #008000; text-decoration-color: #008000\">'SessionId'</span>: <span style=\"color: #008000; text-decoration-color: #008000\">'STest_VTest_wTest_TTest_hTest_rTest_ITest_wTest_ETest_OTest_p'</span>,\n",
       "    <span style=\"color: #008000; text-decoration-color: #008000\">'History'</span>: <span style=\"color: #008000; text-decoration-color: #008000\">'{\"type\": \"ai\", \"data\": {\"content\": \"MALICIOUS\", \"additional_kwargs\": {}, \"example\": false}}'</span>\n",
       "<span style=\"font-weight: bold\">}</span>\n",
       "</pre>\n"
      ],
      "text/plain": [
       "\u001b[1m{\u001b[0m\n",
       "    \u001b[32m'_id'\u001b[0m: \u001b[1;35mObjectId\u001b[0m\u001b[1m(\u001b[0m\u001b[32m'64aaf8e334734ab4cb4c6c46'\u001b[0m\u001b[1m)\u001b[0m,\n",
       "    \u001b[32m'SessionId'\u001b[0m: \u001b[32m'STest_VTest_wTest_TTest_hTest_rTest_ITest_wTest_ETest_OTest_p'\u001b[0m,\n",
       "    \u001b[32m'History'\u001b[0m: \u001b[32m'\u001b[0m\u001b[32m{\u001b[0m\u001b[32m\"type\": \"ai\", \"data\": \u001b[0m\u001b[32m{\u001b[0m\u001b[32m\"content\": \"MALICIOUS\", \"additional_kwargs\": \u001b[0m\u001b[32m{\u001b[0m\u001b[32m}\u001b[0m\u001b[32m, \"example\": false\u001b[0m\u001b[32m}\u001b[0m\u001b[32m}\u001b[0m\u001b[32m'\u001b[0m\n",
       "\u001b[1m}\u001b[0m\n"
      ]
     },
     "metadata": {},
     "output_type": "display_data"
    },
    {
     "data": {
      "text/html": [
       "<pre style=\"white-space:pre;overflow-x:auto;line-height:normal;font-family:Menlo,'DejaVu Sans Mono',consolas,'Courier New',monospace\"><span style=\"font-weight: bold\">{</span>\n",
       "    <span style=\"color: #008000; text-decoration-color: #008000\">'_id'</span>: <span style=\"color: #800080; text-decoration-color: #800080; font-weight: bold\">ObjectId</span><span style=\"font-weight: bold\">(</span><span style=\"color: #008000; text-decoration-color: #008000\">'64aafa9fa23f1d4529eaac36'</span><span style=\"font-weight: bold\">)</span>,\n",
       "    <span style=\"color: #008000; text-decoration-color: #008000\">'SessionId'</span>: <span style=\"color: #008000; text-decoration-color: #008000\">'TTest_PTest_jTest_xTest_wTest_ATest_mTest_bTest_tTest_jTest_A'</span>,\n",
       "    <span style=\"color: #008000; text-decoration-color: #008000\">'History'</span>: <span style=\"color: #008000; text-decoration-color: #008000\">'{\"type\": \"human\", \"data\": {\"content\": \"What is the difference between Math 2419 and Math 2417?\", </span>\n",
       "<span style=\"color: #008000; text-decoration-color: #008000\">\"additional_kwargs\": {}, \"example\": false}}'</span>\n",
       "<span style=\"font-weight: bold\">}</span>\n",
       "</pre>\n"
      ],
      "text/plain": [
       "\u001b[1m{\u001b[0m\n",
       "    \u001b[32m'_id'\u001b[0m: \u001b[1;35mObjectId\u001b[0m\u001b[1m(\u001b[0m\u001b[32m'64aafa9fa23f1d4529eaac36'\u001b[0m\u001b[1m)\u001b[0m,\n",
       "    \u001b[32m'SessionId'\u001b[0m: \u001b[32m'TTest_PTest_jTest_xTest_wTest_ATest_mTest_bTest_tTest_jTest_A'\u001b[0m,\n",
       "    \u001b[32m'History'\u001b[0m: \u001b[32m'\u001b[0m\u001b[32m{\u001b[0m\u001b[32m\"type\": \"human\", \"data\": \u001b[0m\u001b[32m{\u001b[0m\u001b[32m\"content\": \"What is the difference between Math 2419 and Math 2417?\", \u001b[0m\n",
       "\u001b[32m\"additional_kwargs\": \u001b[0m\u001b[32m{\u001b[0m\u001b[32m}\u001b[0m\u001b[32m, \"example\": false\u001b[0m\u001b[32m}\u001b[0m\u001b[32m}\u001b[0m\u001b[32m'\u001b[0m\n",
       "\u001b[1m}\u001b[0m\n"
      ]
     },
     "metadata": {},
     "output_type": "display_data"
    },
    {
     "data": {
      "text/html": [
       "<pre style=\"white-space:pre;overflow-x:auto;line-height:normal;font-family:Menlo,'DejaVu Sans Mono',consolas,'Courier New',monospace\"><span style=\"font-weight: bold\">{</span>\n",
       "    <span style=\"color: #008000; text-decoration-color: #008000\">'_id'</span>: <span style=\"color: #800080; text-decoration-color: #800080; font-weight: bold\">ObjectId</span><span style=\"font-weight: bold\">(</span><span style=\"color: #008000; text-decoration-color: #008000\">'64aafa9fa23f1d4529eaac37'</span><span style=\"font-weight: bold\">)</span>,\n",
       "    <span style=\"color: #008000; text-decoration-color: #008000\">'SessionId'</span>: <span style=\"color: #008000; text-decoration-color: #008000\">'TTest_PTest_jTest_xTest_wTest_ATest_mTest_bTest_tTest_jTest_A'</span>,\n",
       "    <span style=\"color: #008000; text-decoration-color: #008000\">'History'</span>: <span style=\"color: #008000; text-decoration-color: #008000\">'{\"type\": \"ai\", \"data\": {\"content\": \"Math 2419 is a continuation of Math 2417. It covers some of the</span>\n",
       "<span style=\"color: #008000; text-decoration-color: #008000\">same topics as Math 2417, but in more depth. For example, Math 2419 covers improper integrals, which are integrals </span>\n",
       "<span style=\"color: #008000; text-decoration-color: #008000\">that don\\'t have a finite value. Math 2419 also covers sequences and infinite series, which are lists of numbers </span>\n",
       "<span style=\"color: #008000; text-decoration-color: #008000\">that follow a pattern. Finally, Math 2419 covers power series, which are series that can be used to approximate </span>\n",
       "<span style=\"color: #008000; text-decoration-color: #008000\">functions.\", \"additional_kwargs\": {}, \"example\": false}}'</span>\n",
       "<span style=\"font-weight: bold\">}</span>\n",
       "</pre>\n"
      ],
      "text/plain": [
       "\u001b[1m{\u001b[0m\n",
       "    \u001b[32m'_id'\u001b[0m: \u001b[1;35mObjectId\u001b[0m\u001b[1m(\u001b[0m\u001b[32m'64aafa9fa23f1d4529eaac37'\u001b[0m\u001b[1m)\u001b[0m,\n",
       "    \u001b[32m'SessionId'\u001b[0m: \u001b[32m'TTest_PTest_jTest_xTest_wTest_ATest_mTest_bTest_tTest_jTest_A'\u001b[0m,\n",
       "    \u001b[32m'History'\u001b[0m: \u001b[32m'\u001b[0m\u001b[32m{\u001b[0m\u001b[32m\"type\": \"ai\", \"data\": \u001b[0m\u001b[32m{\u001b[0m\u001b[32m\"content\": \"Math 2419 is a continuation of Math 2417. It covers some of the\u001b[0m\n",
       "\u001b[32msame topics as Math 2417, but in more depth. For example, Math 2419 covers improper integrals, which are integrals \u001b[0m\n",
       "\u001b[32mthat don\\'t have a finite value. Math 2419 also covers sequences and infinite series, which are lists of numbers \u001b[0m\n",
       "\u001b[32mthat follow a pattern. Finally, Math 2419 covers power series, which are series that can be used to approximate \u001b[0m\n",
       "\u001b[32mfunctions.\", \"additional_kwargs\": \u001b[0m\u001b[32m{\u001b[0m\u001b[32m}\u001b[0m\u001b[32m, \"example\": false\u001b[0m\u001b[32m}\u001b[0m\u001b[32m}\u001b[0m\u001b[32m'\u001b[0m\n",
       "\u001b[1m}\u001b[0m\n"
      ]
     },
     "metadata": {},
     "output_type": "display_data"
    },
    {
     "data": {
      "text/html": [
       "<pre style=\"white-space:pre;overflow-x:auto;line-height:normal;font-family:Menlo,'DejaVu Sans Mono',consolas,'Courier New',monospace\"><span style=\"font-weight: bold\">{</span>\n",
       "    <span style=\"color: #008000; text-decoration-color: #008000\">'_id'</span>: <span style=\"color: #800080; text-decoration-color: #800080; font-weight: bold\">ObjectId</span><span style=\"font-weight: bold\">(</span><span style=\"color: #008000; text-decoration-color: #008000\">'64aafd9751fe61d5839cbe9f'</span><span style=\"font-weight: bold\">)</span>,\n",
       "    <span style=\"color: #008000; text-decoration-color: #008000\">'SessionId'</span>: <span style=\"color: #008000; text-decoration-color: #008000\">'TTest_ZTest_KTest_KTest_JTest_wTest_zTest_ZTest_GTest_vTest_f'</span>,\n",
       "    <span style=\"color: #008000; text-decoration-color: #008000\">'History'</span>: <span style=\"color: #008000; text-decoration-color: #008000\">'{\"type\": \"human\", \"data\": {\"content\": \"Who is the president of UTD?\", \"additional_kwargs\": {}, </span>\n",
       "<span style=\"color: #008000; text-decoration-color: #008000\">\"example\": false}}'</span>\n",
       "<span style=\"font-weight: bold\">}</span>\n",
       "</pre>\n"
      ],
      "text/plain": [
       "\u001b[1m{\u001b[0m\n",
       "    \u001b[32m'_id'\u001b[0m: \u001b[1;35mObjectId\u001b[0m\u001b[1m(\u001b[0m\u001b[32m'64aafd9751fe61d5839cbe9f'\u001b[0m\u001b[1m)\u001b[0m,\n",
       "    \u001b[32m'SessionId'\u001b[0m: \u001b[32m'TTest_ZTest_KTest_KTest_JTest_wTest_zTest_ZTest_GTest_vTest_f'\u001b[0m,\n",
       "    \u001b[32m'History'\u001b[0m: \u001b[32m'\u001b[0m\u001b[32m{\u001b[0m\u001b[32m\"type\": \"human\", \"data\": \u001b[0m\u001b[32m{\u001b[0m\u001b[32m\"content\": \"Who is the president of UTD?\", \"additional_kwargs\": \u001b[0m\u001b[32m{\u001b[0m\u001b[32m}\u001b[0m\u001b[32m, \u001b[0m\n",
       "\u001b[32m\"example\": false\u001b[0m\u001b[32m}\u001b[0m\u001b[32m}\u001b[0m\u001b[32m'\u001b[0m\n",
       "\u001b[1m}\u001b[0m\n"
      ]
     },
     "metadata": {},
     "output_type": "display_data"
    },
    {
     "data": {
      "text/html": [
       "<pre style=\"white-space:pre;overflow-x:auto;line-height:normal;font-family:Menlo,'DejaVu Sans Mono',consolas,'Courier New',monospace\"><span style=\"font-weight: bold\">{</span>\n",
       "    <span style=\"color: #008000; text-decoration-color: #008000\">'_id'</span>: <span style=\"color: #800080; text-decoration-color: #800080; font-weight: bold\">ObjectId</span><span style=\"font-weight: bold\">(</span><span style=\"color: #008000; text-decoration-color: #008000\">'64aafd9751fe61d5839cbea0'</span><span style=\"font-weight: bold\">)</span>,\n",
       "    <span style=\"color: #008000; text-decoration-color: #008000\">'SessionId'</span>: <span style=\"color: #008000; text-decoration-color: #008000\">'TTest_ZTest_KTest_KTest_JTest_wTest_zTest_ZTest_GTest_vTest_f'</span>,\n",
       "    <span style=\"color: #008000; text-decoration-color: #008000\">'History'</span>: <span style=\"color: #008000; text-decoration-color: #008000\">'{\"type\": \"ai\", \"data\": {\"content\": \"The president of UTD is Dr. Richard C. Benson.\", </span>\n",
       "<span style=\"color: #008000; text-decoration-color: #008000\">\"additional_kwargs\": {}, \"example\": false}}'</span>\n",
       "<span style=\"font-weight: bold\">}</span>\n",
       "</pre>\n"
      ],
      "text/plain": [
       "\u001b[1m{\u001b[0m\n",
       "    \u001b[32m'_id'\u001b[0m: \u001b[1;35mObjectId\u001b[0m\u001b[1m(\u001b[0m\u001b[32m'64aafd9751fe61d5839cbea0'\u001b[0m\u001b[1m)\u001b[0m,\n",
       "    \u001b[32m'SessionId'\u001b[0m: \u001b[32m'TTest_ZTest_KTest_KTest_JTest_wTest_zTest_ZTest_GTest_vTest_f'\u001b[0m,\n",
       "    \u001b[32m'History'\u001b[0m: \u001b[32m'\u001b[0m\u001b[32m{\u001b[0m\u001b[32m\"type\": \"ai\", \"data\": \u001b[0m\u001b[32m{\u001b[0m\u001b[32m\"content\": \"The president of UTD is Dr. Richard C. Benson.\", \u001b[0m\n",
       "\u001b[32m\"additional_kwargs\": \u001b[0m\u001b[32m{\u001b[0m\u001b[32m}\u001b[0m\u001b[32m, \"example\": false\u001b[0m\u001b[32m}\u001b[0m\u001b[32m}\u001b[0m\u001b[32m'\u001b[0m\n",
       "\u001b[1m}\u001b[0m\n"
      ]
     },
     "metadata": {},
     "output_type": "display_data"
    },
    {
     "data": {
      "text/html": [
       "<pre style=\"white-space:pre;overflow-x:auto;line-height:normal;font-family:Menlo,'DejaVu Sans Mono',consolas,'Courier New',monospace\"><span style=\"font-weight: bold\">{</span>\n",
       "    <span style=\"color: #008000; text-decoration-color: #008000\">'_id'</span>: <span style=\"color: #800080; text-decoration-color: #800080; font-weight: bold\">ObjectId</span><span style=\"font-weight: bold\">(</span><span style=\"color: #008000; text-decoration-color: #008000\">'64aafd9b51fe61d5839cbea1'</span><span style=\"font-weight: bold\">)</span>,\n",
       "    <span style=\"color: #008000; text-decoration-color: #008000\">'SessionId'</span>: <span style=\"color: #008000; text-decoration-color: #008000\">'TTest_ZTest_KTest_KTest_JTest_wTest_zTest_ZTest_GTest_vTest_f'</span>,\n",
       "    <span style=\"color: #008000; text-decoration-color: #008000\">'History'</span>: <span style=\"color: #008000; text-decoration-color: #008000\">'{\"type\": \"human\", \"data\": {\"content\": \"How can I contact him?\", \"additional_kwargs\": {}, \"example\":</span>\n",
       "<span style=\"color: #008000; text-decoration-color: #008000\">false}}'</span>\n",
       "<span style=\"font-weight: bold\">}</span>\n",
       "</pre>\n"
      ],
      "text/plain": [
       "\u001b[1m{\u001b[0m\n",
       "    \u001b[32m'_id'\u001b[0m: \u001b[1;35mObjectId\u001b[0m\u001b[1m(\u001b[0m\u001b[32m'64aafd9b51fe61d5839cbea1'\u001b[0m\u001b[1m)\u001b[0m,\n",
       "    \u001b[32m'SessionId'\u001b[0m: \u001b[32m'TTest_ZTest_KTest_KTest_JTest_wTest_zTest_ZTest_GTest_vTest_f'\u001b[0m,\n",
       "    \u001b[32m'History'\u001b[0m: \u001b[32m'\u001b[0m\u001b[32m{\u001b[0m\u001b[32m\"type\": \"human\", \"data\": \u001b[0m\u001b[32m{\u001b[0m\u001b[32m\"content\": \"How can I contact him?\", \"additional_kwargs\": \u001b[0m\u001b[32m{\u001b[0m\u001b[32m}\u001b[0m\u001b[32m, \"example\":\u001b[0m\n",
       "\u001b[32mfalse\u001b[0m\u001b[32m}\u001b[0m\u001b[32m}\u001b[0m\u001b[32m'\u001b[0m\n",
       "\u001b[1m}\u001b[0m\n"
      ]
     },
     "metadata": {},
     "output_type": "display_data"
    },
    {
     "data": {
      "text/html": [
       "<pre style=\"white-space:pre;overflow-x:auto;line-height:normal;font-family:Menlo,'DejaVu Sans Mono',consolas,'Courier New',monospace\"><span style=\"font-weight: bold\">{</span>\n",
       "    <span style=\"color: #008000; text-decoration-color: #008000\">'_id'</span>: <span style=\"color: #800080; text-decoration-color: #800080; font-weight: bold\">ObjectId</span><span style=\"font-weight: bold\">(</span><span style=\"color: #008000; text-decoration-color: #008000\">'64aafd9c51fe61d5839cbea2'</span><span style=\"font-weight: bold\">)</span>,\n",
       "    <span style=\"color: #008000; text-decoration-color: #008000\">'SessionId'</span>: <span style=\"color: #008000; text-decoration-color: #008000\">'TTest_ZTest_KTest_KTest_JTest_wTest_zTest_ZTest_GTest_vTest_f'</span>,\n",
       "    <span style=\"color: #008000; text-decoration-color: #008000\">'History'</span>: <span style=\"color: #008000; text-decoration-color: #008000\">'{\"type\": \"ai\", \"data\": {\"content\": \"MALICIOUS\", \"additional_kwargs\": {}, \"example\": false}}'</span>\n",
       "<span style=\"font-weight: bold\">}</span>\n",
       "</pre>\n"
      ],
      "text/plain": [
       "\u001b[1m{\u001b[0m\n",
       "    \u001b[32m'_id'\u001b[0m: \u001b[1;35mObjectId\u001b[0m\u001b[1m(\u001b[0m\u001b[32m'64aafd9c51fe61d5839cbea2'\u001b[0m\u001b[1m)\u001b[0m,\n",
       "    \u001b[32m'SessionId'\u001b[0m: \u001b[32m'TTest_ZTest_KTest_KTest_JTest_wTest_zTest_ZTest_GTest_vTest_f'\u001b[0m,\n",
       "    \u001b[32m'History'\u001b[0m: \u001b[32m'\u001b[0m\u001b[32m{\u001b[0m\u001b[32m\"type\": \"ai\", \"data\": \u001b[0m\u001b[32m{\u001b[0m\u001b[32m\"content\": \"MALICIOUS\", \"additional_kwargs\": \u001b[0m\u001b[32m{\u001b[0m\u001b[32m}\u001b[0m\u001b[32m, \"example\": false\u001b[0m\u001b[32m}\u001b[0m\u001b[32m}\u001b[0m\u001b[32m'\u001b[0m\n",
       "\u001b[1m}\u001b[0m\n"
      ]
     },
     "metadata": {},
     "output_type": "display_data"
    },
    {
     "data": {
      "text/html": [
       "<pre style=\"white-space:pre;overflow-x:auto;line-height:normal;font-family:Menlo,'DejaVu Sans Mono',consolas,'Courier New',monospace\"><span style=\"font-weight: bold\">{</span>\n",
       "    <span style=\"color: #008000; text-decoration-color: #008000\">'_id'</span>: <span style=\"color: #800080; text-decoration-color: #800080; font-weight: bold\">ObjectId</span><span style=\"font-weight: bold\">(</span><span style=\"color: #008000; text-decoration-color: #008000\">'64aafb43aa4e6f3713c81955'</span><span style=\"font-weight: bold\">)</span>,\n",
       "    <span style=\"color: #008000; text-decoration-color: #008000\">'SessionId'</span>: <span style=\"color: #008000; text-decoration-color: #008000\">'UTest_gTest_ETest_xTest_qTest_ZTest_NTest_gTest_dTest_DTest_F'</span>,\n",
       "    <span style=\"color: #008000; text-decoration-color: #008000\">'History'</span>: <span style=\"color: #008000; text-decoration-color: #008000\">'{\"type\": \"human\", \"data\": {\"content\": \"What is the difference between Math 2419 and Math 2417?\", </span>\n",
       "<span style=\"color: #008000; text-decoration-color: #008000\">\"additional_kwargs\": {}, \"example\": false}}'</span>\n",
       "<span style=\"font-weight: bold\">}</span>\n",
       "</pre>\n"
      ],
      "text/plain": [
       "\u001b[1m{\u001b[0m\n",
       "    \u001b[32m'_id'\u001b[0m: \u001b[1;35mObjectId\u001b[0m\u001b[1m(\u001b[0m\u001b[32m'64aafb43aa4e6f3713c81955'\u001b[0m\u001b[1m)\u001b[0m,\n",
       "    \u001b[32m'SessionId'\u001b[0m: \u001b[32m'UTest_gTest_ETest_xTest_qTest_ZTest_NTest_gTest_dTest_DTest_F'\u001b[0m,\n",
       "    \u001b[32m'History'\u001b[0m: \u001b[32m'\u001b[0m\u001b[32m{\u001b[0m\u001b[32m\"type\": \"human\", \"data\": \u001b[0m\u001b[32m{\u001b[0m\u001b[32m\"content\": \"What is the difference between Math 2419 and Math 2417?\", \u001b[0m\n",
       "\u001b[32m\"additional_kwargs\": \u001b[0m\u001b[32m{\u001b[0m\u001b[32m}\u001b[0m\u001b[32m, \"example\": false\u001b[0m\u001b[32m}\u001b[0m\u001b[32m}\u001b[0m\u001b[32m'\u001b[0m\n",
       "\u001b[1m}\u001b[0m\n"
      ]
     },
     "metadata": {},
     "output_type": "display_data"
    },
    {
     "data": {
      "text/html": [
       "<pre style=\"white-space:pre;overflow-x:auto;line-height:normal;font-family:Menlo,'DejaVu Sans Mono',consolas,'Courier New',monospace\"><span style=\"font-weight: bold\">{</span>\n",
       "    <span style=\"color: #008000; text-decoration-color: #008000\">'_id'</span>: <span style=\"color: #800080; text-decoration-color: #800080; font-weight: bold\">ObjectId</span><span style=\"font-weight: bold\">(</span><span style=\"color: #008000; text-decoration-color: #008000\">'64aafb44aa4e6f3713c81956'</span><span style=\"font-weight: bold\">)</span>,\n",
       "    <span style=\"color: #008000; text-decoration-color: #008000\">'SessionId'</span>: <span style=\"color: #008000; text-decoration-color: #008000\">'UTest_gTest_ETest_xTest_qTest_ZTest_NTest_gTest_dTest_DTest_F'</span>,\n",
       "    <span style=\"color: #008000; text-decoration-color: #008000\">'History'</span>: <span style=\"color: #008000; text-decoration-color: #008000\">'{\"type\": \"ai\", \"data\": {\"content\": \"Math 2419 is a continuation of Math 2417. It covers improper </span>\n",
       "<span style=\"color: #008000; text-decoration-color: #008000\">integrals, sequences, infinite series, power series, parametric equations and polar coordinates, vectors, vector </span>\n",
       "<span style=\"color: #008000; text-decoration-color: #008000\">valued functions, functions of several variables, partial derivatives and applications, and multiple integration.\",</span>\n",
       "<span style=\"color: #008000; text-decoration-color: #008000\">\"additional_kwargs\": {}, \"example\": false}}'</span>\n",
       "<span style=\"font-weight: bold\">}</span>\n",
       "</pre>\n"
      ],
      "text/plain": [
       "\u001b[1m{\u001b[0m\n",
       "    \u001b[32m'_id'\u001b[0m: \u001b[1;35mObjectId\u001b[0m\u001b[1m(\u001b[0m\u001b[32m'64aafb44aa4e6f3713c81956'\u001b[0m\u001b[1m)\u001b[0m,\n",
       "    \u001b[32m'SessionId'\u001b[0m: \u001b[32m'UTest_gTest_ETest_xTest_qTest_ZTest_NTest_gTest_dTest_DTest_F'\u001b[0m,\n",
       "    \u001b[32m'History'\u001b[0m: \u001b[32m'\u001b[0m\u001b[32m{\u001b[0m\u001b[32m\"type\": \"ai\", \"data\": \u001b[0m\u001b[32m{\u001b[0m\u001b[32m\"content\": \"Math 2419 is a continuation of Math 2417. It covers improper \u001b[0m\n",
       "\u001b[32mintegrals, sequences, infinite series, power series, parametric equations and polar coordinates, vectors, vector \u001b[0m\n",
       "\u001b[32mvalued functions, functions of several variables, partial derivatives and applications, and multiple integration.\",\u001b[0m\n",
       "\u001b[32m\"additional_kwargs\": \u001b[0m\u001b[32m{\u001b[0m\u001b[32m}\u001b[0m\u001b[32m, \"example\": false\u001b[0m\u001b[32m}\u001b[0m\u001b[32m}\u001b[0m\u001b[32m'\u001b[0m\n",
       "\u001b[1m}\u001b[0m\n"
      ]
     },
     "metadata": {},
     "output_type": "display_data"
    },
    {
     "data": {
      "text/html": [
       "<pre style=\"white-space:pre;overflow-x:auto;line-height:normal;font-family:Menlo,'DejaVu Sans Mono',consolas,'Courier New',monospace\"><span style=\"font-weight: bold\">{</span>\n",
       "    <span style=\"color: #008000; text-decoration-color: #008000\">'_id'</span>: <span style=\"color: #800080; text-decoration-color: #800080; font-weight: bold\">ObjectId</span><span style=\"font-weight: bold\">(</span><span style=\"color: #008000; text-decoration-color: #008000\">'64aafee83a797897a86e5d98'</span><span style=\"font-weight: bold\">)</span>,\n",
       "    <span style=\"color: #008000; text-decoration-color: #008000\">'SessionId'</span>: <span style=\"color: #008000; text-decoration-color: #008000\">'UTest_jTest_LTest_dTest_UTest_KTest_LTest_ZTest_ITest_yTest_E'</span>,\n",
       "    <span style=\"color: #008000; text-decoration-color: #008000\">'History'</span>: <span style=\"color: #008000; text-decoration-color: #008000\">'{\"type\": \"human\", \"data\": {\"content\": \"Who is Dr. Vincent Ng\", \"additional_kwargs\": {}, \"example\": </span>\n",
       "<span style=\"color: #008000; text-decoration-color: #008000\">false}}'</span>\n",
       "<span style=\"font-weight: bold\">}</span>\n",
       "</pre>\n"
      ],
      "text/plain": [
       "\u001b[1m{\u001b[0m\n",
       "    \u001b[32m'_id'\u001b[0m: \u001b[1;35mObjectId\u001b[0m\u001b[1m(\u001b[0m\u001b[32m'64aafee83a797897a86e5d98'\u001b[0m\u001b[1m)\u001b[0m,\n",
       "    \u001b[32m'SessionId'\u001b[0m: \u001b[32m'UTest_jTest_LTest_dTest_UTest_KTest_LTest_ZTest_ITest_yTest_E'\u001b[0m,\n",
       "    \u001b[32m'History'\u001b[0m: \u001b[32m'\u001b[0m\u001b[32m{\u001b[0m\u001b[32m\"type\": \"human\", \"data\": \u001b[0m\u001b[32m{\u001b[0m\u001b[32m\"content\": \"Who is Dr. Vincent Ng\", \"additional_kwargs\": \u001b[0m\u001b[32m{\u001b[0m\u001b[32m}\u001b[0m\u001b[32m, \"example\": \u001b[0m\n",
       "\u001b[32mfalse\u001b[0m\u001b[32m}\u001b[0m\u001b[32m}\u001b[0m\u001b[32m'\u001b[0m\n",
       "\u001b[1m}\u001b[0m\n"
      ]
     },
     "metadata": {},
     "output_type": "display_data"
    },
    {
     "data": {
      "text/html": [
       "<pre style=\"white-space:pre;overflow-x:auto;line-height:normal;font-family:Menlo,'DejaVu Sans Mono',consolas,'Courier New',monospace\"><span style=\"font-weight: bold\">{</span>\n",
       "    <span style=\"color: #008000; text-decoration-color: #008000\">'_id'</span>: <span style=\"color: #800080; text-decoration-color: #800080; font-weight: bold\">ObjectId</span><span style=\"font-weight: bold\">(</span><span style=\"color: #008000; text-decoration-color: #008000\">'64aafee83a797897a86e5d99'</span><span style=\"font-weight: bold\">)</span>,\n",
       "    <span style=\"color: #008000; text-decoration-color: #008000\">'SessionId'</span>: <span style=\"color: #008000; text-decoration-color: #008000\">'UTest_jTest_LTest_dTest_UTest_KTest_LTest_ZTest_ITest_yTest_E'</span>,\n",
       "    <span style=\"color: #008000; text-decoration-color: #008000\">'History'</span>: <span style=\"color: #008000; text-decoration-color: #008000\">'{\"type\": \"ai\", \"data\": {\"content\": \"Dr. Vincent Ng is a professor in the Computer Science </span>\n",
       "<span style=\"color: #008000; text-decoration-color: #008000\">department. He teaches CS2305, CS4365, CS4375, and CS6375. He has an overall rating of 4 out of 5 on </span>\n",
       "<span style=\"color: #008000; text-decoration-color: #008000\">RateMyProfessor and a difficulty rating of 5 out of 5.\", \"additional_kwargs\": {}, \"example\": false}}'</span>\n",
       "<span style=\"font-weight: bold\">}</span>\n",
       "</pre>\n"
      ],
      "text/plain": [
       "\u001b[1m{\u001b[0m\n",
       "    \u001b[32m'_id'\u001b[0m: \u001b[1;35mObjectId\u001b[0m\u001b[1m(\u001b[0m\u001b[32m'64aafee83a797897a86e5d99'\u001b[0m\u001b[1m)\u001b[0m,\n",
       "    \u001b[32m'SessionId'\u001b[0m: \u001b[32m'UTest_jTest_LTest_dTest_UTest_KTest_LTest_ZTest_ITest_yTest_E'\u001b[0m,\n",
       "    \u001b[32m'History'\u001b[0m: \u001b[32m'\u001b[0m\u001b[32m{\u001b[0m\u001b[32m\"type\": \"ai\", \"data\": \u001b[0m\u001b[32m{\u001b[0m\u001b[32m\"content\": \"Dr. Vincent Ng is a professor in the Computer Science \u001b[0m\n",
       "\u001b[32mdepartment. He teaches CS2305, CS4365, CS4375, and CS6375. He has an overall rating of 4 out of 5 on \u001b[0m\n",
       "\u001b[32mRateMyProfessor and a difficulty rating of 5 out of 5.\", \"additional_kwargs\": \u001b[0m\u001b[32m{\u001b[0m\u001b[32m}\u001b[0m\u001b[32m, \"example\": false\u001b[0m\u001b[32m}\u001b[0m\u001b[32m}\u001b[0m\u001b[32m'\u001b[0m\n",
       "\u001b[1m}\u001b[0m\n"
      ]
     },
     "metadata": {},
     "output_type": "display_data"
    },
    {
     "data": {
      "text/html": [
       "<pre style=\"white-space:pre;overflow-x:auto;line-height:normal;font-family:Menlo,'DejaVu Sans Mono',consolas,'Courier New',monospace\"><span style=\"font-weight: bold\">{</span>\n",
       "    <span style=\"color: #008000; text-decoration-color: #008000\">'_id'</span>: <span style=\"color: #800080; text-decoration-color: #800080; font-weight: bold\">ObjectId</span><span style=\"font-weight: bold\">(</span><span style=\"color: #008000; text-decoration-color: #008000\">'64aaff063a797897a86e5d9a'</span><span style=\"font-weight: bold\">)</span>,\n",
       "    <span style=\"color: #008000; text-decoration-color: #008000\">'SessionId'</span>: <span style=\"color: #008000; text-decoration-color: #008000\">'UTest_jTest_LTest_dTest_UTest_KTest_LTest_ZTest_ITest_yTest_E'</span>,\n",
       "    <span style=\"color: #008000; text-decoration-color: #008000\">'History'</span>: <span style=\"color: #008000; text-decoration-color: #008000\">'{\"type\": \"human\", \"data\": {\"content\": \"How can I contact him?\", \"additional_kwargs\": {}, \"example\":</span>\n",
       "<span style=\"color: #008000; text-decoration-color: #008000\">false}}'</span>\n",
       "<span style=\"font-weight: bold\">}</span>\n",
       "</pre>\n"
      ],
      "text/plain": [
       "\u001b[1m{\u001b[0m\n",
       "    \u001b[32m'_id'\u001b[0m: \u001b[1;35mObjectId\u001b[0m\u001b[1m(\u001b[0m\u001b[32m'64aaff063a797897a86e5d9a'\u001b[0m\u001b[1m)\u001b[0m,\n",
       "    \u001b[32m'SessionId'\u001b[0m: \u001b[32m'UTest_jTest_LTest_dTest_UTest_KTest_LTest_ZTest_ITest_yTest_E'\u001b[0m,\n",
       "    \u001b[32m'History'\u001b[0m: \u001b[32m'\u001b[0m\u001b[32m{\u001b[0m\u001b[32m\"type\": \"human\", \"data\": \u001b[0m\u001b[32m{\u001b[0m\u001b[32m\"content\": \"How can I contact him?\", \"additional_kwargs\": \u001b[0m\u001b[32m{\u001b[0m\u001b[32m}\u001b[0m\u001b[32m, \"example\":\u001b[0m\n",
       "\u001b[32mfalse\u001b[0m\u001b[32m}\u001b[0m\u001b[32m}\u001b[0m\u001b[32m'\u001b[0m\n",
       "\u001b[1m}\u001b[0m\n"
      ]
     },
     "metadata": {},
     "output_type": "display_data"
    },
    {
     "data": {
      "text/html": [
       "<pre style=\"white-space:pre;overflow-x:auto;line-height:normal;font-family:Menlo,'DejaVu Sans Mono',consolas,'Courier New',monospace\"><span style=\"font-weight: bold\">{</span>\n",
       "    <span style=\"color: #008000; text-decoration-color: #008000\">'_id'</span>: <span style=\"color: #800080; text-decoration-color: #800080; font-weight: bold\">ObjectId</span><span style=\"font-weight: bold\">(</span><span style=\"color: #008000; text-decoration-color: #008000\">'64aaff063a797897a86e5d9b'</span><span style=\"font-weight: bold\">)</span>,\n",
       "    <span style=\"color: #008000; text-decoration-color: #008000\">'SessionId'</span>: <span style=\"color: #008000; text-decoration-color: #008000\">'UTest_jTest_LTest_dTest_UTest_KTest_LTest_ZTest_ITest_yTest_E'</span>,\n",
       "    <span style=\"color: #008000; text-decoration-color: #008000\">'History'</span>: <span style=\"color: #008000; text-decoration-color: #008000\">'{\"type\": \"ai\", \"data\": {\"content\": \"MALICIOUS\", \"additional_kwargs\": {}, \"example\": false}}'</span>\n",
       "<span style=\"font-weight: bold\">}</span>\n",
       "</pre>\n"
      ],
      "text/plain": [
       "\u001b[1m{\u001b[0m\n",
       "    \u001b[32m'_id'\u001b[0m: \u001b[1;35mObjectId\u001b[0m\u001b[1m(\u001b[0m\u001b[32m'64aaff063a797897a86e5d9b'\u001b[0m\u001b[1m)\u001b[0m,\n",
       "    \u001b[32m'SessionId'\u001b[0m: \u001b[32m'UTest_jTest_LTest_dTest_UTest_KTest_LTest_ZTest_ITest_yTest_E'\u001b[0m,\n",
       "    \u001b[32m'History'\u001b[0m: \u001b[32m'\u001b[0m\u001b[32m{\u001b[0m\u001b[32m\"type\": \"ai\", \"data\": \u001b[0m\u001b[32m{\u001b[0m\u001b[32m\"content\": \"MALICIOUS\", \"additional_kwargs\": \u001b[0m\u001b[32m{\u001b[0m\u001b[32m}\u001b[0m\u001b[32m, \"example\": false\u001b[0m\u001b[32m}\u001b[0m\u001b[32m}\u001b[0m\u001b[32m'\u001b[0m\n",
       "\u001b[1m}\u001b[0m\n"
      ]
     },
     "metadata": {},
     "output_type": "display_data"
    },
    {
     "data": {
      "text/html": [
       "<pre style=\"white-space:pre;overflow-x:auto;line-height:normal;font-family:Menlo,'DejaVu Sans Mono',consolas,'Courier New',monospace\"><span style=\"font-weight: bold\">{</span>\n",
       "    <span style=\"color: #008000; text-decoration-color: #008000\">'_id'</span>: <span style=\"color: #800080; text-decoration-color: #800080; font-weight: bold\">ObjectId</span><span style=\"font-weight: bold\">(</span><span style=\"color: #008000; text-decoration-color: #008000\">'64ab0a20cd9ed510ebbeb3bd'</span><span style=\"font-weight: bold\">)</span>,\n",
       "    <span style=\"color: #008000; text-decoration-color: #008000\">'SessionId'</span>: <span style=\"color: #008000; text-decoration-color: #008000\">'VTest_qTest_KTest_KTest_TTest_tTest_fTest_UTest_dTest_xTest_l'</span>,\n",
       "    <span style=\"color: #008000; text-decoration-color: #008000\">'History'</span>: <span style=\"color: #008000; text-decoration-color: #008000\">'{\"type\": \"human\", \"data\": {\"content\": \"How hard is Dr. Vincent class?\", \"additional_kwargs\": {}, </span>\n",
       "<span style=\"color: #008000; text-decoration-color: #008000\">\"example\": false}}'</span>\n",
       "<span style=\"font-weight: bold\">}</span>\n",
       "</pre>\n"
      ],
      "text/plain": [
       "\u001b[1m{\u001b[0m\n",
       "    \u001b[32m'_id'\u001b[0m: \u001b[1;35mObjectId\u001b[0m\u001b[1m(\u001b[0m\u001b[32m'64ab0a20cd9ed510ebbeb3bd'\u001b[0m\u001b[1m)\u001b[0m,\n",
       "    \u001b[32m'SessionId'\u001b[0m: \u001b[32m'VTest_qTest_KTest_KTest_TTest_tTest_fTest_UTest_dTest_xTest_l'\u001b[0m,\n",
       "    \u001b[32m'History'\u001b[0m: \u001b[32m'\u001b[0m\u001b[32m{\u001b[0m\u001b[32m\"type\": \"human\", \"data\": \u001b[0m\u001b[32m{\u001b[0m\u001b[32m\"content\": \"How hard is Dr. Vincent class?\", \"additional_kwargs\": \u001b[0m\u001b[32m{\u001b[0m\u001b[32m}\u001b[0m\u001b[32m, \u001b[0m\n",
       "\u001b[32m\"example\": false\u001b[0m\u001b[32m}\u001b[0m\u001b[32m}\u001b[0m\u001b[32m'\u001b[0m\n",
       "\u001b[1m}\u001b[0m\n"
      ]
     },
     "metadata": {},
     "output_type": "display_data"
    },
    {
     "data": {
      "text/html": [
       "<pre style=\"white-space:pre;overflow-x:auto;line-height:normal;font-family:Menlo,'DejaVu Sans Mono',consolas,'Courier New',monospace\"><span style=\"font-weight: bold\">{</span>\n",
       "    <span style=\"color: #008000; text-decoration-color: #008000\">'_id'</span>: <span style=\"color: #800080; text-decoration-color: #800080; font-weight: bold\">ObjectId</span><span style=\"font-weight: bold\">(</span><span style=\"color: #008000; text-decoration-color: #008000\">'64ab0a20cd9ed510ebbeb3be'</span><span style=\"font-weight: bold\">)</span>,\n",
       "    <span style=\"color: #008000; text-decoration-color: #008000\">'SessionId'</span>: <span style=\"color: #008000; text-decoration-color: #008000\">'VTest_qTest_KTest_KTest_TTest_tTest_fTest_UTest_dTest_xTest_l'</span>,\n",
       "    <span style=\"color: #008000; text-decoration-color: #008000\">'History'</span>: <span style=\"color: #008000; text-decoration-color: #008000\">'{\"type\": \"ai\", \"data\": {\"content\": \"Dr. Vincent\\'s classes are rated 4 out of 5 overall and 5 out </span>\n",
       "<span style=\"color: #008000; text-decoration-color: #008000\">of 5 in difficulty. This means that students generally find his classes to be challenging but rewarding. If you are</span>\n",
       "<span style=\"color: #008000; text-decoration-color: #008000\">looking for a class that will push you to learn new material and think critically, then Dr. Vincent\\'s class may be</span>\n",
       "<span style=\"color: #008000; text-decoration-color: #008000\">a good option for you. However, if you are looking for a class that is easy and does not require a lot of work, </span>\n",
       "<span style=\"color: #008000; text-decoration-color: #008000\">then you may want to consider another option.\", \"additional_kwargs\": {}, \"example\": false}}'</span>\n",
       "<span style=\"font-weight: bold\">}</span>\n",
       "</pre>\n"
      ],
      "text/plain": [
       "\u001b[1m{\u001b[0m\n",
       "    \u001b[32m'_id'\u001b[0m: \u001b[1;35mObjectId\u001b[0m\u001b[1m(\u001b[0m\u001b[32m'64ab0a20cd9ed510ebbeb3be'\u001b[0m\u001b[1m)\u001b[0m,\n",
       "    \u001b[32m'SessionId'\u001b[0m: \u001b[32m'VTest_qTest_KTest_KTest_TTest_tTest_fTest_UTest_dTest_xTest_l'\u001b[0m,\n",
       "    \u001b[32m'History'\u001b[0m: \u001b[32m'\u001b[0m\u001b[32m{\u001b[0m\u001b[32m\"type\": \"ai\", \"data\": \u001b[0m\u001b[32m{\u001b[0m\u001b[32m\"content\": \"Dr. Vincent\\'s classes are rated 4 out of 5 overall and 5 out \u001b[0m\n",
       "\u001b[32mof 5 in difficulty. This means that students generally find his classes to be challenging but rewarding. If you are\u001b[0m\n",
       "\u001b[32mlooking for a class that will push you to learn new material and think critically, then Dr. Vincent\\'s class may be\u001b[0m\n",
       "\u001b[32ma good option for you. However, if you are looking for a class that is easy and does not require a lot of work, \u001b[0m\n",
       "\u001b[32mthen you may want to consider another option.\", \"additional_kwargs\": \u001b[0m\u001b[32m{\u001b[0m\u001b[32m}\u001b[0m\u001b[32m, \"example\": false\u001b[0m\u001b[32m}\u001b[0m\u001b[32m}\u001b[0m\u001b[32m'\u001b[0m\n",
       "\u001b[1m}\u001b[0m\n"
      ]
     },
     "metadata": {},
     "output_type": "display_data"
    },
    {
     "data": {
      "text/html": [
       "<pre style=\"white-space:pre;overflow-x:auto;line-height:normal;font-family:Menlo,'DejaVu Sans Mono',consolas,'Courier New',monospace\"><span style=\"font-weight: bold\">{</span>\n",
       "    <span style=\"color: #008000; text-decoration-color: #008000\">'_id'</span>: <span style=\"color: #800080; text-decoration-color: #800080; font-weight: bold\">ObjectId</span><span style=\"font-weight: bold\">(</span><span style=\"color: #008000; text-decoration-color: #008000\">'64ab0a3dcd9ed510ebbeb3bf'</span><span style=\"font-weight: bold\">)</span>,\n",
       "    <span style=\"color: #008000; text-decoration-color: #008000\">'SessionId'</span>: <span style=\"color: #008000; text-decoration-color: #008000\">'VTest_qTest_KTest_KTest_TTest_tTest_fTest_UTest_dTest_xTest_l'</span>,\n",
       "    <span style=\"color: #008000; text-decoration-color: #008000\">'History'</span>: <span style=\"color: #008000; text-decoration-color: #008000\">'{\"type\": \"human\", \"data\": {\"content\": \"What does student think of him?\", \"additional_kwargs\": {}, </span>\n",
       "<span style=\"color: #008000; text-decoration-color: #008000\">\"example\": false}}'</span>\n",
       "<span style=\"font-weight: bold\">}</span>\n",
       "</pre>\n"
      ],
      "text/plain": [
       "\u001b[1m{\u001b[0m\n",
       "    \u001b[32m'_id'\u001b[0m: \u001b[1;35mObjectId\u001b[0m\u001b[1m(\u001b[0m\u001b[32m'64ab0a3dcd9ed510ebbeb3bf'\u001b[0m\u001b[1m)\u001b[0m,\n",
       "    \u001b[32m'SessionId'\u001b[0m: \u001b[32m'VTest_qTest_KTest_KTest_TTest_tTest_fTest_UTest_dTest_xTest_l'\u001b[0m,\n",
       "    \u001b[32m'History'\u001b[0m: \u001b[32m'\u001b[0m\u001b[32m{\u001b[0m\u001b[32m\"type\": \"human\", \"data\": \u001b[0m\u001b[32m{\u001b[0m\u001b[32m\"content\": \"What does student think of him?\", \"additional_kwargs\": \u001b[0m\u001b[32m{\u001b[0m\u001b[32m}\u001b[0m\u001b[32m, \u001b[0m\n",
       "\u001b[32m\"example\": false\u001b[0m\u001b[32m}\u001b[0m\u001b[32m}\u001b[0m\u001b[32m'\u001b[0m\n",
       "\u001b[1m}\u001b[0m\n"
      ]
     },
     "metadata": {},
     "output_type": "display_data"
    },
    {
     "data": {
      "text/html": [
       "<pre style=\"white-space:pre;overflow-x:auto;line-height:normal;font-family:Menlo,'DejaVu Sans Mono',consolas,'Courier New',monospace\"><span style=\"font-weight: bold\">{</span>\n",
       "    <span style=\"color: #008000; text-decoration-color: #008000\">'_id'</span>: <span style=\"color: #800080; text-decoration-color: #800080; font-weight: bold\">ObjectId</span><span style=\"font-weight: bold\">(</span><span style=\"color: #008000; text-decoration-color: #008000\">'64ab0a3dcd9ed510ebbeb3c0'</span><span style=\"font-weight: bold\">)</span>,\n",
       "    <span style=\"color: #008000; text-decoration-color: #008000\">'SessionId'</span>: <span style=\"color: #008000; text-decoration-color: #008000\">'VTest_qTest_KTest_KTest_TTest_tTest_fTest_UTest_dTest_xTest_l'</span>,\n",
       "    <span style=\"color: #008000; text-decoration-color: #008000\">'History'</span>: <span style=\"color: #008000; text-decoration-color: #008000\">'{\"type\": \"ai\", \"data\": {\"content\": \"Dr. Vincent\\'s classes are rated 4 out of 5 overall and 5 out </span>\n",
       "<span style=\"color: #008000; text-decoration-color: #008000\">of 5 in difficulty. This means that students generally find his classes to be challenging but rewarding. If you are</span>\n",
       "<span style=\"color: #008000; text-decoration-color: #008000\">looking for a class that will push you to learn new material and think critically, then Dr. Vincent\\'s class may be</span>\n",
       "<span style=\"color: #008000; text-decoration-color: #008000\">a good option for you. However, if you are looking for a class that is easy and does not require a lot of work, </span>\n",
       "<span style=\"color: #008000; text-decoration-color: #008000\">then you may want to consider another option.\", \"additional_kwargs\": {}, \"example\": false}}'</span>\n",
       "<span style=\"font-weight: bold\">}</span>\n",
       "</pre>\n"
      ],
      "text/plain": [
       "\u001b[1m{\u001b[0m\n",
       "    \u001b[32m'_id'\u001b[0m: \u001b[1;35mObjectId\u001b[0m\u001b[1m(\u001b[0m\u001b[32m'64ab0a3dcd9ed510ebbeb3c0'\u001b[0m\u001b[1m)\u001b[0m,\n",
       "    \u001b[32m'SessionId'\u001b[0m: \u001b[32m'VTest_qTest_KTest_KTest_TTest_tTest_fTest_UTest_dTest_xTest_l'\u001b[0m,\n",
       "    \u001b[32m'History'\u001b[0m: \u001b[32m'\u001b[0m\u001b[32m{\u001b[0m\u001b[32m\"type\": \"ai\", \"data\": \u001b[0m\u001b[32m{\u001b[0m\u001b[32m\"content\": \"Dr. Vincent\\'s classes are rated 4 out of 5 overall and 5 out \u001b[0m\n",
       "\u001b[32mof 5 in difficulty. This means that students generally find his classes to be challenging but rewarding. If you are\u001b[0m\n",
       "\u001b[32mlooking for a class that will push you to learn new material and think critically, then Dr. Vincent\\'s class may be\u001b[0m\n",
       "\u001b[32ma good option for you. However, if you are looking for a class that is easy and does not require a lot of work, \u001b[0m\n",
       "\u001b[32mthen you may want to consider another option.\", \"additional_kwargs\": \u001b[0m\u001b[32m{\u001b[0m\u001b[32m}\u001b[0m\u001b[32m, \"example\": false\u001b[0m\u001b[32m}\u001b[0m\u001b[32m}\u001b[0m\u001b[32m'\u001b[0m\n",
       "\u001b[1m}\u001b[0m\n"
      ]
     },
     "metadata": {},
     "output_type": "display_data"
    },
    {
     "data": {
      "text/html": [
       "<pre style=\"white-space:pre;overflow-x:auto;line-height:normal;font-family:Menlo,'DejaVu Sans Mono',consolas,'Courier New',monospace\"><span style=\"font-weight: bold\">{</span>\n",
       "    <span style=\"color: #008000; text-decoration-color: #008000\">'_id'</span>: <span style=\"color: #800080; text-decoration-color: #800080; font-weight: bold\">ObjectId</span><span style=\"font-weight: bold\">(</span><span style=\"color: #008000; text-decoration-color: #008000\">'64aafa0f3ba357733607e20d'</span><span style=\"font-weight: bold\">)</span>,\n",
       "    <span style=\"color: #008000; text-decoration-color: #008000\">'SessionId'</span>: <span style=\"color: #008000; text-decoration-color: #008000\">'YTest_LTest_fTest_LTest_HTest_lTest_OTest_CTest_STest_TTest_t'</span>,\n",
       "    <span style=\"color: #008000; text-decoration-color: #008000\">'History'</span>: <span style=\"color: #008000; text-decoration-color: #008000\">'{\"type\": \"human\", \"data\": {\"content\": \"How hard is the class 2419?\", \"additional_kwargs\": {}, </span>\n",
       "<span style=\"color: #008000; text-decoration-color: #008000\">\"example\": false}}'</span>\n",
       "<span style=\"font-weight: bold\">}</span>\n",
       "</pre>\n"
      ],
      "text/plain": [
       "\u001b[1m{\u001b[0m\n",
       "    \u001b[32m'_id'\u001b[0m: \u001b[1;35mObjectId\u001b[0m\u001b[1m(\u001b[0m\u001b[32m'64aafa0f3ba357733607e20d'\u001b[0m\u001b[1m)\u001b[0m,\n",
       "    \u001b[32m'SessionId'\u001b[0m: \u001b[32m'YTest_LTest_fTest_LTest_HTest_lTest_OTest_CTest_STest_TTest_t'\u001b[0m,\n",
       "    \u001b[32m'History'\u001b[0m: \u001b[32m'\u001b[0m\u001b[32m{\u001b[0m\u001b[32m\"type\": \"human\", \"data\": \u001b[0m\u001b[32m{\u001b[0m\u001b[32m\"content\": \"How hard is the class 2419?\", \"additional_kwargs\": \u001b[0m\u001b[32m{\u001b[0m\u001b[32m}\u001b[0m\u001b[32m, \u001b[0m\n",
       "\u001b[32m\"example\": false\u001b[0m\u001b[32m}\u001b[0m\u001b[32m}\u001b[0m\u001b[32m'\u001b[0m\n",
       "\u001b[1m}\u001b[0m\n"
      ]
     },
     "metadata": {},
     "output_type": "display_data"
    },
    {
     "data": {
      "text/html": [
       "<pre style=\"white-space:pre;overflow-x:auto;line-height:normal;font-family:Menlo,'DejaVu Sans Mono',consolas,'Courier New',monospace\"><span style=\"font-weight: bold\">{</span>\n",
       "    <span style=\"color: #008000; text-decoration-color: #008000\">'_id'</span>: <span style=\"color: #800080; text-decoration-color: #800080; font-weight: bold\">ObjectId</span><span style=\"font-weight: bold\">(</span><span style=\"color: #008000; text-decoration-color: #008000\">'64aafa0f3ba357733607e20e'</span><span style=\"font-weight: bold\">)</span>,\n",
       "    <span style=\"color: #008000; text-decoration-color: #008000\">'SessionId'</span>: <span style=\"color: #008000; text-decoration-color: #008000\">'YTest_LTest_fTest_LTest_HTest_lTest_OTest_CTest_STest_TTest_t'</span>,\n",
       "    <span style=\"color: #008000; text-decoration-color: #008000\">'History'</span>: <span style=\"color: #008000; text-decoration-color: #008000\">'{\"type\": \"ai\", \"data\": {\"content\": \"MALICIOUS\", \"additional_kwargs\": {}, \"example\": false}}'</span>\n",
       "<span style=\"font-weight: bold\">}</span>\n",
       "</pre>\n"
      ],
      "text/plain": [
       "\u001b[1m{\u001b[0m\n",
       "    \u001b[32m'_id'\u001b[0m: \u001b[1;35mObjectId\u001b[0m\u001b[1m(\u001b[0m\u001b[32m'64aafa0f3ba357733607e20e'\u001b[0m\u001b[1m)\u001b[0m,\n",
       "    \u001b[32m'SessionId'\u001b[0m: \u001b[32m'YTest_LTest_fTest_LTest_HTest_lTest_OTest_CTest_STest_TTest_t'\u001b[0m,\n",
       "    \u001b[32m'History'\u001b[0m: \u001b[32m'\u001b[0m\u001b[32m{\u001b[0m\u001b[32m\"type\": \"ai\", \"data\": \u001b[0m\u001b[32m{\u001b[0m\u001b[32m\"content\": \"MALICIOUS\", \"additional_kwargs\": \u001b[0m\u001b[32m{\u001b[0m\u001b[32m}\u001b[0m\u001b[32m, \"example\": false\u001b[0m\u001b[32m}\u001b[0m\u001b[32m}\u001b[0m\u001b[32m'\u001b[0m\n",
       "\u001b[1m}\u001b[0m\n"
      ]
     },
     "metadata": {},
     "output_type": "display_data"
    },
    {
     "data": {
      "text/html": [
       "<pre style=\"white-space:pre;overflow-x:auto;line-height:normal;font-family:Menlo,'DejaVu Sans Mono',consolas,'Courier New',monospace\"><span style=\"font-weight: bold\">{</span>\n",
       "    <span style=\"color: #008000; text-decoration-color: #008000\">'_id'</span>: <span style=\"color: #800080; text-decoration-color: #800080; font-weight: bold\">ObjectId</span><span style=\"font-weight: bold\">(</span><span style=\"color: #008000; text-decoration-color: #008000\">'64aafa203ba357733607e20f'</span><span style=\"font-weight: bold\">)</span>,\n",
       "    <span style=\"color: #008000; text-decoration-color: #008000\">'SessionId'</span>: <span style=\"color: #008000; text-decoration-color: #008000\">'YTest_LTest_fTest_LTest_HTest_lTest_OTest_CTest_STest_TTest_t'</span>,\n",
       "    <span style=\"color: #008000; text-decoration-color: #008000\">'History'</span>: <span style=\"color: #008000; text-decoration-color: #008000\">'{\"type\": \"human\", \"data\": {\"content\": \"How hard is the class Math 2419?\", \"additional_kwargs\": {}, </span>\n",
       "<span style=\"color: #008000; text-decoration-color: #008000\">\"example\": false}}'</span>\n",
       "<span style=\"font-weight: bold\">}</span>\n",
       "</pre>\n"
      ],
      "text/plain": [
       "\u001b[1m{\u001b[0m\n",
       "    \u001b[32m'_id'\u001b[0m: \u001b[1;35mObjectId\u001b[0m\u001b[1m(\u001b[0m\u001b[32m'64aafa203ba357733607e20f'\u001b[0m\u001b[1m)\u001b[0m,\n",
       "    \u001b[32m'SessionId'\u001b[0m: \u001b[32m'YTest_LTest_fTest_LTest_HTest_lTest_OTest_CTest_STest_TTest_t'\u001b[0m,\n",
       "    \u001b[32m'History'\u001b[0m: \u001b[32m'\u001b[0m\u001b[32m{\u001b[0m\u001b[32m\"type\": \"human\", \"data\": \u001b[0m\u001b[32m{\u001b[0m\u001b[32m\"content\": \"How hard is the class Math 2419?\", \"additional_kwargs\": \u001b[0m\u001b[32m{\u001b[0m\u001b[32m}\u001b[0m\u001b[32m, \u001b[0m\n",
       "\u001b[32m\"example\": false\u001b[0m\u001b[32m}\u001b[0m\u001b[32m}\u001b[0m\u001b[32m'\u001b[0m\n",
       "\u001b[1m}\u001b[0m\n"
      ]
     },
     "metadata": {},
     "output_type": "display_data"
    },
    {
     "data": {
      "text/html": [
       "<pre style=\"white-space:pre;overflow-x:auto;line-height:normal;font-family:Menlo,'DejaVu Sans Mono',consolas,'Courier New',monospace\"><span style=\"font-weight: bold\">{</span>\n",
       "    <span style=\"color: #008000; text-decoration-color: #008000\">'_id'</span>: <span style=\"color: #800080; text-decoration-color: #800080; font-weight: bold\">ObjectId</span><span style=\"font-weight: bold\">(</span><span style=\"color: #008000; text-decoration-color: #008000\">'64aafa203ba357733607e210'</span><span style=\"font-weight: bold\">)</span>,\n",
       "    <span style=\"color: #008000; text-decoration-color: #008000\">'SessionId'</span>: <span style=\"color: #008000; text-decoration-color: #008000\">'YTest_LTest_fTest_LTest_HTest_lTest_OTest_CTest_STest_TTest_t'</span>,\n",
       "    <span style=\"color: #008000; text-decoration-color: #008000\">'History'</span>: <span style=\"color: #008000; text-decoration-color: #008000\">'{\"type\": \"ai\", \"data\": {\"content\": \"I don\\'t know what you mean by 2419.\", \"additional_kwargs\": {},</span>\n",
       "<span style=\"color: #008000; text-decoration-color: #008000\">\"example\": false}}'</span>\n",
       "<span style=\"font-weight: bold\">}</span>\n",
       "</pre>\n"
      ],
      "text/plain": [
       "\u001b[1m{\u001b[0m\n",
       "    \u001b[32m'_id'\u001b[0m: \u001b[1;35mObjectId\u001b[0m\u001b[1m(\u001b[0m\u001b[32m'64aafa203ba357733607e210'\u001b[0m\u001b[1m)\u001b[0m,\n",
       "    \u001b[32m'SessionId'\u001b[0m: \u001b[32m'YTest_LTest_fTest_LTest_HTest_lTest_OTest_CTest_STest_TTest_t'\u001b[0m,\n",
       "    \u001b[32m'History'\u001b[0m: \u001b[32m'\u001b[0m\u001b[32m{\u001b[0m\u001b[32m\"type\": \"ai\", \"data\": \u001b[0m\u001b[32m{\u001b[0m\u001b[32m\"content\": \"I don\\'t know what you mean by 2419.\", \"additional_kwargs\": \u001b[0m\u001b[32m{\u001b[0m\u001b[32m}\u001b[0m\u001b[32m,\u001b[0m\n",
       "\u001b[32m\"example\": false\u001b[0m\u001b[32m}\u001b[0m\u001b[32m}\u001b[0m\u001b[32m'\u001b[0m\n",
       "\u001b[1m}\u001b[0m\n"
      ]
     },
     "metadata": {},
     "output_type": "display_data"
    },
    {
     "data": {
      "text/html": [
       "<pre style=\"white-space:pre;overflow-x:auto;line-height:normal;font-family:Menlo,'DejaVu Sans Mono',consolas,'Courier New',monospace\"><span style=\"font-weight: bold\">{</span>\n",
       "    <span style=\"color: #008000; text-decoration-color: #008000\">'_id'</span>: <span style=\"color: #800080; text-decoration-color: #800080; font-weight: bold\">ObjectId</span><span style=\"font-weight: bold\">(</span><span style=\"color: #008000; text-decoration-color: #008000\">'64aafa333ba357733607e211'</span><span style=\"font-weight: bold\">)</span>,\n",
       "    <span style=\"color: #008000; text-decoration-color: #008000\">'SessionId'</span>: <span style=\"color: #008000; text-decoration-color: #008000\">'YTest_LTest_fTest_LTest_HTest_lTest_OTest_CTest_STest_TTest_t'</span>,\n",
       "    <span style=\"color: #008000; text-decoration-color: #008000\">'History'</span>: <span style=\"color: #008000; text-decoration-color: #008000\">'{\"type\": \"human\", \"data\": {\"content\": \"How hard is Math 2419?\", \"additional_kwargs\": {}, \"example\":</span>\n",
       "<span style=\"color: #008000; text-decoration-color: #008000\">false}}'</span>\n",
       "<span style=\"font-weight: bold\">}</span>\n",
       "</pre>\n"
      ],
      "text/plain": [
       "\u001b[1m{\u001b[0m\n",
       "    \u001b[32m'_id'\u001b[0m: \u001b[1;35mObjectId\u001b[0m\u001b[1m(\u001b[0m\u001b[32m'64aafa333ba357733607e211'\u001b[0m\u001b[1m)\u001b[0m,\n",
       "    \u001b[32m'SessionId'\u001b[0m: \u001b[32m'YTest_LTest_fTest_LTest_HTest_lTest_OTest_CTest_STest_TTest_t'\u001b[0m,\n",
       "    \u001b[32m'History'\u001b[0m: \u001b[32m'\u001b[0m\u001b[32m{\u001b[0m\u001b[32m\"type\": \"human\", \"data\": \u001b[0m\u001b[32m{\u001b[0m\u001b[32m\"content\": \"How hard is Math 2419?\", \"additional_kwargs\": \u001b[0m\u001b[32m{\u001b[0m\u001b[32m}\u001b[0m\u001b[32m, \"example\":\u001b[0m\n",
       "\u001b[32mfalse\u001b[0m\u001b[32m}\u001b[0m\u001b[32m}\u001b[0m\u001b[32m'\u001b[0m\n",
       "\u001b[1m}\u001b[0m\n"
      ]
     },
     "metadata": {},
     "output_type": "display_data"
    },
    {
     "data": {
      "text/html": [
       "<pre style=\"white-space:pre;overflow-x:auto;line-height:normal;font-family:Menlo,'DejaVu Sans Mono',consolas,'Courier New',monospace\"><span style=\"font-weight: bold\">{</span>\n",
       "    <span style=\"color: #008000; text-decoration-color: #008000\">'_id'</span>: <span style=\"color: #800080; text-decoration-color: #800080; font-weight: bold\">ObjectId</span><span style=\"font-weight: bold\">(</span><span style=\"color: #008000; text-decoration-color: #008000\">'64aafa333ba357733607e212'</span><span style=\"font-weight: bold\">)</span>,\n",
       "    <span style=\"color: #008000; text-decoration-color: #008000\">'SessionId'</span>: <span style=\"color: #008000; text-decoration-color: #008000\">'YTest_LTest_fTest_LTest_HTest_lTest_OTest_CTest_STest_TTest_t'</span>,\n",
       "    <span style=\"color: #008000; text-decoration-color: #008000\">'History'</span>: <span style=\"color: #008000; text-decoration-color: #008000\">'{\"type\": \"ai\", \"data\": {\"content\": \"I don\\'t know what you mean by Math 2419.\", </span>\n",
       "<span style=\"color: #008000; text-decoration-color: #008000\">\"additional_kwargs\": {}, \"example\": false}}'</span>\n",
       "<span style=\"font-weight: bold\">}</span>\n",
       "</pre>\n"
      ],
      "text/plain": [
       "\u001b[1m{\u001b[0m\n",
       "    \u001b[32m'_id'\u001b[0m: \u001b[1;35mObjectId\u001b[0m\u001b[1m(\u001b[0m\u001b[32m'64aafa333ba357733607e212'\u001b[0m\u001b[1m)\u001b[0m,\n",
       "    \u001b[32m'SessionId'\u001b[0m: \u001b[32m'YTest_LTest_fTest_LTest_HTest_lTest_OTest_CTest_STest_TTest_t'\u001b[0m,\n",
       "    \u001b[32m'History'\u001b[0m: \u001b[32m'\u001b[0m\u001b[32m{\u001b[0m\u001b[32m\"type\": \"ai\", \"data\": \u001b[0m\u001b[32m{\u001b[0m\u001b[32m\"content\": \"I don\\'t know what you mean by Math 2419.\", \u001b[0m\n",
       "\u001b[32m\"additional_kwargs\": \u001b[0m\u001b[32m{\u001b[0m\u001b[32m}\u001b[0m\u001b[32m, \"example\": false\u001b[0m\u001b[32m}\u001b[0m\u001b[32m}\u001b[0m\u001b[32m'\u001b[0m\n",
       "\u001b[1m}\u001b[0m\n"
      ]
     },
     "metadata": {},
     "output_type": "display_data"
    },
    {
     "data": {
      "text/html": [
       "<pre style=\"white-space:pre;overflow-x:auto;line-height:normal;font-family:Menlo,'DejaVu Sans Mono',consolas,'Courier New',monospace\"><span style=\"font-weight: bold\">{</span>\n",
       "    <span style=\"color: #008000; text-decoration-color: #008000\">'_id'</span>: <span style=\"color: #800080; text-decoration-color: #800080; font-weight: bold\">ObjectId</span><span style=\"font-weight: bold\">(</span><span style=\"color: #008000; text-decoration-color: #008000\">'64ab00113581ed2268132c35'</span><span style=\"font-weight: bold\">)</span>,\n",
       "    <span style=\"color: #008000; text-decoration-color: #008000\">'SessionId'</span>: <span style=\"color: #008000; text-decoration-color: #008000\">'aTest_tTest_uTest_FTest_RTest_rTest_lTest_cTest_ITest_QTest_K'</span>,\n",
       "    <span style=\"color: #008000; text-decoration-color: #008000\">'History'</span>: <span style=\"color: #008000; text-decoration-color: #008000\">'{\"type\": \"human\", \"data\": {\"content\": \"How can I contact Dr. Vincent Ng?\", \"additional_kwargs\": {},</span>\n",
       "<span style=\"color: #008000; text-decoration-color: #008000\">\"example\": false}}'</span>\n",
       "<span style=\"font-weight: bold\">}</span>\n",
       "</pre>\n"
      ],
      "text/plain": [
       "\u001b[1m{\u001b[0m\n",
       "    \u001b[32m'_id'\u001b[0m: \u001b[1;35mObjectId\u001b[0m\u001b[1m(\u001b[0m\u001b[32m'64ab00113581ed2268132c35'\u001b[0m\u001b[1m)\u001b[0m,\n",
       "    \u001b[32m'SessionId'\u001b[0m: \u001b[32m'aTest_tTest_uTest_FTest_RTest_rTest_lTest_cTest_ITest_QTest_K'\u001b[0m,\n",
       "    \u001b[32m'History'\u001b[0m: \u001b[32m'\u001b[0m\u001b[32m{\u001b[0m\u001b[32m\"type\": \"human\", \"data\": \u001b[0m\u001b[32m{\u001b[0m\u001b[32m\"content\": \"How can I contact Dr. Vincent Ng?\", \"additional_kwargs\": \u001b[0m\u001b[32m{\u001b[0m\u001b[32m}\u001b[0m\u001b[32m,\u001b[0m\n",
       "\u001b[32m\"example\": false\u001b[0m\u001b[32m}\u001b[0m\u001b[32m}\u001b[0m\u001b[32m'\u001b[0m\n",
       "\u001b[1m}\u001b[0m\n"
      ]
     },
     "metadata": {},
     "output_type": "display_data"
    },
    {
     "data": {
      "text/html": [
       "<pre style=\"white-space:pre;overflow-x:auto;line-height:normal;font-family:Menlo,'DejaVu Sans Mono',consolas,'Courier New',monospace\"><span style=\"font-weight: bold\">{</span>\n",
       "    <span style=\"color: #008000; text-decoration-color: #008000\">'_id'</span>: <span style=\"color: #800080; text-decoration-color: #800080; font-weight: bold\">ObjectId</span><span style=\"font-weight: bold\">(</span><span style=\"color: #008000; text-decoration-color: #008000\">'64ab00113581ed2268132c36'</span><span style=\"font-weight: bold\">)</span>,\n",
       "    <span style=\"color: #008000; text-decoration-color: #008000\">'SessionId'</span>: <span style=\"color: #008000; text-decoration-color: #008000\">'aTest_tTest_uTest_FTest_RTest_rTest_lTest_cTest_ITest_QTest_K'</span>,\n",
       "    <span style=\"color: #008000; text-decoration-color: #008000\">'History'</span>: <span style=\"color: #008000; text-decoration-color: #008000\">'{\"type\": \"ai\", \"data\": {\"content\": \"Dr. Vincent Ng\\'s contact information is as </span>\n",
       "<span style=\"color: #008000; text-decoration-color: #008000\">follows:\\\\n\\\\nOffice hours for Summer 2023: By appointment only\\\\nOffice: ECSS 3.404\\\\nPhone: 972-883-4581\\\\nFax: </span>\n",
       "<span style=\"color: #008000; text-decoration-color: #008000\">972-883-2349\\\\nEmail: vince at hlt dot utdallas dot edu\\\\nAdministrative assistant: Cathy Zhao (cathy dot zhao at </span>\n",
       "<span style=\"color: #008000; text-decoration-color: #008000\">utdallas dot edu)\\\\nPostal address: Computer Science Department\", \"additional_kwargs\": {}, \"example\": false}}'</span>\n",
       "<span style=\"font-weight: bold\">}</span>\n",
       "</pre>\n"
      ],
      "text/plain": [
       "\u001b[1m{\u001b[0m\n",
       "    \u001b[32m'_id'\u001b[0m: \u001b[1;35mObjectId\u001b[0m\u001b[1m(\u001b[0m\u001b[32m'64ab00113581ed2268132c36'\u001b[0m\u001b[1m)\u001b[0m,\n",
       "    \u001b[32m'SessionId'\u001b[0m: \u001b[32m'aTest_tTest_uTest_FTest_RTest_rTest_lTest_cTest_ITest_QTest_K'\u001b[0m,\n",
       "    \u001b[32m'History'\u001b[0m: \u001b[32m'\u001b[0m\u001b[32m{\u001b[0m\u001b[32m\"type\": \"ai\", \"data\": \u001b[0m\u001b[32m{\u001b[0m\u001b[32m\"content\": \"Dr. Vincent Ng\\'s contact information is as \u001b[0m\n",
       "\u001b[32mfollows:\\\\n\\\\nOffice hours for Summer 2023: By appointment only\\\\nOffice: ECSS 3.404\\\\nPhone: 972-883-4581\\\\nFax: \u001b[0m\n",
       "\u001b[32m972-883-2349\\\\nEmail: vince at hlt dot utdallas dot edu\\\\nAdministrative assistant: Cathy Zhao \u001b[0m\u001b[32m(\u001b[0m\u001b[32mcathy dot zhao at \u001b[0m\n",
       "\u001b[32mutdallas dot edu\u001b[0m\u001b[32m)\u001b[0m\u001b[32m\\\\nPostal address: Computer Science Department\", \"additional_kwargs\": \u001b[0m\u001b[32m{\u001b[0m\u001b[32m}\u001b[0m\u001b[32m, \"example\": false\u001b[0m\u001b[32m}\u001b[0m\u001b[32m}\u001b[0m\u001b[32m'\u001b[0m\n",
       "\u001b[1m}\u001b[0m\n"
      ]
     },
     "metadata": {},
     "output_type": "display_data"
    },
    {
     "data": {
      "text/html": [
       "<pre style=\"white-space:pre;overflow-x:auto;line-height:normal;font-family:Menlo,'DejaVu Sans Mono',consolas,'Courier New',monospace\"><span style=\"font-weight: bold\">{</span>\n",
       "    <span style=\"color: #008000; text-decoration-color: #008000\">'_id'</span>: <span style=\"color: #800080; text-decoration-color: #800080; font-weight: bold\">ObjectId</span><span style=\"font-weight: bold\">(</span><span style=\"color: #008000; text-decoration-color: #008000\">'64aaf7e70d395416765c3dd0'</span><span style=\"font-weight: bold\">)</span>,\n",
       "    <span style=\"color: #008000; text-decoration-color: #008000\">'SessionId'</span>: <span style=\"color: #008000; text-decoration-color: #008000\">'dTest_UTest_tTest_mTest_PTest_ETest_WTest_PTest_tTest_HTest_r'</span>,\n",
       "    <span style=\"color: #008000; text-decoration-color: #008000\">'History'</span>: <span style=\"color: #008000; text-decoration-color: #008000\">'{\"type\": \"human\", \"data\": {\"content\": \"Which professors do research in AI at UTD?\", </span>\n",
       "<span style=\"color: #008000; text-decoration-color: #008000\">\"additional_kwargs\": {}, \"example\": false}}'</span>\n",
       "<span style=\"font-weight: bold\">}</span>\n",
       "</pre>\n"
      ],
      "text/plain": [
       "\u001b[1m{\u001b[0m\n",
       "    \u001b[32m'_id'\u001b[0m: \u001b[1;35mObjectId\u001b[0m\u001b[1m(\u001b[0m\u001b[32m'64aaf7e70d395416765c3dd0'\u001b[0m\u001b[1m)\u001b[0m,\n",
       "    \u001b[32m'SessionId'\u001b[0m: \u001b[32m'dTest_UTest_tTest_mTest_PTest_ETest_WTest_PTest_tTest_HTest_r'\u001b[0m,\n",
       "    \u001b[32m'History'\u001b[0m: \u001b[32m'\u001b[0m\u001b[32m{\u001b[0m\u001b[32m\"type\": \"human\", \"data\": \u001b[0m\u001b[32m{\u001b[0m\u001b[32m\"content\": \"Which professors do research in AI at UTD?\", \u001b[0m\n",
       "\u001b[32m\"additional_kwargs\": \u001b[0m\u001b[32m{\u001b[0m\u001b[32m}\u001b[0m\u001b[32m, \"example\": false\u001b[0m\u001b[32m}\u001b[0m\u001b[32m}\u001b[0m\u001b[32m'\u001b[0m\n",
       "\u001b[1m}\u001b[0m\n"
      ]
     },
     "metadata": {},
     "output_type": "display_data"
    },
    {
     "data": {
      "text/html": [
       "<pre style=\"white-space:pre;overflow-x:auto;line-height:normal;font-family:Menlo,'DejaVu Sans Mono',consolas,'Courier New',monospace\"><span style=\"font-weight: bold\">{</span>\n",
       "    <span style=\"color: #008000; text-decoration-color: #008000\">'_id'</span>: <span style=\"color: #800080; text-decoration-color: #800080; font-weight: bold\">ObjectId</span><span style=\"font-weight: bold\">(</span><span style=\"color: #008000; text-decoration-color: #008000\">'64aaf7e70d395416765c3dd1'</span><span style=\"font-weight: bold\">)</span>,\n",
       "    <span style=\"color: #008000; text-decoration-color: #008000\">'SessionId'</span>: <span style=\"color: #008000; text-decoration-color: #008000\">'dTest_UTest_tTest_mTest_PTest_ETest_WTest_PTest_tTest_HTest_r'</span>,\n",
       "    <span style=\"color: #008000; text-decoration-color: #008000\">'History'</span>: <span style=\"color: #008000; text-decoration-color: #008000\">'{\"type\": \"ai\", \"data\": {\"content\": \"The Center for Applied AI and Machine Learning (CAIML) is </span>\n",
       "<span style=\"color: #008000; text-decoration-color: #008000\">housed in the Department of Computer Science within the Erik Jonsson School of Engineering and Computer Science at </span>\n",
       "<span style=\"color: #008000; text-decoration-color: #008000\">the University of Texas at Dallas. Our mission is to create a center of excellence skilled in applying leading-edge</span>\n",
       "<span style=\"color: #008000; text-decoration-color: #008000\">AI &amp; ML technologies and solutions for our partners\\\\u2019 strategic products and services. The objective of the </span>\n",
       "<span style=\"color: #008000; text-decoration-color: #008000\">Center for Applied AI and Machine Learning is to develop long-term, ongoing joint activities through research and </span>\n",
       "<span style=\"color: #008000; text-decoration-color: #008000\">development partnerships with companies and organizations in the Dallas Fort Worth Metroplex area and Texas. Our </span>\n",
       "<span style=\"color: #008000; text-decoration-color: #008000\">aim is to focus on applied R&amp;D rather than on basic research with the\", \"additional_kwargs\": {}, \"example\": </span>\n",
       "<span style=\"color: #008000; text-decoration-color: #008000\">false}}'</span>\n",
       "<span style=\"font-weight: bold\">}</span>\n",
       "</pre>\n"
      ],
      "text/plain": [
       "\u001b[1m{\u001b[0m\n",
       "    \u001b[32m'_id'\u001b[0m: \u001b[1;35mObjectId\u001b[0m\u001b[1m(\u001b[0m\u001b[32m'64aaf7e70d395416765c3dd1'\u001b[0m\u001b[1m)\u001b[0m,\n",
       "    \u001b[32m'SessionId'\u001b[0m: \u001b[32m'dTest_UTest_tTest_mTest_PTest_ETest_WTest_PTest_tTest_HTest_r'\u001b[0m,\n",
       "    \u001b[32m'History'\u001b[0m: \u001b[32m'\u001b[0m\u001b[32m{\u001b[0m\u001b[32m\"type\": \"ai\", \"data\": \u001b[0m\u001b[32m{\u001b[0m\u001b[32m\"content\": \"The Center for Applied AI and Machine Learning \u001b[0m\u001b[32m(\u001b[0m\u001b[32mCAIML\u001b[0m\u001b[32m)\u001b[0m\u001b[32m is \u001b[0m\n",
       "\u001b[32mhoused in the Department of Computer Science within the Erik Jonsson School of Engineering and Computer Science at \u001b[0m\n",
       "\u001b[32mthe University of Texas at Dallas. Our mission is to create a center of excellence skilled in applying leading-edge\u001b[0m\n",
       "\u001b[32mAI & ML technologies and solutions for our partners\\\\u2019 strategic products and services. The objective of the \u001b[0m\n",
       "\u001b[32mCenter for Applied AI and Machine Learning is to develop long-term, ongoing joint activities through research and \u001b[0m\n",
       "\u001b[32mdevelopment partnerships with companies and organizations in the Dallas Fort Worth Metroplex area and Texas. Our \u001b[0m\n",
       "\u001b[32maim is to focus on applied R&D rather than on basic research with the\", \"additional_kwargs\": \u001b[0m\u001b[32m{\u001b[0m\u001b[32m}\u001b[0m\u001b[32m, \"example\": \u001b[0m\n",
       "\u001b[32mfalse\u001b[0m\u001b[32m}\u001b[0m\u001b[32m}\u001b[0m\u001b[32m'\u001b[0m\n",
       "\u001b[1m}\u001b[0m\n"
      ]
     },
     "metadata": {},
     "output_type": "display_data"
    },
    {
     "data": {
      "text/html": [
       "<pre style=\"white-space:pre;overflow-x:auto;line-height:normal;font-family:Menlo,'DejaVu Sans Mono',consolas,'Courier New',monospace\"><span style=\"font-weight: bold\">{</span>\n",
       "    <span style=\"color: #008000; text-decoration-color: #008000\">'_id'</span>: <span style=\"color: #800080; text-decoration-color: #800080; font-weight: bold\">ObjectId</span><span style=\"font-weight: bold\">(</span><span style=\"color: #008000; text-decoration-color: #008000\">'64aaf8100d395416765c3dd2'</span><span style=\"font-weight: bold\">)</span>,\n",
       "    <span style=\"color: #008000; text-decoration-color: #008000\">'SessionId'</span>: <span style=\"color: #008000; text-decoration-color: #008000\">'dTest_UTest_tTest_mTest_PTest_ETest_WTest_PTest_tTest_HTest_r'</span>,\n",
       "    <span style=\"color: #008000; text-decoration-color: #008000\">'History'</span>: <span style=\"color: #008000; text-decoration-color: #008000\">'{\"type\": \"human\", \"data\": {\"content\": \"There are no professor in there?\", \"additional_kwargs\": {}, </span>\n",
       "<span style=\"color: #008000; text-decoration-color: #008000\">\"example\": false}}'</span>\n",
       "<span style=\"font-weight: bold\">}</span>\n",
       "</pre>\n"
      ],
      "text/plain": [
       "\u001b[1m{\u001b[0m\n",
       "    \u001b[32m'_id'\u001b[0m: \u001b[1;35mObjectId\u001b[0m\u001b[1m(\u001b[0m\u001b[32m'64aaf8100d395416765c3dd2'\u001b[0m\u001b[1m)\u001b[0m,\n",
       "    \u001b[32m'SessionId'\u001b[0m: \u001b[32m'dTest_UTest_tTest_mTest_PTest_ETest_WTest_PTest_tTest_HTest_r'\u001b[0m,\n",
       "    \u001b[32m'History'\u001b[0m: \u001b[32m'\u001b[0m\u001b[32m{\u001b[0m\u001b[32m\"type\": \"human\", \"data\": \u001b[0m\u001b[32m{\u001b[0m\u001b[32m\"content\": \"There are no professor in there?\", \"additional_kwargs\": \u001b[0m\u001b[32m{\u001b[0m\u001b[32m}\u001b[0m\u001b[32m, \u001b[0m\n",
       "\u001b[32m\"example\": false\u001b[0m\u001b[32m}\u001b[0m\u001b[32m}\u001b[0m\u001b[32m'\u001b[0m\n",
       "\u001b[1m}\u001b[0m\n"
      ]
     },
     "metadata": {},
     "output_type": "display_data"
    },
    {
     "data": {
      "text/html": [
       "<pre style=\"white-space:pre;overflow-x:auto;line-height:normal;font-family:Menlo,'DejaVu Sans Mono',consolas,'Courier New',monospace\"><span style=\"font-weight: bold\">{</span>\n",
       "    <span style=\"color: #008000; text-decoration-color: #008000\">'_id'</span>: <span style=\"color: #800080; text-decoration-color: #800080; font-weight: bold\">ObjectId</span><span style=\"font-weight: bold\">(</span><span style=\"color: #008000; text-decoration-color: #008000\">'64aaf8100d395416765c3dd3'</span><span style=\"font-weight: bold\">)</span>,\n",
       "    <span style=\"color: #008000; text-decoration-color: #008000\">'SessionId'</span>: <span style=\"color: #008000; text-decoration-color: #008000\">'dTest_UTest_tTest_mTest_PTest_ETest_WTest_PTest_tTest_HTest_r'</span>,\n",
       "    <span style=\"color: #008000; text-decoration-color: #008000\">'History'</span>: <span style=\"color: #008000; text-decoration-color: #008000\">'{\"type\": \"ai\", \"data\": {\"content\": \"The Center for Applied AI and Machine Learning (CAIML) is </span>\n",
       "<span style=\"color: #008000; text-decoration-color: #008000\">housed in the Department of Computer Science within the Erik Jonsson School of Engineering and Computer Science at </span>\n",
       "<span style=\"color: #008000; text-decoration-color: #008000\">the University of Texas at Dallas. Our mission is to create a center of excellence skilled in applying leading-edge</span>\n",
       "<span style=\"color: #008000; text-decoration-color: #008000\">AI &amp; ML technologies and solutions for our partners\\\\u2019 strategic products and services. The objective of the </span>\n",
       "<span style=\"color: #008000; text-decoration-color: #008000\">Center for Applied AI and Machine Learning is to develop long-term, ongoing joint activities through research and </span>\n",
       "<span style=\"color: #008000; text-decoration-color: #008000\">development partnerships with companies and organizations in the Dallas Fort Worth Metroplex area and Texas. Our </span>\n",
       "<span style=\"color: #008000; text-decoration-color: #008000\">aim is to focus on applied R&amp;D rather than on basic research with the\", \"additional_kwargs\": {}, \"example\": </span>\n",
       "<span style=\"color: #008000; text-decoration-color: #008000\">false}}'</span>\n",
       "<span style=\"font-weight: bold\">}</span>\n",
       "</pre>\n"
      ],
      "text/plain": [
       "\u001b[1m{\u001b[0m\n",
       "    \u001b[32m'_id'\u001b[0m: \u001b[1;35mObjectId\u001b[0m\u001b[1m(\u001b[0m\u001b[32m'64aaf8100d395416765c3dd3'\u001b[0m\u001b[1m)\u001b[0m,\n",
       "    \u001b[32m'SessionId'\u001b[0m: \u001b[32m'dTest_UTest_tTest_mTest_PTest_ETest_WTest_PTest_tTest_HTest_r'\u001b[0m,\n",
       "    \u001b[32m'History'\u001b[0m: \u001b[32m'\u001b[0m\u001b[32m{\u001b[0m\u001b[32m\"type\": \"ai\", \"data\": \u001b[0m\u001b[32m{\u001b[0m\u001b[32m\"content\": \"The Center for Applied AI and Machine Learning \u001b[0m\u001b[32m(\u001b[0m\u001b[32mCAIML\u001b[0m\u001b[32m)\u001b[0m\u001b[32m is \u001b[0m\n",
       "\u001b[32mhoused in the Department of Computer Science within the Erik Jonsson School of Engineering and Computer Science at \u001b[0m\n",
       "\u001b[32mthe University of Texas at Dallas. Our mission is to create a center of excellence skilled in applying leading-edge\u001b[0m\n",
       "\u001b[32mAI & ML technologies and solutions for our partners\\\\u2019 strategic products and services. The objective of the \u001b[0m\n",
       "\u001b[32mCenter for Applied AI and Machine Learning is to develop long-term, ongoing joint activities through research and \u001b[0m\n",
       "\u001b[32mdevelopment partnerships with companies and organizations in the Dallas Fort Worth Metroplex area and Texas. Our \u001b[0m\n",
       "\u001b[32maim is to focus on applied R&D rather than on basic research with the\", \"additional_kwargs\": \u001b[0m\u001b[32m{\u001b[0m\u001b[32m}\u001b[0m\u001b[32m, \"example\": \u001b[0m\n",
       "\u001b[32mfalse\u001b[0m\u001b[32m}\u001b[0m\u001b[32m}\u001b[0m\u001b[32m'\u001b[0m\n",
       "\u001b[1m}\u001b[0m\n"
      ]
     },
     "metadata": {},
     "output_type": "display_data"
    },
    {
     "data": {
      "text/html": [
       "<pre style=\"white-space:pre;overflow-x:auto;line-height:normal;font-family:Menlo,'DejaVu Sans Mono',consolas,'Courier New',monospace\"><span style=\"font-weight: bold\">{</span>\n",
       "    <span style=\"color: #008000; text-decoration-color: #008000\">'_id'</span>: <span style=\"color: #800080; text-decoration-color: #800080; font-weight: bold\">ObjectId</span><span style=\"font-weight: bold\">(</span><span style=\"color: #008000; text-decoration-color: #008000\">'64aaf83b0d395416765c3dd4'</span><span style=\"font-weight: bold\">)</span>,\n",
       "    <span style=\"color: #008000; text-decoration-color: #008000\">'SessionId'</span>: <span style=\"color: #008000; text-decoration-color: #008000\">'dTest_UTest_tTest_mTest_PTest_ETest_WTest_PTest_tTest_HTest_r'</span>,\n",
       "    <span style=\"color: #008000; text-decoration-color: #008000\">'History'</span>: <span style=\"color: #008000; text-decoration-color: #008000\">'{\"type\": \"human\", \"data\": {\"content\": \"Who is in the director of Center for Applied AI\", </span>\n",
       "<span style=\"color: #008000; text-decoration-color: #008000\">\"additional_kwargs\": {}, \"example\": false}}'</span>\n",
       "<span style=\"font-weight: bold\">}</span>\n",
       "</pre>\n"
      ],
      "text/plain": [
       "\u001b[1m{\u001b[0m\n",
       "    \u001b[32m'_id'\u001b[0m: \u001b[1;35mObjectId\u001b[0m\u001b[1m(\u001b[0m\u001b[32m'64aaf83b0d395416765c3dd4'\u001b[0m\u001b[1m)\u001b[0m,\n",
       "    \u001b[32m'SessionId'\u001b[0m: \u001b[32m'dTest_UTest_tTest_mTest_PTest_ETest_WTest_PTest_tTest_HTest_r'\u001b[0m,\n",
       "    \u001b[32m'History'\u001b[0m: \u001b[32m'\u001b[0m\u001b[32m{\u001b[0m\u001b[32m\"type\": \"human\", \"data\": \u001b[0m\u001b[32m{\u001b[0m\u001b[32m\"content\": \"Who is in the director of Center for Applied AI\", \u001b[0m\n",
       "\u001b[32m\"additional_kwargs\": \u001b[0m\u001b[32m{\u001b[0m\u001b[32m}\u001b[0m\u001b[32m, \"example\": false\u001b[0m\u001b[32m}\u001b[0m\u001b[32m}\u001b[0m\u001b[32m'\u001b[0m\n",
       "\u001b[1m}\u001b[0m\n"
      ]
     },
     "metadata": {},
     "output_type": "display_data"
    },
    {
     "data": {
      "text/html": [
       "<pre style=\"white-space:pre;overflow-x:auto;line-height:normal;font-family:Menlo,'DejaVu Sans Mono',consolas,'Courier New',monospace\"><span style=\"font-weight: bold\">{</span>\n",
       "    <span style=\"color: #008000; text-decoration-color: #008000\">'_id'</span>: <span style=\"color: #800080; text-decoration-color: #800080; font-weight: bold\">ObjectId</span><span style=\"font-weight: bold\">(</span><span style=\"color: #008000; text-decoration-color: #008000\">'64aaf83b0d395416765c3dd5'</span><span style=\"font-weight: bold\">)</span>,\n",
       "    <span style=\"color: #008000; text-decoration-color: #008000\">'SessionId'</span>: <span style=\"color: #008000; text-decoration-color: #008000\">'dTest_UTest_tTest_mTest_PTest_ETest_WTest_PTest_tTest_HTest_r'</span>,\n",
       "    <span style=\"color: #008000; text-decoration-color: #008000\">'History'</span>: <span style=\"color: #008000; text-decoration-color: #008000\">'{\"type\": \"ai\", \"data\": {\"content\": \"Dr. Doug DeGroot is the director of Center for Applied AI.\", </span>\n",
       "<span style=\"color: #008000; text-decoration-color: #008000\">\"additional_kwargs\": {}, \"example\": false}}'</span>\n",
       "<span style=\"font-weight: bold\">}</span>\n",
       "</pre>\n"
      ],
      "text/plain": [
       "\u001b[1m{\u001b[0m\n",
       "    \u001b[32m'_id'\u001b[0m: \u001b[1;35mObjectId\u001b[0m\u001b[1m(\u001b[0m\u001b[32m'64aaf83b0d395416765c3dd5'\u001b[0m\u001b[1m)\u001b[0m,\n",
       "    \u001b[32m'SessionId'\u001b[0m: \u001b[32m'dTest_UTest_tTest_mTest_PTest_ETest_WTest_PTest_tTest_HTest_r'\u001b[0m,\n",
       "    \u001b[32m'History'\u001b[0m: \u001b[32m'\u001b[0m\u001b[32m{\u001b[0m\u001b[32m\"type\": \"ai\", \"data\": \u001b[0m\u001b[32m{\u001b[0m\u001b[32m\"content\": \"Dr. Doug DeGroot is the director of Center for Applied AI.\", \u001b[0m\n",
       "\u001b[32m\"additional_kwargs\": \u001b[0m\u001b[32m{\u001b[0m\u001b[32m}\u001b[0m\u001b[32m, \"example\": false\u001b[0m\u001b[32m}\u001b[0m\u001b[32m}\u001b[0m\u001b[32m'\u001b[0m\n",
       "\u001b[1m}\u001b[0m\n"
      ]
     },
     "metadata": {},
     "output_type": "display_data"
    },
    {
     "data": {
      "text/html": [
       "<pre style=\"white-space:pre;overflow-x:auto;line-height:normal;font-family:Menlo,'DejaVu Sans Mono',consolas,'Courier New',monospace\"><span style=\"font-weight: bold\">{</span>\n",
       "    <span style=\"color: #008000; text-decoration-color: #008000\">'_id'</span>: <span style=\"color: #800080; text-decoration-color: #800080; font-weight: bold\">ObjectId</span><span style=\"font-weight: bold\">(</span><span style=\"color: #008000; text-decoration-color: #008000\">'64aaf8570d395416765c3dd6'</span><span style=\"font-weight: bold\">)</span>,\n",
       "    <span style=\"color: #008000; text-decoration-color: #008000\">'SessionId'</span>: <span style=\"color: #008000; text-decoration-color: #008000\">'dTest_UTest_tTest_mTest_PTest_ETest_WTest_PTest_tTest_HTest_r'</span>,\n",
       "    <span style=\"color: #008000; text-decoration-color: #008000\">'History'</span>: <span style=\"color: #008000; text-decoration-color: #008000\">'{\"type\": \"human\", \"data\": {\"content\": \"List all the professor in the Center for Applied AI\", </span>\n",
       "<span style=\"color: #008000; text-decoration-color: #008000\">\"additional_kwargs\": {}, \"example\": false}}'</span>\n",
       "<span style=\"font-weight: bold\">}</span>\n",
       "</pre>\n"
      ],
      "text/plain": [
       "\u001b[1m{\u001b[0m\n",
       "    \u001b[32m'_id'\u001b[0m: \u001b[1;35mObjectId\u001b[0m\u001b[1m(\u001b[0m\u001b[32m'64aaf8570d395416765c3dd6'\u001b[0m\u001b[1m)\u001b[0m,\n",
       "    \u001b[32m'SessionId'\u001b[0m: \u001b[32m'dTest_UTest_tTest_mTest_PTest_ETest_WTest_PTest_tTest_HTest_r'\u001b[0m,\n",
       "    \u001b[32m'History'\u001b[0m: \u001b[32m'\u001b[0m\u001b[32m{\u001b[0m\u001b[32m\"type\": \"human\", \"data\": \u001b[0m\u001b[32m{\u001b[0m\u001b[32m\"content\": \"List all the professor in the Center for Applied AI\", \u001b[0m\n",
       "\u001b[32m\"additional_kwargs\": \u001b[0m\u001b[32m{\u001b[0m\u001b[32m}\u001b[0m\u001b[32m, \"example\": false\u001b[0m\u001b[32m}\u001b[0m\u001b[32m}\u001b[0m\u001b[32m'\u001b[0m\n",
       "\u001b[1m}\u001b[0m\n"
      ]
     },
     "metadata": {},
     "output_type": "display_data"
    },
    {
     "data": {
      "text/html": [
       "<pre style=\"white-space:pre;overflow-x:auto;line-height:normal;font-family:Menlo,'DejaVu Sans Mono',consolas,'Courier New',monospace\"><span style=\"font-weight: bold\">{</span>\n",
       "    <span style=\"color: #008000; text-decoration-color: #008000\">'_id'</span>: <span style=\"color: #800080; text-decoration-color: #800080; font-weight: bold\">ObjectId</span><span style=\"font-weight: bold\">(</span><span style=\"color: #008000; text-decoration-color: #008000\">'64aaf8570d395416765c3dd7'</span><span style=\"font-weight: bold\">)</span>,\n",
       "    <span style=\"color: #008000; text-decoration-color: #008000\">'SessionId'</span>: <span style=\"color: #008000; text-decoration-color: #008000\">'dTest_UTest_tTest_mTest_PTest_ETest_WTest_PTest_tTest_HTest_r'</span>,\n",
       "    <span style=\"color: #008000; text-decoration-color: #008000\">'History'</span>: <span style=\"color: #008000; text-decoration-color: #008000\">'{\"type\": \"ai\", \"data\": {\"content\": \"MALICIOUS\", \"additional_kwargs\": {}, \"example\": false}}'</span>\n",
       "<span style=\"font-weight: bold\">}</span>\n",
       "</pre>\n"
      ],
      "text/plain": [
       "\u001b[1m{\u001b[0m\n",
       "    \u001b[32m'_id'\u001b[0m: \u001b[1;35mObjectId\u001b[0m\u001b[1m(\u001b[0m\u001b[32m'64aaf8570d395416765c3dd7'\u001b[0m\u001b[1m)\u001b[0m,\n",
       "    \u001b[32m'SessionId'\u001b[0m: \u001b[32m'dTest_UTest_tTest_mTest_PTest_ETest_WTest_PTest_tTest_HTest_r'\u001b[0m,\n",
       "    \u001b[32m'History'\u001b[0m: \u001b[32m'\u001b[0m\u001b[32m{\u001b[0m\u001b[32m\"type\": \"ai\", \"data\": \u001b[0m\u001b[32m{\u001b[0m\u001b[32m\"content\": \"MALICIOUS\", \"additional_kwargs\": \u001b[0m\u001b[32m{\u001b[0m\u001b[32m}\u001b[0m\u001b[32m, \"example\": false\u001b[0m\u001b[32m}\u001b[0m\u001b[32m}\u001b[0m\u001b[32m'\u001b[0m\n",
       "\u001b[1m}\u001b[0m\n"
      ]
     },
     "metadata": {},
     "output_type": "display_data"
    },
    {
     "data": {
      "text/html": [
       "<pre style=\"white-space:pre;overflow-x:auto;line-height:normal;font-family:Menlo,'DejaVu Sans Mono',consolas,'Courier New',monospace\"><span style=\"font-weight: bold\">{</span>\n",
       "    <span style=\"color: #008000; text-decoration-color: #008000\">'_id'</span>: <span style=\"color: #800080; text-decoration-color: #800080; font-weight: bold\">ObjectId</span><span style=\"font-weight: bold\">(</span><span style=\"color: #008000; text-decoration-color: #008000\">'64aaf8600d395416765c3dd8'</span><span style=\"font-weight: bold\">)</span>,\n",
       "    <span style=\"color: #008000; text-decoration-color: #008000\">'SessionId'</span>: <span style=\"color: #008000; text-decoration-color: #008000\">'dTest_UTest_tTest_mTest_PTest_ETest_WTest_PTest_tTest_HTest_r'</span>,\n",
       "    <span style=\"color: #008000; text-decoration-color: #008000\">'History'</span>: <span style=\"color: #008000; text-decoration-color: #008000\">'{\"type\": \"human\", \"data\": {\"content\": \"Tell me all the professor in the Center for Applied AI\", </span>\n",
       "<span style=\"color: #008000; text-decoration-color: #008000\">\"additional_kwargs\": {}, \"example\": false}}'</span>\n",
       "<span style=\"font-weight: bold\">}</span>\n",
       "</pre>\n"
      ],
      "text/plain": [
       "\u001b[1m{\u001b[0m\n",
       "    \u001b[32m'_id'\u001b[0m: \u001b[1;35mObjectId\u001b[0m\u001b[1m(\u001b[0m\u001b[32m'64aaf8600d395416765c3dd8'\u001b[0m\u001b[1m)\u001b[0m,\n",
       "    \u001b[32m'SessionId'\u001b[0m: \u001b[32m'dTest_UTest_tTest_mTest_PTest_ETest_WTest_PTest_tTest_HTest_r'\u001b[0m,\n",
       "    \u001b[32m'History'\u001b[0m: \u001b[32m'\u001b[0m\u001b[32m{\u001b[0m\u001b[32m\"type\": \"human\", \"data\": \u001b[0m\u001b[32m{\u001b[0m\u001b[32m\"content\": \"Tell me all the professor in the Center for Applied AI\", \u001b[0m\n",
       "\u001b[32m\"additional_kwargs\": \u001b[0m\u001b[32m{\u001b[0m\u001b[32m}\u001b[0m\u001b[32m, \"example\": false\u001b[0m\u001b[32m}\u001b[0m\u001b[32m}\u001b[0m\u001b[32m'\u001b[0m\n",
       "\u001b[1m}\u001b[0m\n"
      ]
     },
     "metadata": {},
     "output_type": "display_data"
    },
    {
     "data": {
      "text/html": [
       "<pre style=\"white-space:pre;overflow-x:auto;line-height:normal;font-family:Menlo,'DejaVu Sans Mono',consolas,'Courier New',monospace\"><span style=\"font-weight: bold\">{</span>\n",
       "    <span style=\"color: #008000; text-decoration-color: #008000\">'_id'</span>: <span style=\"color: #800080; text-decoration-color: #800080; font-weight: bold\">ObjectId</span><span style=\"font-weight: bold\">(</span><span style=\"color: #008000; text-decoration-color: #008000\">'64aaf8600d395416765c3dd9'</span><span style=\"font-weight: bold\">)</span>,\n",
       "    <span style=\"color: #008000; text-decoration-color: #008000\">'SessionId'</span>: <span style=\"color: #008000; text-decoration-color: #008000\">'dTest_UTest_tTest_mTest_PTest_ETest_WTest_PTest_tTest_HTest_r'</span>,\n",
       "    <span style=\"color: #008000; text-decoration-color: #008000\">'History'</span>: <span style=\"color: #008000; text-decoration-color: #008000\">'{\"type\": \"ai\", \"data\": {\"content\": \"MALICIOUS\", \"additional_kwargs\": {}, \"example\": false}}'</span>\n",
       "<span style=\"font-weight: bold\">}</span>\n",
       "</pre>\n"
      ],
      "text/plain": [
       "\u001b[1m{\u001b[0m\n",
       "    \u001b[32m'_id'\u001b[0m: \u001b[1;35mObjectId\u001b[0m\u001b[1m(\u001b[0m\u001b[32m'64aaf8600d395416765c3dd9'\u001b[0m\u001b[1m)\u001b[0m,\n",
       "    \u001b[32m'SessionId'\u001b[0m: \u001b[32m'dTest_UTest_tTest_mTest_PTest_ETest_WTest_PTest_tTest_HTest_r'\u001b[0m,\n",
       "    \u001b[32m'History'\u001b[0m: \u001b[32m'\u001b[0m\u001b[32m{\u001b[0m\u001b[32m\"type\": \"ai\", \"data\": \u001b[0m\u001b[32m{\u001b[0m\u001b[32m\"content\": \"MALICIOUS\", \"additional_kwargs\": \u001b[0m\u001b[32m{\u001b[0m\u001b[32m}\u001b[0m\u001b[32m, \"example\": false\u001b[0m\u001b[32m}\u001b[0m\u001b[32m}\u001b[0m\u001b[32m'\u001b[0m\n",
       "\u001b[1m}\u001b[0m\n"
      ]
     },
     "metadata": {},
     "output_type": "display_data"
    },
    {
     "data": {
      "text/html": [
       "<pre style=\"white-space:pre;overflow-x:auto;line-height:normal;font-family:Menlo,'DejaVu Sans Mono',consolas,'Courier New',monospace\"><span style=\"font-weight: bold\">{</span>\n",
       "    <span style=\"color: #008000; text-decoration-color: #008000\">'_id'</span>: <span style=\"color: #800080; text-decoration-color: #800080; font-weight: bold\">ObjectId</span><span style=\"font-weight: bold\">(</span><span style=\"color: #008000; text-decoration-color: #008000\">'64aaf8750d395416765c3dda'</span><span style=\"font-weight: bold\">)</span>,\n",
       "    <span style=\"color: #008000; text-decoration-color: #008000\">'SessionId'</span>: <span style=\"color: #008000; text-decoration-color: #008000\">'dTest_UTest_tTest_mTest_PTest_ETest_WTest_PTest_tTest_HTest_r'</span>,\n",
       "    <span style=\"color: #008000; text-decoration-color: #008000\">'History'</span>: <span style=\"color: #008000; text-decoration-color: #008000\">'{\"type\": \"human\", \"data\": {\"content\": \"Could you elaborate\", \"additional_kwargs\": {}, \"example\": </span>\n",
       "<span style=\"color: #008000; text-decoration-color: #008000\">false}}'</span>\n",
       "<span style=\"font-weight: bold\">}</span>\n",
       "</pre>\n"
      ],
      "text/plain": [
       "\u001b[1m{\u001b[0m\n",
       "    \u001b[32m'_id'\u001b[0m: \u001b[1;35mObjectId\u001b[0m\u001b[1m(\u001b[0m\u001b[32m'64aaf8750d395416765c3dda'\u001b[0m\u001b[1m)\u001b[0m,\n",
       "    \u001b[32m'SessionId'\u001b[0m: \u001b[32m'dTest_UTest_tTest_mTest_PTest_ETest_WTest_PTest_tTest_HTest_r'\u001b[0m,\n",
       "    \u001b[32m'History'\u001b[0m: \u001b[32m'\u001b[0m\u001b[32m{\u001b[0m\u001b[32m\"type\": \"human\", \"data\": \u001b[0m\u001b[32m{\u001b[0m\u001b[32m\"content\": \"Could you elaborate\", \"additional_kwargs\": \u001b[0m\u001b[32m{\u001b[0m\u001b[32m}\u001b[0m\u001b[32m, \"example\": \u001b[0m\n",
       "\u001b[32mfalse\u001b[0m\u001b[32m}\u001b[0m\u001b[32m}\u001b[0m\u001b[32m'\u001b[0m\n",
       "\u001b[1m}\u001b[0m\n"
      ]
     },
     "metadata": {},
     "output_type": "display_data"
    },
    {
     "data": {
      "text/html": [
       "<pre style=\"white-space:pre;overflow-x:auto;line-height:normal;font-family:Menlo,'DejaVu Sans Mono',consolas,'Courier New',monospace\"><span style=\"font-weight: bold\">{</span>\n",
       "    <span style=\"color: #008000; text-decoration-color: #008000\">'_id'</span>: <span style=\"color: #800080; text-decoration-color: #800080; font-weight: bold\">ObjectId</span><span style=\"font-weight: bold\">(</span><span style=\"color: #008000; text-decoration-color: #008000\">'64aaf8750d395416765c3ddb'</span><span style=\"font-weight: bold\">)</span>,\n",
       "    <span style=\"color: #008000; text-decoration-color: #008000\">'SessionId'</span>: <span style=\"color: #008000; text-decoration-color: #008000\">'dTest_UTest_tTest_mTest_PTest_ETest_WTest_PTest_tTest_HTest_r'</span>,\n",
       "    <span style=\"color: #008000; text-decoration-color: #008000\">'History'</span>: <span style=\"color: #008000; text-decoration-color: #008000\">'{\"type\": \"ai\", \"data\": {\"content\": \"The Center for Applied AI has 19 professor.\", </span>\n",
       "<span style=\"color: #008000; text-decoration-color: #008000\">\"additional_kwargs\": {}, \"example\": false}}'</span>\n",
       "<span style=\"font-weight: bold\">}</span>\n",
       "</pre>\n"
      ],
      "text/plain": [
       "\u001b[1m{\u001b[0m\n",
       "    \u001b[32m'_id'\u001b[0m: \u001b[1;35mObjectId\u001b[0m\u001b[1m(\u001b[0m\u001b[32m'64aaf8750d395416765c3ddb'\u001b[0m\u001b[1m)\u001b[0m,\n",
       "    \u001b[32m'SessionId'\u001b[0m: \u001b[32m'dTest_UTest_tTest_mTest_PTest_ETest_WTest_PTest_tTest_HTest_r'\u001b[0m,\n",
       "    \u001b[32m'History'\u001b[0m: \u001b[32m'\u001b[0m\u001b[32m{\u001b[0m\u001b[32m\"type\": \"ai\", \"data\": \u001b[0m\u001b[32m{\u001b[0m\u001b[32m\"content\": \"The Center for Applied AI has 19 professor.\", \u001b[0m\n",
       "\u001b[32m\"additional_kwargs\": \u001b[0m\u001b[32m{\u001b[0m\u001b[32m}\u001b[0m\u001b[32m, \"example\": false\u001b[0m\u001b[32m}\u001b[0m\u001b[32m}\u001b[0m\u001b[32m'\u001b[0m\n",
       "\u001b[1m}\u001b[0m\n"
      ]
     },
     "metadata": {},
     "output_type": "display_data"
    },
    {
     "data": {
      "text/html": [
       "<pre style=\"white-space:pre;overflow-x:auto;line-height:normal;font-family:Menlo,'DejaVu Sans Mono',consolas,'Courier New',monospace\"><span style=\"font-weight: bold\">{</span>\n",
       "    <span style=\"color: #008000; text-decoration-color: #008000\">'_id'</span>: <span style=\"color: #800080; text-decoration-color: #800080; font-weight: bold\">ObjectId</span><span style=\"font-weight: bold\">(</span><span style=\"color: #008000; text-decoration-color: #008000\">'64aaf263b9d4b89af37e1a72'</span><span style=\"font-weight: bold\">)</span>,\n",
       "    <span style=\"color: #008000; text-decoration-color: #008000\">'SessionId'</span>: <span style=\"color: #008000; text-decoration-color: #008000\">'eTest_CTest_BTest_vTest_rTest_mTest_sTest_STest_vTest_yTest_o'</span>,\n",
       "    <span style=\"color: #008000; text-decoration-color: #008000\">'History'</span>: <span style=\"color: #008000; text-decoration-color: #008000\">'{\"type\": \"human\", \"data\": {\"content\": \"Who is the president?\", \"additional_kwargs\": {}, \"example\": </span>\n",
       "<span style=\"color: #008000; text-decoration-color: #008000\">false}}'</span>\n",
       "<span style=\"font-weight: bold\">}</span>\n",
       "</pre>\n"
      ],
      "text/plain": [
       "\u001b[1m{\u001b[0m\n",
       "    \u001b[32m'_id'\u001b[0m: \u001b[1;35mObjectId\u001b[0m\u001b[1m(\u001b[0m\u001b[32m'64aaf263b9d4b89af37e1a72'\u001b[0m\u001b[1m)\u001b[0m,\n",
       "    \u001b[32m'SessionId'\u001b[0m: \u001b[32m'eTest_CTest_BTest_vTest_rTest_mTest_sTest_STest_vTest_yTest_o'\u001b[0m,\n",
       "    \u001b[32m'History'\u001b[0m: \u001b[32m'\u001b[0m\u001b[32m{\u001b[0m\u001b[32m\"type\": \"human\", \"data\": \u001b[0m\u001b[32m{\u001b[0m\u001b[32m\"content\": \"Who is the president?\", \"additional_kwargs\": \u001b[0m\u001b[32m{\u001b[0m\u001b[32m}\u001b[0m\u001b[32m, \"example\": \u001b[0m\n",
       "\u001b[32mfalse\u001b[0m\u001b[32m}\u001b[0m\u001b[32m}\u001b[0m\u001b[32m'\u001b[0m\n",
       "\u001b[1m}\u001b[0m\n"
      ]
     },
     "metadata": {},
     "output_type": "display_data"
    },
    {
     "data": {
      "text/html": [
       "<pre style=\"white-space:pre;overflow-x:auto;line-height:normal;font-family:Menlo,'DejaVu Sans Mono',consolas,'Courier New',monospace\"><span style=\"font-weight: bold\">{</span>\n",
       "    <span style=\"color: #008000; text-decoration-color: #008000\">'_id'</span>: <span style=\"color: #800080; text-decoration-color: #800080; font-weight: bold\">ObjectId</span><span style=\"font-weight: bold\">(</span><span style=\"color: #008000; text-decoration-color: #008000\">'64aaf263b9d4b89af37e1a73'</span><span style=\"font-weight: bold\">)</span>,\n",
       "    <span style=\"color: #008000; text-decoration-color: #008000\">'SessionId'</span>: <span style=\"color: #008000; text-decoration-color: #008000\">'eTest_CTest_BTest_vTest_rTest_mTest_sTest_STest_vTest_yTest_o'</span>,\n",
       "    <span style=\"color: #008000; text-decoration-color: #008000\">'History'</span>: <span style=\"color: #008000; text-decoration-color: #008000\">'{\"type\": \"ai\", \"data\": {\"content\": \"MALICIOUS\", \"additional_kwargs\": {}, \"example\": false}}'</span>\n",
       "<span style=\"font-weight: bold\">}</span>\n",
       "</pre>\n"
      ],
      "text/plain": [
       "\u001b[1m{\u001b[0m\n",
       "    \u001b[32m'_id'\u001b[0m: \u001b[1;35mObjectId\u001b[0m\u001b[1m(\u001b[0m\u001b[32m'64aaf263b9d4b89af37e1a73'\u001b[0m\u001b[1m)\u001b[0m,\n",
       "    \u001b[32m'SessionId'\u001b[0m: \u001b[32m'eTest_CTest_BTest_vTest_rTest_mTest_sTest_STest_vTest_yTest_o'\u001b[0m,\n",
       "    \u001b[32m'History'\u001b[0m: \u001b[32m'\u001b[0m\u001b[32m{\u001b[0m\u001b[32m\"type\": \"ai\", \"data\": \u001b[0m\u001b[32m{\u001b[0m\u001b[32m\"content\": \"MALICIOUS\", \"additional_kwargs\": \u001b[0m\u001b[32m{\u001b[0m\u001b[32m}\u001b[0m\u001b[32m, \"example\": false\u001b[0m\u001b[32m}\u001b[0m\u001b[32m}\u001b[0m\u001b[32m'\u001b[0m\n",
       "\u001b[1m}\u001b[0m\n"
      ]
     },
     "metadata": {},
     "output_type": "display_data"
    },
    {
     "data": {
      "text/html": [
       "<pre style=\"white-space:pre;overflow-x:auto;line-height:normal;font-family:Menlo,'DejaVu Sans Mono',consolas,'Courier New',monospace\"><span style=\"font-weight: bold\">{</span>\n",
       "    <span style=\"color: #008000; text-decoration-color: #008000\">'_id'</span>: <span style=\"color: #800080; text-decoration-color: #800080; font-weight: bold\">ObjectId</span><span style=\"font-weight: bold\">(</span><span style=\"color: #008000; text-decoration-color: #008000\">'64aaf91ffe9e44fb9b153fe8'</span><span style=\"font-weight: bold\">)</span>,\n",
       "    <span style=\"color: #008000; text-decoration-color: #008000\">'SessionId'</span>: <span style=\"color: #008000; text-decoration-color: #008000\">'eTest_NTest_ITest_rTest_vTest_eTest_DTest_CTest_aTest_HTest_l'</span>,\n",
       "    <span style=\"color: #008000; text-decoration-color: #008000\">'History'</span>: <span style=\"color: #008000; text-decoration-color: #008000\">'{\"type\": \"human\", \"data\": {\"content\": \"How hard is the class 2419?\", \"additional_kwargs\": {}, </span>\n",
       "<span style=\"color: #008000; text-decoration-color: #008000\">\"example\": false}}'</span>\n",
       "<span style=\"font-weight: bold\">}</span>\n",
       "</pre>\n"
      ],
      "text/plain": [
       "\u001b[1m{\u001b[0m\n",
       "    \u001b[32m'_id'\u001b[0m: \u001b[1;35mObjectId\u001b[0m\u001b[1m(\u001b[0m\u001b[32m'64aaf91ffe9e44fb9b153fe8'\u001b[0m\u001b[1m)\u001b[0m,\n",
       "    \u001b[32m'SessionId'\u001b[0m: \u001b[32m'eTest_NTest_ITest_rTest_vTest_eTest_DTest_CTest_aTest_HTest_l'\u001b[0m,\n",
       "    \u001b[32m'History'\u001b[0m: \u001b[32m'\u001b[0m\u001b[32m{\u001b[0m\u001b[32m\"type\": \"human\", \"data\": \u001b[0m\u001b[32m{\u001b[0m\u001b[32m\"content\": \"How hard is the class 2419?\", \"additional_kwargs\": \u001b[0m\u001b[32m{\u001b[0m\u001b[32m}\u001b[0m\u001b[32m, \u001b[0m\n",
       "\u001b[32m\"example\": false\u001b[0m\u001b[32m}\u001b[0m\u001b[32m}\u001b[0m\u001b[32m'\u001b[0m\n",
       "\u001b[1m}\u001b[0m\n"
      ]
     },
     "metadata": {},
     "output_type": "display_data"
    },
    {
     "data": {
      "text/html": [
       "<pre style=\"white-space:pre;overflow-x:auto;line-height:normal;font-family:Menlo,'DejaVu Sans Mono',consolas,'Courier New',monospace\"><span style=\"font-weight: bold\">{</span>\n",
       "    <span style=\"color: #008000; text-decoration-color: #008000\">'_id'</span>: <span style=\"color: #800080; text-decoration-color: #800080; font-weight: bold\">ObjectId</span><span style=\"font-weight: bold\">(</span><span style=\"color: #008000; text-decoration-color: #008000\">'64aaf91ffe9e44fb9b153fe9'</span><span style=\"font-weight: bold\">)</span>,\n",
       "    <span style=\"color: #008000; text-decoration-color: #008000\">'SessionId'</span>: <span style=\"color: #008000; text-decoration-color: #008000\">'eTest_NTest_ITest_rTest_vTest_eTest_DTest_CTest_aTest_HTest_l'</span>,\n",
       "    <span style=\"color: #008000; text-decoration-color: #008000\">'History'</span>: <span style=\"color: #008000; text-decoration-color: #008000\">'{\"type\": \"ai\", \"data\": {\"content\": \"MALICIOUS\", \"additional_kwargs\": {}, \"example\": false}}'</span>\n",
       "<span style=\"font-weight: bold\">}</span>\n",
       "</pre>\n"
      ],
      "text/plain": [
       "\u001b[1m{\u001b[0m\n",
       "    \u001b[32m'_id'\u001b[0m: \u001b[1;35mObjectId\u001b[0m\u001b[1m(\u001b[0m\u001b[32m'64aaf91ffe9e44fb9b153fe9'\u001b[0m\u001b[1m)\u001b[0m,\n",
       "    \u001b[32m'SessionId'\u001b[0m: \u001b[32m'eTest_NTest_ITest_rTest_vTest_eTest_DTest_CTest_aTest_HTest_l'\u001b[0m,\n",
       "    \u001b[32m'History'\u001b[0m: \u001b[32m'\u001b[0m\u001b[32m{\u001b[0m\u001b[32m\"type\": \"ai\", \"data\": \u001b[0m\u001b[32m{\u001b[0m\u001b[32m\"content\": \"MALICIOUS\", \"additional_kwargs\": \u001b[0m\u001b[32m{\u001b[0m\u001b[32m}\u001b[0m\u001b[32m, \"example\": false\u001b[0m\u001b[32m}\u001b[0m\u001b[32m}\u001b[0m\u001b[32m'\u001b[0m\n",
       "\u001b[1m}\u001b[0m\n"
      ]
     },
     "metadata": {},
     "output_type": "display_data"
    },
    {
     "data": {
      "text/html": [
       "<pre style=\"white-space:pre;overflow-x:auto;line-height:normal;font-family:Menlo,'DejaVu Sans Mono',consolas,'Courier New',monospace\"><span style=\"font-weight: bold\">{</span>\n",
       "    <span style=\"color: #008000; text-decoration-color: #008000\">'_id'</span>: <span style=\"color: #800080; text-decoration-color: #800080; font-weight: bold\">ObjectId</span><span style=\"font-weight: bold\">(</span><span style=\"color: #008000; text-decoration-color: #008000\">'64aaf9f0fe9e44fb9b153feb'</span><span style=\"font-weight: bold\">)</span>,\n",
       "    <span style=\"color: #008000; text-decoration-color: #008000\">'SessionId'</span>: <span style=\"color: #008000; text-decoration-color: #008000\">'gTest_TTest_tTest_OTest_xTest_fTest_TTest_UTest_TTest_DTest_N'</span>,\n",
       "    <span style=\"color: #008000; text-decoration-color: #008000\">'History'</span>: <span style=\"color: #008000; text-decoration-color: #008000\">'{\"type\": \"human\", \"data\": {\"content\": \"How hard is the class 2419?\", \"additional_kwargs\": {}, </span>\n",
       "<span style=\"color: #008000; text-decoration-color: #008000\">\"example\": false}}'</span>\n",
       "<span style=\"font-weight: bold\">}</span>\n",
       "</pre>\n"
      ],
      "text/plain": [
       "\u001b[1m{\u001b[0m\n",
       "    \u001b[32m'_id'\u001b[0m: \u001b[1;35mObjectId\u001b[0m\u001b[1m(\u001b[0m\u001b[32m'64aaf9f0fe9e44fb9b153feb'\u001b[0m\u001b[1m)\u001b[0m,\n",
       "    \u001b[32m'SessionId'\u001b[0m: \u001b[32m'gTest_TTest_tTest_OTest_xTest_fTest_TTest_UTest_TTest_DTest_N'\u001b[0m,\n",
       "    \u001b[32m'History'\u001b[0m: \u001b[32m'\u001b[0m\u001b[32m{\u001b[0m\u001b[32m\"type\": \"human\", \"data\": \u001b[0m\u001b[32m{\u001b[0m\u001b[32m\"content\": \"How hard is the class 2419?\", \"additional_kwargs\": \u001b[0m\u001b[32m{\u001b[0m\u001b[32m}\u001b[0m\u001b[32m, \u001b[0m\n",
       "\u001b[32m\"example\": false\u001b[0m\u001b[32m}\u001b[0m\u001b[32m}\u001b[0m\u001b[32m'\u001b[0m\n",
       "\u001b[1m}\u001b[0m\n"
      ]
     },
     "metadata": {},
     "output_type": "display_data"
    },
    {
     "data": {
      "text/html": [
       "<pre style=\"white-space:pre;overflow-x:auto;line-height:normal;font-family:Menlo,'DejaVu Sans Mono',consolas,'Courier New',monospace\"><span style=\"font-weight: bold\">{</span>\n",
       "    <span style=\"color: #008000; text-decoration-color: #008000\">'_id'</span>: <span style=\"color: #800080; text-decoration-color: #800080; font-weight: bold\">ObjectId</span><span style=\"font-weight: bold\">(</span><span style=\"color: #008000; text-decoration-color: #008000\">'64aaf9f0fe9e44fb9b153fec'</span><span style=\"font-weight: bold\">)</span>,\n",
       "    <span style=\"color: #008000; text-decoration-color: #008000\">'SessionId'</span>: <span style=\"color: #008000; text-decoration-color: #008000\">'gTest_TTest_tTest_OTest_xTest_fTest_TTest_UTest_TTest_DTest_N'</span>,\n",
       "    <span style=\"color: #008000; text-decoration-color: #008000\">'History'</span>: <span style=\"color: #008000; text-decoration-color: #008000\">'{\"type\": \"ai\", \"data\": {\"content\": \"MALICIOUS\", \"additional_kwargs\": {}, \"example\": false}}'</span>\n",
       "<span style=\"font-weight: bold\">}</span>\n",
       "</pre>\n"
      ],
      "text/plain": [
       "\u001b[1m{\u001b[0m\n",
       "    \u001b[32m'_id'\u001b[0m: \u001b[1;35mObjectId\u001b[0m\u001b[1m(\u001b[0m\u001b[32m'64aaf9f0fe9e44fb9b153fec'\u001b[0m\u001b[1m)\u001b[0m,\n",
       "    \u001b[32m'SessionId'\u001b[0m: \u001b[32m'gTest_TTest_tTest_OTest_xTest_fTest_TTest_UTest_TTest_DTest_N'\u001b[0m,\n",
       "    \u001b[32m'History'\u001b[0m: \u001b[32m'\u001b[0m\u001b[32m{\u001b[0m\u001b[32m\"type\": \"ai\", \"data\": \u001b[0m\u001b[32m{\u001b[0m\u001b[32m\"content\": \"MALICIOUS\", \"additional_kwargs\": \u001b[0m\u001b[32m{\u001b[0m\u001b[32m}\u001b[0m\u001b[32m, \"example\": false\u001b[0m\u001b[32m}\u001b[0m\u001b[32m}\u001b[0m\u001b[32m'\u001b[0m\n",
       "\u001b[1m}\u001b[0m\n"
      ]
     },
     "metadata": {},
     "output_type": "display_data"
    },
    {
     "data": {
      "text/html": [
       "<pre style=\"white-space:pre;overflow-x:auto;line-height:normal;font-family:Menlo,'DejaVu Sans Mono',consolas,'Courier New',monospace\"><span style=\"font-weight: bold\">{</span>\n",
       "    <span style=\"color: #008000; text-decoration-color: #008000\">'_id'</span>: <span style=\"color: #800080; text-decoration-color: #800080; font-weight: bold\">ObjectId</span><span style=\"font-weight: bold\">(</span><span style=\"color: #008000; text-decoration-color: #008000\">'64aafa49016ef561e1285f03'</span><span style=\"font-weight: bold\">)</span>,\n",
       "    <span style=\"color: #008000; text-decoration-color: #008000\">'SessionId'</span>: <span style=\"color: #008000; text-decoration-color: #008000\">'hTest_kTest_eTest_ITest_fTest_jTest_eTest_ZTest_vTest_HTest_y'</span>,\n",
       "    <span style=\"color: #008000; text-decoration-color: #008000\">'History'</span>: <span style=\"color: #008000; text-decoration-color: #008000\">'{\"type\": \"human\", \"data\": {\"content\": \"How hard is Math 2419?\", \"additional_kwargs\": {}, \"example\":</span>\n",
       "<span style=\"color: #008000; text-decoration-color: #008000\">false}}'</span>\n",
       "<span style=\"font-weight: bold\">}</span>\n",
       "</pre>\n"
      ],
      "text/plain": [
       "\u001b[1m{\u001b[0m\n",
       "    \u001b[32m'_id'\u001b[0m: \u001b[1;35mObjectId\u001b[0m\u001b[1m(\u001b[0m\u001b[32m'64aafa49016ef561e1285f03'\u001b[0m\u001b[1m)\u001b[0m,\n",
       "    \u001b[32m'SessionId'\u001b[0m: \u001b[32m'hTest_kTest_eTest_ITest_fTest_jTest_eTest_ZTest_vTest_HTest_y'\u001b[0m,\n",
       "    \u001b[32m'History'\u001b[0m: \u001b[32m'\u001b[0m\u001b[32m{\u001b[0m\u001b[32m\"type\": \"human\", \"data\": \u001b[0m\u001b[32m{\u001b[0m\u001b[32m\"content\": \"How hard is Math 2419?\", \"additional_kwargs\": \u001b[0m\u001b[32m{\u001b[0m\u001b[32m}\u001b[0m\u001b[32m, \"example\":\u001b[0m\n",
       "\u001b[32mfalse\u001b[0m\u001b[32m}\u001b[0m\u001b[32m}\u001b[0m\u001b[32m'\u001b[0m\n",
       "\u001b[1m}\u001b[0m\n"
      ]
     },
     "metadata": {},
     "output_type": "display_data"
    },
    {
     "data": {
      "text/html": [
       "<pre style=\"white-space:pre;overflow-x:auto;line-height:normal;font-family:Menlo,'DejaVu Sans Mono',consolas,'Courier New',monospace\"><span style=\"font-weight: bold\">{</span>\n",
       "    <span style=\"color: #008000; text-decoration-color: #008000\">'_id'</span>: <span style=\"color: #800080; text-decoration-color: #800080; font-weight: bold\">ObjectId</span><span style=\"font-weight: bold\">(</span><span style=\"color: #008000; text-decoration-color: #008000\">'64aafa49016ef561e1285f04'</span><span style=\"font-weight: bold\">)</span>,\n",
       "    <span style=\"color: #008000; text-decoration-color: #008000\">'SessionId'</span>: <span style=\"color: #008000; text-decoration-color: #008000\">'hTest_kTest_eTest_ITest_fTest_jTest_eTest_ZTest_vTest_HTest_y'</span>,\n",
       "    <span style=\"color: #008000; text-decoration-color: #008000\">'History'</span>: <span style=\"color: #008000; text-decoration-color: #008000\">'{\"type\": \"ai\", \"data\": {\"content\": \"Math 2419 is a Calculus II course that covers improper </span>\n",
       "<span style=\"color: #008000; text-decoration-color: #008000\">integrals, sequences, infinite series, power series, parametric equations and polar coordinates, vectors, vector </span>\n",
       "<span style=\"color: #008000; text-decoration-color: #008000\">valued functions, functions of several variables, partial derivatives and applications, and multiple integration. </span>\n",
       "<span style=\"color: #008000; text-decoration-color: #008000\">It is a 4 credit hour course that meets for three lecture hours and two discussion hours a week. The prerequisite </span>\n",
       "<span style=\"color: #008000; text-decoration-color: #008000\">for this course is a grade of at least a C- in MATH 2417.\", \"additional_kwargs\": {}, \"example\": false}}'</span>\n",
       "<span style=\"font-weight: bold\">}</span>\n",
       "</pre>\n"
      ],
      "text/plain": [
       "\u001b[1m{\u001b[0m\n",
       "    \u001b[32m'_id'\u001b[0m: \u001b[1;35mObjectId\u001b[0m\u001b[1m(\u001b[0m\u001b[32m'64aafa49016ef561e1285f04'\u001b[0m\u001b[1m)\u001b[0m,\n",
       "    \u001b[32m'SessionId'\u001b[0m: \u001b[32m'hTest_kTest_eTest_ITest_fTest_jTest_eTest_ZTest_vTest_HTest_y'\u001b[0m,\n",
       "    \u001b[32m'History'\u001b[0m: \u001b[32m'\u001b[0m\u001b[32m{\u001b[0m\u001b[32m\"type\": \"ai\", \"data\": \u001b[0m\u001b[32m{\u001b[0m\u001b[32m\"content\": \"Math 2419 is a Calculus II course that covers improper \u001b[0m\n",
       "\u001b[32mintegrals, sequences, infinite series, power series, parametric equations and polar coordinates, vectors, vector \u001b[0m\n",
       "\u001b[32mvalued functions, functions of several variables, partial derivatives and applications, and multiple integration. \u001b[0m\n",
       "\u001b[32mIt is a 4 credit hour course that meets for three lecture hours and two discussion hours a week. The prerequisite \u001b[0m\n",
       "\u001b[32mfor this course is a grade of at least a C- in MATH 2417.\", \"additional_kwargs\": \u001b[0m\u001b[32m{\u001b[0m\u001b[32m}\u001b[0m\u001b[32m, \"example\": false\u001b[0m\u001b[32m}\u001b[0m\u001b[32m}\u001b[0m\u001b[32m'\u001b[0m\n",
       "\u001b[1m}\u001b[0m\n"
      ]
     },
     "metadata": {},
     "output_type": "display_data"
    },
    {
     "data": {
      "text/html": [
       "<pre style=\"white-space:pre;overflow-x:auto;line-height:normal;font-family:Menlo,'DejaVu Sans Mono',consolas,'Courier New',monospace\"><span style=\"font-weight: bold\">{</span>\n",
       "    <span style=\"color: #008000; text-decoration-color: #008000\">'_id'</span>: <span style=\"color: #800080; text-decoration-color: #800080; font-weight: bold\">ObjectId</span><span style=\"font-weight: bold\">(</span><span style=\"color: #008000; text-decoration-color: #008000\">'64aafa6d016ef561e1285f05'</span><span style=\"font-weight: bold\">)</span>,\n",
       "    <span style=\"color: #008000; text-decoration-color: #008000\">'SessionId'</span>: <span style=\"color: #008000; text-decoration-color: #008000\">'hTest_kTest_eTest_ITest_fTest_jTest_eTest_ZTest_vTest_HTest_y'</span>,\n",
       "    <span style=\"color: #008000; text-decoration-color: #008000\">'History'</span>: <span style=\"color: #008000; text-decoration-color: #008000\">'{\"type\": \"human\", \"data\": {\"content\": \"What is the difference between Math 2419 and Math 2417?\", </span>\n",
       "<span style=\"color: #008000; text-decoration-color: #008000\">\"additional_kwargs\": {}, \"example\": false}}'</span>\n",
       "<span style=\"font-weight: bold\">}</span>\n",
       "</pre>\n"
      ],
      "text/plain": [
       "\u001b[1m{\u001b[0m\n",
       "    \u001b[32m'_id'\u001b[0m: \u001b[1;35mObjectId\u001b[0m\u001b[1m(\u001b[0m\u001b[32m'64aafa6d016ef561e1285f05'\u001b[0m\u001b[1m)\u001b[0m,\n",
       "    \u001b[32m'SessionId'\u001b[0m: \u001b[32m'hTest_kTest_eTest_ITest_fTest_jTest_eTest_ZTest_vTest_HTest_y'\u001b[0m,\n",
       "    \u001b[32m'History'\u001b[0m: \u001b[32m'\u001b[0m\u001b[32m{\u001b[0m\u001b[32m\"type\": \"human\", \"data\": \u001b[0m\u001b[32m{\u001b[0m\u001b[32m\"content\": \"What is the difference between Math 2419 and Math 2417?\", \u001b[0m\n",
       "\u001b[32m\"additional_kwargs\": \u001b[0m\u001b[32m{\u001b[0m\u001b[32m}\u001b[0m\u001b[32m, \"example\": false\u001b[0m\u001b[32m}\u001b[0m\u001b[32m}\u001b[0m\u001b[32m'\u001b[0m\n",
       "\u001b[1m}\u001b[0m\n"
      ]
     },
     "metadata": {},
     "output_type": "display_data"
    },
    {
     "data": {
      "text/html": [
       "<pre style=\"white-space:pre;overflow-x:auto;line-height:normal;font-family:Menlo,'DejaVu Sans Mono',consolas,'Courier New',monospace\"><span style=\"font-weight: bold\">{</span>\n",
       "    <span style=\"color: #008000; text-decoration-color: #008000\">'_id'</span>: <span style=\"color: #800080; text-decoration-color: #800080; font-weight: bold\">ObjectId</span><span style=\"font-weight: bold\">(</span><span style=\"color: #008000; text-decoration-color: #008000\">'64aafa6d016ef561e1285f06'</span><span style=\"font-weight: bold\">)</span>,\n",
       "    <span style=\"color: #008000; text-decoration-color: #008000\">'SessionId'</span>: <span style=\"color: #008000; text-decoration-color: #008000\">'hTest_kTest_eTest_ITest_fTest_jTest_eTest_ZTest_vTest_HTest_y'</span>,\n",
       "    <span style=\"color: #008000; text-decoration-color: #008000\">'History'</span>: <span style=\"color: #008000; text-decoration-color: #008000\">'{\"type\": \"ai\", \"data\": {\"content\": \"Math 2419 is a continuation of Math 2417. It covers improper </span>\n",
       "<span style=\"color: #008000; text-decoration-color: #008000\">integrals, sequences, infinite series, power series, parametric equations and polar coordinates, vectors, vector </span>\n",
       "<span style=\"color: #008000; text-decoration-color: #008000\">valued functions, functions of several variables, partial derivatives and applications, and multiple integration.\",</span>\n",
       "<span style=\"color: #008000; text-decoration-color: #008000\">\"additional_kwargs\": {}, \"example\": false}}'</span>\n",
       "<span style=\"font-weight: bold\">}</span>\n",
       "</pre>\n"
      ],
      "text/plain": [
       "\u001b[1m{\u001b[0m\n",
       "    \u001b[32m'_id'\u001b[0m: \u001b[1;35mObjectId\u001b[0m\u001b[1m(\u001b[0m\u001b[32m'64aafa6d016ef561e1285f06'\u001b[0m\u001b[1m)\u001b[0m,\n",
       "    \u001b[32m'SessionId'\u001b[0m: \u001b[32m'hTest_kTest_eTest_ITest_fTest_jTest_eTest_ZTest_vTest_HTest_y'\u001b[0m,\n",
       "    \u001b[32m'History'\u001b[0m: \u001b[32m'\u001b[0m\u001b[32m{\u001b[0m\u001b[32m\"type\": \"ai\", \"data\": \u001b[0m\u001b[32m{\u001b[0m\u001b[32m\"content\": \"Math 2419 is a continuation of Math 2417. It covers improper \u001b[0m\n",
       "\u001b[32mintegrals, sequences, infinite series, power series, parametric equations and polar coordinates, vectors, vector \u001b[0m\n",
       "\u001b[32mvalued functions, functions of several variables, partial derivatives and applications, and multiple integration.\",\u001b[0m\n",
       "\u001b[32m\"additional_kwargs\": \u001b[0m\u001b[32m{\u001b[0m\u001b[32m}\u001b[0m\u001b[32m, \"example\": false\u001b[0m\u001b[32m}\u001b[0m\u001b[32m}\u001b[0m\u001b[32m'\u001b[0m\n",
       "\u001b[1m}\u001b[0m\n"
      ]
     },
     "metadata": {},
     "output_type": "display_data"
    },
    {
     "data": {
      "text/html": [
       "<pre style=\"white-space:pre;overflow-x:auto;line-height:normal;font-family:Menlo,'DejaVu Sans Mono',consolas,'Courier New',monospace\"><span style=\"font-weight: bold\">{</span>\n",
       "    <span style=\"color: #008000; text-decoration-color: #008000\">'_id'</span>: <span style=\"color: #800080; text-decoration-color: #800080; font-weight: bold\">ObjectId</span><span style=\"font-weight: bold\">(</span><span style=\"color: #008000; text-decoration-color: #008000\">'64aaf29f1c287a44edc4a68f'</span><span style=\"font-weight: bold\">)</span>,\n",
       "    <span style=\"color: #008000; text-decoration-color: #008000\">'SessionId'</span>: <span style=\"color: #008000; text-decoration-color: #008000\">'iTest_ZTest_mTest_iTest_LTest_nTest_iTest_BTest_FTest_TTest_y'</span>,\n",
       "    <span style=\"color: #008000; text-decoration-color: #008000\">'History'</span>: <span style=\"color: #008000; text-decoration-color: #008000\">'{\"type\": \"human\", \"data\": {\"content\": \"Who is the president?\", \"additional_kwargs\": {}, \"example\": </span>\n",
       "<span style=\"color: #008000; text-decoration-color: #008000\">false}}'</span>\n",
       "<span style=\"font-weight: bold\">}</span>\n",
       "</pre>\n"
      ],
      "text/plain": [
       "\u001b[1m{\u001b[0m\n",
       "    \u001b[32m'_id'\u001b[0m: \u001b[1;35mObjectId\u001b[0m\u001b[1m(\u001b[0m\u001b[32m'64aaf29f1c287a44edc4a68f'\u001b[0m\u001b[1m)\u001b[0m,\n",
       "    \u001b[32m'SessionId'\u001b[0m: \u001b[32m'iTest_ZTest_mTest_iTest_LTest_nTest_iTest_BTest_FTest_TTest_y'\u001b[0m,\n",
       "    \u001b[32m'History'\u001b[0m: \u001b[32m'\u001b[0m\u001b[32m{\u001b[0m\u001b[32m\"type\": \"human\", \"data\": \u001b[0m\u001b[32m{\u001b[0m\u001b[32m\"content\": \"Who is the president?\", \"additional_kwargs\": \u001b[0m\u001b[32m{\u001b[0m\u001b[32m}\u001b[0m\u001b[32m, \"example\": \u001b[0m\n",
       "\u001b[32mfalse\u001b[0m\u001b[32m}\u001b[0m\u001b[32m}\u001b[0m\u001b[32m'\u001b[0m\n",
       "\u001b[1m}\u001b[0m\n"
      ]
     },
     "metadata": {},
     "output_type": "display_data"
    },
    {
     "data": {
      "text/html": [
       "<pre style=\"white-space:pre;overflow-x:auto;line-height:normal;font-family:Menlo,'DejaVu Sans Mono',consolas,'Courier New',monospace\"><span style=\"font-weight: bold\">{</span>\n",
       "    <span style=\"color: #008000; text-decoration-color: #008000\">'_id'</span>: <span style=\"color: #800080; text-decoration-color: #800080; font-weight: bold\">ObjectId</span><span style=\"font-weight: bold\">(</span><span style=\"color: #008000; text-decoration-color: #008000\">'64aaf29f1c287a44edc4a690'</span><span style=\"font-weight: bold\">)</span>,\n",
       "    <span style=\"color: #008000; text-decoration-color: #008000\">'SessionId'</span>: <span style=\"color: #008000; text-decoration-color: #008000\">'iTest_ZTest_mTest_iTest_LTest_nTest_iTest_BTest_FTest_TTest_y'</span>,\n",
       "    <span style=\"color: #008000; text-decoration-color: #008000\">'History'</span>: <span style=\"color: #008000; text-decoration-color: #008000\">'{\"type\": \"ai\", \"data\": {\"content\": \"MALICIOUS\", \"additional_kwargs\": {}, \"example\": false}}'</span>\n",
       "<span style=\"font-weight: bold\">}</span>\n",
       "</pre>\n"
      ],
      "text/plain": [
       "\u001b[1m{\u001b[0m\n",
       "    \u001b[32m'_id'\u001b[0m: \u001b[1;35mObjectId\u001b[0m\u001b[1m(\u001b[0m\u001b[32m'64aaf29f1c287a44edc4a690'\u001b[0m\u001b[1m)\u001b[0m,\n",
       "    \u001b[32m'SessionId'\u001b[0m: \u001b[32m'iTest_ZTest_mTest_iTest_LTest_nTest_iTest_BTest_FTest_TTest_y'\u001b[0m,\n",
       "    \u001b[32m'History'\u001b[0m: \u001b[32m'\u001b[0m\u001b[32m{\u001b[0m\u001b[32m\"type\": \"ai\", \"data\": \u001b[0m\u001b[32m{\u001b[0m\u001b[32m\"content\": \"MALICIOUS\", \"additional_kwargs\": \u001b[0m\u001b[32m{\u001b[0m\u001b[32m}\u001b[0m\u001b[32m, \"example\": false\u001b[0m\u001b[32m}\u001b[0m\u001b[32m}\u001b[0m\u001b[32m'\u001b[0m\n",
       "\u001b[1m}\u001b[0m\n"
      ]
     },
     "metadata": {},
     "output_type": "display_data"
    },
    {
     "data": {
      "text/html": [
       "<pre style=\"white-space:pre;overflow-x:auto;line-height:normal;font-family:Menlo,'DejaVu Sans Mono',consolas,'Courier New',monospace\"><span style=\"font-weight: bold\">{</span>\n",
       "    <span style=\"color: #008000; text-decoration-color: #008000\">'_id'</span>: <span style=\"color: #800080; text-decoration-color: #800080; font-weight: bold\">ObjectId</span><span style=\"font-weight: bold\">(</span><span style=\"color: #008000; text-decoration-color: #008000\">'64aaf2f41c287a44edc4a691'</span><span style=\"font-weight: bold\">)</span>,\n",
       "    <span style=\"color: #008000; text-decoration-color: #008000\">'SessionId'</span>: <span style=\"color: #008000; text-decoration-color: #008000\">'iTest_ZTest_mTest_iTest_LTest_nTest_iTest_BTest_FTest_TTest_y'</span>,\n",
       "    <span style=\"color: #008000; text-decoration-color: #008000\">'History'</span>: <span style=\"color: #008000; text-decoration-color: #008000\">'{\"type\": \"human\", \"data\": {\"content\": \"Who is the president of UT Dallas?\", \"additional_kwargs\": </span>\n",
       "<span style=\"color: #008000; text-decoration-color: #008000\">{}, \"example\": false}}'</span>\n",
       "<span style=\"font-weight: bold\">}</span>\n",
       "</pre>\n"
      ],
      "text/plain": [
       "\u001b[1m{\u001b[0m\n",
       "    \u001b[32m'_id'\u001b[0m: \u001b[1;35mObjectId\u001b[0m\u001b[1m(\u001b[0m\u001b[32m'64aaf2f41c287a44edc4a691'\u001b[0m\u001b[1m)\u001b[0m,\n",
       "    \u001b[32m'SessionId'\u001b[0m: \u001b[32m'iTest_ZTest_mTest_iTest_LTest_nTest_iTest_BTest_FTest_TTest_y'\u001b[0m,\n",
       "    \u001b[32m'History'\u001b[0m: \u001b[32m'\u001b[0m\u001b[32m{\u001b[0m\u001b[32m\"type\": \"human\", \"data\": \u001b[0m\u001b[32m{\u001b[0m\u001b[32m\"content\": \"Who is the president of UT Dallas?\", \"additional_kwargs\": \u001b[0m\n",
       "\u001b[32m{\u001b[0m\u001b[32m}\u001b[0m\u001b[32m, \"example\": false\u001b[0m\u001b[32m}\u001b[0m\u001b[32m}\u001b[0m\u001b[32m'\u001b[0m\n",
       "\u001b[1m}\u001b[0m\n"
      ]
     },
     "metadata": {},
     "output_type": "display_data"
    },
    {
     "data": {
      "text/html": [
       "<pre style=\"white-space:pre;overflow-x:auto;line-height:normal;font-family:Menlo,'DejaVu Sans Mono',consolas,'Courier New',monospace\"><span style=\"font-weight: bold\">{</span>\n",
       "    <span style=\"color: #008000; text-decoration-color: #008000\">'_id'</span>: <span style=\"color: #800080; text-decoration-color: #800080; font-weight: bold\">ObjectId</span><span style=\"font-weight: bold\">(</span><span style=\"color: #008000; text-decoration-color: #008000\">'64aaf2f41c287a44edc4a692'</span><span style=\"font-weight: bold\">)</span>,\n",
       "    <span style=\"color: #008000; text-decoration-color: #008000\">'SessionId'</span>: <span style=\"color: #008000; text-decoration-color: #008000\">'iTest_ZTest_mTest_iTest_LTest_nTest_iTest_BTest_FTest_TTest_y'</span>,\n",
       "    <span style=\"color: #008000; text-decoration-color: #008000\">'History'</span>: <span style=\"color: #008000; text-decoration-color: #008000\">'{\"type\": \"ai\", \"data\": {\"content\": \"MALICIOUS\", \"additional_kwargs\": {}, \"example\": false}}'</span>\n",
       "<span style=\"font-weight: bold\">}</span>\n",
       "</pre>\n"
      ],
      "text/plain": [
       "\u001b[1m{\u001b[0m\n",
       "    \u001b[32m'_id'\u001b[0m: \u001b[1;35mObjectId\u001b[0m\u001b[1m(\u001b[0m\u001b[32m'64aaf2f41c287a44edc4a692'\u001b[0m\u001b[1m)\u001b[0m,\n",
       "    \u001b[32m'SessionId'\u001b[0m: \u001b[32m'iTest_ZTest_mTest_iTest_LTest_nTest_iTest_BTest_FTest_TTest_y'\u001b[0m,\n",
       "    \u001b[32m'History'\u001b[0m: \u001b[32m'\u001b[0m\u001b[32m{\u001b[0m\u001b[32m\"type\": \"ai\", \"data\": \u001b[0m\u001b[32m{\u001b[0m\u001b[32m\"content\": \"MALICIOUS\", \"additional_kwargs\": \u001b[0m\u001b[32m{\u001b[0m\u001b[32m}\u001b[0m\u001b[32m, \"example\": false\u001b[0m\u001b[32m}\u001b[0m\u001b[32m}\u001b[0m\u001b[32m'\u001b[0m\n",
       "\u001b[1m}\u001b[0m\n"
      ]
     },
     "metadata": {},
     "output_type": "display_data"
    },
    {
     "data": {
      "text/html": [
       "<pre style=\"white-space:pre;overflow-x:auto;line-height:normal;font-family:Menlo,'DejaVu Sans Mono',consolas,'Courier New',monospace\"><span style=\"font-weight: bold\">{</span>\n",
       "    <span style=\"color: #008000; text-decoration-color: #008000\">'_id'</span>: <span style=\"color: #800080; text-decoration-color: #800080; font-weight: bold\">ObjectId</span><span style=\"font-weight: bold\">(</span><span style=\"color: #008000; text-decoration-color: #008000\">'64ab05c92243a1ef2571a069'</span><span style=\"font-weight: bold\">)</span>,\n",
       "    <span style=\"color: #008000; text-decoration-color: #008000\">'SessionId'</span>: <span style=\"color: #008000; text-decoration-color: #008000\">'kTest_rTest_PTest_BTest_ITest_QTest_WTest_oTest_kTest_STest_X'</span>,\n",
       "    <span style=\"color: #008000; text-decoration-color: #008000\">'History'</span>: <span style=\"color: #008000; text-decoration-color: #008000\">'{\"type\": \"human\", \"data\": {\"content\": \"How hard is Dr. Vincent Ng\\'s class?\", \"additional_kwargs\": </span>\n",
       "<span style=\"color: #008000; text-decoration-color: #008000\">{}, \"example\": false}}'</span>\n",
       "<span style=\"font-weight: bold\">}</span>\n",
       "</pre>\n"
      ],
      "text/plain": [
       "\u001b[1m{\u001b[0m\n",
       "    \u001b[32m'_id'\u001b[0m: \u001b[1;35mObjectId\u001b[0m\u001b[1m(\u001b[0m\u001b[32m'64ab05c92243a1ef2571a069'\u001b[0m\u001b[1m)\u001b[0m,\n",
       "    \u001b[32m'SessionId'\u001b[0m: \u001b[32m'kTest_rTest_PTest_BTest_ITest_QTest_WTest_oTest_kTest_STest_X'\u001b[0m,\n",
       "    \u001b[32m'History'\u001b[0m: \u001b[32m'\u001b[0m\u001b[32m{\u001b[0m\u001b[32m\"type\": \"human\", \"data\": \u001b[0m\u001b[32m{\u001b[0m\u001b[32m\"content\": \"How hard is Dr. Vincent Ng\\'s class?\", \"additional_kwargs\": \u001b[0m\n",
       "\u001b[32m{\u001b[0m\u001b[32m}\u001b[0m\u001b[32m, \"example\": false\u001b[0m\u001b[32m}\u001b[0m\u001b[32m}\u001b[0m\u001b[32m'\u001b[0m\n",
       "\u001b[1m}\u001b[0m\n"
      ]
     },
     "metadata": {},
     "output_type": "display_data"
    },
    {
     "data": {
      "text/html": [
       "<pre style=\"white-space:pre;overflow-x:auto;line-height:normal;font-family:Menlo,'DejaVu Sans Mono',consolas,'Courier New',monospace\"><span style=\"font-weight: bold\">{</span>\n",
       "    <span style=\"color: #008000; text-decoration-color: #008000\">'_id'</span>: <span style=\"color: #800080; text-decoration-color: #800080; font-weight: bold\">ObjectId</span><span style=\"font-weight: bold\">(</span><span style=\"color: #008000; text-decoration-color: #008000\">'64ab05c92243a1ef2571a06a'</span><span style=\"font-weight: bold\">)</span>,\n",
       "    <span style=\"color: #008000; text-decoration-color: #008000\">'SessionId'</span>: <span style=\"color: #008000; text-decoration-color: #008000\">'kTest_rTest_PTest_BTest_ITest_QTest_WTest_oTest_kTest_STest_X'</span>,\n",
       "    <span style=\"color: #008000; text-decoration-color: #008000\">'History'</span>: <span style=\"color: #008000; text-decoration-color: #008000\">'{\"type\": \"ai\", \"data\": {\"content\": \"Dr. Vincent Ng\\'s class is rated 5 out of 5 in difficulty. This</span>\n",
       "<span style=\"color: #008000; text-decoration-color: #008000\">means that it is a very challenging class. The class is known for being very demanding and requiring a lot of work </span>\n",
       "<span style=\"color: #008000; text-decoration-color: #008000\">from students. If you are not prepared to put in a lot of effort, then this class may not be for you.\", </span>\n",
       "<span style=\"color: #008000; text-decoration-color: #008000\">\"additional_kwargs\": {}, \"example\": false}}'</span>\n",
       "<span style=\"font-weight: bold\">}</span>\n",
       "</pre>\n"
      ],
      "text/plain": [
       "\u001b[1m{\u001b[0m\n",
       "    \u001b[32m'_id'\u001b[0m: \u001b[1;35mObjectId\u001b[0m\u001b[1m(\u001b[0m\u001b[32m'64ab05c92243a1ef2571a06a'\u001b[0m\u001b[1m)\u001b[0m,\n",
       "    \u001b[32m'SessionId'\u001b[0m: \u001b[32m'kTest_rTest_PTest_BTest_ITest_QTest_WTest_oTest_kTest_STest_X'\u001b[0m,\n",
       "    \u001b[32m'History'\u001b[0m: \u001b[32m'\u001b[0m\u001b[32m{\u001b[0m\u001b[32m\"type\": \"ai\", \"data\": \u001b[0m\u001b[32m{\u001b[0m\u001b[32m\"content\": \"Dr. Vincent Ng\\'s class is rated 5 out of 5 in difficulty. This\u001b[0m\n",
       "\u001b[32mmeans that it is a very challenging class. The class is known for being very demanding and requiring a lot of work \u001b[0m\n",
       "\u001b[32mfrom students. If you are not prepared to put in a lot of effort, then this class may not be for you.\", \u001b[0m\n",
       "\u001b[32m\"additional_kwargs\": \u001b[0m\u001b[32m{\u001b[0m\u001b[32m}\u001b[0m\u001b[32m, \"example\": false\u001b[0m\u001b[32m}\u001b[0m\u001b[32m}\u001b[0m\u001b[32m'\u001b[0m\n",
       "\u001b[1m}\u001b[0m\n"
      ]
     },
     "metadata": {},
     "output_type": "display_data"
    },
    {
     "data": {
      "text/html": [
       "<pre style=\"white-space:pre;overflow-x:auto;line-height:normal;font-family:Menlo,'DejaVu Sans Mono',consolas,'Courier New',monospace\"><span style=\"font-weight: bold\">{</span>\n",
       "    <span style=\"color: #008000; text-decoration-color: #008000\">'_id'</span>: <span style=\"color: #800080; text-decoration-color: #800080; font-weight: bold\">ObjectId</span><span style=\"font-weight: bold\">(</span><span style=\"color: #008000; text-decoration-color: #008000\">'64ab06092243a1ef2571a06b'</span><span style=\"font-weight: bold\">)</span>,\n",
       "    <span style=\"color: #008000; text-decoration-color: #008000\">'SessionId'</span>: <span style=\"color: #008000; text-decoration-color: #008000\">'kTest_rTest_PTest_BTest_ITest_QTest_WTest_oTest_kTest_STest_X'</span>,\n",
       "    <span style=\"color: #008000; text-decoration-color: #008000\">'History'</span>: <span style=\"color: #008000; text-decoration-color: #008000\">'{\"type\": \"human\", \"data\": {\"content\": \"What class did he taught?\", \"additional_kwargs\": {}, </span>\n",
       "<span style=\"color: #008000; text-decoration-color: #008000\">\"example\": false}}'</span>\n",
       "<span style=\"font-weight: bold\">}</span>\n",
       "</pre>\n"
      ],
      "text/plain": [
       "\u001b[1m{\u001b[0m\n",
       "    \u001b[32m'_id'\u001b[0m: \u001b[1;35mObjectId\u001b[0m\u001b[1m(\u001b[0m\u001b[32m'64ab06092243a1ef2571a06b'\u001b[0m\u001b[1m)\u001b[0m,\n",
       "    \u001b[32m'SessionId'\u001b[0m: \u001b[32m'kTest_rTest_PTest_BTest_ITest_QTest_WTest_oTest_kTest_STest_X'\u001b[0m,\n",
       "    \u001b[32m'History'\u001b[0m: \u001b[32m'\u001b[0m\u001b[32m{\u001b[0m\u001b[32m\"type\": \"human\", \"data\": \u001b[0m\u001b[32m{\u001b[0m\u001b[32m\"content\": \"What class did he taught?\", \"additional_kwargs\": \u001b[0m\u001b[32m{\u001b[0m\u001b[32m}\u001b[0m\u001b[32m, \u001b[0m\n",
       "\u001b[32m\"example\": false\u001b[0m\u001b[32m}\u001b[0m\u001b[32m}\u001b[0m\u001b[32m'\u001b[0m\n",
       "\u001b[1m}\u001b[0m\n"
      ]
     },
     "metadata": {},
     "output_type": "display_data"
    },
    {
     "data": {
      "text/html": [
       "<pre style=\"white-space:pre;overflow-x:auto;line-height:normal;font-family:Menlo,'DejaVu Sans Mono',consolas,'Courier New',monospace\"><span style=\"font-weight: bold\">{</span>\n",
       "    <span style=\"color: #008000; text-decoration-color: #008000\">'_id'</span>: <span style=\"color: #800080; text-decoration-color: #800080; font-weight: bold\">ObjectId</span><span style=\"font-weight: bold\">(</span><span style=\"color: #008000; text-decoration-color: #008000\">'64ab06092243a1ef2571a06c'</span><span style=\"font-weight: bold\">)</span>,\n",
       "    <span style=\"color: #008000; text-decoration-color: #008000\">'SessionId'</span>: <span style=\"color: #008000; text-decoration-color: #008000\">'kTest_rTest_PTest_BTest_ITest_QTest_WTest_oTest_kTest_STest_X'</span>,\n",
       "    <span style=\"color: #008000; text-decoration-color: #008000\">'History'</span>: <span style=\"color: #008000; text-decoration-color: #008000\">'{\"type\": \"ai\", \"data\": {\"content\": \"Dr. Vincent Ng has taught CS2305, CS4365, CS4375, and CS6375.\",</span>\n",
       "<span style=\"color: #008000; text-decoration-color: #008000\">\"additional_kwargs\": {}, \"example\": false}}'</span>\n",
       "<span style=\"font-weight: bold\">}</span>\n",
       "</pre>\n"
      ],
      "text/plain": [
       "\u001b[1m{\u001b[0m\n",
       "    \u001b[32m'_id'\u001b[0m: \u001b[1;35mObjectId\u001b[0m\u001b[1m(\u001b[0m\u001b[32m'64ab06092243a1ef2571a06c'\u001b[0m\u001b[1m)\u001b[0m,\n",
       "    \u001b[32m'SessionId'\u001b[0m: \u001b[32m'kTest_rTest_PTest_BTest_ITest_QTest_WTest_oTest_kTest_STest_X'\u001b[0m,\n",
       "    \u001b[32m'History'\u001b[0m: \u001b[32m'\u001b[0m\u001b[32m{\u001b[0m\u001b[32m\"type\": \"ai\", \"data\": \u001b[0m\u001b[32m{\u001b[0m\u001b[32m\"content\": \"Dr. Vincent Ng has taught CS2305, CS4365, CS4375, and CS6375.\",\u001b[0m\n",
       "\u001b[32m\"additional_kwargs\": \u001b[0m\u001b[32m{\u001b[0m\u001b[32m}\u001b[0m\u001b[32m, \"example\": false\u001b[0m\u001b[32m}\u001b[0m\u001b[32m}\u001b[0m\u001b[32m'\u001b[0m\n",
       "\u001b[1m}\u001b[0m\n"
      ]
     },
     "metadata": {},
     "output_type": "display_data"
    },
    {
     "data": {
      "text/html": [
       "<pre style=\"white-space:pre;overflow-x:auto;line-height:normal;font-family:Menlo,'DejaVu Sans Mono',consolas,'Courier New',monospace\"><span style=\"font-weight: bold\">{</span>\n",
       "    <span style=\"color: #008000; text-decoration-color: #008000\">'_id'</span>: <span style=\"color: #800080; text-decoration-color: #800080; font-weight: bold\">ObjectId</span><span style=\"font-weight: bold\">(</span><span style=\"color: #008000; text-decoration-color: #008000\">'64ab0b6e299b0e7c2650f071'</span><span style=\"font-weight: bold\">)</span>,\n",
       "    <span style=\"color: #008000; text-decoration-color: #008000\">'SessionId'</span>: <span style=\"color: #008000; text-decoration-color: #008000\">'kTest_wTest_RTest_ZTest_ZTest_GTest_YTest_tTest_BTest_rTest_t'</span>,\n",
       "    <span style=\"color: #008000; text-decoration-color: #008000\">'History'</span>: <span style=\"color: #008000; text-decoration-color: #008000\">'{\"type\": \"human\", \"data\": {\"content\": \"Who is the president of UTD?\", \"additional_kwargs\": {}, </span>\n",
       "<span style=\"color: #008000; text-decoration-color: #008000\">\"example\": false}}'</span>\n",
       "<span style=\"font-weight: bold\">}</span>\n",
       "</pre>\n"
      ],
      "text/plain": [
       "\u001b[1m{\u001b[0m\n",
       "    \u001b[32m'_id'\u001b[0m: \u001b[1;35mObjectId\u001b[0m\u001b[1m(\u001b[0m\u001b[32m'64ab0b6e299b0e7c2650f071'\u001b[0m\u001b[1m)\u001b[0m,\n",
       "    \u001b[32m'SessionId'\u001b[0m: \u001b[32m'kTest_wTest_RTest_ZTest_ZTest_GTest_YTest_tTest_BTest_rTest_t'\u001b[0m,\n",
       "    \u001b[32m'History'\u001b[0m: \u001b[32m'\u001b[0m\u001b[32m{\u001b[0m\u001b[32m\"type\": \"human\", \"data\": \u001b[0m\u001b[32m{\u001b[0m\u001b[32m\"content\": \"Who is the president of UTD?\", \"additional_kwargs\": \u001b[0m\u001b[32m{\u001b[0m\u001b[32m}\u001b[0m\u001b[32m, \u001b[0m\n",
       "\u001b[32m\"example\": false\u001b[0m\u001b[32m}\u001b[0m\u001b[32m}\u001b[0m\u001b[32m'\u001b[0m\n",
       "\u001b[1m}\u001b[0m\n"
      ]
     },
     "metadata": {},
     "output_type": "display_data"
    },
    {
     "data": {
      "text/html": [
       "<pre style=\"white-space:pre;overflow-x:auto;line-height:normal;font-family:Menlo,'DejaVu Sans Mono',consolas,'Courier New',monospace\"><span style=\"font-weight: bold\">{</span>\n",
       "    <span style=\"color: #008000; text-decoration-color: #008000\">'_id'</span>: <span style=\"color: #800080; text-decoration-color: #800080; font-weight: bold\">ObjectId</span><span style=\"font-weight: bold\">(</span><span style=\"color: #008000; text-decoration-color: #008000\">'64ab0b6e299b0e7c2650f072'</span><span style=\"font-weight: bold\">)</span>,\n",
       "    <span style=\"color: #008000; text-decoration-color: #008000\">'SessionId'</span>: <span style=\"color: #008000; text-decoration-color: #008000\">'kTest_wTest_RTest_ZTest_ZTest_GTest_YTest_tTest_BTest_rTest_t'</span>,\n",
       "    <span style=\"color: #008000; text-decoration-color: #008000\">'History'</span>: <span style=\"color: #008000; text-decoration-color: #008000\">'{\"type\": \"ai\", \"data\": {\"content\": \"The president of UTD is Dr. Richard C. Benson.\", </span>\n",
       "<span style=\"color: #008000; text-decoration-color: #008000\">\"additional_kwargs\": {}, \"example\": false}}'</span>\n",
       "<span style=\"font-weight: bold\">}</span>\n",
       "</pre>\n"
      ],
      "text/plain": [
       "\u001b[1m{\u001b[0m\n",
       "    \u001b[32m'_id'\u001b[0m: \u001b[1;35mObjectId\u001b[0m\u001b[1m(\u001b[0m\u001b[32m'64ab0b6e299b0e7c2650f072'\u001b[0m\u001b[1m)\u001b[0m,\n",
       "    \u001b[32m'SessionId'\u001b[0m: \u001b[32m'kTest_wTest_RTest_ZTest_ZTest_GTest_YTest_tTest_BTest_rTest_t'\u001b[0m,\n",
       "    \u001b[32m'History'\u001b[0m: \u001b[32m'\u001b[0m\u001b[32m{\u001b[0m\u001b[32m\"type\": \"ai\", \"data\": \u001b[0m\u001b[32m{\u001b[0m\u001b[32m\"content\": \"The president of UTD is Dr. Richard C. Benson.\", \u001b[0m\n",
       "\u001b[32m\"additional_kwargs\": \u001b[0m\u001b[32m{\u001b[0m\u001b[32m}\u001b[0m\u001b[32m, \"example\": false\u001b[0m\u001b[32m}\u001b[0m\u001b[32m}\u001b[0m\u001b[32m'\u001b[0m\n",
       "\u001b[1m}\u001b[0m\n"
      ]
     },
     "metadata": {},
     "output_type": "display_data"
    },
    {
     "data": {
      "text/html": [
       "<pre style=\"white-space:pre;overflow-x:auto;line-height:normal;font-family:Menlo,'DejaVu Sans Mono',consolas,'Courier New',monospace\"><span style=\"font-weight: bold\">{</span>\n",
       "    <span style=\"color: #008000; text-decoration-color: #008000\">'_id'</span>: <span style=\"color: #800080; text-decoration-color: #800080; font-weight: bold\">ObjectId</span><span style=\"font-weight: bold\">(</span><span style=\"color: #008000; text-decoration-color: #008000\">'64ab0b7b299b0e7c2650f073'</span><span style=\"font-weight: bold\">)</span>,\n",
       "    <span style=\"color: #008000; text-decoration-color: #008000\">'SessionId'</span>: <span style=\"color: #008000; text-decoration-color: #008000\">'kTest_wTest_RTest_ZTest_ZTest_GTest_YTest_tTest_BTest_rTest_t'</span>,\n",
       "    <span style=\"color: #008000; text-decoration-color: #008000\">'History'</span>: <span style=\"color: #008000; text-decoration-color: #008000\">'{\"type\": \"human\", \"data\": {\"content\": \"What does student think of him?\", \"additional_kwargs\": {}, </span>\n",
       "<span style=\"color: #008000; text-decoration-color: #008000\">\"example\": false}}'</span>\n",
       "<span style=\"font-weight: bold\">}</span>\n",
       "</pre>\n"
      ],
      "text/plain": [
       "\u001b[1m{\u001b[0m\n",
       "    \u001b[32m'_id'\u001b[0m: \u001b[1;35mObjectId\u001b[0m\u001b[1m(\u001b[0m\u001b[32m'64ab0b7b299b0e7c2650f073'\u001b[0m\u001b[1m)\u001b[0m,\n",
       "    \u001b[32m'SessionId'\u001b[0m: \u001b[32m'kTest_wTest_RTest_ZTest_ZTest_GTest_YTest_tTest_BTest_rTest_t'\u001b[0m,\n",
       "    \u001b[32m'History'\u001b[0m: \u001b[32m'\u001b[0m\u001b[32m{\u001b[0m\u001b[32m\"type\": \"human\", \"data\": \u001b[0m\u001b[32m{\u001b[0m\u001b[32m\"content\": \"What does student think of him?\", \"additional_kwargs\": \u001b[0m\u001b[32m{\u001b[0m\u001b[32m}\u001b[0m\u001b[32m, \u001b[0m\n",
       "\u001b[32m\"example\": false\u001b[0m\u001b[32m}\u001b[0m\u001b[32m}\u001b[0m\u001b[32m'\u001b[0m\n",
       "\u001b[1m}\u001b[0m\n"
      ]
     },
     "metadata": {},
     "output_type": "display_data"
    },
    {
     "data": {
      "text/html": [
       "<pre style=\"white-space:pre;overflow-x:auto;line-height:normal;font-family:Menlo,'DejaVu Sans Mono',consolas,'Courier New',monospace\"><span style=\"font-weight: bold\">{</span>\n",
       "    <span style=\"color: #008000; text-decoration-color: #008000\">'_id'</span>: <span style=\"color: #800080; text-decoration-color: #800080; font-weight: bold\">ObjectId</span><span style=\"font-weight: bold\">(</span><span style=\"color: #008000; text-decoration-color: #008000\">'64ab0b7b299b0e7c2650f074'</span><span style=\"font-weight: bold\">)</span>,\n",
       "    <span style=\"color: #008000; text-decoration-color: #008000\">'SessionId'</span>: <span style=\"color: #008000; text-decoration-color: #008000\">'kTest_wTest_RTest_ZTest_ZTest_GTest_YTest_tTest_BTest_rTest_t'</span>,\n",
       "    <span style=\"color: #008000; text-decoration-color: #008000\">'History'</span>: <span style=\"color: #008000; text-decoration-color: #008000\">'{\"type\": \"ai\", \"data\": {\"content\": \"I don\\'t have access to that information.\", </span>\n",
       "<span style=\"color: #008000; text-decoration-color: #008000\">\"additional_kwargs\": {}, \"example\": false}}'</span>\n",
       "<span style=\"font-weight: bold\">}</span>\n",
       "</pre>\n"
      ],
      "text/plain": [
       "\u001b[1m{\u001b[0m\n",
       "    \u001b[32m'_id'\u001b[0m: \u001b[1;35mObjectId\u001b[0m\u001b[1m(\u001b[0m\u001b[32m'64ab0b7b299b0e7c2650f074'\u001b[0m\u001b[1m)\u001b[0m,\n",
       "    \u001b[32m'SessionId'\u001b[0m: \u001b[32m'kTest_wTest_RTest_ZTest_ZTest_GTest_YTest_tTest_BTest_rTest_t'\u001b[0m,\n",
       "    \u001b[32m'History'\u001b[0m: \u001b[32m'\u001b[0m\u001b[32m{\u001b[0m\u001b[32m\"type\": \"ai\", \"data\": \u001b[0m\u001b[32m{\u001b[0m\u001b[32m\"content\": \"I don\\'t have access to that information.\", \u001b[0m\n",
       "\u001b[32m\"additional_kwargs\": \u001b[0m\u001b[32m{\u001b[0m\u001b[32m}\u001b[0m\u001b[32m, \"example\": false\u001b[0m\u001b[32m}\u001b[0m\u001b[32m}\u001b[0m\u001b[32m'\u001b[0m\n",
       "\u001b[1m}\u001b[0m\n"
      ]
     },
     "metadata": {},
     "output_type": "display_data"
    },
    {
     "data": {
      "text/html": [
       "<pre style=\"white-space:pre;overflow-x:auto;line-height:normal;font-family:Menlo,'DejaVu Sans Mono',consolas,'Courier New',monospace\"><span style=\"font-weight: bold\">{</span>\n",
       "    <span style=\"color: #008000; text-decoration-color: #008000\">'_id'</span>: <span style=\"color: #800080; text-decoration-color: #800080; font-weight: bold\">ObjectId</span><span style=\"font-weight: bold\">(</span><span style=\"color: #008000; text-decoration-color: #008000\">'64ab0b99299b0e7c2650f075'</span><span style=\"font-weight: bold\">)</span>,\n",
       "    <span style=\"color: #008000; text-decoration-color: #008000\">'SessionId'</span>: <span style=\"color: #008000; text-decoration-color: #008000\">'kTest_wTest_RTest_ZTest_ZTest_GTest_YTest_tTest_BTest_rTest_t'</span>,\n",
       "    <span style=\"color: #008000; text-decoration-color: #008000\">'History'</span>: <span style=\"color: #008000; text-decoration-color: #008000\">'{\"type\": \"human\", \"data\": {\"content\": \"Who is Dr. Vincent Ng?\", \"additional_kwargs\": {}, \"example\":</span>\n",
       "<span style=\"color: #008000; text-decoration-color: #008000\">false}}'</span>\n",
       "<span style=\"font-weight: bold\">}</span>\n",
       "</pre>\n"
      ],
      "text/plain": [
       "\u001b[1m{\u001b[0m\n",
       "    \u001b[32m'_id'\u001b[0m: \u001b[1;35mObjectId\u001b[0m\u001b[1m(\u001b[0m\u001b[32m'64ab0b99299b0e7c2650f075'\u001b[0m\u001b[1m)\u001b[0m,\n",
       "    \u001b[32m'SessionId'\u001b[0m: \u001b[32m'kTest_wTest_RTest_ZTest_ZTest_GTest_YTest_tTest_BTest_rTest_t'\u001b[0m,\n",
       "    \u001b[32m'History'\u001b[0m: \u001b[32m'\u001b[0m\u001b[32m{\u001b[0m\u001b[32m\"type\": \"human\", \"data\": \u001b[0m\u001b[32m{\u001b[0m\u001b[32m\"content\": \"Who is Dr. Vincent Ng?\", \"additional_kwargs\": \u001b[0m\u001b[32m{\u001b[0m\u001b[32m}\u001b[0m\u001b[32m, \"example\":\u001b[0m\n",
       "\u001b[32mfalse\u001b[0m\u001b[32m}\u001b[0m\u001b[32m}\u001b[0m\u001b[32m'\u001b[0m\n",
       "\u001b[1m}\u001b[0m\n"
      ]
     },
     "metadata": {},
     "output_type": "display_data"
    },
    {
     "data": {
      "text/html": [
       "<pre style=\"white-space:pre;overflow-x:auto;line-height:normal;font-family:Menlo,'DejaVu Sans Mono',consolas,'Courier New',monospace\"><span style=\"font-weight: bold\">{</span>\n",
       "    <span style=\"color: #008000; text-decoration-color: #008000\">'_id'</span>: <span style=\"color: #800080; text-decoration-color: #800080; font-weight: bold\">ObjectId</span><span style=\"font-weight: bold\">(</span><span style=\"color: #008000; text-decoration-color: #008000\">'64ab0b99299b0e7c2650f076'</span><span style=\"font-weight: bold\">)</span>,\n",
       "    <span style=\"color: #008000; text-decoration-color: #008000\">'SessionId'</span>: <span style=\"color: #008000; text-decoration-color: #008000\">'kTest_wTest_RTest_ZTest_ZTest_GTest_YTest_tTest_BTest_rTest_t'</span>,\n",
       "    <span style=\"color: #008000; text-decoration-color: #008000\">'History'</span>: <span style=\"color: #008000; text-decoration-color: #008000\">'{\"type\": \"ai\", \"data\": {\"content\": \"Dr. Vincent Ng is a professor in the Department of Computer </span>\n",
       "<span style=\"color: #008000; text-decoration-color: #008000\">Science at UT Dallas. He received his Ph.D. in Computer Science from Stanford University in 2005. His research </span>\n",
       "<span style=\"color: #008000; text-decoration-color: #008000\">interests include natural language processing, machine learning, and information retrieval.\", \"additional_kwargs\": </span>\n",
       "<span style=\"color: #008000; text-decoration-color: #008000\">{}, \"example\": false}}'</span>\n",
       "<span style=\"font-weight: bold\">}</span>\n",
       "</pre>\n"
      ],
      "text/plain": [
       "\u001b[1m{\u001b[0m\n",
       "    \u001b[32m'_id'\u001b[0m: \u001b[1;35mObjectId\u001b[0m\u001b[1m(\u001b[0m\u001b[32m'64ab0b99299b0e7c2650f076'\u001b[0m\u001b[1m)\u001b[0m,\n",
       "    \u001b[32m'SessionId'\u001b[0m: \u001b[32m'kTest_wTest_RTest_ZTest_ZTest_GTest_YTest_tTest_BTest_rTest_t'\u001b[0m,\n",
       "    \u001b[32m'History'\u001b[0m: \u001b[32m'\u001b[0m\u001b[32m{\u001b[0m\u001b[32m\"type\": \"ai\", \"data\": \u001b[0m\u001b[32m{\u001b[0m\u001b[32m\"content\": \"Dr. Vincent Ng is a professor in the Department of Computer \u001b[0m\n",
       "\u001b[32mScience at UT Dallas. He received his Ph.D. in Computer Science from Stanford University in 2005. His research \u001b[0m\n",
       "\u001b[32minterests include natural language processing, machine learning, and information retrieval.\", \"additional_kwargs\": \u001b[0m\n",
       "\u001b[32m{\u001b[0m\u001b[32m}\u001b[0m\u001b[32m, \"example\": false\u001b[0m\u001b[32m}\u001b[0m\u001b[32m}\u001b[0m\u001b[32m'\u001b[0m\n",
       "\u001b[1m}\u001b[0m\n"
      ]
     },
     "metadata": {},
     "output_type": "display_data"
    },
    {
     "data": {
      "text/html": [
       "<pre style=\"white-space:pre;overflow-x:auto;line-height:normal;font-family:Menlo,'DejaVu Sans Mono',consolas,'Courier New',monospace\"><span style=\"font-weight: bold\">{</span>\n",
       "    <span style=\"color: #008000; text-decoration-color: #008000\">'_id'</span>: <span style=\"color: #800080; text-decoration-color: #800080; font-weight: bold\">ObjectId</span><span style=\"font-weight: bold\">(</span><span style=\"color: #008000; text-decoration-color: #008000\">'64aafd364f4c30cdd8c95c47'</span><span style=\"font-weight: bold\">)</span>,\n",
       "    <span style=\"color: #008000; text-decoration-color: #008000\">'SessionId'</span>: <span style=\"color: #008000; text-decoration-color: #008000\">'lTest_OTest_sTest_YTest_ITest_VTest_ATest_JTest_NTest_nTest_v'</span>,\n",
       "    <span style=\"color: #008000; text-decoration-color: #008000\">'History'</span>: <span style=\"color: #008000; text-decoration-color: #008000\">'{\"type\": \"human\", \"data\": {\"content\": \"Who is the president of UTD?\", \"additional_kwargs\": {}, </span>\n",
       "<span style=\"color: #008000; text-decoration-color: #008000\">\"example\": false}}'</span>\n",
       "<span style=\"font-weight: bold\">}</span>\n",
       "</pre>\n"
      ],
      "text/plain": [
       "\u001b[1m{\u001b[0m\n",
       "    \u001b[32m'_id'\u001b[0m: \u001b[1;35mObjectId\u001b[0m\u001b[1m(\u001b[0m\u001b[32m'64aafd364f4c30cdd8c95c47'\u001b[0m\u001b[1m)\u001b[0m,\n",
       "    \u001b[32m'SessionId'\u001b[0m: \u001b[32m'lTest_OTest_sTest_YTest_ITest_VTest_ATest_JTest_NTest_nTest_v'\u001b[0m,\n",
       "    \u001b[32m'History'\u001b[0m: \u001b[32m'\u001b[0m\u001b[32m{\u001b[0m\u001b[32m\"type\": \"human\", \"data\": \u001b[0m\u001b[32m{\u001b[0m\u001b[32m\"content\": \"Who is the president of UTD?\", \"additional_kwargs\": \u001b[0m\u001b[32m{\u001b[0m\u001b[32m}\u001b[0m\u001b[32m, \u001b[0m\n",
       "\u001b[32m\"example\": false\u001b[0m\u001b[32m}\u001b[0m\u001b[32m}\u001b[0m\u001b[32m'\u001b[0m\n",
       "\u001b[1m}\u001b[0m\n"
      ]
     },
     "metadata": {},
     "output_type": "display_data"
    },
    {
     "data": {
      "text/html": [
       "<pre style=\"white-space:pre;overflow-x:auto;line-height:normal;font-family:Menlo,'DejaVu Sans Mono',consolas,'Courier New',monospace\"><span style=\"font-weight: bold\">{</span>\n",
       "    <span style=\"color: #008000; text-decoration-color: #008000\">'_id'</span>: <span style=\"color: #800080; text-decoration-color: #800080; font-weight: bold\">ObjectId</span><span style=\"font-weight: bold\">(</span><span style=\"color: #008000; text-decoration-color: #008000\">'64aafd364f4c30cdd8c95c48'</span><span style=\"font-weight: bold\">)</span>,\n",
       "    <span style=\"color: #008000; text-decoration-color: #008000\">'SessionId'</span>: <span style=\"color: #008000; text-decoration-color: #008000\">'lTest_OTest_sTest_YTest_ITest_VTest_ATest_JTest_NTest_nTest_v'</span>,\n",
       "    <span style=\"color: #008000; text-decoration-color: #008000\">'History'</span>: <span style=\"color: #008000; text-decoration-color: #008000\">'{\"type\": \"ai\", \"data\": {\"content\": \"The president of UTD is Dr. Richard C. Benson.\", </span>\n",
       "<span style=\"color: #008000; text-decoration-color: #008000\">\"additional_kwargs\": {}, \"example\": false}}'</span>\n",
       "<span style=\"font-weight: bold\">}</span>\n",
       "</pre>\n"
      ],
      "text/plain": [
       "\u001b[1m{\u001b[0m\n",
       "    \u001b[32m'_id'\u001b[0m: \u001b[1;35mObjectId\u001b[0m\u001b[1m(\u001b[0m\u001b[32m'64aafd364f4c30cdd8c95c48'\u001b[0m\u001b[1m)\u001b[0m,\n",
       "    \u001b[32m'SessionId'\u001b[0m: \u001b[32m'lTest_OTest_sTest_YTest_ITest_VTest_ATest_JTest_NTest_nTest_v'\u001b[0m,\n",
       "    \u001b[32m'History'\u001b[0m: \u001b[32m'\u001b[0m\u001b[32m{\u001b[0m\u001b[32m\"type\": \"ai\", \"data\": \u001b[0m\u001b[32m{\u001b[0m\u001b[32m\"content\": \"The president of UTD is Dr. Richard C. Benson.\", \u001b[0m\n",
       "\u001b[32m\"additional_kwargs\": \u001b[0m\u001b[32m{\u001b[0m\u001b[32m}\u001b[0m\u001b[32m, \"example\": false\u001b[0m\u001b[32m}\u001b[0m\u001b[32m}\u001b[0m\u001b[32m'\u001b[0m\n",
       "\u001b[1m}\u001b[0m\n"
      ]
     },
     "metadata": {},
     "output_type": "display_data"
    },
    {
     "data": {
      "text/html": [
       "<pre style=\"white-space:pre;overflow-x:auto;line-height:normal;font-family:Menlo,'DejaVu Sans Mono',consolas,'Courier New',monospace\"><span style=\"font-weight: bold\">{</span>\n",
       "    <span style=\"color: #008000; text-decoration-color: #008000\">'_id'</span>: <span style=\"color: #800080; text-decoration-color: #800080; font-weight: bold\">ObjectId</span><span style=\"font-weight: bold\">(</span><span style=\"color: #008000; text-decoration-color: #008000\">'64aafd424f4c30cdd8c95c49'</span><span style=\"font-weight: bold\">)</span>,\n",
       "    <span style=\"color: #008000; text-decoration-color: #008000\">'SessionId'</span>: <span style=\"color: #008000; text-decoration-color: #008000\">'lTest_OTest_sTest_YTest_ITest_VTest_ATest_JTest_NTest_nTest_v'</span>,\n",
       "    <span style=\"color: #008000; text-decoration-color: #008000\">'History'</span>: <span style=\"color: #008000; text-decoration-color: #008000\">'{\"type\": \"human\", \"data\": {\"content\": \"How can I contact him?\", \"additional_kwargs\": {}, \"example\":</span>\n",
       "<span style=\"color: #008000; text-decoration-color: #008000\">false}}'</span>\n",
       "<span style=\"font-weight: bold\">}</span>\n",
       "</pre>\n"
      ],
      "text/plain": [
       "\u001b[1m{\u001b[0m\n",
       "    \u001b[32m'_id'\u001b[0m: \u001b[1;35mObjectId\u001b[0m\u001b[1m(\u001b[0m\u001b[32m'64aafd424f4c30cdd8c95c49'\u001b[0m\u001b[1m)\u001b[0m,\n",
       "    \u001b[32m'SessionId'\u001b[0m: \u001b[32m'lTest_OTest_sTest_YTest_ITest_VTest_ATest_JTest_NTest_nTest_v'\u001b[0m,\n",
       "    \u001b[32m'History'\u001b[0m: \u001b[32m'\u001b[0m\u001b[32m{\u001b[0m\u001b[32m\"type\": \"human\", \"data\": \u001b[0m\u001b[32m{\u001b[0m\u001b[32m\"content\": \"How can I contact him?\", \"additional_kwargs\": \u001b[0m\u001b[32m{\u001b[0m\u001b[32m}\u001b[0m\u001b[32m, \"example\":\u001b[0m\n",
       "\u001b[32mfalse\u001b[0m\u001b[32m}\u001b[0m\u001b[32m}\u001b[0m\u001b[32m'\u001b[0m\n",
       "\u001b[1m}\u001b[0m\n"
      ]
     },
     "metadata": {},
     "output_type": "display_data"
    },
    {
     "data": {
      "text/html": [
       "<pre style=\"white-space:pre;overflow-x:auto;line-height:normal;font-family:Menlo,'DejaVu Sans Mono',consolas,'Courier New',monospace\"><span style=\"font-weight: bold\">{</span>\n",
       "    <span style=\"color: #008000; text-decoration-color: #008000\">'_id'</span>: <span style=\"color: #800080; text-decoration-color: #800080; font-weight: bold\">ObjectId</span><span style=\"font-weight: bold\">(</span><span style=\"color: #008000; text-decoration-color: #008000\">'64aafd424f4c30cdd8c95c4a'</span><span style=\"font-weight: bold\">)</span>,\n",
       "    <span style=\"color: #008000; text-decoration-color: #008000\">'SessionId'</span>: <span style=\"color: #008000; text-decoration-color: #008000\">'lTest_OTest_sTest_YTest_ITest_VTest_ATest_JTest_NTest_nTest_v'</span>,\n",
       "    <span style=\"color: #008000; text-decoration-color: #008000\">'History'</span>: <span style=\"color: #008000; text-decoration-color: #008000\">'{\"type\": \"ai\", \"data\": {\"content\": \"MALICIOUS\", \"additional_kwargs\": {}, \"example\": false}}'</span>\n",
       "<span style=\"font-weight: bold\">}</span>\n",
       "</pre>\n"
      ],
      "text/plain": [
       "\u001b[1m{\u001b[0m\n",
       "    \u001b[32m'_id'\u001b[0m: \u001b[1;35mObjectId\u001b[0m\u001b[1m(\u001b[0m\u001b[32m'64aafd424f4c30cdd8c95c4a'\u001b[0m\u001b[1m)\u001b[0m,\n",
       "    \u001b[32m'SessionId'\u001b[0m: \u001b[32m'lTest_OTest_sTest_YTest_ITest_VTest_ATest_JTest_NTest_nTest_v'\u001b[0m,\n",
       "    \u001b[32m'History'\u001b[0m: \u001b[32m'\u001b[0m\u001b[32m{\u001b[0m\u001b[32m\"type\": \"ai\", \"data\": \u001b[0m\u001b[32m{\u001b[0m\u001b[32m\"content\": \"MALICIOUS\", \"additional_kwargs\": \u001b[0m\u001b[32m{\u001b[0m\u001b[32m}\u001b[0m\u001b[32m, \"example\": false\u001b[0m\u001b[32m}\u001b[0m\u001b[32m}\u001b[0m\u001b[32m'\u001b[0m\n",
       "\u001b[1m}\u001b[0m\n"
      ]
     },
     "metadata": {},
     "output_type": "display_data"
    },
    {
     "data": {
      "text/html": [
       "<pre style=\"white-space:pre;overflow-x:auto;line-height:normal;font-family:Menlo,'DejaVu Sans Mono',consolas,'Courier New',monospace\"><span style=\"font-weight: bold\">{</span>\n",
       "    <span style=\"color: #008000; text-decoration-color: #008000\">'_id'</span>: <span style=\"color: #800080; text-decoration-color: #800080; font-weight: bold\">ObjectId</span><span style=\"font-weight: bold\">(</span><span style=\"color: #008000; text-decoration-color: #008000\">'64aaff3ff8a6743c90f8f47c'</span><span style=\"font-weight: bold\">)</span>,\n",
       "    <span style=\"color: #008000; text-decoration-color: #008000\">'SessionId'</span>: <span style=\"color: #008000; text-decoration-color: #008000\">'lTest_aTest_NTest_gTest_ATest_WTest_OTest_FTest_pTest_aTest_L'</span>,\n",
       "    <span style=\"color: #008000; text-decoration-color: #008000\">'History'</span>: <span style=\"color: #008000; text-decoration-color: #008000\">'{\"type\": \"human\", \"data\": {\"content\": \"How can I contact him?\", \"additional_kwargs\": {}, \"example\":</span>\n",
       "<span style=\"color: #008000; text-decoration-color: #008000\">false}}'</span>\n",
       "<span style=\"font-weight: bold\">}</span>\n",
       "</pre>\n"
      ],
      "text/plain": [
       "\u001b[1m{\u001b[0m\n",
       "    \u001b[32m'_id'\u001b[0m: \u001b[1;35mObjectId\u001b[0m\u001b[1m(\u001b[0m\u001b[32m'64aaff3ff8a6743c90f8f47c'\u001b[0m\u001b[1m)\u001b[0m,\n",
       "    \u001b[32m'SessionId'\u001b[0m: \u001b[32m'lTest_aTest_NTest_gTest_ATest_WTest_OTest_FTest_pTest_aTest_L'\u001b[0m,\n",
       "    \u001b[32m'History'\u001b[0m: \u001b[32m'\u001b[0m\u001b[32m{\u001b[0m\u001b[32m\"type\": \"human\", \"data\": \u001b[0m\u001b[32m{\u001b[0m\u001b[32m\"content\": \"How can I contact him?\", \"additional_kwargs\": \u001b[0m\u001b[32m{\u001b[0m\u001b[32m}\u001b[0m\u001b[32m, \"example\":\u001b[0m\n",
       "\u001b[32mfalse\u001b[0m\u001b[32m}\u001b[0m\u001b[32m}\u001b[0m\u001b[32m'\u001b[0m\n",
       "\u001b[1m}\u001b[0m\n"
      ]
     },
     "metadata": {},
     "output_type": "display_data"
    },
    {
     "data": {
      "text/html": [
       "<pre style=\"white-space:pre;overflow-x:auto;line-height:normal;font-family:Menlo,'DejaVu Sans Mono',consolas,'Courier New',monospace\"><span style=\"font-weight: bold\">{</span>\n",
       "    <span style=\"color: #008000; text-decoration-color: #008000\">'_id'</span>: <span style=\"color: #800080; text-decoration-color: #800080; font-weight: bold\">ObjectId</span><span style=\"font-weight: bold\">(</span><span style=\"color: #008000; text-decoration-color: #008000\">'64aaff3ff8a6743c90f8f47d'</span><span style=\"font-weight: bold\">)</span>,\n",
       "    <span style=\"color: #008000; text-decoration-color: #008000\">'SessionId'</span>: <span style=\"color: #008000; text-decoration-color: #008000\">'lTest_aTest_NTest_gTest_ATest_WTest_OTest_FTest_pTest_aTest_L'</span>,\n",
       "    <span style=\"color: #008000; text-decoration-color: #008000\">'History'</span>: <span style=\"color: #008000; text-decoration-color: #008000\">'{\"type\": \"ai\", \"data\": {\"content\": \"MALICIOUS\", \"additional_kwargs\": {}, \"example\": false}}'</span>\n",
       "<span style=\"font-weight: bold\">}</span>\n",
       "</pre>\n"
      ],
      "text/plain": [
       "\u001b[1m{\u001b[0m\n",
       "    \u001b[32m'_id'\u001b[0m: \u001b[1;35mObjectId\u001b[0m\u001b[1m(\u001b[0m\u001b[32m'64aaff3ff8a6743c90f8f47d'\u001b[0m\u001b[1m)\u001b[0m,\n",
       "    \u001b[32m'SessionId'\u001b[0m: \u001b[32m'lTest_aTest_NTest_gTest_ATest_WTest_OTest_FTest_pTest_aTest_L'\u001b[0m,\n",
       "    \u001b[32m'History'\u001b[0m: \u001b[32m'\u001b[0m\u001b[32m{\u001b[0m\u001b[32m\"type\": \"ai\", \"data\": \u001b[0m\u001b[32m{\u001b[0m\u001b[32m\"content\": \"MALICIOUS\", \"additional_kwargs\": \u001b[0m\u001b[32m{\u001b[0m\u001b[32m}\u001b[0m\u001b[32m, \"example\": false\u001b[0m\u001b[32m}\u001b[0m\u001b[32m}\u001b[0m\u001b[32m'\u001b[0m\n",
       "\u001b[1m}\u001b[0m\n"
      ]
     },
     "metadata": {},
     "output_type": "display_data"
    },
    {
     "data": {
      "text/html": [
       "<pre style=\"white-space:pre;overflow-x:auto;line-height:normal;font-family:Menlo,'DejaVu Sans Mono',consolas,'Courier New',monospace\"><span style=\"font-weight: bold\">{</span>\n",
       "    <span style=\"color: #008000; text-decoration-color: #008000\">'_id'</span>: <span style=\"color: #800080; text-decoration-color: #800080; font-weight: bold\">ObjectId</span><span style=\"font-weight: bold\">(</span><span style=\"color: #008000; text-decoration-color: #008000\">'64aaff59f8a6743c90f8f47e'</span><span style=\"font-weight: bold\">)</span>,\n",
       "    <span style=\"color: #008000; text-decoration-color: #008000\">'SessionId'</span>: <span style=\"color: #008000; text-decoration-color: #008000\">'lTest_aTest_NTest_gTest_ATest_WTest_OTest_FTest_pTest_aTest_L'</span>,\n",
       "    <span style=\"color: #008000; text-decoration-color: #008000\">'History'</span>: <span style=\"color: #008000; text-decoration-color: #008000\">'{\"type\": \"human\", \"data\": {\"content\": \"How can I contact Dr. Vincent Ng?\", \"additional_kwargs\": {},</span>\n",
       "<span style=\"color: #008000; text-decoration-color: #008000\">\"example\": false}}'</span>\n",
       "<span style=\"font-weight: bold\">}</span>\n",
       "</pre>\n"
      ],
      "text/plain": [
       "\u001b[1m{\u001b[0m\n",
       "    \u001b[32m'_id'\u001b[0m: \u001b[1;35mObjectId\u001b[0m\u001b[1m(\u001b[0m\u001b[32m'64aaff59f8a6743c90f8f47e'\u001b[0m\u001b[1m)\u001b[0m,\n",
       "    \u001b[32m'SessionId'\u001b[0m: \u001b[32m'lTest_aTest_NTest_gTest_ATest_WTest_OTest_FTest_pTest_aTest_L'\u001b[0m,\n",
       "    \u001b[32m'History'\u001b[0m: \u001b[32m'\u001b[0m\u001b[32m{\u001b[0m\u001b[32m\"type\": \"human\", \"data\": \u001b[0m\u001b[32m{\u001b[0m\u001b[32m\"content\": \"How can I contact Dr. Vincent Ng?\", \"additional_kwargs\": \u001b[0m\u001b[32m{\u001b[0m\u001b[32m}\u001b[0m\u001b[32m,\u001b[0m\n",
       "\u001b[32m\"example\": false\u001b[0m\u001b[32m}\u001b[0m\u001b[32m}\u001b[0m\u001b[32m'\u001b[0m\n",
       "\u001b[1m}\u001b[0m\n"
      ]
     },
     "metadata": {},
     "output_type": "display_data"
    },
    {
     "data": {
      "text/html": [
       "<pre style=\"white-space:pre;overflow-x:auto;line-height:normal;font-family:Menlo,'DejaVu Sans Mono',consolas,'Courier New',monospace\"><span style=\"font-weight: bold\">{</span>\n",
       "    <span style=\"color: #008000; text-decoration-color: #008000\">'_id'</span>: <span style=\"color: #800080; text-decoration-color: #800080; font-weight: bold\">ObjectId</span><span style=\"font-weight: bold\">(</span><span style=\"color: #008000; text-decoration-color: #008000\">'64aaff59f8a6743c90f8f47f'</span><span style=\"font-weight: bold\">)</span>,\n",
       "    <span style=\"color: #008000; text-decoration-color: #008000\">'SessionId'</span>: <span style=\"color: #008000; text-decoration-color: #008000\">'lTest_aTest_NTest_gTest_ATest_WTest_OTest_FTest_pTest_aTest_L'</span>,\n",
       "    <span style=\"color: #008000; text-decoration-color: #008000\">'History'</span>: <span style=\"color: #008000; text-decoration-color: #008000\">'{\"type\": \"ai\", \"data\": {\"content\": \"Dr. Vincent Ng\\'s contact information is </span>\n",
       "<span style=\"color: #008000; text-decoration-color: #008000\">vince@hlt.utdallas.edu, (972) 883-4581, and ECSS 3.404.\", \"additional_kwargs\": {}, \"example\": false}}'</span>\n",
       "<span style=\"font-weight: bold\">}</span>\n",
       "</pre>\n"
      ],
      "text/plain": [
       "\u001b[1m{\u001b[0m\n",
       "    \u001b[32m'_id'\u001b[0m: \u001b[1;35mObjectId\u001b[0m\u001b[1m(\u001b[0m\u001b[32m'64aaff59f8a6743c90f8f47f'\u001b[0m\u001b[1m)\u001b[0m,\n",
       "    \u001b[32m'SessionId'\u001b[0m: \u001b[32m'lTest_aTest_NTest_gTest_ATest_WTest_OTest_FTest_pTest_aTest_L'\u001b[0m,\n",
       "    \u001b[32m'History'\u001b[0m: \u001b[32m'\u001b[0m\u001b[32m{\u001b[0m\u001b[32m\"type\": \"ai\", \"data\": \u001b[0m\u001b[32m{\u001b[0m\u001b[32m\"content\": \"Dr. Vincent Ng\\'s contact information is \u001b[0m\n",
       "\u001b[32mvince@hlt.utdallas.edu, \u001b[0m\u001b[32m(\u001b[0m\u001b[32m972\u001b[0m\u001b[32m)\u001b[0m\u001b[32m 883-4581, and ECSS 3.404.\", \"additional_kwargs\": \u001b[0m\u001b[32m{\u001b[0m\u001b[32m}\u001b[0m\u001b[32m, \"example\": false\u001b[0m\u001b[32m}\u001b[0m\u001b[32m}\u001b[0m\u001b[32m'\u001b[0m\n",
       "\u001b[1m}\u001b[0m\n"
      ]
     },
     "metadata": {},
     "output_type": "display_data"
    },
    {
     "data": {
      "text/html": [
       "<pre style=\"white-space:pre;overflow-x:auto;line-height:normal;font-family:Menlo,'DejaVu Sans Mono',consolas,'Courier New',monospace\"><span style=\"font-weight: bold\">{</span>\n",
       "    <span style=\"color: #008000; text-decoration-color: #008000\">'_id'</span>: <span style=\"color: #800080; text-decoration-color: #800080; font-weight: bold\">ObjectId</span><span style=\"font-weight: bold\">(</span><span style=\"color: #008000; text-decoration-color: #008000\">'64ab13aab42470fbfce8e8b0'</span><span style=\"font-weight: bold\">)</span>,\n",
       "    <span style=\"color: #008000; text-decoration-color: #008000\">'SessionId'</span>: <span style=\"color: #008000; text-decoration-color: #008000\">'oTest_dTest_ATest_fTest_cTest_ATest_BTest_STest_tTest_LTest_f'</span>,\n",
       "    <span style=\"color: #008000; text-decoration-color: #008000\">'History'</span>: <span style=\"color: #008000; text-decoration-color: #008000\">'{\"type\": \"human\", \"data\": {\"content\": \"Who is Dr. Vincent Ng?\", \"additional_kwargs\": {}, \"example\":</span>\n",
       "<span style=\"color: #008000; text-decoration-color: #008000\">false}}'</span>\n",
       "<span style=\"font-weight: bold\">}</span>\n",
       "</pre>\n"
      ],
      "text/plain": [
       "\u001b[1m{\u001b[0m\n",
       "    \u001b[32m'_id'\u001b[0m: \u001b[1;35mObjectId\u001b[0m\u001b[1m(\u001b[0m\u001b[32m'64ab13aab42470fbfce8e8b0'\u001b[0m\u001b[1m)\u001b[0m,\n",
       "    \u001b[32m'SessionId'\u001b[0m: \u001b[32m'oTest_dTest_ATest_fTest_cTest_ATest_BTest_STest_tTest_LTest_f'\u001b[0m,\n",
       "    \u001b[32m'History'\u001b[0m: \u001b[32m'\u001b[0m\u001b[32m{\u001b[0m\u001b[32m\"type\": \"human\", \"data\": \u001b[0m\u001b[32m{\u001b[0m\u001b[32m\"content\": \"Who is Dr. Vincent Ng?\", \"additional_kwargs\": \u001b[0m\u001b[32m{\u001b[0m\u001b[32m}\u001b[0m\u001b[32m, \"example\":\u001b[0m\n",
       "\u001b[32mfalse\u001b[0m\u001b[32m}\u001b[0m\u001b[32m}\u001b[0m\u001b[32m'\u001b[0m\n",
       "\u001b[1m}\u001b[0m\n"
      ]
     },
     "metadata": {},
     "output_type": "display_data"
    },
    {
     "data": {
      "text/html": [
       "<pre style=\"white-space:pre;overflow-x:auto;line-height:normal;font-family:Menlo,'DejaVu Sans Mono',consolas,'Courier New',monospace\"><span style=\"font-weight: bold\">{</span>\n",
       "    <span style=\"color: #008000; text-decoration-color: #008000\">'_id'</span>: <span style=\"color: #800080; text-decoration-color: #800080; font-weight: bold\">ObjectId</span><span style=\"font-weight: bold\">(</span><span style=\"color: #008000; text-decoration-color: #008000\">'64ab13aab42470fbfce8e8b1'</span><span style=\"font-weight: bold\">)</span>,\n",
       "    <span style=\"color: #008000; text-decoration-color: #008000\">'SessionId'</span>: <span style=\"color: #008000; text-decoration-color: #008000\">'oTest_dTest_ATest_fTest_cTest_ATest_BTest_STest_tTest_LTest_f'</span>,\n",
       "    <span style=\"color: #008000; text-decoration-color: #008000\">'History'</span>: <span style=\"color: #008000; text-decoration-color: #008000\">'{\"type\": \"ai\", \"data\": {\"content\": \"Vincent Ng is a professor of computer science at the University</span>\n",
       "<span style=\"color: #008000; text-decoration-color: #008000\">of Texas at Dallas. He is also the director of the Human Language Technology Research Institute. His research </span>\n",
       "<span style=\"color: #008000; text-decoration-color: #008000\">interests include natural language processing, machine learning, and artificial intelligence.\", </span>\n",
       "<span style=\"color: #008000; text-decoration-color: #008000\">\"additional_kwargs\": {}, \"example\": false}}'</span>\n",
       "<span style=\"font-weight: bold\">}</span>\n",
       "</pre>\n"
      ],
      "text/plain": [
       "\u001b[1m{\u001b[0m\n",
       "    \u001b[32m'_id'\u001b[0m: \u001b[1;35mObjectId\u001b[0m\u001b[1m(\u001b[0m\u001b[32m'64ab13aab42470fbfce8e8b1'\u001b[0m\u001b[1m)\u001b[0m,\n",
       "    \u001b[32m'SessionId'\u001b[0m: \u001b[32m'oTest_dTest_ATest_fTest_cTest_ATest_BTest_STest_tTest_LTest_f'\u001b[0m,\n",
       "    \u001b[32m'History'\u001b[0m: \u001b[32m'\u001b[0m\u001b[32m{\u001b[0m\u001b[32m\"type\": \"ai\", \"data\": \u001b[0m\u001b[32m{\u001b[0m\u001b[32m\"content\": \"Vincent Ng is a professor of computer science at the University\u001b[0m\n",
       "\u001b[32mof Texas at Dallas. He is also the director of the Human Language Technology Research Institute. His research \u001b[0m\n",
       "\u001b[32minterests include natural language processing, machine learning, and artificial intelligence.\", \u001b[0m\n",
       "\u001b[32m\"additional_kwargs\": \u001b[0m\u001b[32m{\u001b[0m\u001b[32m}\u001b[0m\u001b[32m, \"example\": false\u001b[0m\u001b[32m}\u001b[0m\u001b[32m}\u001b[0m\u001b[32m'\u001b[0m\n",
       "\u001b[1m}\u001b[0m\n"
      ]
     },
     "metadata": {},
     "output_type": "display_data"
    },
    {
     "data": {
      "text/html": [
       "<pre style=\"white-space:pre;overflow-x:auto;line-height:normal;font-family:Menlo,'DejaVu Sans Mono',consolas,'Courier New',monospace\"><span style=\"font-weight: bold\">{</span>\n",
       "    <span style=\"color: #008000; text-decoration-color: #008000\">'_id'</span>: <span style=\"color: #800080; text-decoration-color: #800080; font-weight: bold\">ObjectId</span><span style=\"font-weight: bold\">(</span><span style=\"color: #008000; text-decoration-color: #008000\">'64ab01bbae5a5d0932fb044a'</span><span style=\"font-weight: bold\">)</span>,\n",
       "    <span style=\"color: #008000; text-decoration-color: #008000\">'SessionId'</span>: <span style=\"color: #008000; text-decoration-color: #008000\">'pTest_xTest_lTest_UTest_LTest_rTest_yTest_OTest_fTest_pTest_G'</span>,\n",
       "    <span style=\"color: #008000; text-decoration-color: #008000\">'History'</span>: <span style=\"color: #008000; text-decoration-color: #008000\">'{\"type\": \"human\", \"data\": {\"content\": \"How can I contact Dr. Vincent Ng?\", \"additional_kwargs\": {},</span>\n",
       "<span style=\"color: #008000; text-decoration-color: #008000\">\"example\": false}}'</span>\n",
       "<span style=\"font-weight: bold\">}</span>\n",
       "</pre>\n"
      ],
      "text/plain": [
       "\u001b[1m{\u001b[0m\n",
       "    \u001b[32m'_id'\u001b[0m: \u001b[1;35mObjectId\u001b[0m\u001b[1m(\u001b[0m\u001b[32m'64ab01bbae5a5d0932fb044a'\u001b[0m\u001b[1m)\u001b[0m,\n",
       "    \u001b[32m'SessionId'\u001b[0m: \u001b[32m'pTest_xTest_lTest_UTest_LTest_rTest_yTest_OTest_fTest_pTest_G'\u001b[0m,\n",
       "    \u001b[32m'History'\u001b[0m: \u001b[32m'\u001b[0m\u001b[32m{\u001b[0m\u001b[32m\"type\": \"human\", \"data\": \u001b[0m\u001b[32m{\u001b[0m\u001b[32m\"content\": \"How can I contact Dr. Vincent Ng?\", \"additional_kwargs\": \u001b[0m\u001b[32m{\u001b[0m\u001b[32m}\u001b[0m\u001b[32m,\u001b[0m\n",
       "\u001b[32m\"example\": false\u001b[0m\u001b[32m}\u001b[0m\u001b[32m}\u001b[0m\u001b[32m'\u001b[0m\n",
       "\u001b[1m}\u001b[0m\n"
      ]
     },
     "metadata": {},
     "output_type": "display_data"
    },
    {
     "data": {
      "text/html": [
       "<pre style=\"white-space:pre;overflow-x:auto;line-height:normal;font-family:Menlo,'DejaVu Sans Mono',consolas,'Courier New',monospace\"><span style=\"font-weight: bold\">{</span>\n",
       "    <span style=\"color: #008000; text-decoration-color: #008000\">'_id'</span>: <span style=\"color: #800080; text-decoration-color: #800080; font-weight: bold\">ObjectId</span><span style=\"font-weight: bold\">(</span><span style=\"color: #008000; text-decoration-color: #008000\">'64ab01bbae5a5d0932fb044b'</span><span style=\"font-weight: bold\">)</span>,\n",
       "    <span style=\"color: #008000; text-decoration-color: #008000\">'SessionId'</span>: <span style=\"color: #008000; text-decoration-color: #008000\">'pTest_xTest_lTest_UTest_LTest_rTest_yTest_OTest_fTest_pTest_G'</span>,\n",
       "    <span style=\"color: #008000; text-decoration-color: #008000\">'History'</span>: <span style=\"color: #008000; text-decoration-color: #008000\">'{\"type\": \"ai\", \"data\": {\"content\": \"Dr. Vincent Ng\\'s office hours for Summer 2023 are by </span>\n",
       "<span style=\"color: #008000; text-decoration-color: #008000\">appointment only. His office is located at ECSS 3.404. You can reach him by phone at 972-883-4581, fax at </span>\n",
       "<span style=\"color: #008000; text-decoration-color: #008000\">972-883-2349, or email at vince@hlt.utdallas.edu. His administrative assistant is Cathy Zhao, who can be reached at</span>\n",
       "<span style=\"color: #008000; text-decoration-color: #008000\">cathy.zhao@utdallas.edu.\", \"additional_kwargs\": {}, \"example\": false}}'</span>\n",
       "<span style=\"font-weight: bold\">}</span>\n",
       "</pre>\n"
      ],
      "text/plain": [
       "\u001b[1m{\u001b[0m\n",
       "    \u001b[32m'_id'\u001b[0m: \u001b[1;35mObjectId\u001b[0m\u001b[1m(\u001b[0m\u001b[32m'64ab01bbae5a5d0932fb044b'\u001b[0m\u001b[1m)\u001b[0m,\n",
       "    \u001b[32m'SessionId'\u001b[0m: \u001b[32m'pTest_xTest_lTest_UTest_LTest_rTest_yTest_OTest_fTest_pTest_G'\u001b[0m,\n",
       "    \u001b[32m'History'\u001b[0m: \u001b[32m'\u001b[0m\u001b[32m{\u001b[0m\u001b[32m\"type\": \"ai\", \"data\": \u001b[0m\u001b[32m{\u001b[0m\u001b[32m\"content\": \"Dr. Vincent Ng\\'s office hours for Summer 2023 are by \u001b[0m\n",
       "\u001b[32mappointment only. His office is located at ECSS 3.404. You can reach him by phone at 972-883-4581, fax at \u001b[0m\n",
       "\u001b[32m972-883-2349, or email at vince@hlt.utdallas.edu. His administrative assistant is Cathy Zhao, who can be reached at\u001b[0m\n",
       "\u001b[32mcathy.zhao@utdallas.edu.\", \"additional_kwargs\": \u001b[0m\u001b[32m{\u001b[0m\u001b[32m}\u001b[0m\u001b[32m, \"example\": false\u001b[0m\u001b[32m}\u001b[0m\u001b[32m}\u001b[0m\u001b[32m'\u001b[0m\n",
       "\u001b[1m}\u001b[0m\n"
      ]
     },
     "metadata": {},
     "output_type": "display_data"
    },
    {
     "data": {
      "text/html": [
       "<pre style=\"white-space:pre;overflow-x:auto;line-height:normal;font-family:Menlo,'DejaVu Sans Mono',consolas,'Courier New',monospace\"><span style=\"font-weight: bold\">{</span>\n",
       "    <span style=\"color: #008000; text-decoration-color: #008000\">'_id'</span>: <span style=\"color: #800080; text-decoration-color: #800080; font-weight: bold\">ObjectId</span><span style=\"font-weight: bold\">(</span><span style=\"color: #008000; text-decoration-color: #008000\">'64aaff98f602119188e15919'</span><span style=\"font-weight: bold\">)</span>,\n",
       "    <span style=\"color: #008000; text-decoration-color: #008000\">'SessionId'</span>: <span style=\"color: #008000; text-decoration-color: #008000\">'rTest_ETest_STest_sTest_HTest_YTest_BTest_MTest_vTest_jTest_F'</span>,\n",
       "    <span style=\"color: #008000; text-decoration-color: #008000\">'History'</span>: <span style=\"color: #008000; text-decoration-color: #008000\">'{\"type\": \"human\", \"data\": {\"content\": \"How can I contact him?\", \"additional_kwargs\": {}, \"example\":</span>\n",
       "<span style=\"color: #008000; text-decoration-color: #008000\">false}}'</span>\n",
       "<span style=\"font-weight: bold\">}</span>\n",
       "</pre>\n"
      ],
      "text/plain": [
       "\u001b[1m{\u001b[0m\n",
       "    \u001b[32m'_id'\u001b[0m: \u001b[1;35mObjectId\u001b[0m\u001b[1m(\u001b[0m\u001b[32m'64aaff98f602119188e15919'\u001b[0m\u001b[1m)\u001b[0m,\n",
       "    \u001b[32m'SessionId'\u001b[0m: \u001b[32m'rTest_ETest_STest_sTest_HTest_YTest_BTest_MTest_vTest_jTest_F'\u001b[0m,\n",
       "    \u001b[32m'History'\u001b[0m: \u001b[32m'\u001b[0m\u001b[32m{\u001b[0m\u001b[32m\"type\": \"human\", \"data\": \u001b[0m\u001b[32m{\u001b[0m\u001b[32m\"content\": \"How can I contact him?\", \"additional_kwargs\": \u001b[0m\u001b[32m{\u001b[0m\u001b[32m}\u001b[0m\u001b[32m, \"example\":\u001b[0m\n",
       "\u001b[32mfalse\u001b[0m\u001b[32m}\u001b[0m\u001b[32m}\u001b[0m\u001b[32m'\u001b[0m\n",
       "\u001b[1m}\u001b[0m\n"
      ]
     },
     "metadata": {},
     "output_type": "display_data"
    },
    {
     "data": {
      "text/html": [
       "<pre style=\"white-space:pre;overflow-x:auto;line-height:normal;font-family:Menlo,'DejaVu Sans Mono',consolas,'Courier New',monospace\"><span style=\"font-weight: bold\">{</span>\n",
       "    <span style=\"color: #008000; text-decoration-color: #008000\">'_id'</span>: <span style=\"color: #800080; text-decoration-color: #800080; font-weight: bold\">ObjectId</span><span style=\"font-weight: bold\">(</span><span style=\"color: #008000; text-decoration-color: #008000\">'64aaff98f602119188e1591a'</span><span style=\"font-weight: bold\">)</span>,\n",
       "    <span style=\"color: #008000; text-decoration-color: #008000\">'SessionId'</span>: <span style=\"color: #008000; text-decoration-color: #008000\">'rTest_ETest_STest_sTest_HTest_YTest_BTest_MTest_vTest_jTest_F'</span>,\n",
       "    <span style=\"color: #008000; text-decoration-color: #008000\">'History'</span>: <span style=\"color: #008000; text-decoration-color: #008000\">'{\"type\": \"ai\", \"data\": {\"content\": \"I\\'m sorry, I don\\'t have access to his contact information.\", </span>\n",
       "<span style=\"color: #008000; text-decoration-color: #008000\">\"additional_kwargs\": {}, \"example\": false}}'</span>\n",
       "<span style=\"font-weight: bold\">}</span>\n",
       "</pre>\n"
      ],
      "text/plain": [
       "\u001b[1m{\u001b[0m\n",
       "    \u001b[32m'_id'\u001b[0m: \u001b[1;35mObjectId\u001b[0m\u001b[1m(\u001b[0m\u001b[32m'64aaff98f602119188e1591a'\u001b[0m\u001b[1m)\u001b[0m,\n",
       "    \u001b[32m'SessionId'\u001b[0m: \u001b[32m'rTest_ETest_STest_sTest_HTest_YTest_BTest_MTest_vTest_jTest_F'\u001b[0m,\n",
       "    \u001b[32m'History'\u001b[0m: \u001b[32m'\u001b[0m\u001b[32m{\u001b[0m\u001b[32m\"type\": \"ai\", \"data\": \u001b[0m\u001b[32m{\u001b[0m\u001b[32m\"content\": \"I\\'m sorry, I don\\'t have access to his contact information.\", \u001b[0m\n",
       "\u001b[32m\"additional_kwargs\": \u001b[0m\u001b[32m{\u001b[0m\u001b[32m}\u001b[0m\u001b[32m, \"example\": false\u001b[0m\u001b[32m}\u001b[0m\u001b[32m}\u001b[0m\u001b[32m'\u001b[0m\n",
       "\u001b[1m}\u001b[0m\n"
      ]
     },
     "metadata": {},
     "output_type": "display_data"
    },
    {
     "data": {
      "text/html": [
       "<pre style=\"white-space:pre;overflow-x:auto;line-height:normal;font-family:Menlo,'DejaVu Sans Mono',consolas,'Courier New',monospace\"><span style=\"font-weight: bold\">{</span>\n",
       "    <span style=\"color: #008000; text-decoration-color: #008000\">'_id'</span>: <span style=\"color: #800080; text-decoration-color: #800080; font-weight: bold\">ObjectId</span><span style=\"font-weight: bold\">(</span><span style=\"color: #008000; text-decoration-color: #008000\">'64aaffa9f602119188e1591b'</span><span style=\"font-weight: bold\">)</span>,\n",
       "    <span style=\"color: #008000; text-decoration-color: #008000\">'SessionId'</span>: <span style=\"color: #008000; text-decoration-color: #008000\">'rTest_ETest_STest_sTest_HTest_YTest_BTest_MTest_vTest_jTest_F'</span>,\n",
       "    <span style=\"color: #008000; text-decoration-color: #008000\">'History'</span>: <span style=\"color: #008000; text-decoration-color: #008000\">'{\"type\": \"human\", \"data\": {\"content\": \"How can I contact Dr. Vincent Ng?\", \"additional_kwargs\": {},</span>\n",
       "<span style=\"color: #008000; text-decoration-color: #008000\">\"example\": false}}'</span>\n",
       "<span style=\"font-weight: bold\">}</span>\n",
       "</pre>\n"
      ],
      "text/plain": [
       "\u001b[1m{\u001b[0m\n",
       "    \u001b[32m'_id'\u001b[0m: \u001b[1;35mObjectId\u001b[0m\u001b[1m(\u001b[0m\u001b[32m'64aaffa9f602119188e1591b'\u001b[0m\u001b[1m)\u001b[0m,\n",
       "    \u001b[32m'SessionId'\u001b[0m: \u001b[32m'rTest_ETest_STest_sTest_HTest_YTest_BTest_MTest_vTest_jTest_F'\u001b[0m,\n",
       "    \u001b[32m'History'\u001b[0m: \u001b[32m'\u001b[0m\u001b[32m{\u001b[0m\u001b[32m\"type\": \"human\", \"data\": \u001b[0m\u001b[32m{\u001b[0m\u001b[32m\"content\": \"How can I contact Dr. Vincent Ng?\", \"additional_kwargs\": \u001b[0m\u001b[32m{\u001b[0m\u001b[32m}\u001b[0m\u001b[32m,\u001b[0m\n",
       "\u001b[32m\"example\": false\u001b[0m\u001b[32m}\u001b[0m\u001b[32m}\u001b[0m\u001b[32m'\u001b[0m\n",
       "\u001b[1m}\u001b[0m\n"
      ]
     },
     "metadata": {},
     "output_type": "display_data"
    },
    {
     "data": {
      "text/html": [
       "<pre style=\"white-space:pre;overflow-x:auto;line-height:normal;font-family:Menlo,'DejaVu Sans Mono',consolas,'Courier New',monospace\"><span style=\"font-weight: bold\">{</span>\n",
       "    <span style=\"color: #008000; text-decoration-color: #008000\">'_id'</span>: <span style=\"color: #800080; text-decoration-color: #800080; font-weight: bold\">ObjectId</span><span style=\"font-weight: bold\">(</span><span style=\"color: #008000; text-decoration-color: #008000\">'64aaffa9f602119188e1591c'</span><span style=\"font-weight: bold\">)</span>,\n",
       "    <span style=\"color: #008000; text-decoration-color: #008000\">'SessionId'</span>: <span style=\"color: #008000; text-decoration-color: #008000\">'rTest_ETest_STest_sTest_HTest_YTest_BTest_MTest_vTest_jTest_F'</span>,\n",
       "    <span style=\"color: #008000; text-decoration-color: #008000\">'History'</span>: <span style=\"color: #008000; text-decoration-color: #008000\">'{\"type\": \"ai\", \"data\": {\"content\": \"I\\'m sorry, I don\\'t have access to Dr. Vincent Ng\\'s contact </span>\n",
       "<span style=\"color: #008000; text-decoration-color: #008000\">information. Would you like me to try to find it for you?\", \"additional_kwargs\": {}, \"example\": false}}'</span>\n",
       "<span style=\"font-weight: bold\">}</span>\n",
       "</pre>\n"
      ],
      "text/plain": [
       "\u001b[1m{\u001b[0m\n",
       "    \u001b[32m'_id'\u001b[0m: \u001b[1;35mObjectId\u001b[0m\u001b[1m(\u001b[0m\u001b[32m'64aaffa9f602119188e1591c'\u001b[0m\u001b[1m)\u001b[0m,\n",
       "    \u001b[32m'SessionId'\u001b[0m: \u001b[32m'rTest_ETest_STest_sTest_HTest_YTest_BTest_MTest_vTest_jTest_F'\u001b[0m,\n",
       "    \u001b[32m'History'\u001b[0m: \u001b[32m'\u001b[0m\u001b[32m{\u001b[0m\u001b[32m\"type\": \"ai\", \"data\": \u001b[0m\u001b[32m{\u001b[0m\u001b[32m\"content\": \"I\\'m sorry, I don\\'t have access to Dr. Vincent Ng\\'s contact \u001b[0m\n",
       "\u001b[32minformation. Would you like me to try to find it for you?\", \"additional_kwargs\": \u001b[0m\u001b[32m{\u001b[0m\u001b[32m}\u001b[0m\u001b[32m, \"example\": false\u001b[0m\u001b[32m}\u001b[0m\u001b[32m}\u001b[0m\u001b[32m'\u001b[0m\n",
       "\u001b[1m}\u001b[0m\n"
      ]
     },
     "metadata": {},
     "output_type": "display_data"
    }
   ],
   "source": []
  },
  {
   "attachments": {},
   "cell_type": "markdown",
   "metadata": {},
   "source": [
    "# Test"
   ]
  },
  {
   "attachments": {},
   "cell_type": "markdown",
   "metadata": {},
   "source": [
    "## Tell me the difference between a course"
   ]
  },
  {
   "attachments": {},
   "cell_type": "markdown",
   "metadata": {},
   "source": [
    "inputs = \"What is the difference between Math 2417 and Math 2419\"\n",
    "\n",
    "bot_message = agent.run(\n",
    "    user_message = inputs , \n",
    "    read_only_memory = \n",
    ")"
   ]
  }
 ],
 "metadata": {
  "kernelspec": {
   "display_name": "base",
   "language": "python",
   "name": "python3"
  },
  "language_info": {
   "codemirror_mode": {
    "name": "ipython",
    "version": 3
   },
   "file_extension": ".py",
   "mimetype": "text/x-python",
   "name": "python",
   "nbconvert_exporter": "python",
   "pygments_lexer": "ipython3",
   "version": "3.10.9"
  },
  "orig_nbformat": 4
 },
 "nbformat": 4,
 "nbformat_minor": 2
}
