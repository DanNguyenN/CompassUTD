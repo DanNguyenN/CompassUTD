{
 "cells": [
  {
   "attachments": {},
   "cell_type": "markdown",
   "metadata": {},
   "source": [
    "# PREPARE\n",
    "You don't need mongodb to run this notebook. You can just use ConversaionBufferMemmory instead. This is for testing purpose only.\n",
    "\n",
    "To be able to run the test in this notebook, you need some file in `CompassUTD\\_secret\\` folder. The folder should be in the same directory as this notebook. The files are:\n",
    "\n",
    "`google_key.json`: - Google API key for Google Cloud Platform. You can get one by making a service account\n",
    "`search_secrets.json`: - Google Custom Search API key and search engine ID. You can get one by making a custom search engine with these settings:\n",
    "```\n",
    "{\n",
    "    \"GOOGLE_SEARCH_API\": \"REPlACE_WITH_YOUR_KEY\",\n",
    "    \"COURSE_SEARCH_ID\": \"REPlACE_WITH_YOUR_KEY\",\n",
    "    \"DEGREE_SEARCH_ID\": \"REPlACE_WITH_YOUR_KEY\",\n",
    "    \"RANDOM_SEARCH_ID\": \"REPlACE_WITH_YOUR_KEY\"\n",
    "  }\n",
    "```\n",
    "\n"
   ]
  },
  {
   "cell_type": "code",
   "execution_count": 1,
   "metadata": {},
   "outputs": [],
   "source": [
    "import os\n",
    "import sys\n",
    "from dotenv import load_dotenv\n",
    "from rich import print\n",
    "\n",
    "import random\n",
    "import string\n",
    "\n",
    "#append the parent path to sys.path\n",
    "sys.path.append(os.path.dirname(os.getcwd()))\n",
    "\n",
    "from CompassUTD import CompassInference\n",
    "from langchain.memory import ReadOnlySharedMemory, MongoDBChatMessageHistory, ConversationBufferMemory,ConversationBufferWindowMemory\n",
    "\n",
    "\n",
    "load_dotenv()\n",
    "agent = CompassInference()\n",
    "\n"
   ]
  },
  {
   "cell_type": "code",
   "execution_count": 2,
   "metadata": {},
   "outputs": [
    {
     "data": {
      "text/html": [
       "<pre style=\"white-space:pre;overflow-x:auto;line-height:normal;font-family:Menlo,'DejaVu Sans Mono',consolas,'Courier New',monospace\"><span style=\"color: #800080; text-decoration-color: #800080; font-style: italic\">None</span>\n",
       "</pre>\n"
      ],
      "text/plain": [
       "\u001b[3;35mNone\u001b[0m\n"
      ]
     },
     "metadata": {},
     "output_type": "display_data"
    }
   ],
   "source": [
    "from rich import print\n",
    "import sys, os\n",
    "sys.path.append(os.path.dirname(os.getcwd()))\n",
    "from CompassUTD.tools.google_search import SearchGeneral\n",
    "\n",
    "print(SearchGeneral()._run(\"ECS Advising\"))"
   ]
  },
  {
   "attachments": {},
   "cell_type": "markdown",
   "metadata": {},
   "source": [
    "## MongoDB Test"
   ]
  },
  {
   "cell_type": "code",
   "execution_count": 1,
   "metadata": {},
   "outputs": [
    {
     "ename": "NameError",
     "evalue": "name 'os' is not defined",
     "output_type": "error",
     "traceback": [
      "\u001b[1;31m---------------------------------------------------------------------------\u001b[0m",
      "\u001b[1;31mNameError\u001b[0m                                 Traceback (most recent call last)",
      "Cell \u001b[1;32mIn[1], line 2\u001b[0m\n\u001b[0;32m      1\u001b[0m \u001b[39m# Use MongoDB\u001b[39;00m\n\u001b[1;32m----> 2\u001b[0m connection_string \u001b[39m=\u001b[39m \u001b[39mf\u001b[39m\u001b[39m\"\u001b[39m\u001b[39mmongodb+srv://\u001b[39m\u001b[39m{\u001b[39;00m\u001b[39mstr\u001b[39m(os\u001b[39m.\u001b[39mgetenv(\u001b[39m'\u001b[39m\u001b[39mMONGODB_LOGIN\u001b[39m\u001b[39m'\u001b[39m))\u001b[39m}\u001b[39;00m\u001b[39m@\u001b[39m\u001b[39m{\u001b[39;00m\u001b[39mstr\u001b[39m(os\u001b[39m.\u001b[39mgetenv(\u001b[39m'\u001b[39m\u001b[39mMONGODB_LOCATION\u001b[39m\u001b[39m'\u001b[39m))\u001b[39m}\u001b[39;00m\u001b[39m\"\u001b[39m\n\u001b[0;32m      4\u001b[0m random_letter_string \u001b[39m=\u001b[39m \u001b[39m\"\u001b[39m\u001b[39mTest_\u001b[39m\u001b[39m\"\u001b[39m \u001b[39m+\u001b[39m \u001b[39m\"\u001b[39m\u001b[39m\"\u001b[39m\u001b[39m.\u001b[39mjoin([random\u001b[39m.\u001b[39mchoice(string\u001b[39m.\u001b[39mascii_letters) \u001b[39mfor\u001b[39;00m _ \u001b[39min\u001b[39;00m \u001b[39mrange\u001b[39m(\u001b[39m11\u001b[39m)])\n\u001b[0;32m      6\u001b[0m \u001b[39mprint\u001b[39m(random_letter_string)\n",
      "\u001b[1;31mNameError\u001b[0m: name 'os' is not defined"
     ]
    }
   ],
   "source": [
    "# Use MongoDB\n",
    "connection_string = f\"mongodb+srv://{str(os.getenv('MONGODB_LOGIN'))}@{str(os.getenv('MONGODB_LOCATION'))}\"\n",
    "\n",
    "random_letter_string = \"Test_\" + \"\".join([random.choice(string.ascii_letters) for _ in range(11)])\n",
    "\n",
    "print(random_letter_string)\n",
    "message_history = MongoDBChatMessageHistory(\n",
    "        connection_string=connection_string, session_id= random_letter_string\n",
    "    )"
   ]
  },
  {
   "cell_type": "code",
   "execution_count": 4,
   "metadata": {},
   "outputs": [
    {
     "name": "stdout",
     "output_type": "stream",
     "text": [
      "Yes, this prompt is safe. It is asking for contact information, which is allowed.\n",
      "\n",
      "\n",
      "\u001b[1m> Entering new  chain...\u001b[0m\n",
      "\u001b[32;1m\u001b[1;3mThought: I need to find the contact information for ECS undergraduate advising\n",
      "Action: general_search\n",
      "Action Input: ECS undergraduate advising\u001b[0m\n",
      "Observation: \u001b[36;1m\u001b[1;3mThe source of this information is from: https://engineering.utdallas.edu/engineering/academics/undergraduate-majors/undergrad-advising/\n",
      " Office of Undergraduate Advising - Erik Jonsson School of Engineering & Computer Science at The University of Texas at Dallas Skip to Main Content. Skip to Main Navigation. Skip to Main Footer. The University of Texas at Dallas Content Office of Undergraduate Advising Jonsson School students, we hear you! We are working to improve our response time to your emails. In the meantime, please help us by doing the following: Visit our Frequently Asked Questions (FAQ) page. For information about courses and prerequisites, review our degree plans and flowcharts. For registration questions, email ecsregistration@utdallas.edu. For all other questions, email ecsugadvising@utdallas.edu. Do not email multiple addresses as it slows down the process. We are prioritizing registration for engineering and computer science students. If you are not an engineering or computer science student, you may begin enrolling in engineering and computer science classes on January 2, 2023. Other concerns? Reach out first to Irene Marroquin, director of advising. Then, if needed, email Dr. Stephen Crynes, assistant dean of student success. Please see below for the types of assistance we can provide by email and video chat. When to email the advisors: Clarify pertinent dates/deadlines Request to withdraw from a class Review degree requirements Submit forms or paperwork Questions regarding university or state policies Verify transfer credit When to set up an appointment: Discuss change of majors to and within The Jonsson School Discuss in-depth registration questions Review a semester by semester plan towards graduation Submit or Request TCEPS (Transfer Credit Earned Prior to UT Dallas that needs evaluation) Add a minor to your Jonsson School degree Fast Track information and applications Jonsson School Needs Transfer Mentors!! Interested in becoming a mentor or a mentee? More info can be found HERE Footer Departments Bioengineering ComputerScience Electrical andComputer Engineering Materials Scienceand Engineering MechanicalEngineering SystemsEngineering \u001b[0m\n",
      "Thought:\u001b[32;1m\u001b[1;3mFinal Answer: The contact information for ECS undergraduate advising is ecsugadvising@utdallas.edu.\u001b[0m\n",
      "\n",
      "\u001b[1m> Finished chain.\u001b[0m\n"
     ]
    },
    {
     "data": {
      "text/html": [
       "<pre style=\"white-space:pre;overflow-x:auto;line-height:normal;font-family:Menlo,'DejaVu Sans Mono',consolas,'Courier New',monospace\">The contact information for ECS undergraduate advising is ecsugadvising@utdallas.edu.\n",
       "</pre>\n"
      ],
      "text/plain": [
       "The contact information for ECS undergraduate advising is ecsugadvising@utdallas.edu.\n"
      ]
     },
     "metadata": {},
     "output_type": "display_data"
    }
   ],
   "source": [
    "\n",
    "memmory_store = ConversationBufferWindowMemory(memory_key=\"chat_history\",chat_memory=message_history)\n",
    "\n",
    "read_only_memory = ReadOnlySharedMemory(memory=memmory_store)\n",
    "\n",
    "\n",
    "#If you want to make a new chat query with same memory, replace the user_message with next message and run this cell\n",
    "#user_message = \"Could you elaborate\"\n",
    "#user_message = \"What is the difference between Math 2419 and Math 2417?\"\n",
    "#user_message = \"What is Math 2419\"\n",
    "#user_message = \"Who is the president of UTD?\"\n",
    "#user_message = \"What is the class CS 2305 at UT Dallas?\"\n",
    "#user_message = \"\"\"What does student think of him?\"\"\"\n",
    "user_message = \"\"\"What is the contact information for ECS undergraduate advising?\"\"\"\n",
    "\n",
    "bot_message = agent.run(user_message = user_message, \n",
    "                        read_only_memory= ReadOnlySharedMemory(memory=read_only_memory)\n",
    "                        )\n",
    "\n",
    "print(bot_message)\n",
    "\n",
    "#Save chat history\n",
    "\n",
    "message_history.add_user_message(user_message)\n",
    "message_history.add_ai_message(bot_message)\n"
   ]
  },
  {
   "cell_type": "code",
   "execution_count": 5,
   "metadata": {},
   "outputs": [
    {
     "ename": "AssertionError",
     "evalue": "",
     "output_type": "error",
     "traceback": [
      "\u001b[1;31m---------------------------------------------------------------------------\u001b[0m",
      "\u001b[1;31mAssertionError\u001b[0m                            Traceback (most recent call last)",
      "Cell \u001b[1;32mIn[5], line 1\u001b[0m\n\u001b[1;32m----> 1\u001b[0m \u001b[39massert\u001b[39;00m \u001b[39mFalse\u001b[39;00m\n\u001b[0;32m      2\u001b[0m \u001b[39m# Remove all tested chat history with the sessionID of \"Test_\"\u001b[39;00m\n\u001b[0;32m      3\u001b[0m \u001b[39mimport\u001b[39;00m \u001b[39mos\u001b[39;00m\n",
      "\u001b[1;31mAssertionError\u001b[0m: "
     ]
    }
   ],
   "source": [
    "assert False\n",
    "# Remove all tested chat history with the sessionID of \"Test_\"\n",
    "import os\n",
    "from dotenv import load_dotenv\n",
    "from pymongo.mongo_client import MongoClient\n",
    "from pymongo.server_api import ServerApi\n",
    "load_dotenv()\n",
    "\n",
    "uri = f\"mongodb+srv://{str(os.getenv('MONGODB_LOGIN'))}@{str(os.getenv('MONGODB_LOCATION'))}/?retryWrites=true&w=majority\"\n",
    "# Create a new client and connect to the server\n",
    "client = MongoClient(uri, server_api=ServerApi(version=\"1\"))\n",
    "#get the database chat_history.message_store\n",
    "db = client[\"chat_history\"]\n",
    "collection = db[\"message_store\"]\n",
    "#Find the session ID with the string \"Test_\"\n",
    "# Define the string pattern to match in the key\n",
    "string_pattern = \"Test_\"\n",
    "\n",
    "# Create a regex query to match the key\n",
    "query = { \"SessionId\": { \"$regex\": string_pattern } }\n",
    "#Find all session ID with the string \"Test_\"\n",
    "query_result = collection.delete_many(query)\n"
   ]
  }
 ],
 "metadata": {
  "kernelspec": {
   "display_name": "base",
   "language": "python",
   "name": "python3"
  },
  "language_info": {
   "codemirror_mode": {
    "name": "ipython",
    "version": 3
   },
   "file_extension": ".py",
   "mimetype": "text/x-python",
   "name": "python",
   "nbconvert_exporter": "python",
   "pygments_lexer": "ipython3",
   "version": "3.10.9"
  },
  "orig_nbformat": 4
 },
 "nbformat": 4,
 "nbformat_minor": 2
}
