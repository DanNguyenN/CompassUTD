{
  "cells": [
    {
      "cell_type": "code",
      "execution_count": 2,
      "metadata": {
        "colab": {
          "base_uri": "https://localhost:8080/",
          "height": 1000
        },
        "id": "lCuLOuZelrlt",
        "outputId": "ab4935cc-e031-4a5f-cf40-5fcc8fe93cce"
      },
      "outputs": [],
      "source": [
        "import sys\n",
        "if 'google.colab' in sys.modules:\n",
        "    !pip install langchain google-cloud-aiplatform rich\n",
        "    !pip install wikipedia"
      ]
    },
    {
      "cell_type": "code",
      "execution_count": 151,
      "metadata": {},
      "outputs": [],
      "source": [
        "import langchain\n",
        "langchain.debug = False"
      ]
    },
    {
      "attachments": {},
      "cell_type": "markdown",
      "metadata": {
        "id": "gyhkWAXp2LP8"
      },
      "source": [
        "# Imports"
      ]
    },
    {
      "cell_type": "code",
      "execution_count": 148,
      "metadata": {
        "id": "5XS7F7lEAcly"
      },
      "outputs": [
        {
          "ename": "NameError",
          "evalue": "name 'langchain' is not defined",
          "output_type": "error",
          "traceback": [
            "\u001b[1;31m---------------------------------------------------------------------------\u001b[0m",
            "\u001b[1;31mNameError\u001b[0m                                 Traceback (most recent call last)",
            "Cell \u001b[1;32mIn[148], line 14\u001b[0m\n\u001b[0;32m     12\u001b[0m \u001b[39mfrom\u001b[39;00m \u001b[39mrich\u001b[39;00m\u001b[39m.\u001b[39;00m\u001b[39mprogress\u001b[39;00m \u001b[39mimport\u001b[39;00m Progress, track\n\u001b[0;32m     13\u001b[0m \u001b[39mfrom\u001b[39;00m \u001b[39mrich\u001b[39;00m\u001b[39m.\u001b[39;00m\u001b[39mtable\u001b[39;00m \u001b[39mimport\u001b[39;00m Table\n\u001b[1;32m---> 14\u001b[0m langchain\u001b[39m.\u001b[39mdebug \u001b[39m=\u001b[39m \u001b[39mTrue\u001b[39;00m\n",
            "\u001b[1;31mNameError\u001b[0m: name 'langchain' is not defined"
          ]
        }
      ],
      "source": [
        "import os\n",
        "import requests\n",
        "from google.cloud import aiplatform\n",
        "from langchain.agents import (AgentExecutor, AgentType, BaseSingleActionAgent,\n",
        "                              Tool, initialize_agent)\n",
        "from langchain.llms import VertexAI\n",
        "from langchain.memory import ConversationBufferMemory\n",
        "from langchain.tools import tool\n",
        "from pydantic import BaseModel, Field\n",
        "from rich import print\n",
        "from rich.console import Console\n",
        "from rich.progress import Progress, track\n",
        "from rich.table import Table\n"
      ]
    },
    {
      "attachments": {},
      "cell_type": "markdown",
      "metadata": {
        "id": "0wta80So2QCZ"
      },
      "source": [
        "# Google Authentication"
      ]
    },
    {
      "cell_type": "code",
      "execution_count": 4,
      "metadata": {
        "id": "KjDpW0zyCnqj"
      },
      "outputs": [],
      "source": [
        "tool_url = None #!TODO: set this to the tool url if using Colab\n",
        "try:\n",
        "    from google.colab import auth as google_auth\n",
        "    google_auth.authenticate_user()\n",
        "except:\n",
        "    import dotenv\n",
        "    dotenv.load_dotenv()\n",
        "    tool_url = str(os.getenv('TOOL_URL'))\n",
        "    pass"
      ]
    },
    {
      "cell_type": "code",
      "execution_count": 5,
      "metadata": {
        "id": "HI68K9IJAdPc"
      },
      "outputs": [],
      "source": [
        "#! Change the following to your own project and location\n",
        "aiplatform.init(project=\"aerobic-gantry-387923\", location=\"us-central1\")\n",
        "llm = VertexAI()\n"
      ]
    },
    {
      "attachments": {},
      "cell_type": "markdown",
      "metadata": {},
      "source": [
        "# Prompt Template"
      ]
    },
    {
      "cell_type": "code",
      "execution_count": 164,
      "metadata": {},
      "outputs": [],
      "source": [
        "from langchain.agents import (\n",
        "    Tool,\n",
        "    AgentExecutor,\n",
        "    LLMSingleActionAgent,\n",
        "    AgentOutputParser,\n",
        ")\n",
        "from langchain.prompts import StringPromptTemplate\n",
        "# Set up the base template\n",
        "template = \"\"\"Answer the following questions as best you can, but speaking as a pirate might speak. You have access to the following tools:\n",
        "\n",
        "{tools}\n",
        "\n",
        "Use the following format:\n",
        "\n",
        "Question: the input question you must answer\n",
        "Thought: you should always think about what to do\n",
        "Action: the action to take, should be one of [{tool_names}], \n",
        "Action Input: the input to the action\n",
        "Observation: the result of the action\n",
        "... (this Thought/Action/Action Input/Observation can repeat N times)\n",
        "Thought: I now know the final answer\n",
        "Final Answer: the final answer to the original input question\n",
        "\n",
        "Begin! Remember to speak as a king , compasstionate Guidance Counselor when giving your final answer. Use lots of \"Arg\"s\n",
        "\n",
        "\n",
        "\n",
        "Question: {input}\n",
        "{agent_scratchpad}\"\"\""
      ]
    },
    {
      "attachments": {},
      "cell_type": "markdown",
      "metadata": {},
      "source": [
        "## Custome Prompt Tool Retreiver"
      ]
    },
    {
      "cell_type": "code",
      "execution_count": 131,
      "metadata": {},
      "outputs": [],
      "source": [
        "from typing import Callable\n",
        "\n",
        "\n",
        "# Set up a prompt template\n",
        "class CustomPromptTemplateToolRetreiver(StringPromptTemplate):\n",
        "    # The template to use\n",
        "    template: str\n",
        "    ############## NEW ######################\n",
        "    # The list of tools available\n",
        "    tools_getter: Callable\n",
        "\n",
        "    def format(self, **kwargs) -> str:\n",
        "        # Get the intermediate steps (AgentAction, Observation tuples)\n",
        "        # Format them in a particular way\n",
        "        intermediate_steps = kwargs.pop(\"intermediate_steps\")\n",
        "        thoughts = \"\"\n",
        "        for action, observation in intermediate_steps:\n",
        "            thoughts += action.log\n",
        "            thoughts += f\"\\nObservation: {observation}\\nThought: \"\n",
        "        # Set the agent_scratchpad variable to that value\n",
        "        kwargs[\"agent_scratchpad\"] = thoughts\n",
        "        ############## NEW ######################\n",
        "        tools = self.tools_getter(kwargs[\"input\"])\n",
        "        # Create a tools variable from the list of tools provided\n",
        "        kwargs[\"tools\"] = \"\\n\".join(\n",
        "            [f\"{tool.name}: {tool.description}\" for tool in tools]\n",
        "        )\n",
        "        # Create a list of tool names for the tools provided\n",
        "        kwargs[\"tool_names\"] = \", \".join([tool.name for tool in tools])\n",
        "        return self.template.format(**kwargs)"
      ]
    },
    {
      "attachments": {},
      "cell_type": "markdown",
      "metadata": {},
      "source": [
        "## Custome Prompt Tool"
      ]
    },
    {
      "cell_type": "code",
      "execution_count": 132,
      "metadata": {},
      "outputs": [],
      "source": [
        "from typing import List, Union\n",
        "# Set up a prompt template\n",
        "class CustomPromptTemplate(StringPromptTemplate):\n",
        "    # The template to use\n",
        "    template: str\n",
        "    # The list of tools available\n",
        "    tools: List[Tool]\n",
        "\n",
        "    def format(self, **kwargs) -> str:\n",
        "        # Get the intermediate steps (AgentAction, Observation tuples)\n",
        "        # Format them in a particular way\n",
        "        intermediate_steps = kwargs.pop(\"intermediate_steps\")\n",
        "        thoughts = \"\"\n",
        "        for action, observation in intermediate_steps:\n",
        "            thoughts += action.log\n",
        "            thoughts += f\"\\nObservation: {observation}\\nThought: \"\n",
        "        # Set the agent_scratchpad variable to that value\n",
        "        kwargs[\"agent_scratchpad\"] = thoughts\n",
        "        # Create a tools variable from the list of tools provided\n",
        "        kwargs[\"tools\"] = \"\\n\".join([f\"{tool.name}: {tool.description}\" for tool in self.tools])\n",
        "        # Create a list of tool names for the tools provided\n",
        "        kwargs[\"tool_names\"] = \", \".join([tool.name for tool in self.tools])\n",
        "        return self.template.format(**kwargs)"
      ]
    },
    {
      "attachments": {},
      "cell_type": "markdown",
      "metadata": {},
      "source": [
        "# Output Parser"
      ]
    },
    {
      "cell_type": "code",
      "execution_count": 133,
      "metadata": {},
      "outputs": [],
      "source": [
        "from typing import List, Union\n",
        "from langchain.schema import AgentAction, AgentFinish\n",
        "from langchain.agents import Tool, AgentExecutor, LLMSingleActionAgent, AgentOutputParser\n",
        "import re\n",
        "from langchain.schema import AgentAction, AgentFinish, OutputParserException\n",
        "class CustomOutputParser(AgentOutputParser):\n",
        "\n",
        "    def parse(self, llm_output: str) -> Union[AgentAction, AgentFinish]:\n",
        "        # Check if agent should finish\n",
        "        if \"Final Answer:\" in llm_output:\n",
        "            return AgentFinish(\n",
        "                # Return values is generally always a dictionary with a single `output` key\n",
        "                # It is not recommended to try anything else at the moment :)\n",
        "                return_values={\"output\": llm_output.split(\"Final Answer:\")[-1].strip()},\n",
        "                log=llm_output,\n",
        "            )\n",
        "        # Parse out the action and action input\n",
        "        regex = r\"Action\\s*\\d*\\s*:(.*?)\\nAction\\s*\\d*\\s*Input\\s*\\d*\\s*:[\\s]*(.*)\"\n",
        "        match = re.search(regex, llm_output, re.DOTALL)\n",
        "        if not match:\n",
        "            raise OutputParserException(f\"Could not parse LLM output: `{llm_output}`\")\n",
        "        action = match.group(1).strip()\n",
        "        action_input = match.group(2)\n",
        "        # Return the action and action input\n",
        "        return AgentAction(tool=action, tool_input=action_input.strip(\" \").strip('\"'), log=llm_output)\n",
        "output_parser = CustomOutputParser()"
      ]
    },
    {
      "attachments": {},
      "cell_type": "markdown",
      "metadata": {
        "id": "z_p7TusQUez0"
      },
      "source": [
        "# Vector Stores\n",
        "1. Websites  using The Webase Loader"
      ]
    },
    {
      "cell_type": "code",
      "execution_count": 134,
      "metadata": {},
      "outputs": [
        {
          "data": {
            "text/plain": [
              "'\\nurls = [\\n    \"https://www.utdallas.edu/galaxy/\",\\n    \"https://www.utdallas.edu/costs-scholarships-aid/\"\\n    \"https://www.utdallas.edu/academics/\"\\n]\\nloader = WebBaseLoader(urls)\\n\\n\\n# fixes a bug with asyncio and jupyter\\nimport nest_asyncio\\n\\nnest_asyncio.apply()\\ndocs = loader.aload()\\n\\ntext_splitter = CharacterTextSplitter(chunk_size=1000, chunk_overlap=0)\\ntexts = text_splitter.split_documents(docs)\\n\\nembeddings = OpenAIEmbeddings()\\ndocsearch = Chroma.from_documents(texts, embeddings, collection_name=\"state-of-union\")\\n'"
            ]
          },
          "execution_count": 134,
          "metadata": {},
          "output_type": "execute_result"
        }
      ],
      "source": [
        "from langchain.document_loaders import WebBaseLoader\n",
        "from langchain.embeddings.openai import OpenAIEmbeddings\n",
        "from langchain.vectorstores import Chroma\n",
        "from langchain.text_splitter import CharacterTextSplitter\n",
        "from langchain.llms import OpenAI\n",
        "from langchain.chains import RetrievalQA\n",
        "'''\n",
        "urls = [\n",
        "    \"https://www.utdallas.edu/galaxy/\",\n",
        "    \"https://www.utdallas.edu/costs-scholarships-aid/\"\n",
        "    \"https://www.utdallas.edu/academics/\"\n",
        "]\n",
        "loader = WebBaseLoader(urls)\n",
        "\n",
        "\n",
        "# fixes a bug with asyncio and jupyter\n",
        "import nest_asyncio\n",
        "\n",
        "nest_asyncio.apply()\n",
        "docs = loader.aload()\n",
        "\n",
        "text_splitter = CharacterTextSplitter(chunk_size=1000, chunk_overlap=0)\n",
        "texts = text_splitter.split_documents(docs)\n",
        "\n",
        "embeddings = OpenAIEmbeddings()\n",
        "docsearch = Chroma.from_documents(texts, embeddings, collection_name=\"state-of-union\")\n",
        "'''"
      ]
    },
    {
      "cell_type": "code",
      "execution_count": 11,
      "metadata": {},
      "outputs": [
        {
          "data": {
            "text/plain": [
              "'\\nstate_of_union = RetrievalQA.from_chain_type(\\n    llm=llm, chain_type=\"stuff\", retriever=docsearch.as_retriever()\\n)\\n'"
            ]
          },
          "execution_count": 11,
          "metadata": {},
          "output_type": "execute_result"
        }
      ],
      "source": [
        "'''\n",
        "state_of_union = RetrievalQA.from_chain_type(\n",
        "    llm=llm, chain_type=\"stuff\", retriever=docsearch.as_retriever()\n",
        ")\n",
        "'''"
      ]
    },
    {
      "attachments": {},
      "cell_type": "markdown",
      "metadata": {
        "id": "9ebmz1Qe2gnn"
      },
      "source": [
        "# Tools Function"
      ]
    },
    {
      "cell_type": "code",
      "execution_count": 135,
      "metadata": {
        "id": "Pcso0YAc2-bb"
      },
      "outputs": [],
      "source": [
        "class SearchInput(BaseModel):\n",
        "    query: str = Field(description=\"should be a search query\")\n",
        "\n",
        "def request_error_handler(url: str, params={}) -> str:\n",
        "    try:\n",
        "        response = requests.get(url, params)\n",
        "        response.raise_for_status()  # Raise an HTTPError if the status code is not in the 200 range\n",
        "        data = response.json()\n",
        "        return data\n",
        "    except requests.exceptions.RequestException as e:\n",
        "        return e"
      ]
    },
    {
      "attachments": {},
      "cell_type": "markdown",
      "metadata": {},
      "source": [
        "## Get a Tool Function"
      ]
    },
    {
      "cell_type": "code",
      "execution_count": 136,
      "metadata": {},
      "outputs": [],
      "source": [
        "def get_tools(query):\n",
        "    docs = retriever.get_relevant_documents(query)\n",
        "    return [ALL_TOOLS[d.metadata[\"index\"]] for d in docs]"
      ]
    },
    {
      "attachments": {},
      "cell_type": "markdown",
      "metadata": {
        "id": "NVbcgcJL2oo3"
      },
      "source": [
        "## Courses"
      ]
    },
    {
      "cell_type": "code",
      "execution_count": 137,
      "metadata": {
        "id": "rWSwXzh62pvf"
      },
      "outputs": [],
      "source": [
        "def get_courses_from_query(query: str) -> str:\n",
        "    url = f\"https://{tool_url}/get-possible-courses/{query}\"\n",
        "    return request_error_handler(url)\n"
      ]
    },
    {
      "attachments": {},
      "cell_type": "markdown",
      "metadata": {
        "id": "h68QFdQH2vAI"
      },
      "source": [
        "## Degree"
      ]
    },
    {
      "cell_type": "code",
      "execution_count": 102,
      "metadata": {
        "id": "3NfRmJ4m2wML"
      },
      "outputs": [],
      "source": [
        "def get_degrees_from_query(query: str) -> str:\n",
        "    url = f\"https://{tool_url}/get-possible-degrees/{query}\"\n",
        "    return request_error_handler(url)\n"
      ]
    },
    {
      "attachments": {},
      "cell_type": "markdown",
      "metadata": {
        "id": "HU6m33D92105"
      },
      "source": [
        "## Utdallas Search"
      ]
    },
    {
      "cell_type": "code",
      "execution_count": 138,
      "metadata": {
        "colab": {
          "base_uri": "https://localhost:8080/",
          "height": 1000
        },
        "id": "rNj4TyMukXgE",
        "outputId": "e0616e0d-808e-4bd0-ed15-8e88a33e0c80"
      },
      "outputs": [],
      "source": [
        "def utdallas_search(query: str) -> str:\n",
        "    url = f\"https://{tool_url}/search/{query}\"\n",
        "    return request_error_handler(url)\n",
        "\n",
        "def access_utdallas_site(url_to_search: str) -> str:\n",
        "    url = f\"https://{tool_url}/access/\"\n",
        "    params = {\n",
        "        \"url\": url_to_search\n",
        "    }\n",
        "    return request_error_handler(url, params)\n",
        "\n"
      ]
    },
    {
      "attachments": {},
      "cell_type": "markdown",
      "metadata": {},
      "source": [
        "## Wikipedia"
      ]
    },
    {
      "cell_type": "code",
      "execution_count": 104,
      "metadata": {},
      "outputs": [],
      "source": [
        "from langchain.utilities import WikipediaAPIWrapper\n",
        "wikipedia = WikipediaAPIWrapper()\n",
        "def run_wikepedia(query: str) -> str:\n",
        "    return wikipedia.run(query)"
      ]
    },
    {
      "attachments": {},
      "cell_type": "markdown",
      "metadata": {},
      "source": [
        "## Dictionary\n"
      ]
    },
    {
      "cell_type": "code",
      "execution_count": 139,
      "metadata": {},
      "outputs": [],
      "source": [
        "def dictionary_search(query: str) -> str:\n",
        "    url = f\"https://{tool_url}/dictionary/{query}\"\n",
        "    return request_error_handler(url)"
      ]
    },
    {
      "attachments": {},
      "cell_type": "markdown",
      "metadata": {
        "id": "jI4Om8Lx3EQ4"
      },
      "source": [
        "# Tools NAME and description"
      ]
    },
    {
      "cell_type": "code",
      "execution_count": 140,
      "metadata": {
        "id": "PpKwE-kpl0eP"
      },
      "outputs": [],
      "source": [
        "tools = [\n",
        "    Tool(\n",
        "        name = \"UTD Degree Search\",\n",
        "        func = get_degrees_from_query,\n",
        "        description = \"This tool allows you to search for UT Dallas' Degrees, Majors, Minors, and Certificates using keywords. Use this tool to compare multiple degrees. It returns relevant URLs, titles, and snippets from the search engine results.\",\n",
        "    ),\n",
        "    Tool(\n",
        "        name = \"UTD Course Search\",\n",
        "        func = get_courses_from_query,\n",
        "        description = \"This tool enables you to search for UT Dallas' courses using keywords. Use this tool to compare multiple courses. It returns the course numbers/codes where the keyword exists in the course title.\",\n",
        "    ),\n",
        "\n",
        "    Tool(\n",
        "        name = \"UTD search\",\n",
        "        func = utdallas_search,\n",
        "        description = \"Please use this tool only as a last resort. It performs a comprehensive search across all UT Dallas pages that will not give information about courses or degrees. It requires a query string and returns possible links and snippet contents. Do not use for course search or degree search as there are separate tools for those.\",\n",
        "    ),\n",
        "    Tool(\n",
        "        name = \"Extract Text from utdallas.edu site from Course, Degree, or Website Search Tool\",\n",
        "        func = access_utdallas_site,\n",
        "        description = \"If you have a URL string containing utdallas.edu, use this function to extract the text content from that page.\",\n",
        "    ),\n",
        "    Tool(\n",
        "        name = \"Dictionary Search\",\n",
        "        func = dictionary_search,\n",
        "        description = \"If you need the definition of a word or phrase unrelated to UT Dallas, use this function to retrieve the definition. Do not use for anything related to UT Dallas' courses.\",\n",
        "    )\n",
        "]\n",
        "\n",
        "\n",
        "\n",
        "\n"
      ]
    },
    {
      "attachments": {},
      "cell_type": "markdown",
      "metadata": {},
      "source": [
        "## Set up Tools for Retreiver"
      ]
    },
    {
      "cell_type": "code",
      "execution_count": 171,
      "metadata": {},
      "outputs": [],
      "source": [
        "prompt = CustomPromptTemplate(\n",
        "    template=template,\n",
        "    tools=tools,\n",
        "    # This omits the `agent_scratchpad`, `tools`, and `tool_names` variables because those are generated dynamically\n",
        "    # This includes the `intermediate_steps` variable because that is needed\n",
        "    input_variables=[\"input\", \"intermediate_steps\"]\n",
        ")"
      ]
    },
    {
      "attachments": {},
      "cell_type": "markdown",
      "metadata": {
        "id": "DVAgrMU-4sHZ"
      },
      "source": [
        "# Initialize Agents"
      ]
    },
    {
      "attachments": {},
      "cell_type": "markdown",
      "metadata": {
        "id": "P865I0vbImv6"
      },
      "source": [
        "## Zero Shot ReAcT Agents\n"
      ]
    },
    {
      "cell_type": "code",
      "execution_count": 172,
      "metadata": {
        "id": "qUkDy2R5kxIt"
      },
      "outputs": [],
      "source": [
        "'''\n",
        "agent = initialize_agent(\n",
        "    tools, llm, agent=AgentType.CONVERSATIONAL_REACT_DESCRIPTION, verbose=True, memory = memory ,\n",
        "    max_execution_time = 10 , return_intermediate_steps=True,\n",
        ")\n",
        "'''\n",
        "memory = ConversationBufferMemory(memory_key=\"chat_history\")\n",
        "zero_shot_react_agent = initialize_agent(\n",
        "    tools,\n",
        "    llm,\n",
        "    agent=AgentType.ZERO_SHOT_REACT_DESCRIPTION,\n",
        "    verbose=True,\n",
        "    return_intermediate_steps=True,\n",
        "    max_execution_time = 20 ,\n",
        "    memory = memory,\n",
        ")"
      ]
    },
    {
      "attachments": {},
      "cell_type": "markdown",
      "metadata": {
        "id": "wseBQh_RNLyt"
      },
      "source": [
        "## Plan and execute"
      ]
    },
    {
      "cell_type": "code",
      "execution_count": 145,
      "metadata": {
        "id": "_ZyIbxtANOeS"
      },
      "outputs": [],
      "source": [
        "from langchain.experimental import plan_and_execute\n",
        "from langchain.chat_models import ChatOpenAI\n",
        "from langchain.experimental.plan_and_execute import PlanAndExecute, load_agent_executor, load_chat_planner\n",
        "from langchain.llms import OpenAI\n",
        "planner = load_chat_planner(llm)\n",
        "executor = load_agent_executor(llm, tools = tools , verbose=True)\n",
        "plan_and_execute = PlanAndExecute (\n",
        "    planner=planner,\n",
        "    executor=executor,\n",
        "    verbose=True,\n",
        "    max_execution_time = 20 ,\n",
        "    return_intermediate_steps=True,\n",
        ")\n",
        "\n",
        "\n"
      ]
    },
    {
      "attachments": {},
      "cell_type": "markdown",
      "metadata": {},
      "source": [
        "## Custome Agents"
      ]
    },
    {
      "cell_type": "code",
      "execution_count": 169,
      "metadata": {},
      "outputs": [],
      "source": [
        "# LLM chain consisting of the LLM and a prompt\n",
        "from langchain import  LLMChain\n",
        "\n",
        "llm_chain = LLMChain(llm=llm, \n",
        "                     prompt=prompt, \n",
        "                     memory=ConversationBufferMemory(memory_key=\"chat_history\"), \n",
        "                     verbose=True)\n",
        "\n",
        "tool_names = [tool.name for tool in tools]\n",
        "agent = LLMSingleActionAgent(\n",
        "    llm_chain=llm_chain,\n",
        "    output_parser=output_parser,\n",
        "    stop=[\"\\nObservation:\"],\n",
        "    allowed_tools=tool_names , \n",
        "    max_execution_time = 20 ,\n",
        ")\n",
        "agent_executor = AgentExecutor.from_agent_and_tools(agent=agent, tools=tools, verbose=True)"
      ]
    },
    {
      "attachments": {},
      "cell_type": "markdown",
      "metadata": {
        "id": "9mSvsXSGI1sJ"
      },
      "source": [
        "# Testing Agents"
      ]
    },
    {
      "attachments": {},
      "cell_type": "markdown",
      "metadata": {
        "id": "x135HlrcI4pf"
      },
      "source": [
        "## Tell me the Difference between a courses"
      ]
    },
    {
      "cell_type": "code",
      "execution_count": 173,
      "metadata": {
        "colab": {
          "base_uri": "https://localhost:8080/",
          "height": 452
        },
        "id": "fmddtHyrI6_Y",
        "outputId": "678f1d04-cedc-4809-b063-85fa32c0893d"
      },
      "outputs": [
        {
          "name": "stdout",
          "output_type": "stream",
          "text": [
            "\n",
            "\n",
            "\u001b[1m> Entering new  chain...\u001b[0m\n",
            "\u001b[32;1m\u001b[1;3mI need to know more about Math 2417 and Math 2419\n",
            "Action: UTD Course Search\n",
            "Action Input: Math 2417\u001b[0m\n",
            "Observation: \u001b[33;1m\u001b[1;3m{'course_ids': {'items': [{'title': 'Calculus I - UT Dallas 2022 Undergraduate Catalog - The University ...', 'link': 'https://catalog.utdallas.edu/2022/undergraduate/courses/math2417', 'snippet': 'MATH2417 - Calculus I. MATH 2417 Calculus I (4 semester credit hours) Functions, limits, continuity, differentiation; integration of function of one\\xa0...'}, {'title': 'Calculus I - UT Dallas 2022 Graduate Catalog - The University of ...', 'link': 'https://catalog.utdallas.edu/2022/graduate/courses/math2417', 'snippet': 'MATH2417 - Calculus I. MATH 2417 Calculus I (4 semester credit hours) Functions, limits, continuity, differentiation; integration of function of one\\xa0...'}, {'title': 'Calculus II - UT Dallas 2017 Undergraduate Catalog - The ...', 'link': 'https://catalog.utdallas.edu/2017/undergraduate/courses/math2419', 'snippet': 'MATH 2419 Calculus II (4 semester credit hours) Continuation of MATH 2417. Improper integrals, sequences, infinite series, power series,\\xa0...'}, {'title': 'Calculus I - UT Dallas 2012 Undergraduate Catalog - The University ...', 'link': 'https://catalog.utdallas.edu/2012/undergraduate/courses/math2417', 'snippet': 'MATH2417 - Calculus I. MATH 2417 (MATH 2417) Calculus I (4 semester hours) Functions, limits, continuity, differentiation; integration of function of one\\xa0...'}, {'title': 'Mathematical Science - UT Dallas 2017 Undergraduate Catalog ...', 'link': 'https://catalog.utdallas.edu/2017/undergraduate/courses/math', 'snippet': 'Cannot be used to replace MATH 2417 or MATH 2413. Prerequisite: ALEKS score required or a grade of at least a C- in MATH 1314. (3-0) S.'}, {'title': 'Mathematical Science - UT Dallas 2020 Undergraduate Catalog ...', 'link': 'https://catalog.utdallas.edu/2020/undergraduate/courses/math', 'snippet': 'Cannot be used to replace MATH 2417 or MATH 2413. Prerequisite: ALEKS score required or a grade of at least a C- in MATH 1314. (3-0) S.'}, {'title': 'Integral Calculus - UT Dallas 2017 Undergraduate Catalog - The ...', 'link': 'https://catalog.utdallas.edu/2017/undergraduate/courses/math2414', 'snippet': 'Not all MATH/STAT courses may be counted toward various degree plans. ... Prerequisite: A grade of C- or better in either MATH 2417 or in MATH 2413 or\\xa0...'}, {'title': 'Applied Calculus I - UT Dallas 2021 Undergraduate Catalog - The ...', 'link': 'https://catalog.utdallas.edu/2021/undergraduate/courses/math1325', 'snippet': 'Cannot be used to replace MATH 2417 or MATH 2413. Prerequisite: ALEKS score required or a grade of at least a C- in MATH 1314. (3-0) S.'}, {'title': 'Calculus II - UT Dallas 2015 Undergraduate Catalog - The ...', 'link': 'https://catalog.utdallas.edu/2015/undergraduate/courses/math2419', 'snippet': 'MATH 2419 (MATH 2419) Calculus II (4 semester credit hours) Continuation of MATH 2417. Improper integrals, sequences, infinite series, power series,\\xa0...'}, {'title': 'Calculus II - UT Dallas 2022 Graduate Catalog - The University of ...', 'link': 'https://catalog.utdallas.edu/2022/graduate/courses/math2419', 'snippet': 'MATH 2419 Calculus II (4 semester credit hours) Continuation of MATH 2417. Improper integrals, sequences, infinite series, power series,\\xa0...'}]}}\u001b[0m\n",
            "Thought:\u001b[32;1m\u001b[1;3mMath 2417 is Calculus I and Math 2419 is Calculus II\n",
            "Action: UTD Course Search\n",
            "Action Input: Math 2419\u001b[0m\n",
            "Observation: \u001b[33;1m\u001b[1;3m{'course_ids': {'items': [{'title': 'Calculus II - UT Dallas 2018 Undergraduate Catalog - The ...', 'link': 'https://catalog.utdallas.edu/2018/undergraduate/courses/math2419', 'snippet': 'MATH2419 - Calculus II. MATH 2419 Calculus II (4 semester credit hours) Continuation of MATH 2417. Improper integrals, sequences, infinite series,\\xa0...'}, {'title': 'Calculus II - UT Dallas 2022 Graduate Catalog - The University of ...', 'link': 'https://catalog.utdallas.edu/2022/graduate/courses/math2419', 'snippet': 'MATH2419 - Calculus II. MATH 2419 Calculus II (4 semester credit hours) Continuation of MATH 2417. Improper integrals, sequences, infinite series,\\xa0...'}, {'title': 'Calculus II - UT Dallas 2018 Graduate Catalog - The University of ...', 'link': 'https://catalog.utdallas.edu/2018/graduate/courses/math2419', 'snippet': 'MATH2419 - Calculus II. MATH 2419 Calculus II (4 semester credit hours) Continuation of MATH 2417. Improper integrals, sequences, infinite series,\\xa0...'}, {'title': 'Integral Calculus - UT Dallas 2018 Undergraduate Catalog - The ...', 'link': 'https://catalog.utdallas.edu/2018/undergraduate/courses/math2414', 'snippet': 'Cannot be used to replace MATH 2419. Prerequisite: A grade of C- or better in either MATH 2417 or in MATH 2413 or equivalent. (3-2) S.'}, {'title': 'Calculus II - UT Dallas 2015 Undergraduate Catalog - The ...', 'link': 'https://catalog.utdallas.edu/2015/undergraduate/courses/math2419', 'snippet': 'MATH2419 - Calculus II. MATH 2419 (MATH 2419) Calculus II (4 semester credit hours) Continuation of MATH 2417. Improper integrals, sequences, infinite\\xa0...'}, {'title': 'Mathematical Science - UT Dallas 2020 Undergraduate Catalog ...', 'link': 'https://catalog.utdallas.edu/2020/undergraduate/courses/math', 'snippet': 'MATH 1306 College Algebra for the Non-Scientist (3 semester credit hours) This course is intended for ... Cannot be used to replace MATH 2414 or MATH 2419.'}, {'title': 'Engineering - UT Dallas 2022 Undergraduate Catalog - The ...', 'link': 'https://catalog.utdallas.edu/2022/undergraduate/courses/engr', 'snippet': 'ENGR 2300 Linear Algebra for Engineers · MATH 2414 or MATH 2419. (2-1) S ; ENGR 3300 Advanced Engineering Mathematics · (MATH 2415 or MATH 2419 or equivalent) and\\xa0...'}, {'title': 'Engineering - UT Dallas 2014 Undergraduate Catalog - The ...', 'link': 'https://catalog.utdallas.edu/2014/undergraduate/courses/engr', 'snippet': 'Credit cannot be received for both courses, ENGR 2300 and MATH 2418. Prerequisite or Corequisite: MATH 2414 or MATH 2419. (2-1) S.'}, {'title': 'Operations Research - UT Dallas 2018 Undergraduate Catalog ...', 'link': 'https://catalog.utdallas.edu/2018/undergraduate/courses/opre', 'snippet': 'Credit cannot be received for both courses, OPRE 3333 and MATH 2333. ... Prerequisites: OPRE 3310 and (MATH 1326 or MATH 2414 or MATH 2419). (3-0) Y.'}, {'title': 'Scientific Math Computing - UT Dallas 2012 Undergraduate Catalog ...', 'link': 'https://catalog.utdallas.edu/2012/undergraduate/courses/math4332', 'snippet': 'MATH 4332 Scientific Math Computing (3 semester hours) Topics covered ... MATH 2418 and a grade of at least a C- in either MATH 2415 or in MATH 2419.'}]}}\u001b[0m\n",
            "Thought:\u001b[32;1m\u001b[1;3mMath 2417 is Calculus I and Math 2419 is Calculus II.\n",
            "Action: UTD search\n",
            "Action Input: Math 2417 vs Math 2419\u001b[0m\n",
            "Observation: \u001b[38;5;200m\u001b[1;3m{'items': [{'title': 'AS BS Degree Prerequisites Analysis.xlsx', 'link': 'https://www.utdallas.edu/~nah103020/AS%20BS%20Degree%20Prerequisites%20Analysis.pdf', 'snippet': 'MATH 2413 or MATH 2417. Corequisites: MATH 2414 or. MATH 2419 and PHYS 2125/Corequisites: CHEM 1013,. CHEM 1111. Core curriculum requirements. Science.'}, {'title': 'BACHELORS PROGRAM - Mathematical Sciences', 'link': 'https://math.utdallas.edu/files/2022/04/sample-plan-bs_new-2019.pdf', 'snippet': 'ACTS 4305 - Principles of Actuarial Models: Short Term Actuarial Mathematics. (STAM), Part II. 3. 4. 3. 3. 13. Note: 1. MATH 2417 and MATH 2419 requirements\\xa0...'}, {'title': 'Undergraduate Certificate - Data Science Programs | The University ...', 'link': 'https://datascience.utdallas.edu/undergraduate-certificate/', 'snippet': 'Two semesters of calculus, equivalent to MATH 2413 or MATH 2417 (with a grade of C- or higher) and MATH 2414 or MATH 2419 (with a grade of C- or higher).'}, {'title': '2022 Catalog-B.S. Chemistry Degree Plan (120 Hours)', 'link': 'https://bpb-us-e2.wpmucdn.com/sites.utdallas.edu/dist/4/966/files/2022/07/chemistryBS.2022.pdf', 'snippet': 'Differential Calculus or Calculus I. MATH 2413 or 2417*. 4. 3. Integral Calculus or Calculus II. MATH 2414 or 2419*. 4. 3. Sev. Variables or Advanced Cal.'}, {'title': '2022 Catalog-B.S. Actuarial Science Degree Plan (120 Hours)', 'link': 'https://bpb-us-e2.wpmucdn.com/sites.utdallas.edu/dist/4/966/files/2022/07/actuarialscience.2022-1.pdf', 'snippet': 'Calculus II. MATH 2419*. 4. 3. Linear Algebra. MATH 2418. 4. Differential Equations. MATH 2420. 4. Calculus I. MATH 2417*. 4. Mechanics or General Chem I.'}, {'title': 'Supported Courses - Student Success Center | UT Dallas', 'link': 'https://studentsuccess.utdallas.edu/supported-courses-3/', 'snippet': 'PLTL, SI, and Academic Success Coaching is closed for the summer semester and will ... Calculus I and II, MATH 1325/1326, MATH 2413/2414, MATH 2417/2419.'}, {'title': '2021 Catalog-B.A. Chemistry Degree Plan (120 Hours)--Pending ...', 'link': 'https://nsm.utdallas.edu/files/2021/05/ChemistryBA.21degreeplan-1.pdf', 'snippet': 'Differential Calculus or Calculus I. MATH 2413 or 2417*. 4. 3. Integral Calculus or Calculus II. MATH 2414 or 2419*. 4. 3. Sev. Variables or Advanced Cal.'}, {'title': 'Math SE Guided Electives', 'link': 'https://engineering.utdallas.edu/engineering/files/Math-SE-Guided-Electives-1.pdf', 'snippet': 'A grade of at least a C- in either MATH 2415 or in. MATH 2419 or equivalent and a grade of at least a ... MATH 2413 or MATH 2417 or MATH 3321. MATH 4332.'}, {'title': '2022 B.S. Physics Degree Plan (120 Hours)', 'link': 'https://bpb-us-e2.wpmucdn.com/sites.utdallas.edu/dist/4/966/files/2022/07/physicsBS.2022.pdf', 'snippet': 'MATH 2413 or 2417*. 4. Classical Mechanics ... *Select one MATH sequence: (MATH 2413, MATH 2414 & MATH 2415) OR (MATH 2417, MATH 2419, & MATH 2451).'}, {'title': '2021 Catalog-B.A. Physics Degree Plan (120 Hours)--Pending ...', 'link': 'https://bpb-us-e2.wpmucdn.com/sites.utdallas.edu/dist/4/966/files/2021/05/Physics.BA_.21degreeplan-1.pdf', 'snippet': 'MATH 2413 or 2417*. 4. Classical Mechanics ... *Select one MATH sequence: (MATH 2413, MATH 2414 & MATH 2415) OR (MATH 2417, MATH 2419, & MATH 2451).'}]}\u001b[0m\n",
            "Thought:\u001b[32;1m\u001b[1;3m\u001b[0m\n",
            "\n",
            "\u001b[1m> Finished chain.\u001b[0m\n"
          ]
        },
        {
          "ename": "ValueError",
          "evalue": "One output key expected, got dict_keys(['output', 'intermediate_steps'])",
          "output_type": "error",
          "traceback": [
            "\u001b[1;31m---------------------------------------------------------------------------\u001b[0m",
            "\u001b[1;31mValueError\u001b[0m                                Traceback (most recent call last)",
            "Cell \u001b[1;32mIn[173], line 1\u001b[0m\n\u001b[1;32m----> 1\u001b[0m response \u001b[39m=\u001b[39m zero_shot_react_agent(\n\u001b[0;32m      2\u001b[0m         {\n\u001b[0;32m      3\u001b[0m             \u001b[39m\"\u001b[39;49m\u001b[39minput\u001b[39;49m\u001b[39m\"\u001b[39;49m: \u001b[39m\"\u001b[39;49m\u001b[39mWhat is the difference between Math 2417 and Math 2419\u001b[39;49m\u001b[39m\"\u001b[39;49m\n\u001b[0;32m      4\u001b[0m         }\n\u001b[0;32m      5\u001b[0m )\n\u001b[0;32m      6\u001b[0m \u001b[39mprint\u001b[39m(\n\u001b[0;32m      7\u001b[0m     response[\u001b[39m\"\u001b[39m\u001b[39moutput\u001b[39m\u001b[39m\"\u001b[39m]\n\u001b[0;32m      8\u001b[0m )\n",
            "File \u001b[1;32mc:\\Users\\danng\\anaconda3\\lib\\site-packages\\langchain\\chains\\base.py:168\u001b[0m, in \u001b[0;36mChain.__call__\u001b[1;34m(self, inputs, return_only_outputs, callbacks, tags, include_run_info)\u001b[0m\n\u001b[0;32m    166\u001b[0m     \u001b[39mraise\u001b[39;00m e\n\u001b[0;32m    167\u001b[0m run_manager\u001b[39m.\u001b[39mon_chain_end(outputs)\n\u001b[1;32m--> 168\u001b[0m final_outputs: Dict[\u001b[39mstr\u001b[39m, Any] \u001b[39m=\u001b[39m \u001b[39mself\u001b[39;49m\u001b[39m.\u001b[39;49mprep_outputs(\n\u001b[0;32m    169\u001b[0m     inputs, outputs, return_only_outputs\n\u001b[0;32m    170\u001b[0m )\n\u001b[0;32m    171\u001b[0m \u001b[39mif\u001b[39;00m include_run_info:\n\u001b[0;32m    172\u001b[0m     final_outputs[RUN_KEY] \u001b[39m=\u001b[39m RunInfo(run_id\u001b[39m=\u001b[39mrun_manager\u001b[39m.\u001b[39mrun_id)\n",
            "File \u001b[1;32mc:\\Users\\danng\\anaconda3\\lib\\site-packages\\langchain\\chains\\base.py:233\u001b[0m, in \u001b[0;36mChain.prep_outputs\u001b[1;34m(self, inputs, outputs, return_only_outputs)\u001b[0m\n\u001b[0;32m    231\u001b[0m \u001b[39mself\u001b[39m\u001b[39m.\u001b[39m_validate_outputs(outputs)\n\u001b[0;32m    232\u001b[0m \u001b[39mif\u001b[39;00m \u001b[39mself\u001b[39m\u001b[39m.\u001b[39mmemory \u001b[39mis\u001b[39;00m \u001b[39mnot\u001b[39;00m \u001b[39mNone\u001b[39;00m:\n\u001b[1;32m--> 233\u001b[0m     \u001b[39mself\u001b[39;49m\u001b[39m.\u001b[39;49mmemory\u001b[39m.\u001b[39;49msave_context(inputs, outputs)\n\u001b[0;32m    234\u001b[0m \u001b[39mif\u001b[39;00m return_only_outputs:\n\u001b[0;32m    235\u001b[0m     \u001b[39mreturn\u001b[39;00m outputs\n",
            "File \u001b[1;32mc:\\Users\\danng\\anaconda3\\lib\\site-packages\\langchain\\memory\\chat_memory.py:34\u001b[0m, in \u001b[0;36mBaseChatMemory.save_context\u001b[1;34m(self, inputs, outputs)\u001b[0m\n\u001b[0;32m     32\u001b[0m \u001b[39mdef\u001b[39;00m \u001b[39msave_context\u001b[39m(\u001b[39mself\u001b[39m, inputs: Dict[\u001b[39mstr\u001b[39m, Any], outputs: Dict[\u001b[39mstr\u001b[39m, \u001b[39mstr\u001b[39m]) \u001b[39m-\u001b[39m\u001b[39m>\u001b[39m \u001b[39mNone\u001b[39;00m:\n\u001b[0;32m     33\u001b[0m \u001b[39m    \u001b[39m\u001b[39m\"\"\"Save context from this conversation to buffer.\"\"\"\u001b[39;00m\n\u001b[1;32m---> 34\u001b[0m     input_str, output_str \u001b[39m=\u001b[39m \u001b[39mself\u001b[39;49m\u001b[39m.\u001b[39;49m_get_input_output(inputs, outputs)\n\u001b[0;32m     35\u001b[0m     \u001b[39mself\u001b[39m\u001b[39m.\u001b[39mchat_memory\u001b[39m.\u001b[39madd_user_message(input_str)\n\u001b[0;32m     36\u001b[0m     \u001b[39mself\u001b[39m\u001b[39m.\u001b[39mchat_memory\u001b[39m.\u001b[39madd_ai_message(output_str)\n",
            "File \u001b[1;32mc:\\Users\\danng\\anaconda3\\lib\\site-packages\\langchain\\memory\\chat_memory.py:26\u001b[0m, in \u001b[0;36mBaseChatMemory._get_input_output\u001b[1;34m(self, inputs, outputs)\u001b[0m\n\u001b[0;32m     24\u001b[0m \u001b[39mif\u001b[39;00m \u001b[39mself\u001b[39m\u001b[39m.\u001b[39moutput_key \u001b[39mis\u001b[39;00m \u001b[39mNone\u001b[39;00m:\n\u001b[0;32m     25\u001b[0m     \u001b[39mif\u001b[39;00m \u001b[39mlen\u001b[39m(outputs) \u001b[39m!=\u001b[39m \u001b[39m1\u001b[39m:\n\u001b[1;32m---> 26\u001b[0m         \u001b[39mraise\u001b[39;00m \u001b[39mValueError\u001b[39;00m(\u001b[39mf\u001b[39m\u001b[39m\"\u001b[39m\u001b[39mOne output key expected, got \u001b[39m\u001b[39m{\u001b[39;00moutputs\u001b[39m.\u001b[39mkeys()\u001b[39m}\u001b[39;00m\u001b[39m\"\u001b[39m)\n\u001b[0;32m     27\u001b[0m     output_key \u001b[39m=\u001b[39m \u001b[39mlist\u001b[39m(outputs\u001b[39m.\u001b[39mkeys())[\u001b[39m0\u001b[39m]\n\u001b[0;32m     28\u001b[0m \u001b[39melse\u001b[39;00m:\n",
            "\u001b[1;31mValueError\u001b[0m: One output key expected, got dict_keys(['output', 'intermediate_steps'])"
          ]
        }
      ],
      "source": [
        "response = zero_shot_react_agent(\n",
        "        {\n",
        "            \"input\": \"What is the difference between Math 2417 and Math 2419\"\n",
        "        }\n",
        ")\n",
        "print(\n",
        "    response[\"output\"]\n",
        ")\n",
        "\n",
        "\n"
      ]
    },
    {
      "cell_type": "code",
      "execution_count": 170,
      "metadata": {},
      "outputs": [
        {
          "name": "stdout",
          "output_type": "stream",
          "text": [
            "\n",
            "\n",
            "\u001b[1m> Entering new  chain...\u001b[0m\n",
            "\n",
            "\n",
            "\u001b[1m> Entering new  chain...\u001b[0m\n"
          ]
        },
        {
          "ename": "KeyError",
          "evalue": "'intermediate_steps'",
          "output_type": "error",
          "traceback": [
            "\u001b[1;31m---------------------------------------------------------------------------\u001b[0m",
            "\u001b[1;31mKeyError\u001b[0m                                  Traceback (most recent call last)",
            "Cell \u001b[1;32mIn[170], line 1\u001b[0m\n\u001b[1;32m----> 1\u001b[0m agent_executor \u001b[39m=\u001b[39m agent_executor\u001b[39m.\u001b[39;49mrun(\u001b[39m\"\u001b[39;49m\u001b[39mWhat is the difference between Math 2417 and Math 2419\u001b[39;49m\u001b[39m\"\u001b[39;49m)\n\u001b[0;32m      2\u001b[0m \u001b[39mprint\u001b[39m(\n\u001b[0;32m      3\u001b[0m     agent_executor[\u001b[39m\"\u001b[39m\u001b[39moutput\u001b[39m\u001b[39m\"\u001b[39m]\n\u001b[0;32m      4\u001b[0m )\n",
            "File \u001b[1;32mc:\\Users\\danng\\anaconda3\\lib\\site-packages\\langchain\\chains\\base.py:290\u001b[0m, in \u001b[0;36mChain.run\u001b[1;34m(self, callbacks, tags, *args, **kwargs)\u001b[0m\n\u001b[0;32m    288\u001b[0m     \u001b[39mif\u001b[39;00m \u001b[39mlen\u001b[39m(args) \u001b[39m!=\u001b[39m \u001b[39m1\u001b[39m:\n\u001b[0;32m    289\u001b[0m         \u001b[39mraise\u001b[39;00m \u001b[39mValueError\u001b[39;00m(\u001b[39m\"\u001b[39m\u001b[39m`run` supports only one positional argument.\u001b[39m\u001b[39m\"\u001b[39m)\n\u001b[1;32m--> 290\u001b[0m     \u001b[39mreturn\u001b[39;00m \u001b[39mself\u001b[39;49m(args[\u001b[39m0\u001b[39;49m], callbacks\u001b[39m=\u001b[39;49mcallbacks, tags\u001b[39m=\u001b[39;49mtags)[_output_key]\n\u001b[0;32m    292\u001b[0m \u001b[39mif\u001b[39;00m kwargs \u001b[39mand\u001b[39;00m \u001b[39mnot\u001b[39;00m args:\n\u001b[0;32m    293\u001b[0m     \u001b[39mreturn\u001b[39;00m \u001b[39mself\u001b[39m(kwargs, callbacks\u001b[39m=\u001b[39mcallbacks, tags\u001b[39m=\u001b[39mtags)[_output_key]\n",
            "File \u001b[1;32mc:\\Users\\danng\\anaconda3\\lib\\site-packages\\langchain\\chains\\base.py:166\u001b[0m, in \u001b[0;36mChain.__call__\u001b[1;34m(self, inputs, return_only_outputs, callbacks, tags, include_run_info)\u001b[0m\n\u001b[0;32m    164\u001b[0m \u001b[39mexcept\u001b[39;00m (\u001b[39mKeyboardInterrupt\u001b[39;00m, \u001b[39mException\u001b[39;00m) \u001b[39mas\u001b[39;00m e:\n\u001b[0;32m    165\u001b[0m     run_manager\u001b[39m.\u001b[39mon_chain_error(e)\n\u001b[1;32m--> 166\u001b[0m     \u001b[39mraise\u001b[39;00m e\n\u001b[0;32m    167\u001b[0m run_manager\u001b[39m.\u001b[39mon_chain_end(outputs)\n\u001b[0;32m    168\u001b[0m final_outputs: Dict[\u001b[39mstr\u001b[39m, Any] \u001b[39m=\u001b[39m \u001b[39mself\u001b[39m\u001b[39m.\u001b[39mprep_outputs(\n\u001b[0;32m    169\u001b[0m     inputs, outputs, return_only_outputs\n\u001b[0;32m    170\u001b[0m )\n",
            "File \u001b[1;32mc:\\Users\\danng\\anaconda3\\lib\\site-packages\\langchain\\chains\\base.py:160\u001b[0m, in \u001b[0;36mChain.__call__\u001b[1;34m(self, inputs, return_only_outputs, callbacks, tags, include_run_info)\u001b[0m\n\u001b[0;32m    154\u001b[0m run_manager \u001b[39m=\u001b[39m callback_manager\u001b[39m.\u001b[39mon_chain_start(\n\u001b[0;32m    155\u001b[0m     dumpd(\u001b[39mself\u001b[39m),\n\u001b[0;32m    156\u001b[0m     inputs,\n\u001b[0;32m    157\u001b[0m )\n\u001b[0;32m    158\u001b[0m \u001b[39mtry\u001b[39;00m:\n\u001b[0;32m    159\u001b[0m     outputs \u001b[39m=\u001b[39m (\n\u001b[1;32m--> 160\u001b[0m         \u001b[39mself\u001b[39;49m\u001b[39m.\u001b[39;49m_call(inputs, run_manager\u001b[39m=\u001b[39;49mrun_manager)\n\u001b[0;32m    161\u001b[0m         \u001b[39mif\u001b[39;00m new_arg_supported\n\u001b[0;32m    162\u001b[0m         \u001b[39melse\u001b[39;00m \u001b[39mself\u001b[39m\u001b[39m.\u001b[39m_call(inputs)\n\u001b[0;32m    163\u001b[0m     )\n\u001b[0;32m    164\u001b[0m \u001b[39mexcept\u001b[39;00m (\u001b[39mKeyboardInterrupt\u001b[39;00m, \u001b[39mException\u001b[39;00m) \u001b[39mas\u001b[39;00m e:\n\u001b[0;32m    165\u001b[0m     run_manager\u001b[39m.\u001b[39mon_chain_error(e)\n",
            "File \u001b[1;32mc:\\Users\\danng\\anaconda3\\lib\\site-packages\\langchain\\agents\\agent.py:987\u001b[0m, in \u001b[0;36mAgentExecutor._call\u001b[1;34m(self, inputs, run_manager)\u001b[0m\n\u001b[0;32m    985\u001b[0m \u001b[39m# We now enter the agent loop (until it returns something).\u001b[39;00m\n\u001b[0;32m    986\u001b[0m \u001b[39mwhile\u001b[39;00m \u001b[39mself\u001b[39m\u001b[39m.\u001b[39m_should_continue(iterations, time_elapsed):\n\u001b[1;32m--> 987\u001b[0m     next_step_output \u001b[39m=\u001b[39m \u001b[39mself\u001b[39;49m\u001b[39m.\u001b[39;49m_take_next_step(\n\u001b[0;32m    988\u001b[0m         name_to_tool_map,\n\u001b[0;32m    989\u001b[0m         color_mapping,\n\u001b[0;32m    990\u001b[0m         inputs,\n\u001b[0;32m    991\u001b[0m         intermediate_steps,\n\u001b[0;32m    992\u001b[0m         run_manager\u001b[39m=\u001b[39;49mrun_manager,\n\u001b[0;32m    993\u001b[0m     )\n\u001b[0;32m    994\u001b[0m     \u001b[39mif\u001b[39;00m \u001b[39misinstance\u001b[39m(next_step_output, AgentFinish):\n\u001b[0;32m    995\u001b[0m         \u001b[39mreturn\u001b[39;00m \u001b[39mself\u001b[39m\u001b[39m.\u001b[39m_return(\n\u001b[0;32m    996\u001b[0m             next_step_output, intermediate_steps, run_manager\u001b[39m=\u001b[39mrun_manager\n\u001b[0;32m    997\u001b[0m         )\n",
            "File \u001b[1;32mc:\\Users\\danng\\anaconda3\\lib\\site-packages\\langchain\\agents\\agent.py:792\u001b[0m, in \u001b[0;36mAgentExecutor._take_next_step\u001b[1;34m(self, name_to_tool_map, color_mapping, inputs, intermediate_steps, run_manager)\u001b[0m\n\u001b[0;32m    786\u001b[0m \u001b[39m\u001b[39m\u001b[39m\"\"\"Take a single step in the thought-action-observation loop.\u001b[39;00m\n\u001b[0;32m    787\u001b[0m \n\u001b[0;32m    788\u001b[0m \u001b[39mOverride this to take control of how the agent makes and acts on choices.\u001b[39;00m\n\u001b[0;32m    789\u001b[0m \u001b[39m\"\"\"\u001b[39;00m\n\u001b[0;32m    790\u001b[0m \u001b[39mtry\u001b[39;00m:\n\u001b[0;32m    791\u001b[0m     \u001b[39m# Call the LLM to see what to do.\u001b[39;00m\n\u001b[1;32m--> 792\u001b[0m     output \u001b[39m=\u001b[39m \u001b[39mself\u001b[39m\u001b[39m.\u001b[39magent\u001b[39m.\u001b[39mplan(\n\u001b[0;32m    793\u001b[0m         intermediate_steps,\n\u001b[0;32m    794\u001b[0m         callbacks\u001b[39m=\u001b[39mrun_manager\u001b[39m.\u001b[39mget_child() \u001b[39mif\u001b[39;00m run_manager \u001b[39melse\u001b[39;00m \u001b[39mNone\u001b[39;00m,\n\u001b[0;32m    795\u001b[0m         \u001b[39m*\u001b[39m\u001b[39m*\u001b[39minputs,\n\u001b[0;32m    796\u001b[0m     )\n\u001b[0;32m    797\u001b[0m \u001b[39mexcept\u001b[39;00m OutputParserException \u001b[39mas\u001b[39;00m e:\n\u001b[0;32m    798\u001b[0m     \u001b[39mif\u001b[39;00m \u001b[39misinstance\u001b[39m(\u001b[39mself\u001b[39m\u001b[39m.\u001b[39mhandle_parsing_errors, \u001b[39mbool\u001b[39m):\n",
            "File \u001b[1;32mc:\\Users\\danng\\anaconda3\\lib\\site-packages\\langchain\\agents\\agent.py:339\u001b[0m, in \u001b[0;36mLLMSingleActionAgent.plan\u001b[1;34m(self, intermediate_steps, callbacks, **kwargs)\u001b[0m\n\u001b[0;32m    322\u001b[0m \u001b[39mdef\u001b[39;00m \u001b[39mplan\u001b[39m(\n\u001b[0;32m    323\u001b[0m     \u001b[39mself\u001b[39m,\n\u001b[0;32m    324\u001b[0m     intermediate_steps: List[Tuple[AgentAction, \u001b[39mstr\u001b[39m]],\n\u001b[0;32m    325\u001b[0m     callbacks: Callbacks \u001b[39m=\u001b[39m \u001b[39mNone\u001b[39;00m,\n\u001b[0;32m    326\u001b[0m     \u001b[39m*\u001b[39m\u001b[39m*\u001b[39mkwargs: Any,\n\u001b[0;32m    327\u001b[0m ) \u001b[39m-\u001b[39m\u001b[39m>\u001b[39m Union[AgentAction, AgentFinish]:\n\u001b[0;32m    328\u001b[0m \u001b[39m    \u001b[39m\u001b[39m\"\"\"Given input, decided what to do.\u001b[39;00m\n\u001b[0;32m    329\u001b[0m \n\u001b[0;32m    330\u001b[0m \u001b[39m    Args:\u001b[39;00m\n\u001b[1;32m   (...)\u001b[0m\n\u001b[0;32m    337\u001b[0m \u001b[39m        Action specifying what tool to use.\u001b[39;00m\n\u001b[0;32m    338\u001b[0m \u001b[39m    \"\"\"\u001b[39;00m\n\u001b[1;32m--> 339\u001b[0m     output \u001b[39m=\u001b[39m \u001b[39mself\u001b[39m\u001b[39m.\u001b[39mllm_chain\u001b[39m.\u001b[39mrun(\n\u001b[0;32m    340\u001b[0m         intermediate_steps\u001b[39m=\u001b[39mintermediate_steps,\n\u001b[0;32m    341\u001b[0m         stop\u001b[39m=\u001b[39m\u001b[39mself\u001b[39m\u001b[39m.\u001b[39mstop,\n\u001b[0;32m    342\u001b[0m         callbacks\u001b[39m=\u001b[39mcallbacks,\n\u001b[0;32m    343\u001b[0m         \u001b[39m*\u001b[39m\u001b[39m*\u001b[39mkwargs,\n\u001b[0;32m    344\u001b[0m     )\n\u001b[0;32m    345\u001b[0m     \u001b[39mreturn\u001b[39;00m \u001b[39mself\u001b[39m\u001b[39m.\u001b[39moutput_parser\u001b[39m.\u001b[39mparse(output)\n",
            "File \u001b[1;32mc:\\Users\\danng\\anaconda3\\lib\\site-packages\\langchain\\chains\\base.py:293\u001b[0m, in \u001b[0;36mChain.run\u001b[1;34m(self, callbacks, tags, *args, **kwargs)\u001b[0m\n\u001b[0;32m    290\u001b[0m     \u001b[39mreturn\u001b[39;00m \u001b[39mself\u001b[39m(args[\u001b[39m0\u001b[39m], callbacks\u001b[39m=\u001b[39mcallbacks, tags\u001b[39m=\u001b[39mtags)[_output_key]\n\u001b[0;32m    292\u001b[0m \u001b[39mif\u001b[39;00m kwargs \u001b[39mand\u001b[39;00m \u001b[39mnot\u001b[39;00m args:\n\u001b[1;32m--> 293\u001b[0m     \u001b[39mreturn\u001b[39;00m \u001b[39mself\u001b[39;49m(kwargs, callbacks\u001b[39m=\u001b[39;49mcallbacks, tags\u001b[39m=\u001b[39;49mtags)[_output_key]\n\u001b[0;32m    295\u001b[0m \u001b[39mif\u001b[39;00m \u001b[39mnot\u001b[39;00m kwargs \u001b[39mand\u001b[39;00m \u001b[39mnot\u001b[39;00m args:\n\u001b[0;32m    296\u001b[0m     \u001b[39mraise\u001b[39;00m \u001b[39mValueError\u001b[39;00m(\n\u001b[0;32m    297\u001b[0m         \u001b[39m\"\u001b[39m\u001b[39m`run` supported with either positional arguments or keyword arguments,\u001b[39m\u001b[39m\"\u001b[39m\n\u001b[0;32m    298\u001b[0m         \u001b[39m\"\u001b[39m\u001b[39m but none were provided.\u001b[39m\u001b[39m\"\u001b[39m\n\u001b[0;32m    299\u001b[0m     )\n",
            "File \u001b[1;32mc:\\Users\\danng\\anaconda3\\lib\\site-packages\\langchain\\chains\\base.py:166\u001b[0m, in \u001b[0;36mChain.__call__\u001b[1;34m(self, inputs, return_only_outputs, callbacks, tags, include_run_info)\u001b[0m\n\u001b[0;32m    164\u001b[0m \u001b[39mexcept\u001b[39;00m (\u001b[39mKeyboardInterrupt\u001b[39;00m, \u001b[39mException\u001b[39;00m) \u001b[39mas\u001b[39;00m e:\n\u001b[0;32m    165\u001b[0m     run_manager\u001b[39m.\u001b[39mon_chain_error(e)\n\u001b[1;32m--> 166\u001b[0m     \u001b[39mraise\u001b[39;00m e\n\u001b[0;32m    167\u001b[0m run_manager\u001b[39m.\u001b[39mon_chain_end(outputs)\n\u001b[0;32m    168\u001b[0m final_outputs: Dict[\u001b[39mstr\u001b[39m, Any] \u001b[39m=\u001b[39m \u001b[39mself\u001b[39m\u001b[39m.\u001b[39mprep_outputs(\n\u001b[0;32m    169\u001b[0m     inputs, outputs, return_only_outputs\n\u001b[0;32m    170\u001b[0m )\n",
            "File \u001b[1;32mc:\\Users\\danng\\anaconda3\\lib\\site-packages\\langchain\\chains\\base.py:160\u001b[0m, in \u001b[0;36mChain.__call__\u001b[1;34m(self, inputs, return_only_outputs, callbacks, tags, include_run_info)\u001b[0m\n\u001b[0;32m    154\u001b[0m run_manager \u001b[39m=\u001b[39m callback_manager\u001b[39m.\u001b[39mon_chain_start(\n\u001b[0;32m    155\u001b[0m     dumpd(\u001b[39mself\u001b[39m),\n\u001b[0;32m    156\u001b[0m     inputs,\n\u001b[0;32m    157\u001b[0m )\n\u001b[0;32m    158\u001b[0m \u001b[39mtry\u001b[39;00m:\n\u001b[0;32m    159\u001b[0m     outputs \u001b[39m=\u001b[39m (\n\u001b[1;32m--> 160\u001b[0m         \u001b[39mself\u001b[39;49m\u001b[39m.\u001b[39;49m_call(inputs, run_manager\u001b[39m=\u001b[39;49mrun_manager)\n\u001b[0;32m    161\u001b[0m         \u001b[39mif\u001b[39;00m new_arg_supported\n\u001b[0;32m    162\u001b[0m         \u001b[39melse\u001b[39;00m \u001b[39mself\u001b[39m\u001b[39m.\u001b[39m_call(inputs)\n\u001b[0;32m    163\u001b[0m     )\n\u001b[0;32m    164\u001b[0m \u001b[39mexcept\u001b[39;00m (\u001b[39mKeyboardInterrupt\u001b[39;00m, \u001b[39mException\u001b[39;00m) \u001b[39mas\u001b[39;00m e:\n\u001b[0;32m    165\u001b[0m     run_manager\u001b[39m.\u001b[39mon_chain_error(e)\n",
            "File \u001b[1;32mc:\\Users\\danng\\anaconda3\\lib\\site-packages\\langchain\\chains\\llm.py:92\u001b[0m, in \u001b[0;36mLLMChain._call\u001b[1;34m(self, inputs, run_manager)\u001b[0m\n\u001b[0;32m     87\u001b[0m \u001b[39mdef\u001b[39;00m \u001b[39m_call\u001b[39m(\n\u001b[0;32m     88\u001b[0m     \u001b[39mself\u001b[39m,\n\u001b[0;32m     89\u001b[0m     inputs: Dict[\u001b[39mstr\u001b[39m, Any],\n\u001b[0;32m     90\u001b[0m     run_manager: Optional[CallbackManagerForChainRun] \u001b[39m=\u001b[39m \u001b[39mNone\u001b[39;00m,\n\u001b[0;32m     91\u001b[0m ) \u001b[39m-\u001b[39m\u001b[39m>\u001b[39m Dict[\u001b[39mstr\u001b[39m, \u001b[39mstr\u001b[39m]:\n\u001b[1;32m---> 92\u001b[0m     response \u001b[39m=\u001b[39m \u001b[39mself\u001b[39;49m\u001b[39m.\u001b[39;49mgenerate([inputs], run_manager\u001b[39m=\u001b[39;49mrun_manager)\n\u001b[0;32m     93\u001b[0m     \u001b[39mreturn\u001b[39;00m \u001b[39mself\u001b[39m\u001b[39m.\u001b[39mcreate_outputs(response)[\u001b[39m0\u001b[39m]\n",
            "File \u001b[1;32mc:\\Users\\danng\\anaconda3\\lib\\site-packages\\langchain\\chains\\llm.py:101\u001b[0m, in \u001b[0;36mLLMChain.generate\u001b[1;34m(self, input_list, run_manager)\u001b[0m\n\u001b[0;32m     95\u001b[0m \u001b[39mdef\u001b[39;00m \u001b[39mgenerate\u001b[39m(\n\u001b[0;32m     96\u001b[0m     \u001b[39mself\u001b[39m,\n\u001b[0;32m     97\u001b[0m     input_list: List[Dict[\u001b[39mstr\u001b[39m, Any]],\n\u001b[0;32m     98\u001b[0m     run_manager: Optional[CallbackManagerForChainRun] \u001b[39m=\u001b[39m \u001b[39mNone\u001b[39;00m,\n\u001b[0;32m     99\u001b[0m ) \u001b[39m-\u001b[39m\u001b[39m>\u001b[39m LLMResult:\n\u001b[0;32m    100\u001b[0m \u001b[39m    \u001b[39m\u001b[39m\"\"\"Generate LLM result from inputs.\"\"\"\u001b[39;00m\n\u001b[1;32m--> 101\u001b[0m     prompts, stop \u001b[39m=\u001b[39m \u001b[39mself\u001b[39;49m\u001b[39m.\u001b[39;49mprep_prompts(input_list, run_manager\u001b[39m=\u001b[39;49mrun_manager)\n\u001b[0;32m    102\u001b[0m     \u001b[39mreturn\u001b[39;00m \u001b[39mself\u001b[39m\u001b[39m.\u001b[39mllm\u001b[39m.\u001b[39mgenerate_prompt(\n\u001b[0;32m    103\u001b[0m         prompts,\n\u001b[0;32m    104\u001b[0m         stop,\n\u001b[0;32m    105\u001b[0m         callbacks\u001b[39m=\u001b[39mrun_manager\u001b[39m.\u001b[39mget_child() \u001b[39mif\u001b[39;00m run_manager \u001b[39melse\u001b[39;00m \u001b[39mNone\u001b[39;00m,\n\u001b[0;32m    106\u001b[0m         \u001b[39m*\u001b[39m\u001b[39m*\u001b[39m\u001b[39mself\u001b[39m\u001b[39m.\u001b[39mllm_kwargs,\n\u001b[0;32m    107\u001b[0m     )\n",
            "File \u001b[1;32mc:\\Users\\danng\\anaconda3\\lib\\site-packages\\langchain\\chains\\llm.py:135\u001b[0m, in \u001b[0;36mLLMChain.prep_prompts\u001b[1;34m(self, input_list, run_manager)\u001b[0m\n\u001b[0;32m    133\u001b[0m \u001b[39mfor\u001b[39;00m inputs \u001b[39min\u001b[39;00m input_list:\n\u001b[0;32m    134\u001b[0m     selected_inputs \u001b[39m=\u001b[39m {k: inputs[k] \u001b[39mfor\u001b[39;00m k \u001b[39min\u001b[39;00m \u001b[39mself\u001b[39m\u001b[39m.\u001b[39mprompt\u001b[39m.\u001b[39minput_variables}\n\u001b[1;32m--> 135\u001b[0m     prompt \u001b[39m=\u001b[39m \u001b[39mself\u001b[39m\u001b[39m.\u001b[39mprompt\u001b[39m.\u001b[39mformat_prompt(\u001b[39m*\u001b[39m\u001b[39m*\u001b[39mselected_inputs)\n\u001b[0;32m    136\u001b[0m     _colored_text \u001b[39m=\u001b[39m get_colored_text(prompt\u001b[39m.\u001b[39mto_string(), \u001b[39m\"\u001b[39m\u001b[39mgreen\u001b[39m\u001b[39m\"\u001b[39m)\n\u001b[0;32m    137\u001b[0m     _text \u001b[39m=\u001b[39m \u001b[39m\"\u001b[39m\u001b[39mPrompt after formatting:\u001b[39m\u001b[39m\\n\u001b[39;00m\u001b[39m\"\u001b[39m \u001b[39m+\u001b[39m _colored_text\n",
            "File \u001b[1;32mc:\\Users\\danng\\anaconda3\\lib\\site-packages\\langchain\\prompts\\base.py:245\u001b[0m, in \u001b[0;36mStringPromptTemplate.format_prompt\u001b[1;34m(self, **kwargs)\u001b[0m\n\u001b[0;32m    243\u001b[0m \u001b[39mdef\u001b[39;00m \u001b[39mformat_prompt\u001b[39m(\u001b[39mself\u001b[39m, \u001b[39m*\u001b[39m\u001b[39m*\u001b[39mkwargs: Any) \u001b[39m-\u001b[39m\u001b[39m>\u001b[39m PromptValue:\n\u001b[0;32m    244\u001b[0m \u001b[39m    \u001b[39m\u001b[39m\"\"\"Create Chat Messages.\"\"\"\u001b[39;00m\n\u001b[1;32m--> 245\u001b[0m     \u001b[39mreturn\u001b[39;00m StringPromptValue(text\u001b[39m=\u001b[39m\u001b[39mself\u001b[39m\u001b[39m.\u001b[39mformat(\u001b[39m*\u001b[39m\u001b[39m*\u001b[39mkwargs))\n",
            "Cell \u001b[1;32mIn[132], line 12\u001b[0m, in \u001b[0;36mCustomPromptTemplate.format\u001b[1;34m(self, **kwargs)\u001b[0m\n\u001b[0;32m      9\u001b[0m \u001b[39mdef\u001b[39;00m \u001b[39mformat\u001b[39m(\u001b[39mself\u001b[39m, \u001b[39m*\u001b[39m\u001b[39m*\u001b[39mkwargs) \u001b[39m-\u001b[39m\u001b[39m>\u001b[39m \u001b[39mstr\u001b[39m:\n\u001b[0;32m     10\u001b[0m     \u001b[39m# Get the intermediate steps (AgentAction, Observation tuples)\u001b[39;00m\n\u001b[0;32m     11\u001b[0m     \u001b[39m# Format them in a particular way\u001b[39;00m\n\u001b[1;32m---> 12\u001b[0m     intermediate_steps \u001b[39m=\u001b[39m kwargs\u001b[39m.\u001b[39;49mpop(\u001b[39m\"\u001b[39;49m\u001b[39mintermediate_steps\u001b[39;49m\u001b[39m\"\u001b[39;49m)\n\u001b[0;32m     13\u001b[0m     thoughts \u001b[39m=\u001b[39m \u001b[39m\"\u001b[39m\u001b[39m\"\u001b[39m\n\u001b[0;32m     14\u001b[0m     \u001b[39mfor\u001b[39;00m action, observation \u001b[39min\u001b[39;00m intermediate_steps:\n",
            "\u001b[1;31mKeyError\u001b[0m: 'intermediate_steps'"
          ]
        }
      ],
      "source": [
        "agent_executor = agent_executor.run(\"What is the difference between Math 2417 and Math 2419\")\n",
        "print(\n",
        "    agent_executor[\"output\"]\n",
        ")"
      ]
    },
    {
      "cell_type": "code",
      "execution_count": 162,
      "metadata": {
        "colab": {
          "base_uri": "https://localhost:8080/",
          "height": 1000
        },
        "id": "n_IOo8W9QFDh",
        "outputId": "decfc5ab-e8d0-46f5-e5dc-9c437b66d8fb"
      },
      "outputs": [
        {
          "name": "stdout",
          "output_type": "stream",
          "text": [
            "\n",
            "\n",
            "\u001b[1m> Entering new  chain...\u001b[0m\n",
            "steps=[Step(value='Go to the course catalog'), Step(value='Search for Math 2417'), Step(value='Read the course description'), Step(value='Search for Math 2419'), Step(value='Read the course description'), Step(value='Compare the two course descriptions'), Step(value='Given the above steps taken, please respond to the users original question\\n')]\n",
            "\n",
            "\u001b[1m> Entering new  chain...\u001b[0m\n"
          ]
        },
        {
          "data": {
            "text/html": [
              "<pre style=\"white-space:pre;overflow-x:auto;line-height:normal;font-family:Menlo,'DejaVu Sans Mono',consolas,'Courier New',monospace\">Could not parse LLM output: Question: What is the course catalog?\n",
              "Action:\n",
              "```\n",
              "<span style=\"font-weight: bold\">{</span>\n",
              "  <span style=\"color: #008000; text-decoration-color: #008000\">\"action\"</span>: UTD search,\n",
              "  <span style=\"color: #008000; text-decoration-color: #008000\">\"action_input\"</span>: <span style=\"color: #008000; text-decoration-color: #008000\">\"course catalog\"</span>\n",
              "<span style=\"font-weight: bold\">}</span>\n",
              "```\n",
              "\n",
              "</pre>\n"
            ],
            "text/plain": [
              "Could not parse LLM output: Question: What is the course catalog?\n",
              "Action:\n",
              "```\n",
              "\u001b[1m{\u001b[0m\n",
              "  \u001b[32m\"action\"\u001b[0m: UTD search,\n",
              "  \u001b[32m\"action_input\"\u001b[0m: \u001b[32m\"course catalog\"\u001b[0m\n",
              "\u001b[1m}\u001b[0m\n",
              "```\n",
              "\n"
            ]
          },
          "metadata": {},
          "output_type": "display_data"
        }
      ],
      "source": [
        "try:\n",
        "  plan_execute_response = plan_and_execute(\n",
        "    \"What is the difference between Math 2417 and Math 2419\"\n",
        "  )\n",
        "  print(\n",
        "    plan_execute_response[\"output\"]\n",
        "  )\n",
        "except Exception as e:\n",
        "  print(e)\n",
        "\n",
        "\n",
        "\n"
      ]
    },
    {
      "attachments": {},
      "cell_type": "markdown",
      "metadata": {
        "id": "iDEPUnZ-aY8M"
      },
      "source": [
        "## Contacting People at my University"
      ]
    },
    {
      "cell_type": "code",
      "execution_count": 44,
      "metadata": {
        "colab": {
          "base_uri": "https://localhost:8080/",
          "height": 868
        },
        "id": "TRaT2Vezm3v2",
        "outputId": "c0e17883-223e-46e4-bba6-a957f016115a"
      },
      "outputs": [
        {
          "name": "stdout",
          "output_type": "stream",
          "text": [
            "\n",
            "\n",
            "\u001b[1m> Entering new  chain...\u001b[0m\n",
            "\u001b[32;1m\u001b[1;3mI don't know what you are talking about.\n",
            "Action: UTD Search\n",
            "Action Input: accounting advising\u001b[0m\n",
            "Observation: \u001b[38;5;200m\u001b[1;3m{'items': [{'title': 'Academic Advising | Naveen Jindal School of Management - Dallas', 'link': 'https://jindal.utdallas.edu/advising/', 'snippet': 'JSOM Academic Advising is here to help guide you by providing you with new student guidelines, registration steps, and graduation information. Read more.'}, {'title': 'MS Accounting Registration/CPA Advising Session - Comet Calendar', 'link': 'https://calendar.utdallas.edu/event/ms_accounting_registrationcpa_advising_session_3439', 'snippet': 'MS Accounting Registration/CPA Advising Session. Wednesday, September 2, 2020 at 12:00pm to 2:00pm. Virtual Event. To help you review your CPA eligibility\\xa0...'}, {'title': 'Staff List | Naveen Jindal School of Management - Dallas', 'link': 'https://jindal.utdallas.edu/staff-list/', 'snippet': 'Oct 20, 2021 ... Van Dam. Program Manager, Undergraduate Accounting Program ... Undergraduate Academic Advisor ... Assistant Director, Graduate Advising.'}, {'title': 'Academic Advising - Registrar | The University of Texas at Dallas', 'link': 'https://registrar.utdallas.edu/registration/academic-advising/', 'snippet': 'Do I need to see an advisor? New Undergraduate Students New freshman and transfer students must complete their orientation modules before they can be ...'}, {'title': 'Contact Information | Naveen Jindal School of Management - Dallas', 'link': 'https://jindal.utdallas.edu/about-the-jindal-school-of-management/contact/', 'snippet': 'Advising Office The Naveen Jindal School of Management ... Undergraduate Advising: (972) 883-2275 ... Accounting, msaccounting@utdallas.edu.'}, {'title': 'Contact Us - MS in Accounting Flex - Naveen Jindal School ... - Dallas', 'link': 'https://accounting.utdallas.edu/ms-accounting-flex/contact/', 'snippet': \"Jan 20, 2023 ... We'd love to speak with you! Call the MS in Accounting Flex Program at (972)-883-5031. Email msaccounting@utdallas.edu to talk with an MS .\"}, {'title': 'Advising Contacts - The University of Texas at Dallas', 'link': 'https://ets.utdallas.edu/elearning/students/current/advising-contacts', 'snippet': 'Advisors/Contacts · MAT in Science and Mathematics Education · Online MBA · Project Management Program EMBA · MS in Accounting · Organizational Behavior and Coaching\\xa0...'}, {'title': 'Connect With Us | Naveen Jindal School of Management - Dallas', 'link': 'https://jindal.utdallas.edu/advising/connect-with-us/', 'snippet': 'Apr 21, 2023 ... The Advising Office and Program Directors are ready to assist with your ... If you are a student in Accounting Cohort, Business Analytics\\xa0...'}, {'title': 'Events - Comet Calendar - Dallas', 'link': 'https://calendar.utdallas.edu/search/events?experience=virtual&past=1&search=registrar+registration', 'snippet': 'Join a touchpoint with your MBA advisors to ask any questions you may have.... 3/31/2022 12pm to 1pm ... MS Accounting Registration/CPA Advising Session\\xa0...'}, {'title': 'New Students | Naveen Jindal School of Management - Dallas', 'link': 'https://jindal.utdallas.edu/advising/new-students/', 'snippet': \"Mar 20, 2023 ... Check your UTD email! The Graduate Associate Dean's Office, Program Directors, and the Academic Advising Office will email you information to\\xa0...\"}]}\u001b[0m\n",
            "Thought:\u001b[32;1m\u001b[1;3mI found the phone number to contact for Accounting advising is (972) 883-2275.\n",
            "Final Answer: (972) 883-2275\u001b[0m\n",
            "\n",
            "\u001b[1m> Finished chain.\u001b[0m\n"
          ]
        },
        {
          "data": {
            "text/html": [
              "<pre style=\"white-space:pre;overflow-x:auto;line-height:normal;font-family:Menlo,'DejaVu Sans Mono',consolas,'Courier New',monospace\"><span style=\"font-weight: bold\">(</span><span style=\"color: #008080; text-decoration-color: #008080; font-weight: bold\">972</span><span style=\"font-weight: bold\">)</span> <span style=\"color: #008080; text-decoration-color: #008080; font-weight: bold\">883</span>-<span style=\"color: #008080; text-decoration-color: #008080; font-weight: bold\">2275</span>\n",
              "</pre>\n"
            ],
            "text/plain": [
              "\u001b[1m(\u001b[0m\u001b[1;36m972\u001b[0m\u001b[1m)\u001b[0m \u001b[1;36m883\u001b[0m-\u001b[1;36m2275\u001b[0m\n"
            ]
          },
          "metadata": {},
          "output_type": "display_data"
        }
      ],
      "source": [
        "zero_shot_react_agent_response = zero_shot_react_agent(\n",
        "    {\n",
        "        \"input\": \"What is the phone number to contact for Accounting advising?\"\n",
        "    }\n",
        ")\n",
        "print(\n",
        "    zero_shot_react_agent_response[\"output\"]\n",
        ")\n"
      ]
    },
    {
      "attachments": {},
      "cell_type": "markdown",
      "metadata": {},
      "source": [
        "## How do I apply at UT Dallas"
      ]
    },
    {
      "cell_type": "code",
      "execution_count": 45,
      "metadata": {},
      "outputs": [
        {
          "name": "stdout",
          "output_type": "stream",
          "text": [
            "\n",
            "\n",
            "\u001b[1m> Entering new  chain...\u001b[0m\n",
            "\u001b[32;1m\u001b[1;3mI don't know what UTD is.\n",
            "Action: Dictionary for a word or phrases for general knowledge not related to UT Dallas\n",
            "Action Input: UTD\u001b[0m\n",
            "Observation: \u001b[33;1m\u001b[1;3m{'UTD': None}\u001b[0m\n",
            "Thought:\u001b[32;1m\u001b[1;3mI still don't know what UTD is.\n",
            "Action: UTD Search\n",
            "Action Input: apply to UTD\u001b[0m\n",
            "Observation: \u001b[38;5;200m\u001b[1;3m{'items': [{'title': 'Apply', 'link': 'https://enroll.utdallas.edu/apply/', 'snippet': 'Submit an essay detailing the coursework you wish to complete at UT Dallas. Pay the $50 application fee. If you are interested in taking graduate classes or\\xa0...'}, {'title': 'Steps To Apply - Graduate Admissions | The University of Texas at ...', 'link': 'https://graduate-admissions.utdallas.edu/apply-to-ut-dallas/apply/', 'snippet': 'Although UT Dallas sets minimum requirements, other application requirements vary by program. Check out the links below to learn what you will need to apply\\xa0...'}, {'title': 'UT Dallas - Check Your Application Status', 'link': 'https://www.utdallas.edu/status/', 'snippet': 'Learn how to check your UT Dallas application status, view your UTD application to-do list and how to take the next steps to enroll at UTD.'}, {'title': 'Admissions | The University of Texas at Dallas', 'link': 'https://www.utdallas.edu/admissions/', 'snippet': 'Explore the UT Dallas admissions process, connect with counselors, take a campus tour and ... Explore the application process, admission resources and more.'}, {'title': 'Application Process - Office of Admission and Enrollment | The ...', 'link': 'https://enroll.utdallas.edu/freshman/application-process/', 'snippet': 'Freshman Admissions: Application Process · Freshman Application Dates (Domestic & International) · Submit your admission application. · Submit your SAT scores, ACT\\xa0...'}, {'title': 'Apply To UT Dallas - Graduate Admissions | The University of Texas ...', 'link': 'https://graduate-admissions.utdallas.edu/apply-to-ut-dallas/', 'snippet': 'UT Dallas does not discriminate on the basis of race, color, religion, sex (including pregnancy), sexual orientation, gender identity, gender expression, age,\\xa0...'}, {'title': 'Homepage - Graduate Admissions | The University of Texas at Dallas', 'link': 'https://graduate-admissions.utdallas.edu/', 'snippet': \"Graduate Admissions at UT Dallas Your future is bright. We're here to help you ... Apply To UT Dallas. Let us walk you through the application process.\"}, {'title': 'Graduate Scholarships | Naveen Jindal School of Management', 'link': 'https://jindal.utdallas.edu/student-resources/scholarships/graduate-scholarships/', 'snippet': 'May 1, 2023 ... Students may simultaneously apply for other scholarships from multiple other organizations, such as UT Dallas, industry and trade groups,\\xa0...'}, {'title': 'Deadlines and Fees - Graduate Admissions | The University of ...', 'link': 'https://graduate-admissions.utdallas.edu/apply-to-ut-dallas/deadlines-and-fees/', 'snippet': 'Deadlines and Fees Application Deadlines UT Dallas encourages applicants to submit their application and supporting documents as early a...'}, {'title': 'Steps To Apply - UT Dallas Quick Admit', 'link': 'https://graduate-admissions.utdallas.edu/apply-to-ut-dallas/apply/ut-dallas-quick-admit/', 'snippet': 'UT Dallas Quick Admit The Graduate Quick Admit application is only for students currently pursuing or recently receiving an undergraduate degree at U...'}]}\u001b[0m\n",
            "Thought:"
          ]
        },
        {
          "ename": "OutputParserException",
          "evalue": "Could not parse LLM output: `I found the following links:\nhttps://enroll.utdallas.edu/apply/\nhttps://graduate-admissions.utdallas.edu/apply-to-ut-dallas/apply/\nhttps://www.utdallas.edu/status/\nhttps://www.utdallas.edu/admissions/\nhttps://enroll.utdallas.edu/freshman/application-process/\nhttps://graduate-admissions.utdallas.edu/apply-to-ut-dallas/\nhttps://graduate-admissions.utdallas.edu/`",
          "output_type": "error",
          "traceback": [
            "\u001b[1;31m---------------------------------------------------------------------------\u001b[0m",
            "\u001b[1;31mOutputParserException\u001b[0m                     Traceback (most recent call last)",
            "Cell \u001b[1;32mIn[45], line 1\u001b[0m\n\u001b[1;32m----> 1\u001b[0m zero_shot_react_agent_response \u001b[39m=\u001b[39m zero_shot_react_agent(\n\u001b[0;32m      2\u001b[0m     {\n\u001b[0;32m      3\u001b[0m         \u001b[39m\"\u001b[39;49m\u001b[39minput\u001b[39;49m\u001b[39m\"\u001b[39;49m: \u001b[39m\"\u001b[39;49m\u001b[39mHow do I applying to UTD?\u001b[39;49m\u001b[39m\"\u001b[39;49m\n\u001b[0;32m      4\u001b[0m     }\n\u001b[0;32m      5\u001b[0m )\n",
            "File \u001b[1;32mc:\\Users\\danng\\anaconda3\\lib\\site-packages\\langchain\\chains\\base.py:166\u001b[0m, in \u001b[0;36mChain.__call__\u001b[1;34m(self, inputs, return_only_outputs, callbacks, tags, include_run_info)\u001b[0m\n\u001b[0;32m    164\u001b[0m \u001b[39mexcept\u001b[39;00m (\u001b[39mKeyboardInterrupt\u001b[39;00m, \u001b[39mException\u001b[39;00m) \u001b[39mas\u001b[39;00m e:\n\u001b[0;32m    165\u001b[0m     run_manager\u001b[39m.\u001b[39mon_chain_error(e)\n\u001b[1;32m--> 166\u001b[0m     \u001b[39mraise\u001b[39;00m e\n\u001b[0;32m    167\u001b[0m run_manager\u001b[39m.\u001b[39mon_chain_end(outputs)\n\u001b[0;32m    168\u001b[0m final_outputs: Dict[\u001b[39mstr\u001b[39m, Any] \u001b[39m=\u001b[39m \u001b[39mself\u001b[39m\u001b[39m.\u001b[39mprep_outputs(\n\u001b[0;32m    169\u001b[0m     inputs, outputs, return_only_outputs\n\u001b[0;32m    170\u001b[0m )\n",
            "File \u001b[1;32mc:\\Users\\danng\\anaconda3\\lib\\site-packages\\langchain\\chains\\base.py:160\u001b[0m, in \u001b[0;36mChain.__call__\u001b[1;34m(self, inputs, return_only_outputs, callbacks, tags, include_run_info)\u001b[0m\n\u001b[0;32m    154\u001b[0m run_manager \u001b[39m=\u001b[39m callback_manager\u001b[39m.\u001b[39mon_chain_start(\n\u001b[0;32m    155\u001b[0m     dumpd(\u001b[39mself\u001b[39m),\n\u001b[0;32m    156\u001b[0m     inputs,\n\u001b[0;32m    157\u001b[0m )\n\u001b[0;32m    158\u001b[0m \u001b[39mtry\u001b[39;00m:\n\u001b[0;32m    159\u001b[0m     outputs \u001b[39m=\u001b[39m (\n\u001b[1;32m--> 160\u001b[0m         \u001b[39mself\u001b[39;49m\u001b[39m.\u001b[39;49m_call(inputs, run_manager\u001b[39m=\u001b[39;49mrun_manager)\n\u001b[0;32m    161\u001b[0m         \u001b[39mif\u001b[39;00m new_arg_supported\n\u001b[0;32m    162\u001b[0m         \u001b[39melse\u001b[39;00m \u001b[39mself\u001b[39m\u001b[39m.\u001b[39m_call(inputs)\n\u001b[0;32m    163\u001b[0m     )\n\u001b[0;32m    164\u001b[0m \u001b[39mexcept\u001b[39;00m (\u001b[39mKeyboardInterrupt\u001b[39;00m, \u001b[39mException\u001b[39;00m) \u001b[39mas\u001b[39;00m e:\n\u001b[0;32m    165\u001b[0m     run_manager\u001b[39m.\u001b[39mon_chain_error(e)\n",
            "File \u001b[1;32mc:\\Users\\danng\\anaconda3\\lib\\site-packages\\langchain\\agents\\agent.py:987\u001b[0m, in \u001b[0;36mAgentExecutor._call\u001b[1;34m(self, inputs, run_manager)\u001b[0m\n\u001b[0;32m    985\u001b[0m \u001b[39m# We now enter the agent loop (until it returns something).\u001b[39;00m\n\u001b[0;32m    986\u001b[0m \u001b[39mwhile\u001b[39;00m \u001b[39mself\u001b[39m\u001b[39m.\u001b[39m_should_continue(iterations, time_elapsed):\n\u001b[1;32m--> 987\u001b[0m     next_step_output \u001b[39m=\u001b[39m \u001b[39mself\u001b[39;49m\u001b[39m.\u001b[39;49m_take_next_step(\n\u001b[0;32m    988\u001b[0m         name_to_tool_map,\n\u001b[0;32m    989\u001b[0m         color_mapping,\n\u001b[0;32m    990\u001b[0m         inputs,\n\u001b[0;32m    991\u001b[0m         intermediate_steps,\n\u001b[0;32m    992\u001b[0m         run_manager\u001b[39m=\u001b[39;49mrun_manager,\n\u001b[0;32m    993\u001b[0m     )\n\u001b[0;32m    994\u001b[0m     \u001b[39mif\u001b[39;00m \u001b[39misinstance\u001b[39m(next_step_output, AgentFinish):\n\u001b[0;32m    995\u001b[0m         \u001b[39mreturn\u001b[39;00m \u001b[39mself\u001b[39m\u001b[39m.\u001b[39m_return(\n\u001b[0;32m    996\u001b[0m             next_step_output, intermediate_steps, run_manager\u001b[39m=\u001b[39mrun_manager\n\u001b[0;32m    997\u001b[0m         )\n",
            "File \u001b[1;32mc:\\Users\\danng\\anaconda3\\lib\\site-packages\\langchain\\agents\\agent.py:803\u001b[0m, in \u001b[0;36mAgentExecutor._take_next_step\u001b[1;34m(self, name_to_tool_map, color_mapping, inputs, intermediate_steps, run_manager)\u001b[0m\n\u001b[0;32m    801\u001b[0m     raise_error \u001b[39m=\u001b[39m \u001b[39mFalse\u001b[39;00m\n\u001b[0;32m    802\u001b[0m \u001b[39mif\u001b[39;00m raise_error:\n\u001b[1;32m--> 803\u001b[0m     \u001b[39mraise\u001b[39;00m e\n\u001b[0;32m    804\u001b[0m text \u001b[39m=\u001b[39m \u001b[39mstr\u001b[39m(e)\n\u001b[0;32m    805\u001b[0m \u001b[39mif\u001b[39;00m \u001b[39misinstance\u001b[39m(\u001b[39mself\u001b[39m\u001b[39m.\u001b[39mhandle_parsing_errors, \u001b[39mbool\u001b[39m):\n",
            "File \u001b[1;32mc:\\Users\\danng\\anaconda3\\lib\\site-packages\\langchain\\agents\\agent.py:792\u001b[0m, in \u001b[0;36mAgentExecutor._take_next_step\u001b[1;34m(self, name_to_tool_map, color_mapping, inputs, intermediate_steps, run_manager)\u001b[0m\n\u001b[0;32m    786\u001b[0m \u001b[39m\u001b[39m\u001b[39m\"\"\"Take a single step in the thought-action-observation loop.\u001b[39;00m\n\u001b[0;32m    787\u001b[0m \n\u001b[0;32m    788\u001b[0m \u001b[39mOverride this to take control of how the agent makes and acts on choices.\u001b[39;00m\n\u001b[0;32m    789\u001b[0m \u001b[39m\"\"\"\u001b[39;00m\n\u001b[0;32m    790\u001b[0m \u001b[39mtry\u001b[39;00m:\n\u001b[0;32m    791\u001b[0m     \u001b[39m# Call the LLM to see what to do.\u001b[39;00m\n\u001b[1;32m--> 792\u001b[0m     output \u001b[39m=\u001b[39m \u001b[39mself\u001b[39m\u001b[39m.\u001b[39magent\u001b[39m.\u001b[39mplan(\n\u001b[0;32m    793\u001b[0m         intermediate_steps,\n\u001b[0;32m    794\u001b[0m         callbacks\u001b[39m=\u001b[39mrun_manager\u001b[39m.\u001b[39mget_child() \u001b[39mif\u001b[39;00m run_manager \u001b[39melse\u001b[39;00m \u001b[39mNone\u001b[39;00m,\n\u001b[0;32m    795\u001b[0m         \u001b[39m*\u001b[39m\u001b[39m*\u001b[39minputs,\n\u001b[0;32m    796\u001b[0m     )\n\u001b[0;32m    797\u001b[0m \u001b[39mexcept\u001b[39;00m OutputParserException \u001b[39mas\u001b[39;00m e:\n\u001b[0;32m    798\u001b[0m     \u001b[39mif\u001b[39;00m \u001b[39misinstance\u001b[39m(\u001b[39mself\u001b[39m\u001b[39m.\u001b[39mhandle_parsing_errors, \u001b[39mbool\u001b[39m):\n",
            "File \u001b[1;32mc:\\Users\\danng\\anaconda3\\lib\\site-packages\\langchain\\agents\\agent.py:444\u001b[0m, in \u001b[0;36mAgent.plan\u001b[1;34m(self, intermediate_steps, callbacks, **kwargs)\u001b[0m\n\u001b[0;32m    442\u001b[0m full_inputs \u001b[39m=\u001b[39m \u001b[39mself\u001b[39m\u001b[39m.\u001b[39mget_full_inputs(intermediate_steps, \u001b[39m*\u001b[39m\u001b[39m*\u001b[39mkwargs)\n\u001b[0;32m    443\u001b[0m full_output \u001b[39m=\u001b[39m \u001b[39mself\u001b[39m\u001b[39m.\u001b[39mllm_chain\u001b[39m.\u001b[39mpredict(callbacks\u001b[39m=\u001b[39mcallbacks, \u001b[39m*\u001b[39m\u001b[39m*\u001b[39mfull_inputs)\n\u001b[1;32m--> 444\u001b[0m \u001b[39mreturn\u001b[39;00m \u001b[39mself\u001b[39;49m\u001b[39m.\u001b[39;49moutput_parser\u001b[39m.\u001b[39;49mparse(full_output)\n",
            "File \u001b[1;32mc:\\Users\\danng\\anaconda3\\lib\\site-packages\\langchain\\agents\\mrkl\\output_parser.py:42\u001b[0m, in \u001b[0;36mMRKLOutputParser.parse\u001b[1;34m(self, text)\u001b[0m\n\u001b[0;32m     37\u001b[0m     \u001b[39mreturn\u001b[39;00m AgentFinish(\n\u001b[0;32m     38\u001b[0m         {\u001b[39m\"\u001b[39m\u001b[39moutput\u001b[39m\u001b[39m\"\u001b[39m: text\u001b[39m.\u001b[39msplit(FINAL_ANSWER_ACTION)[\u001b[39m-\u001b[39m\u001b[39m1\u001b[39m]\u001b[39m.\u001b[39mstrip()}, text\n\u001b[0;32m     39\u001b[0m     )\n\u001b[0;32m     41\u001b[0m \u001b[39mif\u001b[39;00m \u001b[39mnot\u001b[39;00m re\u001b[39m.\u001b[39msearch(\u001b[39mr\u001b[39m\u001b[39m\"\u001b[39m\u001b[39mAction\u001b[39m\u001b[39m\\\u001b[39m\u001b[39ms*\u001b[39m\u001b[39m\\\u001b[39m\u001b[39md*\u001b[39m\u001b[39m\\\u001b[39m\u001b[39ms*:[\u001b[39m\u001b[39m\\\u001b[39m\u001b[39ms]*(.*?)\u001b[39m\u001b[39m\"\u001b[39m, text, re\u001b[39m.\u001b[39mDOTALL):\n\u001b[1;32m---> 42\u001b[0m     \u001b[39mraise\u001b[39;00m OutputParserException(\n\u001b[0;32m     43\u001b[0m         \u001b[39mf\u001b[39m\u001b[39m\"\u001b[39m\u001b[39mCould not parse LLM output: `\u001b[39m\u001b[39m{\u001b[39;00mtext\u001b[39m}\u001b[39;00m\u001b[39m`\u001b[39m\u001b[39m\"\u001b[39m,\n\u001b[0;32m     44\u001b[0m         observation\u001b[39m=\u001b[39m\u001b[39m\"\u001b[39m\u001b[39mInvalid Format: Missing \u001b[39m\u001b[39m'\u001b[39m\u001b[39mAction:\u001b[39m\u001b[39m'\u001b[39m\u001b[39m after \u001b[39m\u001b[39m'\u001b[39m\u001b[39mThought:\u001b[39m\u001b[39m'\u001b[39m\u001b[39m\"\u001b[39m,\n\u001b[0;32m     45\u001b[0m         llm_output\u001b[39m=\u001b[39mtext,\n\u001b[0;32m     46\u001b[0m         send_to_llm\u001b[39m=\u001b[39m\u001b[39mTrue\u001b[39;00m,\n\u001b[0;32m     47\u001b[0m     )\n\u001b[0;32m     48\u001b[0m \u001b[39melif\u001b[39;00m \u001b[39mnot\u001b[39;00m re\u001b[39m.\u001b[39msearch(\n\u001b[0;32m     49\u001b[0m     \u001b[39mr\u001b[39m\u001b[39m\"\u001b[39m\u001b[39m[\u001b[39m\u001b[39m\\\u001b[39m\u001b[39ms]*Action\u001b[39m\u001b[39m\\\u001b[39m\u001b[39ms*\u001b[39m\u001b[39m\\\u001b[39m\u001b[39md*\u001b[39m\u001b[39m\\\u001b[39m\u001b[39ms*Input\u001b[39m\u001b[39m\\\u001b[39m\u001b[39ms*\u001b[39m\u001b[39m\\\u001b[39m\u001b[39md*\u001b[39m\u001b[39m\\\u001b[39m\u001b[39ms*:[\u001b[39m\u001b[39m\\\u001b[39m\u001b[39ms]*(.*)\u001b[39m\u001b[39m\"\u001b[39m, text, re\u001b[39m.\u001b[39mDOTALL\n\u001b[0;32m     50\u001b[0m ):\n\u001b[0;32m     51\u001b[0m     \u001b[39mraise\u001b[39;00m OutputParserException(\n\u001b[0;32m     52\u001b[0m         \u001b[39mf\u001b[39m\u001b[39m\"\u001b[39m\u001b[39mCould not parse LLM output: `\u001b[39m\u001b[39m{\u001b[39;00mtext\u001b[39m}\u001b[39;00m\u001b[39m`\u001b[39m\u001b[39m\"\u001b[39m,\n\u001b[0;32m     53\u001b[0m         observation\u001b[39m=\u001b[39m\u001b[39m\"\u001b[39m\u001b[39mInvalid Format:\u001b[39m\u001b[39m\"\u001b[39m\n\u001b[1;32m   (...)\u001b[0m\n\u001b[0;32m     56\u001b[0m         send_to_llm\u001b[39m=\u001b[39m\u001b[39mTrue\u001b[39;00m,\n\u001b[0;32m     57\u001b[0m     )\n",
            "\u001b[1;31mOutputParserException\u001b[0m: Could not parse LLM output: `I found the following links:\nhttps://enroll.utdallas.edu/apply/\nhttps://graduate-admissions.utdallas.edu/apply-to-ut-dallas/apply/\nhttps://www.utdallas.edu/status/\nhttps://www.utdallas.edu/admissions/\nhttps://enroll.utdallas.edu/freshman/application-process/\nhttps://graduate-admissions.utdallas.edu/apply-to-ut-dallas/\nhttps://graduate-admissions.utdallas.edu/`"
          ]
        }
      ],
      "source": [
        "zero_shot_react_agent_response = zero_shot_react_agent(\n",
        "    {\n",
        "        \"input\": \"How do I applying to UTD?\"\n",
        "    }\n",
        ")"
      ]
    },
    {
      "attachments": {},
      "cell_type": "markdown",
      "metadata": {},
      "source": [
        "## Who are the professors who research NLP at UTD"
      ]
    },
    {
      "cell_type": "code",
      "execution_count": 46,
      "metadata": {},
      "outputs": [
        {
          "name": "stdout",
          "output_type": "stream",
          "text": [
            "\n",
            "\n",
            "\u001b[1m> Entering new  chain...\u001b[0m\n",
            "\u001b[32;1m\u001b[1;3mI need to find professors who research NLP at UTD\n",
            "Action: UTD Search\n",
            "Action Input: NLP\u001b[0m\n",
            "Observation: \u001b[38;5;200m\u001b[1;3m{'items': [{'title': 'Natural Language Processing (NLP) Archives - UT Dallas ...', 'link': 'https://cs.utdallas.edu/tag/natural-language-processing-nlp/', 'snippet': 'For almost 50 years, Dr. Klaus Truemper has worked at the University of Texas at Dallas: the first two decades in Operations…'}, {'title': 'Financial NLP - StARLinG', 'link': 'https://starling.utdallas.edu/datasets/fnlp/', 'snippet': 'Sep 25, 2019 ... Financial NLPPermalink. A relational dataset consisting of relations obtained by extracting information from SEC Form S-1 documents.'}, {'title': 'CS 6320.002 - Natural Language Processing (Spring 2023) at UT ...', 'link': 'https://personal.utdallas.edu/~sanda/courses/NLP/cs6320.html', 'snippet': 'Meeting times: M W 1:00 PM Classroom: ECSS 2.203. Instructor: Dr. Sanda Harabagiu( See personal Web page here ) Email: sanda@utdallas.edu'}, {'title': 'Natural Language Processing - StARLinG', 'link': 'https://starling.utdallas.edu/software/boostsrl/wiki/natural-language-processing/', 'snippet': 'Jun 9, 2023 ... Relational methods for natural language processing: an application of BoostSRL. ... Overview; Financial NLP; References and Further Reading\\xa0...'}, {'title': 'Ng, Vincent - UT Dallas Department of Computer Science - UT ...', 'link': 'https://cs.utdallas.edu/people/faculty/ng-vincent/', 'snippet': 'Natural Language Processing; Machine Learning; Artificial Intelligence ... Joint Conference on Natural Language Processing, Beijing, China, 2015.'}, {'title': 'Lecture 1 Introduction to NLP', 'link': 'https://www.utdallas.edu/~sanda/courses/NLP/Lecture1.pdf', 'snippet': 'Language generation - have the machine generate coherent text or speech. Page 8. Examples of NLP difficulties. 1. Syntactic ambiguity- when a word has\\xa0...'}, {'title': 'Lecture 3 Language Modeling with N-Grams', 'link': 'https://www.utdallas.edu/~sanda/courses/NLP/Lecture3.pdf', 'snippet': 'Natural Language Processing. CS 6320. Lecture 3 ... smooth other probabilistic models in NLP, especially. • For pilot studies.'}, {'title': 'Natural Language Processing - StARLinG', 'link': 'https://starling.utdallas.edu/projects/nlp/', 'snippet': 'Jan 1, 2018 ... Natural language processing is a hard task for traditional machine learning models, since they tend to ignore the relationships between the\\xa0...'}, {'title': 'Internships - Naveen Jindal School of Management', 'link': 'https://jsom.utdallas.edu/internship-stories/5745', 'snippet': 'Dec 4, 2021 ... The internship was particularly helpful in introducing me to Natural Language Processing and the development of an NLP algorithm through a hands\\xa0...'}, {'title': 'Course CS 6320 Natural Language Processing Professor Dr. Dan ...', 'link': 'https://www.hlt.utdallas.edu/~moldovan/CS6320.21/Syllabus_Template_NLP2021_Moldovan.pdf', 'snippet': 'CS 6320 focuses on the basic NLP techniques, including syntactic parsing, semantic interpretation, lexical and morphological analysis, as well as pragmatic.'}]}\u001b[0m\n",
            "Thought:\u001b[32;1m\u001b[1;3mI need to find the professors who research NLP at UTD\n",
            "Action: UTD Search\n",
            "Action Input: NLP professors\u001b[0m\n",
            "Observation: \u001b[38;5;200m\u001b[1;3m{'items': [{'title': 'Natural Language Processing (NLP) Archives - UT Dallas ...', 'link': 'https://cs.utdallas.edu/tag/natural-language-processing-nlp/', 'snippet': 'University of Texas at Dallas researchers are investigating whether attempts by the U.S. government to gain support from Latin… Read More · Professor · Three\\xa0...'}, {'title': 'Ng, Vincent - UT Dallas Department of Computer Science - UT ...', 'link': 'https://cs.utdallas.edu/people/faculty/ng-vincent/', 'snippet': 'Professor. Degrees: Ph.D., Computer Science, ... Research Interests: Natural Language Processing; Machine Learning; Artificial Intelligence\\xa0...'}, {'title': 'Course CS 6320 Natural Language Processing Professor Dr. Dan ...', 'link': 'https://www.hlt.utdallas.edu/~moldovan/CS6320.21/Syllabus_Template_NLP2021_Moldovan.pdf', 'snippet': \"Professor Dr. Dan Moldovan ... Professor's Contact Information ... CS 6320 focuses on the basic NLP techniques, including syntactic parsing,.\"}, {'title': 'Natural Language Processing Archives - UT Dallas Department of ...', 'link': 'https://cs.utdallas.edu/tag/natural-language-processing/', 'snippet': 'University of Texas at Dallas researchers are investigating whether attempts by the U.S. government to gain support from Latin… Read More · Professor · Three\\xa0...'}, {'title': 'Research Areas - UT Dallas Department of Computer Science - UT ...', 'link': 'https://cs.utdallas.edu/research/research-areas/', 'snippet': 'Professor Shiyi Wei received Distinguished Paper Award at USENIX 2022. UT Dallas CS Researchers Apply Power of AI To Forecast Energy Supply, Demand. Four Most\\xa0...'}, {'title': 'Dr. Sanda Harabagiu', 'link': 'https://www.utdallas.edu/~sanda', 'snippet': 'Professor and Erik Jonsson School Research Initiation Chair ... My research interests include Natural Language Processing, Information Retrieval,\\xa0...'}, {'title': \"Tien N. Nguyen's Home Page\", 'link': 'https://www.utdallas.edu/~tien.n.nguyen/', 'snippet': 'Dr. Tien N. Nguyen, Professor ... Machine Learning, Software Security, Software Engineering, NLP 1) Artificial Intelligence, Machine Learning, NLP'}, {'title': 'Vincent Ng', 'link': 'https://www.hlt.utdallas.edu/~vince/', 'snippet': 'Professor of Computer Science ... Visit to Singapore University of Technology and Design, Singapore Symposium on NLP (July 12-13); Summer School at Peking\\xa0...'}, {'title': 'Ouyang, Jessica - UT Dallas Department of Computer Science - UT ...', 'link': 'https://cs.utdallas.edu/people/faculty/ouyang-jessica/', 'snippet': 'Assistant Professor. Degrees: Ph.D., Computer Science, ... Research Interests: Natural Language Processing; Automatic Summarization; Text Generation\\xa0...'}, {'title': 'Jonsson School CS Researchers Named Most Influential Scholars ...', 'link': 'https://cs.utdallas.edu/jonsson-school-cs-researchers-named-most-influential-scholars-in-field/', 'snippet': 'May 24, 2018 ... In the field of Natural Language Processing (NLP), the Department of ... engineering was Andrian Marcus, professor of computer science.'}]}\u001b[0m\n",
            "Thought:\u001b[32;1m\u001b[1;3mI need to find the professors who research NLP at UTD\n",
            "Action: UTD Search\n",
            "Action Input: NLP professors\u001b[0m\n",
            "Observation: \u001b[38;5;200m\u001b[1;3m{'items': [{'title': 'Natural Language Processing (NLP) Archives - UT Dallas ...', 'link': 'https://cs.utdallas.edu/tag/natural-language-processing-nlp/', 'snippet': 'University of Texas at Dallas researchers are investigating whether attempts by the U.S. government to gain support from Latin… Read More · Professor · Three\\xa0...'}, {'title': 'Ng, Vincent - UT Dallas Department of Computer Science - UT ...', 'link': 'https://cs.utdallas.edu/people/faculty/ng-vincent/', 'snippet': 'Professor. Degrees: Ph.D., Computer Science, ... Research Interests: Natural Language Processing; Machine Learning; Artificial Intelligence\\xa0...'}, {'title': 'Course CS 6320 Natural Language Processing Professor Dr. Dan ...', 'link': 'https://www.hlt.utdallas.edu/~moldovan/CS6320.21/Syllabus_Template_NLP2021_Moldovan.pdf', 'snippet': \"Professor Dr. Dan Moldovan ... Professor's Contact Information ... CS 6320 focuses on the basic NLP techniques, including syntactic parsing,.\"}, {'title': 'Natural Language Processing Archives - UT Dallas Department of ...', 'link': 'https://cs.utdallas.edu/tag/natural-language-processing/', 'snippet': 'University of Texas at Dallas researchers are investigating whether attempts by the U.S. government to gain support from Latin… Read More · Professor · Three\\xa0...'}, {'title': 'Research Areas - UT Dallas Department of Computer Science - UT ...', 'link': 'https://cs.utdallas.edu/research/research-areas/', 'snippet': 'Professor Shiyi Wei received Distinguished Paper Award at USENIX 2022. UT Dallas CS Researchers Apply Power of AI To Forecast Energy Supply, Demand. Four Most\\xa0...'}, {'title': 'Dr. Sanda Harabagiu', 'link': 'https://www.utdallas.edu/~sanda', 'snippet': 'Professor and Erik Jonsson School Research Initiation Chair ... My research interests include Natural Language Processing, Information Retrieval,\\xa0...'}, {'title': \"Tien N. Nguyen's Home Page\", 'link': 'https://www.utdallas.edu/~tien.n.nguyen/', 'snippet': 'Dr. Tien N. Nguyen, Professor ... Machine Learning, Software Security, Software Engineering, NLP 1) Artificial Intelligence, Machine Learning, NLP'}, {'title': 'Vincent Ng', 'link': 'https://www.hlt.utdallas.edu/~vince/', 'snippet': 'Professor of Computer Science ... Visit to Singapore University of Technology and Design, Singapore Symposium on NLP (July 12-13); Summer School at Peking\\xa0...'}, {'title': 'Ouyang, Jessica - UT Dallas Department of Computer Science - UT ...', 'link': 'https://cs.utdallas.edu/people/faculty/ouyang-jessica/', 'snippet': 'Assistant Professor. Degrees: Ph.D., Computer Science, ... Research Interests: Natural Language Processing; Automatic Summarization; Text Generation\\xa0...'}, {'title': 'Jonsson School CS Researchers Named Most Influential Scholars ...', 'link': 'https://cs.utdallas.edu/jonsson-school-cs-researchers-named-most-influential-scholars-in-field/', 'snippet': 'May 24, 2018 ... In the field of Natural Language Processing (NLP), the Department of ... engineering was Andrian Marcus, professor of computer science.'}]}\u001b[0m\n",
            "Thought:\u001b[32;1m\u001b[1;3mI need to find the professors who research NLP at UTD\n",
            "Action: UTD Search\n",
            "Action Input: NLP professors\u001b[0m\n",
            "Observation: \u001b[38;5;200m\u001b[1;3m{'items': [{'title': 'Natural Language Processing (NLP) Archives - UT Dallas ...', 'link': 'https://cs.utdallas.edu/tag/natural-language-processing-nlp/', 'snippet': 'University of Texas at Dallas researchers are investigating whether attempts by the U.S. government to gain support from Latin… Read More · Professor · Three\\xa0...'}, {'title': 'Ng, Vincent - UT Dallas Department of Computer Science - UT ...', 'link': 'https://cs.utdallas.edu/people/faculty/ng-vincent/', 'snippet': 'Professor. Degrees: Ph.D., Computer Science, ... Research Interests: Natural Language Processing; Machine Learning; Artificial Intelligence\\xa0...'}, {'title': 'Course CS 6320 Natural Language Processing Professor Dr. Dan ...', 'link': 'https://www.hlt.utdallas.edu/~moldovan/CS6320.21/Syllabus_Template_NLP2021_Moldovan.pdf', 'snippet': \"Professor Dr. Dan Moldovan ... Professor's Contact Information ... CS 6320 focuses on the basic NLP techniques, including syntactic parsing,.\"}, {'title': 'Natural Language Processing Archives - UT Dallas Department of ...', 'link': 'https://cs.utdallas.edu/tag/natural-language-processing/', 'snippet': 'University of Texas at Dallas researchers are investigating whether attempts by the U.S. government to gain support from Latin… Read More · Professor · Three\\xa0...'}, {'title': 'Research Areas - UT Dallas Department of Computer Science - UT ...', 'link': 'https://cs.utdallas.edu/research/research-areas/', 'snippet': 'Professor Shiyi Wei received Distinguished Paper Award at USENIX 2022. UT Dallas CS Researchers Apply Power of AI To Forecast Energy Supply, Demand. Four Most\\xa0...'}, {'title': 'Dr. Sanda Harabagiu', 'link': 'https://www.utdallas.edu/~sanda', 'snippet': 'Professor and Erik Jonsson School Research Initiation Chair ... My research interests include Natural Language Processing, Information Retrieval,\\xa0...'}, {'title': \"Tien N. Nguyen's Home Page\", 'link': 'https://www.utdallas.edu/~tien.n.nguyen/', 'snippet': 'Dr. Tien N. Nguyen, Professor ... Machine Learning, Software Security, Software Engineering, NLP 1) Artificial Intelligence, Machine Learning, NLP'}, {'title': 'Vincent Ng', 'link': 'https://www.hlt.utdallas.edu/~vince/', 'snippet': 'Professor of Computer Science ... Visit to Singapore University of Technology and Design, Singapore Symposium on NLP (July 12-13); Summer School at Peking\\xa0...'}, {'title': 'Ouyang, Jessica - UT Dallas Department of Computer Science - UT ...', 'link': 'https://cs.utdallas.edu/people/faculty/ouyang-jessica/', 'snippet': 'Assistant Professor. Degrees: Ph.D., Computer Science, ... Research Interests: Natural Language Processing; Automatic Summarization; Text Generation\\xa0...'}, {'title': 'Jonsson School CS Researchers Named Most Influential Scholars ...', 'link': 'https://cs.utdallas.edu/jonsson-school-cs-researchers-named-most-influential-scholars-in-field/', 'snippet': 'May 24, 2018 ... In the field of Natural Language Processing (NLP), the Department of ... engineering was Andrian Marcus, professor of computer science.'}]}\u001b[0m\n",
            "Thought:\u001b[32;1m\u001b[1;3mI need to find the professors who research NLP at UTD\n",
            "Action: UTD Search\n",
            "Action Input: NLP professors\u001b[0m\n",
            "Observation: \u001b[38;5;200m\u001b[1;3m{'items': [{'title': 'Natural Language Processing (NLP) Archives - UT Dallas ...', 'link': 'https://cs.utdallas.edu/tag/natural-language-processing-nlp/', 'snippet': 'University of Texas at Dallas researchers are investigating whether attempts by the U.S. government to gain support from Latin… Read More · Professor · Three\\xa0...'}, {'title': 'Ng, Vincent - UT Dallas Department of Computer Science - UT ...', 'link': 'https://cs.utdallas.edu/people/faculty/ng-vincent/', 'snippet': 'Professor. Degrees: Ph.D., Computer Science, ... Research Interests: Natural Language Processing; Machine Learning; Artificial Intelligence\\xa0...'}, {'title': 'Course CS 6320 Natural Language Processing Professor Dr. Dan ...', 'link': 'https://www.hlt.utdallas.edu/~moldovan/CS6320.21/Syllabus_Template_NLP2021_Moldovan.pdf', 'snippet': \"Professor Dr. Dan Moldovan ... Professor's Contact Information ... CS 6320 focuses on the basic NLP techniques, including syntactic parsing,.\"}, {'title': 'Natural Language Processing Archives - UT Dallas Department of ...', 'link': 'https://cs.utdallas.edu/tag/natural-language-processing/', 'snippet': 'University of Texas at Dallas researchers are investigating whether attempts by the U.S. government to gain support from Latin… Read More · Professor · Three\\xa0...'}, {'title': 'Research Areas - UT Dallas Department of Computer Science - UT ...', 'link': 'https://cs.utdallas.edu/research/research-areas/', 'snippet': 'Professor Shiyi Wei received Distinguished Paper Award at USENIX 2022. UT Dallas CS Researchers Apply Power of AI To Forecast Energy Supply, Demand. Four Most\\xa0...'}, {'title': 'Dr. Sanda Harabagiu', 'link': 'https://www.utdallas.edu/~sanda', 'snippet': 'Professor and Erik Jonsson School Research Initiation Chair ... My research interests include Natural Language Processing, Information Retrieval,\\xa0...'}, {'title': \"Tien N. Nguyen's Home Page\", 'link': 'https://www.utdallas.edu/~tien.n.nguyen/', 'snippet': 'Dr. Tien N. Nguyen, Professor ... Machine Learning, Software Security, Software Engineering, NLP 1) Artificial Intelligence, Machine Learning, NLP'}, {'title': 'Vincent Ng', 'link': 'https://www.hlt.utdallas.edu/~vince/', 'snippet': 'Professor of Computer Science ... Visit to Singapore University of Technology and Design, Singapore Symposium on NLP (July 12-13); Summer School at Peking\\xa0...'}, {'title': 'Ouyang, Jessica - UT Dallas Department of Computer Science - UT ...', 'link': 'https://cs.utdallas.edu/people/faculty/ouyang-jessica/', 'snippet': 'Assistant Professor. Degrees: Ph.D., Computer Science, ... Research Interests: Natural Language Processing; Automatic Summarization; Text Generation\\xa0...'}, {'title': 'Jonsson School CS Researchers Named Most Influential Scholars ...', 'link': 'https://cs.utdallas.edu/jonsson-school-cs-researchers-named-most-influential-scholars-in-field/', 'snippet': 'May 24, 2018 ... In the field of Natural Language Processing (NLP), the Department of ... engineering was Andrian Marcus, professor of computer science.'}]}\u001b[0m\n",
            "Thought:\u001b[32;1m\u001b[1;3mI need to find the professors who research NLP at UTD\n",
            "Action: UTD Search\n",
            "Action Input: NLP professors\u001b[0m\n",
            "Observation: \u001b[38;5;200m\u001b[1;3m{'items': [{'title': 'Natural Language Processing (NLP) Archives - UT Dallas ...', 'link': 'https://cs.utdallas.edu/tag/natural-language-processing-nlp/', 'snippet': 'University of Texas at Dallas researchers are investigating whether attempts by the U.S. government to gain support from Latin… Read More · Professor · Three\\xa0...'}, {'title': 'Ng, Vincent - UT Dallas Department of Computer Science - UT ...', 'link': 'https://cs.utdallas.edu/people/faculty/ng-vincent/', 'snippet': 'Professor. Degrees: Ph.D., Computer Science, ... Research Interests: Natural Language Processing; Machine Learning; Artificial Intelligence\\xa0...'}, {'title': 'Course CS 6320 Natural Language Processing Professor Dr. Dan ...', 'link': 'https://www.hlt.utdallas.edu/~moldovan/CS6320.21/Syllabus_Template_NLP2021_Moldovan.pdf', 'snippet': \"Professor Dr. Dan Moldovan ... Professor's Contact Information ... CS 6320 focuses on the basic NLP techniques, including syntactic parsing,.\"}, {'title': 'Natural Language Processing Archives - UT Dallas Department of ...', 'link': 'https://cs.utdallas.edu/tag/natural-language-processing/', 'snippet': 'University of Texas at Dallas researchers are investigating whether attempts by the U.S. government to gain support from Latin… Read More · Professor · Three\\xa0...'}, {'title': 'Research Areas - UT Dallas Department of Computer Science - UT ...', 'link': 'https://cs.utdallas.edu/research/research-areas/', 'snippet': 'Professor Shiyi Wei received Distinguished Paper Award at USENIX 2022. UT Dallas CS Researchers Apply Power of AI To Forecast Energy Supply, Demand. Four Most\\xa0...'}, {'title': 'Dr. Sanda Harabagiu', 'link': 'https://www.utdallas.edu/~sanda', 'snippet': 'Professor and Erik Jonsson School Research Initiation Chair ... My research interests include Natural Language Processing, Information Retrieval,\\xa0...'}, {'title': \"Tien N. Nguyen's Home Page\", 'link': 'https://www.utdallas.edu/~tien.n.nguyen/', 'snippet': 'Dr. Tien N. Nguyen, Professor ... Machine Learning, Software Security, Software Engineering, NLP 1) Artificial Intelligence, Machine Learning, NLP'}, {'title': 'Vincent Ng', 'link': 'https://www.hlt.utdallas.edu/~vince/', 'snippet': 'Professor of Computer Science ... Visit to Singapore University of Technology and Design, Singapore Symposium on NLP (July 12-13); Summer School at Peking\\xa0...'}, {'title': 'Ouyang, Jessica - UT Dallas Department of Computer Science - UT ...', 'link': 'https://cs.utdallas.edu/people/faculty/ouyang-jessica/', 'snippet': 'Assistant Professor. Degrees: Ph.D., Computer Science, ... Research Interests: Natural Language Processing; Automatic Summarization; Text Generation\\xa0...'}, {'title': 'Jonsson School CS Researchers Named Most Influential Scholars ...', 'link': 'https://cs.utdallas.edu/jonsson-school-cs-researchers-named-most-influential-scholars-in-field/', 'snippet': 'May 24, 2018 ... In the field of Natural Language Processing (NLP), the Department of ... engineering was Andrian Marcus, professor of computer science.'}]}\u001b[0m\n",
            "Thought:\u001b[32;1m\u001b[1;3mI need to find the professors who research NLP at UTD\n",
            "Action: UTD Search\n",
            "Action Input: NLP professors\u001b[0m\n",
            "Observation: \u001b[38;5;200m\u001b[1;3m{'items': [{'title': 'Natural Language Processing (NLP) Archives - UT Dallas ...', 'link': 'https://cs.utdallas.edu/tag/natural-language-processing-nlp/', 'snippet': 'University of Texas at Dallas researchers are investigating whether attempts by the U.S. government to gain support from Latin… Read More · Professor · Three\\xa0...'}, {'title': 'Ng, Vincent - UT Dallas Department of Computer Science - UT ...', 'link': 'https://cs.utdallas.edu/people/faculty/ng-vincent/', 'snippet': 'Professor. Degrees: Ph.D., Computer Science, ... Research Interests: Natural Language Processing; Machine Learning; Artificial Intelligence\\xa0...'}, {'title': 'Course CS 6320 Natural Language Processing Professor Dr. Dan ...', 'link': 'https://www.hlt.utdallas.edu/~moldovan/CS6320.21/Syllabus_Template_NLP2021_Moldovan.pdf', 'snippet': \"Professor Dr. Dan Moldovan ... Professor's Contact Information ... CS 6320 focuses on the basic NLP techniques, including syntactic parsing,.\"}, {'title': 'Natural Language Processing Archives - UT Dallas Department of ...', 'link': 'https://cs.utdallas.edu/tag/natural-language-processing/', 'snippet': 'University of Texas at Dallas researchers are investigating whether attempts by the U.S. government to gain support from Latin… Read More · Professor · Three\\xa0...'}, {'title': 'Research Areas - UT Dallas Department of Computer Science - UT ...', 'link': 'https://cs.utdallas.edu/research/research-areas/', 'snippet': 'Professor Shiyi Wei received Distinguished Paper Award at USENIX 2022. UT Dallas CS Researchers Apply Power of AI To Forecast Energy Supply, Demand. Four Most\\xa0...'}, {'title': 'Dr. Sanda Harabagiu', 'link': 'https://www.utdallas.edu/~sanda', 'snippet': 'Professor and Erik Jonsson School Research Initiation Chair ... My research interests include Natural Language Processing, Information Retrieval,\\xa0...'}, {'title': \"Tien N. Nguyen's Home Page\", 'link': 'https://www.utdallas.edu/~tien.n.nguyen/', 'snippet': 'Dr. Tien N. Nguyen, Professor ... Machine Learning, Software Security, Software Engineering, NLP 1) Artificial Intelligence, Machine Learning, NLP'}, {'title': 'Vincent Ng', 'link': 'https://www.hlt.utdallas.edu/~vince/', 'snippet': 'Professor of Computer Science ... Visit to Singapore University of Technology and Design, Singapore Symposium on NLP (July 12-13); Summer School at Peking\\xa0...'}, {'title': 'Ouyang, Jessica - UT Dallas Department of Computer Science - UT ...', 'link': 'https://cs.utdallas.edu/people/faculty/ouyang-jessica/', 'snippet': 'Assistant Professor. Degrees: Ph.D., Computer Science, ... Research Interests: Natural Language Processing; Automatic Summarization; Text Generation\\xa0...'}, {'title': 'Jonsson School CS Researchers Named Most Influential Scholars ...', 'link': 'https://cs.utdallas.edu/jonsson-school-cs-researchers-named-most-influential-scholars-in-field/', 'snippet': 'May 24, 2018 ... In the field of Natural Language Processing (NLP), the Department of ... engineering was Andrian Marcus, professor of computer science.'}]}\u001b[0m\n",
            "Thought:\u001b[32;1m\u001b[1;3mI need to find the professors who research NLP at UTD\n",
            "Action: UTD Search\n",
            "Action Input: NLP professors\u001b[0m\n",
            "Observation: \u001b[38;5;200m\u001b[1;3m{'items': [{'title': 'Natural Language Processing (NLP) Archives - UT Dallas ...', 'link': 'https://cs.utdallas.edu/tag/natural-language-processing-nlp/', 'snippet': 'University of Texas at Dallas researchers are investigating whether attempts by the U.S. government to gain support from Latin… Read More · Professor · Three\\xa0...'}, {'title': 'Ng, Vincent - UT Dallas Department of Computer Science - UT ...', 'link': 'https://cs.utdallas.edu/people/faculty/ng-vincent/', 'snippet': 'Professor. Degrees: Ph.D., Computer Science, ... Research Interests: Natural Language Processing; Machine Learning; Artificial Intelligence\\xa0...'}, {'title': 'Course CS 6320 Natural Language Processing Professor Dr. Dan ...', 'link': 'https://www.hlt.utdallas.edu/~moldovan/CS6320.21/Syllabus_Template_NLP2021_Moldovan.pdf', 'snippet': \"Professor Dr. Dan Moldovan ... Professor's Contact Information ... CS 6320 focuses on the basic NLP techniques, including syntactic parsing,.\"}, {'title': 'Natural Language Processing Archives - UT Dallas Department of ...', 'link': 'https://cs.utdallas.edu/tag/natural-language-processing/', 'snippet': 'University of Texas at Dallas researchers are investigating whether attempts by the U.S. government to gain support from Latin… Read More · Professor · Three\\xa0...'}, {'title': 'Research Areas - UT Dallas Department of Computer Science - UT ...', 'link': 'https://cs.utdallas.edu/research/research-areas/', 'snippet': 'Professor Shiyi Wei received Distinguished Paper Award at USENIX 2022. UT Dallas CS Researchers Apply Power of AI To Forecast Energy Supply, Demand. Four Most\\xa0...'}, {'title': 'Dr. Sanda Harabagiu', 'link': 'https://www.utdallas.edu/~sanda', 'snippet': 'Professor and Erik Jonsson School Research Initiation Chair ... My research interests include Natural Language Processing, Information Retrieval,\\xa0...'}, {'title': \"Tien N. Nguyen's Home Page\", 'link': 'https://www.utdallas.edu/~tien.n.nguyen/', 'snippet': 'Dr. Tien N. Nguyen, Professor ... Machine Learning, Software Security, Software Engineering, NLP 1) Artificial Intelligence, Machine Learning, NLP'}, {'title': 'Vincent Ng', 'link': 'https://www.hlt.utdallas.edu/~vince/', 'snippet': 'Professor of Computer Science ... Visit to Singapore University of Technology and Design, Singapore Symposium on NLP (July 12-13); Summer School at Peking\\xa0...'}, {'title': 'Ouyang, Jessica - UT Dallas Department of Computer Science - UT ...', 'link': 'https://cs.utdallas.edu/people/faculty/ouyang-jessica/', 'snippet': 'Assistant Professor. Degrees: Ph.D., Computer Science, ... Research Interests: Natural Language Processing; Automatic Summarization; Text Generation\\xa0...'}, {'title': 'Jonsson School CS Researchers Named Most Influential Scholars ...', 'link': 'https://cs.utdallas.edu/jonsson-school-cs-researchers-named-most-influential-scholars-in-field/', 'snippet': 'May 24, 2018 ... In the field of Natural Language Processing (NLP), the Department of ... engineering was Andrian Marcus, professor of computer science.'}]}\u001b[0m\n",
            "Thought:\u001b[32;1m\u001b[1;3mI need to find the professors who research NLP at UTD\n",
            "Action: UTD Search\n",
            "Action Input: NLP professors\u001b[0m\n",
            "Observation: \u001b[38;5;200m\u001b[1;3m{'items': [{'title': 'Natural Language Processing (NLP) Archives - UT Dallas ...', 'link': 'https://cs.utdallas.edu/tag/natural-language-processing-nlp/', 'snippet': 'University of Texas at Dallas researchers are investigating whether attempts by the U.S. government to gain support from Latin… Read More · Professor · Three\\xa0...'}, {'title': 'Ng, Vincent - UT Dallas Department of Computer Science - UT ...', 'link': 'https://cs.utdallas.edu/people/faculty/ng-vincent/', 'snippet': 'Professor. Degrees: Ph.D., Computer Science, ... Research Interests: Natural Language Processing; Machine Learning; Artificial Intelligence\\xa0...'}, {'title': 'Course CS 6320 Natural Language Processing Professor Dr. Dan ...', 'link': 'https://www.hlt.utdallas.edu/~moldovan/CS6320.21/Syllabus_Template_NLP2021_Moldovan.pdf', 'snippet': \"Professor Dr. Dan Moldovan ... Professor's Contact Information ... CS 6320 focuses on the basic NLP techniques, including syntactic parsing,.\"}, {'title': 'Natural Language Processing Archives - UT Dallas Department of ...', 'link': 'https://cs.utdallas.edu/tag/natural-language-processing/', 'snippet': 'University of Texas at Dallas researchers are investigating whether attempts by the U.S. government to gain support from Latin… Read More · Professor · Three\\xa0...'}, {'title': 'Research Areas - UT Dallas Department of Computer Science - UT ...', 'link': 'https://cs.utdallas.edu/research/research-areas/', 'snippet': 'Professor Shiyi Wei received Distinguished Paper Award at USENIX 2022. UT Dallas CS Researchers Apply Power of AI To Forecast Energy Supply, Demand. Four Most\\xa0...'}, {'title': 'Dr. Sanda Harabagiu', 'link': 'https://www.utdallas.edu/~sanda', 'snippet': 'Professor and Erik Jonsson School Research Initiation Chair ... My research interests include Natural Language Processing, Information Retrieval,\\xa0...'}, {'title': \"Tien N. Nguyen's Home Page\", 'link': 'https://www.utdallas.edu/~tien.n.nguyen/', 'snippet': 'Dr. Tien N. Nguyen, Professor ... Machine Learning, Software Security, Software Engineering, NLP 1) Artificial Intelligence, Machine Learning, NLP'}, {'title': 'Vincent Ng', 'link': 'https://www.hlt.utdallas.edu/~vince/', 'snippet': 'Professor of Computer Science ... Visit to Singapore University of Technology and Design, Singapore Symposium on NLP (July 12-13); Summer School at Peking\\xa0...'}, {'title': 'Ouyang, Jessica - UT Dallas Department of Computer Science - UT ...', 'link': 'https://cs.utdallas.edu/people/faculty/ouyang-jessica/', 'snippet': 'Assistant Professor. Degrees: Ph.D., Computer Science, ... Research Interests: Natural Language Processing; Automatic Summarization; Text Generation\\xa0...'}, {'title': 'Jonsson School CS Researchers Named Most Influential Scholars ...', 'link': 'https://cs.utdallas.edu/jonsson-school-cs-researchers-named-most-influential-scholars-in-field/', 'snippet': 'May 24, 2018 ... In the field of Natural Language Processing (NLP), the Department of ... engineering was Andrian Marcus, professor of computer science.'}]}\u001b[0m\n",
            "Thought:\u001b[32;1m\u001b[1;3m\u001b[0m\n",
            "\n",
            "\u001b[1m> Finished chain.\u001b[0m\n"
          ]
        }
      ],
      "source": [
        "zero_shot_react_agent_response = zero_shot_react_agent(\n",
        "    {\n",
        "        \"input\": \"Who are the professors who research NLP at UTD other than Vincent Ng\"\n",
        "    }\n",
        ")"
      ]
    },
    {
      "attachments": {},
      "cell_type": "markdown",
      "metadata": {},
      "source": [
        "## Can you teel me the Difference Cs and SW at UTD"
      ]
    },
    {
      "cell_type": "code",
      "execution_count": 47,
      "metadata": {},
      "outputs": [
        {
          "name": "stdout",
          "output_type": "stream",
          "text": [
            "\n",
            "\n",
            "\u001b[1m> Entering new  chain...\u001b[0m\n",
            "\u001b[32;1m\u001b[1;3mI don't know what Computer Science and  Software Engineering at UTD is.\n",
            "Action: UTD Degree API\n",
            "Action Input: Computer Science and  Software Engineering at UTD\u001b[0m\n",
            "Observation: \u001b[36;1m\u001b[1;3m{'items': [{'title': 'Software Engineering (BS) - UT Dallas 2022 Undergraduate Catalog', 'link': 'https://catalog.utdallas.edu/2022/undergraduate/programs/ecs/software-engineering', 'snippet': 'Jul 22, 2022 ... The Computer Science Department offers the BS degree in Computer Science and the BS degree in Software Engineering.'}, {'title': 'Software Engineering Program - UT Dallas 2021 Graduate Catalog ...', 'link': 'https://catalog.utdallas.edu/2021/graduate/programs/ecs/software-engineering', 'snippet': 'May 26, 2021 ... The Graduate Program in Computer Science provides intensive preparation in the design, programming, theory, and applications of computers. The\\xa0...'}, {'title': 'Software Engineering Program - UT Dallas 2022 Graduate Catalog ...', 'link': 'https://catalog.utdallas.edu/2022/graduate/programs/ecs/software-engineering', 'snippet': 'Feb 10, 2022 ... Objectives. The Graduate Program in Computer Science provides intensive preparation in the design, programming, theory, and applications of\\xa0...'}, {'title': 'Minors - Erik Jonsson School of Engineering and Computer Science ...', 'link': 'https://catalog.utdallas.edu/2022/undergraduate/programs/ecs/minors', 'snippet': 'Feb 11, 2022 ... Minor in Computer Science. 21 semester credit hours. Students majoring in Computer Engineering, Computer Science or Software Engineering cannot\\xa0...'}, {'title': 'Computer Science (BS) - UT Dallas 2022 Undergraduate Catalog ...', 'link': 'https://catalog.utdallas.edu/2022/undergraduate/programs/ecs/computer-science', 'snippet': 'Mar 25, 2022 ... The Computer Science Department offers the BS degree in Computer Science and the BS degree in Software Engineering. Both are based on a solid\\xa0...'}, {'title': 'Software Engineering (BS) - Four-Year Degree Plan (Example) - UT ...', 'link': 'https://catalog.utdallas.edu/2021/undergraduate/programs/ecs/software-engineering/four-year', 'snippet': 'Jun 11, 2021 ... Erik Jonsson School of Engineering and Computer Science. Software Engineering (BS). Degree Requirements (123 semester credit hours)\\xa0...'}, {'title': 'Software Engineering - BS - Erik Jonsson School of Engineering ...', 'link': 'https://catalog.utdallas.edu/2020/undergraduate/programs/ecs/software-engineering', 'snippet': 'Jun 18, 2020 ... The Computer Science program continues with courses in advanced data structures, programming languages, telecommunications networks, and\\xa0...'}, {'title': 'Graduate Program in Software Engineering - UT Dallas 2020 ...', 'link': 'https://catalog.utdallas.edu/2020/graduate/programs/ecs/software-engineering', 'snippet': 'May 18, 2020 ... Objectives. The Graduate Program in Computer Science provides intensive preparation in the design, programming, theory, and applications of\\xa0...'}, {'title': 'Computer Science Program - UT Dallas 2021 Graduate Catalog ...', 'link': 'https://catalog.utdallas.edu/2021/graduate/programs/ecs/computer-science', 'snippet': 'Jun 23, 2021 ... Research laboratories are available for parallel processing, distributed systems, software engineering, high-performance computing, graphics,\\xa0...'}, {'title': 'Department of Computer Science - UT Dallas 2020 Graduate Catalog', 'link': 'https://catalog.utdallas.edu/2020/graduate/programs/ecs/computer-science', 'snippet': 'Oct 14, 2020 ... Research laboratories are available for parallel processing, distributed systems, software engineering, high-performance computing, graphics,\\xa0...'}]}\u001b[0m\n",
            "Thought:\u001b[32;1m\u001b[1;3mI found the following information: The Computer Science Department offers the BS degree in Computer Science and the BS degree in Software Engineering. Both are based on a solid foundation in mathematics, science, and engineering. The Computer Science program continues with courses in advanced data structures, programming languages, telecommunications networks, and operating systems. The Software Engineering program focuses on the development of software systems, including requirements analysis, design, implementation, testing, and maintenance.\n",
            "Final Answer: The Computer Science program focuses on the development of software systems, including requirements analysis, design, implementation, testing, and maintenance.\u001b[0m\n",
            "\n",
            "\u001b[1m> Finished chain.\u001b[0m\n"
          ]
        }
      ],
      "source": [
        "zero_shot_react_agent_response = zero_shot_react_agent(\n",
        "    {\n",
        "        \"input\": \"Can you tell me the difference between Computer Science and  Software Engineering at UTD?\"\n",
        "    }\n",
        ")"
      ]
    }
  ],
  "metadata": {
    "colab": {
      "provenance": [],
      "toc_visible": true
    },
    "kernelspec": {
      "display_name": "Python 3",
      "name": "python3"
    },
    "language_info": {
      "codemirror_mode": {
        "name": "ipython",
        "version": 3
      },
      "file_extension": ".py",
      "mimetype": "text/x-python",
      "name": "python",
      "nbconvert_exporter": "python",
      "pygments_lexer": "ipython3",
      "version": "3.10.9"
    }
  },
  "nbformat": 4,
  "nbformat_minor": 0
}
