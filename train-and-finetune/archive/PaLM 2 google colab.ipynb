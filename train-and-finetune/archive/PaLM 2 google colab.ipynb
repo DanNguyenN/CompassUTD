{
  "cells": [
    {
      "cell_type": "code",
      "execution_count": 1,
      "metadata": {
        "colab": {
          "base_uri": "https://localhost:8080/",
          "height": 1000
        },
        "id": "lCuLOuZelrlt",
        "outputId": "ab4935cc-e031-4a5f-cf40-5fcc8fe93cce"
      },
      "outputs": [],
      "source": [
        "import sys\n",
        "if 'google.colab' in sys.modules:\n",
        "    !pip install langchain google-cloud-aiplatform rich\n",
        "    !pip install wikipedia\n",
        "    !pip install google_auth langchain google-cloud-aiplatform ric"
      ]
    },
    {
      "attachments": {},
      "cell_type": "markdown",
      "metadata": {
        "id": "gyhkWAXp2LP8"
      },
      "source": [
        "# Imports"
      ]
    },
    {
      "cell_type": "code",
      "execution_count": 2,
      "metadata": {
        "id": "5XS7F7lEAcly"
      },
      "outputs": [],
      "source": [
        "import os\n",
        "import requests\n",
        "from google.cloud import aiplatform\n",
        "from langchain.agents import (AgentExecutor, AgentType, BaseSingleActionAgent,\n",
        "                              Tool, initialize_agent)\n",
        "from langchain.llms import VertexAI\n",
        "from langchain.memory import ConversationBufferMemory\n",
        "from langchain.tools import tool\n",
        "from pydantic import BaseModel, Field\n",
        "from rich import print\n",
        "from rich.console import Console\n",
        "from rich.progress import Progress, track\n",
        "from rich.table import Table"
      ]
    },
    {
      "attachments": {},
      "cell_type": "markdown",
      "metadata": {
        "id": "0wta80So2QCZ"
      },
      "source": [
        "# Google Authentication"
      ]
    },
    {
      "cell_type": "code",
      "execution_count": 3,
      "metadata": {
        "id": "KjDpW0zyCnqj"
      },
      "outputs": [],
      "source": [
        "tool_url = None #!TODO: set this to the tool url if using Colab\n",
        "try:\n",
        "    from google.colab import auth as google_auth\n",
        "    google_auth.authenticate_user()\n",
        "except:\n",
        "    import dotenv\n",
        "    dotenv.load_dotenv()\n",
        "    tool_url = str(os.getenv('TOOL_URL'))\n",
        "    pass"
      ]
    },
    {
      "cell_type": "code",
      "execution_count": 4,
      "metadata": {
        "id": "HI68K9IJAdPc"
      },
      "outputs": [
        {
          "ename": "ValidationError",
          "evalue": "1 validation error for VertexAI\n__root__\n  Unknown model publishers/google/models/chat-bison; {'gs://google-cloud-aiplatform/schema/predict/instance/text_generation_1.0.0.yaml': <class 'vertexai.language_models._language_models._PreviewTextGenerationModel'>} (type=value_error)",
          "output_type": "error",
          "traceback": [
            "\u001b[0;31m---------------------------------------------------------------------------\u001b[0m",
            "\u001b[0;31mValidationError\u001b[0m                           Traceback (most recent call last)",
            "\u001b[1;32m/home/null/code/CompassUTD/train-and-finetune/archive/PaLM 2 google colab.ipynb Cell 6\u001b[0m in \u001b[0;36m3\n\u001b[1;32m      <a href='vscode-notebook-cell:/home/null/code/CompassUTD/train-and-finetune/archive/PaLM%202%20google%20colab.ipynb#W5sZmlsZQ%3D%3D?line=0'>1</a>\u001b[0m \u001b[39m#! Change the following to your own project and location\u001b[39;00m\n\u001b[1;32m      <a href='vscode-notebook-cell:/home/null/code/CompassUTD/train-and-finetune/archive/PaLM%202%20google%20colab.ipynb#W5sZmlsZQ%3D%3D?line=1'>2</a>\u001b[0m aiplatform\u001b[39m.\u001b[39minit(project\u001b[39m=\u001b[39m\u001b[39m\"\u001b[39m\u001b[39maerobic-gantry-387923\u001b[39m\u001b[39m\"\u001b[39m, location\u001b[39m=\u001b[39m\u001b[39m\"\u001b[39m\u001b[39mus-central1\u001b[39m\u001b[39m\"\u001b[39m)\n\u001b[0;32m----> <a href='vscode-notebook-cell:/home/null/code/CompassUTD/train-and-finetune/archive/PaLM%202%20google%20colab.ipynb#W5sZmlsZQ%3D%3D?line=2'>3</a>\u001b[0m llm \u001b[39m=\u001b[39m VertexAI(\n\u001b[1;32m      <a href='vscode-notebook-cell:/home/null/code/CompassUTD/train-and-finetune/archive/PaLM%202%20google%20colab.ipynb#W5sZmlsZQ%3D%3D?line=3'>4</a>\u001b[0m     max_output_tokens \u001b[39m=\u001b[39;49m \u001b[39m512\u001b[39;49m,\n\u001b[1;32m      <a href='vscode-notebook-cell:/home/null/code/CompassUTD/train-and-finetune/archive/PaLM%202%20google%20colab.ipynb#W5sZmlsZQ%3D%3D?line=4'>5</a>\u001b[0m     top_k \u001b[39m=\u001b[39;49m \u001b[39m40\u001b[39;49m,\n\u001b[1;32m      <a href='vscode-notebook-cell:/home/null/code/CompassUTD/train-and-finetune/archive/PaLM%202%20google%20colab.ipynb#W5sZmlsZQ%3D%3D?line=5'>6</a>\u001b[0m     top_p \u001b[39m=\u001b[39;49m \u001b[39m0.9\u001b[39;49m,\n\u001b[1;32m      <a href='vscode-notebook-cell:/home/null/code/CompassUTD/train-and-finetune/archive/PaLM%202%20google%20colab.ipynb#W5sZmlsZQ%3D%3D?line=6'>7</a>\u001b[0m     temperature \u001b[39m=\u001b[39;49m \u001b[39m0.2\u001b[39;49m,\n\u001b[1;32m      <a href='vscode-notebook-cell:/home/null/code/CompassUTD/train-and-finetune/archive/PaLM%202%20google%20colab.ipynb#W5sZmlsZQ%3D%3D?line=7'>8</a>\u001b[0m     model_name \u001b[39m=\u001b[39;49m \u001b[39m\"\u001b[39;49m\u001b[39mchat-bison\u001b[39;49m\u001b[39m\"\u001b[39;49m \u001b[39m#[\"text-bison\" \"chat-bison\"]\u001b[39;49;00m\n\u001b[1;32m      <a href='vscode-notebook-cell:/home/null/code/CompassUTD/train-and-finetune/archive/PaLM%202%20google%20colab.ipynb#W5sZmlsZQ%3D%3D?line=8'>9</a>\u001b[0m )\n",
            "File \u001b[0;32m~/miniconda3/envs/temoctalk/lib/python3.10/site-packages/langchain/load/serializable.py:74\u001b[0m, in \u001b[0;36mSerializable.__init__\u001b[0;34m(self, **kwargs)\u001b[0m\n\u001b[1;32m     73\u001b[0m \u001b[39mdef\u001b[39;00m \u001b[39m__init__\u001b[39m(\u001b[39mself\u001b[39m, \u001b[39m*\u001b[39m\u001b[39m*\u001b[39mkwargs: Any) \u001b[39m-\u001b[39m\u001b[39m>\u001b[39m \u001b[39mNone\u001b[39;00m:\n\u001b[0;32m---> 74\u001b[0m     \u001b[39msuper\u001b[39;49m()\u001b[39m.\u001b[39;49m\u001b[39m__init__\u001b[39;49m(\u001b[39m*\u001b[39;49m\u001b[39m*\u001b[39;49mkwargs)\n\u001b[1;32m     75\u001b[0m     \u001b[39mself\u001b[39m\u001b[39m.\u001b[39m_lc_kwargs \u001b[39m=\u001b[39m kwargs\n",
            "File \u001b[0;32m~/miniconda3/envs/temoctalk/lib/python3.10/site-packages/pydantic/main.py:341\u001b[0m, in \u001b[0;36mpydantic.main.BaseModel.__init__\u001b[0;34m()\u001b[0m\n",
            "\u001b[0;31mValidationError\u001b[0m: 1 validation error for VertexAI\n__root__\n  Unknown model publishers/google/models/chat-bison; {'gs://google-cloud-aiplatform/schema/predict/instance/text_generation_1.0.0.yaml': <class 'vertexai.language_models._language_models._PreviewTextGenerationModel'>} (type=value_error)"
          ]
        }
      ],
      "source": [
        "#! Change the following to your own project and location\n",
        "aiplatform.init(project=\"aerobic-gantry-387923\", location=\"us-central1\")\n",
        "llm = VertexAI(\n",
        "    max_output_tokens = 512,\n",
        "    top_k = 40,\n",
        "    top_p = 0.9,\n",
        "    temperature = 0.2,\n",
        "    model_name = \"chat-bison\" #[\"text-bison\" \"chat-bison\"]\n",
        ")"
      ]
    },
    {
      "attachments": {},
      "cell_type": "markdown",
      "metadata": {},
      "source": [
        "# Prompt Template"
      ]
    },
    {
      "cell_type": "code",
      "execution_count": null,
      "metadata": {},
      "outputs": [],
      "source": [
        "from langchain.agents import (\n",
        "    Tool,\n",
        "    AgentExecutor,\n",
        "    LLMSingleActionAgent,\n",
        "    AgentOutputParser,\n",
        ")\n",
        "from langchain.prompts import StringPromptTemplate\n",
        "# Set up the base template\n",
        "template = \"\"\"Act as a University of Texas at Dallas(sometime refered as UT Dallas or UTD) Guidance Counselor, answering the following questions if they are related to UT Dallas as best you can. You should not use the same action and input twice when using tools. You have access to the following tools:\n",
        "\n",
        "{tools}\n",
        "\n",
        "Use the following format:\n",
        "\n",
        "Question: the input question you must answer\n",
        "Thought: you should always think about what to do\n",
        "Action: the action to take, should be one of [{tool_names}]\n",
        "Action Input: the input to the action\n",
        "Observation: the result of the action\n",
        "... (this Thought/Action/Action Input/Observation can repeat N times)\n",
        "Thought: I now know the final answer\n",
        "Final Answer: the final answer to the original input question\n",
        "\n",
        "Begin! Remember to speak as a compasstionate University of Texas Guidance Counselor when giving your final answer. Use lots of \"Arg\"s\n",
        "\n",
        "Question: {input}\n",
        "{agent_scratchpad}\"\"\""
      ]
    },
    {
      "attachments": {},
      "cell_type": "markdown",
      "metadata": {},
      "source": [
        "## Custome Prompt Tool Retreiver"
      ]
    },
    {
      "cell_type": "code",
      "execution_count": null,
      "metadata": {},
      "outputs": [],
      "source": [
        "from typing import Callable\n",
        "from langchain.prompts import StringPromptTemplate\n",
        "\n",
        "\n",
        "# Set up a prompt template\n",
        "class CustomPromptTemplateToolRetreiver(StringPromptTemplate):\n",
        "    # The template to use\n",
        "    template: str\n",
        "    ############## NEW ######################\n",
        "    # The list of tools available\n",
        "    tools_getter: Callable\n",
        "\n",
        "    def format(self, **kwargs) -> str:\n",
        "        # Get the intermediate steps (AgentAction, Observation tuples)\n",
        "        # Format them in a particular way\n",
        "        intermediate_steps = kwargs.pop(\"intermediate_steps\")\n",
        "        thoughts = \"\"\n",
        "        for action, observation in intermediate_steps:\n",
        "            thoughts += action.log\n",
        "            thoughts += f\"\\nObservation: {observation}\\nThought: \"\n",
        "        # Set the agent_scratchpad variable to that value\n",
        "        kwargs[\"agent_scratchpad\"] = thoughts\n",
        "        ############## NEW ######################\n",
        "        tools = self.tools_getter(kwargs[\"input\"])\n",
        "        # Create a tools variable from the list of tools provided\n",
        "        kwargs[\"tools\"] = \"\\n\".join(\n",
        "            [f\"{tool.name}: {tool.description}\" for tool in tools]\n",
        "        )\n",
        "        # Create a list of tool names for the tools provided\n",
        "        kwargs[\"tool_names\"] = \", \".join([tool.name for tool in tools])\n",
        "        return self.template.format(**kwargs)"
      ]
    },
    {
      "attachments": {},
      "cell_type": "markdown",
      "metadata": {},
      "source": [
        "## Custome Prompt Tool"
      ]
    },
    {
      "cell_type": "code",
      "execution_count": null,
      "metadata": {},
      "outputs": [],
      "source": [
        "from typing import List, Union\n",
        "# Set up a prompt template\n",
        "class CustomPromptTemplate(StringPromptTemplate):\n",
        "    # The template to use\n",
        "    template: str\n",
        "    # The list of tools available\n",
        "    tools: List[Tool]\n",
        "\n",
        "    def format(self, **kwargs) -> str:\n",
        "        # Get the intermediate steps (AgentAction, Observation tuples)\n",
        "        # Format them in a particular way\n",
        "        intermediate_steps = kwargs.pop(\"intermediate_steps\")\n",
        "        thoughts = \"\"\n",
        "        for action, observation in intermediate_steps:\n",
        "            thoughts += action.log\n",
        "            thoughts += f\"\\nObservation: {observation}\\nThought: \"\n",
        "        # Set the agent_scratchpad variable to that value\n",
        "        kwargs[\"agent_scratchpad\"] = thoughts\n",
        "        # Create a tools variable from the list of tools provided\n",
        "        kwargs[\"tools\"] = \"\\n\".join([f\"{tool.name}: {tool.description}\" for tool in self.tools])\n",
        "        # Create a list of tool names for the tools provided\n",
        "        kwargs[\"tool_names\"] = \", \".join([tool.name for tool in self.tools])\n",
        "        return self.template.format(**kwargs)"
      ]
    },
    {
      "attachments": {},
      "cell_type": "markdown",
      "metadata": {},
      "source": [
        "# Output Parser"
      ]
    },
    {
      "cell_type": "code",
      "execution_count": null,
      "metadata": {},
      "outputs": [],
      "source": [
        "from typing import List, Union\n",
        "from langchain.schema import AgentAction, AgentFinish\n",
        "from langchain.agents import Tool, AgentExecutor, LLMSingleActionAgent, AgentOutputParser\n",
        "import re\n",
        "from langchain.schema import AgentAction, AgentFinish, OutputParserException\n",
        "class CustomOutputParser(AgentOutputParser):\n",
        "\n",
        "    def parse(self, llm_output: str) -> Union[AgentAction, AgentFinish]:\n",
        "        # Check if agent should finish\n",
        "        if \"Final Answer:\" in llm_output:\n",
        "            return AgentFinish(\n",
        "                # Return values is generally always a dictionary with a single `output` key\n",
        "                # It is not recommended to try anything else at the moment :)\n",
        "                return_values={\"output\": llm_output.split(\"Final Answer:\")[-1].strip()},\n",
        "                log=llm_output,\n",
        "            )\n",
        "        # Parse out the action and action input\n",
        "        regex = r\"Action\\s*\\d*\\s*:(.*?)\\nAction\\s*\\d*\\s*Input\\s*\\d*\\s*:[\\s]*(.*)\"\n",
        "        match = re.search(regex, llm_output, re.DOTALL)\n",
        "        if not match:\n",
        "            raise OutputParserException(f\"Could not parse LLM output: `{llm_output}`\")\n",
        "        action = match.group(1).strip()\n",
        "        action_input = match.group(2)\n",
        "        # Return the action and action input\n",
        "        return AgentAction(tool=action, tool_input=action_input.strip(\" \").strip('\"'), log=llm_output)\n",
        "output_parser = CustomOutputParser()"
      ]
    },
    {
      "attachments": {},
      "cell_type": "markdown",
      "metadata": {
        "id": "z_p7TusQUez0"
      },
      "source": [
        "# Vector Stores\n",
        "1. Websites  using The Webase Loader"
      ]
    },
    {
      "cell_type": "code",
      "execution_count": null,
      "metadata": {},
      "outputs": [
        {
          "data": {
            "text/plain": [
              "'\\nurls = [\\n    \"https://www.utdallas.edu/galaxy/\",\\n    \"https://www.utdallas.edu/costs-scholarships-aid/\"\\n    \"https://www.utdallas.edu/academics/\"\\n]\\nloader = WebBaseLoader(urls)\\n\\n\\n# fixes a bug with asyncio and jupyter\\nimport nest_asyncio\\n\\nnest_asyncio.apply()\\ndocs = loader.aload()\\n\\ntext_splitter = CharacterTextSplitter(chunk_size=1000, chunk_overlap=0)\\ntexts = text_splitter.split_documents(docs)\\n\\nembeddings = OpenAIEmbeddings()\\ndocsearch = Chroma.from_documents(texts, embeddings, collection_name=\"state-of-union\")\\n'"
            ]
          },
          "execution_count": 14,
          "metadata": {},
          "output_type": "execute_result"
        }
      ],
      "source": [
        "from langchain.document_loaders import WebBaseLoader\n",
        "from langchain.embeddings.openai import OpenAIEmbeddings\n",
        "from langchain.vectorstores import Chroma\n",
        "from langchain.text_splitter import CharacterTextSplitter\n",
        "from langchain.llms import OpenAI\n",
        "from langchain.chains import RetrievalQA\n",
        "'''\n",
        "urls = [\n",
        "    \"https://www.utdallas.edu/galaxy/\",\n",
        "    \"https://www.utdallas.edu/costs-scholarships-aid/\"\n",
        "    \"https://www.utdallas.edu/academics/\"\n",
        "]\n",
        "loader = WebBaseLoader(urls)\n",
        "\n",
        "\n",
        "# fixes a bug with asyncio and jupyter\n",
        "import nest_asyncio\n",
        "\n",
        "nest_asyncio.apply()\n",
        "docs = loader.aload()\n",
        "\n",
        "text_splitter = CharacterTextSplitter(chunk_size=1000, chunk_overlap=0)\n",
        "texts = text_splitter.split_documents(docs)\n",
        "\n",
        "embeddings = OpenAIEmbeddings()\n",
        "docsearch = Chroma.from_documents(texts, embeddings, collection_name=\"state-of-union\")\n",
        "'''"
      ]
    },
    {
      "cell_type": "code",
      "execution_count": null,
      "metadata": {},
      "outputs": [
        {
          "data": {
            "text/plain": [
              "'\\nstate_of_union = RetrievalQA.from_chain_type(\\n    llm=llm, chain_type=\"stuff\", retriever=docsearch.as_retriever()\\n)\\n'"
            ]
          },
          "execution_count": 15,
          "metadata": {},
          "output_type": "execute_result"
        }
      ],
      "source": [
        "'''\n",
        "state_of_union = RetrievalQA.from_chain_type(\n",
        "    llm=llm, chain_type=\"stuff\", retriever=docsearch.as_retriever()\n",
        ")\n",
        "'''"
      ]
    },
    {
      "attachments": {},
      "cell_type": "markdown",
      "metadata": {
        "id": "9ebmz1Qe2gnn"
      },
      "source": [
        "# Tools Function"
      ]
    },
    {
      "cell_type": "code",
      "execution_count": null,
      "metadata": {
        "id": "Pcso0YAc2-bb"
      },
      "outputs": [],
      "source": [
        "class SearchInput(BaseModel):\n",
        "    query: str = Field(description=\"should be a search query\")\n",
        "\n",
        "def request_error_handler(url: str, params={}) -> str:\n",
        "    try:\n",
        "        response = requests.get(url, params)\n",
        "        response.raise_for_status()  # Raise an HTTPError if the status code is not in the 200 range\n",
        "        data = response.json()\n",
        "        return data\n",
        "    except requests.exceptions.RequestException as e:\n",
        "        return e"
      ]
    },
    {
      "attachments": {},
      "cell_type": "markdown",
      "metadata": {},
      "source": [
        "## Get a Tool Function"
      ]
    },
    {
      "cell_type": "code",
      "execution_count": null,
      "metadata": {},
      "outputs": [],
      "source": [
        "def get_tools(query):\n",
        "    docs = retriever.get_relevant_documents(query)\n",
        "    return [ALL_TOOLS[d.metadata[\"index\"]] for d in docs]"
      ]
    },
    {
      "attachments": {},
      "cell_type": "markdown",
      "metadata": {
        "id": "NVbcgcJL2oo3"
      },
      "source": [
        "## Courses"
      ]
    },
    {
      "cell_type": "code",
      "execution_count": null,
      "metadata": {
        "id": "rWSwXzh62pvf"
      },
      "outputs": [],
      "source": [
        "def get_courses_from_query(query: str) -> str:\n",
        "    url = f\"https://{tool_url}/get-possible-courses/{query}\"\n",
        "    return request_error_handler(url)\n"
      ]
    },
    {
      "attachments": {},
      "cell_type": "markdown",
      "metadata": {
        "id": "h68QFdQH2vAI"
      },
      "source": [
        "## Degree"
      ]
    },
    {
      "cell_type": "code",
      "execution_count": null,
      "metadata": {
        "id": "3NfRmJ4m2wML"
      },
      "outputs": [],
      "source": [
        "def get_degrees_from_query(query: str) -> str:\n",
        "    url = f\"https://{tool_url}/get-possible-degrees/{query}\"\n",
        "    return request_error_handler(url)\n"
      ]
    },
    {
      "attachments": {},
      "cell_type": "markdown",
      "metadata": {
        "id": "HU6m33D92105"
      },
      "source": [
        "## Utdallas Search"
      ]
    },
    {
      "cell_type": "code",
      "execution_count": null,
      "metadata": {
        "colab": {
          "base_uri": "https://localhost:8080/",
          "height": 1000
        },
        "id": "rNj4TyMukXgE",
        "outputId": "e0616e0d-808e-4bd0-ed15-8e88a33e0c80"
      },
      "outputs": [],
      "source": [
        "def utdallas_search(query: str) -> str:\n",
        "    url = f\"https://{tool_url}/search/{query}\"\n",
        "    return request_error_handler(url)\n",
        "\n",
        "def access_utdallas_site(url_to_search: str) -> str:\n",
        "    url = f\"https://{tool_url}/access/\"\n",
        "    params = {\n",
        "        \"url\": url_to_search\n",
        "    }\n",
        "    return request_error_handler(url, params)\n",
        "\n"
      ]
    },
    {
      "attachments": {},
      "cell_type": "markdown",
      "metadata": {},
      "source": [
        "## Wikipedia"
      ]
    },
    {
      "cell_type": "code",
      "execution_count": null,
      "metadata": {},
      "outputs": [],
      "source": [
        "from langchain.utilities import WikipediaAPIWrapper\n",
        "wikipedia = WikipediaAPIWrapper()\n",
        "def run_wikepedia(query: str) -> str:\n",
        "    return wikipedia.run(query)"
      ]
    },
    {
      "attachments": {},
      "cell_type": "markdown",
      "metadata": {},
      "source": [
        "## Dictionary"
      ]
    },
    {
      "cell_type": "code",
      "execution_count": null,
      "metadata": {},
      "outputs": [],
      "source": [
        "def dictionary_search(query: str) -> str:\n",
        "    url = f\"https://{tool_url}/dictionary/{query}\"\n",
        "    return request_error_handler(url)"
      ]
    },
    {
      "attachments": {},
      "cell_type": "markdown",
      "metadata": {
        "id": "jI4Om8Lx3EQ4"
      },
      "source": [
        "# Tools NAME and description"
      ]
    },
    {
      "cell_type": "code",
      "execution_count": null,
      "metadata": {
        "id": "PpKwE-kpl0eP"
      },
      "outputs": [],
      "source": [
        "tools = [\n",
        "    Tool(\n",
        "        name = \"UTD Degree API\",\n",
        "        func = get_degrees_from_query,\n",
        "        description = \"Suppose you have a keyword that sound like a UT Dallas' Degrees, Majors, Minors, and Certificates. This tool will return possible url, title and snippet from the query from search engine.\",\n",
        "    ),\n",
        "    Tool(\n",
        "        name = \"UTD Course API\",\n",
        "        func = get_courses_from_query,\n",
        "        description = \"Suppose you have a keyword that sound like a UT Dallas' courses. This tool will return course numbers/codes where that keyword exists in the course title.\",\n",
        "    ),\n",
        "\n",
        "    Tool(\n",
        "        name = \"UTD Search\",\n",
        "        func = utdallas_search,\n",
        "        description = \"This tool should not be used and should be used only as a last resort; it will search every UT Dallas page. This function require a query string and return possible links and snippet contents. If you want to find classes or degrees, there are better tools.\"\n",
        "    ),\n",
        "    Tool(\n",
        "        name = \"Extract text from UTD Search url links\",\n",
        "        func = access_utdallas_site,\n",
        "        description = \"If you have a url string contain utdallas.edu, use this function to extract text content\"\n",
        "    ),\n",
        "    Tool(\n",
        "        name = \"Wikipedia API\",\n",
        "        func = run_wikepedia,\n",
        "        description  = \"This tool will return the first paragraph of the wikipedia page of the query.\"\n",
        "    ),\n",
        "        Tool(\n",
        "        name = \"Dictionary Search\",\n",
        "        func = dictionary_search,\n",
        "        description = \"If you need the definition of a word or phrase unrelated to UT Dallas, use this function to retrieve the definition. Do not use for anything related to UT Dallas' courses.\",\n",
        "    ),\n",
        "]"
      ]
    },
    {
      "attachments": {},
      "cell_type": "markdown",
      "metadata": {},
      "source": [
        "## Set up Tools for Retreiver"
      ]
    },
    {
      "cell_type": "code",
      "execution_count": null,
      "metadata": {},
      "outputs": [],
      "source": [
        "#from langchain.prompts import CustomPromptTemplateToolRetreiver\n",
        "prompt = CustomPromptTemplate(\n",
        "    template=template,\n",
        "    tools=tools,\n",
        "    # This omits the `agent_scratchpad`, `tools`, and `tool_names` variables because those are generated dynamically\n",
        "    # This includes the `intermediate_steps` variable because that is needed\n",
        "    input_variables=[\"input\", \"intermediate_steps\"]\n",
        ")"
      ]
    },
    {
      "attachments": {},
      "cell_type": "markdown",
      "metadata": {
        "id": "DVAgrMU-4sHZ"
      },
      "source": [
        "# Initialize Agents"
      ]
    },
    {
      "attachments": {},
      "cell_type": "markdown",
      "metadata": {
        "id": "P865I0vbImv6"
      },
      "source": [
        "## Zero Shot ReAcT Agents\n"
      ]
    },
    {
      "cell_type": "code",
      "execution_count": null,
      "metadata": {
        "id": "qUkDy2R5kxIt"
      },
      "outputs": [],
      "source": [
        "'''\n",
        "agent = initialize_agent(\n",
        "    tools, llm, agent=AgentType.CONVERSATIONAL_REACT_DESCRIPTION, verbose=True, memory = memory ,\n",
        "    max_execution_time = 10 , return_intermediate_steps=True,\n",
        ")\n",
        "'''\n",
        "memory = ConversationBufferMemory(memory_key=\"chat_history\")\n",
        "zero_shot_react_agent = initialize_agent(\n",
        "    tools,\n",
        "    llm,\n",
        "    agent=AgentType.ZERO_SHOT_REACT_DESCRIPTION,\n",
        "    verbose=True,\n",
        "    return_intermediate_steps=True,\n",
        "    max_execution_time = 20 ,\n",
        ")"
      ]
    },
    {
      "attachments": {},
      "cell_type": "markdown",
      "metadata": {
        "id": "wseBQh_RNLyt"
      },
      "source": [
        "## Plan and execute"
      ]
    },
    {
      "cell_type": "code",
      "execution_count": null,
      "metadata": {
        "id": "_ZyIbxtANOeS"
      },
      "outputs": [],
      "source": [
        "from langchain.experimental import plan_and_execute\n",
        "from langchain.chat_models import ChatOpenAI\n",
        "from langchain.experimental.plan_and_execute import PlanAndExecute, load_agent_executor, load_chat_planner\n",
        "from langchain.llms import OpenAI\n",
        "planner = load_chat_planner(llm)\n",
        "executor = load_agent_executor(llm, tools = tools , verbose=True)\n",
        "plan_and_execute = PlanAndExecute (\n",
        "    planner=planner,\n",
        "    executor=executor,\n",
        "    verbose=True,\n",
        "    max_execution_time = 20 ,\n",
        "    return_intermediate_steps=True,\n",
        ")\n",
        "\n",
        "\n"
      ]
    },
    {
      "attachments": {},
      "cell_type": "markdown",
      "metadata": {},
      "source": [
        "## Custome Agents"
      ]
    },
    {
      "cell_type": "code",
      "execution_count": null,
      "metadata": {},
      "outputs": [],
      "source": [
        "# LLM chain consisting of the LLM and a prompt\n",
        "from langchain import  LLMChain\n",
        "llm_chain = LLMChain(llm=llm, prompt=prompt)\n",
        "\n",
        "tool_names = [tool.name for tool in tools]\n",
        "agent = LLMSingleActionAgent(\n",
        "    llm_chain=llm_chain,\n",
        "    output_parser=output_parser,\n",
        "    stop=[\"\\nObservation:\"],\n",
        "    allowed_tools=tool_names , \n",
        "    max_execution_time = 20 ,\n",
        ")\n",
        "agent_executor = AgentExecutor.from_agent_and_tools(agent=agent, tools=tools, verbose=True)"
      ]
    },
    {
      "attachments": {},
      "cell_type": "markdown",
      "metadata": {
        "id": "9mSvsXSGI1sJ"
      },
      "source": [
        "# Testing Agents"
      ]
    },
    {
      "attachments": {},
      "cell_type": "markdown",
      "metadata": {
        "id": "x135HlrcI4pf"
      },
      "source": [
        "## Tell me the Difference between a courses\n"
      ]
    },
    {
      "cell_type": "code",
      "execution_count": null,
      "metadata": {
        "colab": {
          "base_uri": "https://localhost:8080/",
          "height": 452
        },
        "id": "fmddtHyrI6_Y",
        "outputId": "678f1d04-cedc-4809-b063-85fa32c0893d"
      },
      "outputs": [
        {
          "name": "stdout",
          "output_type": "stream",
          "text": [
            "\n",
            "\n",
            "\u001b[1m> Entering new  chain...\u001b[0m\n",
            "\u001b[32;1m\u001b[1;3mI don't know what Math 2417 and Math 2419 are. I will try to find them.\n",
            "Action: UTD Course API\n",
            "Action Input: Math 2417\u001b[0m\n",
            "Observation: \u001b[33;1m\u001b[1;3m{'items': [{'title': 'Calculus I - UT Dallas 2022 Undergraduate Catalog - The University ...', 'snippet': 'MATH2417 - Calculus IMATH 2417 Calculus I (4 semester credit hours) Functions, limits, continuity, differentiation; integration of function of one variable; logarithmic, exponential, and inverse trigonometric functions; techniques of integration, and applications. Three lecture hours and two discussion hours a week; problem section required with MATH 2417, and will also be registered for exam section. Not all MATH/STAT courses may be counted toward various degree plans. Please consult your degree plan to determine the appropriate MATH/STAT course requirements. Prerequisite: ALEKS score required or a grade of at least a C- in MATH 2306 or MATH 2312. (3-2) S'}, {'title': 'Calculus I - UT Dallas 2022 Graduate Catalog - The University of ...', 'snippet': 'MATH2417 - Calculus IMATH 2417 Calculus I (4 semester credit hours) Functions, limits, continuity, differentiation; integration of function of one variable; logarithmic, exponential, and inverse trigonometric functions; techniques of integration, and applications. Three lecture hours and two discussion hours a week; problem section required with MATH 2417, and will also be registered for exam section. Not all MATH/STAT courses may be counted toward various degree plans. Please consult your degree plan to determine the appropriate MATH/STAT course requirements. Prerequisite: ALEKS score required or a grade of at least a C- in MATH 2306 or MATH 2312. (3-2) S'}, {'title': 'Calculus II - UT Dallas 2022 Undergraduate Catalog - The ...', 'snippet': 'MATH2419 - Calculus IIMATH 2419 Calculus II (4 semester credit hours) Continuation of MATH 2417. Improper integrals, sequences, infinite series, power series, parametric equations and polar coordinates, vectors, vector valued functions, functions of several variables, partial derivatives and applications, and multiple integration. Three lecture hours and two discussion hours a week; problem section required with MATH 2419, and will also be registered for exam section. Not all MATH/STAT courses may be counted toward various degree plans. Please consult your degree plan to determine the appropriate MATH/STAT course requirements. Prerequisite: A grade of at least a C- in MATH 2417. (3-2) S'}]}\u001b[0m\n",
            "Thought:\u001b[32;1m\u001b[1;3mMath 2417 is Calculus I and Math 2419 is Calculus II.\n",
            "Action: UTD Course API\n",
            "Action Input: Math 2419\u001b[0m\n",
            "Observation: \u001b[33;1m\u001b[1;3m{'items': [{'title': 'Calculus II - UT Dallas 2022 Undergraduate Catalog - The ...', 'snippet': 'MATH2419 - Calculus IIMATH 2419 Calculus II (4 semester credit hours) Continuation of MATH 2417. Improper integrals, sequences, infinite series, power series, parametric equations and polar coordinates, vectors, vector valued functions, functions of several variables, partial derivatives and applications, and multiple integration. Three lecture hours and two discussion hours a week; problem section required with MATH 2419, and will also be registered for exam section. Not all MATH/STAT courses may be counted toward various degree plans. Please consult your degree plan to determine the appropriate MATH/STAT course requirements. Prerequisite: A grade of at least a C- in MATH 2417. (3-2) S'}, {'title': 'Calculus II - UT Dallas 2022 Graduate Catalog - The University of ...', 'snippet': 'MATH2419 - Calculus IIMATH 2419 Calculus II (4 semester credit hours) Continuation of MATH 2417. Improper integrals, sequences, infinite series, power series, parametric equations and polar coordinates, vectors, vector valued functions, functions of several variables, partial derivatives and applications, and multiple integration. Three lecture hours and two discussion hours a week; problem section required with MATH 2419, and will also be registered for exam section. Not all MATH/STAT courses may be counted toward various degree plans. Please consult your degree plan to determine the appropriate MATH/STAT course requirements. Prerequisite: A grade of at least a C- in MATH 2417. (3-2) S'}]}\u001b[0m\n",
            "Thought:\u001b[32;1m\u001b[1;3mMath 2417 is Calculus I and Math 2419 is Calculus II. Math 2419 is a continuation of Math 2417.\n",
            "Action: UTD Search\n",
            "Action Input: Math 2417\u001b[0m\n",
            "Observation: \u001b[38;5;200m\u001b[1;3m{'data': ' ALEKS Up! - Student Success Center | The University of Texas at Dallas ALEKS Up! WHO? ALEKS Up! is a summer opportunity for students who: receive an ALEKS math assessment score between 70 and 80, or are enrolled in MATH 2312 Precalculus; and plan to take MATH 2413 Differential Calculus or MATH 2417 Calculus I during their academic career. WHAT? ALEKS Up! offers: Access to drop-in tutoring designed to complement the ALEKS Math guided learning online modules that provide refreshers on precalculus and calculus fundamentals. In-person tutoring is available Monday through Thursday from 11am to 6pm in Peer Tutoring (the first floor (basement level) of the McDermott Library MC 1.304) from July 5th to August 8th. Virtual Tutoring for ALEKS Up! will be available Tuesday and Wednesday from 6 pm – 9 pm CST from July 5th to August 8th. To join the virtual tutoring session, please click here. If you have any issues signing in or additional questions, please contact tutoring@utdallas.edu and/or Kelli.Hickey@utdallas.edu. An opportunity to earn a free proctored ALEKS exam retake to assess growth and possibly place into MATH 2413 Differential Calculus or MATH 2417 Calculus I. WHY? Students who attend at least five tutoring sessions and receive an 80% on guided learning online modules: Earn a free proctored ALEKS math assessment retake. Have the chance to earn a higher proctored ALEKS score to place into MATH 2413 Differential Calculus or MATH 2417 Calculus I. Freshen up on important math concepts to prepare for fall courses. Meet peers and staff before classes begin. Receive a Student Success Center swag bag. If a student earns the free proctored ALEKS math assessment retake, the student will take the assessment during operating hours July 5th to August 8th. Contact Kelli.Hickey@utdallas.edu '}\u001b[0m\n",
            "Thought:\u001b[32;1m\u001b[1;3mMath 2417 is Calculus I and Math 2419 is Calculus II. Math 2419 is a continuation of Math 2417. Math 2417 is a prerequisite for Math 2419.\n",
            "Action: Extract text from UTD Search url links\n",
            "Action Input: https://www.utdallas.edu/studentsuccess/programs/aleksu/\u001b[0m\n",
            "Observation: \u001b[36;1m\u001b[1;3m404 Client Error: Not Found for url: https://compass-utd-api-z4khdeirua-uc.a.run.app/access/?url=https%3A%2F%2Fwww.utdallas.edu%2Fstudentsuccess%2Fprograms%2Faleksu%2F\u001b[0m\n",
            "Thought:\u001b[32;1m\u001b[1;3mI cannot access the url.\n",
            "Action: UTD Search\n",
            "Action Input: Math 2419\u001b[0m\n",
            "Observation: \u001b[38;5;200m\u001b[1;3m{'data': 'OPTIONS FOR SOFTWARE ENGINEERING MAJOR GUIDED ELECTIVES (2022-2023) SE students following the 2022.2023 catalog must complete 1 math guided elective. Guided Elective Option Pre-Requisite Course MATH 2415 Calculus of Several Variables A grade of C- or better in MATH 2414 MATH 2420 Differential Equations with Applications A grade of at least a C- in either MATH 2415 or in MATH 2419 or equivalent and a grade of at least a C- in MATH 2418 or equivalent. MATH 2451 Multivariable Calculus with Applications A grade of at least a C- in either MATH 2415 or in MATH 2419 or equivalent and a grade of at least a C- in MATH 2418 or equivalent MATH 3310 Theoretical Concepts of Calculus A grade of at least a C- in either MATH 2415 or in MATH 2419 or equivalent. MATH 3311 Abstract Algebra I A grade of at least a C- in either MATH 2415 or in MATH 2419 or equivalent and a grade of at least C- in MATH 2418 or equivalent. MATH 3321 Geometry A grade of at least a C- in either MATH 2306 or MATH 2415 or MATH 2419 or equivalent. MATH 3323 Elementary Number Theory A grade of at least a C- in either MATH 2414 or in MATH 2418 or MATH 2419 MATH 3351 Advanced Calculus (A grade of at least a C- in either MATH 2415 or MATH 2419 or equivalent) and a grade of at least a C- in MATH 2418 or equivalent. MATH 3397 Mathematical Problem Solving MATH 2413 or MATH 2417 or MATH 3321. MATH 4332 Scientific Math Computing A grade of at least a C- in either MATH 2415 or in MATH 2419 or equivalent and a grade of at least C- in MATH 2418 or equivalent. MATH 4334 Numerical Analysis (MATH 2370 or CS 1324 or CS 1325 or CE 1337 or CS 1337) and (MATH 2418 and (MATH 2451 or MATH 3351). (Same as CS 4334) MATH 4381 Structure of Modern Geometry (MATH 2370 or CS 1324 or CS 1325 or CE 1337 or CS 1337) and (MATH 2418 and (MATH 2451 or MATH 3351). (Same as CS 4334) STAT 3355 Introduction to Data Analysis MATH 2415 or MATH 2419 or equivalent. '}\u001b[0m\n",
            "Thought:\u001b[32;1m\u001b[1;3m\u001b[0m\n",
            "\n",
            "\u001b[1m> Finished chain.\u001b[0m\n"
          ]
        },
        {
          "data": {
            "text/html": [
              "<pre style=\"white-space:pre;overflow-x:auto;line-height:normal;font-family:Menlo,'DejaVu Sans Mono',consolas,'Courier New',monospace\">Agent stopped due to iteration limit or time limit.\n",
              "</pre>\n"
            ],
            "text/plain": [
              "Agent stopped due to iteration limit or time limit.\n"
            ]
          },
          "metadata": {},
          "output_type": "display_data"
        }
      ],
      "source": [
        "response = zero_shot_react_agent(\n",
        "        {\n",
        "            \"input\": \"What is the difference between Math 2417 and Math 2419\"\n",
        "        }\n",
        ")\n",
        "print(\n",
        "    response[\"output\"]\n",
        ")"
      ]
    },
    {
      "cell_type": "code",
      "execution_count": null,
      "metadata": {
        "colab": {
          "base_uri": "https://localhost:8080/",
          "height": 1000
        },
        "id": "n_IOo8W9QFDh",
        "outputId": "decfc5ab-e8d0-46f5-e5dc-9c437b66d8fb"
      },
      "outputs": [],
      "source": [
        "try:\n",
        "  plan_execute_response = plan_and_execute(\n",
        "    \"What is the difference between Math 2417 and Math 2419\"\n",
        "  )\n",
        "  print(\n",
        "    plan_execute_response[\"output\"]\n",
        "  )\n",
        "except Exception as e:\n",
        "  print(e)"
      ]
    },
    {
      "attachments": {},
      "cell_type": "markdown",
      "metadata": {
        "id": "iDEPUnZ-aY8M"
      },
      "source": [
        "## Contacting People at my University"
      ]
    },
    {
      "cell_type": "code",
      "execution_count": null,
      "metadata": {
        "colab": {
          "base_uri": "https://localhost:8080/",
          "height": 868
        },
        "id": "TRaT2Vezm3v2",
        "outputId": "c0e17883-223e-46e4-bba6-a957f016115a"
      },
      "outputs": [],
      "source": [
        "zero_shot_react_agent_response = zero_shot_react_agent(\n",
        "    {\n",
        "        \"input\": \"What is the email to contact for Accounting advising?\"\n",
        "    }\n",
        ")\n",
        "print(\n",
        "    zero_shot_react_agent_response[\"output\"]\n",
        ")\n"
      ]
    },
    {
      "attachments": {},
      "cell_type": "markdown",
      "metadata": {},
      "source": [
        "## How do I apply at UT Dallas"
      ]
    },
    {
      "cell_type": "code",
      "execution_count": null,
      "metadata": {},
      "outputs": [],
      "source": [
        "zero_shot_react_agent_response = zero_shot_react_agent(\n",
        "    {\n",
        "        \"input\": \"How do I applying to UTD?\"\n",
        "    }\n",
        ")"
      ]
    },
    {
      "attachments": {},
      "cell_type": "markdown",
      "metadata": {},
      "source": [
        "## Who are the professors who research NLP at UTD"
      ]
    },
    {
      "cell_type": "code",
      "execution_count": null,
      "metadata": {},
      "outputs": [],
      "source": [
        "zero_shot_react_agent_response = zero_shot_react_agent(\n",
        "    {\n",
        "        \"input\": \"Who are the professors who research NLP at UTD other than Vincent Ng\"\n",
        "    }\n",
        ")"
      ]
    },
    {
      "attachments": {},
      "cell_type": "markdown",
      "metadata": {},
      "source": [
        "## Can you teel me the Difference Cs and SW at UTD"
      ]
    },
    {
      "cell_type": "code",
      "execution_count": null,
      "metadata": {},
      "outputs": [],
      "source": [
        "zero_shot_react_agent_response = zero_shot_react_agent(\n",
        "    {\n",
        "        \"input\": \"Can you tell me the difference between Computer Science and  Software Engineering at UTD?\"\n",
        "    }\n",
        ")"
      ]
    },
    {
      "attachments": {},
      "cell_type": "markdown",
      "metadata": {},
      "source": [
        "## Build Me a Degree Plan"
      ]
    },
    {
      "cell_type": "code",
      "execution_count": null,
      "metadata": {},
      "outputs": [],
      "source": []
    }
  ],
  "metadata": {
    "colab": {
      "provenance": [],
      "toc_visible": true
    },
    "kernelspec": {
      "display_name": "Python 3",
      "name": "python3"
    },
    "language_info": {
      "codemirror_mode": {
        "name": "ipython",
        "version": 3
      },
      "file_extension": ".py",
      "mimetype": "text/x-python",
      "name": "python",
      "nbconvert_exporter": "python",
      "pygments_lexer": "ipython3",
      "version": "3.10.10"
    }
  },
  "nbformat": 4,
  "nbformat_minor": 0
}
