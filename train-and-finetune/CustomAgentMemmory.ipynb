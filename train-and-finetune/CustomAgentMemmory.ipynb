{
 "cells": [
  {
   "attachments": {},
   "cell_type": "markdown",
   "metadata": {},
   "source": [
    "# Google Authentication"
   ]
  },
  {
   "cell_type": "code",
   "execution_count": 1,
   "metadata": {},
   "outputs": [],
   "source": [
    "import sys\n",
    "if 'google.colab' in sys.modules:\n",
    "    !pip install langchain google-cloud-aiplatform rich\n",
    "    google_auth.authenticate_user()"
   ]
  },
  {
   "cell_type": "code",
   "execution_count": 2,
   "metadata": {},
   "outputs": [],
   "source": [
    "\n",
    "import os\n",
    "import requests"
   ]
  },
  {
   "cell_type": "code",
   "execution_count": 3,
   "metadata": {},
   "outputs": [],
   "source": [
    "\n",
    "from langchain.llms import VertexAI\n",
    "from langchain.agents import ZeroShotAgent, Tool, AgentExecutor\n",
    "from langchain.memory import ConversationBufferMemory\n",
    "from langchain import LLMChain"
   ]
  },
  {
   "cell_type": "code",
   "execution_count": 4,
   "metadata": {},
   "outputs": [],
   "source": [
    "from google.cloud import aiplatform\n",
    "#! Change the following to your own project and location\n",
    "aiplatform.init(project=\"aerobic-gantry-387923\", location=\"us-central1\")\n",
    "vertex = VertexAI()"
   ]
  },
  {
   "cell_type": "code",
   "execution_count": 5,
   "metadata": {},
   "outputs": [],
   "source": [
    "import Tools\n",
    "agent_tools = Tools.Tools()\n",
    "\n",
    "tools = [\n",
    "    Tool(\n",
    "        name = \"Degree Search\",\n",
    "        func = agent_tools.get_degrees_from_query,\n",
    "        description = \"This tool allows you to search for UT Dallas' Degrees, Majors, Minors, and Certificates using keywords. Use this tool to compare multiple degrees. It returns relevant URLs, titles, and snippets from the search engine results.\",\n",
    "    ),\n",
    "    Tool(\n",
    "        name = \"Course Search\",\n",
    "        func = agent_tools.get_courses_from_query,\n",
    "        description = \"This tool enables you to search for UT Dallas' courses using keywords. Use this tool to compare multiple courses. It returns the course numbers/codes where the keyword exists in the course title.\",\n",
    "    ),\n",
    "\n",
    "    Tool(\n",
    "        name = \"General Search\",\n",
    "        func = agent_tools.utdallas_search,\n",
    "        description = \"Please use this tool only as a last resort. It performs a comprehensive search across all UT Dallas pages that will not give information about courses or degrees. It requires a query string and returns possible links and snippet contents. Do not use for course search or degree search as there are separate tools for those.\",\n",
    "    ),\n",
    "    Tool(\n",
    "        name = \"Extract Text from utdallas.edu site from Course, Degree, or Website Search Tool\",\n",
    "        func = agent_tools.access_utdallas_site,\n",
    "        description = \"If you have a URL string containing utdallas.edu, use this function to extract the text content from that page.\",\n",
    "    ),\n",
    "    Tool(\n",
    "        name = \"Dictionary Search\",\n",
    "        func = agent_tools.dictionary_search,\n",
    "        description = \"If you need the definition of a word or phrase unrelated to UT Dallas, use this function to retrieve the definition. Do not use for anything related to UT Dallas' courses.\",\n",
    "    )\n",
    "]\n"
   ]
  },
  {
   "cell_type": "code",
   "execution_count": 6,
   "metadata": {},
   "outputs": [],
   "source": [
    "prefix = \"\"\"Act as a University of Texas at Dallas(sometime refered as UT Dallas or UTD) Guidance Counselor, answering the following questions if they are related to UT Dallas as best you can. You should not use the same action and input twice when using tools. You have access to the following tools:\"\"\"\n",
    "suffix = \"\"\"Begin!\"\n",
    "\n",
    "{chat_history}\n",
    "Question: {input}\n",
    "{agent_scratchpad}\n",
    "\n",
    "\"\"\"\n",
    "\n",
    "prompt = ZeroShotAgent.create_prompt(\n",
    "    tools,\n",
    "    prefix=prefix,\n",
    "    suffix=suffix,\n",
    "    input_variables=[\"input\", \"chat_history\", \"agent_scratchpad\"],\n",
    ")\n",
    "memory = ConversationBufferMemory(memory_key=\"chat_history\")"
   ]
  },
  {
   "cell_type": "code",
   "execution_count": 7,
   "metadata": {},
   "outputs": [],
   "source": [
    "llm_chain = LLMChain(llm=vertex, prompt=prompt)\n",
    "agent = ZeroShotAgent(llm_chain=llm_chain, tools=tools, verbose=True)\n",
    "agent_chain = AgentExecutor.from_agent_and_tools(\n",
    "    agent=agent, tools=tools, verbose=True, memory=memory\n",
    ")"
   ]
  },
  {
   "cell_type": "code",
   "execution_count": 8,
   "metadata": {},
   "outputs": [
    {
     "name": "stdout",
     "output_type": "stream",
     "text": [
      "\n",
      "\n",
      "\u001b[1m> Entering new  chain...\u001b[0m\n",
      "\u001b[32;1m\u001b[1;3mThought: I need to find the course numbers for Hist 1302 and Hist 1301\n",
      "Action: Course Search\n",
      "Action Input: Hist 1302\u001b[0m\n",
      "Observation: \u001b[33;1m\u001b[1;3mfound these results:Item 1 with \"U.S. History Survey from Civil War - UT Dallas 2017 Undergraduate ...\" can be access at \"https://catalog.utdallas.edu/2017/undergraduate/courses/hist1302\", with snippet \"HIST1302 - U.S. History Survey from Civil War. HIST 1302 (HIST 1302) U.S. History Survey from Civil War (3 semester credit hours) An introduction to the ...\".Item 2 with \"U.S. History Survey from Civil War - UT Dallas 2018 Graduate Catalog\" can be access at \"https://catalog.utdallas.edu/2018/graduate/courses/hist1302\", with snippet \"HIST1302 - U.S. History Survey from Civil War. HIST 1302 (HIST 1302) U.S. History Survey from Civil War (3 semester credit hours) An introduction to the ...\".Item 3 with \"U.S. History Survey from Civil War - UT Dallas 2018 Undergraduate ...\" can be access at \"https://catalog.utdallas.edu/2018/undergraduate/courses/hist1302\", with snippet \"HIST1302 - U.S. History Survey from Civil War. HIST 1302 (HIST 1302) U.S. History Survey from Civil War (3 semester credit hours) An introduction to the ...\".Item 4 with \"Themes in the Social History of the United States - UT Dallas 2017 ...\" can be access at \"https://catalog.utdallas.edu/2017/undergraduate/courses/hist3366\", with snippet \"HIST 3366 Themes in the Social History of the United States (3 semester ... Prerequisite: HIST 1301 or HIST 1302 or HIST 2301 or HIST 2330 or HIST 2331 or ...\".Item 5 with \"History - UT Dallas 2022 Undergraduate Catalog - The University of ...\" can be access at \"https://catalog.utdallas.edu/2022/undergraduate/courses/hist\", with snippet \"HIST 1302 (HIST 1302) U.S. History Survey from Civil War (3 semester credit hours) An introduction to the methods of historical inquiry focusing on the ...\".Item 6 with \"Perspectives on Science - UT Dallas 2017 Undergraduate Catalog ...\" can be access at \"https://catalog.utdallas.edu/2017/undergraduate/courses/hist3327\", with snippet \"Prerequisites: HIST 1301 or HIST 1302 or HIST 2301 or HIST 2330 or HIST 2331 or equivalent and department consent required. (3-0) T.\".Item 7 with \"Topics in Latin American History - UT Dallas 2017 Undergraduate ...\" can be access at \"https://catalog.utdallas.edu/2017/undergraduate/courses/hist4359\", with snippet \"HIST 4359 Topics in Latin American History (3 semester credit hours) May be ... Prerequisite: HIST 1301 or HIST 1302 or HIST 2301 or HIST 2330 or HIST 2331 ...\".\u001b[0m\n",
      "Thought:\u001b[32;1m\u001b[1;3mAction: Course Search\n",
      "Action Input: Hist 1301\u001b[0m\n",
      "Observation: \u001b[33;1m\u001b[1;3mfound these results:Item 1 with \"U.S. History Survey to Civil War - UT Dallas 2022 Graduate Catalog ...\" can be access at \"https://catalog.utdallas.edu/2022/graduate/courses/hist1301\", with snippet \"HIST1301 - U.S. History Survey to Civil War. HIST 1301 (HIST 1301) U.S. History Survey to Civil War (3 semester credit hours) An introduction to the methods ...\".Item 2 with \"U.S. History Survey to Civil War - UT Dallas 2020 Undergraduate ...\" can be access at \"https://catalog.utdallas.edu/2020/undergraduate/courses/hist1301\", with snippet \"HIST1301 - U.S. History Survey to Civil War. HIST 1301 (HIST 1301) U.S. History Survey to Civil War (3 semester credit hours) An introduction to the methods ...\".Item 3 with \"U.S. History Survey to Civil War - UT Dallas 2019 Undergraduate ...\" can be access at \"https://catalog.utdallas.edu/2019/undergraduate/courses/hist1301\", with snippet \"HIST1301 - U.S. History Survey to Civil War. HIST 1301 (HIST 1301) U.S. History Survey to Civil War (3 semester credit hours) An introduction to the methods ...\".Item 4 with \"History - UT Dallas 2020 Undergraduate Catalog - The University of ...\" can be access at \"https://catalog.utdallas.edu/2020/undergraduate/courses/hist\", with snippet \"HIST 1301 (HIST 1301) U.S. History Survey to Civil War (3 semester credit hours) An introduction to the methods of historical inquiry focusing on the study ...\".Item 5 with \"Perspectives on Science - UT Dallas 2017 Undergraduate Catalog ...\" can be access at \"https://catalog.utdallas.edu/2017/undergraduate/courses/hist3327\", with snippet \"Prerequisites: HIST 1301 or HIST 1302 or HIST 2301 or HIST 2330 or HIST 2331 or equivalent and department consent required. (3-0) T.\".Item 6 with \"History and Philosophy of Science and Medicine - UT Dallas 2012 ...\" can be access at \"https://catalog.utdallas.edu/2012/undergraduate/courses/hist3328\", with snippet \"Prerequisite: HIST 1301 or HIST 1302 or HIST 2301 or HIST 2330 or HIST 2331 or PHIL 1301 or PHIL 2316 or PHIL 2317 or equivalent. (Same as PHIL 3328) (3-0) ...\".Item 7 with \"History - UT Dallas 2022 Undergraduate Catalog - The University of ...\" can be access at \"https://catalog.utdallas.edu/2022/undergraduate/courses/hist\", with snippet \"HIST 1301 (HIST 1301) U.S. History Survey to Civil War (3 semester credit hours) An introduction to the methods of historical inquiry focusing on the study ...\".\u001b[0m\n",
      "Thought:\u001b[32;1m\u001b[1;3mFinal Answer: Hist 1302 is a course that covers U.S. History from the Civil War to the present. Hist 1301 is a course that covers U.S. History from the beginning to the Civil War.\u001b[0m\n",
      "\n",
      "\u001b[1m> Finished chain.\u001b[0m\n"
     ]
    },
    {
     "data": {
      "text/plain": [
       "'Hist 1302 is a course that covers U.S. History from the Civil War to the present. Hist 1301 is a course that covers U.S. History from the beginning to the Civil War.'"
      ]
     },
     "execution_count": 8,
     "metadata": {},
     "output_type": "execute_result"
    }
   ],
   "source": [
    "agent_chain.run(input=\"Compare Hist 1302 and Hist 1301\")\n"
   ]
  },
  {
   "cell_type": "code",
   "execution_count": 9,
   "metadata": {},
   "outputs": [
    {
     "name": "stdout",
     "output_type": "stream",
     "text": [
      "Human: Compare Hist 1302 and Hist 1301\n",
      "AI: Hist 1302 is a course that covers U.S. History from the Civil War to the present. Hist 1301 is a course that covers U.S. History from the beginning to the Civil War.\n"
     ]
    }
   ],
   "source": [
    "print(agent_chain.memory.buffer)"
   ]
  }
 ],
 "metadata": {
  "kernelspec": {
   "display_name": "base",
   "language": "python",
   "name": "python3"
  },
  "language_info": {
   "codemirror_mode": {
    "name": "ipython",
    "version": 3
   },
   "file_extension": ".py",
   "mimetype": "text/x-python",
   "name": "python",
   "nbconvert_exporter": "python",
   "pygments_lexer": "ipython3",
   "version": "3.10.9"
  },
  "orig_nbformat": 4
 },
 "nbformat": 4,
 "nbformat_minor": 2
}
