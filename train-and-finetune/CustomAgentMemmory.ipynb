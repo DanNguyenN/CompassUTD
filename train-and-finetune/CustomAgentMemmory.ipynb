{
 "cells": [
  {
   "attachments": {},
   "cell_type": "markdown",
   "metadata": {},
   "source": [
    "# Google Authentication"
   ]
  },
  {
   "cell_type": "code",
   "execution_count": 1,
   "metadata": {},
   "outputs": [],
   "source": [
    "import sys\n",
    "if 'google.colab' in sys.modules:\n",
    "    #!pip install langchain google-cloud-aiplatform rich\n",
    "    google_auth.authenticate_user()"
   ]
  },
  {
   "cell_type": "code",
   "execution_count": 2,
   "metadata": {},
   "outputs": [
    {
     "data": {
      "text/plain": [
       "True"
      ]
     },
     "execution_count": 2,
     "metadata": {},
     "output_type": "execute_result"
    }
   ],
   "source": [
    "\n",
    "import os\n",
    "import requests\n",
    "from dotenv import load_dotenv\n",
    "\n",
    "load_dotenv()"
   ]
  },
  {
   "cell_type": "code",
   "execution_count": 3,
   "metadata": {},
   "outputs": [],
   "source": [
    "\n",
    "from langchain.llms import VertexAI\n",
    "from langchain.agents import AgentType, ZeroShotAgent, Tool, AgentExecutor, initialize_agent, tool\n",
    "from langchain.memory import ConversationBufferMemory\n",
    "from langchain import LLMChain\n"
   ]
  },
  {
   "cell_type": "code",
   "execution_count": 4,
   "metadata": {},
   "outputs": [],
   "source": [
    "\n",
    "from google.cloud import aiplatform\n",
    "\n",
    "#! Change the following to your own project and location\n",
    "aiplatform.init(project=\"aerobic-gantry-387923\", location=\"us-central1\")\n",
    "vertex = VertexAI(\n",
    "    temperature=0.2,\n",
    "    max_tokens=1024,\n",
    "    top_p=0.9,\n",
    "    top_k=40\n",
    "    \n",
    ")\n"
   ]
  },
  {
   "cell_type": "code",
   "execution_count": null,
   "metadata": {},
   "outputs": [],
   "source": []
  },
  {
   "cell_type": "code",
   "execution_count": 19,
   "metadata": {},
   "outputs": [],
   "source": [
    "\n",
    "\n",
    "import Tools\n",
    "agent_tools = Tools.Tools()\n",
    "\n",
    "tools = [\n",
    "    \n",
    "    Tool(\n",
    "        name = \"Degree Search\",\n",
    "        func = agent_tools.get_degrees_from_query,\n",
    "        description = \"This tool allows you to search for UT Dallas' Degrees, Majors, Minors, and Certificates using keywords. It returns multiple titles, snippet and URLs that you can use extract text tool on.\",\n",
    "    ),\n",
    "    Tool(\n",
    "        name = \"Course Search\",\n",
    "        func = agent_tools.get_courses_from_query,\n",
    "        description = \"This tool enables you to search for UT Dallas' courses using keywords. Do not put anyone name including the professor at input. Use this tool to compare multiple courses. It returns multiple titles, snippet and URLs that you can use extract text tool on.\",\n",
    "    ),\n",
    "\n",
    "    Tool(\n",
    "        name = \"General Search\",\n",
    "        func = agent_tools.utdallas_search,\n",
    "        description = \"Please use this tool only as a last resort. It performs a comprehensive search across all UT Dallas pages that will not give information about courses or degrees. It returns multipl possible titles, snippet and URLs that you can use extract text tool on.\",\n",
    "    ),\n",
    "    Tool(\n",
    "        name = \"Extract Text from UT Dallas Site and understand the content\",\n",
    "        func = agent_tools.access_utdallas_site,\n",
    "        description = \"If you have a URL string containing utdallas.edu. Pass in that link and the user question to use this function for wanted data.\",\n",
    "    ),\n",
    "    Tool(\n",
    "        name = \"Dictionary\",\n",
    "        func = agent_tools.dictionary_search,\n",
    "        description = \"If you need the definition of a word or phrase unrelated to UT Dallas, use this function to retrieve the definition. Do not use for anything related to UT Dallas only information.\",\n",
    "    )\n",
    "]\n"
   ]
  },
  {
   "cell_type": "code",
   "execution_count": 20,
   "metadata": {},
   "outputs": [
    {
     "data": {
      "text/plain": [
       "'No results found.'"
      ]
     },
     "execution_count": 20,
     "metadata": {},
     "output_type": "execute_result"
    }
   ],
   "source": [
    "agent_tools.get_courses_from_query(\"Dr. Gopal Gupta\")"
   ]
  },
  {
   "cell_type": "code",
   "execution_count": 21,
   "metadata": {},
   "outputs": [],
   "source": [
    "\n",
    "prefix = \"\"\"\n",
    "You should answer the following questions with up-to-date information. You have access to the following tools:\"\"\"\n",
    "\n",
    "format_instruction = \"\"\"You must use the following format for all responses or your response will be considered incorrect:\n",
    "\n",
    "Question: the input question you must answer\n",
    "\n",
    "Thought: you should always think about what to do\n",
    "Action: the action to take, should be one of [{tool_names}]\n",
    "Action Input: the input to the action\n",
    "Observation: the result of the action in a single sentence\n",
    "... (this Thought/Action/Action Input/Observation can repeat N times but Question should only appear once)\n",
    "Thought: I now know the final answer\n",
    "Final Answer: the final answer to the original input question.\n",
    "If you do not know the answer, you can say so.\n",
    "\"\"\"\n",
    "\n",
    "suffix = \"\"\"Begin!\"\n",
    "\n",
    "{chat_history}\n",
    "Question: {input}\n",
    "{agent_scratchpad}\n",
    "\n",
    "\"\"\"\n",
    "\n",
    "prompt = ZeroShotAgent.create_prompt(\n",
    "    tools,\n",
    "    prefix=prefix,\n",
    "    suffix=suffix,\n",
    "    format_instructions=format_instruction,\n",
    "    input_variables=[\"input\", \"chat_history\", \"agent_scratchpad\"],\n",
    "\n",
    ")"
   ]
  },
  {
   "cell_type": "code",
   "execution_count": 22,
   "metadata": {},
   "outputs": [],
   "source": [
    "\n",
    "memory = ConversationBufferMemory(memory_key=\"chat_history\")\n",
    "llm_chain = LLMChain(llm=vertex, prompt=prompt)\n",
    "agent = ZeroShotAgent(llm_chain=llm_chain, tools=tools, verbose=True)\n",
    "agent_chain = AgentExecutor.from_agent_and_tools(\n",
    "    agent=agent,\n",
    "    tools=tools,\n",
    "    verbose=True,\n",
    "    memory=memory,\n",
    "    handle_parsing_errors=False,\n",
    ")\n"
   ]
  },
  {
   "cell_type": "code",
   "execution_count": 29,
   "metadata": {},
   "outputs": [
    {
     "name": "stdout",
     "output_type": "stream",
     "text": [
      "\n",
      "\n",
      "\u001b[1m> Entering new  chain...\u001b[0m\n",
      "\u001b[32;1m\u001b[1;3mThought: I need to know the difficulty of ACCT 2301 and ACCT 2302\n",
      "Action: Course Search\n",
      "Action Input: ACCT 2301\u001b[0m\n",
      "Observation: \u001b[33;1m\u001b[1;3m{'items': [{'title': 'Introductory Financial Accounting - UT Dallas 2018 Undergraduate ...', 'link': 'https://catalog.utdallas.edu/2018/undergraduate/courses/acct2301', 'snippet': 'ACCT2301 - Introductory Financial Accounting. ACCT 2301 (ACCT 2301) Introductory Financial Accounting (3 semester credit hours) An introduction to financial\\xa0...'}, {'title': 'Accounting - UT Dallas 2020 Undergraduate Catalog - The ...', 'link': 'https://catalog.utdallas.edu/2020/undergraduate/courses/acct', 'snippet': 'ACCT 2301 (ACCT 2301) Introductory Financial Accounting (3 semester credit hours) An introduction to financial reporting designed to create an awareness of\\xa0...'}, {'title': 'Introductory Financial Accounting - UT Dallas 2022 Undergraduate ...', 'link': 'https://catalog.utdallas.edu/2022/undergraduate/courses/acct2301', 'snippet': 'ACCT2301 - Introductory Financial Accounting. ACCT 2301 (ACCT 2301) Introductory Financial Accounting (3 semester credit hours) An introduction to financial\\xa0...'}, {'title': 'Cost Management Systems - UT Dallas 2016 Undergraduate Catalog', 'link': 'https://catalog.utdallas.edu/2016/undergraduate/courses/acct3341', 'snippet': 'ACCT 3341 Cost Management Systems (3 semester credit hours) A study of ... Prerequisites: (MATH 1326 or MATH 2414 or MATH 2419) and (ACCT 2301 with a\\xa0...'}, {'title': 'Introductory Management Accounting - UT Dallas 2017 ...', 'link': 'https://catalog.utdallas.edu/2017/undergraduate/courses/acct2302', 'snippet': 'ACCT 2302 (ACCT 2302) Introductory Management Accounting (3 semester credit hours) An introduction ... Prerequisite: ACCT 2301 with a grade of C or better.'}, {'title': 'Fundamentals of Taxation I - UT Dallas 2017 Graduate Catalog ...', 'link': 'https://catalog.utdallas.edu/2017/graduate/courses/acct6350', 'snippet': 'ACCT 6350 Fundamentals of Taxation I (3 semester credit hours) Introduction to the role of taxes in ... ACCT 2301 will also be counted as a prerequisite.'}, {'title': 'Governmental and Not-For-Profit Accounting - UT Dallas 2017 ...', 'link': 'https://catalog.utdallas.edu/2017/graduate/courses/acct6365', 'snippet': 'ACCT 6365 Governmental and Not-For-Profit Accounting (3 semester credit hours) Accounting ... ACCT 2301 and ACCT 2302 will be counted as prerequisites.'}, {'title': 'Intermediate Financial Accounting I - UT Dallas 2018 Graduate ...', 'link': 'https://catalog.utdallas.edu/2018/graduate/courses/acct6330', 'snippet': 'ACCT 6330 Intermediate Financial Accounting I (3 semester credit hours) A study of external financial ... ACCT 2301 will also be counted as a prerequisite.'}]}\u001b[0m\n",
      "Thought:\u001b[32;1m\u001b[1;3mAction: Course Search\n",
      "Action Input: ACCT 2302\u001b[0m\n",
      "Observation: \u001b[33;1m\u001b[1;3m{'items': [{'title': 'Introductory Management Accounting - UT Dallas 2017 ...', 'link': 'https://catalog.utdallas.edu/2017/undergraduate/courses/acct2302', 'snippet': 'ACCT2302 - Introductory Management Accounting. ACCT 2302 (ACCT 2302) Introductory Management Accounting (3 semester credit hours) An introduction to the\\xa0...'}, {'title': 'Introductory Management Accounting - UT Dallas 2022 ...', 'link': 'https://catalog.utdallas.edu/2022/undergraduate/courses/acct2302', 'snippet': 'ACCT2302 - Introductory Management Accounting. ACCT 2302 (ACCT 2302) Introductory Management Accounting (3 semester credit hours) This course helps students\\xa0...'}, {'title': 'Accounting - UT Dallas 2017 Undergraduate Catalog - The ...', 'link': 'https://catalog.utdallas.edu/2017/undergraduate/courses/acct', 'snippet': 'ACCT 2302 (ACCT 2302) Introductory Management Accounting (3 semester credit hours) An introduction to the determination, development, and uses of internal\\xa0...'}, {'title': 'Intermediate Financial Accounting I - UT Dallas 2019 ...', 'link': 'https://catalog.utdallas.edu/2019/undergraduate/courses/acct3331', 'snippet': 'Students must earn a grade of C or better to progress to ACCT 3332. Prerequisites: MATH 1325 and ACCT 2302 with a minimum grade of C. (3-0) S.'}, {'title': 'Intermediate Financial Accounting I - UT Dallas 2017 ...', 'link': 'https://catalog.utdallas.edu/2017/undergraduate/courses/acct3331', 'snippet': 'ACCT 3331 Intermediate Financial Accounting I (3 semester credit hours) A ... or MATH 2419) and (ACCT 2301 with a minimum grade of C) and (ACCT 2302 with a\\xa0...'}, {'title': 'Cost Management Systems - UT Dallas 2016 Undergraduate Catalog', 'link': 'https://catalog.utdallas.edu/2016/undergraduate/courses/acct3341', 'snippet': 'ACCT 3341 Cost Management Systems (3 semester credit hours) A study of ... 2414 or MATH 2419) and (ACCT 2301 with a minimum grade of C) and (ACCT 2302 with\\xa0...'}, {'title': 'Planning, Control and Performance Evaluation - UT Dallas 2016 ...', 'link': 'https://catalog.utdallas.edu/2016/graduate/courses/acct6341', 'snippet': 'Extensive use of cases is used to apply strategic management accounting concepts. ACCT 2302 will also be counted as a prerequisite. Prerequisite: ACCT 6202\\xa0...'}, {'title': 'Integrated Accounting Information Systems - UT Dallas 2019 ...', 'link': 'https://catalog.utdallas.edu/2019/undergraduate/courses/acct3322', 'snippet': 'ACCT 3322 Integrated Accounting Information Systems (3 semester credit hours) ... Prerequisites: (ACCT 2301 with a minimum grade of C) and (ACCT 2302 with a\\xa0...'}]}\u001b[0m\n",
      "Thought:\u001b[32;1m\u001b[1;3mI now know the final answer\n",
      "Final Answer: ACCT 2302 is more difficult than ACCT 2301.\u001b[0m\n",
      "\n",
      "\u001b[1m> Finished chain.\u001b[0m\n",
      "ACCT 2302 is more difficult than ACCT 2301.\n"
     ]
    }
   ],
   "source": [
    "try:\n",
    "    response = agent_chain.run(input=\"What is the difficulty of ACCT 2301 compared to ACCT 2302?\")\n",
    "except ValueError as e:\n",
    "    print(\"Error :()\")\n",
    "    response = str(e)\n",
    "    prefix = \"Could not parse LLM output: `\"\n",
    "    if not response.startswith(\"Could not parse LLM output: `\"):\n",
    "        raise e\n",
    "    response = response.removeprefix(\"Could not parse LLM output: `\").removesuffix(\"`\")\n",
    "\n",
    "print(response)"
   ]
  },
  {
   "cell_type": "code",
   "execution_count": null,
   "metadata": {},
   "outputs": [],
   "source": []
  },
  {
   "cell_type": "code",
   "execution_count": 10,
   "metadata": {},
   "outputs": [
    {
     "name": "stdout",
     "output_type": "stream",
     "text": [
      "\n"
     ]
    }
   ],
   "source": [
    "print(agent_chain.memory.buffer)"
   ]
  }
 ],
 "metadata": {
  "kernelspec": {
   "display_name": "base",
   "language": "python",
   "name": "python3"
  },
  "language_info": {
   "codemirror_mode": {
    "name": "ipython",
    "version": 3
   },
   "file_extension": ".py",
   "mimetype": "text/x-python",
   "name": "python",
   "nbconvert_exporter": "python",
   "pygments_lexer": "ipython3",
   "version": "3.10.9"
  },
  "orig_nbformat": 4
 },
 "nbformat": 4,
 "nbformat_minor": 2
}
