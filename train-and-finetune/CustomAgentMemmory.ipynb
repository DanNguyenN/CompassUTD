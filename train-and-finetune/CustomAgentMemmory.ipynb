{
 "cells": [
  {
   "attachments": {},
   "cell_type": "markdown",
   "metadata": {},
   "source": [
    "# Google Authentication"
   ]
  },
  {
   "cell_type": "code",
   "execution_count": null,
   "metadata": {},
   "outputs": [],
   "source": [
    "import sys\n",
    "if 'google.colab' in sys.modules:\n",
    "    !pip install langchain google-cloud-aiplatform rich\n",
    "    google_auth.authenticate_user()"
   ]
  },
  {
   "cell_type": "code",
   "execution_count": null,
   "metadata": {},
   "outputs": [],
   "source": [
    "\n",
    "import os\n",
    "import requests"
   ]
  },
  {
   "cell_type": "code",
   "execution_count": null,
   "metadata": {},
   "outputs": [],
   "source": [
    "\n",
    "from langchain.llms import VertexAI\n",
    "from langchain.agents import ZeroShotAgent, Tool, AgentExecutor\n",
    "from langchain.memory import ConversationBufferMemory\n",
    "from langchain import LLMChain\n",
    "\n",
    "from langchain.experimental import plan_and_execute\n",
    "from langchain.experimental.plan_and_execute import PlanAndExecute, load_agent_executor, load_chat_planner"
   ]
  },
  {
   "cell_type": "code",
   "execution_count": null,
   "metadata": {},
   "outputs": [],
   "source": [
    "from google.cloud import aiplatform\n",
    "#! Change the following to your own project and location\n",
    "aiplatform.init(project=\"aerobic-gantry-387923\", location=\"us-central1\")\n",
    "vertex = VertexAI()"
   ]
  },
  {
   "cell_type": "code",
   "execution_count": null,
   "metadata": {},
   "outputs": [],
   "source": [
    "import Tools\n",
    "agent_tools = Tools.Tools()\n",
    "\n",
    "tools = [\n",
    "    \n",
    "    Tool(\n",
    "        name = \"Degree Search\",\n",
    "        func = agent_tools.get_degrees_from_query,\n",
    "        description = \"This tool allows you to search for UT Dallas' Degrees, Majors, Minors, and Certificates using keywords. Use this tool to compare multiple degrees. It returns multiple relevant URLs, titles, which you can extact text one by one.\",\n",
    "    ),\n",
    "    Tool(\n",
    "        name = \"Course Search\",\n",
    "        func = agent_tools.get_courses_from_query,\n",
    "        description = \"This tool enables you to search for UT Dallas' courses using keywords. Use this tool to compare multiple courses. It returns multiple relevant URLs, titles, which you can extact text one by one.\",\n",
    "    ),\n",
    "\n",
    "    Tool(\n",
    "        name = \"General Search\",\n",
    "        func = agent_tools.utdallas_search,\n",
    "        description = \"Please use this tool only as a last resort. It performs a comprehensive search across all UT Dallas pages that will not give information about courses or degrees. It requires a query string and returns possible links and snippet contents. Do not use for course search or degree search as there are separate tools for those.\",\n",
    "    ),\n",
    "    Tool(\n",
    "        name = \"Access utdallas.edu site\",\n",
    "        func = agent_tools.access_utdallas_site,\n",
    "        description = \"If you have a URL string containing utdallas.edu, use this function to extract the text content from that page.\",\n",
    "    ),\n",
    "    Tool(\n",
    "        name = \"Dictionary\",\n",
    "        func = agent_tools.dictionary_search,\n",
    "        description = \"If you need the definition of a word or phrase unrelated to UT Dallas, use this function to retrieve the definition. Do not use for anything related to UT Dallas only information.\",\n",
    "    )\n",
    "]\n"
   ]
  },
  {
   "cell_type": "code",
   "execution_count": null,
   "metadata": {},
   "outputs": [],
   "source": [
    "prefix = \"\"\"Act as a University of Texas at Dallas(sometime refered as UT Dallas or UTD) Guidance Counselor, answering the following questions with up-to-date information as best you can if and only if they are related to UT Dallas. You have access to the following UT Dallas tools:\"\"\"\n",
    "\n",
    "format_instruction = \"\"\"You must use the following format for all responses or your response will be considered incorrect:\n",
    "\n",
    "Question: the input question you must answer\n",
    "Thought: you should always think about what to do\n",
    "Action: the action to take, should be one of [{tool_names}]\n",
    "Action Input: the input to the action\n",
    "Observation: the result of the action\n",
    "... (this Thought/Action/Action Input/Observation can repeat N times)\n",
    "Thought: I now know the final answer\n",
    "Final Answer: the final answer to the original input question\n",
    "If you can't find the answer, say 'I am unable to find the answer.\n",
    "\"\"\"\n",
    "\n",
    "suffix = \"\"\"Begin!\"\n",
    "\n",
    "{chat_history}\n",
    "Question: {input}\n",
    "{agent_scratchpad}\n",
    "\n",
    "\"\"\"\n",
    "\n",
    "prompt = ZeroShotAgent.create_prompt(\n",
    "    tools,\n",
    "    prefix=prefix,\n",
    "    suffix=suffix,\n",
    "    format_instructions=format_instruction,\n",
    "    input_variables=[\"input\", \"chat_history\", \"agent_scratchpad\"],\n",
    "\n",
    ")\n",
    "memory = ConversationBufferMemory(memory_key=\"chat_history\")"
   ]
  },
  {
   "cell_type": "code",
   "execution_count": null,
   "metadata": {},
   "outputs": [],
   "source": [
    "llm_chain = LLMChain(llm=vertex, prompt=prompt)\n",
    "agent = ZeroShotAgent(llm_chain=llm_chain, tools=tools, verbose=True)\n",
    "agent_chain = AgentExecutor.from_agent_and_tools(\n",
    "    agent=agent, \n",
    "    tools=tools, \n",
    "    verbose=True, \n",
    "    memory=memory,\n",
    "    handle_parsing_errors=\"Check your output and make sure it conforms!\",\n",
    ")"
   ]
  },
  {
   "cell_type": "code",
   "execution_count": null,
   "metadata": {},
   "outputs": [],
   "source": [
    "planner = load_chat_planner(llm=vertex)\n",
    "executor = load_agent_executor(llm=vertex, tools = tools , verbose=True)\n",
    "plan_and_execute = PlanAndExecute (\n",
    "    planner=planner,\n",
    "    executor=executor,\n",
    "    verbose=True,\n",
    "    max_execution_time = 20 ,\n",
    "    return_intermediate_steps=True,\n",
    ")"
   ]
  },
  {
   "cell_type": "code",
   "execution_count": null,
   "metadata": {},
   "outputs": [],
   "source": [
    "agent_chain.run(input=\"How hard is CS 1336 compare to CE 4348?\")\n",
    "\n"
   ]
  },
  {
   "cell_type": "code",
   "execution_count": null,
   "metadata": {},
   "outputs": [],
   "source": [
    "print(agent_chain.memory.buffer)"
   ]
  }
 ],
 "metadata": {
  "kernelspec": {
   "display_name": "base",
   "language": "python",
   "name": "python3"
  },
  "language_info": {
   "codemirror_mode": {
    "name": "ipython",
    "version": 3
   },
   "file_extension": ".py",
   "mimetype": "text/x-python",
   "name": "python",
   "nbconvert_exporter": "python",
   "pygments_lexer": "ipython3",
   "version": "3.10.9"
  },
  "orig_nbformat": 4
 },
 "nbformat": 4,
 "nbformat_minor": 2
}
