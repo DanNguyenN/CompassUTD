{
  "cells": [
    {
      "cell_type": "code",
      "execution_count": 1,
      "metadata": {
        "colab": {
          "base_uri": "https://localhost:8080/",
          "height": 1000
        },
        "id": "lCuLOuZelrlt",
        "outputId": "ab4935cc-e031-4a5f-cf40-5fcc8fe93cce"
      },
      "outputs": [
        {
          "name": "stdout",
          "output_type": "stream",
          "text": [
            "Collecting langchain\n",
            "  Downloading langchain-0.0.221-py3-none-any.whl (1.2 MB)\n",
            "     ---------------------------------------- 1.2/1.2 MB 15.1 MB/s eta 0:00:00\n",
            "Collecting google-cloud-aiplatform\n",
            "  Downloading google_cloud_aiplatform-1.27.0-py2.py3-none-any.whl (2.6 MB)\n",
            "     ---------------------------------------- 2.6/2.6 MB 28.0 MB/s eta 0:00:00\n",
            "Collecting rich\n",
            "  Downloading rich-13.4.2-py3-none-any.whl (239 kB)\n",
            "     ------------------------------------- 239.4/239.4 kB 15.3 MB/s eta 0:00:00\n",
            "Collecting dataclasses-json<0.6.0,>=0.5.7\n",
            "  Downloading dataclasses_json-0.5.9-py3-none-any.whl (26 kB)\n",
            "Collecting tenacity<9.0.0,>=8.1.0\n",
            "  Downloading tenacity-8.2.2-py3-none-any.whl (24 kB)\n",
            "Requirement already satisfied: SQLAlchemy<3,>=1.4 in c:\\users\\danng\\anaconda3\\lib\\site-packages (from langchain) (1.4.39)\n",
            "Requirement already satisfied: numexpr<3.0.0,>=2.8.4 in c:\\users\\danng\\anaconda3\\lib\\site-packages (from langchain) (2.8.4)\n",
            "Requirement already satisfied: async-timeout<5.0.0,>=4.0.0 in c:\\users\\danng\\anaconda3\\lib\\site-packages (from langchain) (4.0.2)\n",
            "Collecting langchainplus-sdk>=0.0.17\n",
            "  Downloading langchainplus_sdk-0.0.19-py3-none-any.whl (25 kB)\n",
            "Requirement already satisfied: PyYAML>=5.4.1 in c:\\users\\danng\\anaconda3\\lib\\site-packages (from langchain) (6.0)\n",
            "Collecting openapi-schema-pydantic<2.0,>=1.2\n",
            "  Downloading openapi_schema_pydantic-1.2.4-py3-none-any.whl (90 kB)\n",
            "     ---------------------------------------- 90.0/90.0 kB ? eta 0:00:00\n",
            "Requirement already satisfied: pydantic<2,>=1 in c:\\users\\danng\\anaconda3\\lib\\site-packages (from langchain) (1.10.9)\n",
            "Requirement already satisfied: numpy<2,>=1 in c:\\users\\danng\\anaconda3\\lib\\site-packages (from langchain) (1.25.0)\n",
            "Requirement already satisfied: aiohttp<4.0.0,>=3.8.3 in c:\\users\\danng\\anaconda3\\lib\\site-packages (from langchain) (3.8.4)\n",
            "Requirement already satisfied: requests<3,>=2 in c:\\users\\danng\\anaconda3\\lib\\site-packages (from langchain) (2.29.0)\n",
            "Requirement already satisfied: packaging>=14.3 in c:\\users\\danng\\anaconda3\\lib\\site-packages (from google-cloud-aiplatform) (23.0)\n",
            "Collecting google-cloud-storage<3.0.0dev,>=1.32.0\n",
            "  Downloading google_cloud_storage-2.10.0-py2.py3-none-any.whl (114 kB)\n",
            "     ---------------------------------------- 114.6/114.6 kB ? eta 0:00:00\n",
            "Collecting google-api-core[grpc]!=2.0.*,!=2.1.*,!=2.2.*,!=2.3.*,!=2.4.*,!=2.5.*,!=2.6.*,!=2.7.*,<3.0.0dev,>=1.32.0\n",
            "  Downloading google_api_core-2.11.1-py3-none-any.whl (120 kB)\n",
            "     -------------------------------------- 120.5/120.5 kB 6.9 MB/s eta 0:00:00\n",
            "Collecting google-cloud-resource-manager<3.0.0dev,>=1.3.3\n",
            "  Downloading google_cloud_resource_manager-1.10.1-py2.py3-none-any.whl (321 kB)\n",
            "     ------------------------------------- 321.3/321.3 kB 19.4 MB/s eta 0:00:00\n",
            "Collecting google-cloud-bigquery<4.0.0dev,>=1.15.0\n",
            "  Downloading google_cloud_bigquery-3.11.3-py2.py3-none-any.whl (219 kB)\n",
            "     ------------------------------------- 219.5/219.5 kB 13.9 MB/s eta 0:00:00\n",
            "Collecting protobuf!=3.20.0,!=3.20.1,!=4.21.0,!=4.21.1,!=4.21.2,!=4.21.3,!=4.21.4,!=4.21.5,<5.0.0dev,>=3.19.5\n",
            "  Using cached protobuf-4.23.3-cp310-abi3-win_amd64.whl (422 kB)\n",
            "Collecting shapely<2.0.0\n",
            "  Downloading Shapely-1.8.5.post1-cp310-cp310-win_amd64.whl (1.3 MB)\n",
            "     ---------------------------------------- 1.3/1.3 MB 16.5 MB/s eta 0:00:00\n",
            "Collecting proto-plus<2.0.0dev,>=1.22.0\n",
            "  Downloading proto_plus-1.22.3-py3-none-any.whl (48 kB)\n",
            "     ---------------------------------------- 48.1/48.1 kB 2.5 MB/s eta 0:00:00\n",
            "Collecting pygments<3.0.0,>=2.13.0\n",
            "  Downloading Pygments-2.15.1-py3-none-any.whl (1.1 MB)\n",
            "     ---------------------------------------- 1.1/1.1 MB 36.7 MB/s eta 0:00:00\n",
            "Collecting markdown-it-py>=2.2.0\n",
            "  Downloading markdown_it_py-3.0.0-py3-none-any.whl (87 kB)\n",
            "     ---------------------------------------- 87.5/87.5 kB 4.8 MB/s eta 0:00:00\n",
            "Requirement already satisfied: yarl<2.0,>=1.0 in c:\\users\\danng\\anaconda3\\lib\\site-packages (from aiohttp<4.0.0,>=3.8.3->langchain) (1.9.2)\n",
            "Requirement already satisfied: charset-normalizer<4.0,>=2.0 in c:\\users\\danng\\anaconda3\\lib\\site-packages (from aiohttp<4.0.0,>=3.8.3->langchain) (2.0.4)\n",
            "Requirement already satisfied: attrs>=17.3.0 in c:\\users\\danng\\anaconda3\\lib\\site-packages (from aiohttp<4.0.0,>=3.8.3->langchain) (22.1.0)\n",
            "Requirement already satisfied: frozenlist>=1.1.1 in c:\\users\\danng\\anaconda3\\lib\\site-packages (from aiohttp<4.0.0,>=3.8.3->langchain) (1.3.3)\n",
            "Requirement already satisfied: multidict<7.0,>=4.5 in c:\\users\\danng\\anaconda3\\lib\\site-packages (from aiohttp<4.0.0,>=3.8.3->langchain) (6.0.4)\n",
            "Requirement already satisfied: aiosignal>=1.1.2 in c:\\users\\danng\\anaconda3\\lib\\site-packages (from aiohttp<4.0.0,>=3.8.3->langchain) (1.3.1)\n",
            "Collecting typing-inspect>=0.4.0\n",
            "  Using cached typing_inspect-0.9.0-py3-none-any.whl (8.8 kB)\n",
            "Collecting marshmallow<4.0.0,>=3.3.0\n",
            "  Downloading marshmallow-3.19.0-py3-none-any.whl (49 kB)\n",
            "     ---------------------------------------- 49.1/49.1 kB ? eta 0:00:00\n",
            "Collecting marshmallow-enum<2.0.0,>=1.5.1\n",
            "  Downloading marshmallow_enum-1.5.1-py2.py3-none-any.whl (4.2 kB)\n",
            "Collecting google-auth<3.0.dev0,>=2.14.1\n",
            "  Downloading google_auth-2.21.0-py2.py3-none-any.whl (182 kB)\n",
            "     ------------------------------------- 182.1/182.1 kB 10.7 MB/s eta 0:00:00\n",
            "Collecting googleapis-common-protos<2.0.dev0,>=1.56.2\n",
            "  Downloading googleapis_common_protos-1.59.1-py2.py3-none-any.whl (224 kB)\n",
            "     ------------------------------------- 224.5/224.5 kB 14.3 MB/s eta 0:00:00\n",
            "Collecting grpcio-status<2.0.dev0,>=1.33.2\n",
            "  Downloading grpcio_status-1.56.0-py3-none-any.whl (5.1 kB)\n",
            "Collecting grpcio<2.0dev,>=1.33.2\n",
            "  Downloading grpcio-1.56.0-cp310-cp310-win_amd64.whl (4.2 MB)\n",
            "     ---------------------------------------- 4.2/4.2 MB 19.3 MB/s eta 0:00:00\n",
            "Collecting google-resumable-media<3.0dev,>=0.6.0\n",
            "  Downloading google_resumable_media-2.5.0-py2.py3-none-any.whl (77 kB)\n",
            "     ---------------------------------------- 77.7/77.7 kB ? eta 0:00:00\n",
            "Requirement already satisfied: python-dateutil<3.0dev,>=2.7.2 in c:\\users\\danng\\anaconda3\\lib\\site-packages (from google-cloud-bigquery<4.0.0dev,>=1.15.0->google-cloud-aiplatform) (2.8.2)\n",
            "Collecting google-cloud-core<3.0.0dev,>=1.6.0\n",
            "  Downloading google_cloud_core-2.3.2-py2.py3-none-any.whl (29 kB)\n",
            "Collecting grpc-google-iam-v1<1.0.0dev,>=0.12.4\n",
            "  Downloading grpc_google_iam_v1-0.12.6-py2.py3-none-any.whl (26 kB)\n",
            "Collecting mdurl~=0.1\n",
            "  Downloading mdurl-0.1.2-py3-none-any.whl (10.0 kB)\n",
            "Requirement already satisfied: typing-extensions>=4.2.0 in c:\\users\\danng\\anaconda3\\lib\\site-packages (from pydantic<2,>=1->langchain) (4.6.3)\n",
            "Requirement already satisfied: idna<4,>=2.5 in c:\\users\\danng\\anaconda3\\lib\\site-packages (from requests<3,>=2->langchain) (3.4)\n",
            "Requirement already satisfied: urllib3<1.27,>=1.21.1 in c:\\users\\danng\\anaconda3\\lib\\site-packages (from requests<3,>=2->langchain) (1.26.16)\n",
            "Requirement already satisfied: certifi>=2017.4.17 in c:\\users\\danng\\anaconda3\\lib\\site-packages (from requests<3,>=2->langchain) (2023.5.7)\n",
            "Requirement already satisfied: greenlet!=0.4.17 in c:\\users\\danng\\anaconda3\\lib\\site-packages (from SQLAlchemy<3,>=1.4->langchain) (2.0.1)\n",
            "Requirement already satisfied: pyasn1-modules>=0.2.1 in c:\\users\\danng\\anaconda3\\lib\\site-packages (from google-auth<3.0.dev0,>=2.14.1->google-api-core[grpc]!=2.0.*,!=2.1.*,!=2.2.*,!=2.3.*,!=2.4.*,!=2.5.*,!=2.6.*,!=2.7.*,<3.0.0dev,>=1.32.0->google-cloud-aiplatform) (0.2.8)\n",
            "Requirement already satisfied: six>=1.9.0 in c:\\users\\danng\\anaconda3\\lib\\site-packages (from google-auth<3.0.dev0,>=2.14.1->google-api-core[grpc]!=2.0.*,!=2.1.*,!=2.2.*,!=2.3.*,!=2.4.*,!=2.5.*,!=2.6.*,!=2.7.*,<3.0.0dev,>=1.32.0->google-cloud-aiplatform) (1.16.0)\n",
            "Collecting rsa<5,>=3.1.4\n",
            "  Downloading rsa-4.9-py3-none-any.whl (34 kB)\n",
            "Collecting cachetools<6.0,>=2.0.0\n",
            "  Downloading cachetools-5.3.1-py3-none-any.whl (9.3 kB)\n",
            "Collecting google-crc32c<2.0dev,>=1.0\n",
            "  Downloading google_crc32c-1.5.0-cp310-cp310-win_amd64.whl (27 kB)\n",
            "Requirement already satisfied: mypy-extensions>=0.3.0 in c:\\users\\danng\\anaconda3\\lib\\site-packages (from typing-inspect>=0.4.0->dataclasses-json<0.6.0,>=0.5.7->langchain) (0.4.3)\n",
            "Requirement already satisfied: pyasn1<0.5.0,>=0.4.6 in c:\\users\\danng\\anaconda3\\lib\\site-packages (from pyasn1-modules>=0.2.1->google-auth<3.0.dev0,>=2.14.1->google-api-core[grpc]!=2.0.*,!=2.1.*,!=2.2.*,!=2.3.*,!=2.4.*,!=2.5.*,!=2.6.*,!=2.7.*,<3.0.0dev,>=1.32.0->google-cloud-aiplatform) (0.4.8)\n",
            "Installing collected packages: typing-inspect, tenacity, shapely, rsa, pygments, protobuf, mdurl, marshmallow, grpcio, google-crc32c, cachetools, proto-plus, openapi-schema-pydantic, marshmallow-enum, markdown-it-py, langchainplus-sdk, googleapis-common-protos, google-resumable-media, google-auth, rich, grpcio-status, google-api-core, dataclasses-json, langchain, grpc-google-iam-v1, google-cloud-core, google-cloud-storage, google-cloud-resource-manager, google-cloud-bigquery, google-cloud-aiplatform\n",
            "  Attempting uninstall: tenacity\n",
            "    Found existing installation: tenacity 8.0.1\n",
            "    Uninstalling tenacity-8.0.1:\n",
            "      Successfully uninstalled tenacity-8.0.1\n",
            "  Attempting uninstall: pygments\n",
            "    Found existing installation: Pygments 2.11.2\n",
            "    Uninstalling Pygments-2.11.2:\n",
            "      Successfully uninstalled Pygments-2.11.2\n",
            "Successfully installed cachetools-5.3.1 dataclasses-json-0.5.9 google-api-core-2.11.1 google-auth-2.21.0 google-cloud-aiplatform-1.27.0 google-cloud-bigquery-3.11.3 google-cloud-core-2.3.2 google-cloud-resource-manager-1.10.1 google-cloud-storage-2.10.0 google-crc32c-1.5.0 google-resumable-media-2.5.0 googleapis-common-protos-1.59.1 grpc-google-iam-v1-0.12.6 grpcio-1.56.0 grpcio-status-1.56.0 langchain-0.0.221 langchainplus-sdk-0.0.19 markdown-it-py-3.0.0 marshmallow-3.19.0 marshmallow-enum-1.5.1 mdurl-0.1.2 openapi-schema-pydantic-1.2.4 proto-plus-1.22.3 protobuf-4.23.3 pygments-2.15.1 rich-13.4.2 rsa-4.9 shapely-1.8.5.post1 tenacity-8.2.2 typing-inspect-0.9.0\n"
          ]
        }
      ],
      "source": [
        "!pip install langchain google-cloud-aiplatform rich"
      ]
    },
    {
      "attachments": {},
      "cell_type": "markdown",
      "metadata": {
        "id": "gyhkWAXp2LP8"
      },
      "source": [
        "# Imports"
      ]
    },
    {
      "cell_type": "code",
      "execution_count": 2,
      "metadata": {
        "id": "5XS7F7lEAcly"
      },
      "outputs": [],
      "source": [
        "import os\n",
        "import requests\n",
        "from google.cloud import aiplatform\n",
        "from langchain.agents import (AgentExecutor, AgentType, BaseSingleActionAgent,\n",
        "                              Tool, initialize_agent)\n",
        "from langchain.llms import VertexAI\n",
        "from langchain.memory import ConversationBufferMemory\n",
        "from langchain.tools import tool\n",
        "from pydantic import BaseModel, Field\n",
        "from rich import print\n",
        "from rich.console import Console\n",
        "from rich.progress import Progress, track\n",
        "from rich.table import Table"
      ]
    },
    {
      "attachments": {},
      "cell_type": "markdown",
      "metadata": {
        "id": "0wta80So2QCZ"
      },
      "source": [
        "# Google Authentication"
      ]
    },
    {
      "cell_type": "code",
      "execution_count": 4,
      "metadata": {
        "id": "KjDpW0zyCnqj"
      },
      "outputs": [],
      "source": [
        "tool_url = None #!TODO: set this to the tool url if using Colab\n",
        "try:\n",
        "    from google.colab import auth as google_auth\n",
        "    google_auth.authenticate_user()\n",
        "except:\n",
        "    import dotenv\n",
        "    dotenv.load_dotenv()\n",
        "    tool_url = str(os.getenv('TOOL_URL'))\n",
        "    pass"
      ]
    },
    {
      "cell_type": "code",
      "execution_count": 5,
      "metadata": {
        "id": "HI68K9IJAdPc"
      },
      "outputs": [],
      "source": [
        "#! Change the following to your own project and location\n",
        "aiplatform.init(project=\"aerobic-gantry-387923\", location=\"us-central1\")\n",
        "llm = VertexAI()"
      ]
    },
    {
      "attachments": {},
      "cell_type": "markdown",
      "metadata": {
        "id": "z_p7TusQUez0"
      },
      "source": [
        "# Vector Stores"
      ]
    },
    {
      "cell_type": "code",
      "execution_count": null,
      "metadata": {},
      "outputs": [],
      "source": [
        "#TODO: Implement a vector stores"
      ]
    },
    {
      "attachments": {},
      "cell_type": "markdown",
      "metadata": {
        "id": "9ebmz1Qe2gnn"
      },
      "source": [
        "# Tools Function"
      ]
    },
    {
      "cell_type": "code",
      "execution_count": 6,
      "metadata": {
        "id": "Pcso0YAc2-bb"
      },
      "outputs": [],
      "source": [
        "class SearchInput(BaseModel):\n",
        "    query: str = Field(description=\"should be a search query\")\n",
        "\n",
        "def request_error_handler(url: str, params={}) -> str:\n",
        "    try:\n",
        "        response = requests.get(url, params)\n",
        "        response.raise_for_status()  # Raise an HTTPError if the status code is not in the 200 range\n",
        "        data = response.json()\n",
        "        return data\n",
        "    except requests.exceptions.RequestException as e:\n",
        "        return e"
      ]
    },
    {
      "attachments": {},
      "cell_type": "markdown",
      "metadata": {
        "id": "NVbcgcJL2oo3"
      },
      "source": [
        "## Courses"
      ]
    },
    {
      "cell_type": "code",
      "execution_count": 7,
      "metadata": {
        "id": "rWSwXzh62pvf"
      },
      "outputs": [],
      "source": [
        "def get_courses_from_query(query: str) -> str:\n",
        "    url = f\"https://{tool_url}/get-possible-courses/{query}\"\n",
        "    return request_error_handler(url)\n"
      ]
    },
    {
      "attachments": {},
      "cell_type": "markdown",
      "metadata": {
        "id": "h68QFdQH2vAI"
      },
      "source": [
        "## Degree"
      ]
    },
    {
      "cell_type": "code",
      "execution_count": 8,
      "metadata": {
        "id": "3NfRmJ4m2wML"
      },
      "outputs": [
        {
          "data": {
            "text/html": [
              "<pre style=\"white-space:pre;overflow-x:auto;line-height:normal;font-family:Menlo,'DejaVu Sans Mono',consolas,'Courier New',monospace\"><span style=\"font-weight: bold\">{</span>\n",
              "    <span style=\"color: #008000; text-decoration-color: #008000\">'items'</span>: <span style=\"font-weight: bold\">[</span>\n",
              "        <span style=\"font-weight: bold\">{</span>\n",
              "            <span style=\"color: #008000; text-decoration-color: #008000\">'title'</span>: <span style=\"color: #008000; text-decoration-color: #008000\">'Computer Science (BS) - UT Dallas 2022 Undergraduate Catalog ...'</span>,\n",
              "            <span style=\"color: #008000; text-decoration-color: #008000\">'link'</span>: <span style=\"color: #008000; text-decoration-color: #008000\">'https://catalog.utdallas.edu/2022/undergraduate/programs/ecs/computer-science'</span>,\n",
              "            <span style=\"color: #008000; text-decoration-color: #008000\">'snippet'</span>: <span style=\"color: #008000; text-decoration-color: #008000\">'Mar 25, 2022 ... The Computer Science program continues with courses in advanced data </span>\n",
              "<span style=\"color: #008000; text-decoration-color: #008000\">structures, programming languages, telecommunications networks, and\\xa0...'</span>\n",
              "        <span style=\"font-weight: bold\">}</span>,\n",
              "        <span style=\"font-weight: bold\">{</span>\n",
              "            <span style=\"color: #008000; text-decoration-color: #008000\">'title'</span>: <span style=\"color: #008000; text-decoration-color: #008000\">'Computer Science Program - UT Dallas 2022 Graduate Catalog ...'</span>,\n",
              "            <span style=\"color: #008000; text-decoration-color: #008000\">'link'</span>: <span style=\"color: #008000; text-decoration-color: #008000\">'https://catalog.utdallas.edu/2022/graduate/programs/ecs/computer-science'</span>,\n",
              "            <span style=\"color: #008000; text-decoration-color: #008000\">'snippet'</span>: <span style=\"color: #008000; text-decoration-color: #008000\">\"Apr 13, 2022 ... CS 5349 Automata Theory. CS 5390 Computer Networks. The University's </span>\n",
              "<span style=\"color: #008000; text-decoration-color: #008000\">general degree requirements are discussed on the Graduate Policies and\\xa0...\"</span>\n",
              "        <span style=\"font-weight: bold\">}</span>,\n",
              "        <span style=\"font-weight: bold\">{</span>\n",
              "            <span style=\"color: #008000; text-decoration-color: #008000\">'title'</span>: <span style=\"color: #008000; text-decoration-color: #008000\">'Computer Science (BS) - Four-Year Degree Plan (Example) - UT ...'</span>,\n",
              "            <span style=\"color: #008000; text-decoration-color: #008000\">'link'</span>: <span style=\"color: #008000; text-decoration-color: #008000\">'https://catalog.utdallas.edu/2022/undergraduate/programs/ecs/computer-science/four-year'</span>,\n",
              "            <span style=\"color: #008000; text-decoration-color: #008000\">'snippet'</span>: <span style=\"color: #008000; text-decoration-color: #008000\">'May 21, 2022 ... CS 2336, 9, 3. Total, 19, Total, 16. Junior Year. Semester 5 - Fall, </span>\n",
              "<span style=\"color: #008000; text-decoration-color: #008000\">Notes, Preferred, Core, SCH, Semester 6 - Spring, Notes, Preferred\\xa0...'</span>\n",
              "        <span style=\"font-weight: bold\">}</span>,\n",
              "        <span style=\"font-weight: bold\">{</span>\n",
              "            <span style=\"color: #008000; text-decoration-color: #008000\">'title'</span>: <span style=\"color: #008000; text-decoration-color: #008000\">'Minors - Erik Jonsson School of Engineering and Computer Science ...'</span>,\n",
              "            <span style=\"color: #008000; text-decoration-color: #008000\">'link'</span>: <span style=\"color: #008000; text-decoration-color: #008000\">'https://catalog.utdallas.edu/2022/undergraduate/programs/ecs/minors'</span>,\n",
              "            <span style=\"color: #008000; text-decoration-color: #008000\">'snippet'</span>: <span style=\"color: #008000; text-decoration-color: #008000\">'Feb 11, 2022 ... Minor in Computer Science. 21 semester credit hours. Students majoring in </span>\n",
              "<span style=\"color: #008000; text-decoration-color: #008000\">Computer Engineering, Computer Science or Software Engineering cannot\\xa0...'</span>\n",
              "        <span style=\"font-weight: bold\">}</span>,\n",
              "        <span style=\"font-weight: bold\">{</span>\n",
              "            <span style=\"color: #008000; text-decoration-color: #008000\">'title'</span>: <span style=\"color: #008000; text-decoration-color: #008000\">'Computer Science - BS - Erik Jonsson School of Engineering and ...'</span>,\n",
              "            <span style=\"color: #008000; text-decoration-color: #008000\">'link'</span>: <span style=\"color: #008000; text-decoration-color: #008000\">'https://catalog.utdallas.edu/2020/undergraduate/programs/ecs/computer-science'</span>,\n",
              "            <span style=\"color: #008000; text-decoration-color: #008000\">'snippet'</span>: <span style=\"color: #008000; text-decoration-color: #008000\">'Jun 18, 2020 ... The mission of the Department of Computer Science is to prepare </span>\n",
              "<span style=\"color: #008000; text-decoration-color: #008000\">undergraduate and graduate students for productive careers in industry, academia\\xa0...'</span>\n",
              "        <span style=\"font-weight: bold\">}</span>,\n",
              "        <span style=\"font-weight: bold\">{</span>\n",
              "            <span style=\"color: #008000; text-decoration-color: #008000\">'title'</span>: <span style=\"color: #008000; text-decoration-color: #008000\">'Erik Jonsson School of Engineering and Computer Science'</span>,\n",
              "            <span style=\"color: #008000; text-decoration-color: #008000\">'link'</span>: <span style=\"color: #008000; text-decoration-color: #008000\">'https://catalog.utdallas.edu/2020-undergraduate/programs/ecs/computer-science/four-year'</span>,\n",
              "            <span style=\"color: #008000; text-decoration-color: #008000\">'snippet'</span>: <span style=\"color: #008000; text-decoration-color: #008000\">'May 26, 2020 ... CS 1200 Introduction to Computer Science and Software Engineering, 2, CS </span>\n",
              "<span style=\"color: #008000; text-decoration-color: #008000\">2305 Discrete Mathematics for Computing I, 3.'</span>\n",
              "        <span style=\"font-weight: bold\">}</span>,\n",
              "        <span style=\"font-weight: bold\">{</span>\n",
              "            <span style=\"color: #008000; text-decoration-color: #008000\">'title'</span>: <span style=\"color: #008000; text-decoration-color: #008000\">'Department of Computer Science - UT Dallas 2020 Graduate Catalog'</span>,\n",
              "            <span style=\"color: #008000; text-decoration-color: #008000\">'link'</span>: <span style=\"color: #008000; text-decoration-color: #008000\">'https://catalog.utdallas.edu/2020/graduate/programs/ecs/computer-science'</span>,\n",
              "            <span style=\"color: #008000; text-decoration-color: #008000\">'snippet'</span>: <span style=\"color: #008000; text-decoration-color: #008000\">'Oct 14, 2020 ... CS 3341 (SE 3341) Probability and Statistics in Computer Science and </span>\n",
              "<span style=\"color: #008000; text-decoration-color: #008000\">Software Engineering. CS 5390 Computer Networks.'</span>\n",
              "        <span style=\"font-weight: bold\">}</span>,\n",
              "        <span style=\"font-weight: bold\">{</span>\n",
              "            <span style=\"color: #008000; text-decoration-color: #008000\">'title'</span>: <span style=\"color: #008000; text-decoration-color: #008000\">'Certificates - Erik Jonsson School of Engineering and Computer ...'</span>,\n",
              "            <span style=\"color: #008000; text-decoration-color: #008000\">'link'</span>: <span style=\"color: #008000; text-decoration-color: #008000\">'https://catalog.utdallas.edu/2022/undergraduate/programs/ecs/certificates'</span>,\n",
              "            <span style=\"color: #008000; text-decoration-color: #008000\">'snippet'</span>: <span style=\"color: #008000; text-decoration-color: #008000\">'Aug 2, 2021 ... CS 4393 Computer and Network Security. CS 4398 Digital Forensics. Students </span>\n",
              "<span style=\"color: #008000; text-decoration-color: #008000\">that complete the Minor in Information Assurance will not be\\xa0...'</span>\n",
              "        <span style=\"font-weight: bold\">}</span>,\n",
              "        <span style=\"font-weight: bold\">{</span>\n",
              "            <span style=\"color: #008000; text-decoration-color: #008000\">'title'</span>: <span style=\"color: #008000; text-decoration-color: #008000\">'Software Engineering (BS) - UT Dallas 2022 Undergraduate Catalog'</span>,\n",
              "            <span style=\"color: #008000; text-decoration-color: #008000\">'link'</span>: <span style=\"color: #008000; text-decoration-color: #008000\">'https://catalog.utdallas.edu/2022/undergraduate/programs/ecs/software-engineering'</span>,\n",
              "            <span style=\"color: #008000; text-decoration-color: #008000\">'snippet'</span>: <span style=\"color: #008000; text-decoration-color: #008000\">'Jul 22, 2022 ... CS 1200 Introduction to Computer Science and Software Engineering ... SE </span>\n",
              "<span style=\"color: #008000; text-decoration-color: #008000\">guided electives are 4000 level CS/SE courses approved by the\\xa0...'</span>\n",
              "        <span style=\"font-weight: bold\">}</span>,\n",
              "        <span style=\"font-weight: bold\">{</span>\n",
              "            <span style=\"color: #008000; text-decoration-color: #008000\">'title'</span>: <span style=\"color: #008000; text-decoration-color: #008000\">'Data Science - BS - Four Year - UT Dallas 2020 Undergraduate ...'</span>,\n",
              "            <span style=\"color: #008000; text-decoration-color: #008000\">'link'</span>: <span style=\"color: #008000; text-decoration-color: #008000\">'https://catalog.utdallas.edu/2020-undergraduate/programs/data-science/four-year'</span>,\n",
              "            <span style=\"color: #008000; text-decoration-color: #008000\">'snippet'</span>: <span style=\"color: #008000; text-decoration-color: #008000\">'May 27, 2020 ... This is an example only. Please see advisor to develop individual </span>\n",
              "<span style=\"color: #008000; text-decoration-color: #008000\">four-year plan. Freshman Year. Fall Semester, SCH, Spring Semester, SCH. CS\\xa0...'</span>\n",
              "        <span style=\"font-weight: bold\">}</span>\n",
              "    <span style=\"font-weight: bold\">]</span>\n",
              "<span style=\"font-weight: bold\">}</span>\n",
              "</pre>\n"
            ],
            "text/plain": [
              "\u001b[1m{\u001b[0m\n",
              "    \u001b[32m'items'\u001b[0m: \u001b[1m[\u001b[0m\n",
              "        \u001b[1m{\u001b[0m\n",
              "            \u001b[32m'title'\u001b[0m: \u001b[32m'Computer Science \u001b[0m\u001b[32m(\u001b[0m\u001b[32mBS\u001b[0m\u001b[32m)\u001b[0m\u001b[32m - UT Dallas 2022 Undergraduate Catalog ...'\u001b[0m,\n",
              "            \u001b[32m'link'\u001b[0m: \u001b[32m'https://catalog.utdallas.edu/2022/undergraduate/programs/ecs/computer-science'\u001b[0m,\n",
              "            \u001b[32m'snippet'\u001b[0m: \u001b[32m'Mar 25, 2022 ... The Computer Science program continues with courses in advanced data \u001b[0m\n",
              "\u001b[32mstructures, programming languages, telecommunications networks, and\\xa0...'\u001b[0m\n",
              "        \u001b[1m}\u001b[0m,\n",
              "        \u001b[1m{\u001b[0m\n",
              "            \u001b[32m'title'\u001b[0m: \u001b[32m'Computer Science Program - UT Dallas 2022 Graduate Catalog ...'\u001b[0m,\n",
              "            \u001b[32m'link'\u001b[0m: \u001b[32m'https://catalog.utdallas.edu/2022/graduate/programs/ecs/computer-science'\u001b[0m,\n",
              "            \u001b[32m'snippet'\u001b[0m: \u001b[32m\"Apr 13, 2022 ... CS 5349 Automata Theory. CS 5390 Computer Networks. The University's \u001b[0m\n",
              "\u001b[32mgeneral degree requirements are discussed on the Graduate Policies and\\xa0...\"\u001b[0m\n",
              "        \u001b[1m}\u001b[0m,\n",
              "        \u001b[1m{\u001b[0m\n",
              "            \u001b[32m'title'\u001b[0m: \u001b[32m'Computer Science \u001b[0m\u001b[32m(\u001b[0m\u001b[32mBS\u001b[0m\u001b[32m)\u001b[0m\u001b[32m - Four-Year Degree Plan \u001b[0m\u001b[32m(\u001b[0m\u001b[32mExample\u001b[0m\u001b[32m)\u001b[0m\u001b[32m - UT ...'\u001b[0m,\n",
              "            \u001b[32m'link'\u001b[0m: \u001b[32m'https://catalog.utdallas.edu/2022/undergraduate/programs/ecs/computer-science/four-year'\u001b[0m,\n",
              "            \u001b[32m'snippet'\u001b[0m: \u001b[32m'May 21, 2022 ... CS 2336, 9, 3. Total, 19, Total, 16. Junior Year. Semester 5 - Fall, \u001b[0m\n",
              "\u001b[32mNotes, Preferred, Core, SCH, Semester 6 - Spring, Notes, Preferred\\xa0...'\u001b[0m\n",
              "        \u001b[1m}\u001b[0m,\n",
              "        \u001b[1m{\u001b[0m\n",
              "            \u001b[32m'title'\u001b[0m: \u001b[32m'Minors - Erik Jonsson School of Engineering and Computer Science ...'\u001b[0m,\n",
              "            \u001b[32m'link'\u001b[0m: \u001b[32m'https://catalog.utdallas.edu/2022/undergraduate/programs/ecs/minors'\u001b[0m,\n",
              "            \u001b[32m'snippet'\u001b[0m: \u001b[32m'Feb 11, 2022 ... Minor in Computer Science. 21 semester credit hours. Students majoring in \u001b[0m\n",
              "\u001b[32mComputer Engineering, Computer Science or Software Engineering cannot\\xa0...'\u001b[0m\n",
              "        \u001b[1m}\u001b[0m,\n",
              "        \u001b[1m{\u001b[0m\n",
              "            \u001b[32m'title'\u001b[0m: \u001b[32m'Computer Science - BS - Erik Jonsson School of Engineering and ...'\u001b[0m,\n",
              "            \u001b[32m'link'\u001b[0m: \u001b[32m'https://catalog.utdallas.edu/2020/undergraduate/programs/ecs/computer-science'\u001b[0m,\n",
              "            \u001b[32m'snippet'\u001b[0m: \u001b[32m'Jun 18, 2020 ... The mission of the Department of Computer Science is to prepare \u001b[0m\n",
              "\u001b[32mundergraduate and graduate students for productive careers in industry, academia\\xa0...'\u001b[0m\n",
              "        \u001b[1m}\u001b[0m,\n",
              "        \u001b[1m{\u001b[0m\n",
              "            \u001b[32m'title'\u001b[0m: \u001b[32m'Erik Jonsson School of Engineering and Computer Science'\u001b[0m,\n",
              "            \u001b[32m'link'\u001b[0m: \u001b[32m'https://catalog.utdallas.edu/2020-undergraduate/programs/ecs/computer-science/four-year'\u001b[0m,\n",
              "            \u001b[32m'snippet'\u001b[0m: \u001b[32m'May 26, 2020 ... CS 1200 Introduction to Computer Science and Software Engineering, 2, CS \u001b[0m\n",
              "\u001b[32m2305 Discrete Mathematics for Computing I, 3.'\u001b[0m\n",
              "        \u001b[1m}\u001b[0m,\n",
              "        \u001b[1m{\u001b[0m\n",
              "            \u001b[32m'title'\u001b[0m: \u001b[32m'Department of Computer Science - UT Dallas 2020 Graduate Catalog'\u001b[0m,\n",
              "            \u001b[32m'link'\u001b[0m: \u001b[32m'https://catalog.utdallas.edu/2020/graduate/programs/ecs/computer-science'\u001b[0m,\n",
              "            \u001b[32m'snippet'\u001b[0m: \u001b[32m'Oct 14, 2020 ... CS 3341 \u001b[0m\u001b[32m(\u001b[0m\u001b[32mSE 3341\u001b[0m\u001b[32m)\u001b[0m\u001b[32m Probability and Statistics in Computer Science and \u001b[0m\n",
              "\u001b[32mSoftware Engineering. CS 5390 Computer Networks.'\u001b[0m\n",
              "        \u001b[1m}\u001b[0m,\n",
              "        \u001b[1m{\u001b[0m\n",
              "            \u001b[32m'title'\u001b[0m: \u001b[32m'Certificates - Erik Jonsson School of Engineering and Computer ...'\u001b[0m,\n",
              "            \u001b[32m'link'\u001b[0m: \u001b[32m'https://catalog.utdallas.edu/2022/undergraduate/programs/ecs/certificates'\u001b[0m,\n",
              "            \u001b[32m'snippet'\u001b[0m: \u001b[32m'Aug 2, 2021 ... CS 4393 Computer and Network Security. CS 4398 Digital Forensics. Students \u001b[0m\n",
              "\u001b[32mthat complete the Minor in Information Assurance will not be\\xa0...'\u001b[0m\n",
              "        \u001b[1m}\u001b[0m,\n",
              "        \u001b[1m{\u001b[0m\n",
              "            \u001b[32m'title'\u001b[0m: \u001b[32m'Software Engineering \u001b[0m\u001b[32m(\u001b[0m\u001b[32mBS\u001b[0m\u001b[32m)\u001b[0m\u001b[32m - UT Dallas 2022 Undergraduate Catalog'\u001b[0m,\n",
              "            \u001b[32m'link'\u001b[0m: \u001b[32m'https://catalog.utdallas.edu/2022/undergraduate/programs/ecs/software-engineering'\u001b[0m,\n",
              "            \u001b[32m'snippet'\u001b[0m: \u001b[32m'Jul 22, 2022 ... CS 1200 Introduction to Computer Science and Software Engineering ... SE \u001b[0m\n",
              "\u001b[32mguided electives are 4000 level CS/SE courses approved by the\\xa0...'\u001b[0m\n",
              "        \u001b[1m}\u001b[0m,\n",
              "        \u001b[1m{\u001b[0m\n",
              "            \u001b[32m'title'\u001b[0m: \u001b[32m'Data Science - BS - Four Year - UT Dallas 2020 Undergraduate ...'\u001b[0m,\n",
              "            \u001b[32m'link'\u001b[0m: \u001b[32m'https://catalog.utdallas.edu/2020-undergraduate/programs/data-science/four-year'\u001b[0m,\n",
              "            \u001b[32m'snippet'\u001b[0m: \u001b[32m'May 27, 2020 ... This is an example only. Please see advisor to develop individual \u001b[0m\n",
              "\u001b[32mfour-year plan. Freshman Year. Fall Semester, SCH, Spring Semester, SCH. CS\\xa0...'\u001b[0m\n",
              "        \u001b[1m}\u001b[0m\n",
              "    \u001b[1m]\u001b[0m\n",
              "\u001b[1m}\u001b[0m\n"
            ]
          },
          "metadata": {},
          "output_type": "display_data"
        }
      ],
      "source": [
        "def get_degrees_from_query(query: str) -> str:\n",
        "    url = f\"https://{tool_url}/get-possible-degrees/{query}\"\n",
        "    return request_error_handler(url)\n",
        "print(\n",
        "    get_degrees_from_query(\"CS\")\n",
        ")"
      ]
    },
    {
      "attachments": {},
      "cell_type": "markdown",
      "metadata": {
        "id": "HU6m33D92105"
      },
      "source": [
        "## Utdallas Search"
      ]
    },
    {
      "cell_type": "code",
      "execution_count": 9,
      "metadata": {
        "colab": {
          "base_uri": "https://localhost:8080/",
          "height": 1000
        },
        "id": "rNj4TyMukXgE",
        "outputId": "e0616e0d-808e-4bd0-ed15-8e88a33e0c80"
      },
      "outputs": [],
      "source": [
        "def utdallas_search(query: str) -> str:\n",
        "    url = f\"https://{tool_url}/search/{query}\"\n",
        "    return request_error_handler(url)\n",
        "\n",
        "def access_utdallas_site(url_to_search: str) -> str:\n",
        "    url = f\"https://{tool_url}/access/\"\n",
        "    params = {\n",
        "        \"url\": url_to_search\n",
        "    }\n",
        "    return request_error_handler(url, params)\n",
        "\n"
      ]
    },
    {
      "attachments": {},
      "cell_type": "markdown",
      "metadata": {
        "id": "jI4Om8Lx3EQ4"
      },
      "source": [
        "# Tools NAME and description"
      ]
    },
    {
      "cell_type": "code",
      "execution_count": 10,
      "metadata": {
        "id": "PpKwE-kpl0eP"
      },
      "outputs": [],
      "source": [
        "tools = [\n",
        "    Tool(\n",
        "        name = \"UTD Degree API\",\n",
        "        func = get_degrees_from_query,\n",
        "        description = \"Suppose you have a keyword that sound like a UT Dallas' Degrees, Majors, Minors, and Certificates. This tool will return possible url, title and snippet from the query from search engine.\",\n",
        "    ),\n",
        "    Tool(\n",
        "        name = \"UTD Course API\",\n",
        "        func = get_courses_from_query,\n",
        "        description = \"Suppose you have a keyword that sound like a UT Dallas' courses. This tool will return course numbers/codes where that keyword exists in the course title.\",\n",
        "    ),\n",
        "\n",
        "    Tool(\n",
        "        name = \"UTD Search\",\n",
        "        func = utdallas_search,\n",
        "        description = \"This tool should not be used and should be used only as a last resort; it will search every UT Dallas page. This function require a query string and return possible links and snippet contents. If you want to find classes or degrees, there are better tools.\"\n",
        "    ),\n",
        "    Tool(\n",
        "        name = \"Extract text from UTD Search url links\",\n",
        "        func = access_utdallas_site,\n",
        "        description = \"If you have a url string contain utdallas.edu, use this function to extract text content\"\n",
        "    ),\n",
        "\n",
        "    ]"
      ]
    },
    {
      "attachments": {},
      "cell_type": "markdown",
      "metadata": {
        "id": "B48pVtyZkHhn"
      },
      "source": []
    },
    {
      "attachments": {},
      "cell_type": "markdown",
      "metadata": {
        "id": "DVAgrMU-4sHZ"
      },
      "source": [
        "# Initialize Agents"
      ]
    },
    {
      "attachments": {},
      "cell_type": "markdown",
      "metadata": {
        "id": "P865I0vbImv6"
      },
      "source": [
        "## Zero Shot ReAcT Agents\n"
      ]
    },
    {
      "cell_type": "code",
      "execution_count": 11,
      "metadata": {
        "id": "qUkDy2R5kxIt"
      },
      "outputs": [],
      "source": [
        "'''\n",
        "agent = initialize_agent(\n",
        "    tools, llm, agent=AgentType.CONVERSATIONAL_REACT_DESCRIPTION, verbose=True, memory = memory ,\n",
        "    max_execution_time = 10 , return_intermediate_steps=True,\n",
        ")\n",
        "'''\n",
        "memory = ConversationBufferMemory(memory_key=\"chat_history\")\n",
        "zero_shot_react_agent = initialize_agent(\n",
        "    tools,\n",
        "    llm,\n",
        "    agent=AgentType.ZERO_SHOT_REACT_DESCRIPTION,\n",
        "    verbose=True,\n",
        "    return_intermediate_steps=True,\n",
        "    max_execution_time = 20 ,\n",
        ")"
      ]
    },
    {
      "attachments": {},
      "cell_type": "markdown",
      "metadata": {
        "id": "wseBQh_RNLyt"
      },
      "source": [
        "## Plan and execute"
      ]
    },
    {
      "cell_type": "code",
      "execution_count": 12,
      "metadata": {
        "id": "_ZyIbxtANOeS"
      },
      "outputs": [],
      "source": [
        "from langchain.experimental import plan_and_execute\n",
        "from langchain.chat_models import ChatOpenAI\n",
        "from langchain.experimental.plan_and_execute import PlanAndExecute, load_agent_executor, load_chat_planner\n",
        "from langchain.llms import OpenAI\n",
        "planner = load_chat_planner(llm)\n",
        "executor = load_agent_executor(llm, tools = tools , verbose=True)\n",
        "plan_and_execute = PlanAndExecute (\n",
        "    planner=planner,\n",
        "    executor=executor,\n",
        "    verbose=True,\n",
        "    max_execution_time = 20 ,\n",
        "    return_intermediate_steps=True,\n",
        ")\n",
        "\n",
        "\n"
      ]
    },
    {
      "attachments": {},
      "cell_type": "markdown",
      "metadata": {
        "id": "9mSvsXSGI1sJ"
      },
      "source": [
        "# Testing Agents"
      ]
    },
    {
      "attachments": {},
      "cell_type": "markdown",
      "metadata": {
        "id": "x135HlrcI4pf"
      },
      "source": [
        "## Tell me the Difference between a courses"
      ]
    },
    {
      "cell_type": "code",
      "execution_count": 13,
      "metadata": {
        "colab": {
          "base_uri": "https://localhost:8080/",
          "height": 452
        },
        "id": "fmddtHyrI6_Y",
        "outputId": "678f1d04-cedc-4809-b063-85fa32c0893d"
      },
      "outputs": [
        {
          "name": "stdout",
          "output_type": "stream",
          "text": [
            "\n",
            "\n",
            "\u001b[1m> Entering new  chain...\u001b[0m\n",
            "\u001b[32;1m\u001b[1;3mI don't know what Math 2417 and Math 2419 are\n",
            "Action: UTD Course API\n",
            "Action Input: Math 2417\u001b[0m\n",
            "Observation: \u001b[33;1m\u001b[1;3m{'course_ids': {'items': [{'title': 'Calculus I - UT Dallas 2022 Undergraduate Catalog - The University ...', 'link': 'https://catalog.utdallas.edu/2022/undergraduate/courses/math2417', 'snippet': 'MATH2417 - Calculus I. MATH 2417 Calculus I (4 semester credit hours) Functions, limits, continuity, differentiation; integration of function of one\\xa0...'}, {'title': 'Calculus I - UT Dallas 2022 Graduate Catalog - The University of ...', 'link': 'https://catalog.utdallas.edu/2022/graduate/courses/math2417', 'snippet': 'MATH2417 - Calculus I. MATH 2417 Calculus I (4 semester credit hours) Functions, limits, continuity, differentiation; integration of function of one\\xa0...'}, {'title': 'Calculus II - UT Dallas 2017 Undergraduate Catalog - The ...', 'link': 'https://catalog.utdallas.edu/2017/undergraduate/courses/math2419', 'snippet': 'MATH 2419 Calculus II (4 semester credit hours) Continuation of MATH 2417. Improper integrals, sequences, infinite series, power series,\\xa0...'}, {'title': 'Calculus I - UT Dallas 2012 Undergraduate Catalog - The University ...', 'link': 'https://catalog.utdallas.edu/2012/undergraduate/courses/math2417', 'snippet': 'MATH2417 - Calculus I. MATH 2417 (MATH 2417) Calculus I (4 semester hours) Functions, limits, continuity, differentiation; integration of function of one\\xa0...'}, {'title': 'Mathematical Science - UT Dallas 2017 Undergraduate Catalog ...', 'link': 'https://catalog.utdallas.edu/2017/undergraduate/courses/math', 'snippet': 'Cannot be used to replace MATH 2417 or MATH 2413. Prerequisite: ALEKS score required or a grade of at least a C- in MATH 1314. (3-0) S.'}, {'title': 'Mathematical Science - UT Dallas 2020 Undergraduate Catalog ...', 'link': 'https://catalog.utdallas.edu/2020/undergraduate/courses/math', 'snippet': 'Cannot be used to replace MATH 2417 or MATH 2413. Prerequisite: ALEKS score required or a grade of at least a C- in MATH 1314. (3-0) S.'}, {'title': 'Integral Calculus - UT Dallas 2017 Undergraduate Catalog - The ...', 'link': 'https://catalog.utdallas.edu/2017/undergraduate/courses/math2414', 'snippet': 'Not all MATH/STAT courses may be counted toward various degree plans. ... Prerequisite: A grade of C- or better in either MATH 2417 or in MATH 2413 or\\xa0...'}, {'title': 'Applied Calculus I - UT Dallas 2021 Undergraduate Catalog - The ...', 'link': 'https://catalog.utdallas.edu/2021/undergraduate/courses/math1325', 'snippet': 'Cannot be used to replace MATH 2417 or MATH 2413. Prerequisite: ALEKS score required or a grade of at least a C- in MATH 1314. (3-0) S.'}, {'title': 'Calculus II - UT Dallas 2015 Undergraduate Catalog - The ...', 'link': 'https://catalog.utdallas.edu/2015/undergraduate/courses/math2419', 'snippet': 'MATH 2419 (MATH 2419) Calculus II (4 semester credit hours) Continuation of MATH 2417. Improper integrals, sequences, infinite series, power series,\\xa0...'}, {'title': 'Calculus II - UT Dallas 2022 Graduate Catalog - The University of ...', 'link': 'https://catalog.utdallas.edu/2022/graduate/courses/math2419', 'snippet': 'MATH 2419 Calculus II (4 semester credit hours) Continuation of MATH 2417. Improper integrals, sequences, infinite series, power series,\\xa0...'}]}}\u001b[0m\n",
            "Thought:\u001b[32;1m\u001b[1;3mMath 2417 is Calculus I and Math 2419 is Calculus II\n",
            "Action: UTD Course API\n",
            "Action Input: Math 2419\u001b[0m\n",
            "Observation: \u001b[33;1m\u001b[1;3m{'course_ids': {'items': [{'title': 'Calculus II - UT Dallas 2018 Undergraduate Catalog - The ...', 'link': 'https://catalog.utdallas.edu/2018/undergraduate/courses/math2419', 'snippet': 'MATH2419 - Calculus II. MATH 2419 Calculus II (4 semester credit hours) Continuation of MATH 2417. Improper integrals, sequences, infinite series,\\xa0...'}, {'title': 'Calculus II - UT Dallas 2022 Graduate Catalog - The University of ...', 'link': 'https://catalog.utdallas.edu/2022/graduate/courses/math2419', 'snippet': 'MATH2419 - Calculus II. MATH 2419 Calculus II (4 semester credit hours) Continuation of MATH 2417. Improper integrals, sequences, infinite series,\\xa0...'}, {'title': 'Calculus II - UT Dallas 2018 Graduate Catalog - The University of ...', 'link': 'https://catalog.utdallas.edu/2018/graduate/courses/math2419', 'snippet': 'MATH2419 - Calculus II. MATH 2419 Calculus II (4 semester credit hours) Continuation of MATH 2417. Improper integrals, sequences, infinite series,\\xa0...'}, {'title': 'Integral Calculus - UT Dallas 2018 Undergraduate Catalog - The ...', 'link': 'https://catalog.utdallas.edu/2018/undergraduate/courses/math2414', 'snippet': 'Cannot be used to replace MATH 2419. Prerequisite: A grade of C- or better in either MATH 2417 or in MATH 2413 or equivalent. (3-2) S.'}, {'title': 'Calculus II - UT Dallas 2015 Undergraduate Catalog - The ...', 'link': 'https://catalog.utdallas.edu/2015/undergraduate/courses/math2419', 'snippet': 'MATH2419 - Calculus II. MATH 2419 (MATH 2419) Calculus II (4 semester credit hours) Continuation of MATH 2417. Improper integrals, sequences, infinite\\xa0...'}, {'title': 'Mathematical Science - UT Dallas 2020 Undergraduate Catalog ...', 'link': 'https://catalog.utdallas.edu/2020/undergraduate/courses/math', 'snippet': 'MATH 1306 College Algebra for the Non-Scientist (3 semester credit hours) This course is intended for ... Cannot be used to replace MATH 2414 or MATH 2419.'}, {'title': 'Engineering - UT Dallas 2022 Undergraduate Catalog - The ...', 'link': 'https://catalog.utdallas.edu/2022/undergraduate/courses/engr', 'snippet': 'ENGR 2300 Linear Algebra for Engineers · MATH 2414 or MATH 2419. (2-1) S ; ENGR 3300 Advanced Engineering Mathematics · (MATH 2415 or MATH 2419 or equivalent) and\\xa0...'}, {'title': 'Engineering - UT Dallas 2014 Undergraduate Catalog - The ...', 'link': 'https://catalog.utdallas.edu/2014/undergraduate/courses/engr', 'snippet': 'Credit cannot be received for both courses, ENGR 2300 and MATH 2418. Prerequisite or Corequisite: MATH 2414 or MATH 2419. (2-1) S.'}, {'title': 'Operations Research - UT Dallas 2018 Undergraduate Catalog ...', 'link': 'https://catalog.utdallas.edu/2018/undergraduate/courses/opre', 'snippet': 'Credit cannot be received for both courses, OPRE 3333 and MATH 2333. ... Prerequisites: OPRE 3310 and (MATH 1326 or MATH 2414 or MATH 2419). (3-0) Y.'}, {'title': 'Scientific Math Computing - UT Dallas 2012 Undergraduate Catalog ...', 'link': 'https://catalog.utdallas.edu/2012/undergraduate/courses/math4332', 'snippet': 'MATH 4332 Scientific Math Computing (3 semester hours) Topics covered ... MATH 2418 and a grade of at least a C- in either MATH 2415 or in MATH 2419.'}]}}\u001b[0m\n",
            "Thought:\u001b[32;1m\u001b[1;3mMath 2417 is Calculus I and Math 2419 is Calculus II\n",
            "Action: UTD Search\n",
            "Action Input: Math 2417\u001b[0m\n",
            "Observation: \u001b[38;5;200m\u001b[1;3m{'items': [{'title': 'SYLLABUS - MATH 2417.HN1 - FALL 2016 • Contact: V ...', 'link': 'https://dox.utdallas.edu/syl58354', 'snippet': 'SYLLABUS - MATH 2417.HN1 - FALL 2016. • Contact: V. Ramakrishna, FO 2.408C, Campus. Extension: 6873; email: vish@utdallas.edu.'}, {'title': 'Spring 2017, Math-2417, Calculus I Version: December 19, 2016 ...', 'link': 'https://dox.utdallas.edu/syl61690', 'snippet': 'Spring 2017, Math-2417, Calculus I. Version: December 19, 2016. Lecture Sections. Section. Course Number. Location. Days. Time. Instructor. 2417.001.'}, {'title': 'ALEKS Up! - Student Success Center | The University of Texas at ...', 'link': 'https://studentsuccess.utdallas.edu/aleks-up/', 'snippet': 'plan to take MATH 2413 Differential Calculus or MATH 2417 Calculus I during their academic career. WHAT? ALEKS Up! offers: Access to drop-in tutoring designed\\xa0...'}, {'title': 'CLEP Credit - The University of Texas at Dallas', 'link': 'https://oue.utdallas.edu/undergraduate-advising/clep-credit', 'snippet': 'Sep 29, 2021 ... Science and Mathematics ... Calculus, MATH 2312 and MATH 2417, 61. College Algebra, MATH 1314, 50. Biology, BIOL 2311/2111 and BIOL 2312/\\xa0...'}, {'title': 'PreCalc Workshop - Student Success Center | UT Dallas', 'link': 'https://studentsuccess.utdallas.edu/workshops-camps/precalc-workshop/', 'snippet': 'The Precalculus Workshop Series provides training in most essential precalculus topics to prepare students for MATH 2413 and MATH 2417.'}, {'title': '2016 Spring, Math-2417, Calculus I Version: January 11, 2016 ...', 'link': 'https://dox.utdallas.edu/syl53982', 'snippet': '2016 Spring, Math-2417, Calculus I. Version: January 11, 2016. Section. Course Number. Location. Days. Time. Instructor. 2417.001.'}, {'title': 'Advising FAQ - Erik Jonsson School of Engineering & Computer ...', 'link': 'https://engineering.utdallas.edu/academics/undergraduate-majors/undergrad-advising/advising-faq/', 'snippet': 'What is the difference between MATH 2413 and MATH 2417?+. These courses both cover differential calculus. However, MATH 2417 ALSO covers some integral\\xa0...'}, {'title': 'Fall 2016, Math-2417, Calculus I Version: August 17, 2016 Section ...', 'link': 'https://dox.utdallas.edu/syl58224', 'snippet': 'Fall 2016, Math-2417, Calculus I. Version: August 17, 2016. Section. Course Number. Location. Days. Time. Instructor. 2417.001.'}, {'title': 'AS BS Degree Prerequisites Analysis.xlsx', 'link': 'https://www.utdallas.edu/~nah103020/AS%20BS%20Degree%20Prerequisites%20Analysis.pdf', 'snippet': 'MATH 2417*. Calculus I (Differential Calculus). 4. Credit given for only one of MATH 1325 or 2417. Prerequisite: A SAT II Mathematics Level IC Test score.'}, {'title': 'Supported Courses - Student Success Center | UT Dallas', 'link': 'https://studentsuccess.utdallas.edu/supported-courses-3/', 'snippet': 'Calculus I and II, MATH 1325/1326, MATH 2413/2414, MATH 2417/2419. Calculus III, MATH 2415, MATH 3351. Linear Algebra, ENGR 2300, MATH 2418.'}]}\u001b[0m\n",
            "Thought:\u001b[32;1m\u001b[1;3mMath 2417 is Calculus I and Math 2419 is Calculus II\n",
            " Action: Extract text from UTD Search url links\n",
            "Action Input: https://catalog.utdallas.edu/2022/undergraduate/courses/math2417\u001b[0m\n",
            "Observation: \u001b[36;1m\u001b[1;3m{'data': 'UT Dallas 2022 Undergraduate Catalog MATH2417 - Calculus I MATH 2417 Calculus I (4 semester credit hours) Functions, limits, continuity, differentiation; integration of function of one variable; logarithmic, exponential, and inverse trigonometric functions; techniques of integration, and applications. Three lecture hours and two discussion hours a week; problem section required with MATH 2417, and will also be registered for exam section. Not all MATH/STAT courses may be counted toward various degree plans. Please consult your degree plan to determine the appropriate MATH/STAT course requirements. Prerequisite: ALEKS score required or a grade of at least a C- in MATH 2306 or MATH 2 312. (3-2) S https://catalog.utdallas.edu/2022/undergraduate/courses/math2417 (2023-07-03 09:34:44) 1/1 '}\u001b[0m\n",
            "Thought:\u001b[32;1m\u001b[1;3mI now know the final answer\n",
            "Final Answer: Math 2417 is Calculus I and Math 2419 is Calculus II\u001b[0m\n",
            "\n",
            "\u001b[1m> Finished chain.\u001b[0m\n"
          ]
        },
        {
          "data": {
            "text/html": [
              "<pre style=\"white-space:pre;overflow-x:auto;line-height:normal;font-family:Menlo,'DejaVu Sans Mono',consolas,'Courier New',monospace\">Math <span style=\"color: #008080; text-decoration-color: #008080; font-weight: bold\">2417</span> is Calculus I and Math <span style=\"color: #008080; text-decoration-color: #008080; font-weight: bold\">2419</span> is Calculus II\n",
              "</pre>\n"
            ],
            "text/plain": [
              "Math \u001b[1;36m2417\u001b[0m is Calculus I and Math \u001b[1;36m2419\u001b[0m is Calculus II\n"
            ]
          },
          "metadata": {},
          "output_type": "display_data"
        }
      ],
      "source": [
        "response = zero_shot_react_agent(\n",
        "        {\n",
        "            \"input\": \"What is the difference between Math 2417 and Math 2419\"\n",
        "        }\n",
        ")\n",
        "print(\n",
        "    response[\"output\"]\n",
        ")\n"
      ]
    },
    {
      "cell_type": "code",
      "execution_count": 14,
      "metadata": {
        "colab": {
          "base_uri": "https://localhost:8080/",
          "height": 1000
        },
        "id": "n_IOo8W9QFDh",
        "outputId": "decfc5ab-e8d0-46f5-e5dc-9c437b66d8fb"
      },
      "outputs": [
        {
          "name": "stdout",
          "output_type": "stream",
          "text": [
            "\n",
            "\n",
            "\u001b[1m> Entering new  chain...\u001b[0m\n",
            "steps=[Step(value='Go to the course catalog'), Step(value='Search for Math 2417'), Step(value='Read the course description'), Step(value='Search for Math 2419'), Step(value='Read the course description'), Step(value='Compare the two course descriptions'), Step(value='Given the above steps taken, please respond to the users original question\\n')]\n",
            "\n",
            "\u001b[1m> Entering new  chain...\u001b[0m\n",
            "\u001b[32;1m\u001b[1;3mAction:\n",
            "```\n",
            "{\n",
            "  \"action\": \"UTD Course API\",\n",
            "  \"action_input\": \"course catalog\"\n",
            "}\n",
            "```\n",
            "\u001b[0m\n",
            "Observation: \u001b[33;1m\u001b[1;3m{'course_ids': {'items': [{'title': 'Psychology - UT Dallas 2022 Undergraduate Catalog - The ...', 'link': 'https://catalog.utdallas.edu/2022/undergraduate/courses/psy', 'snippet': 'UT Dallas 2022 Undergraduate Catalog. ... PSY 3339 Educational Psychology (3 semester credit hours) This course focuses on the psychological foundations of\\xa0...'}, {'title': 'Mathematical Science - UT Dallas 2023 Undergraduate Catalog ...', 'link': 'https://catalog.utdallas.edu/current/undergraduate/courses/math', 'snippet': 'UT Dallas 2023 Undergraduate Catalog. ... Not all MATH/STAT courses may be counted toward various degree plans. Please consult your degree plan to determine\\xa0...'}, {'title': 'Arts Technology Communication and Media - UT Dallas 2020 ...', 'link': 'https://catalog.utdallas.edu/2020/undergraduate/courses/atcm', 'snippet': 'UT Dallas 2020 Undergraduate Catalog. ... ATCM 1100 First Year Seminar (1 semester credit hour) This course will introduce incoming freshmen to the\\xa0...'}, {'title': 'Biology - UT Dallas 2021 Undergraduate Catalog - The University of ...', 'link': 'https://catalog.utdallas.edu/2021/undergraduate/courses/biol', 'snippet': 'UT Dallas 2021 Undergraduate Catalog. ... The overall objective of the course is an appreciation of the integration and control of all systems.'}, {'title': 'Economic, Political and Policy Sciences - UT Dallas 2021 ...', 'link': 'https://catalog.utdallas.edu/2021/undergraduate/courses/epps', 'snippet': 'UT Dallas 2021 Undergraduate Catalog. ... global economy, and sociology. This course is also open to all non-EPPS majors. Corequisite: UNIV 1010. (1-1) Y.'}, {'title': 'Innovation and Entrepreneurship - UT Dallas 2022 Undergraduate ...', 'link': 'https://catalog.utdallas.edu/2022/undergraduate/courses/entp', 'snippet': 'UT Dallas 2022 Undergraduate Catalog. ... ENTP 3320 Start-up Launch I (3 semester credit hours) This course provides an opportunity for a student or a\\xa0...'}, {'title': 'Engineering and Computer Science - UT Dallas 2021 ...', 'link': 'https://catalog.utdallas.edu/2021/undergraduate/courses/ecs', 'snippet': 'UT Dallas 2021 Undergraduate Catalog. ... Technology (3 semester credit hours) This course exposes students to major theoretical approaches and professional\\xa0...'}, {'title': 'Chemistry - UT Dallas 2022 Undergraduate Catalog - The University ...', 'link': 'https://catalog.utdallas.edu/2022/undergraduate/courses/chem', 'snippet': 'UT Dallas 2022 Undergraduate Catalog. ... This course reinforces concepts presented in CHEM 1316. Lab fee of $30 required. Prerequisite: CHEM 1115.'}, {'title': 'Information Technology and Systems - UT Dallas 2021 ...', 'link': 'https://catalog.utdallas.edu/2021/undergraduate/courses/itss', 'snippet': 'UT Dallas 2021 Undergraduate Catalog. ... The course focuses on using information technology and information systems to support decision-making,\\xa0...'}, {'title': 'Political Science - UT Dallas 2022 Undergraduate Catalog - The ...', 'link': 'https://catalog.utdallas.edu/2022/undergraduate/courses/psci', 'snippet': 'UT Dallas 2022 Undergraduate Catalog. ... PSCI 3333 Political Behavior (3 semester credit hours) This course addresses the questions of why some people vote\\xa0...'}]}}\u001b[0m\n",
            "Thought:\u001b[32;1m\u001b[1;3mI found the following course catalog:\n",
            "\n",
            "https://catalog.utdallas.edu/2022/undergraduate/courses/psy\u001b[0m\n",
            "\n",
            "\u001b[1m> Finished chain.\u001b[0m\n",
            "*****\n",
            "\n",
            "Step: Go to the course catalog\n",
            "\n",
            "Response: I found the following course catalog:\n",
            "\n",
            "https://catalog.utdallas.edu/2022/undergraduate/courses/psy\n",
            "\n",
            "\u001b[1m> Entering new  chain...\u001b[0m\n",
            "\u001b[32;1m\u001b[1;3mAction:\n",
            "```\n",
            "{\n",
            "  \"action\": \"UTD Course API\",\n",
            "  \"action_input\": \"Math 2417\"\n",
            "}\n",
            "```\n",
            "\u001b[0m\n",
            "Observation: \u001b[33;1m\u001b[1;3m{'course_ids': {'items': [{'title': 'Calculus I - UT Dallas 2022 Undergraduate Catalog - The University ...', 'link': 'https://catalog.utdallas.edu/2022/undergraduate/courses/math2417', 'snippet': 'MATH2417 - Calculus I. MATH 2417 Calculus I (4 semester credit hours) Functions, limits, continuity, differentiation; integration of function of one\\xa0...'}, {'title': 'Calculus I - UT Dallas 2022 Graduate Catalog - The University of ...', 'link': 'https://catalog.utdallas.edu/2022/graduate/courses/math2417', 'snippet': 'MATH2417 - Calculus I. MATH 2417 Calculus I (4 semester credit hours) Functions, limits, continuity, differentiation; integration of function of one\\xa0...'}, {'title': 'Calculus II - UT Dallas 2017 Undergraduate Catalog - The ...', 'link': 'https://catalog.utdallas.edu/2017/undergraduate/courses/math2419', 'snippet': 'MATH 2419 Calculus II (4 semester credit hours) Continuation of MATH 2417. Improper integrals, sequences, infinite series, power series,\\xa0...'}, {'title': 'Calculus I - UT Dallas 2012 Undergraduate Catalog - The University ...', 'link': 'https://catalog.utdallas.edu/2012/undergraduate/courses/math2417', 'snippet': 'MATH2417 - Calculus I. MATH 2417 (MATH 2417) Calculus I (4 semester hours) Functions, limits, continuity, differentiation; integration of function of one\\xa0...'}, {'title': 'Mathematical Science - UT Dallas 2017 Undergraduate Catalog ...', 'link': 'https://catalog.utdallas.edu/2017/undergraduate/courses/math', 'snippet': 'Cannot be used to replace MATH 2417 or MATH 2413. Prerequisite: ALEKS score required or a grade of at least a C- in MATH 1314. (3-0) S.'}, {'title': 'Mathematical Science - UT Dallas 2020 Undergraduate Catalog ...', 'link': 'https://catalog.utdallas.edu/2020/undergraduate/courses/math', 'snippet': 'Cannot be used to replace MATH 2417 or MATH 2413. Prerequisite: ALEKS score required or a grade of at least a C- in MATH 1314. (3-0) S.'}, {'title': 'Integral Calculus - UT Dallas 2017 Undergraduate Catalog - The ...', 'link': 'https://catalog.utdallas.edu/2017/undergraduate/courses/math2414', 'snippet': 'Not all MATH/STAT courses may be counted toward various degree plans. ... Prerequisite: A grade of C- or better in either MATH 2417 or in MATH 2413 or\\xa0...'}, {'title': 'Applied Calculus I - UT Dallas 2021 Undergraduate Catalog - The ...', 'link': 'https://catalog.utdallas.edu/2021/undergraduate/courses/math1325', 'snippet': 'Cannot be used to replace MATH 2417 or MATH 2413. Prerequisite: ALEKS score required or a grade of at least a C- in MATH 1314. (3-0) S.'}, {'title': 'Calculus II - UT Dallas 2015 Undergraduate Catalog - The ...', 'link': 'https://catalog.utdallas.edu/2015/undergraduate/courses/math2419', 'snippet': 'MATH 2419 (MATH 2419) Calculus II (4 semester credit hours) Continuation of MATH 2417. Improper integrals, sequences, infinite series, power series,\\xa0...'}, {'title': 'Calculus II - UT Dallas 2022 Graduate Catalog - The University of ...', 'link': 'https://catalog.utdallas.edu/2022/graduate/courses/math2419', 'snippet': 'MATH 2419 Calculus II (4 semester credit hours) Continuation of MATH 2417. Improper integrals, sequences, infinite series, power series,\\xa0...'}]}}\u001b[0m\n",
            "Thought:\u001b[32;1m\u001b[1;3mI found the following course catalog:\\n\\nhttps://catalog.utdallas.edu/2022/undergraduate/courses/math2417\n",
            "\n",
            "Action:\n",
            "```\n",
            "{\n",
            "  \"action\": \"Final Answer\",\n",
            "  \"action_input\": \"I found the following course catalog:\\n\\nhttps://catalog.utdallas.edu/2022/undergraduate/courses/math2417\"\n",
            "}\n",
            "```\u001b[0m\n",
            "\n",
            "\u001b[1m> Finished chain.\u001b[0m\n",
            "*****\n",
            "\n",
            "Step: Search for Math 2417\n",
            "\n",
            "Response: I found the following course catalog:\n",
            "\n",
            "https://catalog.utdallas.edu/2022/undergraduate/courses/math2417\n",
            "\n",
            "\u001b[1m> Entering new  chain...\u001b[0m\n",
            "\u001b[32;1m\u001b[1;3mAction:\n",
            "```\n",
            "{\n",
            "  \"action\": \"Extract text from UTD Search url links\",\n",
            "  \"action_input\": \"https://catalog.utdallas.edu/2022/undergraduate/courses/math2417\"\n",
            "}\n",
            "```\n",
            "\u001b[0m\n",
            "Observation: \u001b[36;1m\u001b[1;3m{'data': 'UT Dallas 2022 Undergraduate Catalog MATH2417 - Calculus I MATH 2417 Calculus I (4 semester credit hours) Functions, limits, continuity, differentiation; integration of function of one variable; logarithmic, exponential, and inverse trigonometric functions; techniques of integration, and applications. Three lecture hours and two discussion hours a week; problem section required with MATH 2417, and will also be registered for exam section. Not all MATH/STAT courses may be counted toward various degree plans. Please consult your degree plan to determine the appropriate MATH/STAT course requirements. Prerequisite: ALEKS score required or a grade of at least a C- in MATH 2306 or MATH 2 312. (3-2) S https://catalog.utdallas.edu/2022/undergraduate/courses/math2417 (2023-07-03 09:35:03) 1/1 '}\u001b[0m\n",
            "Thought:\u001b[32;1m\u001b[1;3mI know what to respond\n",
            "Action:\n",
            "```\n",
            "{\n",
            "  \"action\": \"Final Answer\",\n",
            "  \"action_input\": \"Functions, limits, continuity, differentiation; integration of function of one variable; logarithmic, exponential, and inverse trigonometric functions; techniques of integration, and applications. Three lecture hours and two discussion hours a week; problem section required with MATH 2417, and will also be registered for exam section. Not all MATH/STAT courses may be counted toward various degree plans. Please consult your degree plan to determine the appropriate MATH/STAT course requirements. Prerequisite: ALEKS\u001b[0m\n",
            "\n",
            "\u001b[1m> Finished chain.\u001b[0m\n",
            "*****\n",
            "\n",
            "Step: Read the course description\n",
            "\n",
            "Response: I know what to respond\n",
            "Action:\n",
            "```\n",
            "{\n",
            "  \"action\": \"Final Answer\",\n",
            "  \"action_input\": \"Functions, limits, continuity, differentiation; integration of function of one variable; logarithmic, exponential, and inverse trigonometric functions; techniques of integration, and applications. Three lecture hours and two discussion hours a week; problem section required with MATH 2417, and will also be registered for exam section. Not all MATH/STAT courses may be counted toward various degree plans. Please consult your degree plan to determine the appropriate MATH/STAT course requirements. Prerequisite: ALEKS\n",
            "\n",
            "\u001b[1m> Entering new  chain...\u001b[0m\n"
          ]
        },
        {
          "data": {
            "text/html": [
              "<pre style=\"white-space:pre;overflow-x:auto;line-height:normal;font-family:Menlo,'DejaVu Sans Mono',consolas,'Courier New',monospace\">Could not parse LLM output: Action:\n",
              "```\n",
              "<span style=\"font-weight: bold\">{</span>\n",
              "  <span style=\"color: #008000; text-decoration-color: #008000\">\"action\"</span>: UTD Course API,\n",
              "  <span style=\"color: #008000; text-decoration-color: #008000\">\"action_input\"</span>: <span style=\"color: #008000; text-decoration-color: #008000\">\"Math 2419\"</span>\n",
              "<span style=\"font-weight: bold\">}</span>\n",
              "```\n",
              "\n",
              "</pre>\n"
            ],
            "text/plain": [
              "Could not parse LLM output: Action:\n",
              "```\n",
              "\u001b[1m{\u001b[0m\n",
              "  \u001b[32m\"action\"\u001b[0m: UTD Course API,\n",
              "  \u001b[32m\"action_input\"\u001b[0m: \u001b[32m\"Math 2419\"\u001b[0m\n",
              "\u001b[1m}\u001b[0m\n",
              "```\n",
              "\n"
            ]
          },
          "metadata": {},
          "output_type": "display_data"
        }
      ],
      "source": [
        "try:\n",
        "  plan_execute_response = plan_and_execute(\n",
        "    \"What is the difference between Math 2417 and Math 2419\"\n",
        "  )\n",
        "  print(\n",
        "    plan_execute_response[\"output\"]\n",
        "  )\n",
        "except Exception as e:\n",
        "  print(e)\n",
        "\n",
        "\n",
        "\n"
      ]
    },
    {
      "attachments": {},
      "cell_type": "markdown",
      "metadata": {
        "id": "iDEPUnZ-aY8M"
      },
      "source": [
        "## Contacting People at my University"
      ]
    },
    {
      "cell_type": "code",
      "execution_count": null,
      "metadata": {
        "colab": {
          "base_uri": "https://localhost:8080/",
          "height": 868
        },
        "id": "TRaT2Vezm3v2",
        "outputId": "c0e17883-223e-46e4-bba6-a957f016115a"
      },
      "outputs": [
        {
          "name": "stdout",
          "output_type": "stream",
          "text": [
            "\n",
            "\n",
            "\u001b[1m> Entering new  chain...\u001b[0m\n",
            "\u001b[32;1m\u001b[1;3mI don't know what the email to contact for Accounting advising is.\n",
            "Action: UTD Search\n",
            "Action Input: accounting advising\u001b[0m\n",
            "Observation: \u001b[38;5;200m\u001b[1;3m{'items': [{'title': 'Academic Advising | Naveen Jindal School of Management - Dallas', 'link': 'https://jindal.utdallas.edu/advising/', 'snippet': 'JSOM Academic Advising is here to help guide you by providing you with new student guidelines, registration steps, and graduation information. Read more.'}, {'title': 'MS Accounting Registration/CPA Advising Session - Comet Calendar', 'link': 'https://calendar.utdallas.edu/event/ms_accounting_registrationcpa_advising_session_3439', 'snippet': 'MS Accounting Registration/CPA Advising Session. Wednesday, September 2, 2020 at 12:00pm to 2:00pm. Virtual Event. To help you review your CPA eligibility\\xa0...'}, {'title': 'Staff List | Naveen Jindal School of Management - Dallas', 'link': 'https://jindal.utdallas.edu/staff-list/', 'snippet': 'Oct 20, 2021 ... Van Dam. Program Manager, Undergraduate Accounting Program ... Undergraduate Academic Advisor ... Assistant Director, Graduate Advising.'}, {'title': 'Academic Advising - Registrar | The University of Texas at Dallas', 'link': 'https://registrar.utdallas.edu/registration/academic-advising/', 'snippet': 'Do I need to see an advisor? New Undergraduate Students New freshman and transfer students must complete their orientation modules before they can be ...'}, {'title': 'Contact Information | Naveen Jindal School of Management - Dallas', 'link': 'https://jindal.utdallas.edu/about-the-jindal-school-of-management/contact/', 'snippet': 'Dec 7, 2022 ... Advising Office The Naveen Jindal School of Management ... Undergraduate Advising: (972) 883-2275 ... Accounting, msaccounting@utdallas.edu.'}, {'title': 'Contact Us - MS in Accounting Flex - Naveen Jindal School ... - Dallas', 'link': 'https://accounting.utdallas.edu/ms-accounting-flex/contact/', 'snippet': \"Jan 20, 2023 ... We'd love to speak with you! Call the MS in Accounting Flex Program at (972)-883-5031. Email msaccounting@utdallas.edu to talk with an MS .\"}, {'title': 'Advising Contacts - The University of Texas at Dallas', 'link': 'https://ets.utdallas.edu/elearning/students/current/advising-contacts', 'snippet': 'Advisors/Contacts · MAT in Science and Mathematics Education · Online MBA · Project Management Program EMBA · MS in Accounting · Organizational Behavior and Coaching\\xa0...'}, {'title': 'Connect With Us | Naveen Jindal School of Management - Dallas', 'link': 'https://jindal.utdallas.edu/advising/connect-with-us/', 'snippet': 'Apr 21, 2023 ... The Advising Office and Program Directors are ready to assist with your ... If you are a student in Accounting Cohort, Business Analytics\\xa0...'}, {'title': 'Events - Comet Calendar - Dallas', 'link': 'https://calendar.utdallas.edu/search/events?experience=virtual&past=1&search=registrar+registration', 'snippet': 'Join a touchpoint with your MBA advisors to ask any questions you may have.... 3/31/2022 12pm to 1pm ... MS Accounting Registration/CPA Advising Session\\xa0...'}, {'title': 'New Students | Naveen Jindal School of Management - Dallas', 'link': 'https://jindal.utdallas.edu/advising/new-students/', 'snippet': \"Mar 20, 2023 ... Check your UTD email! The Graduate Associate Dean's Office, Program Directors, and the Academic Advising Office will email you information to\\xa0...\"}]}\u001b[0m\n",
            "Thought:\u001b[32;1m\u001b[1;3mI found the following url in the search results: https://jindal.utdallas.edu/advising/connect-with-us/\n",
            "Action: Extract text from UTD Search url links\n",
            "Action Input: https://jindal.utdallas.edu/advising/connect-with-us/\u001b[0m\n",
            "Observation: \u001b[36;1m\u001b[1;3m{'data': ' Connect With Us | Naveen Jindal School of Management Skip to content The University of Texas at Dallas Search for: Resources Staff Listing Galaxy Directory eLearning Map Calendar Courses Apply Inquire Engage with the Jindal School News Careers Events External Relations Community Engagement Make a Gift Jindal School Menu About About the Jindal School Community Engagement Contact Information Jindal School Profile Leadership Team Message from the Dean Naveen Jindal Rankings Student Experience Outcomes & Success Factors Programs Academic Programs Undergraduate Master’s MBA PhD DBA Executive Education Certificate Programs Honors Programs Faculty Jindal School Faculty Accounting Finance and Managerial Economics Information Systems Marketing Operations Management Organizations, Strategy and International Management Students Student Resources Advising Business Cards Business Communication Center Business Competitions Career Management Center Comet Closet Dean’s Council FAQ Finance Lab GMAT/GRE Prep Courses GrammarlyEDU & Quinncia Internship Experiences Labs Living Learning Community Lockers McKinney Programs Meteor Mentoring Scholarships Special Event Requests Student Organizations Student Research Study Abroad TA/RA Graduate Assistantships Technology & Facilities Services UTDserv UTDsolv Alumni JSOM Alumni Events and Programming Alumni Involvement Mentor & Volunteer Opportunities Alumni Chapters Contacts Centers & Institutes Centers & Institutes of Excellence Center and Laboratory for Behavioral Operations and Economics Center for Finance Strategy & Innovation Center for Global Business Center for Healthcare Leadership and Management Center for Information Technology and Management Center for Intelligent Supply Networks Center for Internal Auditing Excellence Center for Professional Sales Center for Retail Innovation and Strategy Excellence Center for the Management of Financial and Digital Asset Technologies Herbert D. Weitzman Institute for Real Estate Institute for Excellence in Corporate Governance International Center for Decision and Risk Analysis The Institute for Innovation & Entrepreneurship Morris Hite Center Sustainable Global Business Initiative UTD Top 100™ UTD Top 100™ Research Rankings North American Rankings Worldwide Rankings Admission Undergraduate Admission Graduate Admission MBA Admission PhD Admission Exec Ed Admission Certificate Programs Admission Resources Scholarships Close Menu Academic Advising Menu JSOM Advising Degree Plans Forms Registration New Students Graduation JSOM Policies JSOM Waitlist Contact Jindal School Menu About About the Jindal School Community Engagement Contact Information Jindal School Profile Leadership Team Message from the Dean Naveen Jindal Rankings Student Experience Outcomes & Success Factors Programs Academic Programs Undergraduate Master’s MBA PhD DBA Executive Education Certificate Programs Honors Programs Faculty Jindal School Faculty Accounting Finance and Managerial Economics Information Systems Marketing Operations Management Organizations, Strategy and International Management Students Student Resources Advising Business Cards Business Communication Center Business Competitions Career Management Center Comet Closet Dean’s Council FAQ Finance Lab GMAT/GRE Prep Courses GrammarlyEDU & Quinncia Internship Experiences Labs Living Learning Community Lockers McKinney Programs Meteor Mentoring Scholarships Special Event Requests Student Organizations Student Research Study Abroad TA/RA Graduate Assistantships Technology & Facilities Services UTDserv UTDsolv Alumni JSOM Alumni Events and Programming Alumni Involvement Mentor & Volunteer Opportunities Alumni Chapters Contacts Centers & Institutes Centers & Institutes of Excellence Center and Laboratory for Behavioral Operations and Economics Center for Finance Strategy & Innovation Center for Global Business Center for Healthcare Leadership and Management Center for Information Technology and Management Center for Intelligent Supply Networks Center for Internal Auditing Excellence Center for Professional Sales Center for Retail Innovation and Strategy Excellence Center for the Management of Financial and Digital Asset Technologies Herbert D. Weitzman Institute for Real Estate Institute for Excellence in Corporate Governance International Center for Decision and Risk Analysis The Institute for Innovation & Entrepreneurship Morris Hite Center Sustainable Global Business Initiative UTD Top 100™ UTD Top 100™ Research Rankings North American Rankings Worldwide Rankings Admission Undergraduate Admission Graduate Admission MBA Admission PhD Admission Exec Ed Admission Certificate Programs Admission Resources Scholarships Engage with the Jindal School News Careers Events External Relations Community Engagement Make a Gift Request Information Apply Now Close Menu Jindal Home > Academic Advising > Connect With Us Connect With Us JSOM Advising Degree Plans Forms Registration New Students Graduation JSOM Policies JSOM Waitlist Contact The Advising Office and Program Directors are ready to assist with your questions. Through the selections below, you will be routed to the best resource for you based on the subject of your inquiry.If you are a student in Accounting Cohort, Business Analytics Cohort, Business Analytics Online Cohort, Finance Cohort, Financial Technology and Analytics, MBA Programs Office, or PhD Programs Office, please contact your corresponding program for any inquiry. Select if you are an undergraduate or a graduate student: Select your program: Copyright © 2023, All rights reserved.800 W Campbell Road,Richardson, TX 75080, USA · (972) 883-2705The University of Texas at Dallas Undergraduate MS MBA PhD Executive Education Certificates Centers & Institutes Staff About Jindal School Advising Career Management Alumni External Relations Faculty & Research Faculty Publications News & Stories Blog Last Updated: April 21, 2023 | Sitemap | Content Owners | Privacy Policy | Accessibility | Corina Cantua Back to Top '}\u001b[0m\n",
            "Thought:\u001b[32;1m\u001b[1;3mI found the following text in the page: \"If you are a student in Accounting Cohort, Business Analytics Cohort, Business Analytics Online Cohort, Finance Cohort, Financial Technology and Analytics, MBA Programs Office, or PhD Programs Office, please contact your corresponding program for any inquiry.\"\n",
            "Action: Extract text from UTD Search url links\n",
            "Action Input: https://jindal.utdallas.edu/advising/new-students/\u001b[0m\n",
            "Observation: \u001b[36;1m\u001b[1;3m{'data': ' New Students | Naveen Jindal School of Management Skip to content The University of Texas at Dallas Search for: Resources Staff Listing Galaxy Directory eLearning Map Calendar Courses Apply Inquire Engage with the Jindal School News Careers Events External Relations Community Engagement Make a Gift Jindal School Menu About About the Jindal School Community Engagement Contact Information Jindal School Profile Leadership Team Message from the Dean Naveen Jindal Rankings Student Experience Outcomes & Success Factors Programs Academic Programs Undergraduate Master’s MBA PhD DBA Executive Education Certificate Programs Honors Programs Faculty Jindal School Faculty Accounting Finance and Managerial Economics Information Systems Marketing Operations Management Organizations, Strategy and International Management Students Student Resources Advising Business Cards Business Communication Center Business Competitions Career Management Center Comet Closet Dean’s Council FAQ Finance Lab GMAT/GRE Prep Courses GrammarlyEDU & Quinncia Internship Experiences Labs Living Learning Community Lockers McKinney Programs Meteor Mentoring Scholarships Special Event Requests Student Organizations Student Research Study Abroad TA/RA Graduate Assistantships Technology & Facilities Services UTDserv UTDsolv Alumni JSOM Alumni Events and Programming Alumni Involvement Mentor & Volunteer Opportunities Alumni Chapters Contacts Centers & Institutes Centers & Institutes of Excellence Center and Laboratory for Behavioral Operations and Economics Center for Finance Strategy & Innovation Center for Global Business Center for Healthcare Leadership and Management Center for Information Technology and Management Center for Intelligent Supply Networks Center for Internal Auditing Excellence Center for Professional Sales Center for Retail Innovation and Strategy Excellence Center for the Management of Financial and Digital Asset Technologies Herbert D. Weitzman Institute for Real Estate Institute for Excellence in Corporate Governance International Center for Decision and Risk Analysis The Institute for Innovation & Entrepreneurship Morris Hite Center Sustainable Global Business Initiative UTD Top 100™ UTD Top 100™ Research Rankings North American Rankings Worldwide Rankings Admission Undergraduate Admission Graduate Admission MBA Admission PhD Admission Exec Ed Admission Certificate Programs Admission Resources Scholarships Close Menu Academic Advising Menu JSOM Advising Degree Plans Forms Registration New Students Graduation JSOM Policies JSOM Waitlist Contact Jindal School Menu About About the Jindal School Community Engagement Contact Information Jindal School Profile Leadership Team Message from the Dean Naveen Jindal Rankings Student Experience Outcomes & Success Factors Programs Academic Programs Undergraduate Master’s MBA PhD DBA Executive Education Certificate Programs Honors Programs Faculty Jindal School Faculty Accounting Finance and Managerial Economics Information Systems Marketing Operations Management Organizations, Strategy and International Management Students Student Resources Advising Business Cards Business Communication Center Business Competitions Career Management Center Comet Closet Dean’s Council FAQ Finance Lab GMAT/GRE Prep Courses GrammarlyEDU & Quinncia Internship Experiences Labs Living Learning Community Lockers McKinney Programs Meteor Mentoring Scholarships Special Event Requests Student Organizations Student Research Study Abroad TA/RA Graduate Assistantships Technology & Facilities Services UTDserv UTDsolv Alumni JSOM Alumni Events and Programming Alumni Involvement Mentor & Volunteer Opportunities Alumni Chapters Contacts Centers & Institutes Centers & Institutes of Excellence Center and Laboratory for Behavioral Operations and Economics Center for Finance Strategy & Innovation Center for Global Business Center for Healthcare Leadership and Management Center for Information Technology and Management Center for Intelligent Supply Networks Center for Internal Auditing Excellence Center for Professional Sales Center for Retail Innovation and Strategy Excellence Center for the Management of Financial and Digital Asset Technologies Herbert D. Weitzman Institute for Real Estate Institute for Excellence in Corporate Governance International Center for Decision and Risk Analysis The Institute for Innovation & Entrepreneurship Morris Hite Center Sustainable Global Business Initiative UTD Top 100™ UTD Top 100™ Research Rankings North American Rankings Worldwide Rankings Admission Undergraduate Admission Graduate Admission MBA Admission PhD Admission Exec Ed Admission Certificate Programs Admission Resources Scholarships Engage with the Jindal School News Careers Events External Relations Community Engagement Make a Gift Request Information Apply Now Close Menu Jindal Home > Academic Advising > New Students New Students JSOM Advising Degree Plans Forms Registration New Students Graduation JSOM Policies JSOM Waitlist Contact Welcome to JSOM! Get started below. Undergraduate FAQ Graduate We are happy that you are joining the Jindal School of Management at UT Dallas. Before you can attend classes, you will need to take care of several items including accepting your admission, attending orientation, reviewing your degree plan and registering. Please read the following getting-started information carefully. Undergraduate Students Undergraduate FAQ Steps After Admission Follow the Steps After Admission (Transfer), which will include accepting your admission. There is no deadline, but you should do this at least one month before classes begin. (When do classes begin? See the Academic Calendar) Please read your acceptance letter fully. Know your student ID and keep it safe. Register in coursework Check your UTD email and follow the instructions provided to understand your degree plan, learn about your Student Center, and register. You will be able to sign up for your coursework as soon as you complete your UTD orientation modules (in eLearning) and clear any active holds. Know your responsibilities Many important procedures and policies will be discussed during your orientation, but it is never too early to begin familiarizing yourself with them. We recommend that you review the information in the Undergraduate Catalog as well as what we have put together under Degree Plans and Registration. Graduate Students Graduate FAQ Steps After Admission Follow the Steps After Admission, which will include accepting your admission. There is no deadline, but you should do this at least one month before classes begin. (When do classes begin? See the Academic Calendar) Please read your acceptance letter fully. Know your student ID and keep it safe. Prepare and Register Check your UTD email! The Graduate Associate Dean’s Office, Program Directors, and the Academic Advising Office will email you information to prepare for your first semester’s registration. This will include invitations to informational webinars, which can also be accessed here. F1 and J1 visa holders – Access additional resources via Intercultural Programs. Program directors will be an important part of your academic career. We strongly recommend that you also attend the Jindal School of Management Graduate Orientation, which will take place very close to the beginning of the semester to learn even more about your degree. Details will be emailed to you. Professional Development Course The Professional Development course is designed to improve student readiness for their internship and full-time job search. This course is a prerequisite for all graduate MS degree programs. Students will learn how to write a targeted resume that includes action-oriented statements and metrics, how to create a compelling LinkedIn profile that demonstrates their unique brand, and how to develop and practice effective networking and interview skills. Most importantly, students will know how to improve their written and verbal communication skills and cultural awareness through classroom activities and discussion. The course goal is to enhance students’ marketability and value for employers in a global economy. This is a pass-fail course and no letter grade is assigned. Know your responsibilities Many important procedures and policies will be discussed during your orientation(s), but it is never too early to begin familiarizing yourself with them. We recommend that you review the information in the Graduate Catalog as well as what we have put together under Degree Plans and Registration. Chat with us via question desk. We are available Monday-Friday from 8 a.m. – 5:30 p.m. to address any questions you might have about the upcoming semester or JSOM in general. JSOM Question Desk Frequently Asked Questions Find the answers that you’re looking for. The Advising Frequently Asked Questions pages cover popular advising-related topics for undergraduate and graduate students as well as prospective students. Undergraduate Student FAQ Graduate Student FAQ Copyright © 2023, All rights reserved.800 W Campbell Road,Richardson, TX 75080, USA · (972) 883-2705The University of Texas at Dallas Undergraduate MS MBA PhD Executive Education Certificates Centers & Institutes Staff About Jindal School Advising Career Management Alumni External Relations Faculty & Research Faculty Publications News & Stories Blog Last Updated: March 20, 2023 | Sitemap | Content Owners | Privacy Policy | Accessibility | Corina Cantua Back to Top '}\u001b[0m\n",
            "Thought:\u001b[32;1m\u001b[1;3mI found the following text in the page: \"Check your UTD email! The Graduate Associate Dean's Office, Program Directors, and the Academic Advising Office will email you information to prepare for your first semester's registration.\"\n",
            "Action: UTD Search\n",
            "Action Input: ms accounting advising\u001b[0m\n",
            "Observation: \u001b[38;5;200m\u001b[1;3m{'items': [{'title': 'Academic Advising | Naveen Jindal School of Management', 'link': 'https://jindal.utdallas.edu/advising/', 'snippet': 'Office Hours: Mon-Thurs: 9 a.m. to 6 p.m.. Fri: 9 a.m. to 5 p.m. ... Need an Appointment? ... Please email mba@utdallas.edu or call (972) 883-5055 to make an\\xa0...'}, {'title': 'Contact Us - MS in Accounting Flex - Naveen Jindal School of ...', 'link': 'https://accounting.utdallas.edu/ms-accounting-flex/contact/', 'snippet': 'Jan 20, 2023 ... Call the MS in Accounting Flex Program at (972)-883-5031. Email msaccounting@utdallas.edu to talk with an MS in Accounting Flex representative.'}, {'title': 'MS Accounting Registration/CPA Advising Session - Comet Calendar', 'link': 'https://calendar.utdallas.edu/event/ms_accounting_registrationcpa_advising_session_3439', 'snippet': 'MS Accounting Registration/CPA Advising Session. Wednesday, September 2, 2020 at 12:00pm to 2:00pm. Virtual Event. To help you review your CPA eligibility\\xa0...'}, {'title': 'Advising Contacts - The University of Texas at Dallas', 'link': 'https://ets.utdallas.edu/elearning/students/current/advising-contacts', 'snippet': 'Advisors/Contacts · MAT in Science and Mathematics Education · Online MBA · Project Management Program EMBA · MS in Accounting · Organizational Behavior and Coaching\\xa0...'}, {'title': 'Contact Information | Naveen Jindal School of Management', 'link': 'https://jindal.utdallas.edu/about-the-jindal-school-of-management/contact/', 'snippet': 'Dec 7, 2022 ... Undergraduate Advising: (972) 883-2275 ... Master of Business Administration – MBA, mba@utdallas.edu ... Accounting, bsacct@utdallas.edu.'}, {'title': 'Events - Comet Calendar', 'link': 'https://calendar.utdallas.edu/search/events?experience=virtual&past=1&search=registrar+registration', 'snippet': 'Join a touchpoint with your MBA advisors to ask any questions you may have.... 3/31/2022 12pm to 1pm ... MS Accounting Registration/CPA Advising Session\\xa0...'}, {'title': 'Staff List | Naveen Jindal School of Management', 'link': 'https://jindal.utdallas.edu/staff-list/', 'snippet': 'Oct 20, 2021 ... Van Dam. Program Manager, Undergraduate Accounting Program ... Mary King. Director, MS Accounting ... Undergraduate Academic Advisor.'}, {'title': 'Academic Advising - Registrar | The University of Texas at Dallas', 'link': 'https://registrar.utdallas.edu/registration/academic-advising/', 'snippet': 'Do I need to see an advisor? New Undergraduate Students New freshman and transfer students must complete their orientation modules before they can be ...'}, {'title': 'Events - Comet Calendar', 'link': 'https://calendar.utdallas.edu/search/events/8?past=1&search=education+abroad%3A+peer+advising', 'snippet': 'Session will cover Texas CPA requirements followed by MS Accounting Summer/Fall 2016 Registration Advising. MS Accounting program advisors will also be.'}, {'title': 'General - MSIE FAQ - Naveen Jindal School of Management | The ...', 'link': 'https://jindal.utdallas.edu/faq/', 'snippet': '... Advising · Graduate Scholarships FAQ · Jindal Young Scholars Program FAQ · JSOM Help Desk FAQ · Mentoring FAQ · Microsoft Azure FAQ · MS Accounting FAQ\\xa0...'}]}\u001b[0m\n",
            "Thought:\u001b[32;1m\u001b[1;3mI found the following url in the search results: https://jindal.utdallas.edu/advising/\n",
            "Action: Extract text from UTD Search url links\n",
            "Action Input: https://jindal.utdallas.edu/advising/\u001b[0m\n",
            "Observation: \u001b[36;1m\u001b[1;3m{'data': ' Academic Advising | Naveen Jindal School of Management Skip to content The University of Texas at Dallas Search for: Resources Staff Listing Galaxy Directory eLearning Map Calendar Courses Apply Inquire Engage with the Jindal School News Careers Events External Relations Community Engagement Make a Gift Jindal School Menu About About the Jindal School Community Engagement Contact Information Jindal School Profile Leadership Team Message from the Dean Naveen Jindal Rankings Student Experience Outcomes & Success Factors Programs Academic Programs Undergraduate Master’s MBA PhD DBA Executive Education Certificate Programs Honors Programs Faculty Jindal School Faculty Accounting Finance and Managerial Economics Information Systems Marketing Operations Management Organizations, Strategy and International Management Students Student Resources Advising Business Cards Business Communication Center Business Competitions Career Management Center Comet Closet Dean’s Council FAQ Finance Lab GMAT/GRE Prep Courses GrammarlyEDU & Quinncia Internship Experiences Labs Living Learning Community Lockers McKinney Programs Meteor Mentoring Scholarships Special Event Requests Student Organizations Student Research Study Abroad TA/RA Graduate Assistantships Technology & Facilities Services UTDserv UTDsolv Alumni JSOM Alumni Events and Programming Alumni Involvement Mentor & Volunteer Opportunities Alumni Chapters Contacts Centers & Institutes Centers & Institutes of Excellence Center and Laboratory for Behavioral Operations and Economics Center for Finance Strategy & Innovation Center for Global Business Center for Healthcare Leadership and Management Center for Information Technology and Management Center for Intelligent Supply Networks Center for Internal Auditing Excellence Center for Professional Sales Center for Retail Innovation and Strategy Excellence Center for the Management of Financial and Digital Asset Technologies Herbert D. Weitzman Institute for Real Estate Institute for Excellence in Corporate Governance International Center for Decision and Risk Analysis The Institute for Innovation & Entrepreneurship Morris Hite Center Sustainable Global Business Initiative UTD Top 100™ UTD Top 100™ Research Rankings North American Rankings Worldwide Rankings Admission Undergraduate Admission Graduate Admission MBA Admission PhD Admission Exec Ed Admission Certificate Programs Admission Resources Scholarships Close Menu Academic Advising Menu JSOM Advising Degree Plans Forms Registration New Students Graduation JSOM Policies JSOM Waitlist Contact Jindal School Menu About About the Jindal School Community Engagement Contact Information Jindal School Profile Leadership Team Message from the Dean Naveen Jindal Rankings Student Experience Outcomes & Success Factors Programs Academic Programs Undergraduate Master’s MBA PhD DBA Executive Education Certificate Programs Honors Programs Faculty Jindal School Faculty Accounting Finance and Managerial Economics Information Systems Marketing Operations Management Organizations, Strategy and International Management Students Student Resources Advising Business Cards Business Communication Center Business Competitions Career Management Center Comet Closet Dean’s Council FAQ Finance Lab GMAT/GRE Prep Courses GrammarlyEDU & Quinncia Internship Experiences Labs Living Learning Community Lockers McKinney Programs Meteor Mentoring Scholarships Special Event Requests Student Organizations Student Research Study Abroad TA/RA Graduate Assistantships Technology & Facilities Services UTDserv UTDsolv Alumni JSOM Alumni Events and Programming Alumni Involvement Mentor & Volunteer Opportunities Alumni Chapters Contacts Centers & Institutes Centers & Institutes of Excellence Center and Laboratory for Behavioral Operations and Economics Center for Finance Strategy & Innovation Center for Global Business Center for Healthcare Leadership and Management Center for Information Technology and Management Center for Intelligent Supply Networks Center for Internal Auditing Excellence Center for Professional Sales Center for Retail Innovation and Strategy Excellence Center for the Management of Financial and Digital Asset Technologies Herbert D. Weitzman Institute for Real Estate Institute for Excellence in Corporate Governance International Center for Decision and Risk Analysis The Institute for Innovation & Entrepreneurship Morris Hite Center Sustainable Global Business Initiative UTD Top 100™ UTD Top 100™ Research Rankings North American Rankings Worldwide Rankings Admission Undergraduate Admission Graduate Admission MBA Admission PhD Admission Exec Ed Admission Certificate Programs Admission Resources Scholarships Engage with the Jindal School News Careers Events External Relations Community Engagement Make a Gift Request Information Apply Now Close Menu Jindal Home > Academic Advising Academic Advising JSOM Advising Degree Plans Forms Registration New Students Graduation JSOM Policies JSOM Waitlist Contact Welcome to Your Academic Advising Office The advising office at the Jindal School of Management (JSOM) is excited to offer current and prospective students with academic and administrative support. Students are strongly encouraged to schedule advising appointments (on-campus or virtual) and seek academic guidance such as: Degree Requirements, Course Registration, Change of Major, Audits, Graduation Policies, Procedures, Probation and Suspension Transfer Credit, Re-entry to UTD More… Select your degree type Undergraduate Undergraduate Resources For undergraduate assistance, call: (972) 883-2275 Office Location: JSOM 2.250 Office Hours: Mon-Thurs: 9 a.m. to 6 p.m. Fri: 9 a.m. to 5 p.m. Email: JSOMUGAdvising@utdallas.edu Need an Appointment? Email us your question to get started Walk-in Advising is also available: Mon – Fri 9am to 4pm JSOM Question Desk JSOM Question Desk Chat available: Mon – Fri 8 am to 5:30 pm Master’s Graduate (MS) Resources For graduate assistance, call: (972) 883-2750 Office Location: JSOM 2.250 Office Hours: Mon-Thurs: 9 a.m. to 6 p.m. Fri: 9 a.m. to 5 p.m. Email: JSOMGRAdvising@utdallas.edu Need an Appointment? Email us your question to get started Walk-in Advising is also available: Mon – Fri 9am to 4pm JSOM Question Desk JSOM Question Desk Chat available: Mon – Fri 8 am to 5:30 pm MS/MBA Graduate (MS/MBA) Resources For graduate assistance, call: (972) 883-2750 Office Location: JSOM 2.250 Office Hours: Mon-Thurs: 9 a.m. to 6 p.m. Fri: 9 a.m. to 5 p.m. Email: JSOMGRAdvising@utdallas.edu Need an Appointment? Email us your question to get started Walk-in Advising is also available: Mon – Fri 9am to 4pm JSOM Question Desk JSOM Question Desk Chat available: Mon – Fri 8 am to 5:30 pm MBA Please email mba@utdallas.edu or call (972) 883-5055 to make an appointment. PhD Please email somphd@utdallas.edu or call (972) 883-2745 to make an appointment. Executive Education Please contact your program directly to make an appointment. New Orion Student Center Please check our New Orion Student Center – Navigation Help Important Dates May 22 – Summer 2023 Last Day of Regular Registration May 24 – Summer 2023 Classes Begin May 29 – Memorial Day, University Closed May – Aug – Fall 2023 Registration Continues June 10 – Summer 2023 Priority Graduation Application Deadline Review the UT Dallas Academic Calendar for additional dates and deadlines. For anything not covered here, please try UT Dallas A to Z. This index provides a quick way to find what you are looking for. You can also access the entire index from the middle of the home page. Submit your Suggestions Chat with us via question desk. We are available Monday-Friday from 8 a.m. – 5:30 p.m. to address any questions you might have about the upcoming semester or JSOM in general. JSOM Question Desk Frequently Asked Questions Find the answers that you’re looking for. The Advising Frequently Asked Questions pages cover popular advising-related topics for undergraduate and graduate students as well as prospective students. Undergraduate Student FAQ Graduate Student FAQ Copyright © 2023, All rights reserved.800 W Campbell Road,Richardson, TX 75080, USA · (972) 883-2705The University of Texas at Dallas Undergraduate MS MBA PhD Executive Education Certificates Centers & Institutes Staff About Jindal School Advising Career Management Alumni External Relations Faculty & Research Faculty Publications News & Stories Blog Last Updated: May 24, 2023 | Sitemap | Content Owners | Privacy Policy | Accessibility | Corina Cantua Back to Top '}\u001b[0m\n",
            "Thought:"
          ]
        },
        {
          "ename": "OutputParserException",
          "evalue": "ignored",
          "output_type": "error",
          "traceback": [
            "\u001b[0;31m---------------------------------------------------------------------------\u001b[0m",
            "\u001b[0;31mOutputParserException\u001b[0m                     Traceback (most recent call last)",
            "\u001b[0;32m<ipython-input-13-bac17eb69f57>\u001b[0m in \u001b[0;36m<cell line: 1>\u001b[0;34m()\u001b[0m\n\u001b[0;32m----> 1\u001b[0;31m zero_shot_react_agent_response = zero_shot_react_agent(\n\u001b[0m\u001b[1;32m      2\u001b[0m     {\n\u001b[1;32m      3\u001b[0m         \u001b[0;34m\"input\"\u001b[0m\u001b[0;34m:\u001b[0m \u001b[0;34m\"What is the email to contact for Accounting advising?\"\u001b[0m\u001b[0;34m\u001b[0m\u001b[0;34m\u001b[0m\u001b[0m\n\u001b[1;32m      4\u001b[0m     }\n\u001b[1;32m      5\u001b[0m )\n",
            "\u001b[0;32m/usr/local/lib/python3.10/dist-packages/langchain/chains/base.py\u001b[0m in \u001b[0;36m__call__\u001b[0;34m(self, inputs, return_only_outputs, callbacks, tags, include_run_info)\u001b[0m\n\u001b[1;32m    164\u001b[0m         \u001b[0;32mexcept\u001b[0m \u001b[0;34m(\u001b[0m\u001b[0mKeyboardInterrupt\u001b[0m\u001b[0;34m,\u001b[0m \u001b[0mException\u001b[0m\u001b[0;34m)\u001b[0m \u001b[0;32mas\u001b[0m \u001b[0me\u001b[0m\u001b[0;34m:\u001b[0m\u001b[0;34m\u001b[0m\u001b[0;34m\u001b[0m\u001b[0m\n\u001b[1;32m    165\u001b[0m             \u001b[0mrun_manager\u001b[0m\u001b[0;34m.\u001b[0m\u001b[0mon_chain_error\u001b[0m\u001b[0;34m(\u001b[0m\u001b[0me\u001b[0m\u001b[0;34m)\u001b[0m\u001b[0;34m\u001b[0m\u001b[0;34m\u001b[0m\u001b[0m\n\u001b[0;32m--> 166\u001b[0;31m             \u001b[0;32mraise\u001b[0m \u001b[0me\u001b[0m\u001b[0;34m\u001b[0m\u001b[0;34m\u001b[0m\u001b[0m\n\u001b[0m\u001b[1;32m    167\u001b[0m         \u001b[0mrun_manager\u001b[0m\u001b[0;34m.\u001b[0m\u001b[0mon_chain_end\u001b[0m\u001b[0;34m(\u001b[0m\u001b[0moutputs\u001b[0m\u001b[0;34m)\u001b[0m\u001b[0;34m\u001b[0m\u001b[0;34m\u001b[0m\u001b[0m\n\u001b[1;32m    168\u001b[0m         final_outputs: Dict[str, Any] = self.prep_outputs(\n",
            "\u001b[0;32m/usr/local/lib/python3.10/dist-packages/langchain/chains/base.py\u001b[0m in \u001b[0;36m__call__\u001b[0;34m(self, inputs, return_only_outputs, callbacks, tags, include_run_info)\u001b[0m\n\u001b[1;32m    158\u001b[0m         \u001b[0;32mtry\u001b[0m\u001b[0;34m:\u001b[0m\u001b[0;34m\u001b[0m\u001b[0;34m\u001b[0m\u001b[0m\n\u001b[1;32m    159\u001b[0m             outputs = (\n\u001b[0;32m--> 160\u001b[0;31m                 \u001b[0mself\u001b[0m\u001b[0;34m.\u001b[0m\u001b[0m_call\u001b[0m\u001b[0;34m(\u001b[0m\u001b[0minputs\u001b[0m\u001b[0;34m,\u001b[0m \u001b[0mrun_manager\u001b[0m\u001b[0;34m=\u001b[0m\u001b[0mrun_manager\u001b[0m\u001b[0;34m)\u001b[0m\u001b[0;34m\u001b[0m\u001b[0;34m\u001b[0m\u001b[0m\n\u001b[0m\u001b[1;32m    161\u001b[0m                 \u001b[0;32mif\u001b[0m \u001b[0mnew_arg_supported\u001b[0m\u001b[0;34m\u001b[0m\u001b[0;34m\u001b[0m\u001b[0m\n\u001b[1;32m    162\u001b[0m                 \u001b[0;32melse\u001b[0m \u001b[0mself\u001b[0m\u001b[0;34m.\u001b[0m\u001b[0m_call\u001b[0m\u001b[0;34m(\u001b[0m\u001b[0minputs\u001b[0m\u001b[0;34m)\u001b[0m\u001b[0;34m\u001b[0m\u001b[0;34m\u001b[0m\u001b[0m\n",
            "\u001b[0;32m/usr/local/lib/python3.10/dist-packages/langchain/agents/agent.py\u001b[0m in \u001b[0;36m_call\u001b[0;34m(self, inputs, run_manager)\u001b[0m\n\u001b[1;32m    985\u001b[0m         \u001b[0;31m# We now enter the agent loop (until it returns something).\u001b[0m\u001b[0;34m\u001b[0m\u001b[0;34m\u001b[0m\u001b[0m\n\u001b[1;32m    986\u001b[0m         \u001b[0;32mwhile\u001b[0m \u001b[0mself\u001b[0m\u001b[0;34m.\u001b[0m\u001b[0m_should_continue\u001b[0m\u001b[0;34m(\u001b[0m\u001b[0miterations\u001b[0m\u001b[0;34m,\u001b[0m \u001b[0mtime_elapsed\u001b[0m\u001b[0;34m)\u001b[0m\u001b[0;34m:\u001b[0m\u001b[0;34m\u001b[0m\u001b[0;34m\u001b[0m\u001b[0m\n\u001b[0;32m--> 987\u001b[0;31m             next_step_output = self._take_next_step(\n\u001b[0m\u001b[1;32m    988\u001b[0m                 \u001b[0mname_to_tool_map\u001b[0m\u001b[0;34m,\u001b[0m\u001b[0;34m\u001b[0m\u001b[0;34m\u001b[0m\u001b[0m\n\u001b[1;32m    989\u001b[0m                 \u001b[0mcolor_mapping\u001b[0m\u001b[0;34m,\u001b[0m\u001b[0;34m\u001b[0m\u001b[0;34m\u001b[0m\u001b[0m\n",
            "\u001b[0;32m/usr/local/lib/python3.10/dist-packages/langchain/agents/agent.py\u001b[0m in \u001b[0;36m_take_next_step\u001b[0;34m(self, name_to_tool_map, color_mapping, inputs, intermediate_steps, run_manager)\u001b[0m\n\u001b[1;32m    801\u001b[0m                 \u001b[0mraise_error\u001b[0m \u001b[0;34m=\u001b[0m \u001b[0;32mFalse\u001b[0m\u001b[0;34m\u001b[0m\u001b[0;34m\u001b[0m\u001b[0m\n\u001b[1;32m    802\u001b[0m             \u001b[0;32mif\u001b[0m \u001b[0mraise_error\u001b[0m\u001b[0;34m:\u001b[0m\u001b[0;34m\u001b[0m\u001b[0;34m\u001b[0m\u001b[0m\n\u001b[0;32m--> 803\u001b[0;31m                 \u001b[0;32mraise\u001b[0m \u001b[0me\u001b[0m\u001b[0;34m\u001b[0m\u001b[0;34m\u001b[0m\u001b[0m\n\u001b[0m\u001b[1;32m    804\u001b[0m             \u001b[0mtext\u001b[0m \u001b[0;34m=\u001b[0m \u001b[0mstr\u001b[0m\u001b[0;34m(\u001b[0m\u001b[0me\u001b[0m\u001b[0;34m)\u001b[0m\u001b[0;34m\u001b[0m\u001b[0;34m\u001b[0m\u001b[0m\n\u001b[1;32m    805\u001b[0m             \u001b[0;32mif\u001b[0m \u001b[0misinstance\u001b[0m\u001b[0;34m(\u001b[0m\u001b[0mself\u001b[0m\u001b[0;34m.\u001b[0m\u001b[0mhandle_parsing_errors\u001b[0m\u001b[0;34m,\u001b[0m \u001b[0mbool\u001b[0m\u001b[0;34m)\u001b[0m\u001b[0;34m:\u001b[0m\u001b[0;34m\u001b[0m\u001b[0;34m\u001b[0m\u001b[0m\n",
            "\u001b[0;32m/usr/local/lib/python3.10/dist-packages/langchain/agents/agent.py\u001b[0m in \u001b[0;36m_take_next_step\u001b[0;34m(self, name_to_tool_map, color_mapping, inputs, intermediate_steps, run_manager)\u001b[0m\n\u001b[1;32m    790\u001b[0m         \u001b[0;32mtry\u001b[0m\u001b[0;34m:\u001b[0m\u001b[0;34m\u001b[0m\u001b[0;34m\u001b[0m\u001b[0m\n\u001b[1;32m    791\u001b[0m             \u001b[0;31m# Call the LLM to see what to do.\u001b[0m\u001b[0;34m\u001b[0m\u001b[0;34m\u001b[0m\u001b[0m\n\u001b[0;32m--> 792\u001b[0;31m             output = self.agent.plan(\n\u001b[0m\u001b[1;32m    793\u001b[0m                 \u001b[0mintermediate_steps\u001b[0m\u001b[0;34m,\u001b[0m\u001b[0;34m\u001b[0m\u001b[0;34m\u001b[0m\u001b[0m\n\u001b[1;32m    794\u001b[0m                 \u001b[0mcallbacks\u001b[0m\u001b[0;34m=\u001b[0m\u001b[0mrun_manager\u001b[0m\u001b[0;34m.\u001b[0m\u001b[0mget_child\u001b[0m\u001b[0;34m(\u001b[0m\u001b[0;34m)\u001b[0m \u001b[0;32mif\u001b[0m \u001b[0mrun_manager\u001b[0m \u001b[0;32melse\u001b[0m \u001b[0;32mNone\u001b[0m\u001b[0;34m,\u001b[0m\u001b[0;34m\u001b[0m\u001b[0;34m\u001b[0m\u001b[0m\n",
            "\u001b[0;32m/usr/local/lib/python3.10/dist-packages/langchain/agents/agent.py\u001b[0m in \u001b[0;36mplan\u001b[0;34m(self, intermediate_steps, callbacks, **kwargs)\u001b[0m\n\u001b[1;32m    442\u001b[0m         \u001b[0mfull_inputs\u001b[0m \u001b[0;34m=\u001b[0m \u001b[0mself\u001b[0m\u001b[0;34m.\u001b[0m\u001b[0mget_full_inputs\u001b[0m\u001b[0;34m(\u001b[0m\u001b[0mintermediate_steps\u001b[0m\u001b[0;34m,\u001b[0m \u001b[0;34m**\u001b[0m\u001b[0mkwargs\u001b[0m\u001b[0;34m)\u001b[0m\u001b[0;34m\u001b[0m\u001b[0;34m\u001b[0m\u001b[0m\n\u001b[1;32m    443\u001b[0m         \u001b[0mfull_output\u001b[0m \u001b[0;34m=\u001b[0m \u001b[0mself\u001b[0m\u001b[0;34m.\u001b[0m\u001b[0mllm_chain\u001b[0m\u001b[0;34m.\u001b[0m\u001b[0mpredict\u001b[0m\u001b[0;34m(\u001b[0m\u001b[0mcallbacks\u001b[0m\u001b[0;34m=\u001b[0m\u001b[0mcallbacks\u001b[0m\u001b[0;34m,\u001b[0m \u001b[0;34m**\u001b[0m\u001b[0mfull_inputs\u001b[0m\u001b[0;34m)\u001b[0m\u001b[0;34m\u001b[0m\u001b[0;34m\u001b[0m\u001b[0m\n\u001b[0;32m--> 444\u001b[0;31m         \u001b[0;32mreturn\u001b[0m \u001b[0mself\u001b[0m\u001b[0;34m.\u001b[0m\u001b[0moutput_parser\u001b[0m\u001b[0;34m.\u001b[0m\u001b[0mparse\u001b[0m\u001b[0;34m(\u001b[0m\u001b[0mfull_output\u001b[0m\u001b[0;34m)\u001b[0m\u001b[0;34m\u001b[0m\u001b[0;34m\u001b[0m\u001b[0m\n\u001b[0m\u001b[1;32m    445\u001b[0m \u001b[0;34m\u001b[0m\u001b[0m\n\u001b[1;32m    446\u001b[0m     async def aplan(\n",
            "\u001b[0;32m/usr/local/lib/python3.10/dist-packages/langchain/agents/mrkl/output_parser.py\u001b[0m in \u001b[0;36mparse\u001b[0;34m(self, text)\u001b[0m\n\u001b[1;32m     40\u001b[0m \u001b[0;34m\u001b[0m\u001b[0m\n\u001b[1;32m     41\u001b[0m         \u001b[0;32mif\u001b[0m \u001b[0;32mnot\u001b[0m \u001b[0mre\u001b[0m\u001b[0;34m.\u001b[0m\u001b[0msearch\u001b[0m\u001b[0;34m(\u001b[0m\u001b[0;34mr\"Action\\s*\\d*\\s*:[\\s]*(.*?)\"\u001b[0m\u001b[0;34m,\u001b[0m \u001b[0mtext\u001b[0m\u001b[0;34m,\u001b[0m \u001b[0mre\u001b[0m\u001b[0;34m.\u001b[0m\u001b[0mDOTALL\u001b[0m\u001b[0;34m)\u001b[0m\u001b[0;34m:\u001b[0m\u001b[0;34m\u001b[0m\u001b[0;34m\u001b[0m\u001b[0m\n\u001b[0;32m---> 42\u001b[0;31m             raise OutputParserException(\n\u001b[0m\u001b[1;32m     43\u001b[0m                 \u001b[0;34mf\"Could not parse LLM output: `{text}`\"\u001b[0m\u001b[0;34m,\u001b[0m\u001b[0;34m\u001b[0m\u001b[0;34m\u001b[0m\u001b[0m\n\u001b[1;32m     44\u001b[0m                 \u001b[0mobservation\u001b[0m\u001b[0;34m=\u001b[0m\u001b[0;34m\"Invalid Format: Missing 'Action:' after 'Thought:'\"\u001b[0m\u001b[0;34m,\u001b[0m\u001b[0;34m\u001b[0m\u001b[0;34m\u001b[0m\u001b[0m\n",
            "\u001b[0;31mOutputParserException\u001b[0m: Could not parse LLM output: `I found the following text in the page: \"For graduate assistance, call: (972) 883-2750 Office Location: JSOM 2.250 Office Hours: Mon-Thurs: 9 a.m. to 6 p.m. Fri: 9 a.m. to 5 p.m. Email: JSOMGRAdvising@utdallas.edu Need an Appointment? Email us your question to get started Walk-in Advising is also available: Mon – Fri 9am to 4pm JSOM Question Desk JSOM Question Desk`"
          ]
        }
      ],
      "source": [
        "zero_shot_react_agent_response = zero_shot_react_agent(\n",
        "    {\n",
        "        \"input\": \"What is the email to contact for Accounting advising?\"\n",
        "    }\n",
        ")\n",
        "print(\n",
        "    zero_shot_react_agent_response[\"output\"]\n",
        ")\n"
      ]
    },
    {
      "attachments": {},
      "cell_type": "markdown",
      "metadata": {
        "id": "53B3n7qU_9Ft"
      },
      "source": [
        "## Standard definition in advising"
      ]
    },
    {
      "cell_type": "code",
      "execution_count": null,
      "metadata": {
        "id": "wKbH0t5x_80Q"
      },
      "outputs": [],
      "source": [
        "#TODO: Ask it what is a course, major, schedule planner"
      ]
    },
    {
      "cell_type": "code",
      "execution_count": null,
      "metadata": {
        "id": "A2tYEZtEhOSE"
      },
      "outputs": [],
      "source": []
    },
    {
      "cell_type": "code",
      "execution_count": null,
      "metadata": {
        "id": "s9H9yAYca-Ea"
      },
      "outputs": [],
      "source": []
    }
  ],
  "metadata": {
    "colab": {
      "provenance": [],
      "toc_visible": true
    },
    "kernelspec": {
      "display_name": "Python 3",
      "name": "python3"
    },
    "language_info": {
      "codemirror_mode": {
        "name": "ipython",
        "version": 3
      },
      "file_extension": ".py",
      "mimetype": "text/x-python",
      "name": "python",
      "nbconvert_exporter": "python",
      "pygments_lexer": "ipython3",
      "version": "3.10.9"
    }
  },
  "nbformat": 4,
  "nbformat_minor": 0
}
