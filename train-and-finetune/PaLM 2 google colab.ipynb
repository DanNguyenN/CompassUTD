{
  "cells": [
    {
      "cell_type": "code",
      "execution_count": 1,
      "metadata": {
        "colab": {
          "base_uri": "https://localhost:8080/",
          "height": 1000
        },
        "id": "lCuLOuZelrlt",
        "outputId": "ab4935cc-e031-4a5f-cf40-5fcc8fe93cce"
      },
      "outputs": [
        {
          "name": "stdout",
          "output_type": "stream",
          "text": [
            "Requirement already satisfied: langchain in /home/null/miniconda3/envs/temoctalk/lib/python3.10/site-packages (0.0.200)\n",
            "Collecting google-cloud-aiplatform\n",
            "  Downloading google_cloud_aiplatform-1.27.0-py2.py3-none-any.whl (2.6 MB)\n",
            "\u001b[2K     \u001b[38;2;114;156;31m━━━━━━━━━━━━━━━━━━━━━━━━━━━━━━━━━━━━━━━━\u001b[0m \u001b[32m2.6/2.6 MB\u001b[0m \u001b[31m14.0 MB/s\u001b[0m eta \u001b[36m0:00:00\u001b[0mm eta \u001b[36m0:00:01\u001b[0m0:01\u001b[0m:01\u001b[0m\n",
            "\u001b[?25hRequirement already satisfied: rich in /home/null/.local/lib/python3.10/site-packages (12.5.1)\n",
            "Requirement already satisfied: PyYAML>=5.4.1 in /home/null/miniconda3/envs/temoctalk/lib/python3.10/site-packages (from langchain) (6.0)\n",
            "Requirement already satisfied: SQLAlchemy<3,>=1.4 in /home/null/miniconda3/envs/temoctalk/lib/python3.10/site-packages (from langchain) (2.0.12)\n",
            "Requirement already satisfied: aiohttp<4.0.0,>=3.8.3 in /home/null/.local/lib/python3.10/site-packages (from langchain) (3.8.3)\n",
            "Requirement already satisfied: async-timeout<5.0.0,>=4.0.0 in /home/null/.local/lib/python3.10/site-packages (from langchain) (4.0.2)\n",
            "Requirement already satisfied: dataclasses-json<0.6.0,>=0.5.7 in /home/null/miniconda3/envs/temoctalk/lib/python3.10/site-packages (from langchain) (0.5.7)\n",
            "Requirement already satisfied: langchainplus-sdk>=0.0.9 in /home/null/miniconda3/envs/temoctalk/lib/python3.10/site-packages (from langchain) (0.0.10)\n",
            "Requirement already satisfied: numexpr<3.0.0,>=2.8.4 in /home/null/miniconda3/envs/temoctalk/lib/python3.10/site-packages (from langchain) (2.8.4)\n",
            "Requirement already satisfied: numpy<2,>=1 in /home/null/miniconda3/envs/temoctalk/lib/python3.10/site-packages (from langchain) (1.23.5)\n",
            "Requirement already satisfied: openapi-schema-pydantic<2.0,>=1.2 in /home/null/miniconda3/envs/temoctalk/lib/python3.10/site-packages (from langchain) (1.2.4)\n",
            "Requirement already satisfied: pydantic<2,>=1 in /home/null/miniconda3/envs/temoctalk/lib/python3.10/site-packages (from langchain) (1.10.7)\n",
            "Requirement already satisfied: requests<3,>=2 in /home/null/miniconda3/envs/temoctalk/lib/python3.10/site-packages (from langchain) (2.28.2)\n",
            "Requirement already satisfied: tenacity<9.0.0,>=8.1.0 in /home/null/miniconda3/envs/temoctalk/lib/python3.10/site-packages (from langchain) (8.2.2)\n",
            "Requirement already satisfied: google-api-core[grpc]!=2.0.*,!=2.1.*,!=2.2.*,!=2.3.*,!=2.4.*,!=2.5.*,!=2.6.*,!=2.7.*,<3.0.0dev,>=1.32.0 in /home/null/.local/lib/python3.10/site-packages (from google-cloud-aiplatform) (2.10.1)\n",
            "Collecting proto-plus<2.0.0dev,>=1.22.0 (from google-cloud-aiplatform)\n",
            "  Downloading proto_plus-1.22.3-py3-none-any.whl (48 kB)\n",
            "\u001b[2K     \u001b[38;2;114;156;31m━━━━━━━━━━━━━━━━━━━━━━━━━━━━━━━━━━━━━━━━\u001b[0m \u001b[32m48.1/48.1 kB\u001b[0m \u001b[31m4.7 MB/s\u001b[0m eta \u001b[36m0:00:00\u001b[0m\n",
            "\u001b[?25hRequirement already satisfied: protobuf!=3.20.0,!=3.20.1,!=4.21.0,!=4.21.1,!=4.21.2,!=4.21.3,!=4.21.4,!=4.21.5,<5.0.0dev,>=3.19.5 in /home/null/miniconda3/envs/temoctalk/lib/python3.10/site-packages (from google-cloud-aiplatform) (3.20.2)\n",
            "Requirement already satisfied: packaging>=14.3 in /home/null/miniconda3/envs/temoctalk/lib/python3.10/site-packages (from google-cloud-aiplatform) (23.1)\n",
            "Requirement already satisfied: google-cloud-storage<3.0.0dev,>=1.32.0 in /home/null/.local/lib/python3.10/site-packages (from google-cloud-aiplatform) (2.5.0)\n",
            "Collecting google-cloud-bigquery<4.0.0dev,>=1.15.0 (from google-cloud-aiplatform)\n",
            "  Downloading google_cloud_bigquery-3.11.3-py2.py3-none-any.whl (219 kB)\n",
            "\u001b[2K     \u001b[38;2;114;156;31m━━━━━━━━━━━━━━━━━━━━━━━━━━━━━━━━━━━━━━\u001b[0m \u001b[32m219.5/219.5 kB\u001b[0m \u001b[31m18.0 MB/s\u001b[0m eta \u001b[36m0:00:00\u001b[0m\n",
            "\u001b[?25hCollecting google-cloud-resource-manager<3.0.0dev,>=1.3.3 (from google-cloud-aiplatform)\n",
            "  Downloading google_cloud_resource_manager-1.10.1-py2.py3-none-any.whl (321 kB)\n",
            "\u001b[2K     \u001b[38;2;114;156;31m━━━━━━━━━━━━━━━━━━━━━━━━━━━━━━━━━━━━━━\u001b[0m \u001b[32m321.3/321.3 kB\u001b[0m \u001b[31m23.3 MB/s\u001b[0m eta \u001b[36m0:00:00\u001b[0m\n",
            "\u001b[?25hCollecting shapely<2.0.0 (from google-cloud-aiplatform)\n",
            "  Downloading Shapely-1.8.5.post1-cp310-cp310-manylinux_2_12_x86_64.manylinux2010_x86_64.whl (2.0 MB)\n",
            "\u001b[2K     \u001b[38;2;114;156;31m━━━━━━━━━━━━━━━━━━━━━━━━━━━━━━━━━━━━━━━━\u001b[0m \u001b[32m2.0/2.0 MB\u001b[0m \u001b[31m32.7 MB/s\u001b[0m eta \u001b[36m0:00:00\u001b[0m MB/s\u001b[0m eta \u001b[36m0:00:01\u001b[0m\n",
            "\u001b[?25hRequirement already satisfied: commonmark<0.10.0,>=0.9.0 in /home/null/.local/lib/python3.10/site-packages (from rich) (0.9.1)\n",
            "Requirement already satisfied: pygments<3.0.0,>=2.6.0 in /home/null/.local/lib/python3.10/site-packages (from rich) (2.13.0)\n",
            "Requirement already satisfied: attrs>=17.3.0 in /home/null/miniconda3/envs/temoctalk/lib/python3.10/site-packages (from aiohttp<4.0.0,>=3.8.3->langchain) (23.1.0)\n",
            "Requirement already satisfied: charset-normalizer<3.0,>=2.0 in /home/null/miniconda3/envs/temoctalk/lib/python3.10/site-packages (from aiohttp<4.0.0,>=3.8.3->langchain) (2.1.1)\n",
            "Requirement already satisfied: multidict<7.0,>=4.5 in /home/null/.local/lib/python3.10/site-packages (from aiohttp<4.0.0,>=3.8.3->langchain) (6.0.2)\n",
            "Requirement already satisfied: yarl<2.0,>=1.0 in /home/null/.local/lib/python3.10/site-packages (from aiohttp<4.0.0,>=3.8.3->langchain) (1.8.1)\n",
            "Requirement already satisfied: frozenlist>=1.1.1 in /home/null/.local/lib/python3.10/site-packages (from aiohttp<4.0.0,>=3.8.3->langchain) (1.3.1)\n",
            "Requirement already satisfied: aiosignal>=1.1.2 in /home/null/.local/lib/python3.10/site-packages (from aiohttp<4.0.0,>=3.8.3->langchain) (1.2.0)\n",
            "Requirement already satisfied: marshmallow<4.0.0,>=3.3.0 in /home/null/miniconda3/envs/temoctalk/lib/python3.10/site-packages (from dataclasses-json<0.6.0,>=0.5.7->langchain) (3.19.0)\n",
            "Requirement already satisfied: marshmallow-enum<2.0.0,>=1.5.1 in /home/null/miniconda3/envs/temoctalk/lib/python3.10/site-packages (from dataclasses-json<0.6.0,>=0.5.7->langchain) (1.5.1)\n",
            "Requirement already satisfied: typing-inspect>=0.4.0 in /home/null/.local/lib/python3.10/site-packages (from dataclasses-json<0.6.0,>=0.5.7->langchain) (0.8.0)\n",
            "Requirement already satisfied: googleapis-common-protos<2.0dev,>=1.56.2 in /home/null/.local/lib/python3.10/site-packages (from google-api-core[grpc]!=2.0.*,!=2.1.*,!=2.2.*,!=2.3.*,!=2.4.*,!=2.5.*,!=2.6.*,!=2.7.*,<3.0.0dev,>=1.32.0->google-cloud-aiplatform) (1.56.4)\n",
            "Requirement already satisfied: google-auth<3.0dev,>=1.25.0 in /home/null/.local/lib/python3.10/site-packages (from google-api-core[grpc]!=2.0.*,!=2.1.*,!=2.2.*,!=2.3.*,!=2.4.*,!=2.5.*,!=2.6.*,!=2.7.*,<3.0.0dev,>=1.32.0->google-cloud-aiplatform) (2.11.0)\n",
            "Requirement already satisfied: grpcio<2.0dev,>=1.33.2 in /home/null/miniconda3/envs/temoctalk/lib/python3.10/site-packages (from google-api-core[grpc]!=2.0.*,!=2.1.*,!=2.2.*,!=2.3.*,!=2.4.*,!=2.5.*,!=2.6.*,!=2.7.*,<3.0.0dev,>=1.32.0->google-cloud-aiplatform) (1.53.0)\n",
            "Collecting grpcio-status<2.0dev,>=1.33.2 (from google-api-core[grpc]!=2.0.*,!=2.1.*,!=2.2.*,!=2.3.*,!=2.4.*,!=2.5.*,!=2.6.*,!=2.7.*,<3.0.0dev,>=1.32.0->google-cloud-aiplatform)\n",
            "  Downloading grpcio_status-1.56.0-py3-none-any.whl (5.1 kB)\n",
            "Requirement already satisfied: google-cloud-core<3.0.0dev,>=1.6.0 in /home/null/.local/lib/python3.10/site-packages (from google-cloud-bigquery<4.0.0dev,>=1.15.0->google-cloud-aiplatform) (2.3.2)\n",
            "Requirement already satisfied: google-resumable-media<3.0dev,>=0.6.0 in /home/null/.local/lib/python3.10/site-packages (from google-cloud-bigquery<4.0.0dev,>=1.15.0->google-cloud-aiplatform) (2.4.0)\n",
            "Requirement already satisfied: python-dateutil<3.0dev,>=2.7.2 in /home/null/.local/lib/python3.10/site-packages (from google-cloud-bigquery<4.0.0dev,>=1.15.0->google-cloud-aiplatform) (2.8.2)\n",
            "INFO: pip is looking at multiple versions of google-cloud-resource-manager to determine which version is compatible with other requirements. This could take a while.\n",
            "Collecting google-cloud-resource-manager<3.0.0dev,>=1.3.3 (from google-cloud-aiplatform)\n",
            "  Downloading google_cloud_resource_manager-1.10.0-py2.py3-none-any.whl (321 kB)\n",
            "\u001b[2K     \u001b[38;2;114;156;31m━━━━━━━━━━━━━━━━━━━━━━━━━━━━━━━━━━━━━━\u001b[0m \u001b[32m321.4/321.4 kB\u001b[0m \u001b[31m17.6 MB/s\u001b[0m eta \u001b[36m0:00:00\u001b[0m\n",
            "\u001b[?25h  Downloading google_cloud_resource_manager-1.9.1-py2.py3-none-any.whl (276 kB)\n",
            "\u001b[2K     \u001b[38;2;114;156;31m━━━━━━━━━━━━━━━━━━━━━━━━━━━━━━━━━━━━━━\u001b[0m \u001b[32m276.8/276.8 kB\u001b[0m \u001b[31m18.1 MB/s\u001b[0m eta \u001b[36m0:00:00\u001b[0m\n",
            "\u001b[?25h  Downloading google_cloud_resource_manager-1.9.0-py2.py3-none-any.whl (276 kB)\n",
            "\u001b[2K     \u001b[38;2;114;156;31m━━━━━━━━━━━━━━━━━━━━━━━━━━━━━━━━━━━━━━\u001b[0m \u001b[32m276.8/276.8 kB\u001b[0m \u001b[31m16.6 MB/s\u001b[0m eta \u001b[36m0:00:00\u001b[0m\n",
            "\u001b[?25h  Downloading google_cloud_resource_manager-1.8.1-py2.py3-none-any.whl (235 kB)\n",
            "\u001b[2K     \u001b[38;2;114;156;31m━━━━━━━━━━━━━━━━━━━━━━━━━━━━━━━━━━━━━━\u001b[0m \u001b[32m235.7/235.7 kB\u001b[0m \u001b[31m15.6 MB/s\u001b[0m eta \u001b[36m0:00:00\u001b[0m\n",
            "\u001b[?25h  Downloading google_cloud_resource_manager-1.8.0-py2.py3-none-any.whl (235 kB)\n",
            "\u001b[2K     \u001b[38;2;114;156;31m━━━━━━━━━━━━━━━━━━━━━━━━━━━━━━━━━━━━━━\u001b[0m \u001b[32m235.3/235.3 kB\u001b[0m \u001b[31m16.1 MB/s\u001b[0m eta \u001b[36m0:00:00\u001b[0m\n",
            "\u001b[?25h  Downloading google_cloud_resource_manager-1.7.0-py2.py3-none-any.whl (235 kB)\n",
            "\u001b[2K     \u001b[38;2;114;156;31m━━━━━━━━━━━━━━━━━━━━━━━━━━━━━━━━━━━━━━\u001b[0m \u001b[32m235.3/235.3 kB\u001b[0m \u001b[31m16.6 MB/s\u001b[0m eta \u001b[36m0:00:00\u001b[0m\n",
            "\u001b[?25h  Downloading google_cloud_resource_manager-1.6.3-py2.py3-none-any.whl (233 kB)\n",
            "\u001b[2K     \u001b[38;2;114;156;31m━━━━━━━━━━━━━━━━━━━━━━━━━━━━━━━━━━━━━━━\u001b[0m \u001b[32m233.8/233.8 kB\u001b[0m \u001b[31m3.4 MB/s\u001b[0m eta \u001b[36m0:00:00\u001b[0m31m59.0 MB/s\u001b[0m eta \u001b[36m0:00:01\u001b[0m\n",
            "\u001b[?25hCollecting grpc-google-iam-v1<1.0.0dev,>=0.12.4 (from google-cloud-resource-manager<3.0.0dev,>=1.3.3->google-cloud-aiplatform)\n",
            "  Downloading grpc_google_iam_v1-0.12.6-py2.py3-none-any.whl (26 kB)\n",
            "Requirement already satisfied: typing-extensions>=4.2.0 in /home/null/miniconda3/envs/temoctalk/lib/python3.10/site-packages (from pydantic<2,>=1->langchain) (4.5.0)\n",
            "Requirement already satisfied: idna<4,>=2.5 in /home/null/miniconda3/envs/temoctalk/lib/python3.10/site-packages (from requests<3,>=2->langchain) (3.4)\n",
            "Requirement already satisfied: urllib3<1.27,>=1.21.1 in /home/null/.local/lib/python3.10/site-packages (from requests<3,>=2->langchain) (1.26.12)\n",
            "Requirement already satisfied: certifi>=2017.4.17 in /home/null/miniconda3/envs/temoctalk/lib/python3.10/site-packages (from requests<3,>=2->langchain) (2022.12.7)\n",
            "Requirement already satisfied: greenlet!=0.4.17 in /home/null/miniconda3/envs/temoctalk/lib/python3.10/site-packages (from SQLAlchemy<3,>=1.4->langchain) (2.0.2)\n",
            "Requirement already satisfied: cachetools<6.0,>=2.0.0 in /home/null/miniconda3/envs/temoctalk/lib/python3.10/site-packages (from google-auth<3.0dev,>=1.25.0->google-api-core[grpc]!=2.0.*,!=2.1.*,!=2.2.*,!=2.3.*,!=2.4.*,!=2.5.*,!=2.6.*,!=2.7.*,<3.0.0dev,>=1.32.0->google-cloud-aiplatform) (5.3.0)\n",
            "Requirement already satisfied: pyasn1-modules>=0.2.1 in /home/null/.local/lib/python3.10/site-packages (from google-auth<3.0dev,>=1.25.0->google-api-core[grpc]!=2.0.*,!=2.1.*,!=2.2.*,!=2.3.*,!=2.4.*,!=2.5.*,!=2.6.*,!=2.7.*,<3.0.0dev,>=1.32.0->google-cloud-aiplatform) (0.2.8)\n",
            "Requirement already satisfied: six>=1.9.0 in /home/null/miniconda3/envs/temoctalk/lib/python3.10/site-packages (from google-auth<3.0dev,>=1.25.0->google-api-core[grpc]!=2.0.*,!=2.1.*,!=2.2.*,!=2.3.*,!=2.4.*,!=2.5.*,!=2.6.*,!=2.7.*,<3.0.0dev,>=1.32.0->google-cloud-aiplatform) (1.16.0)\n",
            "Requirement already satisfied: rsa<5,>=3.1.4 in /home/null/.local/lib/python3.10/site-packages (from google-auth<3.0dev,>=1.25.0->google-api-core[grpc]!=2.0.*,!=2.1.*,!=2.2.*,!=2.3.*,!=2.4.*,!=2.5.*,!=2.6.*,!=2.7.*,<3.0.0dev,>=1.32.0->google-cloud-aiplatform) (4.9)\n",
            "Requirement already satisfied: google-crc32c<2.0dev,>=1.0 in /home/null/.local/lib/python3.10/site-packages (from google-resumable-media<3.0dev,>=0.6.0->google-cloud-bigquery<4.0.0dev,>=1.15.0->google-cloud-aiplatform) (1.5.0)\n",
            "Collecting protobuf!=3.20.0,!=3.20.1,!=4.21.0,!=4.21.1,!=4.21.2,!=4.21.3,!=4.21.4,!=4.21.5,<5.0.0dev,>=3.19.5 (from google-cloud-aiplatform)\n",
            "  Downloading protobuf-4.23.3-cp37-abi3-manylinux2014_x86_64.whl (304 kB)\n",
            "\u001b[2K     \u001b[38;2;114;156;31m━━━━━━━━━━━━━━━━━━━━━━━━━━━━━━━━━━━━━━\u001b[0m \u001b[32m304.5/304.5 kB\u001b[0m \u001b[31m17.3 MB/s\u001b[0m eta \u001b[36m0:00:00\u001b[0m\n",
            "\u001b[?25hCollecting grpcio<2.0dev,>=1.33.2 (from google-api-core[grpc]!=2.0.*,!=2.1.*,!=2.2.*,!=2.3.*,!=2.4.*,!=2.5.*,!=2.6.*,!=2.7.*,<3.0.0dev,>=1.32.0->google-cloud-aiplatform)\n",
            "  Downloading grpcio-1.56.0-cp310-cp310-manylinux_2_17_x86_64.manylinux2014_x86_64.whl (5.2 MB)\n",
            "\u001b[2K     \u001b[38;2;114;156;31m━━━━━━━━━━━━━━━━━━━━━━━━━━━━━━━━━━━━━━━━\u001b[0m \u001b[32m5.2/5.2 MB\u001b[0m \u001b[31m19.1 MB/s\u001b[0m eta \u001b[36m0:00:00\u001b[0mm eta \u001b[36m0:00:01\u001b[0m[36m0:00:01\u001b[0m\n",
            "\u001b[?25hRequirement already satisfied: mypy-extensions>=0.3.0 in /home/null/miniconda3/envs/temoctalk/lib/python3.10/site-packages (from typing-inspect>=0.4.0->dataclasses-json<0.6.0,>=0.5.7->langchain) (1.0.0)\n",
            "Requirement already satisfied: pyasn1<0.5.0,>=0.4.6 in /home/null/.local/lib/python3.10/site-packages (from pyasn1-modules>=0.2.1->google-auth<3.0dev,>=1.25.0->google-api-core[grpc]!=2.0.*,!=2.1.*,!=2.2.*,!=2.3.*,!=2.4.*,!=2.5.*,!=2.6.*,!=2.7.*,<3.0.0dev,>=1.32.0->google-cloud-aiplatform) (0.4.8)\n",
            "Installing collected packages: shapely, protobuf, grpcio, proto-plus, grpcio-status, grpc-google-iam-v1, google-cloud-resource-manager, google-cloud-bigquery, google-cloud-aiplatform\n",
            "  Attempting uninstall: protobuf\n",
            "    Found existing installation: protobuf 3.20.2\n",
            "    Uninstalling protobuf-3.20.2:\n",
            "      Successfully uninstalled protobuf-3.20.2\n",
            "  Attempting uninstall: grpcio\n",
            "    Found existing installation: grpcio 1.53.0\n",
            "    Uninstalling grpcio-1.53.0:\n",
            "      Successfully uninstalled grpcio-1.53.0\n",
            "\u001b[31mERROR: pip's dependency resolver does not currently take into account all the packages that are installed. This behaviour is the source of the following dependency conflicts.\n",
            "tensorboard 2.10.0 requires protobuf<3.20,>=3.9.2, but you have protobuf 4.23.3 which is incompatible.\n",
            "minari 0.2.2 requires protobuf==3.20.1, but you have protobuf 4.23.3 which is incompatible.\n",
            "minari 0.2.2 requires typing-extensions==4.4.0, but you have typing-extensions 4.5.0 which is incompatible.\n",
            "pymilvus 2.2.7 requires grpcio<=1.53.0,>=1.49.1, but you have grpcio 1.56.0 which is incompatible.\n",
            "streamlit 1.21.0 requires protobuf<4,>=3.12, but you have protobuf 4.23.3 which is incompatible.\n",
            "farm-haystack 1.15.1 requires protobuf<=3.20.2, but you have protobuf 4.23.3 which is incompatible.\n",
            "farm-haystack 1.15.1 requires transformers[torch]==4.25.1, but you have transformers 4.30.2 which is incompatible.\n",
            "onnx 1.13.1 requires protobuf<4,>=3.20.2, but you have protobuf 4.23.3 which is incompatible.\u001b[0m\u001b[31m\n",
            "\u001b[0mSuccessfully installed google-cloud-aiplatform-1.27.0 google-cloud-bigquery-3.11.3 google-cloud-resource-manager-1.6.3 grpc-google-iam-v1-0.12.6 grpcio-1.56.0 grpcio-status-1.56.0 proto-plus-1.22.3 protobuf-4.23.3 shapely-1.8.5.post1\n"
          ]
        }
      ],
      "source": [
        "if 'google.colab' in sys.module\n",
        "    !pip install langchain google-cloud-aiplatform rich\n",
        "    !pip install wikipedia"
      ]
    },
    {
      "attachments": {},
      "cell_type": "markdown",
      "metadata": {
        "id": "gyhkWAXp2LP8"
      },
      "source": [
        "# Imports"
      ]
    },
    {
      "cell_type": "code",
      "execution_count": 2,
      "metadata": {
        "id": "5XS7F7lEAcly"
      },
      "outputs": [],
      "source": [
        "import os\n",
        "import requests\n",
        "from google.cloud import aiplatform\n",
        "from langchain.agents import (AgentExecutor, AgentType, BaseSingleActionAgent,\n",
        "                              Tool, initialize_agent)\n",
        "from langchain.llms import VertexAI\n",
        "from langchain.memory import ConversationBufferMemory\n",
        "from langchain.tools import tool\n",
        "from pydantic import BaseModel, Field\n",
        "from rich import print\n",
        "from rich.console import Console\n",
        "from rich.progress import Progress, track\n",
        "from rich.table import Table"
      ]
    },
    {
      "attachments": {},
      "cell_type": "markdown",
      "metadata": {
        "id": "0wta80So2QCZ"
      },
      "source": [
        "# Google Authentication"
      ]
    },
    {
      "cell_type": "code",
      "execution_count": 3,
      "metadata": {
        "id": "KjDpW0zyCnqj"
      },
      "outputs": [],
      "source": [
        "tool_url = None #!TODO: set this to the tool url if using Colab\n",
        "try:\n",
        "    from google.colab import auth as google_auth\n",
        "    google_auth.authenticate_user()\n",
        "except:\n",
        "    import dotenv\n",
        "    dotenv.load_dotenv()\n",
        "    tool_url = str(os.getenv('TOOL_URL'))\n",
        "    pass"
      ]
    },
    {
      "cell_type": "code",
      "execution_count": 4,
      "metadata": {
        "id": "HI68K9IJAdPc"
      },
      "outputs": [
        {
          "ename": "DefaultCredentialsError",
          "evalue": "Could not automatically determine credentials. Please set GOOGLE_APPLICATION_CREDENTIALS or explicitly create credentials and re-run the application. For more information, please see https://cloud.google.com/docs/authentication/getting-started",
          "output_type": "error",
          "traceback": [
            "\u001b[0;31m---------------------------------------------------------------------------\u001b[0m",
            "\u001b[0;31mDefaultCredentialsError\u001b[0m                   Traceback (most recent call last)",
            "\u001b[1;32m/home/null/code/CompassUTD/train-and-finetune/PaLM 2 google colab.ipynb Cell 6\u001b[0m in \u001b[0;36m3\n\u001b[1;32m      <a href='vscode-notebook-cell:/home/null/code/CompassUTD/train-and-finetune/PaLM%202%20google%20colab.ipynb#W5sZmlsZQ%3D%3D?line=0'>1</a>\u001b[0m \u001b[39m#! Change the following to your own project and location\u001b[39;00m\n\u001b[1;32m      <a href='vscode-notebook-cell:/home/null/code/CompassUTD/train-and-finetune/PaLM%202%20google%20colab.ipynb#W5sZmlsZQ%3D%3D?line=1'>2</a>\u001b[0m aiplatform\u001b[39m.\u001b[39minit(project\u001b[39m=\u001b[39m\u001b[39m\"\u001b[39m\u001b[39maerobic-gantry-387923\u001b[39m\u001b[39m\"\u001b[39m, location\u001b[39m=\u001b[39m\u001b[39m\"\u001b[39m\u001b[39mus-central1\u001b[39m\u001b[39m\"\u001b[39m)\n\u001b[0;32m----> <a href='vscode-notebook-cell:/home/null/code/CompassUTD/train-and-finetune/PaLM%202%20google%20colab.ipynb#W5sZmlsZQ%3D%3D?line=2'>3</a>\u001b[0m llm \u001b[39m=\u001b[39m VertexAI()\n",
            "File \u001b[0;32m~/miniconda3/envs/temoctalk/lib/python3.10/site-packages/langchain/load/serializable.py:61\u001b[0m, in \u001b[0;36mSerializable.__init__\u001b[0;34m(self, **kwargs)\u001b[0m\n\u001b[1;32m     60\u001b[0m \u001b[39mdef\u001b[39;00m \u001b[39m__init__\u001b[39m(\u001b[39mself\u001b[39m, \u001b[39m*\u001b[39m\u001b[39m*\u001b[39mkwargs: Any) \u001b[39m-\u001b[39m\u001b[39m>\u001b[39m \u001b[39mNone\u001b[39;00m:\n\u001b[0;32m---> 61\u001b[0m     \u001b[39msuper\u001b[39;49m()\u001b[39m.\u001b[39;49m\u001b[39m__init__\u001b[39;49m(\u001b[39m*\u001b[39;49m\u001b[39m*\u001b[39;49mkwargs)\n\u001b[1;32m     62\u001b[0m     \u001b[39mself\u001b[39m\u001b[39m.\u001b[39mlc_kwargs \u001b[39m=\u001b[39m kwargs\n",
            "File \u001b[0;32m~/miniconda3/envs/temoctalk/lib/python3.10/site-packages/pydantic/main.py:339\u001b[0m, in \u001b[0;36mpydantic.main.BaseModel.__init__\u001b[0;34m()\u001b[0m\n",
            "File \u001b[0;32m~/miniconda3/envs/temoctalk/lib/python3.10/site-packages/pydantic/main.py:1102\u001b[0m, in \u001b[0;36mpydantic.main.validate_model\u001b[0;34m()\u001b[0m\n",
            "File \u001b[0;32m~/miniconda3/envs/temoctalk/lib/python3.10/site-packages/langchain/llms/vertexai.py:98\u001b[0m, in \u001b[0;36mVertexAI.validate_environment\u001b[0;34m(cls, values)\u001b[0m\n\u001b[1;32m     96\u001b[0m     values[\u001b[39m\"\u001b[39m\u001b[39mclient\u001b[39m\u001b[39m\"\u001b[39m] \u001b[39m=\u001b[39m TextGenerationModel\u001b[39m.\u001b[39mget_tuned_model(tuned_model_name)\n\u001b[1;32m     97\u001b[0m \u001b[39melse\u001b[39;00m:\n\u001b[0;32m---> 98\u001b[0m     values[\u001b[39m\"\u001b[39m\u001b[39mclient\u001b[39m\u001b[39m\"\u001b[39m] \u001b[39m=\u001b[39m TextGenerationModel\u001b[39m.\u001b[39;49mfrom_pretrained(values[\u001b[39m\"\u001b[39;49m\u001b[39mmodel_name\u001b[39;49m\u001b[39m\"\u001b[39;49m])\n\u001b[1;32m     99\u001b[0m \u001b[39mreturn\u001b[39;00m values\n",
            "File \u001b[0;32m~/miniconda3/envs/temoctalk/lib/python3.10/site-packages/vertexai/_model_garden/_model_garden_models.py:211\u001b[0m, in \u001b[0;36m_ModelGardenModel.from_pretrained\u001b[0;34m(cls, model_name)\u001b[0m\n\u001b[1;32m    206\u001b[0m \u001b[39mif\u001b[39;00m \u001b[39mnot\u001b[39;00m \u001b[39mcls\u001b[39m\u001b[39m.\u001b[39m_INSTANCE_SCHEMA_URI:\n\u001b[1;32m    207\u001b[0m     \u001b[39mraise\u001b[39;00m \u001b[39mValueError\u001b[39;00m(\n\u001b[1;32m    208\u001b[0m         \u001b[39mf\u001b[39m\u001b[39m\"\u001b[39m\u001b[39mClass \u001b[39m\u001b[39m{\u001b[39;00m\u001b[39mcls\u001b[39m\u001b[39m}\u001b[39;00m\u001b[39m is not a correct model interface class since it does not have an instance schema URI.\u001b[39m\u001b[39m\"\u001b[39m\n\u001b[1;32m    209\u001b[0m     )\n\u001b[0;32m--> 211\u001b[0m model_info \u001b[39m=\u001b[39m _get_model_info(\n\u001b[1;32m    212\u001b[0m     model_id\u001b[39m=\u001b[39;49mmodel_name, schema_to_class_map\u001b[39m=\u001b[39;49m{\u001b[39mcls\u001b[39;49m\u001b[39m.\u001b[39;49m_INSTANCE_SCHEMA_URI: \u001b[39mcls\u001b[39;49m}\n\u001b[1;32m    213\u001b[0m )\n\u001b[1;32m    215\u001b[0m \u001b[39mif\u001b[39;00m \u001b[39mnot\u001b[39;00m \u001b[39missubclass\u001b[39m(model_info\u001b[39m.\u001b[39minterface_class, \u001b[39mcls\u001b[39m):\n\u001b[1;32m    216\u001b[0m     \u001b[39mraise\u001b[39;00m \u001b[39mValueError\u001b[39;00m(\n\u001b[1;32m    217\u001b[0m         \u001b[39mf\u001b[39m\u001b[39m\"\u001b[39m\u001b[39m{\u001b[39;00mmodel_name\u001b[39m}\u001b[39;00m\u001b[39m is of type \u001b[39m\u001b[39m{\u001b[39;00mmodel_info\u001b[39m.\u001b[39minterface_class\u001b[39m.\u001b[39m\u001b[39m__name__\u001b[39m\u001b[39m}\u001b[39;00m\u001b[39m not of type \u001b[39m\u001b[39m{\u001b[39;00m\u001b[39mcls\u001b[39m\u001b[39m.\u001b[39m\u001b[39m__name__\u001b[39m\u001b[39m}\u001b[39;00m\u001b[39m\"\u001b[39m\n\u001b[1;32m    218\u001b[0m     )\n",
            "File \u001b[0;32m~/miniconda3/envs/temoctalk/lib/python3.10/site-packages/vertexai/_model_garden/_model_garden_models.py:93\u001b[0m, in \u001b[0;36m_get_model_info\u001b[0;34m(model_id, schema_to_class_map)\u001b[0m\n\u001b[1;32m     89\u001b[0m \u001b[39mif\u001b[39;00m \u001b[39m\"\u001b[39m\u001b[39m/\u001b[39m\u001b[39m\"\u001b[39m \u001b[39mnot\u001b[39;00m \u001b[39min\u001b[39;00m model_id:\n\u001b[1;32m     90\u001b[0m     model_id \u001b[39m=\u001b[39m \u001b[39m\"\u001b[39m\u001b[39mpublishers/google/models/\u001b[39m\u001b[39m\"\u001b[39m \u001b[39m+\u001b[39m model_id\n\u001b[1;32m     92\u001b[0m publisher_model_res \u001b[39m=\u001b[39m (\n\u001b[0;32m---> 93\u001b[0m     _publisher_models\u001b[39m.\u001b[39;49m_PublisherModel(  \u001b[39m# pylint: disable=protected-access\u001b[39;49;00m\n\u001b[1;32m     94\u001b[0m         resource_name\u001b[39m=\u001b[39;49mmodel_id\n\u001b[1;32m     95\u001b[0m     )\u001b[39m.\u001b[39m_gca_resource\n\u001b[1;32m     96\u001b[0m )\n\u001b[1;32m     98\u001b[0m \u001b[39mif\u001b[39;00m \u001b[39mnot\u001b[39;00m publisher_model_res\u001b[39m.\u001b[39mname\u001b[39m.\u001b[39mstartswith(\u001b[39m\"\u001b[39m\u001b[39mpublishers/google/models/\u001b[39m\u001b[39m\"\u001b[39m):\n\u001b[1;32m     99\u001b[0m     \u001b[39mraise\u001b[39;00m \u001b[39mValueError\u001b[39;00m(\n\u001b[1;32m    100\u001b[0m         \u001b[39mf\u001b[39m\u001b[39m\"\u001b[39m\u001b[39mOnly Google models are currently supported. \u001b[39m\u001b[39m{\u001b[39;00mpublisher_model_res\u001b[39m.\u001b[39mname\u001b[39m}\u001b[39;00m\u001b[39m\"\u001b[39m\n\u001b[1;32m    101\u001b[0m     )\n",
            "File \u001b[0;32m~/miniconda3/envs/temoctalk/lib/python3.10/site-packages/google/cloud/aiplatform/_publisher_models.py:63\u001b[0m, in \u001b[0;36m_PublisherModel.__init__\u001b[0;34m(self, resource_name, project, location, credentials)\u001b[0m\n\u001b[1;32m     37\u001b[0m \u001b[39mdef\u001b[39;00m \u001b[39m__init__\u001b[39m(\n\u001b[1;32m     38\u001b[0m     \u001b[39mself\u001b[39m,\n\u001b[1;32m     39\u001b[0m     resource_name: \u001b[39mstr\u001b[39m,\n\u001b[0;32m   (...)\u001b[0m\n\u001b[1;32m     42\u001b[0m     credentials: Optional[auth_credentials\u001b[39m.\u001b[39mCredentials] \u001b[39m=\u001b[39m \u001b[39mNone\u001b[39;00m,\n\u001b[1;32m     43\u001b[0m ):\n\u001b[1;32m     44\u001b[0m     \u001b[39m\"\"\"Retrieves an existing PublisherModel resource given a resource name or model garden id.\u001b[39;00m\n\u001b[1;32m     45\u001b[0m \n\u001b[1;32m     46\u001b[0m \u001b[39m    Args:\u001b[39;00m\n\u001b[0;32m   (...)\u001b[0m\n\u001b[1;32m     60\u001b[0m \u001b[39m            Overrides credentials set in aiplatform.init.\u001b[39;00m\n\u001b[1;32m     61\u001b[0m \u001b[39m    \"\"\"\u001b[39;00m\n\u001b[0;32m---> 63\u001b[0m     \u001b[39msuper\u001b[39;49m()\u001b[39m.\u001b[39;49m\u001b[39m__init__\u001b[39;49m(project\u001b[39m=\u001b[39;49mproject, location\u001b[39m=\u001b[39;49mlocation, credentials\u001b[39m=\u001b[39;49mcredentials)\n\u001b[1;32m     65\u001b[0m     \u001b[39mif\u001b[39;00m \u001b[39mself\u001b[39m\u001b[39m.\u001b[39m_parse_resource_name(resource_name):\n\u001b[1;32m     66\u001b[0m         full_resource_name \u001b[39m=\u001b[39m resource_name\n",
            "File \u001b[0;32m~/miniconda3/envs/temoctalk/lib/python3.10/site-packages/google/cloud/aiplatform/base.py:509\u001b[0m, in \u001b[0;36mVertexAiResourceNoun.__init__\u001b[0;34m(self, project, location, credentials, resource_name)\u001b[0m\n\u001b[1;32m    507\u001b[0m \u001b[39mself\u001b[39m\u001b[39m.\u001b[39mproject \u001b[39m=\u001b[39m project \u001b[39mor\u001b[39;00m initializer\u001b[39m.\u001b[39mglobal_config\u001b[39m.\u001b[39mproject\n\u001b[1;32m    508\u001b[0m \u001b[39mself\u001b[39m\u001b[39m.\u001b[39mlocation \u001b[39m=\u001b[39m location \u001b[39mor\u001b[39;00m initializer\u001b[39m.\u001b[39mglobal_config\u001b[39m.\u001b[39mlocation\n\u001b[0;32m--> 509\u001b[0m \u001b[39mself\u001b[39m\u001b[39m.\u001b[39mcredentials \u001b[39m=\u001b[39m credentials \u001b[39mor\u001b[39;00m initializer\u001b[39m.\u001b[39;49mglobal_config\u001b[39m.\u001b[39;49mcredentials\n\u001b[1;32m    511\u001b[0m appended_user_agent \u001b[39m=\u001b[39m \u001b[39mNone\u001b[39;00m\n\u001b[1;32m    512\u001b[0m \u001b[39mif\u001b[39;00m base_constants\u001b[39m.\u001b[39mUSER_AGENT_SDK_COMMAND:\n",
            "File \u001b[0;32m~/miniconda3/envs/temoctalk/lib/python3.10/site-packages/google/cloud/aiplatform/initializer.py:280\u001b[0m, in \u001b[0;36m_Config.credentials\u001b[0;34m(self)\u001b[0m\n\u001b[1;32m    278\u001b[0m logging_warning_filter \u001b[39m=\u001b[39m utils\u001b[39m.\u001b[39mLoggingFilter(logging\u001b[39m.\u001b[39mWARNING)\n\u001b[1;32m    279\u001b[0m logger\u001b[39m.\u001b[39maddFilter(logging_warning_filter)\n\u001b[0;32m--> 280\u001b[0m \u001b[39mself\u001b[39;49m\u001b[39m.\u001b[39;49m_set_project_as_env_var_or_google_auth_default()\n\u001b[1;32m    281\u001b[0m credentials \u001b[39m=\u001b[39m \u001b[39mself\u001b[39m\u001b[39m.\u001b[39m_credentials\n\u001b[1;32m    282\u001b[0m logger\u001b[39m.\u001b[39mremoveFilter(logging_warning_filter)\n",
            "File \u001b[0;32m~/miniconda3/envs/temoctalk/lib/python3.10/site-packages/google/cloud/aiplatform/initializer.py:86\u001b[0m, in \u001b[0;36m_Config._set_project_as_env_var_or_google_auth_default\u001b[0;34m(self)\u001b[0m\n\u001b[1;32m     83\u001b[0m         \u001b[39mself\u001b[39m\u001b[39m.\u001b[39m_project \u001b[39m=\u001b[39m project\n\u001b[1;32m     85\u001b[0m \u001b[39mif\u001b[39;00m \u001b[39mnot\u001b[39;00m \u001b[39mself\u001b[39m\u001b[39m.\u001b[39m_credentials:\n\u001b[0;32m---> 86\u001b[0m     credentials, _ \u001b[39m=\u001b[39m google\u001b[39m.\u001b[39;49mauth\u001b[39m.\u001b[39;49mdefault()\n\u001b[1;32m     87\u001b[0m     \u001b[39mself\u001b[39m\u001b[39m.\u001b[39m_credentials \u001b[39m=\u001b[39m credentials\n",
            "File \u001b[0;32m~/.local/lib/python3.10/site-packages/google/auth/_default.py:616\u001b[0m, in \u001b[0;36mdefault\u001b[0;34m(scopes, request, quota_project_id, default_scopes)\u001b[0m\n\u001b[1;32m    608\u001b[0m             _LOGGER\u001b[39m.\u001b[39mwarning(\n\u001b[1;32m    609\u001b[0m                 \u001b[39m\"\u001b[39m\u001b[39mNo project ID could be determined. Consider running \u001b[39m\u001b[39m\"\u001b[39m\n\u001b[1;32m    610\u001b[0m                 \u001b[39m\"\u001b[39m\u001b[39m`gcloud config set project` or setting the \u001b[39m\u001b[39m%s\u001b[39;00m\u001b[39m \u001b[39m\u001b[39m\"\u001b[39m\n\u001b[1;32m    611\u001b[0m                 \u001b[39m\"\u001b[39m\u001b[39menvironment variable\u001b[39m\u001b[39m\"\u001b[39m,\n\u001b[1;32m    612\u001b[0m                 environment_vars\u001b[39m.\u001b[39mPROJECT,\n\u001b[1;32m    613\u001b[0m             )\n\u001b[1;32m    614\u001b[0m         \u001b[39mreturn\u001b[39;00m credentials, effective_project_id\n\u001b[0;32m--> 616\u001b[0m \u001b[39mraise\u001b[39;00m exceptions\u001b[39m.\u001b[39mDefaultCredentialsError(_HELP_MESSAGE)\n",
            "\u001b[0;31mDefaultCredentialsError\u001b[0m: Could not automatically determine credentials. Please set GOOGLE_APPLICATION_CREDENTIALS or explicitly create credentials and re-run the application. For more information, please see https://cloud.google.com/docs/authentication/getting-started"
          ]
        }
      ],
      "source": [
        "#! Change the following to your own project and location\n",
        "aiplatform.init(project=\"aerobic-gantry-387923\", location=\"us-central1\")\n",
        "llm = VertexAI()"
      ]
    },
    {
      "attachments": {},
      "cell_type": "markdown",
      "metadata": {},
      "source": [
        "# Prompt Template"
      ]
    },
    {
      "cell_type": "code",
      "execution_count": null,
      "metadata": {},
      "outputs": [],
      "source": [
        "from langchain.agents import (\n",
        "    Tool,\n",
        "    AgentExecutor,\n",
        "    LLMSingleActionAgent,\n",
        "    AgentOutputParser,\n",
        ")\n",
        "from langchain.prompts import StringPromptTemplate\n",
        "# Set up the base template\n",
        "template = \"\"\"Answer the following questions as best you can, but speaking as a pirate might speak. You have access to the following tools:\n",
        "\n",
        "{tools}\n",
        "\n",
        "Use the following format:\n",
        "\n",
        "Question: the input question you must answer\n",
        "Thought: you should always think about what to do\n",
        "Action: the action to take, should be one of [{tool_names}]\n",
        "Action Input: the input to the action\n",
        "Observation: the result of the action\n",
        "... (this Thought/Action/Action Input/Observation can repeat N times)\n",
        "Thought: I now know the final answer\n",
        "Final Answer: the final answer to the original input question\n",
        "\n",
        "Begin! Remember to speak as a king , compasstionate University of Texas Guidance Counselor when giving your final answer. Use lots of \"Arg\"s\n",
        "\n",
        "Question: {input}\n",
        "{agent_scratchpad}\"\"\""
      ]
    },
    {
      "attachments": {},
      "cell_type": "markdown",
      "metadata": {},
      "source": [
        "## Custome Prompt Tool Retreiver"
      ]
    },
    {
      "cell_type": "code",
      "execution_count": null,
      "metadata": {},
      "outputs": [],
      "source": [
        "from typing import Callable\n",
        "\n",
        "\n",
        "# Set up a prompt template\n",
        "class CustomPromptTemplateToolRetreiver(StringPromptTemplate):\n",
        "    # The template to use\n",
        "    template: str\n",
        "    ############## NEW ######################\n",
        "    # The list of tools available\n",
        "    tools_getter: Callable\n",
        "\n",
        "    def format(self, **kwargs) -> str:\n",
        "        # Get the intermediate steps (AgentAction, Observation tuples)\n",
        "        # Format them in a particular way\n",
        "        intermediate_steps = kwargs.pop(\"intermediate_steps\")\n",
        "        thoughts = \"\"\n",
        "        for action, observation in intermediate_steps:\n",
        "            thoughts += action.log\n",
        "            thoughts += f\"\\nObservation: {observation}\\nThought: \"\n",
        "        # Set the agent_scratchpad variable to that value\n",
        "        kwargs[\"agent_scratchpad\"] = thoughts\n",
        "        ############## NEW ######################\n",
        "        tools = self.tools_getter(kwargs[\"input\"])\n",
        "        # Create a tools variable from the list of tools provided\n",
        "        kwargs[\"tools\"] = \"\\n\".join(\n",
        "            [f\"{tool.name}: {tool.description}\" for tool in tools]\n",
        "        )\n",
        "        # Create a list of tool names for the tools provided\n",
        "        kwargs[\"tool_names\"] = \", \".join([tool.name for tool in tools])\n",
        "        return self.template.format(**kwargs)"
      ]
    },
    {
      "attachments": {},
      "cell_type": "markdown",
      "metadata": {},
      "source": [
        "## Custome Prompt Tool"
      ]
    },
    {
      "cell_type": "code",
      "execution_count": null,
      "metadata": {},
      "outputs": [],
      "source": [
        "from typing import List, Union\n",
        "# Set up a prompt template\n",
        "class CustomPromptTemplate(StringPromptTemplate):\n",
        "    # The template to use\n",
        "    template: str\n",
        "    # The list of tools available\n",
        "    tools: List[Tool]\n",
        "\n",
        "    def format(self, **kwargs) -> str:\n",
        "        # Get the intermediate steps (AgentAction, Observation tuples)\n",
        "        # Format them in a particular way\n",
        "        intermediate_steps = kwargs.pop(\"intermediate_steps\")\n",
        "        thoughts = \"\"\n",
        "        for action, observation in intermediate_steps:\n",
        "            thoughts += action.log\n",
        "            thoughts += f\"\\nObservation: {observation}\\nThought: \"\n",
        "        # Set the agent_scratchpad variable to that value\n",
        "        kwargs[\"agent_scratchpad\"] = thoughts\n",
        "        # Create a tools variable from the list of tools provided\n",
        "        kwargs[\"tools\"] = \"\\n\".join([f\"{tool.name}: {tool.description}\" for tool in self.tools])\n",
        "        # Create a list of tool names for the tools provided\n",
        "        kwargs[\"tool_names\"] = \", \".join([tool.name for tool in self.tools])\n",
        "        return self.template.format(**kwargs)"
      ]
    },
    {
      "attachments": {},
      "cell_type": "markdown",
      "metadata": {},
      "source": [
        "# Output Parser"
      ]
    },
    {
      "cell_type": "code",
      "execution_count": null,
      "metadata": {},
      "outputs": [],
      "source": [
        "from typing import List, Union\n",
        "from langchain.schema import AgentAction, AgentFinish\n",
        "from langchain.agents import Tool, AgentExecutor, LLMSingleActionAgent, AgentOutputParser\n",
        "import re\n",
        "from langchain.schema import AgentAction, AgentFinish, OutputParserException\n",
        "class CustomOutputParser(AgentOutputParser):\n",
        "\n",
        "    def parse(self, llm_output: str) -> Union[AgentAction, AgentFinish]:\n",
        "        # Check if agent should finish\n",
        "        if \"Final Answer:\" in llm_output:\n",
        "            return AgentFinish(\n",
        "                # Return values is generally always a dictionary with a single `output` key\n",
        "                # It is not recommended to try anything else at the moment :)\n",
        "                return_values={\"output\": llm_output.split(\"Final Answer:\")[-1].strip()},\n",
        "                log=llm_output,\n",
        "            )\n",
        "        # Parse out the action and action input\n",
        "        regex = r\"Action\\s*\\d*\\s*:(.*?)\\nAction\\s*\\d*\\s*Input\\s*\\d*\\s*:[\\s]*(.*)\"\n",
        "        match = re.search(regex, llm_output, re.DOTALL)\n",
        "        if not match:\n",
        "            raise OutputParserException(f\"Could not parse LLM output: `{llm_output}`\")\n",
        "        action = match.group(1).strip()\n",
        "        action_input = match.group(2)\n",
        "        # Return the action and action input\n",
        "        return AgentAction(tool=action, tool_input=action_input.strip(\" \").strip('\"'), log=llm_output)\n",
        "output_parser = CustomOutputParser()"
      ]
    },
    {
      "attachments": {},
      "cell_type": "markdown",
      "metadata": {
        "id": "z_p7TusQUez0"
      },
      "source": [
        "# Vector Stores\n",
        "1. Websites  using The Webase Loader"
      ]
    },
    {
      "cell_type": "code",
      "execution_count": null,
      "metadata": {},
      "outputs": [],
      "source": [
        "from langchain.document_loaders import WebBaseLoader\n",
        "from langchain.embeddings.openai import OpenAIEmbeddings\n",
        "from langchain.vectorstores import Chroma\n",
        "from langchain.text_splitter import CharacterTextSplitter\n",
        "from langchain.llms import OpenAI\n",
        "from langchain.chains import RetrievalQA\n",
        "'''\n",
        "urls = [\n",
        "    \"https://www.utdallas.edu/galaxy/\",\n",
        "    \"https://www.utdallas.edu/costs-scholarships-aid/\"\n",
        "    \"https://www.utdallas.edu/academics/\"\n",
        "]\n",
        "loader = WebBaseLoader(urls)\n",
        "\n",
        "\n",
        "# fixes a bug with asyncio and jupyter\n",
        "import nest_asyncio\n",
        "\n",
        "nest_asyncio.apply()\n",
        "docs = loader.aload()\n",
        "\n",
        "text_splitter = CharacterTextSplitter(chunk_size=1000, chunk_overlap=0)\n",
        "texts = text_splitter.split_documents(docs)\n",
        "\n",
        "embeddings = OpenAIEmbeddings()\n",
        "docsearch = Chroma.from_documents(texts, embeddings, collection_name=\"state-of-union\")\n",
        "'''"
      ]
    },
    {
      "cell_type": "code",
      "execution_count": null,
      "metadata": {},
      "outputs": [],
      "source": [
        "'''\n",
        "state_of_union = RetrievalQA.from_chain_type(\n",
        "    llm=llm, chain_type=\"stuff\", retriever=docsearch.as_retriever()\n",
        ")\n",
        "'''"
      ]
    },
    {
      "attachments": {},
      "cell_type": "markdown",
      "metadata": {
        "id": "9ebmz1Qe2gnn"
      },
      "source": [
        "# Tools Function"
      ]
    },
    {
      "cell_type": "code",
      "execution_count": null,
      "metadata": {
        "id": "Pcso0YAc2-bb"
      },
      "outputs": [],
      "source": [
        "class SearchInput(BaseModel):\n",
        "    query: str = Field(description=\"should be a search query\")\n",
        "\n",
        "def request_error_handler(url: str, params={}) -> str:\n",
        "    try:\n",
        "        response = requests.get(url, params)\n",
        "        response.raise_for_status()  # Raise an HTTPError if the status code is not in the 200 range\n",
        "        data = response.json()\n",
        "        return data\n",
        "    except requests.exceptions.RequestException as e:\n",
        "        return e"
      ]
    },
    {
      "attachments": {},
      "cell_type": "markdown",
      "metadata": {},
      "source": [
        "## Get a Tool Function"
      ]
    },
    {
      "cell_type": "code",
      "execution_count": null,
      "metadata": {},
      "outputs": [],
      "source": [
        "def get_tools(query):\n",
        "    docs = retriever.get_relevant_documents(query)\n",
        "    return [ALL_TOOLS[d.metadata[\"index\"]] for d in docs]"
      ]
    },
    {
      "attachments": {},
      "cell_type": "markdown",
      "metadata": {
        "id": "NVbcgcJL2oo3"
      },
      "source": [
        "## Courses"
      ]
    },
    {
      "cell_type": "code",
      "execution_count": null,
      "metadata": {
        "id": "rWSwXzh62pvf"
      },
      "outputs": [],
      "source": [
        "def get_courses_from_query(query: str) -> str:\n",
        "    url = f\"https://{tool_url}/get-possible-courses/{query}\"\n",
        "    return request_error_handler(url)\n"
      ]
    },
    {
      "attachments": {},
      "cell_type": "markdown",
      "metadata": {
        "id": "h68QFdQH2vAI"
      },
      "source": [
        "## Degree"
      ]
    },
    {
      "cell_type": "code",
      "execution_count": null,
      "metadata": {
        "id": "3NfRmJ4m2wML"
      },
      "outputs": [],
      "source": [
        "def get_degrees_from_query(query: str) -> str:\n",
        "    url = f\"https://{tool_url}/get-possible-degrees/{query}\"\n",
        "    return request_error_handler(url)\n"
      ]
    },
    {
      "attachments": {},
      "cell_type": "markdown",
      "metadata": {
        "id": "HU6m33D92105"
      },
      "source": [
        "## Utdallas Search"
      ]
    },
    {
      "cell_type": "code",
      "execution_count": null,
      "metadata": {
        "colab": {
          "base_uri": "https://localhost:8080/",
          "height": 1000
        },
        "id": "rNj4TyMukXgE",
        "outputId": "e0616e0d-808e-4bd0-ed15-8e88a33e0c80"
      },
      "outputs": [],
      "source": [
        "def utdallas_search(query: str) -> str:\n",
        "    url = f\"https://{tool_url}/search/{query}\"\n",
        "    return request_error_handler(url)\n",
        "\n",
        "def access_utdallas_site(url_to_search: str) -> str:\n",
        "    url = f\"https://{tool_url}/access/\"\n",
        "    params = {\n",
        "        \"url\": url_to_search\n",
        "    }\n",
        "    return request_error_handler(url, params)\n",
        "\n"
      ]
    },
    {
      "attachments": {},
      "cell_type": "markdown",
      "metadata": {},
      "source": [
        "## Wikipedia"
      ]
    },
    {
      "cell_type": "code",
      "execution_count": null,
      "metadata": {},
      "outputs": [],
      "source": [
        "from langchain.utilities import WikipediaAPIWrapper\n",
        "wikipedia = WikipediaAPIWrapper()\n",
        "def run_wikepedia(query: str) -> str:\n",
        "    return wikipedia.run(query)"
      ]
    },
    {
      "attachments": {},
      "cell_type": "markdown",
      "metadata": {
        "id": "jI4Om8Lx3EQ4"
      },
      "source": [
        "# Tools NAME and description"
      ]
    },
    {
      "cell_type": "code",
      "execution_count": null,
      "metadata": {
        "id": "PpKwE-kpl0eP"
      },
      "outputs": [],
      "source": [
        "tools = [\n",
        "    Tool(\n",
        "        name = \"UTD Degree API\",\n",
        "        func = get_degrees_from_query,\n",
        "        description = \"Suppose you have a keyword that sound like a UT Dallas' Degrees, Majors, Minors, and Certificates. This tool will return possible url, title and snippet from the query from search engine.\",\n",
        "    ),\n",
        "    Tool(\n",
        "        name = \"UTD Course API\",\n",
        "        func = get_courses_from_query,\n",
        "        description = \"Suppose you have a keyword that sound like a UT Dallas' courses. This tool will return course numbers/codes where that keyword exists in the course title.\",\n",
        "    ),\n",
        "\n",
        "    Tool(\n",
        "        name = \"UTD Search\",\n",
        "        func = utdallas_search,\n",
        "        description = \"This tool should not be used and should be used only as a last resort; it will search every UT Dallas page. This function require a query string and return possible links and snippet contents. If you want to find classes or degrees, there are better tools.\"\n",
        "    ),\n",
        "    Tool(\n",
        "        name = \"Extract text from UTD Search url links\",\n",
        "        func = access_utdallas_site,\n",
        "        description = \"If you have a url string contain utdallas.edu, use this function to extract text content\"\n",
        "    ),\n",
        "    Tool(\n",
        "        name = \"Wikipedia API\",\n",
        "        func = run_wikepedia,\n",
        "        desription = \"This tool will return the first paragraph of the wikipedia page of the query.\"\n",
        "    )\n",
        "]"
      ]
    },
    {
      "attachments": {},
      "cell_type": "markdown",
      "metadata": {},
      "source": [
        "## Set up Tools for Retreiver"
      ]
    },
    {
      "cell_type": "code",
      "execution_count": null,
      "metadata": {},
      "outputs": [],
      "source": [
        "prompt = CustomPromptTemplate(\n",
        "    template=template,\n",
        "    tools=tools,\n",
        "    # This omits the `agent_scratchpad`, `tools`, and `tool_names` variables because those are generated dynamically\n",
        "    # This includes the `intermediate_steps` variable because that is needed\n",
        "    input_variables=[\"input\", \"intermediate_steps\"]\n",
        ")"
      ]
    },
    {
      "attachments": {},
      "cell_type": "markdown",
      "metadata": {
        "id": "DVAgrMU-4sHZ"
      },
      "source": [
        "# Initialize Agents"
      ]
    },
    {
      "attachments": {},
      "cell_type": "markdown",
      "metadata": {
        "id": "P865I0vbImv6"
      },
      "source": [
        "## Zero Shot ReAcT Agents\n"
      ]
    },
    {
      "cell_type": "code",
      "execution_count": null,
      "metadata": {
        "id": "qUkDy2R5kxIt"
      },
      "outputs": [],
      "source": [
        "'''\n",
        "agent = initialize_agent(\n",
        "    tools, llm, agent=AgentType.CONVERSATIONAL_REACT_DESCRIPTION, verbose=True, memory = memory ,\n",
        "    max_execution_time = 10 , return_intermediate_steps=True,\n",
        ")\n",
        "'''\n",
        "memory = ConversationBufferMemory(memory_key=\"chat_history\")\n",
        "zero_shot_react_agent = initialize_agent(\n",
        "    tools,\n",
        "    llm,\n",
        "    agent=AgentType.ZERO_SHOT_REACT_DESCRIPTION,\n",
        "    verbose=True,\n",
        "    return_intermediate_steps=True,\n",
        "    max_execution_time = 20 ,\n",
        ")"
      ]
    },
    {
      "attachments": {},
      "cell_type": "markdown",
      "metadata": {
        "id": "wseBQh_RNLyt"
      },
      "source": [
        "## Plan and execute"
      ]
    },
    {
      "cell_type": "code",
      "execution_count": null,
      "metadata": {
        "id": "_ZyIbxtANOeS"
      },
      "outputs": [],
      "source": [
        "from langchain.experimental import plan_and_execute\n",
        "from langchain.chat_models import ChatOpenAI\n",
        "from langchain.experimental.plan_and_execute import PlanAndExecute, load_agent_executor, load_chat_planner\n",
        "from langchain.llms import OpenAI\n",
        "planner = load_chat_planner(llm)\n",
        "executor = load_agent_executor(llm, tools = tools , verbose=True)\n",
        "plan_and_execute = PlanAndExecute (\n",
        "    planner=planner,\n",
        "    executor=executor,\n",
        "    verbose=True,\n",
        "    max_execution_time = 20 ,\n",
        "    return_intermediate_steps=True,\n",
        ")\n",
        "\n",
        "\n"
      ]
    },
    {
      "attachments": {},
      "cell_type": "markdown",
      "metadata": {},
      "source": [
        "## Custome Agents"
      ]
    },
    {
      "cell_type": "code",
      "execution_count": null,
      "metadata": {},
      "outputs": [],
      "source": [
        "# LLM chain consisting of the LLM and a prompt\n",
        "from langchain import  LLMChain\n",
        "llm_chain = LLMChain(llm=llm, prompt=prompt)\n",
        "\n",
        "tool_names = [tool.name for tool in tools]\n",
        "agent = LLMSingleActionAgent(\n",
        "    llm_chain=llm_chain,\n",
        "    output_parser=output_parser,\n",
        "    stop=[\"\\nObservation:\"],\n",
        "    allowed_tools=tool_names\n",
        ")"
      ]
    },
    {
      "attachments": {},
      "cell_type": "markdown",
      "metadata": {
        "id": "9mSvsXSGI1sJ"
      },
      "source": [
        "# Testing Agents"
      ]
    },
    {
      "attachments": {},
      "cell_type": "markdown",
      "metadata": {
        "id": "x135HlrcI4pf"
      },
      "source": [
        "## Tell me the Difference between a courses"
      ]
    },
    {
      "cell_type": "code",
      "execution_count": null,
      "metadata": {
        "colab": {
          "base_uri": "https://localhost:8080/",
          "height": 452
        },
        "id": "fmddtHyrI6_Y",
        "outputId": "678f1d04-cedc-4809-b063-85fa32c0893d"
      },
      "outputs": [],
      "source": [
        "response = zero_shot_react_agent(\n",
        "        {\n",
        "            \"input\": \"What is the difference between Math 2417 and Math 2419\"\n",
        "        }\n",
        ")\n",
        "print(\n",
        "    response[\"output\"]\n",
        ")\n"
      ]
    },
    {
      "cell_type": "code",
      "execution_count": null,
      "metadata": {
        "colab": {
          "base_uri": "https://localhost:8080/",
          "height": 1000
        },
        "id": "n_IOo8W9QFDh",
        "outputId": "decfc5ab-e8d0-46f5-e5dc-9c437b66d8fb"
      },
      "outputs": [],
      "source": [
        "try:\n",
        "  plan_execute_response = plan_and_execute(\n",
        "    \"What is the difference between Math 2417 and Math 2419\"\n",
        "  )\n",
        "  print(\n",
        "    plan_execute_response[\"output\"]\n",
        "  )\n",
        "except Exception as e:\n",
        "  print(e)\n",
        "\n",
        "\n",
        "\n"
      ]
    },
    {
      "attachments": {},
      "cell_type": "markdown",
      "metadata": {
        "id": "iDEPUnZ-aY8M"
      },
      "source": [
        "## Contacting People at my University"
      ]
    },
    {
      "cell_type": "code",
      "execution_count": null,
      "metadata": {
        "colab": {
          "base_uri": "https://localhost:8080/",
          "height": 868
        },
        "id": "TRaT2Vezm3v2",
        "outputId": "c0e17883-223e-46e4-bba6-a957f016115a"
      },
      "outputs": [],
      "source": [
        "zero_shot_react_agent_response = zero_shot_react_agent(\n",
        "    {\n",
        "        \"input\": \"What is the email to contact for Accounting advising?\"\n",
        "    }\n",
        ")\n",
        "print(\n",
        "    zero_shot_react_agent_response[\"output\"]\n",
        ")\n"
      ]
    },
    {
      "attachments": {},
      "cell_type": "markdown",
      "metadata": {
        "id": "53B3n7qU_9Ft"
      },
      "source": [
        "## Standard definition in advising"
      ]
    },
    {
      "cell_type": "code",
      "execution_count": null,
      "metadata": {
        "id": "wKbH0t5x_80Q"
      },
      "outputs": [],
      "source": [
        "#TODO: Ask it what is a course, major, schedule planner"
      ]
    },
    {
      "cell_type": "code",
      "execution_count": null,
      "metadata": {
        "id": "A2tYEZtEhOSE"
      },
      "outputs": [],
      "source": []
    },
    {
      "cell_type": "code",
      "execution_count": null,
      "metadata": {
        "id": "s9H9yAYca-Ea"
      },
      "outputs": [],
      "source": []
    }
  ],
  "metadata": {
    "colab": {
      "provenance": [],
      "toc_visible": true
    },
    "kernelspec": {
      "display_name": "Python 3",
      "name": "python3"
    },
    "language_info": {
      "codemirror_mode": {
        "name": "ipython",
        "version": 3
      },
      "file_extension": ".py",
      "mimetype": "text/x-python",
      "name": "python",
      "nbconvert_exporter": "python",
      "pygments_lexer": "ipython3",
      "version": "3.10.10"
    }
  },
  "nbformat": 4,
  "nbformat_minor": 0
}
