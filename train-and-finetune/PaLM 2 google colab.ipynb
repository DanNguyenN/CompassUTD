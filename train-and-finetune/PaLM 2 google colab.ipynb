{
  "cells": [
    {
      "cell_type": "code",
      "execution_count": null,
      "metadata": {
        "colab": {
          "base_uri": "https://localhost:8080/",
          "height": 1000
        },
        "id": "lCuLOuZelrlt",
        "outputId": "ab4935cc-e031-4a5f-cf40-5fcc8fe93cce"
      },
      "outputs": [],
      "source": [
        "!pip install langchain google-cloud-aiplatform rich"
      ]
    },
    {
      "attachments": {},
      "cell_type": "markdown",
      "metadata": {
        "id": "gyhkWAXp2LP8"
      },
      "source": [
        "# Imports"
      ]
    },
    {
      "cell_type": "code",
      "execution_count": null,
      "metadata": {
        "id": "5XS7F7lEAcly"
      },
      "outputs": [],
      "source": [
        "import os\n",
        "import requests\n",
        "from google.cloud import aiplatform\n",
        "from langchain.agents import (AgentExecutor, AgentType, BaseSingleActionAgent,\n",
        "                              Tool, initialize_agent)\n",
        "from langchain.llms import VertexAI\n",
        "from langchain.memory import ConversationBufferMemory\n",
        "from langchain.tools import tool\n",
        "from pydantic import BaseModel, Field\n",
        "from rich import print\n",
        "from rich.console import Console\n",
        "from rich.progress import Progress, track\n",
        "from rich.table import Table"
      ]
    },
    {
      "attachments": {},
      "cell_type": "markdown",
      "metadata": {
        "id": "0wta80So2QCZ"
      },
      "source": [
        "# Google Authentication"
      ]
    },
    {
      "cell_type": "code",
      "execution_count": null,
      "metadata": {
        "id": "KjDpW0zyCnqj"
      },
      "outputs": [],
      "source": [
        "tool_url = None #!TODO: set this to the tool url if using Colab\n",
        "try:\n",
        "    from google.colab import auth as google_auth\n",
        "    google_auth.authenticate_user()\n",
        "except:\n",
        "    import dotenv\n",
        "    dotenv.load_dotenv()\n",
        "    tool_url = str(os.getenv('TOOL_URL'))\n",
        "    pass"
      ]
    },
    {
      "cell_type": "code",
      "execution_count": null,
      "metadata": {
        "id": "HI68K9IJAdPc"
      },
      "outputs": [],
      "source": [
        "#! Change the following to your own project and location\n",
        "aiplatform.init(project=\"aerobic-gantry-387923\", location=\"us-central1\")\n",
        "llm = VertexAI()"
      ]
    },
    {
      "attachments": {},
      "cell_type": "markdown",
      "metadata": {
        "id": "z_p7TusQUez0"
      },
      "source": [
        "# Vector Stores"
      ]
    },
    {
      "cell_type": "code",
      "execution_count": null,
      "metadata": {},
      "outputs": [],
      "source": [
        "#TODO: Implement a vector stores"
      ]
    },
    {
      "attachments": {},
      "cell_type": "markdown",
      "metadata": {
        "id": "9ebmz1Qe2gnn"
      },
      "source": [
        "# Tools Function"
      ]
    },
    {
      "cell_type": "code",
      "execution_count": null,
      "metadata": {
        "id": "Pcso0YAc2-bb"
      },
      "outputs": [],
      "source": [
        "class SearchInput(BaseModel):\n",
        "    query: str = Field(description=\"should be a search query\")\n",
        "\n",
        "def request_error_handler(url: str, params={}) -> str:\n",
        "    try:\n",
        "        response = requests.get(url, params)\n",
        "        response.raise_for_status()  # Raise an HTTPError if the status code is not in the 200 range\n",
        "        data = response.json()\n",
        "        return data\n",
        "    except requests.exceptions.RequestException as e:\n",
        "        return e"
      ]
    },
    {
      "attachments": {},
      "cell_type": "markdown",
      "metadata": {
        "id": "NVbcgcJL2oo3"
      },
      "source": [
        "## Courses"
      ]
    },
    {
      "cell_type": "code",
      "execution_count": null,
      "metadata": {
        "id": "rWSwXzh62pvf"
      },
      "outputs": [],
      "source": [
        "def get_courses_from_query(query: str) -> str:\n",
        "    url = f\"https://{tool_url}/get-possible-courses/{query}\"\n",
        "    return request_error_handler(url)\n"
      ]
    },
    {
      "attachments": {},
      "cell_type": "markdown",
      "metadata": {
        "id": "h68QFdQH2vAI"
      },
      "source": [
        "## Degree"
      ]
    },
    {
      "cell_type": "code",
      "execution_count": null,
      "metadata": {
        "id": "3NfRmJ4m2wML"
      },
      "outputs": [],
      "source": [
        "def get_degrees_from_query(query: str) -> str:\n",
        "    url = f\"https://{tool_url}/get-possible-degrees/{query}\"\n",
        "    return request_error_handler(url)\n"
      ]
    },
    {
      "attachments": {},
      "cell_type": "markdown",
      "metadata": {
        "id": "HU6m33D92105"
      },
      "source": [
        "## Utdallas Search"
      ]
    },
    {
      "cell_type": "code",
      "execution_count": null,
      "metadata": {
        "colab": {
          "base_uri": "https://localhost:8080/",
          "height": 1000
        },
        "id": "rNj4TyMukXgE",
        "outputId": "e0616e0d-808e-4bd0-ed15-8e88a33e0c80"
      },
      "outputs": [],
      "source": [
        "def utdallas_search(query: str) -> str:\n",
        "    url = f\"https://{tool_url}/search/{query}\"\n",
        "    return request_error_handler(url)\n",
        "\n",
        "def access_utdallas_site(url_to_search: str) -> str:\n",
        "    url = f\"https://{tool_url}/access/\"\n",
        "    params = {\n",
        "        \"url\": url_to_search\n",
        "    }\n",
        "    return request_error_handler(url, params)\n",
        "\n"
      ]
    },
    {
      "attachments": {},
      "cell_type": "markdown",
      "metadata": {
        "id": "jI4Om8Lx3EQ4"
      },
      "source": [
        "# Tools NAME and description"
      ]
    },
    {
      "cell_type": "code",
      "execution_count": null,
      "metadata": {
        "id": "PpKwE-kpl0eP"
      },
      "outputs": [],
      "source": [
        "tools = [\n",
        "    Tool(\n",
        "        name = \"UTD Degree API\",\n",
        "        func = get_degrees_from_query,\n",
        "        description = \"Suppose you have a keyword that sound like a UT Dallas' Degrees, Majors, Minors, and Certificates. This tool will return possible url, title and snippet from the query from search engine.\",\n",
        "    ),\n",
        "    Tool(\n",
        "        name = \"UTD Course API\",\n",
        "        func = get_courses_from_query,\n",
        "        description = \"Suppose you have a keyword that sound like a UT Dallas' courses. This tool will return course numbers/codes where that keyword exists in the course title.\",\n",
        "    ),\n",
        "\n",
        "    Tool(\n",
        "        name = \"UTD Search\",\n",
        "        func = utdallas_search,\n",
        "        description = \"This tool should not be used and should be used only as a last resort; it will search every UT Dallas page. This function require a query string and return possible links and snippet contents. If you want to find classes or degrees, there are better tools.\"\n",
        "    ),\n",
        "    Tool(\n",
        "        name = \"Extract text from UTD Search url links\",\n",
        "        func = access_utdallas_site,\n",
        "        description = \"If you have a url string contain utdallas.edu, use this function to extract text content\"\n",
        "    ),\n",
        "\n",
        "    ]"
      ]
    },
    {
      "attachments": {},
      "cell_type": "markdown",
      "metadata": {
        "id": "B48pVtyZkHhn"
      },
      "source": []
    },
    {
      "attachments": {},
      "cell_type": "markdown",
      "metadata": {
        "id": "DVAgrMU-4sHZ"
      },
      "source": [
        "# Initialize Agents"
      ]
    },
    {
      "attachments": {},
      "cell_type": "markdown",
      "metadata": {
        "id": "P865I0vbImv6"
      },
      "source": [
        "## Zero Shot ReAcT Agents\n"
      ]
    },
    {
      "cell_type": "code",
      "execution_count": null,
      "metadata": {
        "id": "qUkDy2R5kxIt"
      },
      "outputs": [],
      "source": [
        "'''\n",
        "agent = initialize_agent(\n",
        "    tools, llm, agent=AgentType.CONVERSATIONAL_REACT_DESCRIPTION, verbose=True, memory = memory ,\n",
        "    max_execution_time = 10 , return_intermediate_steps=True,\n",
        ")\n",
        "'''\n",
        "memory = ConversationBufferMemory(memory_key=\"chat_history\")\n",
        "zero_shot_react_agent = initialize_agent(\n",
        "    tools,\n",
        "    llm,\n",
        "    agent=AgentType.ZERO_SHOT_REACT_DESCRIPTION,\n",
        "    verbose=True,\n",
        "    return_intermediate_steps=True,\n",
        "    max_execution_time = 20 ,\n",
        ")"
      ]
    },
    {
      "attachments": {},
      "cell_type": "markdown",
      "metadata": {
        "id": "wseBQh_RNLyt"
      },
      "source": [
        "## Plan and execute"
      ]
    },
    {
      "cell_type": "code",
      "execution_count": null,
      "metadata": {
        "id": "_ZyIbxtANOeS"
      },
      "outputs": [],
      "source": [
        "from langchain.experimental import plan_and_execute\n",
        "from langchain.chat_models import ChatOpenAI\n",
        "from langchain.experimental.plan_and_execute import PlanAndExecute, load_agent_executor, load_chat_planner\n",
        "from langchain.llms import OpenAI\n",
        "planner = load_chat_planner(llm)\n",
        "executor = load_agent_executor(llm, tools = tools , verbose=True)\n",
        "plan_and_execute = PlanAndExecute (\n",
        "    planner=planner,\n",
        "    executor=executor,\n",
        "    verbose=True,\n",
        "    max_execution_time = 20 ,\n",
        "    return_intermediate_steps=True,\n",
        ")\n",
        "\n",
        "\n"
      ]
    },
    {
      "attachments": {},
      "cell_type": "markdown",
      "metadata": {
        "id": "9mSvsXSGI1sJ"
      },
      "source": [
        "# Testing Agents"
      ]
    },
    {
      "attachments": {},
      "cell_type": "markdown",
      "metadata": {
        "id": "x135HlrcI4pf"
      },
      "source": [
        "## Tell me the Difference between a courses"
      ]
    },
    {
      "cell_type": "code",
      "execution_count": null,
      "metadata": {
        "colab": {
          "base_uri": "https://localhost:8080/",
          "height": 452
        },
        "id": "fmddtHyrI6_Y",
        "outputId": "678f1d04-cedc-4809-b063-85fa32c0893d"
      },
      "outputs": [],
      "source": [
        "response = zero_shot_react_agent(\n",
        "        {\n",
        "            \"input\": \"What is the difference between Math 2417 and Math 2419\"\n",
        "        }\n",
        ")\n",
        "print(\n",
        "    response[\"output\"]\n",
        ")\n"
      ]
    },
    {
      "cell_type": "code",
      "execution_count": null,
      "metadata": {
        "colab": {
          "base_uri": "https://localhost:8080/",
          "height": 1000
        },
        "id": "n_IOo8W9QFDh",
        "outputId": "decfc5ab-e8d0-46f5-e5dc-9c437b66d8fb"
      },
      "outputs": [],
      "source": [
        "try:\n",
        "  plan_execute_response = plan_and_execute(\n",
        "    \"What is the difference between Math 2417 and Math 2419\"\n",
        "  )\n",
        "  print(\n",
        "    plan_execute_response[\"output\"]\n",
        "  )\n",
        "except Exception as e:\n",
        "  print(e)\n",
        "\n",
        "\n",
        "\n"
      ]
    },
    {
      "attachments": {},
      "cell_type": "markdown",
      "metadata": {
        "id": "iDEPUnZ-aY8M"
      },
      "source": [
        "## Contacting People at my University"
      ]
    },
    {
      "cell_type": "code",
      "execution_count": null,
      "metadata": {
        "colab": {
          "base_uri": "https://localhost:8080/",
          "height": 868
        },
        "id": "TRaT2Vezm3v2",
        "outputId": "c0e17883-223e-46e4-bba6-a957f016115a"
      },
      "outputs": [],
      "source": [
        "zero_shot_react_agent_response = zero_shot_react_agent(\n",
        "    {\n",
        "        \"input\": \"What is the email to contact for Accounting advising?\"\n",
        "    }\n",
        ")\n",
        "print(\n",
        "    zero_shot_react_agent_response[\"output\"]\n",
        ")\n"
      ]
    },
    {
      "attachments": {},
      "cell_type": "markdown",
      "metadata": {
        "id": "53B3n7qU_9Ft"
      },
      "source": [
        "## Standard definition in advising"
      ]
    },
    {
      "cell_type": "code",
      "execution_count": null,
      "metadata": {
        "id": "wKbH0t5x_80Q"
      },
      "outputs": [],
      "source": [
        "#TODO: Ask it what is a course, major, schedule planner"
      ]
    },
    {
      "cell_type": "code",
      "execution_count": null,
      "metadata": {
        "id": "A2tYEZtEhOSE"
      },
      "outputs": [],
      "source": []
    },
    {
      "cell_type": "code",
      "execution_count": null,
      "metadata": {
        "id": "s9H9yAYca-Ea"
      },
      "outputs": [],
      "source": []
    }
  ],
  "metadata": {
    "colab": {
      "provenance": [],
      "toc_visible": true
    },
    "kernelspec": {
      "display_name": "Python 3",
      "name": "python3"
    },
    "language_info": {
      "codemirror_mode": {
        "name": "ipython",
        "version": 3
      },
      "file_extension": ".py",
      "mimetype": "text/x-python",
      "name": "python",
      "nbconvert_exporter": "python",
      "pygments_lexer": "ipython3",
      "version": "3.10.9"
    }
  },
  "nbformat": 4,
  "nbformat_minor": 0
}
