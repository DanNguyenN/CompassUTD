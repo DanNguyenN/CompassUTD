{
 "cells": [
  {
   "cell_type": "code",
   "execution_count": 1,
   "metadata": {},
   "outputs": [],
   "source": [
    "from CompassUTD import CompassInference\n",
    "\n",
    "agent = CompassInference()"
   ]
  },
  {
   "cell_type": "code",
   "execution_count": 3,
   "metadata": {},
   "outputs": [
    {
     "name": "stdout",
     "output_type": "stream",
     "text": [
      "\n",
      "\n",
      "\u001b[1m> Entering new  chain...\u001b[0m\n",
      "\u001b[32;1m\u001b[1;3mThought: I need to find out what Dr. Cankaya teaches\n",
      "Action: get_professor_rating_and_classes_taught\n",
      "Action Input: Cankaya\u001b[0m\n",
      "Observation: \u001b[36;1m\u001b[1;3m{'full_name': 'Ebru Cankaya', 'courses_taught': ['CS2336', 'CS3340', 'CS3354', 'CS4341', 'CS4347', 'CS4349', 'CS4389', 'SE3354'], 'rate_my_professor_rating': {'overall_rating_out_of_5': 4.5, 'difficulty_rating_out_of_5': 3}}\u001b[0m\n",
      "Thought:\u001b[32;1m\u001b[1;3mFinal Answer: Dr. Cankaya teaches CS2336, CS3340, CS3354, CS4341, CS4347, CS4349, CS4389, and SE3354.\u001b[0m\n",
      "\n",
      "\u001b[1m> Finished chain.\u001b[0m\n"
     ]
    },
    {
     "data": {
      "text/plain": [
       "'Dr. Cankaya teaches CS2336, CS3340, CS3354, CS4341, CS4347, CS4349, CS4389, and SE3354.'"
      ]
     },
     "execution_count": 3,
     "metadata": {},
     "output_type": "execute_result"
    }
   ],
   "source": [
    "agent.run(\"What does Dr. Cankaya teach\")"
   ]
  }
 ],
 "metadata": {
  "kernelspec": {
   "display_name": "base",
   "language": "python",
   "name": "python3"
  },
  "language_info": {
   "codemirror_mode": {
    "name": "ipython",
    "version": 3
   },
   "file_extension": ".py",
   "mimetype": "text/x-python",
   "name": "python",
   "nbconvert_exporter": "python",
   "pygments_lexer": "ipython3",
   "version": "3.10.9"
  },
  "orig_nbformat": 4
 },
 "nbformat": 4,
 "nbformat_minor": 2
}
