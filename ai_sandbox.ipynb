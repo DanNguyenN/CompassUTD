{
 "cells": [
  {
   "cell_type": "markdown",
   "metadata": {},
   "source": [
    "# PREPARE\n",
    "You don't need mongodb to run this notebook. You can just use ConversaionBufferMemmory instead. This is for testing purpose only.\n",
    "\n",
    "To be able to run the test in this notebook, you need some file in `CompassUTD\\_secret\\` folder. The folder should be in the same directory as this notebook. The files are:\n",
    "\n",
    "`google_key.json`: - Google API key for Google Cloud Platform. You can get one by making a service account\n",
    "`search_secrets.json`: - Google Custom Search API key and search engine ID. You can get one by making a custom search engine with these settings:\n",
    "```\n",
    "{\n",
    "    \"GOOGLE_SEARCH_API\": \"REPlACE_WITH_YOUR_KEY\",\n",
    "    \"COURSE_SEARCH_ID\": \"REPlACE_WITH_YOUR_KEY\",\n",
    "    \"DEGREE_SEARCH_ID\": \"REPlACE_WITH_YOUR_KEY\",\n",
    "    \"RANDOM_SEARCH_ID\": \"REPlACE_WITH_YOUR_KEY\"\n",
    "  }\n",
    "```\n",
    "\n"
   ]
  },
  {
   "cell_type": "code",
   "execution_count": 1,
   "metadata": {},
   "outputs": [],
   "source": [
    "import os\n",
    "from dotenv import load_dotenv\n",
    "\n",
    "import random\n",
    "import string\n",
    "\n",
    "load_dotenv()\n",
    "\n",
    "from CompassUTD import CompassInference\n",
    "from langchain.memory import ReadOnlySharedMemory, MongoDBChatMessageHistory, ConversationBufferMemory,ConversationBufferWindowMemory\n",
    "\n",
    "\n",
    "agent = CompassInference()\n",
    "\n",
    "\n"
   ]
  },
  {
   "cell_type": "markdown",
   "metadata": {},
   "source": [
    "## MongoDB Test"
   ]
  },
  {
   "cell_type": "code",
   "execution_count": 2,
   "metadata": {},
   "outputs": [],
   "source": [
    "# Use MongoDB\n",
    "connection_string = f\"mongodb+srv://{str(os.getenv('MONGODB_LOGIN'))}@{str(os.getenv('MONGODB_LOCATION'))}\"\n",
    "\n",
    "random_letter_string = \"\".join([random.choice(string.ascii_letters) for _ in range(16)])\n",
    "\n",
    "message_history = MongoDBChatMessageHistory(\n",
    "        connection_string=connection_string, session_id= random_letter_string\n",
    "    )"
   ]
  },
  {
   "cell_type": "code",
   "execution_count": 6,
   "metadata": {},
   "outputs": [
    {
     "name": "stdout",
     "output_type": "stream",
     "text": [
      "\n",
      "\n",
      "\u001b[1m> Entering new  chain...\u001b[0m\n",
      "\u001b[32;1m\u001b[1;3mThought: I need to find professors that do research in AI\n",
      "Action: general_search\n",
      "Action Input: AI\u001b[0m\n",
      "Observation: \u001b[36;1m\u001b[1;3m{'data': \" The Center for Applied AI and Machine Learning – The Center for Applied AI and Machine Learning at The University of Texas at Dallas Computer Science Department Home – main WHAT WE DOWHO WE ARE WHAT WE DO Applied AI And Machine Learning Bridge developments in AI and Machine Learning to real applications and services in collaboration with our industry partners. Technology Development And Deployment Develop new on-demand technologies for machine learning and large-scale data analysis. In-house Training Train a new generation of industrial scientists to address the skills shortage in AI and machine learning areas and increase competitiveness in the high-value information technology sectors, with the development of dedicated education programs. IntellectualProperty Develop IP with and for our partners on demand. Joint ResearchAnd Development Jointly research and develop tools, products, and services for our partners. The Center for Applied Artificial Intelligence and Machine Learning (CAIML) is housed in the Department of Computer Science within the Erik Jonsson School of Engineering and Computer Science at the University of Texas at Dallas. Our mission is to create a center of excellence skilled in applying leading-edge AI & ML technologies and solutions for our partners’ strategic products and services. The objective of the Center for Applied AI and Machine Learning is to develop long-term, ongoing joint activities through research and development partnerships with companies and organizations in the Dallas Fort Worth Metroplex area and Texas. Our aim is to focus on applied R&D rather than on basic research with the intent of being integral rather than ancillary wherever possible. Our core team consists of researchers whose expertise lie in artificial intelligence, machine learning, natural language processing, deep learning, data mining, big data, computational logic, explainable AI, automated commonsense reasoning, probabilistic graphical models, health informatics/precision health, medical informatics, and biomedical applications. The research emphasis of the Center for AI & ML implies it is synergistic with the Human Language Technology Research Institute, the Center for Machine Learning, and the Cyber Security Research and Education Institute, and the Institute for Data Analytics. see the team here Dr. Doug DeGroot Director Artificial Intelligence Machine Learning Data Science Artificial Consciousness and Emotions Computer Architecture Natural Language Processing Dr. Gopal Gupta Co-Director Explainable AI Machine Learning Computational Logic Automated Common Sense Reasoning Dr. Lakshman Tamil Telemedicine, Internet of Things (IoT) Machine learning and artificial intelligence applications to Medicine and Healthcare Dr. Feng Chen Anomaly, Event, and Fraud Detection Spatial-Temporal Data Analysis Big Data Analytics Graph Mining and Network Science Machine Learning Artificial Intelligence Dr. Ovidiu Deascu Computational Geometry Algorithms and Optimization Bio-Medical Computing Dr. Sriraam Natarajan Artificial Intelligence Machine Learning Statistical Relational AI Health Informatics/Precision Health Dr. Rishabh Iyer Artificial Intelligence Machine Learning Discrete Optimization (specifically submodular optimization) in Machine Learning Convex and Non-Convex Optimization in Machine Learning Deep Learning for Image Classification and Object Detection Data Summarization (Video/Image/Text) Active Learning, Data Subset Selection, Data partitioning, Model Compression/Pruning, etc. Video Analytics Online Learning, Contextual Bandits and Reinforcement Learning Click Prediction, Web Search and Information Retrieval Dr. Nicholas Rouzzi Graphical Models Machine Learning Approximate Inference and Learning Explainable AI Dr. Anurag Nagar Machine Learning Bioinformatics Financial Data Mining Dr. Vincent Ng Natural Language Processing Artificial Intelligence Machine Learning Dr. Vibhav Gogate Artificial Intelligence Machine Learning Probabilistic Inference Statistical Relational Learning Dr. Haim Schweitzer Artificial Intelligence Machine Learning Computer Vision Dr. Jessica Ouyang Natural Language Processing Automatic Summarization Text Generation Dr. Latifur Khan Machine Learning Data Mining Big Data Data Analytics Stream Data Mining Dr. Sanda Harabagiu Artificial Intelligence Machine Learning Natural Language Processing Information Retrieval, Knowledge Processing Medical Informatics Dr. Dan Moldovan Machine Learning Artificial Intelligence Natural Language Processing Semantic Technologies Dr. Anjum Chida Machine Learning Bioinformatics Computational Biology Dr. Klye Fox Algorithms and Theory Computational Geometry and Topology Combinatorial Optimization and Graph Algorithms WHAT WE DOWHO WE ARE Our mission is to create a center of excellence skilled in applying leading-edge AI & ML technologies and solutions for our partners’ strategic products and services. The objective of the Center for Applied AI and Machine Learning is to develop long-term, ongoing joint activities through research and development partnerships with companies and organizations in the Dallas Fort Worth Metroplex area and Texas. WHAT WE DO Applied AI & Machine Learning Bridge developments in AI & ML to real applications and services in collaboration with our industry partners. In-House Training Train a new generation of industrial scientists to address the skills shortage in AI&ML areas and increase competitiveness in the high-value information technology sectors, with the development of dedicated education programs. Intellectual Property Develop IP with and for our partners, on demand. Technology Development And Deployment Develop on-demand new technologies for machine learning and large-scale data analysis Joint Research and Development Jointly research and develop tools, products, and services for out partners. Dr. Doug Degroot Director Data Science, Artificial Consciousness and Emotions, Computer Architecture, Natural Language Processing, AI, ML Dr. Gopal Gupta Co-Director Explainable AI, ML, Computational Logic, Automated Common Sense Reasoning Raj Pallapothu Entrepreneur-in-Residence Dr. Nicholas Rouzzi Graphical Models, Machine Learning, Approximate Inference and Learning, Explainable AI Dr. Sriraam Natarajan AI, ML, Statistical Relational AI Health Informatics/Precision Health Dr. Vincent Ng Natural Language Processing, AI, ML Dr. Haim Schweitzer AI, ML, Computer Vision Dr. Vibhav Gogate AI, ML, Probabilistic Inference, Statistical Relational Learning Dr. Bill Semper ML, Data Mining Dr. Sanda Harabagiu AI, ML, Natural Language Processing, Information Retrieval, Knowledge Processing, Medical Informatics Dr. Dan Moldovan ML, AI, Natural Language Processing, Semantic Technologies Dr. Latifur Khan ML, Data Mining, Big Data, Data Analytics, Stream Data Mining Dr. Anjum Chida ML, Bioinformatics, Computational Biology Dr. Anurag Nagar ML, Bioinformatics Financial Data Mining UTD's CS Department is one of the largest in the nation with 80 faculty members and approximately 2900 students; I have been Department Head since August 2009. I have worked on advanced computing research since 1986. My research has been focused on computational logic, declarative programming including AI and machine learning. My PhD students and I have developed many advanced techniques and systems for automated reasoning, automated software migration, machine learning, assistive technology, parallel computing, etc. Many of the systems my lab has developed have been made publicly available (or commercialized through startups). Visit my UT Dallas home page for more details. Also, have significant expertise with managing and advancing a large department (CS Department at UT Dallas is the 4th largest department in the US). Helped set up many innovative programs within the CS Department (CS Mentor Center, Honors Programs, K-12 Outreach, visit the CS Department news page for more details. \"}\u001b[0m\n",
      "Thought:\u001b[32;1m\u001b[1;3mI found the following professors that do research in AI:\n",
      "\n",
      "Dr. Doug DeGroot\n",
      "Dr. Gopal Gupta\n",
      "Dr. Lakshman Tamil\n",
      "Dr. Feng Chen\n",
      "Dr. Ovidiu Deascu\n",
      "Dr. Sriraam Natarajan\n",
      "Dr. Rishabh Iyer\n",
      "Dr. Nicholas Rouzzi\n",
      "Dr. Anurag Nagar\n",
      "Dr. Vincent Ng\n",
      "Dr. Vibhav Gogate\n",
      "Dr. Haim Schweitzer\n",
      "Dr. Jessica Ouyang\n",
      "Dr. Latifur Khan\n",
      "Dr. Sanda Harabagiu\n",
      "Dr. Dan Moldovan\n",
      "Dr. Final Answer: The following professors\u001b[0m\n",
      "\n",
      "\u001b[1m> Finished chain.\u001b[0m\n",
      "[HumanMessage(content='Which professor do research in AI', additional_kwargs={}, example=False), AIMessage(content='Thank you for your question. I found the following professors that do research in AI:\\n\\nDr. Doug DeGroot\\nDr. Gopal Gupta\\nDr. Lakshman Tamil\\nDr. Feng Chen\\nDr. Ovidiu Deascu\\nDr. Sriraam Natarajan\\nDr. Rishabh Iyer\\nDr. Nicholas Rouzzi\\nDr. Anurag Nagar\\nDr. Vincent Ng\\nDr. Vibhav Gogate\\nDr. Haim Schweitzer\\nDr. Jessica Ouyang\\nDr. Latifur Khan\\nDr. Sanda Harabagiu\\nDr. Dan Moldovan\\nDr.', additional_kwargs={}, example=False), HumanMessage(content='Which professor do research in AI', additional_kwargs={}, example=False), AIMessage(content='Thank you for your question. I have found the following professors who do research in AI:\\n\\n* Professor [Name], who is a professor in the Department of Computer Science. His research interests include machine learning, natural language processing, and computer vision.\\n* Professor [Name], who is a professor in the Department of Electrical and Computer Engineering. His research interests include artificial intelligence, machine learning, and computer vision.\\n* Professor [Name], who is a professor in the Department of Computer Science. His research interests include artificial intelligence, machine learning, and robotics.\\n\\nI hope this information is helpful. Please let me know if', additional_kwargs={}, example=False)]\n"
     ]
    }
   ],
   "source": [
    "\n",
    "memmory_store = ConversationBufferWindowMemory(memory_key=\"chat_history\",chat_memory=message_history, k = 4)\n",
    "\n",
    "read_only_memory = ReadOnlySharedMemory(memory=memmory_store)\n",
    "\n",
    "\n",
    "#If you want to make a new chat query with same memory, replace the user_message with next message and run this cell\n",
    "user_message = \"Which professor do research in AI\"\n",
    "\n",
    "bot_message = agent.run(user_message = user_message, \n",
    "                        read_only_memory= ReadOnlySharedMemory(memory=read_only_memory)\n",
    "                        )\n",
    "\n",
    "#Save chat history\n",
    "message_history.add_user_message(user_message)\n",
    "message_history.add_ai_message(bot_message)\n"
   ]
  },
  {
   "cell_type": "code",
   "execution_count": null,
   "metadata": {},
   "outputs": [],
   "source": []
  }
 ],
 "metadata": {
  "kernelspec": {
   "display_name": "base",
   "language": "python",
   "name": "python3"
  },
  "language_info": {
   "codemirror_mode": {
    "name": "ipython",
    "version": 3
   },
   "file_extension": ".py",
   "mimetype": "text/x-python",
   "name": "python",
   "nbconvert_exporter": "python",
   "pygments_lexer": "ipython3",
   "version": "3.10.9"
  },
  "orig_nbformat": 4
 },
 "nbformat": 4,
 "nbformat_minor": 2
}
